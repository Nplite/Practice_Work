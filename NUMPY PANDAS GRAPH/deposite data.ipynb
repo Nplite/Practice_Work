{
 "cells": [
  {
   "cell_type": "code",
   "execution_count": 113,
   "id": "613bb7cd",
   "metadata": {},
   "outputs": [],
   "source": [
    "import pandas as pd\n",
    "import numpy as np\n",
    "import seaborn as sns"
   ]
  },
  {
   "cell_type": "code",
   "execution_count": 114,
   "id": "4132c9e6",
   "metadata": {},
   "outputs": [],
   "source": [
    "df = pd.read_csv('depositsdata_a2.csv')"
   ]
  },
  {
   "cell_type": "code",
   "execution_count": 115,
   "id": "85b6316e",
   "metadata": {},
   "outputs": [
    {
     "data": {
      "text/html": [
       "<div>\n",
       "<style scoped>\n",
       "    .dataframe tbody tr th:only-of-type {\n",
       "        vertical-align: middle;\n",
       "    }\n",
       "\n",
       "    .dataframe tbody tr th {\n",
       "        vertical-align: top;\n",
       "    }\n",
       "\n",
       "    .dataframe thead th {\n",
       "        text-align: right;\n",
       "    }\n",
       "</style>\n",
       "<table border=\"1\" class=\"dataframe\">\n",
       "  <thead>\n",
       "    <tr style=\"text-align: right;\">\n",
       "      <th></th>\n",
       "      <th>DOMAIN</th>\n",
       "      <th>AMOUNT</th>\n",
       "      <th>IDCURRENCY</th>\n",
       "      <th>PLAYER_ID</th>\n",
       "      <th>TIMESTAMP</th>\n",
       "      <th>TIMESTAMP_IU</th>\n",
       "      <th>WEB_MOBILE_CHANNEL</th>\n",
       "    </tr>\n",
       "  </thead>\n",
       "  <tbody>\n",
       "    <tr>\n",
       "      <th>0</th>\n",
       "      <td>BETBOO_TR</td>\n",
       "      <td>100.0</td>\n",
       "      <td>TRY</td>\n",
       "      <td>14433780</td>\n",
       "      <td>01/01/22 17:18</td>\n",
       "      <td>01/01/22</td>\n",
       "      <td>MOB</td>\n",
       "    </tr>\n",
       "    <tr>\n",
       "      <th>1</th>\n",
       "      <td>BETBOO_TR</td>\n",
       "      <td>1000.0</td>\n",
       "      <td>TRY</td>\n",
       "      <td>14195107</td>\n",
       "      <td>01/01/22 17:50</td>\n",
       "      <td>01/01/22</td>\n",
       "      <td>MOB</td>\n",
       "    </tr>\n",
       "    <tr>\n",
       "      <th>2</th>\n",
       "      <td>BETBOO_TR</td>\n",
       "      <td>300.0</td>\n",
       "      <td>TRY</td>\n",
       "      <td>13712463</td>\n",
       "      <td>01/01/22 17:16</td>\n",
       "      <td>01/01/22</td>\n",
       "      <td>MOB</td>\n",
       "    </tr>\n",
       "    <tr>\n",
       "      <th>3</th>\n",
       "      <td>BETBOO_TR</td>\n",
       "      <td>100.0</td>\n",
       "      <td>TRY</td>\n",
       "      <td>14194337</td>\n",
       "      <td>01/01/22 17:53</td>\n",
       "      <td>01/01/22</td>\n",
       "      <td>MOB</td>\n",
       "    </tr>\n",
       "    <tr>\n",
       "      <th>4</th>\n",
       "      <td>BETBOO_TR</td>\n",
       "      <td>100.0</td>\n",
       "      <td>TRY</td>\n",
       "      <td>8367854</td>\n",
       "      <td>01/01/22 17:02</td>\n",
       "      <td>01/01/22</td>\n",
       "      <td>WEB</td>\n",
       "    </tr>\n",
       "  </tbody>\n",
       "</table>\n",
       "</div>"
      ],
      "text/plain": [
       "      DOMAIN  AMOUNT IDCURRENCY  PLAYER_ID       TIMESTAMP TIMESTAMP_IU  \\\n",
       "0  BETBOO_TR   100.0  TRY         14433780  01/01/22 17:18     01/01/22   \n",
       "1  BETBOO_TR  1000.0  TRY         14195107  01/01/22 17:50     01/01/22   \n",
       "2  BETBOO_TR   300.0  TRY         13712463  01/01/22 17:16     01/01/22   \n",
       "3  BETBOO_TR   100.0  TRY         14194337  01/01/22 17:53     01/01/22   \n",
       "4  BETBOO_TR   100.0  TRY          8367854  01/01/22 17:02     01/01/22   \n",
       "\n",
       "  WEB_MOBILE_CHANNEL  \n",
       "0                MOB  \n",
       "1                MOB  \n",
       "2                MOB  \n",
       "3                MOB  \n",
       "4                WEB  "
      ]
     },
     "execution_count": 115,
     "metadata": {},
     "output_type": "execute_result"
    }
   ],
   "source": [
    "df.head()"
   ]
  },
  {
   "cell_type": "code",
   "execution_count": 116,
   "id": "ff98fc4b",
   "metadata": {},
   "outputs": [
    {
     "data": {
      "text/plain": [
       "(32669, 7)"
      ]
     },
     "execution_count": 116,
     "metadata": {},
     "output_type": "execute_result"
    }
   ],
   "source": [
    "df.shape"
   ]
  },
  {
   "cell_type": "code",
   "execution_count": 28,
   "id": "930dcc6a",
   "metadata": {},
   "outputs": [
    {
     "data": {
      "text/plain": [
       "array(['TRY      ', 'USD      ', 'EUR      ', 'GBP      '], dtype=object)"
      ]
     },
     "execution_count": 28,
     "metadata": {},
     "output_type": "execute_result"
    }
   ],
   "source": [
    "df.IDCURRENCY.unique()"
   ]
  },
  {
   "cell_type": "code",
   "execution_count": 29,
   "id": "624db44d",
   "metadata": {},
   "outputs": [
    {
     "data": {
      "text/plain": [
       "array(['MOB', 'WEB'], dtype=object)"
      ]
     },
     "execution_count": 29,
     "metadata": {},
     "output_type": "execute_result"
    }
   ],
   "source": [
    "df.WEB_MOBILE_CHANNEL.unique()"
   ]
  },
  {
   "cell_type": "code",
   "execution_count": 30,
   "id": "09420e59",
   "metadata": {},
   "outputs": [
    {
     "data": {
      "text/plain": [
       "array(['BETBOO_TR'], dtype=object)"
      ]
     },
     "execution_count": 30,
     "metadata": {},
     "output_type": "execute_result"
    }
   ],
   "source": [
    "df.DOMAIN.unique()"
   ]
  },
  {
   "cell_type": "code",
   "execution_count": 31,
   "id": "f7fee462",
   "metadata": {},
   "outputs": [
    {
     "data": {
      "text/plain": [
       "array([ 100.  , 1000.  ,  300.  , ..., 1246.34,  603.63,  149.84])"
      ]
     },
     "execution_count": 31,
     "metadata": {},
     "output_type": "execute_result"
    }
   ],
   "source": [
    "df.AMOUNT.unique()"
   ]
  },
  {
   "cell_type": "code",
   "execution_count": 32,
   "id": "c52c5d9c",
   "metadata": {},
   "outputs": [
    {
     "data": {
      "text/plain": [
       "array(['01/01/22', '02/01/22', '03/01/22', '04/01/22', '05/01/22',\n",
       "       '06/01/22', '07/01/22', '08/01/22', '09/01/22', '10/01/22',\n",
       "       '11/01/22', '12/01/22', '13/01/22', '14/01/22', '15/01/22',\n",
       "       '16/01/22', '17/01/22', '18/01/22', '19/01/22', '20/01/22',\n",
       "       '21/01/22', '22/01/22', '23/01/22', '24/01/22', '25/01/22',\n",
       "       '26/01/22', '27/01/22', '28/01/22', '29/01/22', '30/01/22',\n",
       "       '31/01/22'], dtype=object)"
      ]
     },
     "execution_count": 32,
     "metadata": {},
     "output_type": "execute_result"
    }
   ],
   "source": [
    "df.TIMESTAMP_IU.unique()"
   ]
  },
  {
   "cell_type": "code",
   "execution_count": 33,
   "id": "8426f624",
   "metadata": {},
   "outputs": [
    {
     "data": {
      "text/plain": [
       "(31,)"
      ]
     },
     "execution_count": 33,
     "metadata": {},
     "output_type": "execute_result"
    }
   ],
   "source": [
    "df.TIMESTAMP_IU.unique().shape"
   ]
  },
  {
   "cell_type": "code",
   "execution_count": 34,
   "id": "6cd8efa7",
   "metadata": {},
   "outputs": [
    {
     "data": {
      "text/plain": [
       "array(['01/01/22 17:18', '01/01/22 17:50', '01/01/22 17:16', ...,\n",
       "       '31/01/22 10:33', '31/01/22 10:57', '31/01/22 10:10'], dtype=object)"
      ]
     },
     "execution_count": 34,
     "metadata": {},
     "output_type": "execute_result"
    }
   ],
   "source": [
    "df.TIMESTAMP.unique()"
   ]
  },
  {
   "cell_type": "code",
   "execution_count": 35,
   "id": "b5aae8d7",
   "metadata": {},
   "outputs": [
    {
     "data": {
      "text/plain": [
       "(20817,)"
      ]
     },
     "execution_count": 35,
     "metadata": {},
     "output_type": "execute_result"
    }
   ],
   "source": [
    "df.TIMESTAMP.unique().shape"
   ]
  },
  {
   "cell_type": "code",
   "execution_count": 36,
   "id": "72901321",
   "metadata": {},
   "outputs": [
    {
     "name": "stdout",
     "output_type": "stream",
     "text": [
      "<class 'pandas.core.frame.DataFrame'>\n",
      "RangeIndex: 32669 entries, 0 to 32668\n",
      "Data columns (total 7 columns):\n",
      " #   Column              Non-Null Count  Dtype  \n",
      "---  ------              --------------  -----  \n",
      " 0   DOMAIN              32669 non-null  object \n",
      " 1   AMOUNT              32669 non-null  float64\n",
      " 2   IDCURRENCY          32669 non-null  object \n",
      " 3   PLAYER_ID           32669 non-null  int64  \n",
      " 4   TIMESTAMP           32669 non-null  object \n",
      " 5   TIMESTAMP_IU        32669 non-null  object \n",
      " 6   WEB_MOBILE_CHANNEL  32669 non-null  object \n",
      "dtypes: float64(1), int64(1), object(5)\n",
      "memory usage: 1.7+ MB\n"
     ]
    }
   ],
   "source": [
    "df.info()"
   ]
  },
  {
   "cell_type": "code",
   "execution_count": 37,
   "id": "d5114ca0",
   "metadata": {},
   "outputs": [
    {
     "data": {
      "text/html": [
       "<div>\n",
       "<style scoped>\n",
       "    .dataframe tbody tr th:only-of-type {\n",
       "        vertical-align: middle;\n",
       "    }\n",
       "\n",
       "    .dataframe tbody tr th {\n",
       "        vertical-align: top;\n",
       "    }\n",
       "\n",
       "    .dataframe thead th {\n",
       "        text-align: right;\n",
       "    }\n",
       "</style>\n",
       "<table border=\"1\" class=\"dataframe\">\n",
       "  <thead>\n",
       "    <tr style=\"text-align: right;\">\n",
       "      <th></th>\n",
       "      <th>AMOUNT</th>\n",
       "      <th>PLAYER_ID</th>\n",
       "    </tr>\n",
       "  </thead>\n",
       "  <tbody>\n",
       "    <tr>\n",
       "      <th>count</th>\n",
       "      <td>32669.000000</td>\n",
       "      <td>3.266900e+04</td>\n",
       "    </tr>\n",
       "    <tr>\n",
       "      <th>mean</th>\n",
       "      <td>526.994300</td>\n",
       "      <td>4.030703e+07</td>\n",
       "    </tr>\n",
       "    <tr>\n",
       "      <th>std</th>\n",
       "      <td>1366.039451</td>\n",
       "      <td>5.461309e+07</td>\n",
       "    </tr>\n",
       "    <tr>\n",
       "      <th>min</th>\n",
       "      <td>-2222.000000</td>\n",
       "      <td>8.259951e+06</td>\n",
       "    </tr>\n",
       "    <tr>\n",
       "      <th>25%</th>\n",
       "      <td>100.000000</td>\n",
       "      <td>1.137429e+07</td>\n",
       "    </tr>\n",
       "    <tr>\n",
       "      <th>50%</th>\n",
       "      <td>200.000000</td>\n",
       "      <td>1.401293e+07</td>\n",
       "    </tr>\n",
       "    <tr>\n",
       "      <th>75%</th>\n",
       "      <td>500.000000</td>\n",
       "      <td>1.442268e+07</td>\n",
       "    </tr>\n",
       "    <tr>\n",
       "      <th>max</th>\n",
       "      <td>50000.000000</td>\n",
       "      <td>1.481758e+08</td>\n",
       "    </tr>\n",
       "  </tbody>\n",
       "</table>\n",
       "</div>"
      ],
      "text/plain": [
       "             AMOUNT     PLAYER_ID\n",
       "count  32669.000000  3.266900e+04\n",
       "mean     526.994300  4.030703e+07\n",
       "std     1366.039451  5.461309e+07\n",
       "min    -2222.000000  8.259951e+06\n",
       "25%      100.000000  1.137429e+07\n",
       "50%      200.000000  1.401293e+07\n",
       "75%      500.000000  1.442268e+07\n",
       "max    50000.000000  1.481758e+08"
      ]
     },
     "execution_count": 37,
     "metadata": {},
     "output_type": "execute_result"
    }
   ],
   "source": [
    "df.describe()"
   ]
  },
  {
   "cell_type": "markdown",
   "id": "c0fc0c5b",
   "metadata": {},
   "source": [
    "### Q1 - What is the weekly bet retention of customers? Week 1 is the week in which the customer has placed the first bet. For example, if a customer placed a bet on 01/01/2021, that week becomes his first week. We want to see if the customers in their week 1, carry forward and place a bet in week 2 and 3 and so on."
   ]
  },
  {
   "cell_type": "raw",
   "id": "ad809138",
   "metadata": {},
   "source": [
    "\"\"\"Note: The bet retention for each customer has to be calculated from the first bet date. Show the output as a heatmap with annotations and your heatmap should be triangular in the end. Refer to the image attached below to understand how a triangular dataset for retention looks like.\"\"\""
   ]
  },
  {
   "cell_type": "code",
   "execution_count": 92,
   "id": "aa00d605",
   "metadata": {},
   "outputs": [],
   "source": [
    "df1 = df.copy()"
   ]
  },
  {
   "cell_type": "code",
   "execution_count": 144,
   "id": "12e3ac11",
   "metadata": {},
   "outputs": [],
   "source": [
    "df['TIMESTAMP_IU'] = pd.to_datetime(df[\"TIMESTAMP_IU\"])"
   ]
  },
  {
   "cell_type": "code",
   "execution_count": 145,
   "id": "ca881ba9",
   "metadata": {},
   "outputs": [],
   "source": [
    "#df['time'] = df[['time']].apply(lambda x: x[0].timestamp(), axis=1).astype(int)"
   ]
  },
  {
   "cell_type": "code",
   "execution_count": 105,
   "id": "4e677cee",
   "metadata": {},
   "outputs": [],
   "source": [
    "#df['TIMESTAMP_IU'] = pd.to_datetime(df['TIMESTAMP_IU']).dt.day_of_week"
   ]
  },
  {
   "cell_type": "code",
   "execution_count": 117,
   "id": "907d1005",
   "metadata": {},
   "outputs": [],
   "source": [
    "df['hire_day_name'] = pd.to_datetime(df['TIMESTAMP_IU']).dt.day_name()"
   ]
  },
  {
   "cell_type": "code",
   "execution_count": 119,
   "id": "25ef2684",
   "metadata": {},
   "outputs": [
    {
     "data": {
      "text/plain": [
       "array(['Saturday', 'Tuesday', 'Friday', 'Sunday', 'Wednesday', 'Monday',\n",
       "       'Thursday'], dtype=object)"
      ]
     },
     "execution_count": 119,
     "metadata": {},
     "output_type": "execute_result"
    }
   ],
   "source": [
    "df['hire_day_name'].unique()"
   ]
  },
  {
   "cell_type": "code",
   "execution_count": 120,
   "id": "8085b3f5",
   "metadata": {},
   "outputs": [
    {
     "data": {
      "text/html": [
       "<div>\n",
       "<style scoped>\n",
       "    .dataframe tbody tr th:only-of-type {\n",
       "        vertical-align: middle;\n",
       "    }\n",
       "\n",
       "    .dataframe tbody tr th {\n",
       "        vertical-align: top;\n",
       "    }\n",
       "\n",
       "    .dataframe thead th {\n",
       "        text-align: right;\n",
       "    }\n",
       "</style>\n",
       "<table border=\"1\" class=\"dataframe\">\n",
       "  <thead>\n",
       "    <tr style=\"text-align: right;\">\n",
       "      <th></th>\n",
       "      <th>DOMAIN</th>\n",
       "      <th>AMOUNT</th>\n",
       "      <th>IDCURRENCY</th>\n",
       "      <th>PLAYER_ID</th>\n",
       "      <th>TIMESTAMP</th>\n",
       "      <th>TIMESTAMP_IU</th>\n",
       "      <th>WEB_MOBILE_CHANNEL</th>\n",
       "      <th>hire_day_name</th>\n",
       "    </tr>\n",
       "  </thead>\n",
       "  <tbody>\n",
       "    <tr>\n",
       "      <th>0</th>\n",
       "      <td>BETBOO_TR</td>\n",
       "      <td>100.0</td>\n",
       "      <td>TRY</td>\n",
       "      <td>14433780</td>\n",
       "      <td>01/01/22 17:18</td>\n",
       "      <td>01/01/22</td>\n",
       "      <td>MOB</td>\n",
       "      <td>Saturday</td>\n",
       "    </tr>\n",
       "    <tr>\n",
       "      <th>1</th>\n",
       "      <td>BETBOO_TR</td>\n",
       "      <td>1000.0</td>\n",
       "      <td>TRY</td>\n",
       "      <td>14195107</td>\n",
       "      <td>01/01/22 17:50</td>\n",
       "      <td>01/01/22</td>\n",
       "      <td>MOB</td>\n",
       "      <td>Saturday</td>\n",
       "    </tr>\n",
       "    <tr>\n",
       "      <th>2</th>\n",
       "      <td>BETBOO_TR</td>\n",
       "      <td>300.0</td>\n",
       "      <td>TRY</td>\n",
       "      <td>13712463</td>\n",
       "      <td>01/01/22 17:16</td>\n",
       "      <td>01/01/22</td>\n",
       "      <td>MOB</td>\n",
       "      <td>Saturday</td>\n",
       "    </tr>\n",
       "    <tr>\n",
       "      <th>3</th>\n",
       "      <td>BETBOO_TR</td>\n",
       "      <td>100.0</td>\n",
       "      <td>TRY</td>\n",
       "      <td>14194337</td>\n",
       "      <td>01/01/22 17:53</td>\n",
       "      <td>01/01/22</td>\n",
       "      <td>MOB</td>\n",
       "      <td>Saturday</td>\n",
       "    </tr>\n",
       "    <tr>\n",
       "      <th>4</th>\n",
       "      <td>BETBOO_TR</td>\n",
       "      <td>100.0</td>\n",
       "      <td>TRY</td>\n",
       "      <td>8367854</td>\n",
       "      <td>01/01/22 17:02</td>\n",
       "      <td>01/01/22</td>\n",
       "      <td>WEB</td>\n",
       "      <td>Saturday</td>\n",
       "    </tr>\n",
       "    <tr>\n",
       "      <th>...</th>\n",
       "      <td>...</td>\n",
       "      <td>...</td>\n",
       "      <td>...</td>\n",
       "      <td>...</td>\n",
       "      <td>...</td>\n",
       "      <td>...</td>\n",
       "      <td>...</td>\n",
       "      <td>...</td>\n",
       "    </tr>\n",
       "    <tr>\n",
       "      <th>32664</th>\n",
       "      <td>BETBOO_TR</td>\n",
       "      <td>5000.0</td>\n",
       "      <td>TRY</td>\n",
       "      <td>147050141</td>\n",
       "      <td>31/01/22 10:33</td>\n",
       "      <td>31/01/22</td>\n",
       "      <td>MOB</td>\n",
       "      <td>Monday</td>\n",
       "    </tr>\n",
       "    <tr>\n",
       "      <th>32665</th>\n",
       "      <td>BETBOO_TR</td>\n",
       "      <td>50.0</td>\n",
       "      <td>TRY</td>\n",
       "      <td>147956811</td>\n",
       "      <td>31/01/22 10:57</td>\n",
       "      <td>31/01/22</td>\n",
       "      <td>MOB</td>\n",
       "      <td>Monday</td>\n",
       "    </tr>\n",
       "    <tr>\n",
       "      <th>32666</th>\n",
       "      <td>BETBOO_TR</td>\n",
       "      <td>300.0</td>\n",
       "      <td>TRY</td>\n",
       "      <td>11620392</td>\n",
       "      <td>31/01/22 10:07</td>\n",
       "      <td>31/01/22</td>\n",
       "      <td>MOB</td>\n",
       "      <td>Monday</td>\n",
       "    </tr>\n",
       "    <tr>\n",
       "      <th>32667</th>\n",
       "      <td>BETBOO_TR</td>\n",
       "      <td>100.0</td>\n",
       "      <td>TRY</td>\n",
       "      <td>147982961</td>\n",
       "      <td>31/01/22 10:10</td>\n",
       "      <td>31/01/22</td>\n",
       "      <td>MOB</td>\n",
       "      <td>Monday</td>\n",
       "    </tr>\n",
       "    <tr>\n",
       "      <th>32668</th>\n",
       "      <td>BETBOO_TR</td>\n",
       "      <td>4200.0</td>\n",
       "      <td>TRY</td>\n",
       "      <td>148139041</td>\n",
       "      <td>31/01/22 10:29</td>\n",
       "      <td>31/01/22</td>\n",
       "      <td>MOB</td>\n",
       "      <td>Monday</td>\n",
       "    </tr>\n",
       "  </tbody>\n",
       "</table>\n",
       "<p>32669 rows × 8 columns</p>\n",
       "</div>"
      ],
      "text/plain": [
       "          DOMAIN  AMOUNT IDCURRENCY  PLAYER_ID       TIMESTAMP TIMESTAMP_IU  \\\n",
       "0      BETBOO_TR   100.0  TRY         14433780  01/01/22 17:18     01/01/22   \n",
       "1      BETBOO_TR  1000.0  TRY         14195107  01/01/22 17:50     01/01/22   \n",
       "2      BETBOO_TR   300.0  TRY         13712463  01/01/22 17:16     01/01/22   \n",
       "3      BETBOO_TR   100.0  TRY         14194337  01/01/22 17:53     01/01/22   \n",
       "4      BETBOO_TR   100.0  TRY          8367854  01/01/22 17:02     01/01/22   \n",
       "...          ...     ...        ...        ...             ...          ...   \n",
       "32664  BETBOO_TR  5000.0  TRY        147050141  31/01/22 10:33     31/01/22   \n",
       "32665  BETBOO_TR    50.0  TRY        147956811  31/01/22 10:57     31/01/22   \n",
       "32666  BETBOO_TR   300.0  TRY         11620392  31/01/22 10:07     31/01/22   \n",
       "32667  BETBOO_TR   100.0  TRY        147982961  31/01/22 10:10     31/01/22   \n",
       "32668  BETBOO_TR  4200.0  TRY        148139041  31/01/22 10:29     31/01/22   \n",
       "\n",
       "      WEB_MOBILE_CHANNEL hire_day_name  \n",
       "0                    MOB      Saturday  \n",
       "1                    MOB      Saturday  \n",
       "2                    MOB      Saturday  \n",
       "3                    MOB      Saturday  \n",
       "4                    WEB      Saturday  \n",
       "...                  ...           ...  \n",
       "32664                MOB        Monday  \n",
       "32665                MOB        Monday  \n",
       "32666                MOB        Monday  \n",
       "32667                MOB        Monday  \n",
       "32668                MOB        Monday  \n",
       "\n",
       "[32669 rows x 8 columns]"
      ]
     },
     "execution_count": 120,
     "metadata": {},
     "output_type": "execute_result"
    }
   ],
   "source": [
    "df"
   ]
  },
  {
   "cell_type": "code",
   "execution_count": 121,
   "id": "e03fb91c",
   "metadata": {},
   "outputs": [],
   "source": [
    "df['hire_weekday']= (df['TIMESTAMP_IU']).astype('datetime64').dt.day_of_week"
   ]
  },
  {
   "cell_type": "code",
   "execution_count": 146,
   "id": "c93d29ae",
   "metadata": {},
   "outputs": [
    {
     "name": "stdout",
     "output_type": "stream",
     "text": [
      "<class 'pandas.core.frame.DataFrame'>\n",
      "RangeIndex: 32669 entries, 0 to 32668\n",
      "Data columns (total 10 columns):\n",
      " #   Column              Non-Null Count  Dtype         \n",
      "---  ------              --------------  -----         \n",
      " 0   DOMAIN              32669 non-null  object        \n",
      " 1   AMOUNT              32669 non-null  float64       \n",
      " 2   IDCURRENCY          32669 non-null  object        \n",
      " 3   PLAYER_ID           32669 non-null  int64         \n",
      " 4   TIMESTAMP           32669 non-null  object        \n",
      " 5   TIMESTAMP_IU        32669 non-null  datetime64[ns]\n",
      " 6   WEB_MOBILE_CHANNEL  32669 non-null  object        \n",
      " 7   hire_day_name       32669 non-null  object        \n",
      " 8   hire_weekday        32669 non-null  int64         \n",
      " 9   wom                 31 non-null     float64       \n",
      "dtypes: datetime64[ns](1), float64(2), int64(2), object(5)\n",
      "memory usage: 2.5+ MB\n"
     ]
    }
   ],
   "source": [
    "df.info()"
   ]
  },
  {
   "cell_type": "code",
   "execution_count": 147,
   "id": "9781fad8",
   "metadata": {},
   "outputs": [
    {
     "ename": "AttributeError",
     "evalue": "'Series' object has no attribute 'isocalendar'",
     "output_type": "error",
     "traceback": [
      "\u001b[1;31m---------------------------------------------------------------------------\u001b[0m",
      "\u001b[1;31mAttributeError\u001b[0m                            Traceback (most recent call last)",
      "\u001b[1;32m<ipython-input-147-1e96e890bd3c>\u001b[0m in \u001b[0;36m<module>\u001b[1;34m\u001b[0m\n\u001b[0;32m      1\u001b[0m \u001b[1;31m#data = pd.DataFrame(pd.date_range(df['TIMESTAMP_IU'][0], periods = 31, freq ='D'))\u001b[0m\u001b[1;33m\u001b[0m\u001b[1;33m\u001b[0m\u001b[1;33m\u001b[0m\u001b[0m\n\u001b[1;32m----> 2\u001b[1;33m \u001b[0mdf\u001b[0m\u001b[1;33m[\u001b[0m\u001b[1;34m'wom'\u001b[0m\u001b[1;33m]\u001b[0m \u001b[1;33m=\u001b[0m\u001b[0mdf\u001b[0m\u001b[1;33m[\u001b[0m\u001b[1;34m'TIMESTAMP_IU'\u001b[0m\u001b[1;33m]\u001b[0m\u001b[1;33m.\u001b[0m\u001b[0misocalendar\u001b[0m\u001b[1;33m(\u001b[0m\u001b[1;33m)\u001b[0m\u001b[1;33m[\u001b[0m\u001b[1;36m1\u001b[0m\u001b[1;33m]\u001b[0m\u001b[1;33m\u001b[0m\u001b[1;33m\u001b[0m\u001b[0m\n\u001b[0m",
      "\u001b[1;32m~\\anaconda3\\lib\\site-packages\\pandas\\core\\generic.py\u001b[0m in \u001b[0;36m__getattr__\u001b[1;34m(self, name)\u001b[0m\n\u001b[0;32m   5463\u001b[0m             \u001b[1;32mif\u001b[0m \u001b[0mself\u001b[0m\u001b[1;33m.\u001b[0m\u001b[0m_info_axis\u001b[0m\u001b[1;33m.\u001b[0m\u001b[0m_can_hold_identifiers_and_holds_name\u001b[0m\u001b[1;33m(\u001b[0m\u001b[0mname\u001b[0m\u001b[1;33m)\u001b[0m\u001b[1;33m:\u001b[0m\u001b[1;33m\u001b[0m\u001b[1;33m\u001b[0m\u001b[0m\n\u001b[0;32m   5464\u001b[0m                 \u001b[1;32mreturn\u001b[0m \u001b[0mself\u001b[0m\u001b[1;33m[\u001b[0m\u001b[0mname\u001b[0m\u001b[1;33m]\u001b[0m\u001b[1;33m\u001b[0m\u001b[1;33m\u001b[0m\u001b[0m\n\u001b[1;32m-> 5465\u001b[1;33m             \u001b[1;32mreturn\u001b[0m \u001b[0mobject\u001b[0m\u001b[1;33m.\u001b[0m\u001b[0m__getattribute__\u001b[0m\u001b[1;33m(\u001b[0m\u001b[0mself\u001b[0m\u001b[1;33m,\u001b[0m \u001b[0mname\u001b[0m\u001b[1;33m)\u001b[0m\u001b[1;33m\u001b[0m\u001b[1;33m\u001b[0m\u001b[0m\n\u001b[0m\u001b[0;32m   5466\u001b[0m \u001b[1;33m\u001b[0m\u001b[0m\n\u001b[0;32m   5467\u001b[0m     \u001b[1;32mdef\u001b[0m \u001b[0m__setattr__\u001b[0m\u001b[1;33m(\u001b[0m\u001b[0mself\u001b[0m\u001b[1;33m,\u001b[0m \u001b[0mname\u001b[0m\u001b[1;33m:\u001b[0m \u001b[0mstr\u001b[0m\u001b[1;33m,\u001b[0m \u001b[0mvalue\u001b[0m\u001b[1;33m)\u001b[0m \u001b[1;33m->\u001b[0m \u001b[1;32mNone\u001b[0m\u001b[1;33m:\u001b[0m\u001b[1;33m\u001b[0m\u001b[1;33m\u001b[0m\u001b[0m\n",
      "\u001b[1;31mAttributeError\u001b[0m: 'Series' object has no attribute 'isocalendar'"
     ]
    }
   ],
   "source": [
    "#data = pd.DataFrame(pd.date_range(df['TIMESTAMP_IU'][0], periods = 31, freq ='D'))\n",
    "df['wom'] =df['TIMESTAMP_IU'].isocalendar()[1]"
   ]
  },
  {
   "cell_type": "code",
   "execution_count": 132,
   "id": "e8a3a07e",
   "metadata": {},
   "outputs": [
    {
     "data": {
      "text/plain": [
       "0        1.0\n",
       "1        1.0\n",
       "2        1.0\n",
       "3        1.0\n",
       "4        1.0\n",
       "        ... \n",
       "32664    NaN\n",
       "32665    NaN\n",
       "32666    NaN\n",
       "32667    NaN\n",
       "32668    NaN\n",
       "Name: wom, Length: 32669, dtype: float64"
      ]
     },
     "execution_count": 132,
     "metadata": {},
     "output_type": "execute_result"
    }
   ],
   "source": [
    "df['wom']"
   ]
  },
  {
   "cell_type": "code",
   "execution_count": null,
   "id": "6983f33a",
   "metadata": {},
   "outputs": [],
   "source": []
  },
  {
   "cell_type": "code",
   "execution_count": null,
   "id": "00dbaade",
   "metadata": {},
   "outputs": [],
   "source": []
  },
  {
   "cell_type": "code",
   "execution_count": null,
   "id": "5e6bc12d",
   "metadata": {},
   "outputs": [],
   "source": []
  },
  {
   "cell_type": "code",
   "execution_count": null,
   "id": "069e8387",
   "metadata": {},
   "outputs": [],
   "source": []
  },
  {
   "cell_type": "code",
   "execution_count": null,
   "id": "085d727d",
   "metadata": {},
   "outputs": [],
   "source": []
  },
  {
   "cell_type": "code",
   "execution_count": null,
   "id": "4f00b7f0",
   "metadata": {},
   "outputs": [],
   "source": []
  },
  {
   "cell_type": "code",
   "execution_count": null,
   "id": "baaf6dfc",
   "metadata": {},
   "outputs": [],
   "source": []
  },
  {
   "cell_type": "code",
   "execution_count": null,
   "id": "1f3ec5a1",
   "metadata": {},
   "outputs": [],
   "source": []
  },
  {
   "cell_type": "code",
   "execution_count": null,
   "id": "6bb1fc44",
   "metadata": {},
   "outputs": [],
   "source": []
  },
  {
   "cell_type": "code",
   "execution_count": null,
   "id": "8c438643",
   "metadata": {},
   "outputs": [],
   "source": []
  },
  {
   "cell_type": "code",
   "execution_count": null,
   "id": "401ee9e8",
   "metadata": {},
   "outputs": [],
   "source": []
  },
  {
   "cell_type": "code",
   "execution_count": null,
   "id": "90d30eb6",
   "metadata": {},
   "outputs": [],
   "source": []
  },
  {
   "cell_type": "markdown",
   "id": "c97ce167",
   "metadata": {},
   "source": [
    "### Q2 - What are the first & last touch points of all the customers in the system (eg: first channel, first deposit amount, last bet, last deposit, last channel etc.) Store the data for each customer at a customer level in a separate table and call it \"first_touch_point\" & \"last_touch_point\". "
   ]
  },
  {
   "cell_type": "markdown",
   "id": "78011ab1",
   "metadata": {},
   "source": [
    "#### Note: We want you to extract the first entry in the system in the bets and deposits data for each customer (common) and put them in a separate table. So each customer has one unique entry with all their first touch points and similarly a second table with a unique entry for all their last touch points."
   ]
  },
  {
   "cell_type": "code",
   "execution_count": 148,
   "id": "de74e8b3",
   "metadata": {},
   "outputs": [
    {
     "data": {
      "text/html": [
       "<div>\n",
       "<style scoped>\n",
       "    .dataframe tbody tr th:only-of-type {\n",
       "        vertical-align: middle;\n",
       "    }\n",
       "\n",
       "    .dataframe tbody tr th {\n",
       "        vertical-align: top;\n",
       "    }\n",
       "\n",
       "    .dataframe thead th {\n",
       "        text-align: right;\n",
       "    }\n",
       "</style>\n",
       "<table border=\"1\" class=\"dataframe\">\n",
       "  <thead>\n",
       "    <tr style=\"text-align: right;\">\n",
       "      <th></th>\n",
       "      <th>DOMAIN</th>\n",
       "      <th>AMOUNT</th>\n",
       "      <th>IDCURRENCY</th>\n",
       "      <th>PLAYER_ID</th>\n",
       "      <th>TIMESTAMP</th>\n",
       "      <th>TIMESTAMP_IU</th>\n",
       "      <th>WEB_MOBILE_CHANNEL</th>\n",
       "      <th>hire_day_name</th>\n",
       "      <th>hire_weekday</th>\n",
       "      <th>wom</th>\n",
       "    </tr>\n",
       "  </thead>\n",
       "  <tbody>\n",
       "    <tr>\n",
       "      <th>0</th>\n",
       "      <td>BETBOO_TR</td>\n",
       "      <td>100.0</td>\n",
       "      <td>TRY</td>\n",
       "      <td>14433780</td>\n",
       "      <td>01/01/22 17:18</td>\n",
       "      <td>2022-01-01</td>\n",
       "      <td>MOB</td>\n",
       "      <td>Saturday</td>\n",
       "      <td>5</td>\n",
       "      <td>1.0</td>\n",
       "    </tr>\n",
       "    <tr>\n",
       "      <th>1</th>\n",
       "      <td>BETBOO_TR</td>\n",
       "      <td>1000.0</td>\n",
       "      <td>TRY</td>\n",
       "      <td>14195107</td>\n",
       "      <td>01/01/22 17:50</td>\n",
       "      <td>2022-01-01</td>\n",
       "      <td>MOB</td>\n",
       "      <td>Saturday</td>\n",
       "      <td>5</td>\n",
       "      <td>1.0</td>\n",
       "    </tr>\n",
       "    <tr>\n",
       "      <th>2</th>\n",
       "      <td>BETBOO_TR</td>\n",
       "      <td>300.0</td>\n",
       "      <td>TRY</td>\n",
       "      <td>13712463</td>\n",
       "      <td>01/01/22 17:16</td>\n",
       "      <td>2022-01-01</td>\n",
       "      <td>MOB</td>\n",
       "      <td>Saturday</td>\n",
       "      <td>5</td>\n",
       "      <td>1.0</td>\n",
       "    </tr>\n",
       "    <tr>\n",
       "      <th>3</th>\n",
       "      <td>BETBOO_TR</td>\n",
       "      <td>100.0</td>\n",
       "      <td>TRY</td>\n",
       "      <td>14194337</td>\n",
       "      <td>01/01/22 17:53</td>\n",
       "      <td>2022-01-01</td>\n",
       "      <td>MOB</td>\n",
       "      <td>Saturday</td>\n",
       "      <td>5</td>\n",
       "      <td>1.0</td>\n",
       "    </tr>\n",
       "    <tr>\n",
       "      <th>4</th>\n",
       "      <td>BETBOO_TR</td>\n",
       "      <td>100.0</td>\n",
       "      <td>TRY</td>\n",
       "      <td>8367854</td>\n",
       "      <td>01/01/22 17:02</td>\n",
       "      <td>2022-01-01</td>\n",
       "      <td>WEB</td>\n",
       "      <td>Saturday</td>\n",
       "      <td>5</td>\n",
       "      <td>1.0</td>\n",
       "    </tr>\n",
       "    <tr>\n",
       "      <th>...</th>\n",
       "      <td>...</td>\n",
       "      <td>...</td>\n",
       "      <td>...</td>\n",
       "      <td>...</td>\n",
       "      <td>...</td>\n",
       "      <td>...</td>\n",
       "      <td>...</td>\n",
       "      <td>...</td>\n",
       "      <td>...</td>\n",
       "      <td>...</td>\n",
       "    </tr>\n",
       "    <tr>\n",
       "      <th>32664</th>\n",
       "      <td>BETBOO_TR</td>\n",
       "      <td>5000.0</td>\n",
       "      <td>TRY</td>\n",
       "      <td>147050141</td>\n",
       "      <td>31/01/22 10:33</td>\n",
       "      <td>2022-01-31</td>\n",
       "      <td>MOB</td>\n",
       "      <td>Monday</td>\n",
       "      <td>0</td>\n",
       "      <td>NaN</td>\n",
       "    </tr>\n",
       "    <tr>\n",
       "      <th>32665</th>\n",
       "      <td>BETBOO_TR</td>\n",
       "      <td>50.0</td>\n",
       "      <td>TRY</td>\n",
       "      <td>147956811</td>\n",
       "      <td>31/01/22 10:57</td>\n",
       "      <td>2022-01-31</td>\n",
       "      <td>MOB</td>\n",
       "      <td>Monday</td>\n",
       "      <td>0</td>\n",
       "      <td>NaN</td>\n",
       "    </tr>\n",
       "    <tr>\n",
       "      <th>32666</th>\n",
       "      <td>BETBOO_TR</td>\n",
       "      <td>300.0</td>\n",
       "      <td>TRY</td>\n",
       "      <td>11620392</td>\n",
       "      <td>31/01/22 10:07</td>\n",
       "      <td>2022-01-31</td>\n",
       "      <td>MOB</td>\n",
       "      <td>Monday</td>\n",
       "      <td>0</td>\n",
       "      <td>NaN</td>\n",
       "    </tr>\n",
       "    <tr>\n",
       "      <th>32667</th>\n",
       "      <td>BETBOO_TR</td>\n",
       "      <td>100.0</td>\n",
       "      <td>TRY</td>\n",
       "      <td>147982961</td>\n",
       "      <td>31/01/22 10:10</td>\n",
       "      <td>2022-01-31</td>\n",
       "      <td>MOB</td>\n",
       "      <td>Monday</td>\n",
       "      <td>0</td>\n",
       "      <td>NaN</td>\n",
       "    </tr>\n",
       "    <tr>\n",
       "      <th>32668</th>\n",
       "      <td>BETBOO_TR</td>\n",
       "      <td>4200.0</td>\n",
       "      <td>TRY</td>\n",
       "      <td>148139041</td>\n",
       "      <td>31/01/22 10:29</td>\n",
       "      <td>2022-01-31</td>\n",
       "      <td>MOB</td>\n",
       "      <td>Monday</td>\n",
       "      <td>0</td>\n",
       "      <td>NaN</td>\n",
       "    </tr>\n",
       "  </tbody>\n",
       "</table>\n",
       "<p>32669 rows × 10 columns</p>\n",
       "</div>"
      ],
      "text/plain": [
       "          DOMAIN  AMOUNT IDCURRENCY  PLAYER_ID       TIMESTAMP TIMESTAMP_IU  \\\n",
       "0      BETBOO_TR   100.0  TRY         14433780  01/01/22 17:18   2022-01-01   \n",
       "1      BETBOO_TR  1000.0  TRY         14195107  01/01/22 17:50   2022-01-01   \n",
       "2      BETBOO_TR   300.0  TRY         13712463  01/01/22 17:16   2022-01-01   \n",
       "3      BETBOO_TR   100.0  TRY         14194337  01/01/22 17:53   2022-01-01   \n",
       "4      BETBOO_TR   100.0  TRY          8367854  01/01/22 17:02   2022-01-01   \n",
       "...          ...     ...        ...        ...             ...          ...   \n",
       "32664  BETBOO_TR  5000.0  TRY        147050141  31/01/22 10:33   2022-01-31   \n",
       "32665  BETBOO_TR    50.0  TRY        147956811  31/01/22 10:57   2022-01-31   \n",
       "32666  BETBOO_TR   300.0  TRY         11620392  31/01/22 10:07   2022-01-31   \n",
       "32667  BETBOO_TR   100.0  TRY        147982961  31/01/22 10:10   2022-01-31   \n",
       "32668  BETBOO_TR  4200.0  TRY        148139041  31/01/22 10:29   2022-01-31   \n",
       "\n",
       "      WEB_MOBILE_CHANNEL hire_day_name  hire_weekday  wom  \n",
       "0                    MOB      Saturday             5  1.0  \n",
       "1                    MOB      Saturday             5  1.0  \n",
       "2                    MOB      Saturday             5  1.0  \n",
       "3                    MOB      Saturday             5  1.0  \n",
       "4                    WEB      Saturday             5  1.0  \n",
       "...                  ...           ...           ...  ...  \n",
       "32664                MOB        Monday             0  NaN  \n",
       "32665                MOB        Monday             0  NaN  \n",
       "32666                MOB        Monday             0  NaN  \n",
       "32667                MOB        Monday             0  NaN  \n",
       "32668                MOB        Monday             0  NaN  \n",
       "\n",
       "[32669 rows x 10 columns]"
      ]
     },
     "execution_count": 148,
     "metadata": {},
     "output_type": "execute_result"
    }
   ],
   "source": [
    "df"
   ]
  },
  {
   "cell_type": "code",
   "execution_count": null,
   "id": "44f5b2fb",
   "metadata": {},
   "outputs": [],
   "source": []
  },
  {
   "cell_type": "code",
   "execution_count": null,
   "id": "6bcb026d",
   "metadata": {},
   "outputs": [],
   "source": []
  },
  {
   "cell_type": "code",
   "execution_count": null,
   "id": "33d3fdb1",
   "metadata": {},
   "outputs": [],
   "source": []
  },
  {
   "cell_type": "markdown",
   "id": "028b6c6e",
   "metadata": {},
   "source": [
    "### Q3 - Find out the Cash bet amount for each customer (i.e. at a customer level) and store the same in a separate table:\n",
    "\n",
    "Day 1 to Day 3 i.e. Total Cash Bet amount in the first 3 days\n",
    "Day 4 to Day 7 i.e. Total Cash Bet amount in the next 4 days and so on\n",
    "Day 8 to Day 14\n",
    "Day 15 to Day 28\n",
    "Beyond Day 28 till date"
   ]
  },
  {
   "cell_type": "code",
   "execution_count": 58,
   "id": "10d6d247",
   "metadata": {},
   "outputs": [
    {
     "data": {
      "text/html": [
       "<div>\n",
       "<style scoped>\n",
       "    .dataframe tbody tr th:only-of-type {\n",
       "        vertical-align: middle;\n",
       "    }\n",
       "\n",
       "    .dataframe tbody tr th {\n",
       "        vertical-align: top;\n",
       "    }\n",
       "\n",
       "    .dataframe thead th {\n",
       "        text-align: right;\n",
       "    }\n",
       "</style>\n",
       "<table border=\"1\" class=\"dataframe\">\n",
       "  <thead>\n",
       "    <tr style=\"text-align: right;\">\n",
       "      <th></th>\n",
       "      <th>DOMAIN</th>\n",
       "      <th>AMOUNT</th>\n",
       "      <th>IDCURRENCY</th>\n",
       "      <th>PLAYER_ID</th>\n",
       "      <th>TIMESTAMP</th>\n",
       "      <th>TIMESTAMP_IU</th>\n",
       "      <th>WEB_MOBILE_CHANNEL</th>\n",
       "    </tr>\n",
       "  </thead>\n",
       "  <tbody>\n",
       "    <tr>\n",
       "      <th>25</th>\n",
       "      <td>BETBOO_TR</td>\n",
       "      <td>80.0</td>\n",
       "      <td>TRY</td>\n",
       "      <td>14255174</td>\n",
       "      <td>01/01/22 17:44</td>\n",
       "      <td>01/01/22</td>\n",
       "      <td>MOB</td>\n",
       "    </tr>\n",
       "    <tr>\n",
       "      <th>26</th>\n",
       "      <td>BETBOO_TR</td>\n",
       "      <td>200.0</td>\n",
       "      <td>TRY</td>\n",
       "      <td>14045971</td>\n",
       "      <td>01/01/22 17:00</td>\n",
       "      <td>01/01/22</td>\n",
       "      <td>MOB</td>\n",
       "    </tr>\n",
       "    <tr>\n",
       "      <th>27</th>\n",
       "      <td>BETBOO_TR</td>\n",
       "      <td>25.0</td>\n",
       "      <td>TRY</td>\n",
       "      <td>14455673</td>\n",
       "      <td>01/01/22 17:24</td>\n",
       "      <td>01/01/22</td>\n",
       "      <td>MOB</td>\n",
       "    </tr>\n",
       "    <tr>\n",
       "      <th>28</th>\n",
       "      <td>BETBOO_TR</td>\n",
       "      <td>750.0</td>\n",
       "      <td>TRY</td>\n",
       "      <td>14414638</td>\n",
       "      <td>01/01/22 17:31</td>\n",
       "      <td>01/01/22</td>\n",
       "      <td>MOB</td>\n",
       "    </tr>\n",
       "    <tr>\n",
       "      <th>29</th>\n",
       "      <td>BETBOO_TR</td>\n",
       "      <td>1330.0</td>\n",
       "      <td>TRY</td>\n",
       "      <td>14267558</td>\n",
       "      <td>01/01/22 17:17</td>\n",
       "      <td>01/01/22</td>\n",
       "      <td>MOB</td>\n",
       "    </tr>\n",
       "    <tr>\n",
       "      <th>...</th>\n",
       "      <td>...</td>\n",
       "      <td>...</td>\n",
       "      <td>...</td>\n",
       "      <td>...</td>\n",
       "      <td>...</td>\n",
       "      <td>...</td>\n",
       "      <td>...</td>\n",
       "    </tr>\n",
       "    <tr>\n",
       "      <th>32664</th>\n",
       "      <td>BETBOO_TR</td>\n",
       "      <td>5000.0</td>\n",
       "      <td>TRY</td>\n",
       "      <td>147050141</td>\n",
       "      <td>31/01/22 10:33</td>\n",
       "      <td>31/01/22</td>\n",
       "      <td>MOB</td>\n",
       "    </tr>\n",
       "    <tr>\n",
       "      <th>32665</th>\n",
       "      <td>BETBOO_TR</td>\n",
       "      <td>50.0</td>\n",
       "      <td>TRY</td>\n",
       "      <td>147956811</td>\n",
       "      <td>31/01/22 10:57</td>\n",
       "      <td>31/01/22</td>\n",
       "      <td>MOB</td>\n",
       "    </tr>\n",
       "    <tr>\n",
       "      <th>32666</th>\n",
       "      <td>BETBOO_TR</td>\n",
       "      <td>300.0</td>\n",
       "      <td>TRY</td>\n",
       "      <td>11620392</td>\n",
       "      <td>31/01/22 10:07</td>\n",
       "      <td>31/01/22</td>\n",
       "      <td>MOB</td>\n",
       "    </tr>\n",
       "    <tr>\n",
       "      <th>32667</th>\n",
       "      <td>BETBOO_TR</td>\n",
       "      <td>100.0</td>\n",
       "      <td>TRY</td>\n",
       "      <td>147982961</td>\n",
       "      <td>31/01/22 10:10</td>\n",
       "      <td>31/01/22</td>\n",
       "      <td>MOB</td>\n",
       "    </tr>\n",
       "    <tr>\n",
       "      <th>32668</th>\n",
       "      <td>BETBOO_TR</td>\n",
       "      <td>4200.0</td>\n",
       "      <td>TRY</td>\n",
       "      <td>148139041</td>\n",
       "      <td>31/01/22 10:29</td>\n",
       "      <td>31/01/22</td>\n",
       "      <td>MOB</td>\n",
       "    </tr>\n",
       "  </tbody>\n",
       "</table>\n",
       "<p>32644 rows × 7 columns</p>\n",
       "</div>"
      ],
      "text/plain": [
       "          DOMAIN  AMOUNT IDCURRENCY  PLAYER_ID       TIMESTAMP TIMESTAMP_IU  \\\n",
       "25     BETBOO_TR    80.0  TRY         14255174  01/01/22 17:44     01/01/22   \n",
       "26     BETBOO_TR   200.0  TRY         14045971  01/01/22 17:00     01/01/22   \n",
       "27     BETBOO_TR    25.0  TRY         14455673  01/01/22 17:24     01/01/22   \n",
       "28     BETBOO_TR   750.0  TRY         14414638  01/01/22 17:31     01/01/22   \n",
       "29     BETBOO_TR  1330.0  TRY         14267558  01/01/22 17:17     01/01/22   \n",
       "...          ...     ...        ...        ...             ...          ...   \n",
       "32664  BETBOO_TR  5000.0  TRY        147050141  31/01/22 10:33     31/01/22   \n",
       "32665  BETBOO_TR    50.0  TRY        147956811  31/01/22 10:57     31/01/22   \n",
       "32666  BETBOO_TR   300.0  TRY         11620392  31/01/22 10:07     31/01/22   \n",
       "32667  BETBOO_TR   100.0  TRY        147982961  31/01/22 10:10     31/01/22   \n",
       "32668  BETBOO_TR  4200.0  TRY        148139041  31/01/22 10:29     31/01/22   \n",
       "\n",
       "      WEB_MOBILE_CHANNEL  \n",
       "25                   MOB  \n",
       "26                   MOB  \n",
       "27                   MOB  \n",
       "28                   MOB  \n",
       "29                   MOB  \n",
       "...                  ...  \n",
       "32664                MOB  \n",
       "32665                MOB  \n",
       "32666                MOB  \n",
       "32667                MOB  \n",
       "32668                MOB  \n",
       "\n",
       "[32644 rows x 7 columns]"
      ]
     },
     "execution_count": 58,
     "metadata": {},
     "output_type": "execute_result"
    }
   ],
   "source": [
    "df.loc[25:'IDCURRENCY']"
   ]
  },
  {
   "cell_type": "code",
   "execution_count": 40,
   "id": "05e1f56d",
   "metadata": {},
   "outputs": [],
   "source": [
    "rslt_df = df[df['TIMESTAMP_IU'] == '01/01/22']\n",
    "rslt_df1 = df[df['TIMESTAMP_IU'] == '02/01/22']\n",
    "rslt_df2 = df[df['TIMESTAMP_IU'] == '03/01/22']\n",
    "set1 = pd.concat([rslt_df,rslt_df1,rslt_df2])\n",
    "mask = set1.groupby('PLAYER_ID')['AMOUNT'].count().sort_values()\n",
    "mask"
   ]
  },
  {
   "cell_type": "code",
   "execution_count": null,
   "id": "d4fd51d3",
   "metadata": {},
   "outputs": [],
   "source": []
  },
  {
   "cell_type": "code",
   "execution_count": null,
   "id": "6fb5b6f4",
   "metadata": {},
   "outputs": [],
   "source": []
  },
  {
   "cell_type": "code",
   "execution_count": null,
   "id": "03867949",
   "metadata": {},
   "outputs": [],
   "source": []
  },
  {
   "cell_type": "code",
   "execution_count": 51,
   "id": "1e26da8f",
   "metadata": {},
   "outputs": [
    {
     "data": {
      "text/plain": [
       "PLAYER_ID\n",
       "147885461     1\n",
       "14410560      1\n",
       "14413690      1\n",
       "12650794      1\n",
       "14413928      1\n",
       "             ..\n",
       "11453713     21\n",
       "14048000     21\n",
       "14169558     25\n",
       "145219201    27\n",
       "145143671    62\n",
       "Name: AMOUNT, Length: 996, dtype: int64"
      ]
     },
     "execution_count": 51,
     "metadata": {},
     "output_type": "execute_result"
    }
   ],
   "source": [
    "alpha_df = df[df['TIMESTAMP_IU'] == '04/01/22']\n",
    "alpha_df1 = df[df['TIMESTAMP_IU'] == '05/01/22']\n",
    "alpha_df2 = df[df['TIMESTAMP_IU'] == '06/01/22']\n",
    "alpha_df3 = df[df['TIMESTAMP_IU'] == '07/01/22']\n",
    "set2 = pd.concat([alpha_df,alpha_df1,alpha_df2])\n",
    "mask1 = set2.groupby('PLAYER_ID')['AMOUNT'].count().sort_values()\n",
    "mask1"
   ]
  },
  {
   "cell_type": "code",
   "execution_count": 80,
   "id": "63481750",
   "metadata": {},
   "outputs": [
    {
     "data": {
      "text/plain": [
       "PLAYER_ID\n",
       "148002191     1\n",
       "13945870      1\n",
       "147400591     1\n",
       "13965683      1\n",
       "13978644      1\n",
       "             ..\n",
       "14195107     36\n",
       "14213053     36\n",
       "14169558     47\n",
       "11443966     51\n",
       "145143671    89\n",
       "Name: AMOUNT, Length: 1574, dtype: int64"
      ]
     },
     "execution_count": 80,
     "metadata": {},
     "output_type": "execute_result"
    }
   ],
   "source": [
    "alpha_df = df[df['TIMESTAMP_IU'] == '08/01/22']\n",
    "alpha_df1 = df[df['TIMESTAMP_IU'] == '09/01/22']\n",
    "alpha_df2 = df[df['TIMESTAMP_IU'] == '10/01/22']\n",
    "alpha_df3 = df[df['TIMESTAMP_IU'] == '11/01/22']\n",
    "alpha_df4 = df[df['TIMESTAMP_IU'] == '12/01/22']\n",
    "alpha_df5 = df[df['TIMESTAMP_IU'] == '13/01/22']\n",
    "alpha_df6 = df[df['TIMESTAMP_IU'] == '14/01/22']\n",
    "\n",
    "set3 = pd.concat([alpha_df,alpha_df1,alpha_df2,alpha_df3,alpha_df4,alpha_df5,alpha_df6])\n",
    "mask3 = set3.groupby('PLAYER_ID')['AMOUNT'].count().sort_values()\n",
    "mask3"
   ]
  },
  {
   "cell_type": "code",
   "execution_count": 84,
   "id": "170930a6",
   "metadata": {},
   "outputs": [
    {
     "data": {
      "text/html": [
       "<div>\n",
       "<style scoped>\n",
       "    .dataframe tbody tr th:only-of-type {\n",
       "        vertical-align: middle;\n",
       "    }\n",
       "\n",
       "    .dataframe tbody tr th {\n",
       "        vertical-align: top;\n",
       "    }\n",
       "\n",
       "    .dataframe thead th {\n",
       "        text-align: right;\n",
       "    }\n",
       "</style>\n",
       "<table border=\"1\" class=\"dataframe\">\n",
       "  <thead>\n",
       "    <tr style=\"text-align: right;\">\n",
       "      <th></th>\n",
       "      <th>DOMAIN</th>\n",
       "      <th>AMOUNT</th>\n",
       "      <th>IDCURRENCY</th>\n",
       "      <th>PLAYER_ID</th>\n",
       "      <th>TIMESTAMP</th>\n",
       "      <th>TIMESTAMP_IU</th>\n",
       "      <th>WEB_MOBILE_CHANNEL</th>\n",
       "    </tr>\n",
       "  </thead>\n",
       "  <tbody>\n",
       "    <tr>\n",
       "      <th>14648</th>\n",
       "      <td>BETBOO_TR</td>\n",
       "      <td>463.08</td>\n",
       "      <td>TRY</td>\n",
       "      <td>8262306</td>\n",
       "      <td>15/01/22 17:55</td>\n",
       "      <td>15/01/22</td>\n",
       "      <td>MOB</td>\n",
       "    </tr>\n",
       "    <tr>\n",
       "      <th>14649</th>\n",
       "      <td>BETBOO_TR</td>\n",
       "      <td>50.00</td>\n",
       "      <td>TRY</td>\n",
       "      <td>8278004</td>\n",
       "      <td>15/01/22 17:26</td>\n",
       "      <td>15/01/22</td>\n",
       "      <td>MOB</td>\n",
       "    </tr>\n",
       "    <tr>\n",
       "      <th>14650</th>\n",
       "      <td>BETBOO_TR</td>\n",
       "      <td>70.00</td>\n",
       "      <td>TRY</td>\n",
       "      <td>13726343</td>\n",
       "      <td>15/01/22 17:31</td>\n",
       "      <td>15/01/22</td>\n",
       "      <td>MOB</td>\n",
       "    </tr>\n",
       "    <tr>\n",
       "      <th>14651</th>\n",
       "      <td>BETBOO_TR</td>\n",
       "      <td>400.00</td>\n",
       "      <td>TRY</td>\n",
       "      <td>13823625</td>\n",
       "      <td>15/01/22 17:28</td>\n",
       "      <td>15/01/22</td>\n",
       "      <td>MOB</td>\n",
       "    </tr>\n",
       "    <tr>\n",
       "      <th>14652</th>\n",
       "      <td>BETBOO_TR</td>\n",
       "      <td>100.00</td>\n",
       "      <td>TRY</td>\n",
       "      <td>8410527</td>\n",
       "      <td>15/01/22 17:53</td>\n",
       "      <td>15/01/22</td>\n",
       "      <td>MOB</td>\n",
       "    </tr>\n",
       "    <tr>\n",
       "      <th>...</th>\n",
       "      <td>...</td>\n",
       "      <td>...</td>\n",
       "      <td>...</td>\n",
       "      <td>...</td>\n",
       "      <td>...</td>\n",
       "      <td>...</td>\n",
       "      <td>...</td>\n",
       "    </tr>\n",
       "    <tr>\n",
       "      <th>29713</th>\n",
       "      <td>BETBOO_TR</td>\n",
       "      <td>50.00</td>\n",
       "      <td>TRY</td>\n",
       "      <td>9438089</td>\n",
       "      <td>28/01/22 10:58</td>\n",
       "      <td>28/01/22</td>\n",
       "      <td>MOB</td>\n",
       "    </tr>\n",
       "    <tr>\n",
       "      <th>29714</th>\n",
       "      <td>BETBOO_TR</td>\n",
       "      <td>170.00</td>\n",
       "      <td>TRY</td>\n",
       "      <td>14413928</td>\n",
       "      <td>28/01/22 10:02</td>\n",
       "      <td>28/01/22</td>\n",
       "      <td>MOB</td>\n",
       "    </tr>\n",
       "    <tr>\n",
       "      <th>29715</th>\n",
       "      <td>BETBOO_TR</td>\n",
       "      <td>50.00</td>\n",
       "      <td>TRY</td>\n",
       "      <td>8410527</td>\n",
       "      <td>28/01/22 10:08</td>\n",
       "      <td>28/01/22</td>\n",
       "      <td>MOB</td>\n",
       "    </tr>\n",
       "    <tr>\n",
       "      <th>29716</th>\n",
       "      <td>BETBOO_TR</td>\n",
       "      <td>105.00</td>\n",
       "      <td>TRY</td>\n",
       "      <td>14255174</td>\n",
       "      <td>28/01/22 10:39</td>\n",
       "      <td>28/01/22</td>\n",
       "      <td>MOB</td>\n",
       "    </tr>\n",
       "    <tr>\n",
       "      <th>29717</th>\n",
       "      <td>BETBOO_TR</td>\n",
       "      <td>200.00</td>\n",
       "      <td>TRY</td>\n",
       "      <td>14169558</td>\n",
       "      <td>28/01/22 10:23</td>\n",
       "      <td>28/01/22</td>\n",
       "      <td>MOB</td>\n",
       "    </tr>\n",
       "  </tbody>\n",
       "</table>\n",
       "<p>15070 rows × 7 columns</p>\n",
       "</div>"
      ],
      "text/plain": [
       "          DOMAIN  AMOUNT IDCURRENCY  PLAYER_ID       TIMESTAMP TIMESTAMP_IU  \\\n",
       "14648  BETBOO_TR  463.08  TRY          8262306  15/01/22 17:55     15/01/22   \n",
       "14649  BETBOO_TR   50.00  TRY          8278004  15/01/22 17:26     15/01/22   \n",
       "14650  BETBOO_TR   70.00  TRY         13726343  15/01/22 17:31     15/01/22   \n",
       "14651  BETBOO_TR  400.00  TRY         13823625  15/01/22 17:28     15/01/22   \n",
       "14652  BETBOO_TR  100.00  TRY          8410527  15/01/22 17:53     15/01/22   \n",
       "...          ...     ...        ...        ...             ...          ...   \n",
       "29713  BETBOO_TR   50.00  TRY          9438089  28/01/22 10:58     28/01/22   \n",
       "29714  BETBOO_TR  170.00  TRY         14413928  28/01/22 10:02     28/01/22   \n",
       "29715  BETBOO_TR   50.00  TRY          8410527  28/01/22 10:08     28/01/22   \n",
       "29716  BETBOO_TR  105.00  TRY         14255174  28/01/22 10:39     28/01/22   \n",
       "29717  BETBOO_TR  200.00  TRY         14169558  28/01/22 10:23     28/01/22   \n",
       "\n",
       "      WEB_MOBILE_CHANNEL  \n",
       "14648                MOB  \n",
       "14649                MOB  \n",
       "14650                MOB  \n",
       "14651                MOB  \n",
       "14652                MOB  \n",
       "...                  ...  \n",
       "29713                MOB  \n",
       "29714                MOB  \n",
       "29715                MOB  \n",
       "29716                MOB  \n",
       "29717                MOB  \n",
       "\n",
       "[15070 rows x 7 columns]"
      ]
     },
     "execution_count": 84,
     "metadata": {},
     "output_type": "execute_result"
    }
   ],
   "source": [
    "alpha_df = df[df['TIMESTAMP_IU'] == '15/01/22']\n",
    "alpha_df1 = df[df['TIMESTAMP_IU'] == '16/01/22']\n",
    "alpha_df2 = df[df['TIMESTAMP_IU'] == '17/01/22']\n",
    "alpha_df3 = df[df['TIMESTAMP_IU'] == '18/01/22']\n",
    "alpha_df4 = df[df['TIMESTAMP_IU'] == '19/01/22']\n",
    "alpha_df5 = df[df['TIMESTAMP_IU'] == '20/01/22']\n",
    "alpha_df6 = df[df['TIMESTAMP_IU'] == '21/01/22']\n",
    "alpha_df7 = df[df['TIMESTAMP_IU'] == '22/01/22']\n",
    "alpha_df8 = df[df['TIMESTAMP_IU'] == '23/01/22']\n",
    "alpha_df9 = df[df['TIMESTAMP_IU'] == '24/01/22']\n",
    "alpha_df10 = df[df['TIMESTAMP_IU'] == '25/01/22']\n",
    "alpha_df11 = df[df['TIMESTAMP_IU'] == '26/01/22']\n",
    "alpha_df12 = df[df['TIMESTAMP_IU'] == '27/01/22']\n",
    "alpha_df13 = df[df['TIMESTAMP_IU'] == '28/01/22']\n",
    "\n",
    "set4 = pd.concat([alpha_df,alpha_df1,alpha_df2,alpha_df3,alpha_df4,alpha_df5,alpha_df6,alpha_df7,alpha_df8,alpha_df9,alpha_df10,alpha_df11,alpha_df12,alpha_df13])\n",
    "set4"
   ]
  },
  {
   "cell_type": "code",
   "execution_count": 85,
   "id": "1157d79e",
   "metadata": {},
   "outputs": [
    {
     "data": {
      "text/plain": [
       "PLAYER_ID\n",
       "14211757       1\n",
       "14357512       1\n",
       "14353093       1\n",
       "14352050       1\n",
       "14351772       1\n",
       "            ... \n",
       "11472902      66\n",
       "13937477      79\n",
       "14255174      90\n",
       "11443966     115\n",
       "145143671    181\n",
       "Name: AMOUNT, Length: 2179, dtype: int64"
      ]
     },
     "execution_count": 85,
     "metadata": {},
     "output_type": "execute_result"
    }
   ],
   "source": [
    "mask4 = set4.groupby('PLAYER_ID')['AMOUNT'].count().sort_values()\n",
    "mask4"
   ]
  },
  {
   "cell_type": "code",
   "execution_count": null,
   "id": "4152bdc5",
   "metadata": {},
   "outputs": [],
   "source": []
  },
  {
   "cell_type": "code",
   "execution_count": null,
   "id": "0c6c3958",
   "metadata": {},
   "outputs": [],
   "source": []
  },
  {
   "cell_type": "code",
   "execution_count": null,
   "id": "c406e4a1",
   "metadata": {},
   "outputs": [],
   "source": []
  },
  {
   "cell_type": "code",
   "execution_count": null,
   "id": "07157916",
   "metadata": {},
   "outputs": [],
   "source": []
  },
  {
   "cell_type": "code",
   "execution_count": 88,
   "id": "9a96829d",
   "metadata": {},
   "outputs": [
    {
     "data": {
      "text/plain": [
       "PLAYER_ID\n",
       "148175761     1\n",
       "13811306      1\n",
       "13770008      1\n",
       "13742317      1\n",
       "13734151      1\n",
       "             ..\n",
       "14169558     24\n",
       "11222063     26\n",
       "14099249     28\n",
       "14255174     33\n",
       "11443966     36\n",
       "Name: AMOUNT, Length: 1084, dtype: int64"
      ]
     },
     "execution_count": 88,
     "metadata": {},
     "output_type": "execute_result"
    }
   ],
   "source": [
    "alpha_df = df[df['TIMESTAMP_IU'] == '28/01/22']\n",
    "alpha_df1 = df[df['TIMESTAMP_IU'] == '29/01/22']\n",
    "alpha_df2 = df[df['TIMESTAMP_IU'] == '30/01/22']\n",
    "alpha_df3 = df[df['TIMESTAMP_IU'] == '31/01/22']\n",
    "set5 = pd.concat([alpha_df,alpha_df1,alpha_df2,alpha_df3])\n",
    "mask5 = set5.groupby('PLAYER_ID')['AMOUNT'].count().sort_values()\n",
    "mask5"
   ]
  },
  {
   "cell_type": "code",
   "execution_count": 90,
   "id": "809485c1",
   "metadata": {},
   "outputs": [
    {
     "data": {
      "text/html": [
       "<div>\n",
       "<style scoped>\n",
       "    .dataframe tbody tr th:only-of-type {\n",
       "        vertical-align: middle;\n",
       "    }\n",
       "\n",
       "    .dataframe tbody tr th {\n",
       "        vertical-align: top;\n",
       "    }\n",
       "\n",
       "    .dataframe thead th {\n",
       "        text-align: right;\n",
       "    }\n",
       "</style>\n",
       "<table border=\"1\" class=\"dataframe\">\n",
       "  <thead>\n",
       "    <tr style=\"text-align: right;\">\n",
       "      <th></th>\n",
       "      <th>DOMAIN</th>\n",
       "      <th>AMOUNT</th>\n",
       "      <th>IDCURRENCY</th>\n",
       "      <th>PLAYER_ID</th>\n",
       "      <th>TIMESTAMP</th>\n",
       "      <th>TIMESTAMP_IU</th>\n",
       "      <th>WEB_MOBILE_CHANNEL</th>\n",
       "    </tr>\n",
       "  </thead>\n",
       "  <tbody>\n",
       "    <tr>\n",
       "      <th>28763</th>\n",
       "      <td>BETBOO_TR</td>\n",
       "      <td>97.0</td>\n",
       "      <td>TRY</td>\n",
       "      <td>14324535</td>\n",
       "      <td>28/01/22 17:32</td>\n",
       "      <td>28/01/22</td>\n",
       "      <td>WEB</td>\n",
       "    </tr>\n",
       "    <tr>\n",
       "      <th>28764</th>\n",
       "      <td>BETBOO_TR</td>\n",
       "      <td>100.0</td>\n",
       "      <td>TRY</td>\n",
       "      <td>9817793</td>\n",
       "      <td>28/01/22 17:55</td>\n",
       "      <td>28/01/22</td>\n",
       "      <td>WEB</td>\n",
       "    </tr>\n",
       "    <tr>\n",
       "      <th>28765</th>\n",
       "      <td>BETBOO_TR</td>\n",
       "      <td>100.0</td>\n",
       "      <td>TRY</td>\n",
       "      <td>10820313</td>\n",
       "      <td>28/01/22 17:13</td>\n",
       "      <td>28/01/22</td>\n",
       "      <td>MOB</td>\n",
       "    </tr>\n",
       "    <tr>\n",
       "      <th>28766</th>\n",
       "      <td>BETBOO_TR</td>\n",
       "      <td>300.0</td>\n",
       "      <td>TRY</td>\n",
       "      <td>11472902</td>\n",
       "      <td>28/01/22 17:55</td>\n",
       "      <td>28/01/22</td>\n",
       "      <td>MOB</td>\n",
       "    </tr>\n",
       "    <tr>\n",
       "      <th>28767</th>\n",
       "      <td>BETBOO_TR</td>\n",
       "      <td>100.0</td>\n",
       "      <td>TRY</td>\n",
       "      <td>12288839</td>\n",
       "      <td>28/01/22 17:26</td>\n",
       "      <td>28/01/22</td>\n",
       "      <td>MOB</td>\n",
       "    </tr>\n",
       "    <tr>\n",
       "      <th>...</th>\n",
       "      <td>...</td>\n",
       "      <td>...</td>\n",
       "      <td>...</td>\n",
       "      <td>...</td>\n",
       "      <td>...</td>\n",
       "      <td>...</td>\n",
       "      <td>...</td>\n",
       "    </tr>\n",
       "    <tr>\n",
       "      <th>32664</th>\n",
       "      <td>BETBOO_TR</td>\n",
       "      <td>5000.0</td>\n",
       "      <td>TRY</td>\n",
       "      <td>147050141</td>\n",
       "      <td>31/01/22 10:33</td>\n",
       "      <td>31/01/22</td>\n",
       "      <td>MOB</td>\n",
       "    </tr>\n",
       "    <tr>\n",
       "      <th>32665</th>\n",
       "      <td>BETBOO_TR</td>\n",
       "      <td>50.0</td>\n",
       "      <td>TRY</td>\n",
       "      <td>147956811</td>\n",
       "      <td>31/01/22 10:57</td>\n",
       "      <td>31/01/22</td>\n",
       "      <td>MOB</td>\n",
       "    </tr>\n",
       "    <tr>\n",
       "      <th>32666</th>\n",
       "      <td>BETBOO_TR</td>\n",
       "      <td>300.0</td>\n",
       "      <td>TRY</td>\n",
       "      <td>11620392</td>\n",
       "      <td>31/01/22 10:07</td>\n",
       "      <td>31/01/22</td>\n",
       "      <td>MOB</td>\n",
       "    </tr>\n",
       "    <tr>\n",
       "      <th>32667</th>\n",
       "      <td>BETBOO_TR</td>\n",
       "      <td>100.0</td>\n",
       "      <td>TRY</td>\n",
       "      <td>147982961</td>\n",
       "      <td>31/01/22 10:10</td>\n",
       "      <td>31/01/22</td>\n",
       "      <td>MOB</td>\n",
       "    </tr>\n",
       "    <tr>\n",
       "      <th>32668</th>\n",
       "      <td>BETBOO_TR</td>\n",
       "      <td>4200.0</td>\n",
       "      <td>TRY</td>\n",
       "      <td>148139041</td>\n",
       "      <td>31/01/22 10:29</td>\n",
       "      <td>31/01/22</td>\n",
       "      <td>MOB</td>\n",
       "    </tr>\n",
       "  </tbody>\n",
       "</table>\n",
       "<p>3906 rows × 7 columns</p>\n",
       "</div>"
      ],
      "text/plain": [
       "          DOMAIN  AMOUNT IDCURRENCY  PLAYER_ID       TIMESTAMP TIMESTAMP_IU  \\\n",
       "28763  BETBOO_TR    97.0  TRY         14324535  28/01/22 17:32     28/01/22   \n",
       "28764  BETBOO_TR   100.0  TRY          9817793  28/01/22 17:55     28/01/22   \n",
       "28765  BETBOO_TR   100.0  TRY         10820313  28/01/22 17:13     28/01/22   \n",
       "28766  BETBOO_TR   300.0  TRY         11472902  28/01/22 17:55     28/01/22   \n",
       "28767  BETBOO_TR   100.0  TRY         12288839  28/01/22 17:26     28/01/22   \n",
       "...          ...     ...        ...        ...             ...          ...   \n",
       "32664  BETBOO_TR  5000.0  TRY        147050141  31/01/22 10:33     31/01/22   \n",
       "32665  BETBOO_TR    50.0  TRY        147956811  31/01/22 10:57     31/01/22   \n",
       "32666  BETBOO_TR   300.0  TRY         11620392  31/01/22 10:07     31/01/22   \n",
       "32667  BETBOO_TR   100.0  TRY        147982961  31/01/22 10:10     31/01/22   \n",
       "32668  BETBOO_TR  4200.0  TRY        148139041  31/01/22 10:29     31/01/22   \n",
       "\n",
       "      WEB_MOBILE_CHANNEL  \n",
       "28763                WEB  \n",
       "28764                WEB  \n",
       "28765                MOB  \n",
       "28766                MOB  \n",
       "28767                MOB  \n",
       "...                  ...  \n",
       "32664                MOB  \n",
       "32665                MOB  \n",
       "32666                MOB  \n",
       "32667                MOB  \n",
       "32668                MOB  \n",
       "\n",
       "[3906 rows x 7 columns]"
      ]
     },
     "execution_count": 90,
     "metadata": {},
     "output_type": "execute_result"
    }
   ],
   "source": [
    "set5"
   ]
  },
  {
   "cell_type": "code",
   "execution_count": null,
   "id": "1663876d",
   "metadata": {},
   "outputs": [],
   "source": []
  }
 ],
 "metadata": {
  "kernelspec": {
   "display_name": "Python 3",
   "language": "python",
   "name": "python3"
  },
  "language_info": {
   "codemirror_mode": {
    "name": "ipython",
    "version": 3
   },
   "file_extension": ".py",
   "mimetype": "text/x-python",
   "name": "python",
   "nbconvert_exporter": "python",
   "pygments_lexer": "ipython3",
   "version": "3.8.8"
  }
 },
 "nbformat": 4,
 "nbformat_minor": 5
}
