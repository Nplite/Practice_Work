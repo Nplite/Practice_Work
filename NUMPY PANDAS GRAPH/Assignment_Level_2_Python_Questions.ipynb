{
 "cells": [
  {
   "cell_type": "code",
   "execution_count": null,
   "id": "36081c63",
   "metadata": {
    "ExecuteTime": {
     "end_time": "2022-10-11T12:24:08.805845Z",
     "start_time": "2022-10-11T12:24:08.803031Z"
    },
    "id": "36081c63"
   },
   "outputs": [],
   "source": [
    "## A triangular data looks like the image given below (for question Q1)"
   ]
  },
  {
   "cell_type": "markdown",
   "id": "6cf9b9ed",
   "metadata": {
    "id": "6cf9b9ed"
   },
   "source": [
    "Load the data in the files - depositsdata_a2.csv and betsdata_a2.csv\n",
    "\n",
    "\n",
    "Tasks:\n",
    "\n",
    "\n",
    "Q1 - What is the weekly bet retention of customers? Week 1 is the week in which the customer has placed the first bet. For example, if a customer placed a bet on 01/01/2021, that week becomes his first week. We want to see if the customers in their week 1, carry forward and place a bet in week 2 and 3 and so on. \n",
    "\n",
    "Do this for all the players who have placed a bet in the respective weeks of the calendar year, and see if they continue to the next week and place a bet again.\n",
    "\n",
    "\n",
    "*Note: The bet retention for each customer has to be calculated from the first bet date. Show the output as a heatmap with annotations and your heatmap should be triangular in the end. Refer to the image attached below to understand how a triangular dataset for retention looks like.*\n",
    "\n",
    "\n",
    "Q2 - What are the first & last touch points of all the customers in the system (eg: first channel, first deposit amount, last bet, last deposit, last channel etc.) Store the data for each customer at a customer level in a separate table and call it \"first_touch_point\" & \"last_touch_point\".\n",
    "\n",
    "*Note: We want you to extract the first entry in the system in the bets and deposits data for each customer (common) and put them in a separate table. So each customer has one unique entry with all their first touch points and similarly a second table with a unique entry for all their last touch points.*\n",
    "\n",
    "\n",
    "Q3 - Find out the Cash bet amount for each customer (i.e. at a customer level) and store the same in a separate table:\n",
    "\n",
    "1. Day 1 to Day 3 i.e. Total Cash Bet amount in the first 3 days\n",
    "2. Day 4 to Day 7 i.e. Total Cash Bet amount in the next 4 days and so on\n",
    "3. Day 8 to Day 14\n",
    "4. Day 15 to Day 28\n",
    "5. Beyond Day 28 till date\n",
    "\n",
    "*Note: Day 1 (base date) in task Q3 is the first deposit date of the customer. Ideally, from the time the customer has placed his first deposit, we want to see the bet amount he's placing in his lifetime for the first 3 days, the next 4 days and so on as mentioned above.*\n",
    "\n",
    "Use the following column to calculate the first deposit date for a customer - TIMESTAMP_IU\n"
   ]
  },
  {
   "cell_type": "markdown",
   "id": "f4958c1b",
   "metadata": {
    "id": "f4958c1b"
   },
   "source": [
    "![Screenshot%202022-10-11%20at%204.14.23%20PM.png](attachment:Screenshot%202022-10-11%20at%204.14.23%20PM.png)"
   ]
  },
  {
   "cell_type": "code",
   "execution_count": null,
   "id": "1a79a41f",
   "metadata": {},
   "outputs": [],
   "source": []
  }
 ],
 "metadata": {
  "colab": {
   "provenance": []
  },
  "kernelspec": {
   "display_name": "Python 3",
   "language": "python",
   "name": "python3"
  },
  "language_info": {
   "codemirror_mode": {
    "name": "ipython",
    "version": 3
   },
   "file_extension": ".py",
   "mimetype": "text/x-python",
   "name": "python",
   "nbconvert_exporter": "python",
   "pygments_lexer": "ipython3",
   "version": "3.8.8"
  },
  "toc": {
   "base_numbering": 1,
   "nav_menu": {},
   "number_sections": true,
   "sideBar": true,
   "skip_h1_title": false,
   "title_cell": "Table of Contents",
   "title_sidebar": "Contents",
   "toc_cell": false,
   "toc_position": {},
   "toc_section_display": true,
   "toc_window_display": false
  }
 },
 "nbformat": 4,
 "nbformat_minor": 5
}
