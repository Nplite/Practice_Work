{
 "cells": [
  {
   "cell_type": "code",
   "execution_count": 43,
   "id": "0c092cd1",
   "metadata": {},
   "outputs": [],
   "source": [
    "import pandas as pd\n",
    "import numpy as np\n",
    "import seaborn as sns\n",
    "import matplotlib.pyplot as plt"
   ]
  },
  {
   "cell_type": "code",
   "execution_count": 44,
   "id": "428aef6b",
   "metadata": {},
   "outputs": [],
   "source": [
    "df = pd.read_csv('D:\\\\INEURON\\\\time series\\\\PH-Sales.csv')"
   ]
  },
  {
   "cell_type": "code",
   "execution_count": 45,
   "id": "b72bc046",
   "metadata": {},
   "outputs": [
    {
     "data": {
      "text/html": [
       "<div>\n",
       "<style scoped>\n",
       "    .dataframe tbody tr th:only-of-type {\n",
       "        vertical-align: middle;\n",
       "    }\n",
       "\n",
       "    .dataframe tbody tr th {\n",
       "        vertical-align: top;\n",
       "    }\n",
       "\n",
       "    .dataframe thead th {\n",
       "        text-align: right;\n",
       "    }\n",
       "</style>\n",
       "<table border=\"1\" class=\"dataframe\">\n",
       "  <thead>\n",
       "    <tr style=\"text-align: right;\">\n",
       "      <th></th>\n",
       "      <th>Month-Year</th>\n",
       "      <th>Number of Tractor Sold</th>\n",
       "    </tr>\n",
       "  </thead>\n",
       "  <tbody>\n",
       "    <tr>\n",
       "      <th>0</th>\n",
       "      <td>Jan-03</td>\n",
       "      <td>141</td>\n",
       "    </tr>\n",
       "    <tr>\n",
       "      <th>1</th>\n",
       "      <td>Feb-03</td>\n",
       "      <td>157</td>\n",
       "    </tr>\n",
       "    <tr>\n",
       "      <th>2</th>\n",
       "      <td>Mar-03</td>\n",
       "      <td>185</td>\n",
       "    </tr>\n",
       "    <tr>\n",
       "      <th>3</th>\n",
       "      <td>Apr-03</td>\n",
       "      <td>199</td>\n",
       "    </tr>\n",
       "    <tr>\n",
       "      <th>4</th>\n",
       "      <td>May-03</td>\n",
       "      <td>203</td>\n",
       "    </tr>\n",
       "    <tr>\n",
       "      <th>...</th>\n",
       "      <td>...</td>\n",
       "      <td>...</td>\n",
       "    </tr>\n",
       "    <tr>\n",
       "      <th>139</th>\n",
       "      <td>Aug-14</td>\n",
       "      <td>848</td>\n",
       "    </tr>\n",
       "    <tr>\n",
       "      <th>140</th>\n",
       "      <td>Sep-14</td>\n",
       "      <td>640</td>\n",
       "    </tr>\n",
       "    <tr>\n",
       "      <th>141</th>\n",
       "      <td>Oct-14</td>\n",
       "      <td>581</td>\n",
       "    </tr>\n",
       "    <tr>\n",
       "      <th>142</th>\n",
       "      <td>Nov-14</td>\n",
       "      <td>519</td>\n",
       "    </tr>\n",
       "    <tr>\n",
       "      <th>143</th>\n",
       "      <td>Dec-14</td>\n",
       "      <td>605</td>\n",
       "    </tr>\n",
       "  </tbody>\n",
       "</table>\n",
       "<p>144 rows × 2 columns</p>\n",
       "</div>"
      ],
      "text/plain": [
       "    Month-Year  Number of Tractor Sold\n",
       "0       Jan-03                     141\n",
       "1       Feb-03                     157\n",
       "2       Mar-03                     185\n",
       "3       Apr-03                     199\n",
       "4       May-03                     203\n",
       "..         ...                     ...\n",
       "139     Aug-14                     848\n",
       "140     Sep-14                     640\n",
       "141     Oct-14                     581\n",
       "142     Nov-14                     519\n",
       "143     Dec-14                     605\n",
       "\n",
       "[144 rows x 2 columns]"
      ]
     },
     "execution_count": 45,
     "metadata": {},
     "output_type": "execute_result"
    }
   ],
   "source": [
    "df"
   ]
  },
  {
   "cell_type": "code",
   "execution_count": 46,
   "id": "ac4962e0",
   "metadata": {},
   "outputs": [
    {
     "name": "stdout",
     "output_type": "stream",
     "text": [
      "<class 'pandas.core.frame.DataFrame'>\n",
      "RangeIndex: 144 entries, 0 to 143\n",
      "Data columns (total 2 columns):\n",
      " #   Column                  Non-Null Count  Dtype \n",
      "---  ------                  --------------  ----- \n",
      " 0   Month-Year              144 non-null    object\n",
      " 1   Number of Tractor Sold  144 non-null    int64 \n",
      "dtypes: int64(1), object(1)\n",
      "memory usage: 2.4+ KB\n"
     ]
    }
   ],
   "source": [
    "df.info()"
   ]
  },
  {
   "cell_type": "code",
   "execution_count": 47,
   "id": "9dc938fb",
   "metadata": {},
   "outputs": [
    {
     "data": {
      "text/plain": [
       "144"
      ]
     },
     "execution_count": 47,
     "metadata": {},
     "output_type": "execute_result"
    }
   ],
   "source": [
    "len(df['Month-Year'])"
   ]
  },
  {
   "cell_type": "code",
   "execution_count": 48,
   "id": "c545c094",
   "metadata": {},
   "outputs": [],
   "source": [
    "dates = pd.date_range(start = '2003/01/01',periods= len(df), freq= 'MS')"
   ]
  },
  {
   "cell_type": "code",
   "execution_count": 49,
   "id": "671065ed",
   "metadata": {},
   "outputs": [
    {
     "data": {
      "text/plain": [
       "144"
      ]
     },
     "execution_count": 49,
     "metadata": {},
     "output_type": "execute_result"
    }
   ],
   "source": [
    "len(dates)"
   ]
  },
  {
   "cell_type": "code",
   "execution_count": 50,
   "id": "0bdc92f8",
   "metadata": {},
   "outputs": [
    {
     "data": {
      "text/plain": [
       "DatetimeIndex(['2003-01-01', '2003-02-01', '2003-03-01', '2003-04-01',\n",
       "               '2003-05-01', '2003-06-01', '2003-07-01', '2003-08-01',\n",
       "               '2003-09-01', '2003-10-01',\n",
       "               ...\n",
       "               '2014-03-01', '2014-04-01', '2014-05-01', '2014-06-01',\n",
       "               '2014-07-01', '2014-08-01', '2014-09-01', '2014-10-01',\n",
       "               '2014-11-01', '2014-12-01'],\n",
       "              dtype='datetime64[ns]', length=144, freq='MS')"
      ]
     },
     "execution_count": 50,
     "metadata": {},
     "output_type": "execute_result"
    }
   ],
   "source": [
    "dates"
   ]
  },
  {
   "cell_type": "code",
   "execution_count": 51,
   "id": "bff31c26",
   "metadata": {},
   "outputs": [
    {
     "data": {
      "text/plain": [
       "Int64Index([ 1,  2,  3,  4,  5,  6,  7,  8,  9, 10,\n",
       "            ...\n",
       "             3,  4,  5,  6,  7,  8,  9, 10, 11, 12],\n",
       "           dtype='int64', length=144)"
      ]
     },
     "execution_count": 51,
     "metadata": {},
     "output_type": "execute_result"
    }
   ],
   "source": [
    "dates.month"
   ]
  },
  {
   "cell_type": "code",
   "execution_count": 52,
   "id": "2e9fc1e4",
   "metadata": {},
   "outputs": [],
   "source": [
    "df['month'] = dates.month"
   ]
  },
  {
   "cell_type": "code",
   "execution_count": 53,
   "id": "d3a61f16",
   "metadata": {},
   "outputs": [],
   "source": [
    "df['year'] = dates.year"
   ]
  },
  {
   "cell_type": "code",
   "execution_count": 54,
   "id": "26a9930f",
   "metadata": {},
   "outputs": [
    {
     "data": {
      "text/html": [
       "<div>\n",
       "<style scoped>\n",
       "    .dataframe tbody tr th:only-of-type {\n",
       "        vertical-align: middle;\n",
       "    }\n",
       "\n",
       "    .dataframe tbody tr th {\n",
       "        vertical-align: top;\n",
       "    }\n",
       "\n",
       "    .dataframe thead th {\n",
       "        text-align: right;\n",
       "    }\n",
       "</style>\n",
       "<table border=\"1\" class=\"dataframe\">\n",
       "  <thead>\n",
       "    <tr style=\"text-align: right;\">\n",
       "      <th></th>\n",
       "      <th>Month-Year</th>\n",
       "      <th>Number of Tractor Sold</th>\n",
       "      <th>month</th>\n",
       "      <th>year</th>\n",
       "    </tr>\n",
       "  </thead>\n",
       "  <tbody>\n",
       "    <tr>\n",
       "      <th>0</th>\n",
       "      <td>Jan-03</td>\n",
       "      <td>141</td>\n",
       "      <td>1</td>\n",
       "      <td>2003</td>\n",
       "    </tr>\n",
       "    <tr>\n",
       "      <th>1</th>\n",
       "      <td>Feb-03</td>\n",
       "      <td>157</td>\n",
       "      <td>2</td>\n",
       "      <td>2003</td>\n",
       "    </tr>\n",
       "    <tr>\n",
       "      <th>2</th>\n",
       "      <td>Mar-03</td>\n",
       "      <td>185</td>\n",
       "      <td>3</td>\n",
       "      <td>2003</td>\n",
       "    </tr>\n",
       "    <tr>\n",
       "      <th>3</th>\n",
       "      <td>Apr-03</td>\n",
       "      <td>199</td>\n",
       "      <td>4</td>\n",
       "      <td>2003</td>\n",
       "    </tr>\n",
       "    <tr>\n",
       "      <th>4</th>\n",
       "      <td>May-03</td>\n",
       "      <td>203</td>\n",
       "      <td>5</td>\n",
       "      <td>2003</td>\n",
       "    </tr>\n",
       "    <tr>\n",
       "      <th>...</th>\n",
       "      <td>...</td>\n",
       "      <td>...</td>\n",
       "      <td>...</td>\n",
       "      <td>...</td>\n",
       "    </tr>\n",
       "    <tr>\n",
       "      <th>139</th>\n",
       "      <td>Aug-14</td>\n",
       "      <td>848</td>\n",
       "      <td>8</td>\n",
       "      <td>2014</td>\n",
       "    </tr>\n",
       "    <tr>\n",
       "      <th>140</th>\n",
       "      <td>Sep-14</td>\n",
       "      <td>640</td>\n",
       "      <td>9</td>\n",
       "      <td>2014</td>\n",
       "    </tr>\n",
       "    <tr>\n",
       "      <th>141</th>\n",
       "      <td>Oct-14</td>\n",
       "      <td>581</td>\n",
       "      <td>10</td>\n",
       "      <td>2014</td>\n",
       "    </tr>\n",
       "    <tr>\n",
       "      <th>142</th>\n",
       "      <td>Nov-14</td>\n",
       "      <td>519</td>\n",
       "      <td>11</td>\n",
       "      <td>2014</td>\n",
       "    </tr>\n",
       "    <tr>\n",
       "      <th>143</th>\n",
       "      <td>Dec-14</td>\n",
       "      <td>605</td>\n",
       "      <td>12</td>\n",
       "      <td>2014</td>\n",
       "    </tr>\n",
       "  </tbody>\n",
       "</table>\n",
       "<p>144 rows × 4 columns</p>\n",
       "</div>"
      ],
      "text/plain": [
       "    Month-Year  Number of Tractor Sold  month  year\n",
       "0       Jan-03                     141      1  2003\n",
       "1       Feb-03                     157      2  2003\n",
       "2       Mar-03                     185      3  2003\n",
       "3       Apr-03                     199      4  2003\n",
       "4       May-03                     203      5  2003\n",
       "..         ...                     ...    ...   ...\n",
       "139     Aug-14                     848      8  2014\n",
       "140     Sep-14                     640      9  2014\n",
       "141     Oct-14                     581     10  2014\n",
       "142     Nov-14                     519     11  2014\n",
       "143     Dec-14                     605     12  2014\n",
       "\n",
       "[144 rows x 4 columns]"
      ]
     },
     "execution_count": 54,
     "metadata": {},
     "output_type": "execute_result"
    }
   ],
   "source": [
    "df"
   ]
  },
  {
   "cell_type": "code",
   "execution_count": 55,
   "id": "c12e8e57",
   "metadata": {},
   "outputs": [
    {
     "name": "stderr",
     "output_type": "stream",
     "text": [
      "ERROR: Could not find a version that satisfies the requirement calendar\n",
      "ERROR: No matching distribution found for calendar\n"
     ]
    },
    {
     "ename": "TypeError",
     "evalue": "list indices must be integers or slices, not str",
     "output_type": "error",
     "traceback": [
      "\u001b[1;31m---------------------------------------------------------------------------\u001b[0m",
      "\u001b[1;31mTypeError\u001b[0m                                 Traceback (most recent call last)",
      "\u001b[1;32m<ipython-input-55-2c9635ccdd1a>\u001b[0m in \u001b[0;36m<module>\u001b[1;34m\u001b[0m\n\u001b[0;32m      2\u001b[0m \u001b[0mget_ipython\u001b[0m\u001b[1;33m(\u001b[0m\u001b[1;33m)\u001b[0m\u001b[1;33m.\u001b[0m\u001b[0msystem\u001b[0m\u001b[1;33m(\u001b[0m\u001b[1;34m'pip install calendar'\u001b[0m\u001b[1;33m)\u001b[0m\u001b[1;33m\u001b[0m\u001b[1;33m\u001b[0m\u001b[0m\n\u001b[0;32m      3\u001b[0m \u001b[1;32mimport\u001b[0m \u001b[0mcalendar\u001b[0m\u001b[1;33m\u001b[0m\u001b[1;33m\u001b[0m\u001b[0m\n\u001b[1;32m----> 4\u001b[1;33m \u001b[0mcalendar\u001b[0m\u001b[1;33m.\u001b[0m\u001b[0mmonth_abbr\u001b[0m\u001b[1;33m[\u001b[0m\u001b[1;34m'month'\u001b[0m\u001b[1;33m]\u001b[0m\u001b[1;33m\u001b[0m\u001b[1;33m\u001b[0m\u001b[0m\n\u001b[0m",
      "\u001b[1;32m~\\anaconda3\\lib\\calendar.py\u001b[0m in \u001b[0;36m__getitem__\u001b[1;34m(self, i)\u001b[0m\n\u001b[0;32m     57\u001b[0m \u001b[1;33m\u001b[0m\u001b[0m\n\u001b[0;32m     58\u001b[0m     \u001b[1;32mdef\u001b[0m \u001b[0m__getitem__\u001b[0m\u001b[1;33m(\u001b[0m\u001b[0mself\u001b[0m\u001b[1;33m,\u001b[0m \u001b[0mi\u001b[0m\u001b[1;33m)\u001b[0m\u001b[1;33m:\u001b[0m\u001b[1;33m\u001b[0m\u001b[1;33m\u001b[0m\u001b[0m\n\u001b[1;32m---> 59\u001b[1;33m         \u001b[0mfuncs\u001b[0m \u001b[1;33m=\u001b[0m \u001b[0mself\u001b[0m\u001b[1;33m.\u001b[0m\u001b[0m_months\u001b[0m\u001b[1;33m[\u001b[0m\u001b[0mi\u001b[0m\u001b[1;33m]\u001b[0m\u001b[1;33m\u001b[0m\u001b[1;33m\u001b[0m\u001b[0m\n\u001b[0m\u001b[0;32m     60\u001b[0m         \u001b[1;32mif\u001b[0m \u001b[0misinstance\u001b[0m\u001b[1;33m(\u001b[0m\u001b[0mi\u001b[0m\u001b[1;33m,\u001b[0m \u001b[0mslice\u001b[0m\u001b[1;33m)\u001b[0m\u001b[1;33m:\u001b[0m\u001b[1;33m\u001b[0m\u001b[1;33m\u001b[0m\u001b[0m\n\u001b[0;32m     61\u001b[0m             \u001b[1;32mreturn\u001b[0m \u001b[1;33m[\u001b[0m\u001b[0mf\u001b[0m\u001b[1;33m(\u001b[0m\u001b[0mself\u001b[0m\u001b[1;33m.\u001b[0m\u001b[0mformat\u001b[0m\u001b[1;33m)\u001b[0m \u001b[1;32mfor\u001b[0m \u001b[0mf\u001b[0m \u001b[1;32min\u001b[0m \u001b[0mfuncs\u001b[0m\u001b[1;33m]\u001b[0m\u001b[1;33m\u001b[0m\u001b[1;33m\u001b[0m\u001b[0m\n",
      "\u001b[1;31mTypeError\u001b[0m: list indices must be integers or slices, not str"
     ]
    }
   ],
   "source": [
    "#we want to convert month name\n",
    "!pip install calendar\n",
    "import calendar\n",
    "calendar.month_abbr['month']"
   ]
  },
  {
   "cell_type": "code",
   "execution_count": 56,
   "id": "5fee15df",
   "metadata": {},
   "outputs": [],
   "source": [
    "df['Month'] = df['month'].apply(lambda x:calendar.month_abbr[x])"
   ]
  },
  {
   "cell_type": "code",
   "execution_count": 58,
   "id": "33bf3973",
   "metadata": {},
   "outputs": [
    {
     "data": {
      "text/html": [
       "<div>\n",
       "<style scoped>\n",
       "    .dataframe tbody tr th:only-of-type {\n",
       "        vertical-align: middle;\n",
       "    }\n",
       "\n",
       "    .dataframe tbody tr th {\n",
       "        vertical-align: top;\n",
       "    }\n",
       "\n",
       "    .dataframe thead th {\n",
       "        text-align: right;\n",
       "    }\n",
       "</style>\n",
       "<table border=\"1\" class=\"dataframe\">\n",
       "  <thead>\n",
       "    <tr style=\"text-align: right;\">\n",
       "      <th></th>\n",
       "      <th>Month-Year</th>\n",
       "      <th>Number of Tractor Sold</th>\n",
       "      <th>month</th>\n",
       "      <th>year</th>\n",
       "      <th>Month</th>\n",
       "    </tr>\n",
       "  </thead>\n",
       "  <tbody>\n",
       "    <tr>\n",
       "      <th>0</th>\n",
       "      <td>Jan-03</td>\n",
       "      <td>141</td>\n",
       "      <td>1</td>\n",
       "      <td>2003</td>\n",
       "      <td>Jan</td>\n",
       "    </tr>\n",
       "    <tr>\n",
       "      <th>1</th>\n",
       "      <td>Feb-03</td>\n",
       "      <td>157</td>\n",
       "      <td>2</td>\n",
       "      <td>2003</td>\n",
       "      <td>Feb</td>\n",
       "    </tr>\n",
       "    <tr>\n",
       "      <th>2</th>\n",
       "      <td>Mar-03</td>\n",
       "      <td>185</td>\n",
       "      <td>3</td>\n",
       "      <td>2003</td>\n",
       "      <td>Mar</td>\n",
       "    </tr>\n",
       "    <tr>\n",
       "      <th>3</th>\n",
       "      <td>Apr-03</td>\n",
       "      <td>199</td>\n",
       "      <td>4</td>\n",
       "      <td>2003</td>\n",
       "      <td>Apr</td>\n",
       "    </tr>\n",
       "    <tr>\n",
       "      <th>4</th>\n",
       "      <td>May-03</td>\n",
       "      <td>203</td>\n",
       "      <td>5</td>\n",
       "      <td>2003</td>\n",
       "      <td>May</td>\n",
       "    </tr>\n",
       "    <tr>\n",
       "      <th>5</th>\n",
       "      <td>Jun-03</td>\n",
       "      <td>189</td>\n",
       "      <td>6</td>\n",
       "      <td>2003</td>\n",
       "      <td>Jun</td>\n",
       "    </tr>\n",
       "    <tr>\n",
       "      <th>6</th>\n",
       "      <td>Jul-03</td>\n",
       "      <td>207</td>\n",
       "      <td>7</td>\n",
       "      <td>2003</td>\n",
       "      <td>Jul</td>\n",
       "    </tr>\n",
       "    <tr>\n",
       "      <th>7</th>\n",
       "      <td>Aug-03</td>\n",
       "      <td>207</td>\n",
       "      <td>8</td>\n",
       "      <td>2003</td>\n",
       "      <td>Aug</td>\n",
       "    </tr>\n",
       "    <tr>\n",
       "      <th>8</th>\n",
       "      <td>Sep-03</td>\n",
       "      <td>171</td>\n",
       "      <td>9</td>\n",
       "      <td>2003</td>\n",
       "      <td>Sep</td>\n",
       "    </tr>\n",
       "    <tr>\n",
       "      <th>9</th>\n",
       "      <td>Oct-03</td>\n",
       "      <td>150</td>\n",
       "      <td>10</td>\n",
       "      <td>2003</td>\n",
       "      <td>Oct</td>\n",
       "    </tr>\n",
       "    <tr>\n",
       "      <th>10</th>\n",
       "      <td>Nov-03</td>\n",
       "      <td>138</td>\n",
       "      <td>11</td>\n",
       "      <td>2003</td>\n",
       "      <td>Nov</td>\n",
       "    </tr>\n",
       "    <tr>\n",
       "      <th>11</th>\n",
       "      <td>Dec-03</td>\n",
       "      <td>165</td>\n",
       "      <td>12</td>\n",
       "      <td>2003</td>\n",
       "      <td>Dec</td>\n",
       "    </tr>\n",
       "  </tbody>\n",
       "</table>\n",
       "</div>"
      ],
      "text/plain": [
       "   Month-Year  Number of Tractor Sold  month  year Month\n",
       "0      Jan-03                     141      1  2003   Jan\n",
       "1      Feb-03                     157      2  2003   Feb\n",
       "2      Mar-03                     185      3  2003   Mar\n",
       "3      Apr-03                     199      4  2003   Apr\n",
       "4      May-03                     203      5  2003   May\n",
       "5      Jun-03                     189      6  2003   Jun\n",
       "6      Jul-03                     207      7  2003   Jul\n",
       "7      Aug-03                     207      8  2003   Aug\n",
       "8      Sep-03                     171      9  2003   Sep\n",
       "9      Oct-03                     150     10  2003   Oct\n",
       "10     Nov-03                     138     11  2003   Nov\n",
       "11     Dec-03                     165     12  2003   Dec"
      ]
     },
     "execution_count": 58,
     "metadata": {},
     "output_type": "execute_result"
    }
   ],
   "source": [
    "df.head(12)       # FOR CHECKING ONE YEAR DATA\n"
   ]
  },
  {
   "cell_type": "code",
   "execution_count": 59,
   "id": "3d6d8341",
   "metadata": {},
   "outputs": [],
   "source": [
    "df.rename(columns={'Number of Tractor Sold':'Tractor sales'}, inplace= True)"
   ]
  },
  {
   "cell_type": "code",
   "execution_count": 61,
   "id": "8a370b99",
   "metadata": {},
   "outputs": [
    {
     "data": {
      "text/html": [
       "<div>\n",
       "<style scoped>\n",
       "    .dataframe tbody tr th:only-of-type {\n",
       "        vertical-align: middle;\n",
       "    }\n",
       "\n",
       "    .dataframe tbody tr th {\n",
       "        vertical-align: top;\n",
       "    }\n",
       "\n",
       "    .dataframe thead th {\n",
       "        text-align: right;\n",
       "    }\n",
       "</style>\n",
       "<table border=\"1\" class=\"dataframe\">\n",
       "  <thead>\n",
       "    <tr style=\"text-align: right;\">\n",
       "      <th></th>\n",
       "      <th>Month-Year</th>\n",
       "      <th>Tractor sales</th>\n",
       "      <th>month</th>\n",
       "      <th>year</th>\n",
       "      <th>Month</th>\n",
       "    </tr>\n",
       "  </thead>\n",
       "  <tbody>\n",
       "    <tr>\n",
       "      <th>0</th>\n",
       "      <td>Jan-03</td>\n",
       "      <td>141</td>\n",
       "      <td>1</td>\n",
       "      <td>2003</td>\n",
       "      <td>Jan</td>\n",
       "    </tr>\n",
       "    <tr>\n",
       "      <th>1</th>\n",
       "      <td>Feb-03</td>\n",
       "      <td>157</td>\n",
       "      <td>2</td>\n",
       "      <td>2003</td>\n",
       "      <td>Feb</td>\n",
       "    </tr>\n",
       "    <tr>\n",
       "      <th>2</th>\n",
       "      <td>Mar-03</td>\n",
       "      <td>185</td>\n",
       "      <td>3</td>\n",
       "      <td>2003</td>\n",
       "      <td>Mar</td>\n",
       "    </tr>\n",
       "    <tr>\n",
       "      <th>3</th>\n",
       "      <td>Apr-03</td>\n",
       "      <td>199</td>\n",
       "      <td>4</td>\n",
       "      <td>2003</td>\n",
       "      <td>Apr</td>\n",
       "    </tr>\n",
       "    <tr>\n",
       "      <th>4</th>\n",
       "      <td>May-03</td>\n",
       "      <td>203</td>\n",
       "      <td>5</td>\n",
       "      <td>2003</td>\n",
       "      <td>May</td>\n",
       "    </tr>\n",
       "    <tr>\n",
       "      <th>5</th>\n",
       "      <td>Jun-03</td>\n",
       "      <td>189</td>\n",
       "      <td>6</td>\n",
       "      <td>2003</td>\n",
       "      <td>Jun</td>\n",
       "    </tr>\n",
       "    <tr>\n",
       "      <th>6</th>\n",
       "      <td>Jul-03</td>\n",
       "      <td>207</td>\n",
       "      <td>7</td>\n",
       "      <td>2003</td>\n",
       "      <td>Jul</td>\n",
       "    </tr>\n",
       "    <tr>\n",
       "      <th>7</th>\n",
       "      <td>Aug-03</td>\n",
       "      <td>207</td>\n",
       "      <td>8</td>\n",
       "      <td>2003</td>\n",
       "      <td>Aug</td>\n",
       "    </tr>\n",
       "    <tr>\n",
       "      <th>8</th>\n",
       "      <td>Sep-03</td>\n",
       "      <td>171</td>\n",
       "      <td>9</td>\n",
       "      <td>2003</td>\n",
       "      <td>Sep</td>\n",
       "    </tr>\n",
       "    <tr>\n",
       "      <th>9</th>\n",
       "      <td>Oct-03</td>\n",
       "      <td>150</td>\n",
       "      <td>10</td>\n",
       "      <td>2003</td>\n",
       "      <td>Oct</td>\n",
       "    </tr>\n",
       "    <tr>\n",
       "      <th>10</th>\n",
       "      <td>Nov-03</td>\n",
       "      <td>138</td>\n",
       "      <td>11</td>\n",
       "      <td>2003</td>\n",
       "      <td>Nov</td>\n",
       "    </tr>\n",
       "    <tr>\n",
       "      <th>11</th>\n",
       "      <td>Dec-03</td>\n",
       "      <td>165</td>\n",
       "      <td>12</td>\n",
       "      <td>2003</td>\n",
       "      <td>Dec</td>\n",
       "    </tr>\n",
       "  </tbody>\n",
       "</table>\n",
       "</div>"
      ],
      "text/plain": [
       "   Month-Year  Tractor sales  month  year Month\n",
       "0      Jan-03            141      1  2003   Jan\n",
       "1      Feb-03            157      2  2003   Feb\n",
       "2      Mar-03            185      3  2003   Mar\n",
       "3      Apr-03            199      4  2003   Apr\n",
       "4      May-03            203      5  2003   May\n",
       "5      Jun-03            189      6  2003   Jun\n",
       "6      Jul-03            207      7  2003   Jul\n",
       "7      Aug-03            207      8  2003   Aug\n",
       "8      Sep-03            171      9  2003   Sep\n",
       "9      Oct-03            150     10  2003   Oct\n",
       "10     Nov-03            138     11  2003   Nov\n",
       "11     Dec-03            165     12  2003   Dec"
      ]
     },
     "execution_count": 61,
     "metadata": {},
     "output_type": "execute_result"
    }
   ],
   "source": [
    "df.head(12)"
   ]
  },
  {
   "cell_type": "code",
   "execution_count": null,
   "id": "a24cde79",
   "metadata": {},
   "outputs": [],
   "source": []
  }
 ],
 "metadata": {
  "kernelspec": {
   "display_name": "Python 3",
   "language": "python",
   "name": "python3"
  },
  "language_info": {
   "codemirror_mode": {
    "name": "ipython",
    "version": 3
   },
   "file_extension": ".py",
   "mimetype": "text/x-python",
   "name": "python",
   "nbconvert_exporter": "python",
   "pygments_lexer": "ipython3",
   "version": "3.8.8"
  }
 },
 "nbformat": 4,
 "nbformat_minor": 5
}
