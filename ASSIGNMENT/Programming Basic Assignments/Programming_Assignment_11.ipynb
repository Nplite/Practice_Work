{
 "cells": [
  {
   "cell_type": "markdown",
   "id": "1c59cbf4",
   "metadata": {},
   "source": [
    "### 1.Write a Python program to find words which are greater than given length k?\n",
    "\n",
    "\n"
   ]
  },
  {
   "cell_type": "code",
   "execution_count": 9,
   "id": "e4b19f90",
   "metadata": {},
   "outputs": [
    {
     "name": "stdout",
     "output_type": "stream",
     "text": [
      "the string is\n",
      "Python will always fun to learn\n",
      "the words in the string with lenght greater than 3 is : 5\n",
      "['Python', 'always']\n"
     ]
    }
   ],
   "source": [
    "    def check(l,s):\n",
    "        r = []\n",
    "        w = s.split(\" \")\n",
    "        for x in w:\n",
    "            if len(x)> l:\n",
    "                r.append(x)\n",
    "        return r\n",
    "    l = 5\n",
    "    s = 'Python will always fun to learn'\n",
    "    print(\"the string is\")\n",
    "    print(s)\n",
    "    print(\"the words in the string with lenght greater than 3 is :\", l)\n",
    "    print(check(l,s))\n",
    "\n"
   ]
  },
  {
   "cell_type": "markdown",
   "id": "b3e98731",
   "metadata": {},
   "source": [
    "### 2.Write a Python program for removing i-th character from a string?\n"
   ]
  },
  {
   "cell_type": "code",
   "execution_count": 8,
   "id": "bc9e276c",
   "metadata": {},
   "outputs": [
    {
     "name": "stdout",
     "output_type": "stream",
     "text": [
      "Enter the string : name is not a string\n",
      "Enter the index of character to be removed : 8\n",
      "Entered string : name is not a string\n",
      "String formed by removing i'th character : ame is not a string\n"
     ]
    }
   ],
   "source": [
    "    myStr =  input('Enter the string : ')\n",
    "    i = int(input('Enter the index of character to be removed : '))\n",
    "    resStr = myStr.replace(myStr[i], \"\", 1)\n",
    "    print (\"Entered string : \" + myStr)\n",
    "    print (\"String formed by removing i'th character : \" + resStr)\n"
   ]
  },
  {
   "cell_type": "markdown",
   "id": "6fc8ae38",
   "metadata": {},
   "source": [
    "### 3.Write a Python program to split and join a string?\n",
    "\n"
   ]
  },
  {
   "cell_type": "code",
   "execution_count": 1,
   "id": "21791419",
   "metadata": {},
   "outputs": [
    {
     "name": "stdout",
     "output_type": "stream",
     "text": [
      "['this', 'is', 'a', 'string']\n",
      "this-is-a-string\n"
     ]
    }
   ],
   "source": [
    "    a = \"this is a string\"\n",
    "    a = a.split(\" \") \n",
    "    print (a)\n",
    "    ['this', 'is', 'a', 'string']\n",
    "\n",
    "    s = \"-\".join(a)\n",
    "    print(s)\n"
   ]
  },
  {
   "cell_type": "markdown",
   "id": "ceb70683",
   "metadata": {},
   "source": [
    "### 4.Write a Python to check if a given string is binary string or not?\n",
    "\n"
   ]
  },
  {
   "cell_type": "code",
   "execution_count": 6,
   "id": "f55ba83e",
   "metadata": {},
   "outputs": [
    {
     "name": "stdout",
     "output_type": "stream",
     "text": [
      "Binary String\n",
      "Non Binary String\n"
     ]
    }
   ],
   "source": [
    "    def check(string) :\n",
    "        b = set(string)\n",
    "        s = {'0', '1'}\n",
    "        if s == b or b == {'0'} or b == {'1'}:\n",
    "            print(\"Binary String\")\n",
    "        else :\n",
    "            print(\"Non Binary String\")\n",
    "\n",
    "    s1= \"00110101\"\n",
    "    check(s1)\n",
    "    s2 = \"1010100200111\"\n",
    "    check(s2)\n"
   ]
  },
  {
   "cell_type": "markdown",
   "id": "3ee2aefc",
   "metadata": {},
   "source": [
    "### 5.Write a Python program to find uncommon words from two Strings?\n"
   ]
  },
  {
   "cell_type": "code",
   "execution_count": 5,
   "id": "3460a372",
   "metadata": {},
   "outputs": [
    {
     "name": "stdout",
     "output_type": "stream",
     "text": [
      "['peach', 'mango']\n"
     ]
    }
   ],
   "source": [
    "    def uncommon(s1,s2):\n",
    "      s1=s1.split()\n",
    "      s2=s2.split()\n",
    "      k=set(s1).symmetric_difference(set(s2))\n",
    "      return k\n",
    "\n",
    "    a = \"berry mango cherry\"\n",
    "    b = \"berry peach cherry\"\n",
    "    print(list(uncommon(a,b)))"
   ]
  },
  {
   "cell_type": "markdown",
   "id": "0b24cf3b",
   "metadata": {},
   "source": [
    "### 6.Write a Python to find all duplicate characters in string?\n"
   ]
  },
  {
   "cell_type": "code",
   "execution_count": 4,
   "id": "c50deba7",
   "metadata": {},
   "outputs": [
    {
     "name": "stdout",
     "output_type": "stream",
     "text": [
      "enter the string whose duplicate characters you want to find:greate number\n",
      "the duplicate character in greate number is\n",
      "['r', 'e']\n"
     ]
    }
   ],
   "source": [
    "    string = input(\"enter the string whose duplicate characters you want to find:\")\n",
    "\n",
    "    def duplicates_char(s):\n",
    "        elements = {}\n",
    "        for char in s:\n",
    "            if elements.get(char,None) != None:\n",
    "                elements[char]+=1\n",
    "            else:\n",
    "                elements[char] = 1\n",
    "        return [k for k,v in elements.items() if v>1]\n",
    "    print(\"the duplicate character in\",string,\"is\")\n",
    "    print(duplicates_char(string))"
   ]
  },
  {
   "cell_type": "markdown",
   "id": "85a94d38",
   "metadata": {},
   "source": [
    "### 7.Write a Python Program to check if a string contains any special character?\n"
   ]
  },
  {
   "cell_type": "code",
   "execution_count": 3,
   "id": "c072b523",
   "metadata": {},
   "outputs": [
    {
     "name": "stdout",
     "output_type": "stream",
     "text": [
      "hfisufhuisfe\n",
      "String does not contain Special Characters.\n"
     ]
    }
   ],
   "source": [
    "    import re\n",
    "    def check_splcharacter(test):\n",
    "        test = input()\n",
    "        string_check= re.compile('[@_!#$%^&*()<>?/\\|}{~:]')\n",
    "\n",
    "        if(string_check.search(test) == None):\n",
    "            print(\"String does not contain Special Characters.\") \n",
    "        else: \n",
    "            print(\"String contains Special Characters.\")\n",
    "\n",
    "    check_splcharacter('Np')"
   ]
  }
 ],
 "metadata": {
  "kernelspec": {
   "display_name": "Python 3",
   "language": "python",
   "name": "python3"
  },
  "language_info": {
   "codemirror_mode": {
    "name": "ipython",
    "version": 3
   },
   "file_extension": ".py",
   "mimetype": "text/x-python",
   "name": "python",
   "nbconvert_exporter": "python",
   "pygments_lexer": "ipython3",
   "version": "3.8.8"
  }
 },
 "nbformat": 4,
 "nbformat_minor": 5
}
