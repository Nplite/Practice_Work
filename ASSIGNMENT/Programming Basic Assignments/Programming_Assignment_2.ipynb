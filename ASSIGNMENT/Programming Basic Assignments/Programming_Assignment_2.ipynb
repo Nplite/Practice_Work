{
 "cells": [
  {
   "cell_type": "markdown",
   "id": "4171356a",
   "metadata": {},
   "source": [
    "### 1. Write a Python program to convert kilometers to miles?\n",
    "\n",
    "   "
   ]
  },
  {
   "cell_type": "code",
   "execution_count": 4,
   "id": "0167ba9b",
   "metadata": {},
   "outputs": [
    {
     "name": "stdout",
     "output_type": "stream",
     "text": [
      "enter the kilometer 25\n",
      "the value of 25 kilometers to Mile is:  15.534275000000001\n"
     ]
    }
   ],
   "source": [
    "km = int(input (\"enter the kilometer \"))  \n",
    "conversion_ratio = 0.621371  \n",
    "miles = km * conversion_ratio  \n",
    "print (\"the value of\", km ,\"kilometers to Mile is: \", miles)  "
   ]
  },
  {
   "cell_type": "markdown",
   "id": "8ae4bf13",
   "metadata": {},
   "source": [
    "### 2.Write a Python program to convert Celsius to Fahrenheit?\n",
    "\n",
    "\n",
    "    \n"
   ]
  },
  {
   "cell_type": "code",
   "execution_count": 3,
   "id": "aad6cf00",
   "metadata": {},
   "outputs": [
    {
     "name": "stdout",
     "output_type": "stream",
     "text": [
      "Enter temperature in celsius: 45\n",
      "45.0 celsius is : 113.0 fahrenheit\n"
     ]
    }
   ],
   "source": [
    "celsius = float(input(\"Enter temperature in celsius: \"))\n",
    "fahrenheit = (celsius * 9/5) + 32\n",
    "print(celsius, \"celsius is :\", fahrenheit, \"fahrenheit\")"
   ]
  },
  {
   "cell_type": "markdown",
   "id": "49ae1668",
   "metadata": {},
   "source": [
    "### 3. Write a Python program to display calendar?"
   ]
  },
  {
   "cell_type": "code",
   "execution_count": 5,
   "id": "fec38c3c",
   "metadata": {},
   "outputs": [
    {
     "name": "stdout",
     "output_type": "stream",
     "text": [
      "Enter the year1995\n",
      "Enter the month07\n",
      "     July 1995\n",
      "Mo Tu We Th Fr Sa Su\n",
      "                1  2\n",
      " 3  4  5  6  7  8  9\n",
      "10 11 12 13 14 15 16\n",
      "17 18 19 20 21 22 23\n",
      "24 25 26 27 28 29 30\n",
      "31\n",
      "\n"
     ]
    }
   ],
   "source": [
    "import calendar\n",
    "year = int(input(\"Enter the year\"))\n",
    "month = int(input(\"Enter the month\"))\n",
    "print(calendar.month(year,month))\n",
    "    "
   ]
  },
  {
   "cell_type": "markdown",
   "id": "f3af8075",
   "metadata": {},
   "source": [
    "### 4.Write a Python program to solve quadratic equation?"
   ]
  },
  {
   "cell_type": "code",
   "execution_count": 9,
   "id": "9aa33e58",
   "metadata": {},
   "outputs": [
    {
     "name": "stdout",
     "output_type": "stream",
     "text": [
      "enter the value of a 25\n",
      "enter the value of b 56\n",
      "enter the value of c 65\n",
      "Two distinct complex roots are  (-1.12, 1.16, -1.12, 1.16)\n"
     ]
    }
   ],
   "source": [
    "    import math\n",
    "    a = int(input(\"enter the value of a \"))\n",
    "    b = int(input(\"enter the value of b \"))\n",
    "    c = int(input(\"enter the value of c \"))\n",
    "\n",
    "    app = (b**2) - (4*a*c)\n",
    "\n",
    "    if (app > 0):\n",
    "        r1 = (-b + math.sqrt(app) / (2 * a))\n",
    "        r2 = (-b - math.sqrt(app) / (2 * a))\n",
    "        print(\"Two real and not equal rootes are\", r1, r2)\n",
    "\n",
    "    elif(app == 0):\n",
    "        r1 = r2 = -b / (2 * a)\n",
    "        print(\"Two equal and real roots are\", (r1, r2))\n",
    "\n",
    "    elif(app < 0):\n",
    "        r1 = r2 = -b / (2 * a)\n",
    "        imag = math.sqrt(-app) / (2 * a)\n",
    "        print(\"Two distinct complex roots are \", (r1, imag, r2, imag))\n"
   ]
  },
  {
   "cell_type": "markdown",
   "id": "569be074",
   "metadata": {},
   "source": [
    "### 5.Write a Python program to swap two variables without temp variable?"
   ]
  },
  {
   "cell_type": "code",
   "execution_count": 8,
   "id": "7b7c1148",
   "metadata": {},
   "outputs": [
    {
     "name": "stdout",
     "output_type": "stream",
     "text": [
      "Before swapping: \n",
      "BeValue of a :  4  and b :  6\n",
      "After swapping: \n",
      "After swappingh the Value of a :  6  and b :  4\n"
     ]
    }
   ],
   "source": [
    "    a = 4\n",
    "    b = 6\n",
    "\n",
    "    print (\"Before swapping: \")\n",
    "    print(\"BeValue of a : \", a, \" and b : \", b)\n",
    "\n",
    "    # code to swap 'x' and 'y'\n",
    "    a, b = b, a\n",
    "\n",
    "    print (\"After swapping: \")\n",
    "    print(\"After swappingh the Value of a : \", a, \" and b : \", b)"
   ]
  }
 ],
 "metadata": {
  "kernelspec": {
   "display_name": "Python 3",
   "language": "python",
   "name": "python3"
  },
  "language_info": {
   "codemirror_mode": {
    "name": "ipython",
    "version": 3
   },
   "file_extension": ".py",
   "mimetype": "text/x-python",
   "name": "python",
   "nbconvert_exporter": "python",
   "pygments_lexer": "ipython3",
   "version": "3.8.8"
  }
 },
 "nbformat": 4,
 "nbformat_minor": 5
}
