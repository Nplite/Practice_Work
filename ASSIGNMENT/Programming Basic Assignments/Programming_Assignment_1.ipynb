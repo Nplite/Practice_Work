{
 "cells": [
  {
   "cell_type": "markdown",
   "id": "3d420943",
   "metadata": {},
   "source": [
    "### 1. Write a Python program to print \"Hello Python\"?\n",
    "\n",
    "  "
   ]
  },
  {
   "cell_type": "code",
   "execution_count": 1,
   "id": "9aceaf4f",
   "metadata": {},
   "outputs": [
    {
     "name": "stdout",
     "output_type": "stream",
     "text": [
      "hello\n"
     ]
    }
   ],
   "source": [
    "print(\"hello\")\n"
   ]
  },
  {
   "cell_type": "markdown",
   "id": "72a4aed7",
   "metadata": {},
   "source": [
    "### 2. Write a Python program to do arithmetical operations addition and division.?\n",
    "\n",
    "   "
   ]
  },
  {
   "cell_type": "code",
   "execution_count": 2,
   "id": "bc71c959",
   "metadata": {},
   "outputs": [
    {
     "name": "stdout",
     "output_type": "stream",
     "text": [
      "arithmetical operations of addition 25\n",
      "arithmetical operations of division 0.6666666666666666\n"
     ]
    }
   ],
   "source": [
    "    a = 10\n",
    "    b = 15\n",
    "    Add = a+b\n",
    "    Div = a/b\n",
    "    print(\"arithmetical operations of addition\", Add)\n",
    "    print(\"arithmetical operations of division\", Div)\n",
    " "
   ]
  },
  {
   "cell_type": "markdown",
   "id": "211bfaf5",
   "metadata": {},
   "source": [
    "### 3. Write a Python program to find the area of a triangle?\n",
    "\n"
   ]
  },
  {
   "cell_type": "markdown",
   "id": "64225d13",
   "metadata": {},
   "source": [
    "    a = 2\n",
    "    b = 5\n",
    "    c = 6\n",
    "    #semi-Perimeter\n",
    "    p = (a+b+c)/2\n",
    "    #area of trianle\n",
    "    area = (p*(p-a)*(p-b)*(p-c)) ** 0.5\n",
    "    print(\"Area of triangle is\", area)"
   ]
  },
  {
   "cell_type": "markdown",
   "id": "b792cb59",
   "metadata": {},
   "source": [
    "### 4.Write a Python program to swap two variables?\n",
    "\n"
   ]
  },
  {
   "cell_type": "code",
   "execution_count": 4,
   "id": "81a359ee",
   "metadata": {},
   "outputs": [
    {
     "name": "stdout",
     "output_type": "stream",
     "text": [
      "Value of x: 50\n",
      "Value of y: 10\n"
     ]
    }
   ],
   "source": [
    "    x = 10\n",
    "    y = 50\n",
    " \n",
    "    ineuron = x\n",
    "    x = y\n",
    "    y = ineuron\n",
    " \n",
    "    print(\"Value of x:\", x)\n",
    "    print(\"Value of y:\", y)\n"
   ]
  },
  {
   "cell_type": "markdown",
   "id": "75cad6b1",
   "metadata": {},
   "source": [
    "### 5. Write a Python program to generate a random number?\n",
    "\n"
   ]
  },
  {
   "cell_type": "markdown",
   "id": "50f3d221",
   "metadata": {},
   "source": [
    "    import random\n",
    "    print(random.sample([1,2,3,4,5,6,7,8,9],4))"
   ]
  },
  {
   "cell_type": "code",
   "execution_count": null,
   "id": "103b5af3",
   "metadata": {},
   "outputs": [],
   "source": []
  }
 ],
 "metadata": {
  "kernelspec": {
   "display_name": "Python 3",
   "language": "python",
   "name": "python3"
  },
  "language_info": {
   "codemirror_mode": {
    "name": "ipython",
    "version": 3
   },
   "file_extension": ".py",
   "mimetype": "text/x-python",
   "name": "python",
   "nbconvert_exporter": "python",
   "pygments_lexer": "ipython3",
   "version": "3.8.8"
  }
 },
 "nbformat": 4,
 "nbformat_minor": 5
}
