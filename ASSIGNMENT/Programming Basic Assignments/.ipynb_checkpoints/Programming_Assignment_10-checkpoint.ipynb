{
 "cells": [
  {
   "cell_type": "code",
   "execution_count": null,
   "id": "91d16089",
   "metadata": {},
   "outputs": [],
   "source": [
    "1.Write a Python program to find sum of elements in list?\n",
    "Ans:\n",
    "1)\n",
    "\n",
    "    total = 0\n",
    "    list1 = [11, 5, 17, 18, 23]\n",
    "    for i in range(0, len(list1)):\n",
    "        total = total + list1[i]\n",
    "\n",
    "    print(\"Sum of all elements in given list: \", total)\n",
    "\n",
    "2)\n",
    "    numlist = ['2','4','2','5','7','9','23','4','5']\n",
    "    numsum=0\n",
    "    for i in numlist:\n",
    "        numsum+=int(i)\n",
    "    print('Sum of List: ',numsum)\n",
    "    \n",
    "3)\n",
    "\n",
    "    numlist = [2,4,2,5,7,9,23,4,5]\n",
    "    def listsum(numlist):\n",
    "        total = 0\n",
    "        i = 0\n",
    "        while i < len(numlist):\n",
    "            total = total + numlist[i]\n",
    "            i = i + 1\n",
    "        return total\n",
    "    totalsum = listsum(numlist);\n",
    "    print('Sum of List: ', totalsum)\n",
    "\n",
    "4)\n",
    "    NumList = []\n",
    "\n",
    "    Number = int(input(\"Please enter the Total Number of List Elements : \"))\n",
    "    for i in range(1, Number + 1):\n",
    "        value = int(input(\"Please enter the Value of %d Element : \" %i))\n",
    "        NumList.append(value)\n",
    "\n",
    "    total = sum(NumList)\n",
    "\n",
    "    print(\"\\n The Sum of All Element in this List is : \", total)\n",
    "\n",
    "\n",
    "\n"
   ]
  },
  {
   "cell_type": "code",
   "execution_count": null,
   "id": "86023e6d",
   "metadata": {},
   "outputs": [],
   "source": [
    "2.Write a Python program to  Multiply all numbers in the list\n",
    "Ans:\n",
    "1)\n",
    "\n",
    "    total = 1\n",
    "    list1 = [11, 5, 17, 18, 23]\n",
    "    for i in range(0, len(list1)):\n",
    "        total = total * list1[i]\n",
    "\n",
    "    print(\"Sum of all elements in given list: \", total)\n",
    "    \n",
    "2)\n",
    "    numlist = ['2','4','2','5','7','9','23','4','5']\n",
    "    numsum=1\n",
    "    for i in numlist:\n",
    "        numsum*=int(i)\n",
    "    print('Sum of List: ',numsum)"
   ]
  },
  {
   "cell_type": "code",
   "execution_count": null,
   "id": "cdb5caac",
   "metadata": {},
   "outputs": [],
   "source": []
  },
  {
   "cell_type": "code",
   "execution_count": null,
   "id": "a2a61474",
   "metadata": {},
   "outputs": [],
   "source": []
  },
  {
   "cell_type": "code",
   "execution_count": null,
   "id": "cdb72604",
   "metadata": {},
   "outputs": [],
   "source": []
  },
  {
   "cell_type": "code",
   "execution_count": null,
   "id": "9df5e8a9",
   "metadata": {},
   "outputs": [],
   "source": []
  },
  {
   "cell_type": "code",
   "execution_count": null,
   "id": "490698fd",
   "metadata": {},
   "outputs": [],
   "source": []
  },
  {
   "cell_type": "code",
   "execution_count": null,
   "id": "a3de56c2",
   "metadata": {},
   "outputs": [],
   "source": []
  },
  {
   "cell_type": "code",
   "execution_count": null,
   "id": "3bd7140c",
   "metadata": {},
   "outputs": [],
   "source": []
  },
  {
   "cell_type": "code",
   "execution_count": null,
   "id": "7bdd0b5d",
   "metadata": {},
   "outputs": [],
   "source": []
  },
  {
   "cell_type": "code",
   "execution_count": null,
   "id": "2c91e631",
   "metadata": {},
   "outputs": [],
   "source": []
  }
 ],
 "metadata": {
  "kernelspec": {
   "display_name": "Python 3",
   "language": "python",
   "name": "python3"
  },
  "language_info": {
   "codemirror_mode": {
    "name": "ipython",
    "version": 3
   },
   "file_extension": ".py",
   "mimetype": "text/x-python",
   "name": "python",
   "nbconvert_exporter": "python",
   "pygments_lexer": "ipython3",
   "version": "3.8.8"
  }
 },
 "nbformat": 4,
 "nbformat_minor": 5
}
