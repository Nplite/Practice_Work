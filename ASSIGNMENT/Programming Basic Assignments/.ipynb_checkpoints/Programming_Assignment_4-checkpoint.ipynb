{
 "cells": [
  {
   "cell_type": "markdown",
   "id": "a4a1d523",
   "metadata": {},
   "source": [
    "### 1.Write a Python Program to Find the Factorial of a Number?\n",
    "  \n",
    " \n",
    "\n",
    "\n"
   ]
  },
  {
   "cell_type": "code",
   "execution_count": 1,
   "id": "66383c8d",
   "metadata": {},
   "outputs": [
    {
     "name": "stdout",
     "output_type": "stream",
     "text": [
      "Enter the number:25\n",
      "Factorial of 25 is 15511210043330985984000000\n"
     ]
    }
   ],
   "source": [
    "    import math  \n",
    "    def fact(n):  \n",
    "        return(math.factorial(n))  \n",
    "\n",
    "    num = int(input(\"Enter the number:\"))  \n",
    "    f = fact(num)  \n",
    "    print(\"Factorial of\", num, \"is\", f)  \n",
    "   "
   ]
  },
  {
   "cell_type": "markdown",
   "id": "a44105d8",
   "metadata": {},
   "source": [
    "### 2.Write a Python Program to Display the multiplication Table?\n",
    "\n"
   ]
  },
  {
   "cell_type": "code",
   "execution_count": 2,
   "id": "fe284f8f",
   "metadata": {},
   "outputs": [
    {
     "name": "stdout",
     "output_type": "stream",
     "text": [
      "Input a number: 45\n",
      "multiplication table\n",
      "45 x 1 = 45\n",
      "45 x 2 = 90\n",
      "45 x 3 = 135\n",
      "45 x 4 = 180\n",
      "45 x 5 = 225\n",
      "45 x 6 = 270\n",
      "45 x 7 = 315\n",
      "45 x 8 = 360\n",
      "45 x 9 = 405\n",
      "45 x 10 = 450\n"
     ]
    }
   ],
   "source": [
    "    n = int(input(\"Input a number: \"))\n",
    "    print(\"multiplication table\")\n",
    "    for i in range(1,11):\n",
    "       print(n,'x',i,'=',n*i)\n"
   ]
  },
  {
   "cell_type": "markdown",
   "id": "0ec03b04",
   "metadata": {},
   "source": [
    "### 3. Write a Python Program to Print the Fibonacci sequence?\n",
    "\n",
    "        \n",
    "      \n",
    "\n"
   ]
  },
  {
   "cell_type": "code",
   "execution_count": 5,
   "id": "3f5fa9ac",
   "metadata": {},
   "outputs": [],
   "source": [
    "def fib(n):\n",
    "    a = 1\n",
    "    b = 1\n",
    "    for i in range(n):\n",
    "        yield a,i\n",
    "        a,b = b, a+b\n",
    "        \n",
    "    for i in fib(10):\n",
    "        print(i)\n",
    " "
   ]
  },
  {
   "cell_type": "raw",
   "id": "087407d7",
   "metadata": {},
   "source": [
    "4.Write a Python Program to Check Armstrong Number\n",
    "Ans:\n",
    "    num = int(input(\"Enter a number: \"))\n",
    "    sum = 0\n",
    "    temp = num\n",
    "    while temp > 0:\n",
    "       digit = temp % 10\n",
    "       sum += digit ** 3\n",
    "       temp //= 10\n",
    "    if num == sum:\n",
    "       print(num,\"is an Armstrong number\")\n",
    "    else:\n",
    "       print(num,\"is not an Armstrong number\")"
   ]
  },
  {
   "cell_type": "raw",
   "id": "f2e91678",
   "metadata": {},
   "source": [
    "5.Write a Python Program to Find Armstrong Number in an Interval?\n",
    "Ans:\n",
    "\n",
    "    for num in range(1, 1001):\n",
    "    order = len(str(num))\n",
    "    sum = 0\n",
    "    temp = num\n",
    "    while temp > 0:\n",
    "       digit = temp % 10\n",
    "       sum += digit ** order\n",
    "       temp //= 10\n",
    "    if num == sum:\n",
    "       print(num)\n",
    "    "
   ]
  },
  {
   "cell_type": "raw",
   "id": "a930fce0",
   "metadata": {},
   "source": [
    "6.Write a Python Program to Find the Sum of Natural Numbers?\n",
    "Ans:\n",
    "    \n",
    "    n = int(input(\"Enter a number: \"))\n",
    "    sum1 = 0\n",
    "    while(n > 0):\n",
    "        sum1 = sum1 + n\n",
    "        n = n - 1\n",
    "    print(\"The sum of first n natural numbers is\", sum1)"
   ]
  }
 ],
 "metadata": {
  "kernelspec": {
   "display_name": "Python 3",
   "language": "python",
   "name": "python3"
  },
  "language_info": {
   "codemirror_mode": {
    "name": "ipython",
    "version": 3
   },
   "file_extension": ".py",
   "mimetype": "text/x-python",
   "name": "python",
   "nbconvert_exporter": "python",
   "pygments_lexer": "ipython3",
   "version": "3.8.8"
  }
 },
 "nbformat": 4,
 "nbformat_minor": 5
}
