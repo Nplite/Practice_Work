{
 "cells": [
  {
   "cell_type": "raw",
   "id": "fbd9ed9c",
   "metadata": {},
   "source": [
    "1. Write a Python program to convert kilometers to miles?\n",
    "Ans:\n",
    "    km = int(input (\"enter the kilometer \"))  \n",
    "    conversion_ratio = 0.621371  \n",
    "    miles = km * conversion_ratio  \n",
    "    print (\"the value of\", km ,\"kilometers to Mile is: \", miles)  "
   ]
  },
  {
   "cell_type": "raw",
   "id": "8c2c2a6b",
   "metadata": {},
   "source": [
    "2.Write a Python program to convert Celsius to Fahrenheit?\n",
    "Ans:\n",
    "    celsius = float(input(\"Enter temperature in celsius: \"))\n",
    "    fahrenheit = (celsius * 9/5) + 32\n",
    "    print(celsius, \"celsius is :\", fahrenheit, \"fahrenheit\")\n",
    "    \n"
   ]
  },
  {
   "cell_type": "raw",
   "id": "fd09edcb",
   "metadata": {},
   "source": [
    "3. Write a Python program to display calendar?\n"
   ]
  },
  {
   "cell_type": "code",
   "execution_count": null,
   "id": "8e8ab76a",
   "metadata": {},
   "outputs": [],
   "source": []
  }
 ],
 "metadata": {
  "kernelspec": {
   "display_name": "Python 3",
   "language": "python",
   "name": "python3"
  },
  "language_info": {
   "codemirror_mode": {
    "name": "ipython",
    "version": 3
   },
   "file_extension": ".py",
   "mimetype": "text/x-python",
   "name": "python",
   "nbconvert_exporter": "python",
   "pygments_lexer": "ipython3",
   "version": "3.8.8"
  }
 },
 "nbformat": 4,
 "nbformat_minor": 5
}
