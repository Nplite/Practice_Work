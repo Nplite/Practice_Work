{
 "cells": [
  {
   "cell_type": "markdown",
   "id": "bbb3a738",
   "metadata": {},
   "source": [
    "### 1.Write a Python program to find sum of elements in list?\n",
    "\n"
   ]
  },
  {
   "cell_type": "code",
   "execution_count": 1,
   "id": "f172674a",
   "metadata": {},
   "outputs": [
    {
     "name": "stdout",
     "output_type": "stream",
     "text": [
      "Sum of all elements in given list:  74\n"
     ]
    }
   ],
   "source": [
    "    total = 0\n",
    "    list1 = [11, 5, 17, 18, 23]\n",
    "    for i in range(0, len(list1)):\n",
    "        total = total + list1[i]\n",
    "\n",
    "    print(\"Sum of all elements in given list: \", total)\n",
    "\n"
   ]
  },
  {
   "cell_type": "markdown",
   "id": "fa881665",
   "metadata": {},
   "source": [
    "### 2.Write a Python program to  Multiply all numbers in the list\n",
    "\n",
    "\n",
    "    \n"
   ]
  },
  {
   "cell_type": "code",
   "execution_count": 2,
   "id": "f99fc9c7",
   "metadata": {},
   "outputs": [
    {
     "name": "stdout",
     "output_type": "stream",
     "text": [
      "multiplication of all elements in given list:  387090\n"
     ]
    }
   ],
   "source": [
    "    total = 1\n",
    "    list1 = [11, 5, 17, 18, 23]\n",
    "    for i in range(0, len(list1)):\n",
    "        total = total * list1[i]\n",
    "\n",
    "    print(\"multiplication of all elements in given list: \", total)\n"
   ]
  },
  {
   "cell_type": "markdown",
   "id": "efe015b0",
   "metadata": {},
   "source": [
    "### 3.Write a Python program to find smallest number in a list?\n",
    "\n"
   ]
  },
  {
   "cell_type": "code",
   "execution_count": 3,
   "id": "7ba0cab9",
   "metadata": {},
   "outputs": [
    {
     "name": "stdout",
     "output_type": "stream",
     "text": [
      "Smallest number of the list is: 3\n"
     ]
    }
   ],
   "source": [
    "    lis = [9, 100, 3, 16, 60]\n",
    "    print(\"Smallest number of the list is:\", min(lis))\n",
    "\n"
   ]
  },
  {
   "cell_type": "markdown",
   "id": "7f8fc411",
   "metadata": {},
   "source": [
    "### 4.Write a Python program to find largest number in a list?\n",
    "\n"
   ]
  },
  {
   "cell_type": "code",
   "execution_count": 4,
   "id": "d750e088",
   "metadata": {},
   "outputs": [
    {
     "name": "stdout",
     "output_type": "stream",
     "text": [
      "largest number of the list is: 100\n"
     ]
    }
   ],
   "source": [
    "    lis = [9, 100, 3, 16, 60]\n",
    "    print(\"largest number of the list is:\", max(lis))\n",
    "\n"
   ]
  },
  {
   "cell_type": "markdown",
   "id": "bb50289a",
   "metadata": {},
   "source": [
    "### 5.Write a Python program to find second largest number in a list?\n",
    "\n"
   ]
  },
  {
   "cell_type": "code",
   "execution_count": 5,
   "id": "9002ca96",
   "metadata": {},
   "outputs": [
    {
     "name": "stdout",
     "output_type": "stream",
     "text": [
      "Second largest element is: 45\n"
     ]
    }
   ],
   "source": [
    "    list1 = [10, 20, 4, 45, 99]\n",
    "    list1.sort()\n",
    "    print(\"Second largest element is:\", list1[-2])\n",
    "     "
   ]
  },
  {
   "cell_type": "markdown",
   "id": "5c786129",
   "metadata": {},
   "source": [
    "### 6.Write a Python program to find N largest elements from a list?\n"
   ]
  },
  {
   "cell_type": "code",
   "execution_count": 6,
   "id": "ca1a49cf",
   "metadata": {},
   "outputs": [
    {
     "name": "stdout",
     "output_type": "stream",
     "text": [
      "[298, 900, 1000, 3579]\n"
     ]
    }
   ],
   "source": [
    "    l = [1000,298,3579,100,200,-45,900]\n",
    "    n = 4\n",
    "    l.sort()\n",
    "    print(l[-n:])\n"
   ]
  },
  {
   "cell_type": "markdown",
   "id": "7a90351c",
   "metadata": {},
   "source": [
    "### 7.Write a Python program to print even numbers in a list?\n",
    "\n"
   ]
  },
  {
   "cell_type": "code",
   "execution_count": 7,
   "id": "d0d084da",
   "metadata": {},
   "outputs": [
    {
     "name": "stdout",
     "output_type": "stream",
     "text": [
      "64 22 24 "
     ]
    }
   ],
   "source": [
    "    list1 = [11,23,45,23,64,22,11,24]\n",
    "    for num in list1:\n",
    "        if num % 2 == 0:\n",
    "            print(num, end = \" \")\n",
    "\n"
   ]
  },
  {
   "cell_type": "markdown",
   "id": "4c557be5",
   "metadata": {},
   "source": [
    "### 8.Write a Python program to print odd numbers in a List?\n"
   ]
  },
  {
   "cell_type": "code",
   "execution_count": 8,
   "id": "167c0464",
   "metadata": {},
   "outputs": [
    {
     "name": "stdout",
     "output_type": "stream",
     "text": [
      "Odd numbers :  [11, 23, 45, 23, 11]\n"
     ]
    }
   ],
   "source": [
    "    list1 = [11,23,45,23,64,22,11,24]\n",
    "    odd = [num for num in list1 if num % 2 != 0]\n",
    "    print(\"Odd numbers : \", odd )\n"
   ]
  },
  {
   "cell_type": "markdown",
   "id": "485d912c",
   "metadata": {},
   "source": [
    "### 9.Write a Python program to Remove empty List from List?\n",
    "\n"
   ]
  },
  {
   "cell_type": "code",
   "execution_count": 9,
   "id": "42f6fd90",
   "metadata": {},
   "outputs": [
    {
     "name": "stdout",
     "output_type": "stream",
     "text": [
      "[[1, 2, 3], [1, 2], [1, 2, 3, 4]]\n",
      "[[1, 2, 3], [1, 2], [1, 2, 3, 4]]\n"
     ]
    }
   ],
   "source": [
    "    lst = [[1, 2, 3], [1, 2], [], [], [], [1, 2, 3, 4], [], []]\n",
    "    print([x for x in lst if x])\n",
    "    print(list(filter(lambda x: x, lst)))\n",
    "\n",
    "\n"
   ]
  },
  {
   "cell_type": "markdown",
   "id": "12a7fc55",
   "metadata": {},
   "source": [
    "### 10.Write a Python program to Cloning or Copying a list?\n"
   ]
  },
  {
   "cell_type": "code",
   "execution_count": 10,
   "id": "b1c5e150",
   "metadata": {},
   "outputs": [
    {
     "name": "stdout",
     "output_type": "stream",
     "text": [
      "Old List:  [1, 2, 3, 4, 5]\n",
      "New List:  [1, 2, 3, 4, 5]\n"
     ]
    }
   ],
   "source": [
    "    my_list =  [1, 2, 3, 4, 5]\n",
    "    copy = []\n",
    "    copy.extend(my_list)\n",
    "    print('Old List: ', my_list)\n",
    "    print('New List: ', copy)\n",
    "\n"
   ]
  },
  {
   "cell_type": "markdown",
   "id": "85699ab8",
   "metadata": {},
   "source": [
    "### 11.Write a Python program to Count occurrences of an element in a list?\n",
    "\n",
    "\n"
   ]
  },
  {
   "cell_type": "code",
   "execution_count": 11,
   "id": "8a2e3f7b",
   "metadata": {},
   "outputs": [
    {
     "name": "stdout",
     "output_type": "stream",
     "text": [
      "Given list:\n",
      " ['Mon', 'Wed', 'Mon', 'Tue', 'Thu']\n",
      "Given element:\n",
      " Mon\n",
      "Number of times the element is present in list:\n",
      " 2\n"
     ]
    }
   ],
   "source": [
    "    from collections import Counter\n",
    "    Alist = ['Mon', 'Wed', 'Mon', 'Tue', 'Thu']\n",
    "    elem = 'Mon'\n",
    "    print(\"Given list:\\n\", Alist)\n",
    "    print(\"Given element:\\n\",elem)\n",
    "    cnt = Counter(Alist)\n",
    "    print(\"Number of times the element is present in list:\\n\",cnt[elem])\n"
   ]
  },
  {
   "cell_type": "code",
   "execution_count": null,
   "id": "89b873e6",
   "metadata": {},
   "outputs": [],
   "source": []
  }
 ],
 "metadata": {
  "kernelspec": {
   "display_name": "Python 3",
   "language": "python",
   "name": "python3"
  },
  "language_info": {
   "codemirror_mode": {
    "name": "ipython",
    "version": 3
   },
   "file_extension": ".py",
   "mimetype": "text/x-python",
   "name": "python",
   "nbconvert_exporter": "python",
   "pygments_lexer": "ipython3",
   "version": "3.8.8"
  }
 },
 "nbformat": 4,
 "nbformat_minor": 5
}
