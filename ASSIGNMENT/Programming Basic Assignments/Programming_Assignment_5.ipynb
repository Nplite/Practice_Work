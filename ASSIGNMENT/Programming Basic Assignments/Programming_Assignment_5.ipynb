{
 "cells": [
  {
   "cell_type": "markdown",
   "id": "00a59eab",
   "metadata": {},
   "source": [
    "### 1.Write a Python Program to Find LCM?\n",
    "\n"
   ]
  },
  {
   "cell_type": "code",
   "execution_count": 1,
   "id": "bde52be1",
   "metadata": {},
   "outputs": [
    {
     "name": "stdout",
     "output_type": "stream",
     "text": [
      "Enter the first number:45\n",
      "Enter the second number:32\n",
      "Least common multiple =  1440\n"
     ]
    }
   ],
   "source": [
    "    x = int(input(\"Enter the first number:\"))\n",
    "    y = int(input(\"Enter the second number:\"))\n",
    "    if x > y:  \n",
    "       greater = x  \n",
    "    else:  \n",
    "       greater = y  \n",
    "    while(True):  \n",
    "       if((greater % x == 0) and (greater % y == 0)):  \n",
    "            lcm = greater  \n",
    "            break  \n",
    "       greater =  greater + 1\n",
    "\n",
    "    print (\"Least common multiple = \", lcm)\n",
    "    \n",
    "   "
   ]
  },
  {
   "cell_type": "markdown",
   "id": "8b777a2e",
   "metadata": {},
   "source": [
    "### 2.Write a Python Program to Find HCF?\n",
    "\n"
   ]
  },
  {
   "cell_type": "code",
   "execution_count": 5,
   "id": "ca6cc48c",
   "metadata": {},
   "outputs": [
    {
     "name": "stdout",
     "output_type": "stream",
     "text": [
      "The H.C.F. is 6\n"
     ]
    }
   ],
   "source": [
    " def compute_hcf(x, y):\n",
    "\n",
    "        if x > y:\n",
    "            smaller = y\n",
    "        else:\n",
    "            smaller = x\n",
    "        for i in range(1, smaller+1):\n",
    "            if((x % i == 0) and (y % i == 0)):\n",
    "                hcf = i \n",
    "        return hcf\n",
    "\n",
    "num1 = 54 \n",
    "num2 = 24\n",
    "\n",
    "print(\"The H.C.F. is\", compute_hcf(num1, num2))\n"
   ]
  },
  {
   "cell_type": "markdown",
   "id": "4209b594",
   "metadata": {},
   "source": [
    "### 3.Write a Python Program to Convert Decimal to Binary, Octal and Hexadecimal?\n",
    "\n",
    "    \n"
   ]
  },
  {
   "cell_type": "code",
   "execution_count": 6,
   "id": "5f6c7c2d",
   "metadata": {},
   "outputs": [
    {
     "name": "stdout",
     "output_type": "stream",
     "text": [
      "Enter an integer: 45\n",
      "The decimal value of 45 is:\n",
      "0b101101 in binary.\n",
      "0o55 in octal.\n",
      "0x2d in hexadecimal.\n"
     ]
    }
   ],
   "source": [
    "    x = int(input(\"Enter an integer: \"))\n",
    " \n",
    "    print(\"The decimal value of\", x, \"is:\")\n",
    "    print(bin(x), \"in binary.\")\n",
    "    print(oct(x), \"in octal.\")\n",
    "    print(hex(x), \"in hexadecimal.\")"
   ]
  },
  {
   "cell_type": "markdown",
   "id": "2478f3d7",
   "metadata": {},
   "source": [
    "### 4.Write a Python Program To Find ASCII value of a character\n",
    "\n",
    "    \n"
   ]
  },
  {
   "cell_type": "code",
   "execution_count": 7,
   "id": "3dc3bb0e",
   "metadata": {},
   "outputs": [
    {
     "name": "stdout",
     "output_type": "stream",
     "text": [
      "Please Enter your Own String : principal\n",
      "The ASCII Value of Character p = 112\n",
      "The ASCII Value of Character r = 114\n",
      "The ASCII Value of Character i = 105\n",
      "The ASCII Value of Character n = 110\n",
      "The ASCII Value of Character c = 99\n",
      "The ASCII Value of Character i = 105\n",
      "The ASCII Value of Character p = 112\n",
      "The ASCII Value of Character a = 97\n",
      "The ASCII Value of Character l = 108\n"
     ]
    }
   ],
   "source": [
    "     str1 = input(\"Please Enter your Own String : \")\n",
    "     for i in range(len(str1)):\n",
    "        print(\"The ASCII Value of Character %c = %d\" %(str1[i], ord(str1[i])))"
   ]
  },
  {
   "cell_type": "markdown",
   "id": "04976844",
   "metadata": {},
   "source": [
    "### 5.Write a Python Program to Make a Simple Calculator with 4 basic mathematical operations?\n",
    "\n"
   ]
  },
  {
   "cell_type": "code",
   "execution_count": 8,
   "id": "fba21da7",
   "metadata": {},
   "outputs": [
    {
     "name": "stdout",
     "output_type": "stream",
     "text": [
      "Please select the operation.\n",
      "a = Add\n",
      "b = Subtract\n",
      "c = Multiply\n",
      "d = Divide\n",
      "Please enter choice (a/ b/ c/ d): a\n",
      "Please enter the first number: 5\n",
      "Please enter the second number: 6\n",
      "5  +  6  =  11\n"
     ]
    }
   ],
   "source": [
    "    def add(P, Q):    \n",
    "         return P + Q   \n",
    "    def subtract(P, Q):   \n",
    "       return P - Q   \n",
    "    def multiply(P, Q):   \n",
    "      return P * Q   \n",
    "    def divide(P, Q):   \n",
    "     return P / Q    \n",
    "\n",
    "    print (\"Please select the operation.\")    \n",
    "    print (\"a = Add\")    \n",
    "    print (\"b = Subtract\")    \n",
    "    print (\"c = Multiply\")    \n",
    "    print (\"d = Divide\")    \n",
    "\n",
    "    choice = input(\"Please enter choice (a/ b/ c/ d): \")    \n",
    "\n",
    "    num1 = int (input (\"Please enter the first number: \"))    \n",
    "    num2 = int (input (\"Please enter the second number: \"))    \n",
    "\n",
    "    if choice == 'a':    \n",
    "       print (num1, \" + \", num2, \" = \", add(num1, num2))    \n",
    "\n",
    "    elif choice == 'b':    \n",
    "       print (num1, \" - \", num2, \" = \", subtract(num1, num2))    \n",
    "\n",
    "    elif choice == 'c':    \n",
    "       print (num1, \" * \", num2, \" = \", multiply(num1, num2))    \n",
    "    elif choice == 'd':    \n",
    "       print (num1, \" / \", num2, \" = \", divide(num1, num2))    \n",
    "    else:    \n",
    "       print (\"This is an invalid input\")    \n",
    "    "
   ]
  },
  {
   "cell_type": "code",
   "execution_count": null,
   "id": "ee3769a1",
   "metadata": {},
   "outputs": [],
   "source": []
  }
 ],
 "metadata": {
  "kernelspec": {
   "display_name": "Python 3",
   "language": "python",
   "name": "python3"
  },
  "language_info": {
   "codemirror_mode": {
    "name": "ipython",
    "version": 3
   },
   "file_extension": ".py",
   "mimetype": "text/x-python",
   "name": "python",
   "nbconvert_exporter": "python",
   "pygments_lexer": "ipython3",
   "version": "3.8.8"
  }
 },
 "nbformat": 4,
 "nbformat_minor": 5
}
