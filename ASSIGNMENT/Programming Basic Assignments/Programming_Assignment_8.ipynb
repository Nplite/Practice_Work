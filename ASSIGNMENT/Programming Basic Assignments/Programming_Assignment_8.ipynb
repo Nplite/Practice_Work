{
 "cells": [
  {
   "cell_type": "markdown",
   "id": "428746c8",
   "metadata": {},
   "source": [
    "### 1.Write a Python Program to Add Two Matrices?\n",
    "\n"
   ]
  },
  {
   "cell_type": "code",
   "execution_count": 1,
   "id": "055105a4",
   "metadata": {},
   "outputs": [
    {
     "name": "stdout",
     "output_type": "stream",
     "text": [
      "[17, 15, 4]\n",
      "[10, 12, 9]\n",
      "[11, 13, 18]\n"
     ]
    }
   ],
   "source": [
    "    X = [[12,7,3],\n",
    "        [4 ,5,6],\n",
    "        [7 ,8,9]]\n",
    "\n",
    "    Y = [[5,8,1],\n",
    "        [6,7,3],\n",
    "        [4,5,9]]\n",
    "\n",
    "    result = [[0,0,0],\n",
    "             [0,0,0],\n",
    "             [0,0,0]]\n",
    "\n",
    "\n",
    "    for i in range(len(X)):\n",
    "\n",
    "       for j in range(len(X[0])):\n",
    "           result[i][j] = X[i][j] + Y[i][j]\n",
    "\n",
    "    for r in result:\n",
    "       print(r)\n"
   ]
  },
  {
   "cell_type": "markdown",
   "id": "f874164c",
   "metadata": {},
   "source": [
    "### 2.Write a Python Program to Multiply Two Matrices?\n",
    "   \n",
    "\n"
   ]
  },
  {
   "cell_type": "code",
   "execution_count": 2,
   "id": "dbdf4fbb",
   "metadata": {},
   "outputs": [
    {
     "name": "stdout",
     "output_type": "stream",
     "text": [
      "[60, 56, 3]\n",
      "[24, 35, 18]\n",
      "[28, 40, 81]\n"
     ]
    }
   ],
   "source": [
    "    X = [[12,7,3],\n",
    "        [4 ,5,6],\n",
    "        [7 ,8,9]]\n",
    "\n",
    "    Y = [[5,8,1],\n",
    "        [6,7,3],\n",
    "        [4,5,9]]\n",
    "\n",
    "    result = [[0,0,0],\n",
    "             [0,0,0],\n",
    "             [0,0,0]]\n",
    "\n",
    "\n",
    "    for i in range(len(X)):\n",
    "\n",
    "       for j in range(len(X[0])):\n",
    "           result[i][j] = X[i][j] * Y[i][j]\n",
    "\n",
    "for r in result:\n",
    "   print(r)\n"
   ]
  },
  {
   "cell_type": "markdown",
   "id": "451fdd03",
   "metadata": {},
   "source": [
    "### 3.Write a Python Program to Transpose a Matrix?\n"
   ]
  },
  {
   "cell_type": "code",
   "execution_count": 6,
   "id": "87a9e213",
   "metadata": {},
   "outputs": [
    {
     "name": "stdout",
     "output_type": "stream",
     "text": [
      "[1, 2]\n",
      "[3, 4]\n",
      "[5, 6]\n",
      "\n",
      "\n",
      "[1, 3, 5]\n",
      "[2, 4, 6]\n"
     ]
    }
   ],
   "source": [
    "    m = [[1,2],[3,4],[5,6]]\n",
    "    for row in m :\n",
    "        print(row)\n",
    "    rez = [[m[j][i] for j in range(len(m))] for i in range(len(m[0]))]\n",
    "    print(\"\\n\")\n",
    "    for row in rez:\n",
    "        print(row)\n"
   ]
  },
  {
   "cell_type": "markdown",
   "id": "0bb6d396",
   "metadata": {},
   "source": [
    "### 4.Write a Python Program to Sort Words in Alphabetic Order?\n",
    "\n",
    "\n",
    "\n",
    "\n"
   ]
  },
  {
   "cell_type": "code",
   "execution_count": 5,
   "id": "ea20a044",
   "metadata": {},
   "outputs": [
    {
     "name": "stdout",
     "output_type": "stream",
     "text": [
      "The sorted words are:\n",
      "an\n",
      "cased\n",
      "example\n",
      "hello\n",
      "is\n",
      "letters\n",
      "this\n",
      "with\n"
     ]
    }
   ],
   "source": [
    "    my_str = \"Hello this Is an Example With cased letters\"\n",
    "    #my_str = input(\"Enter a string: \")\n",
    "\n",
    "    words = [word.lower() for word in my_str.split()]\n",
    "\n",
    "    words.sort()\n",
    "    print(\"The sorted words are:\")\n",
    "    for word in words:\n",
    "       print(word)\n"
   ]
  },
  {
   "cell_type": "markdown",
   "id": "241022c1",
   "metadata": {},
   "source": [
    "### 5.Write a Python Program to Remove Punctuation From a String?\n",
    "\n"
   ]
  },
  {
   "cell_type": "code",
   "execution_count": 8,
   "id": "eadb728c",
   "metadata": {},
   "outputs": [
    {
     "name": "stdout",
     "output_type": "stream",
     "text": [
      "Hello World\n"
     ]
    }
   ],
   "source": [
    "    import string\n",
    "    text= 'Hello, W_orl$d#!'\n",
    "    print(text.translate(str.maketrans('', '', string.punctuation)))\n"
   ]
  }
 ],
 "metadata": {
  "kernelspec": {
   "display_name": "Python 3",
   "language": "python",
   "name": "python3"
  },
  "language_info": {
   "codemirror_mode": {
    "name": "ipython",
    "version": 3
   },
   "file_extension": ".py",
   "mimetype": "text/x-python",
   "name": "python",
   "nbconvert_exporter": "python",
   "pygments_lexer": "ipython3",
   "version": "3.8.8"
  }
 },
 "nbformat": 4,
 "nbformat_minor": 5
}
