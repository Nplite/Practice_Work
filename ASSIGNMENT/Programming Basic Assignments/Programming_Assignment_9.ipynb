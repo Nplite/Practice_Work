{
 "cells": [
  {
   "cell_type": "markdown",
   "id": "4fc81e5a",
   "metadata": {},
   "source": [
    "### 1.Write a Python program to check if the given number is a Disarium Number?\n",
    "\n"
   ]
  },
  {
   "cell_type": "code",
   "execution_count": 2,
   "id": "bb0cdcfa",
   "metadata": {},
   "outputs": [
    {
     "name": "stdout",
     "output_type": "stream",
     "text": [
      "569\n",
      "Not Disarium\n"
     ]
    }
   ],
   "source": [
    "    def digits(n):\n",
    "        l=0\n",
    "        while(n>0):\n",
    "            n=n//10\n",
    "            l=l+1\n",
    "        return l\n",
    "    def Disarium(x,n):\n",
    "        Sum=0\n",
    "        while(n>0):\n",
    "            r=n%10\n",
    "            Sum=Sum+(r**x)\n",
    "            x=x-1\n",
    "            n=n//10\n",
    "        return Sum\n",
    "    n=int(input())\n",
    "    x=digits(n)\n",
    "    m=Disarium(x,n)\n",
    "    if(m==n):\n",
    "        print(\"Disarium\")\n",
    "    else:\n",
    "        print(\"Not Disarium\")\n"
   ]
  },
  {
   "cell_type": "markdown",
   "id": "93e4f7d2",
   "metadata": {},
   "source": [
    "### 2.Write a Python program to print all disarium numbers between 1 to 100?\n",
    "\n",
    "\n"
   ]
  },
  {
   "cell_type": "code",
   "execution_count": 4,
   "id": "51c9a7c6",
   "metadata": {},
   "outputs": [
    {
     "name": "stdout",
     "output_type": "stream",
     "text": [
      "Enter a range:\n",
      "1\n",
      "100\n",
      "Disarium numbers between  1  and  100  are: \n",
      "1 2 3 4 5 6 7 8 9 89 "
     ]
    }
   ],
   "source": [
    "    import math\n",
    "    print(\"Enter a range:\")\n",
    "    range1=int(input())\n",
    "    range2=int(input())\n",
    "    print(\"Disarium numbers between \",range1,\" and \",range2,\" are: \")\n",
    "    for i in range(range1,range2+1):\n",
    "        num =i\n",
    "        c = 0\n",
    "        while num != 0:\n",
    "            num //= 10\n",
    "            c += 1\n",
    "        num = i\n",
    "        sum = 0\n",
    "        while num != 0:\n",
    "            rem = num % 10\n",
    "            sum += math.pow(rem, c)\n",
    "            num //= 10\n",
    "            c -= 1\n",
    "        if sum == i:\n",
    "            print(i,end=\" \")\n",
    "        \n"
   ]
  },
  {
   "cell_type": "markdown",
   "id": "075ad0fc",
   "metadata": {},
   "source": [
    "### 3.Write a Python program to check if the given number is Happy Number?\n",
    "\n",
    "\n",
    "\n"
   ]
  },
  {
   "cell_type": "code",
   "execution_count": 7,
   "id": "6469f667",
   "metadata": {},
   "outputs": [
    {
     "name": "stdout",
     "output_type": "stream",
     "text": [
      "82 is a happy number\n"
     ]
    }
   ],
   "source": [
    "    def isHappyNumber(num):    \n",
    "        rem = sum = 0;    \n",
    "\n",
    "\n",
    "        while(num > 0):    \n",
    "            rem = num%10;    \n",
    "            sum = sum + (rem*rem);    \n",
    "            num = num//10;    \n",
    "        return sum;    \n",
    "\n",
    "    num = 82;    \n",
    "    result = num;    \n",
    "\n",
    "    while(result != 1 and result != 4):    \n",
    "        result = isHappyNumber(result);    \n",
    "\n",
    "\n",
    "    if(result == 1):    \n",
    "        print(str(num) + \" is a happy number\");    \n",
    "\n",
    "    elif(result == 4):    \n",
    "        print(str(num) + \" is not a happy number\");   \n"
   ]
  },
  {
   "cell_type": "markdown",
   "id": "7324a2c8",
   "metadata": {},
   "source": [
    "### 4.Write a Python program to print all happy numbers between 1 and 100?\n",
    "\n"
   ]
  },
  {
   "cell_type": "code",
   "execution_count": 8,
   "id": "61339246",
   "metadata": {},
   "outputs": [
    {
     "name": "stdout",
     "output_type": "stream",
     "text": [
      "Enter the number (upper limit): 100\n",
      "1\n",
      "7\n",
      "10\n",
      "13\n",
      "19\n",
      "23\n",
      "28\n",
      "31\n",
      "32\n",
      "44\n",
      "49\n",
      "68\n",
      "70\n",
      "79\n",
      "82\n",
      "86\n",
      "91\n",
      "94\n",
      "97\n",
      "100\n"
     ]
    }
   ],
   "source": [
    "    limit = int(input(\"Enter the number (upper limit): \"))\n",
    "\n",
    "    for i in range(1, limit + 1):\n",
    "        num = i  # num to check\n",
    "        sum = 0  # reset sum\n",
    "        while (sum != 1 and sum != 4):\n",
    "            sum = 0\n",
    "            while (num > 0):\n",
    "                temp = num % 10\n",
    "                sum += (temp * temp)\n",
    "                num = num // 10\n",
    "            num = sum\n",
    "        if (sum == 1):\n",
    "            print(i)  \n",
    "        \n"
   ]
  },
  {
   "cell_type": "markdown",
   "id": "62b62711",
   "metadata": {},
   "source": [
    "### 5. Write a Python program to determine whether the given number is a Harshad Number?\n",
    "\n"
   ]
  },
  {
   "cell_type": "code",
   "execution_count": 9,
   "id": "e34926dc",
   "metadata": {},
   "outputs": [
    {
     "name": "stdout",
     "output_type": "stream",
     "text": [
      "A copy of the number to be checked is being made...\n",
      "134 isn't a Harshad number\n"
     ]
    }
   ],
   "source": [
    "    my_num = 134\n",
    "    remaining = sum_val = 0\n",
    "    print(\"A copy of the number to be checked is being made...\")\n",
    "    my_num_copy = my_num;\n",
    "    while(my_num > 0):\n",
    "       remaining = my_num%10;\n",
    "       sum_val = sum_val + remaining;\n",
    "       my_num = my_num//10;\n",
    "    if(my_num_copy % sum_val == 0):\n",
    "       print(str(my_num_copy) + \" is a Harshad number\");\n",
    "    else:\n",
    "       print(str(my_num_copy) + \" isn't a Harshad number\");\n",
    "\n"
   ]
  },
  {
   "cell_type": "markdown",
   "id": "55f7cc7b",
   "metadata": {},
   "source": [
    "### 6.Write a Python program to print all pronic numbers between 1 and 100?\n"
   ]
  },
  {
   "cell_type": "code",
   "execution_count": 15,
   "id": "0a9b9d29",
   "metadata": {},
   "outputs": [
    {
     "name": "stdout",
     "output_type": "stream",
     "text": [
      "Pronic numbers between 1 and 100: \n",
      "2\n",
      " \n",
      "6\n",
      " \n",
      "12\n",
      " \n",
      "20\n",
      " \n",
      "30\n",
      " \n",
      "42\n",
      " \n",
      "56\n",
      " \n",
      "72\n",
      " \n",
      "90\n",
      " \n"
     ]
    }
   ],
   "source": [
    "def isPronicNumber(num):    \n",
    "    flag = False;   \n",
    "\n",
    "    for j in range(1, num+1):    \n",
    "               \n",
    "        if((j*(j+1)) == num):    \n",
    "            flag = True;    \n",
    "            break;    \n",
    "    return flag;    \n",
    "\n",
    "      \n",
    "print(\"Pronic numbers between 1 and 100: \");    \n",
    "for i in range(1, 101):    \n",
    "    if(isPronicNumber(i)):    \n",
    "        print(i),    \n",
    "        print(\" \"),\n"
   ]
  }
 ],
 "metadata": {
  "kernelspec": {
   "display_name": "Python 3",
   "language": "python",
   "name": "python3"
  },
  "language_info": {
   "codemirror_mode": {
    "name": "ipython",
    "version": 3
   },
   "file_extension": ".py",
   "mimetype": "text/x-python",
   "name": "python",
   "nbconvert_exporter": "python",
   "pygments_lexer": "ipython3",
   "version": "3.8.8"
  }
 },
 "nbformat": 4,
 "nbformat_minor": 5
}
