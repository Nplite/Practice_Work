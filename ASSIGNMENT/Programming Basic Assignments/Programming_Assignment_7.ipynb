{
 "cells": [
  {
   "cell_type": "markdown",
   "id": "062490d1",
   "metadata": {},
   "source": [
    "### 1.Write a Python Program to find sum of array?\n",
    "\n",
    "\n"
   ]
  },
  {
   "cell_type": "code",
   "execution_count": 1,
   "id": "ca88bd6d",
   "metadata": {},
   "outputs": [
    {
     "name": "stdout",
     "output_type": "stream",
     "text": [
      "Sum of the array is  56\n"
     ]
    }
   ],
   "source": [
    "    import array as arr\n",
    "  \n",
    "    a = arr.array('i',[10, 21, 12, 13])\n",
    "\n",
    "    print ('Sum of the array is ', sum(a) ) \n",
    "    \n"
   ]
  },
  {
   "cell_type": "markdown",
   "id": "ac6b56c5",
   "metadata": {},
   "source": [
    "### 2.Write a Python Program to find largest element in an array\n",
    "\n",
    "\n"
   ]
  },
  {
   "cell_type": "code",
   "execution_count": 2,
   "id": "19a34801",
   "metadata": {},
   "outputs": [
    {
     "name": "stdout",
     "output_type": "stream",
     "text": [
      " Greatest element in the array is  24\n"
     ]
    }
   ],
   "source": [
    "    import array as arr \n",
    "    a = arr.array('i',[3, 24, 11, 2])\n",
    "    print (' Greatest element in the array is ', max(a) ) \n"
   ]
  },
  {
   "cell_type": "markdown",
   "id": "fd3f05f0",
   "metadata": {},
   "source": [
    "### 3.Write a Python Program for array rotation?\n",
    "\n"
   ]
  },
  {
   "cell_type": "code",
   "execution_count": 3,
   "id": "41bb8f24",
   "metadata": {},
   "outputs": [
    {
     "name": "stdout",
     "output_type": "stream",
     "text": [
      "Rotated list is\n",
      "[3, 4, 5, 6, 1, 2]\n"
     ]
    }
   ],
   "source": [
    "    def rotateArray(a,d):\n",
    "        n=len(a)\n",
    "        a[:]=a[d:n]+a[0:d]\n",
    "        return a\n",
    "\n",
    "    arr = [1, 2, 3, 4, 5, 6]\n",
    "\n",
    "    print(\"Rotated list is\")\n",
    "    print(rotateArray(arr,2)) \n",
    " "
   ]
  },
  {
   "cell_type": "markdown",
   "id": "d7418a3e",
   "metadata": {},
   "source": [
    "### 4.Write a Python Program to Split the array and add the first part to the end?\n",
    "\n"
   ]
  },
  {
   "cell_type": "code",
   "execution_count": 4,
   "id": "233557cb",
   "metadata": {},
   "outputs": [
    {
     "name": "stdout",
     "output_type": "stream",
     "text": [
      "Output array is [5, 17, 10, 13]\n"
     ]
    }
   ],
   "source": [
    "    def split(arr, k):\n",
    "        arr = arr[k:] + arr[:k]\n",
    "        return arr\n",
    "\n",
    "    k = 2\n",
    "    arr = [10, 13, 5, 17]\n",
    "    print(\"Output array is\", split(arr, k))\n"
   ]
  },
  {
   "cell_type": "markdown",
   "id": "0d623ea6",
   "metadata": {},
   "source": [
    "### 5.Write a Python Program to check if given array is Monotonic?\n",
    "\n",
    "\n"
   ]
  },
  {
   "cell_type": "code",
   "execution_count": 5,
   "id": "829ca496",
   "metadata": {},
   "outputs": [
    {
     "name": "stdout",
     "output_type": "stream",
     "text": [
      "True\n",
      "False\n",
      "True\n",
      "True\n"
     ]
    }
   ],
   "source": [
    "    def ismonotone(a):\n",
    "        n=len(a)\n",
    "        if n==1:\n",
    "            return True\n",
    "        else:\n",
    "\n",
    "            if all(a[i]>=a[i+1] for i in range(0,n-1) or a[i]<=a[i+1] for i in range(0,n-1)):\n",
    "                return True\n",
    "            else:\n",
    "                return False\n",
    "\n",
    "    A = [6, 5, 4, 2]\n",
    "    print(ismonotone(A))\n",
    "    b = [6, 2, 4, 2]\n",
    "    print(ismonotone(b))\n",
    "    c=[4,3,2]\n",
    "    print(ismonotone(c))\n",
    "    d=[1]\n",
    "    print(ismonotone(d))\n"
   ]
  },
  {
   "cell_type": "code",
   "execution_count": null,
   "id": "96f8fb31",
   "metadata": {},
   "outputs": [],
   "source": []
  }
 ],
 "metadata": {
  "kernelspec": {
   "display_name": "Python 3",
   "language": "python",
   "name": "python3"
  },
  "language_info": {
   "codemirror_mode": {
    "name": "ipython",
    "version": 3
   },
   "file_extension": ".py",
   "mimetype": "text/x-python",
   "name": "python",
   "nbconvert_exporter": "python",
   "pygments_lexer": "ipython3",
   "version": "3.8.8"
  }
 },
 "nbformat": 4,
 "nbformat_minor": 5
}
