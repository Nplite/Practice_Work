{
 "cells": [
  {
   "cell_type": "markdown",
   "id": "8918376f",
   "metadata": {},
   "source": [
    "### 1.Write a Python Program to Display Fibonacci Sequence Using Recursion?\n",
    "\n",
    "    \n",
    "\n"
   ]
  },
  {
   "cell_type": "code",
   "execution_count": 1,
   "id": "f2356fd3",
   "metadata": {},
   "outputs": [
    {
     "name": "stdout",
     "output_type": "stream",
     "text": [
      "Enter a number, N, N>=2 : 9\n",
      "[0, 1, 1, 2, 3, 5, 8, 13, 21]\n"
     ]
    }
   ],
   "source": [
    "    def fib(n):\n",
    "        if n<=1:\n",
    "            return n\n",
    "        else:\n",
    "            return(fib(n-1) + fib(n-2))\n",
    "\n",
    "    n = int(input('Enter a number, N, N>=2 : '))\n",
    "\n",
    "    fib_series = []\n",
    "\n",
    "    for i in range(0,n):\n",
    "        fib_series.append(fib(i))\n",
    "\n",
    "    print(fib_series)\n"
   ]
  },
  {
   "cell_type": "markdown",
   "id": "5244c0eb",
   "metadata": {},
   "source": [
    "### 2.Write a Python Program to Find Factorial of Number Using Recursion?\n",
    "\n",
    "   \n",
    "    \n",
    "\n",
    "\n",
    "        \n"
   ]
  },
  {
   "cell_type": "code",
   "execution_count": 3,
   "id": "ab70e6df",
   "metadata": {},
   "outputs": [
    {
     "name": "stdout",
     "output_type": "stream",
     "text": [
      "enter number15\n",
      "number :  15\n",
      "Factorial :  1307674368000\n"
     ]
    }
   ],
   "source": [
    "    def factorial(n): \n",
    "        if (n==1 or n==0):\n",
    "              return 1\n",
    "        else:\n",
    "               return (n * factorial(n - 1)) \n",
    "\n",
    "    num = int(input(\"enter number\")) \n",
    "    print(\"number : \", num)\n",
    "    print(\"Factorial : \",factorial(num))\n",
    "    "
   ]
  },
  {
   "cell_type": "markdown",
   "id": "61ba3c96",
   "metadata": {},
   "source": [
    "### 3.Write a Python Program to calculate your Body Mass Index?\n",
    "\n"
   ]
  },
  {
   "cell_type": "code",
   "execution_count": 4,
   "id": "4c3ef422",
   "metadata": {},
   "outputs": [
    {
     "name": "stdout",
     "output_type": "stream",
     "text": [
      "Enter person's information:\n",
      "Enter your height in cm: 45\n",
      "Enter your weight in kg: 56\n",
      "You BMI is 276.5432098765432\n",
      "You are severely obese.\n"
     ]
    }
   ],
   "source": [
    "    print(\"Enter person's information:\")\n",
    "    height = float(input(\"Enter your height in cm: \"))\n",
    "    weight = float(input(\"Enter your weight in kg: \"))\n",
    "    BMI = weight / (height/100)**2\n",
    "    print(f\"You BMI is {BMI}\")\n",
    "    if BMI <= 18.4:\n",
    "        print(\"You are underweight.\")\n",
    "    elif BMI <= 24.9:\n",
    "        print(\"You are healthy.\")\n",
    "    elif BMI <= 29.9:\n",
    "        print(\"You are over weight.\")\n",
    "    elif BMI <= 34.9:\n",
    "        print(\"You are severely over weight.\")\n",
    "    elif BMI <= 39.9:\n",
    "        print(\"You are obese.\")\n",
    "    else:\n",
    "        print(\"You are severely obese.\")"
   ]
  },
  {
   "cell_type": "markdown",
   "id": "f786dcae",
   "metadata": {},
   "source": [
    "### 4.Write a Python Program to calculate the natural logarithm of any number?\n",
    "\n",
    "    \n",
    "\n",
    "\n"
   ]
  },
  {
   "cell_type": "code",
   "execution_count": 5,
   "id": "70711544",
   "metadata": {},
   "outputs": [
    {
     "name": "stdout",
     "output_type": "stream",
     "text": [
      "math.log(100.12) :  4.6063694665635735\n",
      "math.log(100.72) :  4.612344389736092\n",
      "math.log(math.pi) :  1.1447298858494002\n"
     ]
    }
   ],
   "source": [
    "    import math\n",
    "    print (\"math.log(100.12) : \", math.log(100.12))\n",
    "    print (\"math.log(100.72) : \", math.log(100.72))\n",
    "    print (\"math.log(math.pi) : \", math.log(math.pi))"
   ]
  },
  {
   "cell_type": "markdown",
   "id": "d93803b3",
   "metadata": {},
   "source": [
    "### 5.Write a Python Program for cube sum of first n natural numbers?\n",
    "\n",
    "\n",
    "\n"
   ]
  },
  {
   "cell_type": "code",
   "execution_count": 6,
   "id": "706652cc",
   "metadata": {},
   "outputs": [
    {
     "name": "stdout",
     "output_type": "stream",
     "text": [
      "enter n: 56\n",
      "sum of cubes of first 56 natural numbers:  2547216\n"
     ]
    }
   ],
   "source": [
    "    def CubeSum(n):\n",
    "        s=0\n",
    "        for i in range(n+1):\n",
    "            s+=i**3\n",
    "        return s\n",
    "    n=int(input(\"enter n: \"))\n",
    "    print(\"sum of cubes of first {} natural numbers: \".format(n),CubeSum(n))   \n"
   ]
  },
  {
   "cell_type": "code",
   "execution_count": null,
   "id": "fe5d67cc",
   "metadata": {},
   "outputs": [],
   "source": []
  }
 ],
 "metadata": {
  "kernelspec": {
   "display_name": "Python 3",
   "language": "python",
   "name": "python3"
  },
  "language_info": {
   "codemirror_mode": {
    "name": "ipython",
    "version": 3
   },
   "file_extension": ".py",
   "mimetype": "text/x-python",
   "name": "python",
   "nbconvert_exporter": "python",
   "pygments_lexer": "ipython3",
   "version": "3.8.8"
  }
 },
 "nbformat": 4,
 "nbformat_minor": 5
}
