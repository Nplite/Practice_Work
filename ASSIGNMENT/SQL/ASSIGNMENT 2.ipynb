{
 "cells": [
  {
   "cell_type": "raw",
   "id": "c4220f7c",
   "metadata": {},
   "source": [
    "Q-1. Write an SQL query to print the first three characters of  FIRST_NAME from Worker table.\n",
    "ANS:\n",
    "    SUBSTRING( string, start_position, length );\n",
    "    select SUBSTRING( FIRST_NAME, 1, 3 ) from worker;"
   ]
  },
  {
   "cell_type": "code",
   "execution_count": null,
   "id": "3f5cbb0f",
   "metadata": {},
   "outputs": [],
   "source": [
    "Q-2. Write an SQL query to find the position of the alphabet (‘a’) in the first name column ‘Amitabh’ from Worker table.\n",
    "ANS:\n",
    "    Select INSTR(FIRST_NAME, BINARY'a') from Worker where FIRST_NAME = 'Amitabh';    "
   ]
  },
  {
   "cell_type": "code",
   "execution_count": null,
   "id": "c43f6da2",
   "metadata": {},
   "outputs": [],
   "source": [
    "Q-3. Write an SQL query to print the name of employees having the highest salary in each department.\n",
    "ANS:\n",
    "    select Employee, MAX(SALARY) from department GROUP BY Employee"
   ]
  }
 ],
 "metadata": {
  "kernelspec": {
   "display_name": "Python 3",
   "language": "python",
   "name": "python3"
  },
  "language_info": {
   "codemirror_mode": {
    "name": "ipython",
    "version": 3
   },
   "file_extension": ".py",
   "mimetype": "text/x-python",
   "name": "python",
   "nbconvert_exporter": "python",
   "pygments_lexer": "ipython3",
   "version": "3.8.8"
  }
 },
 "nbformat": 4,
 "nbformat_minor": 5
}
