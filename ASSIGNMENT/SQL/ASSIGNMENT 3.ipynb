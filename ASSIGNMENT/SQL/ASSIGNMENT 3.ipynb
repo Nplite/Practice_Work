{
 "cells": [
  {
   "cell_type": "code",
   "execution_count": null,
   "id": "fffdd706",
   "metadata": {},
   "outputs": [],
   "source": [
    "Q-1. Write an SQL query to print the FIRST_NAME from Worker table after removing white spaces from the right side.\n",
    "ANS:\n",
    "    Select RTRIM(FIRST_NAME) from Worker;\n"
   ]
  },
  {
   "cell_type": "code",
   "execution_count": null,
   "id": "dd60b5bd",
   "metadata": {},
   "outputs": [],
   "source": [
    "Q-2. Write an SQL query that fetches the unique values of DEPARTMENT from Worker table and prints its length.\n",
    "ANS:\n",
    "    select  distinct length(department) from worker;\n",
    "    OR\n",
    "    Select distinct Length(DEPARTMENT) from Worker group by Length(DEPARTMENT); \n",
    "    \n"
   ]
  },
  {
   "cell_type": "code",
   "execution_count": null,
   "id": "69af3191",
   "metadata": {},
   "outputs": [],
   "source": [
    "Q-3. Write an SQL query to fetch nth max salaries from a table.\n",
    "ANS:\n",
    "    Select Emp_name from Worker where Salary =( Select Salary from Worker order by Salary DESC limit n-1,1)\n",
    "    OR\n",
    "    selectT MAX(SALARY) from Worker;"
   ]
  }
 ],
 "metadata": {
  "kernelspec": {
   "display_name": "Python 3",
   "language": "python",
   "name": "python3"
  },
  "language_info": {
   "codemirror_mode": {
    "name": "ipython",
    "version": 3
   },
   "file_extension": ".py",
   "mimetype": "text/x-python",
   "name": "python",
   "nbconvert_exporter": "python",
   "pygments_lexer": "ipython3",
   "version": "3.8.8"
  }
 },
 "nbformat": 4,
 "nbformat_minor": 5
}
