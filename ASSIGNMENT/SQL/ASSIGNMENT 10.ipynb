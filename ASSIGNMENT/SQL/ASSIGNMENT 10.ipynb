{
 "cells": [
  {
   "cell_type": "code",
   "execution_count": null,
   "id": "d6493f7c",
   "metadata": {},
   "outputs": [],
   "source": [
    "Q-19. Write an SQL query to determine the 5th highest salary without using TOP or limit method.\n",
    "ANS:\n",
    "    select * from Worker order by salary desc where rownumber = 5\n",
    "    OR\n",
    "    select * from(select NAME) over ( order by salary desc) as from Worker) where r = &5\n",
    "\n"
   ]
  },
  {
   "cell_type": "code",
   "execution_count": null,
   "id": "2d22a357",
   "metadata": {},
   "outputs": [],
   "source": [
    "Q-20. Write an SQL query to fetch the list of employees with the same salary.\n",
    "ANS:\n",
    "    select * from EMPLOYEE A, EMPLOYEE B where  A.salary = B.salary AND A.DEPT_ID <> B.DEPT_ID.\n",
    "    \n",
    "    OR\n",
    "    Select * From Employee Where Salary in(Select Salary From Employee Group by Salary Having Count(Salary ) > 1)\n",
    "\n",
    "\n"
   ]
  }
 ],
 "metadata": {
  "kernelspec": {
   "display_name": "Python 3",
   "language": "python",
   "name": "python3"
  },
  "language_info": {
   "codemirror_mode": {
    "name": "ipython",
    "version": 3
   },
   "file_extension": ".py",
   "mimetype": "text/x-python",
   "name": "python",
   "nbconvert_exporter": "python",
   "pygments_lexer": "ipython3",
   "version": "3.8.8"
  }
 },
 "nbformat": 4,
 "nbformat_minor": 5
}
