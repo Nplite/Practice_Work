{
 "cells": [
  {
   "cell_type": "code",
   "execution_count": null,
   "id": "d5b50f60",
   "metadata": {},
   "outputs": [],
   "source": [
    "Q-17.  Write an SQL query to show the top n (say 10) records of a table.\n",
    "ANS:\n",
    "    select * from Worker order by DEPT_ID  LIMIT 10\n"
   ]
  },
  {
   "cell_type": "code",
   "execution_count": null,
   "id": "b49fc3ee",
   "metadata": {},
   "outputs": [],
   "source": [
    "Q-18. Write an SQL query to determine the nth (say n=5) highest salary from a table.\n",
    "ANS:\n",
    "    Select DEPT_ID from Worker where Salary =( Select Salary from Worker order by Salary DESC limit n-1,1)"
   ]
  }
 ],
 "metadata": {
  "kernelspec": {
   "display_name": "Python 3",
   "language": "python",
   "name": "python3"
  },
  "language_info": {
   "codemirror_mode": {
    "name": "ipython",
    "version": 3
   },
   "file_extension": ".py",
   "mimetype": "text/x-python",
   "name": "python",
   "nbconvert_exporter": "python",
   "pygments_lexer": "ipython3",
   "version": "3.8.8"
  }
 },
 "nbformat": 4,
 "nbformat_minor": 5
}
