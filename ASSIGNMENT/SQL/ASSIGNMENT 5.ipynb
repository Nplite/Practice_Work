{
 "cells": [
  {
   "cell_type": "raw",
   "id": "2b96cf38",
   "metadata": {},
   "source": [
    "Q-1. Write an SQL query to print details of workers excluding first names, “Vipul” and “Satish” from Worker table.\n",
    "ANS:\n",
    "    Select * from Worker where FIRST_NAME not in (‘Vipul’,’Satish’);"
   ]
  },
  {
   "cell_type": "code",
   "execution_count": null,
   "id": "2a2e7f1a",
   "metadata": {},
   "outputs": [],
   "source": [
    "Q-2. Write an SQL query to print details of the Workers whose FIRST_NAME ends with ‘h’ and contains six alphabets.\n",
    "ANS:\n",
    "    Select * from Worker where FIRST_NAME like '_____h'"
   ]
  },
  {
   "cell_type": "code",
   "execution_count": null,
   "id": "d50717b3",
   "metadata": {},
   "outputs": [],
   "source": [
    "Q-3. Write a query to validate Email of Employee.\n",
    "ANS:\n",
    "     select * from Worker where Email NOT REGEXP '^[^@]+@[^@]+\\.\n",
    "     OR\n",
    "     select * from Worker where Email NOT lIKE '%_@__%.__%'"
   ]
  }
 ],
 "metadata": {
  "kernelspec": {
   "display_name": "Python 3",
   "language": "python",
   "name": "python3"
  },
  "language_info": {
   "codemirror_mode": {
    "name": "ipython",
    "version": 3
   },
   "file_extension": ".py",
   "mimetype": "text/x-python",
   "name": "python",
   "nbconvert_exporter": "python",
   "pygments_lexer": "ipython3",
   "version": "3.8.8"
  }
 },
 "nbformat": 4,
 "nbformat_minor": 5
}
