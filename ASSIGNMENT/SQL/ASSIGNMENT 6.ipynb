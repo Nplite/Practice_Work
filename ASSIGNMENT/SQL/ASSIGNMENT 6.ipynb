{
 "cells": [
  {
   "cell_type": "raw",
   "id": "8368a54a",
   "metadata": {},
   "source": [
    "Q-1. Write an SQL query to print details of the Workers who have joined in Feb’2014.\n",
    "ANS:\n",
    "    select * from Worker where NAME(hire_month, 'year')= 'Feb 2014'\n"
   ]
  },
  {
   "cell_type": "raw",
   "id": "3f9b42d4",
   "metadata": {},
   "source": [
    "Q-2. Write an SQL query to fetch duplicate records having matching data in some fields of a table.\n",
    "anS:\n",
    "    select username, email, COUNT(*) from Worker group by username,email having COUNT(*)<>1\n",
    "   "
   ]
  },
  {
   "cell_type": "raw",
   "id": "14d0fcb8",
   "metadata": {},
   "source": [
    "Q-3. How to remove duplicate rows from Employees table.\n",
    "ANS:\n",
    "    WITH CTE as(select *,ROW_NUMBER() over (PARTITION BY col1,col2,col3 ORDER BY col1,col2,col3) as RN from MyTable)\n",
    "    DELETE from CTE where RN<>1\n",
    "    "
   ]
  }
 ],
 "metadata": {
  "kernelspec": {
   "display_name": "Python 3",
   "language": "python",
   "name": "python3"
  },
  "language_info": {
   "codemirror_mode": {
    "name": "ipython",
    "version": 3
   },
   "file_extension": ".py",
   "mimetype": "text/x-python",
   "name": "python",
   "nbconvert_exporter": "python",
   "pygments_lexer": "ipython3",
   "version": "3.8.8"
  }
 },
 "nbformat": 4,
 "nbformat_minor": 5
}
