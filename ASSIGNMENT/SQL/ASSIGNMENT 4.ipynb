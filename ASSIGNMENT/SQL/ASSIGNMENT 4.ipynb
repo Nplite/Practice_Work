{
 "cells": [
  {
   "cell_type": "code",
   "execution_count": null,
   "id": "da0ac77f",
   "metadata": {},
   "outputs": [],
   "source": [
    "Q-1. Write an SQL query to print the FIRST_NAME from Worker table after replacing ‘a’ with ‘A’.\n",
    "ANS:\n",
    "    select REPLACE(FIRST_NAME,'a','A') AS \"REPLACE NAME\" FROM Worker;\n"
   ]
  },
  {
   "cell_type": "code",
   "execution_count": null,
   "id": "768cf69e",
   "metadata": {},
   "outputs": [],
   "source": [
    "Q-2. Write an SQL query to print all Worker details from the Worker table order by FIRST_NAME Ascending and DEPARTMENT Descending.\n",
    "ANS:\n",
    "    select FIRST_NAME, DEPARTMENT from Worker order by FIRST_NAME ASC , DEPARTMENT DESC"
   ]
  },
  {
   "cell_type": "code",
   "execution_count": null,
   "id": "63b97274",
   "metadata": {},
   "outputs": [],
   "source": [
    "Q-3. Write an SQL query to fetch the names of workers who earn the highest salary.\n",
    "ANS:\n",
    "    SELECT name, salary FROM Worker WHERE salary = (SELECT MAX(salary) FROM Worker);"
   ]
  }
 ],
 "metadata": {
  "kernelspec": {
   "display_name": "Python 3",
   "language": "python",
   "name": "python3"
  },
  "language_info": {
   "codemirror_mode": {
    "name": "ipython",
    "version": 3
   },
   "file_extension": ".py",
   "mimetype": "text/x-python",
   "name": "python",
   "nbconvert_exporter": "python",
   "pygments_lexer": "ipython3",
   "version": "3.8.8"
  }
 },
 "nbformat": 4,
 "nbformat_minor": 5
}
