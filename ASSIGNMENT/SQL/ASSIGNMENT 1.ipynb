{
 "cells": [
  {
   "cell_type": "raw",
   "id": "dcaa7d23",
   "metadata": {},
   "source": [
    "Q-1. Write an SQL query to fetch “FIRST_NAME” from Worker table using the alias name as <WORKER_NAME>.\n",
    "ANS : \n",
    "    Select FIRST_NAME AS WORKER_NAME from Worker"
   ]
  },
  {
   "cell_type": "raw",
   "id": "def4abce",
   "metadata": {},
   "source": [
    "Q-2. Write an SQL query to fetch unique values of DEPARTMENT from Worker table.\n",
    "Ans:\n",
    "    select DISTINCT DEPARTMENT_id from Worker\n"
   ]
  },
  {
   "cell_type": "raw",
   "id": "76e2bbba",
   "metadata": {},
   "source": [
    "Q-3. Write an SQL query to show the last 5 record from a table.\n",
    "ANS:\n",
    "    select * from Worker limit 5 offset (select count(*) from Worker) - 5;"
   ]
  }
 ],
 "metadata": {
  "kernelspec": {
   "display_name": "Python 3",
   "language": "python",
   "name": "python3"
  },
  "language_info": {
   "codemirror_mode": {
    "name": "ipython",
    "version": 3
   },
   "file_extension": ".py",
   "mimetype": "text/x-python",
   "name": "python",
   "nbconvert_exporter": "python",
   "pygments_lexer": "ipython3",
   "version": "3.8.8"
  }
 },
 "nbformat": 4,
 "nbformat_minor": 5
}
