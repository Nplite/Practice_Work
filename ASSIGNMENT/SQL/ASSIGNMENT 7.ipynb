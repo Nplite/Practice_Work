{
 "cells": [
  {
   "cell_type": "code",
   "execution_count": null,
   "id": "4434c754",
   "metadata": {},
   "outputs": [],
   "source": [
    "Q-13. Write an SQL query to show only odd rows from a table.\n",
    "ANS:\n",
    "    Select * from table where id % 2 != 0"
   ]
  },
  {
   "cell_type": "code",
   "execution_count": null,
   "id": "cfae18fa",
   "metadata": {},
   "outputs": [],
   "source": [
    "Q-14. Write an SQL query to clone a new table from another table.\n",
    "ANS:\n",
    "    create table EMPLOYEES select * from Worker\n"
   ]
  }
 ],
 "metadata": {
  "kernelspec": {
   "display_name": "Python 3",
   "language": "python",
   "name": "python3"
  },
  "language_info": {
   "codemirror_mode": {
    "name": "ipython",
    "version": 3
   },
   "file_extension": ".py",
   "mimetype": "text/x-python",
   "name": "python",
   "nbconvert_exporter": "python",
   "pygments_lexer": "ipython3",
   "version": "3.8.8"
  }
 },
 "nbformat": 4,
 "nbformat_minor": 5
}
