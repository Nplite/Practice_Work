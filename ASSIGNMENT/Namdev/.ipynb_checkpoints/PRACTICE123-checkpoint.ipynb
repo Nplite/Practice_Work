{
 "cells": [
  {
   "cell_type": "code",
   "execution_count": 18,
   "id": "de6605cc",
   "metadata": {},
   "outputs": [
    {
     "name": "stdout",
     "output_type": "stream",
     "text": [
      "sum of lement inside list is 45\n"
     ]
    }
   ],
   "source": [
    "total = 0\n",
    "l = [1,2,3,4,5,6,7,8,9]\n",
    "for i in range(0,len(l)):\n",
    "    total = total + l[i]\n",
    "print(\"sum of lement inside list is\", total)"
   ]
  },
  {
   "cell_type": "code",
   "execution_count": null,
   "id": "ed6d44e0",
   "metadata": {},
   "outputs": [],
   "source": [
    "l = [1,2,3,4,5,6,7,8,9]\n",
    "n = 0\n",
    "for i in l:\n",
    "    n+= int(i)\n",
    "    print"
   ]
  }
 ],
 "metadata": {
  "kernelspec": {
   "display_name": "Python 3",
   "language": "python",
   "name": "python3"
  },
  "language_info": {
   "codemirror_mode": {
    "name": "ipython",
    "version": 3
   },
   "file_extension": ".py",
   "mimetype": "text/x-python",
   "name": "python",
   "nbconvert_exporter": "python",
   "pygments_lexer": "ipython3",
   "version": "3.8.8"
  }
 },
 "nbformat": 4,
 "nbformat_minor": 5
}
