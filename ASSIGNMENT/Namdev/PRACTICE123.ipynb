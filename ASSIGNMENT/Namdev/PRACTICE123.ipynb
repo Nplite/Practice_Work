{
 "cells": [
  {
   "cell_type": "code",
   "execution_count": null,
   "id": "016594e8",
   "metadata": {},
   "outputs": [],
   "source": [
    "l = input(\"enter the string\")\n",
    "\n",
    "for i in list(range(l)):\n",
    "    print(i[0::2])"
   ]
  },
  {
   "cell_type": "code",
   "execution_count": null,
   "id": "b6c1650d",
   "metadata": {},
   "outputs": [],
   "source": [
    "word = input('Enter word ')\n",
    "print(\"Original String:\", word)\n",
    "size = len(word)\n",
    "for i in range(0, size - 1, 2):\n",
    "    print(\"index[\", i, \"]\", word[i])"
   ]
  },
  {
   "cell_type": "code",
   "execution_count": null,
   "id": "c442a9df",
   "metadata": {},
   "outputs": [],
   "source": [
    "l = input(\"enter the string\")\n",
    "word = len(l)\n",
    "for i in range(0, word - 1, 2):\n",
    "    print(\"index [\", i, \"] is \", word[i])"
   ]
  },
  {
   "cell_type": "code",
   "execution_count": null,
   "id": "a25c4752",
   "metadata": {},
   "outputs": [],
   "source": [
    "l = input(\"enter the string\")\n",
    "a = list(l)\n",
    "for i in a[0::2]:\n",
    "  \n",
    "    \n",
    "    print(i)"
   ]
  },
  {
   "cell_type": "code",
   "execution_count": null,
   "id": "798a81d3",
   "metadata": {},
   "outputs": [],
   "source": [
    "def list(x):\n",
    "    \n",
    "    if x[0]==x[-1]:\n",
    "        return True\n",
    "        \n",
    "    else:\n",
    "        return False\n",
    "        \n",
    "a = [75, 65, 35, 75, 30]\n",
    "list(a)"
   ]
  },
  {
   "cell_type": "code",
   "execution_count": null,
   "id": "ae31d597",
   "metadata": {},
   "outputs": [],
   "source": [
    "x = [10, 20, 30, 40, 10]"
   ]
  },
  {
   "cell_type": "code",
   "execution_count": null,
   "id": "24dd22ae",
   "metadata": {},
   "outputs": [],
   "source": [
    "x[0]"
   ]
  },
  {
   "cell_type": "code",
   "execution_count": null,
   "id": "b54cabcb",
   "metadata": {},
   "outputs": [],
   "source": [
    "x[-1]"
   ]
  },
  {
   "cell_type": "code",
   "execution_count": null,
   "id": "84084d19",
   "metadata": {},
   "outputs": [],
   "source": [
    "def list(x,b):\n",
    "    a = []\n",
    "    p = [10, 20, 33, 46, 55]\n",
    "    for i in p:\n",
    "        if (p % 5 == 0):\n",
    "            a.extend(i)\n",
    "p = [10, 20, 33, 46, 55]\n",
    "list(p,i)"
   ]
  },
  {
   "cell_type": "code",
   "execution_count": null,
   "id": "5a2f91f4",
   "metadata": {},
   "outputs": [],
   "source": [
    "    def smallest_num_in_list( list ):\n",
    "        min = list[0]\n",
    "        for a in list:\n",
    "            if a < min:\n",
    "                min = a\n",
    "        return min\n",
    "    print(smallest_num_in_list([1, 2, -8, 0]))"
   ]
  },
  {
   "cell_type": "code",
   "execution_count": 2,
   "id": "332b12b9",
   "metadata": {},
   "outputs": [
    {
     "ename": "AttributeError",
     "evalue": "'list' object has no attribute 'set'",
     "output_type": "error",
     "traceback": [
      "\u001b[1;31m---------------------------------------------------------------------------\u001b[0m",
      "\u001b[1;31mAttributeError\u001b[0m                            Traceback (most recent call last)",
      "\u001b[1;32m<ipython-input-2-626e2abfd91f>\u001b[0m in \u001b[0;36m<module>\u001b[1;34m\u001b[0m\n\u001b[0;32m      1\u001b[0m \u001b[0ma\u001b[0m \u001b[1;33m=\u001b[0m \u001b[1;33m[\u001b[0m\u001b[1;36m18\u001b[0m\u001b[1;33m,\u001b[0m \u001b[1;36m52\u001b[0m\u001b[1;33m,\u001b[0m \u001b[1;36m23\u001b[0m\u001b[1;33m,\u001b[0m \u001b[1;36m41\u001b[0m\u001b[1;33m,\u001b[0m \u001b[1;36m32\u001b[0m\u001b[1;33m]\u001b[0m\u001b[1;33m\u001b[0m\u001b[1;33m\u001b[0m\u001b[0m\n\u001b[1;32m----> 2\u001b[1;33m \u001b[0ma\u001b[0m\u001b[1;33m.\u001b[0m\u001b[0mset\u001b[0m\u001b[1;33m(\u001b[0m\u001b[1;33m)\u001b[0m\u001b[1;33m\u001b[0m\u001b[1;33m\u001b[0m\u001b[0m\n\u001b[0m\u001b[0;32m      3\u001b[0m \u001b[0msmallest\u001b[0m \u001b[1;33m=\u001b[0m \u001b[0ma\u001b[0m\u001b[1;33m[\u001b[0m\u001b[1;33m-\u001b[0m\u001b[1;36m2\u001b[0m\u001b[1;33m]\u001b[0m\u001b[1;33m\u001b[0m\u001b[1;33m\u001b[0m\u001b[0m\n\u001b[0;32m      4\u001b[0m \u001b[0mprint\u001b[0m\u001b[1;33m(\u001b[0m\u001b[1;34m\"Smallest number is: \"\u001b[0m\u001b[1;33m,\u001b[0m\u001b[0msmallest\u001b[0m\u001b[1;33m)\u001b[0m\u001b[1;33m\u001b[0m\u001b[1;33m\u001b[0m\u001b[0m\n",
      "\u001b[1;31mAttributeError\u001b[0m: 'list' object has no attribute 'set'"
     ]
    }
   ],
   "source": [
    "    a = [18, 52, 23, 41, 32]\n",
    "    a.set()\n",
    "    smallest = a[-2]\n",
    "    print(\"Smallest number is: \",smallest)"
   ]
  },
  {
   "cell_type": "code",
   "execution_count": 3,
   "id": "3ff367df",
   "metadata": {},
   "outputs": [
    {
     "name": "stdout",
     "output_type": "stream",
     "text": [
      "30\n"
     ]
    }
   ],
   "source": [
    "    l = [20, 30, 40, 25, 10]  \n",
    "    r = set(l)   \n",
    "    r.remove(max(r))    \n",
    "    print(max(r))  \n"
   ]
  },
  {
   "cell_type": "code",
   "execution_count": 4,
   "id": "a81f2152",
   "metadata": {},
   "outputs": [
    {
     "name": "stdout",
     "output_type": "stream",
     "text": [
      "10\n",
      "20\n",
      "55\n"
     ]
    }
   ],
   "source": [
    "\n",
    "    l = [10, 20, 33, 46, 55]\n",
    "    for i in l:\n",
    "        if (i % 5 == 0):\n",
    "            print(i)\n"
   ]
  },
  {
   "cell_type": "code",
   "execution_count": 6,
   "id": "d0aba534",
   "metadata": {},
   "outputs": [
    {
     "name": "stdout",
     "output_type": "stream",
     "text": [
      "enter the input strnbgh\n"
     ]
    },
    {
     "ename": "NameError",
     "evalue": "name 'count' is not defined",
     "output_type": "error",
     "traceback": [
      "\u001b[1;31m---------------------------------------------------------------------------\u001b[0m",
      "\u001b[1;31mNameError\u001b[0m                                 Traceback (most recent call last)",
      "\u001b[1;32m<ipython-input-6-449ed71b408c>\u001b[0m in \u001b[0;36m<module>\u001b[1;34m\u001b[0m\n\u001b[0;32m      2\u001b[0m \u001b[0mstr\u001b[0m \u001b[1;33m=\u001b[0m \u001b[0minput\u001b[0m\u001b[1;33m(\u001b[0m\u001b[1;34m\"enter the input str\"\u001b[0m\u001b[1;33m)\u001b[0m\u001b[1;33m\u001b[0m\u001b[1;33m\u001b[0m\u001b[0m\n\u001b[0;32m      3\u001b[0m \u001b[1;32mfor\u001b[0m \u001b[0mi\u001b[0m \u001b[1;32min\u001b[0m \u001b[0mstr\u001b[0m\u001b[1;33m:\u001b[0m\u001b[1;33m\u001b[0m\u001b[1;33m\u001b[0m\u001b[0m\n\u001b[1;32m----> 4\u001b[1;33m     \u001b[0mprint\u001b[0m\u001b[1;33m(\u001b[0m\u001b[0mcount\u001b[0m\u001b[1;33m(\u001b[0m\u001b[0mi\u001b[0m\u001b[1;33m)\u001b[0m\u001b[1;33m,\u001b[0m \u001b[1;33m{\u001b[0m\u001b[0mi\u001b[0m\u001b[1;33m}\u001b[0m\u001b[1;33m)\u001b[0m\u001b[1;33m\u001b[0m\u001b[1;33m\u001b[0m\u001b[0m\n\u001b[0m",
      "\u001b[1;31mNameError\u001b[0m: name 'count' is not defined"
     ]
    }
   ],
   "source": [
    "a = []\n",
    "str = input(\"enter the input str\")\n",
    "for i in str:\n",
    "    print(count(i), {i})"
   ]
  },
  {
   "cell_type": "code",
   "execution_count": 8,
   "id": "9e28656a",
   "metadata": {},
   "outputs": [
    {
     "name": "stdout",
     "output_type": "stream",
     "text": [
      "emma appear  2 times\n"
     ]
    }
   ],
   "source": [
    "str = \"Emma is good developer. Emma is a writer\"\n",
    "a = str.count('Emma')\n",
    "print(\"emma appear \", a, \"times\")"
   ]
  },
  {
   "cell_type": "code",
   "execution_count": 9,
   "id": "ccabb021",
   "metadata": {},
   "outputs": [
    {
     "name": "stdout",
     "output_type": "stream",
     "text": [
      "\r\n",
      "1 \r\n",
      "2 2 \r\n",
      "3 3 3 \r\n",
      "4 4 4 4 \r\n",
      "5 5 5 5 5 \r\n"
     ]
    }
   ],
   "source": [
    "for i in range(0,6):\n",
    "    for j in range(1, i+1):\n",
    "        print(i, end = \" \")\n",
    "    print(\"\\r\")"
   ]
  },
  {
   "cell_type": "code",
   "execution_count": 10,
   "id": "bb3772c9",
   "metadata": {},
   "outputs": [
    {
     "name": "stdout",
     "output_type": "stream",
     "text": [
      "\n",
      "\n",
      "1 \n",
      "\n",
      "2 2 \n",
      "\n",
      "3 3 3 \n",
      "\n",
      "4 4 4 4 \n",
      "\n",
      "5 5 5 5 5 \n",
      "\n",
      "6 6 6 6 6 6 \n",
      "\n",
      "7 7 7 7 7 7 7 \n",
      "\n",
      "8 8 8 8 8 8 8 8 \n",
      "\n",
      "9 9 9 9 9 9 9 9 9 \n",
      "\n"
     ]
    }
   ],
   "source": [
    "for num in range(10):\n",
    "    for i in range(num):\n",
    "        print (num, end=\" \") \n",
    "   \n",
    "    print(\"\\n\")"
   ]
  },
  {
   "cell_type": "code",
   "execution_count": null,
   "id": "17112180",
   "metadata": {
    "scrolled": true
   },
   "outputs": [],
   "source": [
    "a = input(\"enter the number\")\n",
    "w = \"\"\n",
    "for i in a:\n",
    "    w = w+i\n",
    "    if a == w:\n",
    "        print(\"pelendrom\")\n",
    "    else:\n",
    "        print(\"not pelendrom\")"
   ]
  },
  {
   "cell_type": "code",
   "execution_count": null,
   "id": "c4208544",
   "metadata": {},
   "outputs": [],
   "source": [
    "s = int(input(\"enter the input\"))\n",
    "a = list(s)\n",
    "v = a[::-1]\n",
    "if a==v:\n",
    "    print(\"pelendrom\")\n",
    "else:\n",
    "    print(\"not pelendrom\")"
   ]
  },
  {
   "cell_type": "raw",
   "id": "37779d26",
   "metadata": {},
   "source": []
  },
  {
   "cell_type": "code",
   "execution_count": null,
   "id": "9cdf6b1f",
   "metadata": {},
   "outputs": [],
   "source": [
    "import sys\n",
    "\n",
    "list1 = ['Scott', 'Eric', 'Kly']\n",
    "print(\"size of list = \",sys.getsizeof(list1))\n",
    "\n",
    "name = 'pynative.com'\n",
    "print(\"size of name = \",sys.getsizeof(name))"
   ]
  },
  {
   "cell_type": "code",
   "execution_count": null,
   "id": "da0e5781",
   "metadata": {},
   "outputs": [],
   "source": []
  },
  {
   "cell_type": "code",
   "execution_count": null,
   "id": "b30946e6",
   "metadata": {},
   "outputs": [],
   "source": [
    "def num(list1, list2):\n",
    "    \n",
    "    l = []\n",
    "    \n",
    "    \n",
    "    for i in list1:\n",
    "        if (i % 2 != 0):\n",
    "            l.append(i)\n",
    "            \n",
    "    for j in list2:\n",
    "        if (j % 2 == 0 ):\n",
    "            l.append(j)\n",
    "            \n",
    "    return l  \n",
    "\n",
    "l1 = [10, 20, 25, 30, 35]\n",
    "l2 = [40, 45, 60, 75, 90]\n",
    "print(\"the result list is\", num(l1,l2))\n"
   ]
  },
  {
   "cell_type": "code",
   "execution_count": null,
   "id": "c0c50e34",
   "metadata": {},
   "outputs": [],
   "source": [
    "number = 7536\n",
    "while number > 0:\n",
    "    digit = number % 10\n",
    "    number = number // 10\n",
    "    print(digit, end = \" \")"
   ]
  },
  {
   "cell_type": "code",
   "execution_count": null,
   "id": "ac41975d",
   "metadata": {},
   "outputs": [],
   "source": [
    "income = 45000\n",
    "tax_payable = 0\n",
    "print(\"Given income\", income)\n",
    "\n",
    "if income <= 10000:\n",
    "    tax_payable = 0\n",
    "elif income <= 20000:\n",
    "    x = income - 10000\n",
    "    tax_payable = x * 10 / 100\n",
    "else:\n",
    "    tax_payable = 0\n",
    "    tax_payable = 10000 * 10 / 100\n",
    "    x   =   (income - 20000) \n",
    "    tax_payable =  tax_payable + x * 20 / 100\n",
    "\n",
    "print(\"Total tax to pay is\", tax_payable)"
   ]
  },
  {
   "cell_type": "code",
   "execution_count": null,
   "id": "ca5ce903",
   "metadata": {},
   "outputs": [],
   "source": []
  },
  {
   "cell_type": "code",
   "execution_count": null,
   "id": "0348e660",
   "metadata": {},
   "outputs": [],
   "source": [
    "income = int(input(\"enter the income\"))\n",
    "tax = 0\n",
    "if income <= 10000:\n",
    "    tax = 0\n",
    "elif income <= 20000:\n",
    "    x = (income - 10000)\n",
    "    tax = x * 10/100\n",
    "    \n",
    "else: \n",
    "    tax = 0\n",
    "    tax = 10000 * 10/100\n",
    "    tax += (income -20000)  * 20/100\n",
    "    \n",
    "print(\"the amount of tax deducted is\", tax)\n",
    "    "
   ]
  },
  {
   "cell_type": "code",
   "execution_count": null,
   "id": "7603a3a8",
   "metadata": {},
   "outputs": [],
   "source": [
    "for i in list(range(1,11)):\n",
    "    for j in range(1,11):\n",
    "        print(j*i, end = \"  \")\n",
    "    print(\"\\t\\t\")"
   ]
  },
  {
   "cell_type": "code",
   "execution_count": null,
   "id": "bc3b97bb",
   "metadata": {},
   "outputs": [],
   "source": [
    "for i in list(range(1,11)):\n",
    "    for j in range(1,i+1):\n",
    "        print(j*i, end = \"  \")\n",
    "    print(\"\\t\")"
   ]
  },
  {
   "cell_type": "code",
   "execution_count": null,
   "id": "4d52442f",
   "metadata": {},
   "outputs": [],
   "source": []
  },
  {
   "cell_type": "code",
   "execution_count": null,
   "id": "e4f18c6e",
   "metadata": {},
   "outputs": [],
   "source": [
    "for i in range(6, 0, -1):\n",
    "    for j in range(0, i - 1):\n",
    "        print(\"*\", end = \" \")\n",
    "    print(\" \")"
   ]
  },
  {
   "cell_type": "code",
   "execution_count": null,
   "id": "d18f5217",
   "metadata": {},
   "outputs": [],
   "source": [
    "\"\"\"Write a function called exponent(base, exp)that returns \n",
    "an int value of base raises to the power of exp.\"\"\"\n",
    "\n",
    "def first(a) :\n",
    "    \n",
    "    a = int(input(\"enter the number of base\"))\n",
    "    b = int(input(\"enter the value power of exponent\"))\n",
    "    p = a**b\n",
    "    return   a, \"raised to the power of \", p \n",
    "    \n",
    "first(2)"
   ]
  },
  {
   "cell_type": "code",
   "execution_count": null,
   "id": "3e50b27a",
   "metadata": {},
   "outputs": [],
   "source": [
    "def exponent(base, exp):\n",
    "    num = exp\n",
    "    result = 1\n",
    "    while num > 0:\n",
    "        result = result * base\n",
    "        num = num - 1\n",
    "    print(base, \"raises to the power of\", exp, \"is: \", result)\n",
    "\n",
    "exponent(5, 4)"
   ]
  },
  {
   "cell_type": "code",
   "execution_count": null,
   "id": "6e2a8a44",
   "metadata": {},
   "outputs": [],
   "source": [
    "\"\"\" Print First 10 natural numbers using while loop\"\"\"\n",
    "    \n",
    "i = 1\n",
    "while i < 10:\n",
    "    print(i)\n",
    "    i += 1"
   ]
  },
  {
   "cell_type": "code",
   "execution_count": null,
   "id": "cf5b547f",
   "metadata": {},
   "outputs": [],
   "source": [
    "for i in range(0, 11):\n",
    "    for j in range(1, i+1):\n",
    "        print(j, end = \" \")\n",
    "    print(\"\\t\")"
   ]
  },
  {
   "cell_type": "code",
   "execution_count": null,
   "id": "ab5d7fa0",
   "metadata": {},
   "outputs": [],
   "source": [
    "\"\"\"Calculate the sum of all numbers from 1 to a given number\"\"\"\n",
    "count = 0\n",
    "l = [1,2,3,4,5,6,7,8,9,10]   \n",
    "for i in l:\n",
    "    count = count + i\n",
    "    \n",
    "print(\"sum of all number inside list is\", count)\n",
    "\n",
    "  "
   ]
  },
  {
   "cell_type": "code",
   "execution_count": null,
   "id": "2a890ed0",
   "metadata": {},
   "outputs": [],
   "source": [
    "for i in range(0,10):\n",
    "    for j in range(1,i*2):\n",
    "        print(j, end = \" \")"
   ]
  },
  {
   "cell_type": "code",
   "execution_count": null,
   "id": "9547167d",
   "metadata": {},
   "outputs": [],
   "source": [
    "\"\"\"Write a program to print multiplication table of a given number\"\"\"\n",
    "n = 2\n",
    "for i in range(1,11):        \n",
    "    print(n*i)\n",
    "    \n"
   ]
  },
  {
   "cell_type": "code",
   "execution_count": null,
   "id": "1144f107",
   "metadata": {},
   "outputs": [],
   "source": [
    "\"\"\"The number must be divisible by five\n",
    "If the number is greater than 150, then skip it and move to the next number\n",
    "If the number is greater than 500, then stop the loop\"\"\"\n",
    "l = [12, 75, 150, 180, 145, 525, 50]\n",
    "a = []\n",
    "for i in l:\n",
    "    if (i % 5 == 0) and  i <= 150:\n",
    "        a.append(i)\n",
    "    elif (i >= 500):\n",
    "        break \n",
    "        \n",
    "print(\"the list of a is:\", a)"
   ]
  },
  {
   "cell_type": "code",
   "execution_count": null,
   "id": "cc9b7172",
   "metadata": {},
   "outputs": [],
   "source": [
    "l =  [12, 75, 150, 180, 145, 525, 50]\n",
    "for i in l:\n",
    "    while (i % 5 == 0):\n",
    "        print(i)\n",
    "        i+=1\n",
    "\n",
    "    while (i >= 500):\n",
    "        break\n",
    "        i+=1\n",
    "        \n",
    "    while (i>= 150):\n",
    "        continue\n",
    "        i+=1\n",
    "        "
   ]
  },
  {
   "cell_type": "code",
   "execution_count": null,
   "id": "ad95de9c",
   "metadata": {},
   "outputs": [],
   "source": [
    "\"\"\"Count the total number of digits in a respective any number\"\"\"\n",
    "num = int(input(\"enter the value : \"))\n",
    "count = 0\n",
    "while (num != 0):\n",
    "    num = num//10\n",
    "    count += 1\n",
    "    \n",
    "print(\"the total digit in a number is : \", count)\n",
    "    "
   ]
  },
  {
   "cell_type": "code",
   "execution_count": null,
   "id": "ead126c2",
   "metadata": {},
   "outputs": [],
   "source": [
    "for i in range(6, 0, -1):\n",
    "    for j in range(-i,0):\n",
    "        print(j, end = \" \")\n",
    "    print(\"\\r\")"
   ]
  },
  {
   "cell_type": "code",
   "execution_count": 1,
   "id": "1051a583",
   "metadata": {},
   "outputs": [
    {
     "name": "stdout",
     "output_type": "stream",
     "text": [
      "1 2 3 4 5 6 \r\n",
      "1 2 3 4 5 \r\n",
      "1 2 3 4 \r\n",
      "1 2 3 \r\n",
      "1 2 \r\n",
      "1 \r\n"
     ]
    }
   ],
   "source": [
    "for i in range(6, 0, -1):\n",
    "    for j in range(1,i+1):\n",
    "        print(j, end = \" \")\n",
    "    print(\"\\r\")"
   ]
  },
  {
   "cell_type": "code",
   "execution_count": null,
   "id": "df47ef3c",
   "metadata": {},
   "outputs": [],
   "source": [
    "for i in range(6, 0, -1):\n",
    "    for j in range(0-i,0):\n",
    "        print(j, end = \" \")\n",
    "    print(\"\\r\")"
   ]
  },
  {
   "cell_type": "code",
   "execution_count": null,
   "id": "d20155e1",
   "metadata": {},
   "outputs": [],
   "source": [
    "n = 6\n",
    "k = 6\n",
    "for i in range(0,n+1):    \n",
    "    for j in range(k-i, 0, -1):    \n",
    "        print(j, end = \" \")\n",
    "    print(\"\\r\")"
   ]
  },
  {
   "cell_type": "code",
   "execution_count": null,
   "id": "6d57dcb7",
   "metadata": {},
   "outputs": [],
   "source": [
    "\"\"\"Print list in reverse order using a loop\"\"\"\n",
    "\n",
    "list1 = [10, 20, 30, 40, 50]\n",
    "v= list1[::-1]\n",
    "for i in v:\n",
    "    print(i)"
   ]
  },
  {
   "cell_type": "code",
   "execution_count": 2,
   "id": "e3f70cbc",
   "metadata": {},
   "outputs": [
    {
     "name": "stdout",
     "output_type": "stream",
     "text": [
      "[50, 40, 30, 20, 10]\n"
     ]
    }
   ],
   "source": [
    "list1 = [10, 20, 30, 40, 50]\n",
    "v= list1[::-1]\n",
    "print(v)"
   ]
  },
  {
   "cell_type": "code",
   "execution_count": 3,
   "id": "716c594b",
   "metadata": {},
   "outputs": [
    {
     "name": "stdout",
     "output_type": "stream",
     "text": [
      "10\n",
      "20\n",
      "30\n",
      "40\n",
      "50\n"
     ]
    }
   ],
   "source": [
    "list1 = [10, 20, 30, 40, 50]\n",
    "for i in list1:\n",
    "    print(i)"
   ]
  },
  {
   "cell_type": "code",
   "execution_count": 4,
   "id": "59b5ff35",
   "metadata": {},
   "outputs": [
    {
     "name": "stdout",
     "output_type": "stream",
     "text": [
      "50\n",
      "40\n",
      "30\n",
      "20\n",
      "10\n"
     ]
    }
   ],
   "source": [
    "list1 = [10, 20, 30, 40, 50]\n",
    "a = reversed(list1)\n",
    "for i in a:\n",
    "    print(i)"
   ]
  },
  {
   "cell_type": "code",
   "execution_count": 5,
   "id": "46f4ccd6",
   "metadata": {},
   "outputs": [
    {
     "name": "stdout",
     "output_type": "stream",
     "text": [
      "50\n",
      "40\n",
      "30\n",
      "20\n",
      "10\n"
     ]
    }
   ],
   "source": [
    "list1 = [10, 20, 30, 40, 50]\n",
    "size = len(list1) - 1\n",
    "for i in range(size, -1, -1):\n",
    "    print(list1[i])"
   ]
  },
  {
   "cell_type": "code",
   "execution_count": 6,
   "id": "0fe28049",
   "metadata": {},
   "outputs": [
    {
     "name": "stdout",
     "output_type": "stream",
     "text": [
      "-10\n",
      "-9\n",
      "-8\n",
      "-7\n",
      "-6\n",
      "-5\n",
      "-4\n",
      "-3\n",
      "-2\n",
      "-1\n"
     ]
    }
   ],
   "source": [
    "for i in range(-10,0):    # reverse range function\n",
    "    print(i)"
   ]
  },
  {
   "cell_type": "code",
   "execution_count": 7,
   "id": "eac821a9",
   "metadata": {},
   "outputs": [
    {
     "name": "stdout",
     "output_type": "stream",
     "text": [
      "0\n",
      "1\n",
      "2\n",
      "3\n",
      "4\n",
      "5\n",
      "Done\n"
     ]
    }
   ],
   "source": [
    "for i in range(6): # python will allow such kind of operation like for loop and else\n",
    "    print(i)\n",
    "else:\n",
    "    print(\"Done\")       # we need such type of output \n",
    "        "
   ]
  },
  {
   "cell_type": "code",
   "execution_count": null,
   "id": "1e5970ee",
   "metadata": {},
   "outputs": [],
   "source": [
    "\"\"\"Write a program to display all prime numbers within a range\"\"\"\n",
    "start = 25\n",
    "end = 50\n",
    "for num in range(start, end +1):\n",
    "    if num > 1:\n",
    "        for i in range(2, num):\n",
    "            if (num % i) == 0:\n",
    "                break\n",
    "        else:\n",
    "                print(num)"
   ]
  },
  {
   "cell_type": "code",
   "execution_count": null,
   "id": "5e438266",
   "metadata": {},
   "outputs": [],
   "source": [
    "#FIBONACCI SEQUENCE\n",
    "a = 1\n",
    "b = 1\n",
    "i = 1\n",
    "n = int(input('enter the number'))\n",
    "while i<n :\n",
    "    a,b = b,b+a\n",
    "    i += 1\n",
    "    print(a)"
   ]
  },
  {
   "cell_type": "code",
   "execution_count": null,
   "id": "907af150",
   "metadata": {},
   "outputs": [],
   "source": [
    "def fib(n):\n",
    "   \n",
    "    a = 1\n",
    "    b = 0\n",
    "    for i in range(n):\n",
    "        yield a,i\n",
    "        a,b = b,b+a\n",
    "for i in fib(10):\n",
    "    print(i)\n",
    "\n"
   ]
  },
  {
   "cell_type": "code",
   "execution_count": null,
   "id": "12f2d454",
   "metadata": {},
   "outputs": [],
   "source": [
    "n = 15\n",
    "a = 1\n",
    "b = 1\n",
    "l = []\n",
    "for i in range(10):\n",
    "    a,b = b,b+a\n",
    "    l.append(a)\n",
    "    print(i,a)"
   ]
  },
  {
   "cell_type": "code",
   "execution_count": null,
   "id": "4d98fb61",
   "metadata": {},
   "outputs": [],
   "source": []
  },
  {
   "cell_type": "code",
   "execution_count": null,
   "id": "2429f552",
   "metadata": {},
   "outputs": [],
   "source": [
    "#Write a program to display the number is prime number or not\n",
    "number = int(input(\"Enter any number: \"))\n",
    "if number > 1:\n",
    "    for i in range(2, number):\n",
    "        if (number % i) == 0:\n",
    "            print(number, \"is not a prime number\")\n",
    "            break\n",
    "    else:\n",
    "        print(number, \"is a prime number\")\n",
    "else:\n",
    "    print(number, \"is not a prime number\")"
   ]
  },
  {
   "cell_type": "code",
   "execution_count": null,
   "id": "8533258d",
   "metadata": {},
   "outputs": [],
   "source": [
    "rows = 5\n",
    "for i in range(0, rows):\n",
    "    for j in range(0, i + 1):\n",
    "        print(\"*\", end=' ')\n",
    "    print(\"\\r\")\n",
    "\n",
    "for i in range(rows, 0, -1):\n",
    "    for j in range(0, i - 1):\n",
    "        print(\"*\", end=' ')\n",
    "    print(\"\\r\")"
   ]
  },
  {
   "cell_type": "code",
   "execution_count": null,
   "id": "2b06dbe3",
   "metadata": {},
   "outputs": [],
   "source": [
    "def fib(n):\n",
    "    a = 1\n",
    "    b = 1\n",
    "    l = []\n",
    "    for i in range(n):\n",
    "        l.append(a)\n",
    "        a,b = b, b+a\n",
    "    return l\n",
    "fib(10)"
   ]
  },
  {
   "cell_type": "code",
   "execution_count": null,
   "id": "b63fa5b9",
   "metadata": {},
   "outputs": [],
   "source": [
    "def fib(p):\n",
    "    a = 0\n",
    "    b = 1\n",
    "    for i in range(p):\n",
    "        a,b = b, b+a\n",
    "        print(a) \n",
    "fib(10)\n"
   ]
  },
  {
   "cell_type": "code",
   "execution_count": null,
   "id": "5c5ef8de",
   "metadata": {},
   "outputs": [],
   "source": [
    "print(\"Fibonacci sequence:\")\n",
    "b=[0,1]\n",
    "for i in range(8):\n",
    "    b.append(b[i]+b[i+1])\n",
    "print(b)"
   ]
  },
  {
   "cell_type": "code",
   "execution_count": null,
   "id": "f3fc5d95",
   "metadata": {},
   "outputs": [],
   "source": [
    "n = int(input(\"enter an input number :\"))\n",
    "fact = 1\n",
    "if (n < 0):\n",
    "    print(\"factorial is not possible for negative numbers\")\n",
    "elif (n == 0):\n",
    "    print(\"factorial of 0 is always 1\")\n",
    "else:\n",
    "    for i in range(1, n+1):\n",
    "        fact = fact*i\n",
    "        print(\"factorial of\", i , \"is\", fact)"
   ]
  },
  {
   "cell_type": "code",
   "execution_count": null,
   "id": "5b103587",
   "metadata": {},
   "outputs": [],
   "source": [
    "n = int(input(\"enter an input number\"))\n",
    "fact = 1\n",
    "if (n < 0):\n",
    "    print(\"factorial is not possible for negative numbers\")\n",
    "elif (n == 0):\n",
    "    print(\"factorial of 0 is always 1\")       #check how indentation affects on result output\n",
    "else:\n",
    "    for i in range(1, n+1):\n",
    "        fact = fact*i\n",
    "    print(fact)"
   ]
  },
  {
   "cell_type": "code",
   "execution_count": null,
   "id": "175102fb",
   "metadata": {},
   "outputs": [],
   "source": [
    "a = \"76542\"\n",
    "s = a[::-1]\n",
    "s"
   ]
  },
  {
   "cell_type": "code",
   "execution_count": null,
   "id": "44fe8d65",
   "metadata": {},
   "outputs": [],
   "source": [
    "a = 25\n",
    "p = a % 10\n",
    "print(p)\n",
    "s = a//10\n",
    "print(s)\n",
    "j = a/10\n",
    "print(j)"
   ]
  },
  {
   "cell_type": "code",
   "execution_count": null,
   "id": "085842fe",
   "metadata": {},
   "outputs": [],
   "source": [
    "l = [10, 20, 30, 40, 50, 60, 70, 80, 90, 100]\n",
    "p = []\n",
    "for i in l:\n",
    "    if (l.index(i)) % 2 == 0:\n",
    "        p.append(i)\n",
    "print(\"The odd index of element present is\", p)   \n",
    "        \n"
   ]
  },
  {
   "cell_type": "code",
   "execution_count": null,
   "id": "8ade1f23",
   "metadata": {},
   "outputs": [],
   "source": [
    "l = [10, 20, 30, 40, 50, 60, 70, 80, 90, 100]\n",
    "\n",
    "for i in l:\n",
    "    if (l.index(i)) % 2 == 0:       \n",
    "        print(\"The odd of element present is\", i)   \n",
    "        \n"
   ]
  },
  {
   "cell_type": "code",
   "execution_count": null,
   "id": "7849e15e",
   "metadata": {},
   "outputs": [],
   "source": [
    "l = [10, 20, 30, 40, 50, 60, 70, 80, 90, 100]\n",
    "for i in l[1::2]:    #THIS METHOD CALLED AS LIST SLICING METHOD\n",
    "    print(i, end = \" \")    "
   ]
  },
  {
   "cell_type": "code",
   "execution_count": null,
   "id": "2337306d",
   "metadata": {},
   "outputs": [],
   "source": [
    "n = int(input(\"enter a required number\"))\n",
    "for i in range(0,n):\n",
    "    s = i*i*i\n",
    "    print(\"current number is \", i , \" and the cube is \", s)"
   ]
  },
  {
   "cell_type": "code",
   "execution_count": null,
   "id": "bb451920",
   "metadata": {},
   "outputs": [],
   "source": [
    "\"\"\"Write a program to calculate the sum of series up to n term. For example,\n",
    "if n =5 the series will become 2 + 22 + 222 + 2222 + 22222 = 24690\"\"\"\n",
    "\n",
    "n = 5\n",
    "s = 2\n",
    "a = 0\n",
    "for i in range(0, n):\n",
    "    print(s, end=\"+\")\n",
    "    a += s\n",
    "    s = s * 10 + 2\n",
    "print(\"\\nSum of above series is:\", a)"
   ]
  },
  {
   "cell_type": "code",
   "execution_count": null,
   "id": "f85e282d",
   "metadata": {},
   "outputs": [],
   "source": [
    "n = 5\n",
    "s = 2\n",
    "a = 0\n",
    "for i in range(0, n):\n",
    "    print(s, end=\"+\")\n",
    "    a += s\n",
    "    s = s * 10 + 2\n",
    "print(\"\\nSum of above series is:\", a)"
   ]
  },
  {
   "cell_type": "code",
   "execution_count": null,
   "id": "1347aca9",
   "metadata": {},
   "outputs": [],
   "source": [
    "n = 5\n",
    "s = 2\n",
    "a = 0\n",
    "for i in range(0, n):\n",
    "    print(s, end=\"+\")\n",
    "    a += s\n",
    "    s = s * 10 + 2\n",
    "print(\"\\nSum of above series is:\", a)"
   ]
  },
  {
   "cell_type": "code",
   "execution_count": null,
   "id": "f59f63fa",
   "metadata": {},
   "outputs": [],
   "source": [
    "n = int(input(\"enter a number\"))\n",
    "for i in range(0,n):\n",
    "    for j in range(1,i+1):\n",
    "        print(j, end = \" \")\n",
    "    print(\"\\r\")\n",
    "    \n",
    "for i in range(n,0,-1):\n",
    "    for j in range(1,i+1):\n",
    "        print(j, end = \" \")\n",
    "    print(\"\\r\")"
   ]
  },
  {
   "cell_type": "code",
   "execution_count": null,
   "id": "a2d06e35",
   "metadata": {},
   "outputs": [],
   "source": [
    "num=int(input(\"Enter a number: \"))\n",
    "for i in range(0,num):\n",
    "         print(\"* \"*i)\n",
    "for j in range(0,num):\n",
    "         print(\"* \"*(num-j))"
   ]
  },
  {
   "cell_type": "code",
   "execution_count": null,
   "id": "e002a12a",
   "metadata": {},
   "outputs": [],
   "source": [
    "n = int(input(\"enter a number: \"))\n",
    "for i in range(0,n):\n",
    "    print(\"* \"  *i)\n",
    "for j in range(0,n):\n",
    "    print(\"* \"  *(n-j))"
   ]
  },
  {
   "cell_type": "code",
   "execution_count": null,
   "id": "ccd13c47",
   "metadata": {},
   "outputs": [],
   "source": [
    "#SUM OF SERIES FROM 1 TO 10\n",
    "a, b = 0, 1\n",
    "for i in range(10):\n",
    "    print(b, end=' ')\n",
    "    a, b = b, a + b"
   ]
  },
  {
   "cell_type": "code",
   "execution_count": null,
   "id": "939ad814",
   "metadata": {},
   "outputs": [],
   "source": []
  },
  {
   "cell_type": "code",
   "execution_count": null,
   "id": "0901cc37",
   "metadata": {},
   "outputs": [],
   "source": [
    "for i in range(0,5):\n",
    "    for x in range(i +1):\n",
    "        print(\"*\", end= \" \")\n",
    "    print()\n",
    "else:\n",
    "    for j in range(5, 0, -1):\n",
    "        for y in range(j-1, 0, -1):\n",
    "            print(\"*\", end=\" \")\n",
    "        print()"
   ]
  },
  {
   "cell_type": "code",
   "execution_count": null,
   "id": "ea6c57df",
   "metadata": {},
   "outputs": [],
   "source": [
    "for i in range(-4,5,1):    \n",
    "    print(' '.join(['*' for j in range(5 - abs(i))]))"
   ]
  },
  {
   "cell_type": "code",
   "execution_count": null,
   "id": "92eb3c1c",
   "metadata": {},
   "outputs": [],
   "source": [
    "FUNCTION PRACTICE"
   ]
  },
  {
   "cell_type": "code",
   "execution_count": null,
   "id": "7a66dfc7",
   "metadata": {},
   "outputs": [],
   "source": [
    "def detail(name,age):\n",
    "    print(name,age)\n",
    "    \n",
    "detail(\"namdeo\",27)"
   ]
  },
  {
   "cell_type": "code",
   "execution_count": null,
   "id": "11dd0947",
   "metadata": {},
   "outputs": [],
   "source": [
    "def fun(l):\n",
    "    print(l)\n",
    "    \n",
    "l = [1,2,3,4,5,6,7,8,9]\n",
    "fun(l)"
   ]
  },
  {
   "cell_type": "code",
   "execution_count": null,
   "id": "79a1b8c1",
   "metadata": {},
   "outputs": [],
   "source": [
    "def fun(*args): # it will pass multiple data at a single time\n",
    "    for i in args:\n",
    "        print(i)\n",
    "    \n",
    "fun(1,2,3,4,5,6,7,8,9)"
   ]
  },
  {
   "cell_type": "code",
   "execution_count": null,
   "id": "b83f7293",
   "metadata": {},
   "outputs": [],
   "source": [
    "def fun(*args): \n",
    "        print(*args)\n",
    "    \n",
    "fun(1,2,3,4,5,6,7,8,9)\n",
    "fun(9,8,7,6,5,4)\n",
    "fun(3,2,1)"
   ]
  },
  {
   "cell_type": "code",
   "execution_count": null,
   "id": "69932de9",
   "metadata": {},
   "outputs": [],
   "source": [
    "class add():\n",
    "    def __init__(self,p,q):\n",
    "        self.p = p\n",
    "        self.q = q\n",
    "    def add(p,q):\n",
    "        return p+q\n",
    "class mul():\n",
    "    def sub(p,q):\n",
    "        return p-q\n",
    "    \n",
    "class cal(add,mul):\n",
    "    .__init__(self,*args,**kwargs)\n",
    "    add.__init__(self,*args)\n",
    "    mul.__init__(self,**kwargs)\n",
    "    \n",
    "    \n",
    " # to be continue   "
   ]
  },
  {
   "cell_type": "code",
   "execution_count": null,
   "id": "9079713c",
   "metadata": {},
   "outputs": [],
   "source": [
    "\"\"\"Write a program to create function calculation()\n",
    "such that it can accept two variables and calculate addition \n",
    "and subtraction. Also, it must return both addition and subtraction\n",
    "in a single return call.\"\"\"\n",
    "\n",
    "\n",
    "def cal(a,b):\n",
    "    add = a+b\n",
    "    sub = a-b\n",
    "    return add, sub\n",
    "\n",
    "\n",
    "cal(14,9)"
   ]
  },
  {
   "cell_type": "code",
   "execution_count": null,
   "id": "a25e80c1",
   "metadata": {},
   "outputs": [],
   "source": [
    "def cal(a,b):\n",
    "    return a+b,a-b\n",
    "add, sub = cal(40,15)\n",
    "print(add,sub)"
   ]
  },
  {
   "cell_type": "code",
   "execution_count": null,
   "id": "9fe07d71",
   "metadata": {},
   "outputs": [],
   "source": [
    "\"\"\"Write a program to create a function show_employee() using the following conditions.\n",
    "\n",
    "It should accept the employee’s name and salary and display both.\n",
    "If the salary is missing in the function call then assign default value 9000 to salary\"\"\"\n",
    "\n",
    "\n",
    "def show_employee(name,salary = 9000):\n",
    "    print(\"name\", name, \" salary\", salary)\n",
    "    \n",
    "show_employee(\"namdeo\",15500)\n",
    "show_employee(\"vandana\")"
   ]
  },
  {
   "cell_type": "code",
   "execution_count": null,
   "id": "312e0789",
   "metadata": {},
   "outputs": [],
   "source": [
    "\"\"\"Create an outer function that will accept two parameters, a and b\n",
    "Create an inner function inside an outer function that will calculate the addition of a and b\n",
    "At last, an outer function will add 5 into addition and return it\"\"\"\n",
    "\n",
    "\n",
    "def fun(a,b):\n",
    "    mul = a*b\n",
    "    \n",
    "    def add(a,b):\n",
    "        return a+b\n",
    "    \n",
    "    v = add(a,b)\n",
    "    \n",
    "    return v + 5\n",
    "\n",
    "rest = fun(5,4)\n",
    "print(rest)"
   ]
  },
  {
   "cell_type": "code",
   "execution_count": null,
   "id": "7f0c13cd",
   "metadata": {},
   "outputs": [],
   "source": [
    "\"\"\"Write a program to create a recursive function to calculate the sum of numbers from 0 to 10.\n",
    "\n",
    "A recursive function is a function that calls itself, again and again.\"\"\"\n",
    "\n",
    "def add():\n",
    "    n = int(input(\"enter number required to sum\"))\n",
    "    count = 0\n",
    "    for i in range(0,n):\n",
    "        count = count + i\n",
    "        \n",
    "    return \"The addition of numbers from 0 to 10 is : \", count\n",
    "add()\n",
    "\n",
    "        "
   ]
  },
  {
   "cell_type": "code",
   "execution_count": null,
   "id": "cceefa74",
   "metadata": {},
   "outputs": [],
   "source": [
    "def add():\n",
    "\n",
    "    n = int(input(\"enter the input\"))\n",
    "    total = 0\n",
    "    i  = 1\n",
    "    while i < n:\n",
    "        total = total + i\n",
    "        i+=1\n",
    "    return \"The addition of numbers from 0 to 10 is : \", total\n",
    "\n",
    "add()\n",
    "    "
   ]
  },
  {
   "cell_type": "code",
   "execution_count": null,
   "id": "4ffff17e",
   "metadata": {},
   "outputs": [],
   "source": [
    "def add():\n",
    "    n = int(input(\"enter number required to sum\"))\n",
    "    o = []\n",
    "    count = 0\n",
    "    for i in range(0,n):\n",
    "        count = count + i\n",
    "        o.append(count)\n",
    "        \n",
    "    return \"The addition of numbers from 0 to 10 is : \", o\n",
    "add()"
   ]
  },
  {
   "cell_type": "code",
   "execution_count": null,
   "id": "c19b29ba",
   "metadata": {},
   "outputs": [],
   "source": [
    "try:\n",
    "    def add():\n",
    "        n = int(input(\"enter number required to sum\"))\n",
    "        om = []\n",
    "        count = 0\n",
    "        for i in range(0,n):\n",
    "            count = count + i\n",
    "            o.append(count)\n",
    "\n",
    "    print(\"The addition of numbers from 0 to 10 is : \", om )\n",
    "    add()\n",
    "    \n",
    "except Exception as e:\n",
    "    print(e)"
   ]
  },
  {
   "cell_type": "code",
   "execution_count": null,
   "id": "38c724e9",
   "metadata": {},
   "outputs": [],
   "source": [
    "def addition(num):\n",
    "    if num:\n",
    "        return num + addition(num - 1)\n",
    "    else:\n",
    "        return 0\n",
    "\n",
    "res = addition(10)\n",
    "print(res)"
   ]
  },
  {
   "cell_type": "code",
   "execution_count": null,
   "id": "ac171b4d",
   "metadata": {},
   "outputs": [],
   "source": [
    "\"\"\"Below is the function display_student(name, age).\n",
    "Assign a new name show_tudent(name, age) to it and call it using the new name.\"\"\"\n",
    "\n",
    "def student_name(name,age):\n",
    "    \n",
    "    print('name is', name, \"and age is\", age)\n",
    "student_name('namdeo',27)\n",
    "\n",
    "show_student = student_name\n",
    "\n",
    "show_student('namdeo',27)"
   ]
  },
  {
   "cell_type": "code",
   "execution_count": null,
   "id": "0f2eb2b6",
   "metadata": {},
   "outputs": [],
   "source": [
    "\"\"\"Generate a Python list of all the even numbers between 4 to 30\"\"\"\n",
    "\n",
    "def test():\n",
    "    a = int(input(\"enter the starting number\"))\n",
    "    b = int(input(\"enter the end number\"))\n",
    "    l = []\n",
    "    for i in range(a,b):\n",
    "        if (i % 2 == 0):\n",
    "            l.append(i)       \n",
    "            \n",
    "    return l\n",
    "    \n",
    "test()"
   ]
  },
  {
   "cell_type": "code",
   "execution_count": null,
   "id": "21a966b1",
   "metadata": {},
   "outputs": [],
   "source": [
    "def test():\n",
    "    a = int(input(\"enter the starting number\"))\n",
    "    b = int(input(\"enter the end number\"))\n",
    "    for i in range(a,b):\n",
    "        if (i % 2 == 0):\n",
    "            print(i)\n",
    "       \n",
    "test()   "
   ]
  },
  {
   "cell_type": "code",
   "execution_count": null,
   "id": "fe0b8b66",
   "metadata": {},
   "outputs": [],
   "source": [
    "def test(a,b):\n",
    "    for i in range(a,b):      # this one is alsp correct way to code a even number of list\n",
    "        if (i % 2 == 0):\n",
    "            print(i)\n",
    "       \n",
    "test(4,30)   "
   ]
  },
  {
   "cell_type": "code",
   "execution_count": null,
   "id": "65601098",
   "metadata": {},
   "outputs": [],
   "source": [
    "def test():\n",
    "    return list(range(4,32,2))\n",
    "test()"
   ]
  },
  {
   "cell_type": "code",
   "execution_count": null,
   "id": "e4a35867",
   "metadata": {},
   "outputs": [],
   "source": [
    "\"\"\"Find the largest item from a given list\"\"\"\n",
    "\n",
    "def test(): \n",
    "    x = [4, 6, 8, 24, 12, 2]   \n",
    "    print(max(x))\n",
    "test()\n",
    "    "
   ]
  },
  {
   "cell_type": "code",
   "execution_count": null,
   "id": "2dc150af",
   "metadata": {},
   "outputs": [],
   "source": []
  },
  {
   "cell_type": "code",
   "execution_count": null,
   "id": "e17a2ba1",
   "metadata": {},
   "outputs": [],
   "source": []
  },
  {
   "cell_type": "code",
   "execution_count": null,
   "id": "409bc064",
   "metadata": {},
   "outputs": [],
   "source": []
  },
  {
   "cell_type": "code",
   "execution_count": null,
   "id": "e5790547",
   "metadata": {},
   "outputs": [],
   "source": []
  },
  {
   "cell_type": "code",
   "execution_count": null,
   "id": "600afa86",
   "metadata": {},
   "outputs": [],
   "source": []
  },
  {
   "cell_type": "code",
   "execution_count": null,
   "id": "54eb601b",
   "metadata": {},
   "outputs": [],
   "source": []
  },
  {
   "cell_type": "code",
   "execution_count": null,
   "id": "33c1b6e7",
   "metadata": {},
   "outputs": [],
   "source": [
    "str = \"james\"\n",
    "if \n",
    "    "
   ]
  },
  {
   "cell_type": "code",
   "execution_count": null,
   "id": "5fb30eac",
   "metadata": {},
   "outputs": [],
   "source": [
    "str1 = 'James'\n",
    "print(\"Original String is\", str1)\n",
    "res = str1[0]\n",
    "l = len(str1)\n",
    "mi = int(l / 2)\n",
    "res = res + str1[mi]\n",
    "res = res + str1[l - 1]\n",
    "print(\"New String:\", res)"
   ]
  },
  {
   "cell_type": "code",
   "execution_count": null,
   "id": "d9c9925e",
   "metadata": {},
   "outputs": [],
   "source": [
    "def get_middle_three_chars(str1):\n",
    "    print(\"Original String is\", str1)\n",
    "    mi = int(len(str1) / 2)\n",
    "    res = str1[mi - 1:mi + 2]\n",
    "    print(\"Middle three chars are:\", res)\n",
    "\n",
    "get_middle_three_chars(\"JhonDipPeta\")\n",
    "get_middle_three_chars(\"JaSonAy\")"
   ]
  },
  {
   "cell_type": "code",
   "execution_count": null,
   "id": "cc1bfb58",
   "metadata": {},
   "outputs": [],
   "source": [
    "def midone(a):\n",
    "    p = int(len(a)/2)\n",
    "    m = a[p-1 : p+2]\n",
    "    print(\"the middle number is\",m)\n",
    "    \n",
    "midone(\"jhonDipPeta\")\n",
    "midone(\"jaSonAy\")"
   ]
  },
  {
   "cell_type": "code",
   "execution_count": null,
   "id": "83814ae6",
   "metadata": {},
   "outputs": [],
   "source": [
    "def append_middle(s1, s2):\n",
    "    print(\"Original Strings are\", s1, s2)\n",
    "    mi = int(len(s1) / 2)\n",
    "    x = s1[:mi:]\n",
    "    x = x + s2\n",
    "    x = x + s1[mi:]\n",
    "    print(\"After appending new string in middle:\", x)\n",
    "\n",
    "append_middle(\"Ault\", \"Kelly\")"
   ]
  },
  {
   "cell_type": "code",
   "execution_count": null,
   "id": "0988011a",
   "metadata": {},
   "outputs": [],
   "source": [
    "def mix_string(s1, s2):\n",
    "    first_char = s1[0] + s2[0]\n",
    "    middle_char = s1[int(len(s1) / 2):int(len(s1) / 2) + 1] + s2[int(len(s2) / 2):int(len(s2) / 2) + 1]\n",
    "    last_char = s1[len(s1) - 1] + s2[len(s2) - 1]\n",
    "    res = first_char + middle_char + last_char\n",
    "    print(\"Mix String is \", res)\n",
    "\n",
    "s1 = \"America\"\n",
    "s2 = \"Japan\"\n",
    "mix_string(s1, s2)"
   ]
  },
  {
   "cell_type": "code",
   "execution_count": null,
   "id": "8963429c",
   "metadata": {},
   "outputs": [],
   "source": [
    "l = \"PyNaTiVe\"\n",
    "upper = []\n",
    "lower = []\n",
    "for i in l:\n",
    "    if i.islower():\n",
    "        lower.append(i)\n",
    "    else:\n",
    "        upper.append(i)\n",
    "    \n",
    "x = \"\".join(lower+upper)\n",
    "print(\"the upper letter inside list is :\" , upper)\n",
    "print(\"the lower letter inside list is :\", lower)\n",
    "print('result is :', x)"
   ]
  },
  {
   "cell_type": "code",
   "execution_count": null,
   "id": "b0f1df89",
   "metadata": {},
   "outputs": [],
   "source": [
    "def sample(string):\n",
    "\n",
    "    symbol = 0\n",
    "    digit = 0\n",
    "    char = 0\n",
    "    for i in str1:\n",
    "        if i.isalpha():\n",
    "            char = char + 1\n",
    "        elif i.isdigit():\n",
    "            digit = digit + 1\n",
    "        else:\n",
    "            symbol = symbol + 1\n",
    "\n",
    "sample = \"P@#yn26at^&i5ve\"   \n",
    "print(\"character is :\", char, \"\\ndigit is :\",digit, \"\\nsymbol is :\",symbol)"
   ]
  },
  {
   "cell_type": "code",
   "execution_count": null,
   "id": "4a417702",
   "metadata": {},
   "outputs": [],
   "source": [
    "\"\"\"Given two strings, s1 and s2. Write a program to create a \n",
    "new string s3 made of the first char of s1, then the last char of s2,\n",
    "Next, the second char of s1 and second last char of s2, and so on.\n",
    "Any leftover chars go at the end of the result.       \n",
    "s1 = 'Abc'\n",
    "s2 = 'Xyz' \"\"\"\n",
    "\n",
    "\n",
    "s1_length = len(s1)\n",
    "s2_length = len(s2)\n",
    "length = s1_length if s1_length > s2_length else s2_length\n",
    "result = \"\"\n",
    "s2 = s2[::-1]\n",
    "for i in range(length):\n",
    "    if i < s1_length:\n",
    "        result = result + s1[i]\n",
    "    if i < s2_length:\n",
    "        result = result + s2[i]\n",
    "\n",
    "print(result)\n",
    "\n"
   ]
  },
  {
   "cell_type": "code",
   "execution_count": null,
   "id": "ba2405d0",
   "metadata": {},
   "outputs": [],
   "source": [
    "\"\"\"Write a program to check if two strings are balanced.\n",
    "For example, strings s1 and s2 are balanced if all the characters in \n",
    "the s1 are present in s2. The character’s position doesn’t matter\n",
    "if correct it will show True othervise False\"\"\"\n",
    "\n",
    "\n",
    "def string_balance_test(s1, s2):\n",
    "    flag = True\n",
    "    for char in s1:\n",
    "        if char in s2:\n",
    "            continue\n",
    "        else:\n",
    "            flag = False\n",
    "    return flag\n",
    "\n",
    "\n",
    "s1 = \"Yn\"\n",
    "s2 = \"PYnative\"\n",
    "flag = string_balance_test(s1, s2)\n",
    "print(\"s1 and s2 are balanced:\", flag)\n",
    "\n",
    "s1 = \"Ynf\"\n",
    "s2 = \"PYnative\"\n",
    "flag = string_balance_test(s1, s2)\n",
    "print(\"s1 and s2 are balanced:\", flag)"
   ]
  },
  {
   "cell_type": "code",
   "execution_count": null,
   "id": "8b8139a6",
   "metadata": {},
   "outputs": [],
   "source": [
    "\"\"\"Write a program to find all occurrences of “USA” in a given string ignoring the upper or lower case.\"\"\"\n",
    "\n",
    "\n",
    "str1 = \"Welcome to USA. usa awesome, isn't it?\"\n",
    "sub_string = \"USA\"\n",
    "temp = str1.lower()\n",
    "count = temp.count(sub_string.lower())\n",
    "print(\"The USA count is:\", count)"
   ]
  },
  {
   "cell_type": "code",
   "execution_count": null,
   "id": "741e4927",
   "metadata": {},
   "outputs": [],
   "source": [
    "\"\"\"Given a string s1, write a program to return the sum and\n",
    "average of the digits that appear in the string, ignoring all other characters.\"\"\"\n",
    "\n",
    "total = 0\n",
    "count = 0\n",
    "str1 = \"PYnative29@#8496\"\n",
    "for i in str1:\n",
    "    if i.isdigit():\n",
    "        total += int(i)\n",
    "        count +=1\n",
    "        \n",
    "avg = total /count\n",
    "print(\"sum of digit is: \", total, \"average is :\", avg)\n",
    "        \n",
    "    "
   ]
  },
  {
   "cell_type": "code",
   "execution_count": null,
   "id": "a5efedcf",
   "metadata": {},
   "outputs": [],
   "source": [
    "#Write a program to count occurrences of all characters within a string\n",
    "str1 = \"Apple\"\n",
    "char = dict()\n",
    "for i in str1:\n",
    "    count = str1.count(i)\n",
    "    char[i] = count\n",
    "print('Result:', char)\n"
   ]
  },
  {
   "cell_type": "code",
   "execution_count": null,
   "id": "4401f643",
   "metadata": {},
   "outputs": [],
   "source": [
    "# Reverse a given string\n",
    "str1 = \"PYnative\"\n",
    "a  = str1[::-1]\n",
    "print(\"Normal string is \", str1,\"\\nReverse is \",a )"
   ]
  },
  {
   "cell_type": "code",
   "execution_count": null,
   "id": "a6ebaaac",
   "metadata": {},
   "outputs": [],
   "source": [
    "str1 = \"PYnative\"\n",
    "print(\"Original String is:\", str1)\n",
    "\n",
    "str1 = ''.join(reversed(str1))\n",
    "print(\"Reversed String is:\", str1)"
   ]
  },
  {
   "cell_type": "code",
   "execution_count": null,
   "id": "93896a8f",
   "metadata": {},
   "outputs": [],
   "source": [
    "#Find the last position of a given substring\n",
    "\n",
    "str1 = \"Emma is a data scientist who knows Python. Emma works at google.\"\n",
    "index = str1.rfind(\"Emma\")\n",
    "print(\"last occurance of emma start at index :\", index)\n"
   ]
  },
  {
   "cell_type": "code",
   "execution_count": null,
   "id": "b31a6be1",
   "metadata": {},
   "outputs": [],
   "source": [
    "#Write a program to split a given string on hyphens and display each substring.\n",
    "str1 = 'Emma-is-a-data-scientist'\n",
    "a = str1.split(\"-\")\n",
    "for i in a:\n",
    "    print(i)\n"
   ]
  },
  {
   "cell_type": "code",
   "execution_count": null,
   "id": "f30f84db",
   "metadata": {},
   "outputs": [],
   "source": [
    "#Remove empty strings from a list of strings\n",
    "\n",
    "list = [\"Emma\", \"Jon\", \"\", \"Kelly\", None, \"Eric\", \"\"]\n",
    "for i in list:\n",
    "    if (i == \"\"):\n",
    "        continue\n",
    "    else:\n",
    "        print(i, end = \" \")"
   ]
  },
  {
   "cell_type": "code",
   "execution_count": null,
   "id": "3af58045",
   "metadata": {},
   "outputs": [],
   "source": [
    "list = [\"Emma\", \"Jon\", \"\", \"Kelly\", None, \"Eric\", \"\"]\n",
    "\n",
    "a = []\n",
    "for i in list:\n",
    "    if (i == \"\"):\n",
    "        continue\n",
    "    else:\n",
    "        a.append(i)\n",
    "print(a)"
   ]
  },
  {
   "cell_type": "code",
   "execution_count": null,
   "id": "f1bc6d8d",
   "metadata": {},
   "outputs": [],
   "source": [
    "list = [\"Emma\", \"Jon\", \"\", \"Kelly\", None, \"Eric\", \"\"]\n",
    "str = []\n",
    "for i in list:\n",
    "    if i:\n",
    "        str.append(i)\n",
    "print(str)"
   ]
  },
  {
   "cell_type": "code",
   "execution_count": null,
   "id": "9ce19d03",
   "metadata": {},
   "outputs": [],
   "source": [
    "#Remove special symbols / punctuation from a string\n",
    "\n",
    "import string\n",
    "\n",
    "str1 = \"/*Jon is @developer & musician\"\n",
    "new = str1.translate(str.maketrans('', '', string.punctuation))\n",
    "print(\"New string is : \", new)"
   ]
  },
  {
   "cell_type": "code",
   "execution_count": null,
   "id": "c5354607",
   "metadata": {},
   "outputs": [],
   "source": [
    "#Removal all characters from a string except integers\n",
    "\n",
    "str1 = 'I am 25 years and 10 months old'\n",
    "\n",
    "for i in str1:\n",
    "    if i.isalpha():\n",
    "        continue\n",
    "        \n",
    "    else:\n",
    "        print(i, end = \" \")\n",
    "\n",
    "    "
   ]
  },
  {
   "cell_type": "code",
   "execution_count": null,
   "id": "43deb71c",
   "metadata": {},
   "outputs": [],
   "source": [
    "str1 = 'I am 25 years and 10 months old'\n",
    "\n",
    "for i in str1:\n",
    "    if i.isdigit():\n",
    "        print(i, end = \"\")\n",
    "        \n"
   ]
  },
  {
   "cell_type": "code",
   "execution_count": null,
   "id": "961b3f60",
   "metadata": {},
   "outputs": [],
   "source": [
    "str1 = 'I am 25 years and 10 months old'\n",
    "\n",
    "r = \"\".join([i for i in str1 if i.isdigit()])\n",
    "\n",
    "print(r)"
   ]
  },
  {
   "cell_type": "code",
   "execution_count": null,
   "id": "748d4855",
   "metadata": {},
   "outputs": [],
   "source": [
    "#Write a program to find words with both alphabets and numbers from an input string.\n",
    "\n",
    "str1 = \"Emma25 is Data scientist50 and AI Expert\"\n",
    "a =str1.split(\".\")\n",
    "j = []\n",
    "l = []\n",
    "for i in a:\n",
    "    if i.isalpha():\n",
    "        j.append(i)\n",
    "    else:\n",
    "        l.append(i)\n",
    "print(j)\n",
    "print(l)"
   ]
  },
  {
   "cell_type": "code",
   "execution_count": null,
   "id": "90974ae8",
   "metadata": {},
   "outputs": [],
   "source": [
    "str1  = \"Emma25 is Data scientist50 and AI Expert\"\n",
    "a = \"\".join([i for i in str1 if i.isalpha()])\n",
    "p = \"\".join([i for i in str1 if i.isdigit()])\n",
    "\n",
    "print(a)\n",
    "print(p)"
   ]
  },
  {
   "cell_type": "code",
   "execution_count": null,
   "id": "c7fd3779",
   "metadata": {},
   "outputs": [],
   "source": [
    "str1 = \"Emma25 is Data scientist50 and AI Expert\"\n",
    "print(\"The original string is : \" + str1)\n",
    "\n",
    "r = []\n",
    "temp = str1.split()\n",
    "for item in temp:\n",
    "    if any(char.isalpha() for char in item) and any(char.isdigit() for char in item):\n",
    "        r.append(item)\n",
    "\n",
    "print(\"Displaying words with alphabets and numbers\")\n",
    "for i in r:\n",
    "    print(i)"
   ]
  },
  {
   "cell_type": "code",
   "execution_count": null,
   "id": "209579d6",
   "metadata": {},
   "outputs": [],
   "source": []
  },
  {
   "cell_type": "code",
   "execution_count": null,
   "id": "163a7541",
   "metadata": {},
   "outputs": [],
   "source": []
  },
  {
   "cell_type": "code",
   "execution_count": null,
   "id": "1d9f0ed2",
   "metadata": {},
   "outputs": [],
   "source": [
    "#Replace each special symbol with # in the following string\n",
    "\n",
    "import string\n",
    "\n",
    "l = '/*Jon is @developer & musician!!'\n",
    "replace = '#'\n",
    "\n",
    "for i in string.punctuation:\n",
    "    l = l.replace(i, replace)\n",
    "\n",
    "print( l)"
   ]
  },
  {
   "cell_type": "code",
   "execution_count": null,
   "id": "7833ed44",
   "metadata": {},
   "outputs": [],
   "source": [
    "import string\n",
    "\n",
    "a =  '/*Jon is @developer & musician!!'\n",
    "\n",
    "rep = \"#\"\n",
    "for i in string.punctuation:\n",
    "    a = a.replace(i, rep)\n",
    "    \n",
    "print(a)\n",
    "    "
   ]
  },
  {
   "cell_type": "code",
   "execution_count": null,
   "id": "6962bef0",
   "metadata": {},
   "outputs": [],
   "source": [
    "list1 = [100, 200, 300, 400, 500]\n",
    "a  = list1[::-1]\n",
    "print(a)"
   ]
  },
  {
   "cell_type": "code",
   "execution_count": null,
   "id": "c3568ed3",
   "metadata": {},
   "outputs": [],
   "source": [
    "list1 = [100, 200, 300, 400, 500]\n",
    "list1.reverse()\n",
    "print(list1)"
   ]
  },
  {
   "cell_type": "code",
   "execution_count": null,
   "id": "3998f2f5",
   "metadata": {},
   "outputs": [],
   "source": [
    "list1 = [\"M\", \"na\", \"i\", \"Ke\"]\n",
    "list2 = [\"y\", \"me\", \"s\", \"lly\"]\n",
    "list3 = [ i+j for i,j in zip(list1,list2)]\n",
    "\n",
    "print(list3)"
   ]
  },
  {
   "cell_type": "code",
   "execution_count": null,
   "id": "35e67e37",
   "metadata": {},
   "outputs": [],
   "source": [
    "list1 = [\"M\", \"na\", \"i\", \"Ke\"]\n",
    "list2 = [\"y\", \"me\", \"s\", \"lly\"]\n",
    "for i in list1:\n",
    "    for j in list2:\n",
    "        print(i+j)       # this is substituting each and evry digit"
   ]
  },
  {
   "cell_type": "code",
   "execution_count": null,
   "id": "686afed7",
   "metadata": {},
   "outputs": [],
   "source": [
    "list1 = [1,2,3,4,5,6,7,8,9]\n",
    "list2 = [9,8,7,6,5,4,3,2,1]\n",
    "for i in list1:\n",
    "    for i in list2:\n",
    "        print(i+j)"
   ]
  },
  {
   "cell_type": "code",
   "execution_count": null,
   "id": "223b7d5f",
   "metadata": {},
   "outputs": [],
   "source": [
    "numbers = [1, 2, 3, 4, 5, 6, 7]\n",
    "l = []\n",
    "for i in numbers:\n",
    "    l.append(i*i)\n",
    "print(l)"
   ]
  },
  {
   "cell_type": "code",
   "execution_count": null,
   "id": "d9752b3e",
   "metadata": {},
   "outputs": [],
   "source": [
    "l = [1, 2, 3, 4, 5, 6, 7]\n",
    "m = [ i*i for i in l]\n",
    "print(m)"
   ]
  },
  {
   "cell_type": "code",
   "execution_count": null,
   "id": "10697664",
   "metadata": {},
   "outputs": [],
   "source": [
    "# Concatenate two lists in the following order\n",
    "#['Hello Dear', 'Hello Sir', 'take Dear', 'take Sir']\n",
    "\n",
    "l1 = [\"Hello \", \"take \"]\n",
    "l2 = [\"Dear\", \"Sir\"]\n",
    "for i in l1:\n",
    "    for j in l2:\n",
    "        print(i+j)\n"
   ]
  },
  {
   "cell_type": "code",
   "execution_count": null,
   "id": "4dd2f95f",
   "metadata": {},
   "outputs": [],
   "source": [
    "l1 = [\"Hello \", \"take \"]\n",
    "l2 = [\"Dear\", \"Sir\"]\n",
    "l3 = []\n",
    "for i in l1:\n",
    "    for j in l2:\n",
    "        l3.append(i+j)\n",
    "print(l3)"
   ]
  },
  {
   "cell_type": "code",
   "execution_count": null,
   "id": "b880e747",
   "metadata": {},
   "outputs": [],
   "source": [
    "l1 = [\"Hello \", \"take \"]\n",
    "l2 = [\"Dear\", \"Sir\"]\n",
    "l = [i+j for i in l1 for j in l2]\n",
    "print(l)"
   ]
  },
  {
   "cell_type": "code",
   "execution_count": null,
   "id": "908800c6",
   "metadata": {},
   "outputs": [],
   "source": [
    "l1 = [10, 20, 30, 40]\n",
    "l = [100, 200, 300, 400]\n",
    "l2= l[::-1]\n",
    "l3 = []\n",
    "for i in l1:\n",
    "    for j in l2:\n",
    "        l3.append(i+j)\n",
    "        \n",
    "print(l3)\n",
    "        "
   ]
  },
  {
   "cell_type": "code",
   "execution_count": null,
   "id": "339d9451",
   "metadata": {},
   "outputs": [],
   "source": [
    "l1 = [10, 20, 30, 40]\n",
    "l2 = [100, 200, 300, 400]\n",
    "l3 = []\n",
    "for i in l1:\n",
    "    for j in l2:\n",
    "        l3.append(i+j)\n",
    "        \n",
    "print(l3)\n",
    "        "
   ]
  },
  {
   "cell_type": "code",
   "execution_count": null,
   "id": "f0140c21",
   "metadata": {},
   "outputs": [],
   "source": [
    "l1 = [10, 20, 30, 40]\n",
    "l = [100, 200, 300, 400]\n",
    "l2 = l[::-1]\n",
    "a = [i + j for i,j in zip(l1,l2)]\n",
    "print(a)"
   ]
  },
  {
   "cell_type": "code",
   "execution_count": null,
   "id": "a94f699f",
   "metadata": {},
   "outputs": [],
   "source": [
    "l1 = [10, 20, 30, 40]\n",
    "l2 = [100, 200, 300, 400]\n",
    "\n",
    "a = [i + j for i,j in zip(l1,l2)]\n",
    "print(a)"
   ]
  },
  {
   "cell_type": "code",
   "execution_count": null,
   "id": "c321960b",
   "metadata": {},
   "outputs": [],
   "source": [
    "l1 = [10, 20, 30, 40]\n",
    "l2 = [100, 200, 300, 400]\n",
    "\n",
    "a = [i + j for i in l1 for j in l2]\n",
    "print(a)"
   ]
  },
  {
   "cell_type": "code",
   "execution_count": 1,
   "id": "e8621c2a",
   "metadata": {},
   "outputs": [
    {
     "name": "stdout",
     "output_type": "stream",
     "text": [
      "10   100\n",
      "10   200\n",
      "10   300\n",
      "10   400\n",
      "20   100\n",
      "20   200\n",
      "20   300\n",
      "20   400\n",
      "30   100\n",
      "30   200\n",
      "30   300\n",
      "30   400\n",
      "40   100\n",
      "40   200\n",
      "40   300\n",
      "40   400\n"
     ]
    }
   ],
   "source": [
    "l1 = [10, 20, 30, 40]\n",
    "l2 = [100, 200, 300, 400]\n",
    "for i in l1:\n",
    "    for j in l2:\n",
    "        print(i,\" \",j)"
   ]
  },
  {
   "cell_type": "code",
   "execution_count": null,
   "id": "3d861e31",
   "metadata": {},
   "outputs": [],
   "source": [
    "l1 = [10, 20, 30, 40]\n",
    "l2 = [100, 200, 300, 400]\n",
    "for i,j in zip(l1,l2[::-1]):\n",
    "    print(i,j)"
   ]
  },
  {
   "cell_type": "code",
   "execution_count": null,
   "id": "570b4767",
   "metadata": {},
   "outputs": [],
   "source": [
    "l1 = [10, 20, 30, 40]\n",
    "l2 = [100, 200, 300, 400]\n",
    "for i,j in zip(l1,l2):\n",
    "    print(i,j)"
   ]
  },
  {
   "cell_type": "code",
   "execution_count": null,
   "id": "f260def7",
   "metadata": {},
   "outputs": [],
   "source": [
    "#Remove empty strings from the list of strings\n",
    "list1 = [\"Mike\", \"\", \"Emma\", \"Kelly\", \"\", \"Brad\"]\n",
    "l = []\n",
    "for i in list1:\n",
    "    if (i == \"\"):\n",
    "        continue\n",
    "    else:\n",
    "        l.append(i)\n",
    "        \n",
    "print(l)"
   ]
  },
  {
   "cell_type": "code",
   "execution_count": null,
   "id": "adfcb458",
   "metadata": {},
   "outputs": [],
   "source": [
    "list1 = [\"Mike\", \"\",12 , 3+5j, 25.364, \"Emma\", \"Kelly\", \"\", \"Brad\"]\n",
    "l = []\n",
    "for i in list1:\n",
    "    if (type(i) != str):\n",
    "        continue\n",
    "    else:\n",
    "        l.append(i)\n",
    "        \n",
    "print(l)"
   ]
  },
  {
   "cell_type": "code",
   "execution_count": null,
   "id": "bf00e89e",
   "metadata": {},
   "outputs": [],
   "source": [
    "list1 = [\"Mike\", \"\", \"Emma\", \"Kelly\", \"\", \"Brad\"]\n",
    "r = list(filter(None, list1))\n",
    "print(r)"
   ]
  },
  {
   "cell_type": "code",
   "execution_count": null,
   "id": "121fe5f3",
   "metadata": {},
   "outputs": [],
   "source": [
    "list1 = [\"Mike\", \"\",12 , 3+5j, 25.364, \"Emma\", \"Kelly\", \"\", \"Brad\"]\n",
    "s = list(filter(None,list1))\n",
    "print(s)"
   ]
  },
  {
   "cell_type": "code",
   "execution_count": null,
   "id": "c5329089",
   "metadata": {},
   "outputs": [],
   "source": [
    "l = [[1,2,3],[4,5,6],[],[],[7,8,9],[],[9,8,7],[],[6,5,4],[3,2,1]]\n",
    "t = list(filter(None,l))\n",
    "print(t)"
   ]
  },
  {
   "cell_type": "code",
   "execution_count": null,
   "id": "e07119ff",
   "metadata": {},
   "outputs": [],
   "source": [
    "l = [[1,2,3],[4,5,6],[],[],[7,8,9],[],[9,8,7],[],[6,5,4],[3,2,1]]\n",
    "for i in l:\n",
    "    if (i== []):\n",
    "        continue\n",
    "    else:\n",
    "        print(i)"
   ]
  },
  {
   "cell_type": "code",
   "execution_count": null,
   "id": "e78a92aa",
   "metadata": {},
   "outputs": [],
   "source": [
    "l = [[1,2,3],[4,5,6],[],[],[7,8,9],[],[9,8,7],[],[6,5,4],[3,2,1]]\n",
    "l1= []\n",
    "for i in l:\n",
    "    if (i== []):\n",
    "        continue\n",
    "    else:\n",
    "        l1.append(i)\n",
    "        \n",
    "print(l1)"
   ]
  },
  {
   "cell_type": "code",
   "execution_count": null,
   "id": "7516fc04",
   "metadata": {},
   "outputs": [],
   "source": [
    "l = [[1,2,3],[4,5,6],[],[],[7,8,9],[],[9,8,7],[],[6,5,4],[3,2,1]]\n",
    "l1= []\n",
    "for i in l:\n",
    "    if (type(i) == None):\n",
    "        continue\n",
    "    else:\n",
    "        l1.append(i)\n",
    "        \n",
    "print(l1)"
   ]
  },
  {
   "cell_type": "code",
   "execution_count": null,
   "id": "2e416497",
   "metadata": {},
   "outputs": [],
   "source": [
    "# Add new item to list after a specified item\n",
    "#Write a program to add item 7000 after 6000 in the following Python List\n",
    "\n",
    "list1 = [10, 20, [300, 400, [5000, 6000], 500], 30, 40]\n",
    "list1[2][2].append(7000)\n",
    "print(list1)\n",
    "                "
   ]
  },
  {
   "cell_type": "code",
   "execution_count": null,
   "id": "2db6cd55",
   "metadata": {},
   "outputs": [],
   "source": [
    "list1 = [10, 20, [300, 400, [5000, 6000], 500], 30, 40]\n",
    "list1[2][2].extend(7000)\n",
    "print(list1)"
   ]
  },
  {
   "cell_type": "code",
   "execution_count": null,
   "id": "bded2a95",
   "metadata": {},
   "outputs": [],
   "source": [
    "#Extend nested list by adding the sublist\n",
    "list1 = [\"a\", \"b\", [\"c\", [\"d\", \"e\", [\"f\", \"g\"], \"k\"], \"l\"], \"m\", \"n\"]\n",
    "a = list1[2][1][2]\n",
    "a.extend((\"h\",\"i\",\"j\"))\n",
    "print(list1)"
   ]
  },
  {
   "cell_type": "code",
   "execution_count": null,
   "id": "08f3ffbe",
   "metadata": {},
   "outputs": [],
   "source": [
    "list1 = [\"a\", \"b\", [\"c\", [\"d\", \"e\", [\"f\", \"g\"], \"k\"], \"l\"], \"m\", \"n\"]\n",
    "a = list1[2][1][2]\n",
    "a.extend([\"h\",\"i\",\"j\"])\n",
    "print(list1)"
   ]
  },
  {
   "cell_type": "code",
   "execution_count": null,
   "id": "512c2541",
   "metadata": {},
   "outputs": [],
   "source": []
  },
  {
   "cell_type": "code",
   "execution_count": null,
   "id": "e6d86809",
   "metadata": {},
   "outputs": [],
   "source": [
    "#Write a program to find value 20 in the list, and if it is present, replace it with 200. Only update the first occurrence of an item.\n",
    "\n",
    "l = [5, 10, 15, 20, 25, 50, 20]\n",
    "a = l.index(20)\n",
    "l[a] = 200\n",
    "print(l)"
   ]
  },
  {
   "cell_type": "code",
   "execution_count": null,
   "id": "b45116fc",
   "metadata": {},
   "outputs": [],
   "source": [
    "# write a program to remove all occurrences of item 20.\n",
    "list1 = [5, 20, 15, 20, 25, 50, 20, 40, 60, 35, 80]\n",
    "l = []\n",
    "for i in list1:\n",
    "    if (i % 20 == 0):\n",
    "        continue\n",
    "        \n",
    "    else:\n",
    "        l.append(i)\n",
    "        \n",
    "print(l)\n",
    "        "
   ]
  },
  {
   "cell_type": "code",
   "execution_count": null,
   "id": "c8683952",
   "metadata": {},
   "outputs": [],
   "source": [
    "list1 = [5, 20, 15, 20, 25, 50, 20, 40, 60, 35, 80]\n",
    "l = []\n",
    "for i in list1:\n",
    "    if (i % 20 != 0):\n",
    "        l.append(i)\n",
    "        \n",
    "print(l)\n",
    "        "
   ]
  },
  {
   "cell_type": "code",
   "execution_count": null,
   "id": "a9823c31",
   "metadata": {},
   "outputs": [],
   "source": [
    "list1 = [5, 20, 15, 20, 25, 50, 20]\n",
    "while 20 in list1:\n",
    "    list1.remove(20)\n",
    "print(list1)"
   ]
  },
  {
   "cell_type": "code",
   "execution_count": null,
   "id": "fbdd5708",
   "metadata": {},
   "outputs": [],
   "source": [
    "t = (10, 20, 30, 40, 50)\n",
    "a = t[::-1]\n",
    "print(a)"
   ]
  },
  {
   "cell_type": "code",
   "execution_count": null,
   "id": "46b6b370",
   "metadata": {},
   "outputs": [],
   "source": [
    "t1 = (\"Orange\", [10, 20, 30], (5, 15, 25))\n",
    "a = t1[1][1]\n",
    "print(a)"
   ]
  },
  {
   "cell_type": "code",
   "execution_count": null,
   "id": "c35ca783",
   "metadata": {},
   "outputs": [],
   "source": [
    "t= (50,)\n",
    "print(t)"
   ]
  },
  {
   "cell_type": "code",
   "execution_count": null,
   "id": "e63f3b28",
   "metadata": {},
   "outputs": [],
   "source": [
    "t = (10,20,30,40)\n",
    "a,b,c,d = t\n",
    "\n",
    "print(a)\n",
    "print(b)\n",
    "print(c)\n",
    "print(d)"
   ]
  },
  {
   "cell_type": "code",
   "execution_count": null,
   "id": "e17f66c4",
   "metadata": {},
   "outputs": [],
   "source": [
    "#Swap two tuples in Python\n",
    "t1 = (11, 22)\n",
    "t2 = (99, 88)\n",
    "t = t1\n",
    "t1 = t2\n",
    "t2 = t\n",
    "print(\"the value of t1 is :\" , t1)\n",
    "print(\"the value of t2 is :\" , t2)"
   ]
  },
  {
   "cell_type": "code",
   "execution_count": null,
   "id": "d2bfc834",
   "metadata": {},
   "outputs": [],
   "source": [
    "t1 = (11, 22, 33, 44, 55, 66)\n",
    "l = []\n",
    "w = t1[3]\n",
    "v = t1[4]\n",
    "l.append(w)\n",
    "l.append(v)\n",
    "print(\"the fetched new tuple is :\", l)"
   ]
  },
  {
   "cell_type": "code",
   "execution_count": null,
   "id": "828295e6",
   "metadata": {},
   "outputs": [],
   "source": [
    "t1 = (11, 22, 33, 44, 55, 66)\n",
    "w = t1[3]\n",
    "v = t1[4] and t1[-1]\n",
    "\n",
    "print(\"the value of tuple is :\", (w, v))"
   ]
  },
  {
   "cell_type": "code",
   "execution_count": null,
   "id": "9d371931",
   "metadata": {},
   "outputs": [],
   "source": [
    "t1 = (11, 22, 33, 44, 55, 66)\n",
    "w = t1[3:-1]\n",
    "print(\"the value of tuple is :\", w)"
   ]
  },
  {
   "cell_type": "code",
   "execution_count": null,
   "id": "c9b54b02",
   "metadata": {},
   "outputs": [],
   "source": [
    "#v.update(22)\n",
    "print(v)\n",
    "t1 = (11, [22, 33], 44, 55) \n",
    "t1[1][0] =222\n",
    "print(t1)"
   ]
  },
  {
   "cell_type": "code",
   "execution_count": null,
   "id": "e9374594",
   "metadata": {},
   "outputs": [],
   "source": [
    "# Counts the number of occurrences of item 50 from a tuple\n",
    "t1 = (50, 10, 60, 70, 50,50,50,50,50)\n",
    "total = 0\n",
    "for i in t1:\n",
    "    if i == 50:\n",
    "        total+=1\n",
    "print(total)"
   ]
  },
  {
   "cell_type": "code",
   "execution_count": null,
   "id": "cc05e989",
   "metadata": {},
   "outputs": [],
   "source": [
    "t1 = (50, 10, 60, 70, 50,50,50,50,50)\n",
    "v = t1.count(50)\n",
    "print(\"the 50 is appear\", v,\"times\")"
   ]
  },
  {
   "cell_type": "code",
   "execution_count": null,
   "id": "74b6e5d8",
   "metadata": {},
   "outputs": [],
   "source": [
    "#Check if all items in the tuple are the same\n",
    "t1 = (45, 45, 45, 45)\n",
    "if t1.count(45) ==len(t1):\n",
    "    print(True)\n",
    "else:\n",
    "    print(False)"
   ]
  },
  {
   "cell_type": "code",
   "execution_count": null,
   "id": "fcfcad77",
   "metadata": {},
   "outputs": [],
   "source": [
    "def check(t):\n",
    "    return all(i == t[0] for i in t)\n",
    "\n",
    "t1 = (45, 45, 45, 45)\n",
    "print(check(t1))"
   ]
  },
  {
   "cell_type": "code",
   "execution_count": null,
   "id": "b59519af",
   "metadata": {},
   "outputs": [],
   "source": [
    "condition = True \n",
    "tuple1 = (45, 45, 45, 45,) \n",
    "for i in tuple1:\n",
    "    if i!= 45:\n",
    "        condition=False\n",
    "print (condition)"
   ]
  },
  {
   "cell_type": "code",
   "execution_count": null,
   "id": "fb869ef4",
   "metadata": {},
   "outputs": [],
   "source": [
    "#Convert two lists into a dictionary\n",
    "keys = ['Ten', 'Twenty', 'Thirty']\n",
    "values = [10, 20, 30]\n",
    "h = dict(zip(keys,values))\n",
    "print(h)"
   ]
  },
  {
   "cell_type": "code",
   "execution_count": null,
   "id": "29f87c61",
   "metadata": {},
   "outputs": [],
   "source": [
    "keys = ['Ten', 'Twenty', 'Thirty']\n",
    "values = [10, 20, 30]\n",
    "d = dict()\n",
    "for i in range(len(keys)):\n",
    "    d.update({keys[i]:values[i]})\n",
    "    \n",
    "print(d)"
   ]
  },
  {
   "cell_type": "code",
   "execution_count": null,
   "id": "10188b0c",
   "metadata": {},
   "outputs": [],
   "source": [
    " #Merge two Python dictionaries into one\n",
    "dict1 = {'Ten': 10, 'Twenty': 20, 'Thirty': 30}\n",
    "dict2 = {'Thirty': 30, 'Fourty': 40, 'Fifty': 50}\n",
    "dict1.update(dict2)\n",
    "print(dict1)"
   ]
  },
  {
   "cell_type": "code",
   "execution_count": null,
   "id": "940346cd",
   "metadata": {},
   "outputs": [],
   "source": [
    "dict1 = {'Ten': 10, 'Twenty': 20, 'Thirty': 30}\n",
    "dict2 = {'Thirty': 30, 'Fourty': 40, 'Fifty': 50}\n",
    "dict3 = {**dict1,**dict2}\n",
    "print(dict3)"
   ]
  },
  {
   "cell_type": "code",
   "execution_count": null,
   "id": "952aeae6",
   "metadata": {},
   "outputs": [],
   "source": [
    "def update(a,b):\n",
    "    a.update(b)\n",
    "    return a\n",
    "d1 = {'Ten': 10, 'Twenty': 20, 'Thirty': 30}\n",
    "d2 = {'Thirty': 30, 'Fourty': 40, 'Fifty': 50}\n",
    "update(dict1,dict2)\n"
   ]
  },
  {
   "cell_type": "code",
   "execution_count": null,
   "id": "fedb1998",
   "metadata": {},
   "outputs": [],
   "source": [
    "dict1 = {'Ten': 10, 'Twenty': 20, 'Thirty': 30}\n",
    "dict2 = {'Thirty': 30, 'Fourty': 40, 'Fifty': 50}\n",
    "\n",
    "dict3 = dict1.copy()      #THIS WILL ADDING NEW LIST\n",
    "dict3.update(dict2)\n",
    "print(dict3)"
   ]
  },
  {
   "cell_type": "code",
   "execution_count": null,
   "id": "2438121d",
   "metadata": {},
   "outputs": [],
   "source": [
    "# Print the value of key ‘history’ from the below\n",
    "\n",
    "sample = {\n",
    "    \"class\": {\n",
    "        \"student\": {\n",
    "            \"name\": \"Mike\",\n",
    "            \"marks\": {\n",
    "                \"physics\": 70,\n",
    "                \"history\": 80\n",
    "            }\n",
    "        }\n",
    "    }\n",
    "}\n",
    "\n",
    "sample['class']['student']['marks']['history']"
   ]
  },
  {
   "cell_type": "code",
   "execution_count": null,
   "id": "b7ec9b66",
   "metadata": {},
   "outputs": [],
   "source": [
    "#Initialize dictionary with default values\n",
    "emp = ['Kelly', 'Emma']\n",
    "de = {\"designation\": 'Developer', \"salary\": 8000}\n",
    "a = dict.fromkeys(emp,de)\n",
    "print(a[\"Kelly\"])\n",
    "print(a[\"Emma\"])"
   ]
  },
  {
   "cell_type": "code",
   "execution_count": null,
   "id": "678f6819",
   "metadata": {},
   "outputs": [],
   "source": [
    "emp = ['Kelly', 'Emma']\n",
    "de = {\"designation\": 'Developer', \"salary\": 8000}\n",
    "for i in emp:\n",
    "    for j in de:\n",
    "        print(i+j)"
   ]
  },
  {
   "cell_type": "code",
   "execution_count": null,
   "id": "56b33700",
   "metadata": {},
   "outputs": [],
   "source": [
    "emp = ['Kelly', 'Emma']\n",
    "de = {\"designation\": 'Developer', \"salary\": 8000}\n",
    "\n",
    "a = dict(zip(emp,de))\n",
    "print(a)\n"
   ]
  },
  {
   "cell_type": "code",
   "execution_count": null,
   "id": "736834f0",
   "metadata": {},
   "outputs": [],
   "source": [
    "emp = ['Kelly', 'Emma']\n",
    "de = {\"designation\": 'Developer', \"salary\": 8000}\n",
    "a = dict.fromkeys(emp,de)\n",
    "print(a)"
   ]
  },
  {
   "cell_type": "code",
   "execution_count": null,
   "id": "92b31b74",
   "metadata": {},
   "outputs": [],
   "source": [
    "#Create a dictionary by extracting the keys from a given dictionary\n",
    "sample_dict = {\n",
    "    \"name\": \"Kelly\",\n",
    "    \"age\": 25,\n",
    "    \"salary\": 8000,\n",
    "    \"city\": \"New york\"}\n",
    "\n",
    "# Keys to extract : - keys = [\"name\", \"salary\"]\n",
    "keys = [\"name\", \"salary\"]\n",
    "for i in keys:\n",
    "    a = {i :sample_dict[i] }\n",
    "    print(a)\n",
    "\n",
    "        \n"
   ]
  },
  {
   "cell_type": "code",
   "execution_count": null,
   "id": "e7ca1d88",
   "metadata": {},
   "outputs": [],
   "source": [
    "sample_dict = {\n",
    "    \"name\": \"Kelly\",\n",
    "    \"age\": 25,\n",
    "    \"salary\": 8000,\n",
    "    \"city\": \"New york\"}\n",
    "\n",
    "keys = [\"name\", \"salary\"]\n",
    "\n",
    "a = {i :sample_dict[i] for i in keys}\n",
    "print(a)"
   ]
  },
  {
   "cell_type": "code",
   "execution_count": null,
   "id": "9ad7eb4f",
   "metadata": {},
   "outputs": [],
   "source": [
    "sample_dict = {\n",
    "    \"name\": \"Kelly\",\n",
    "    \"age\": 25,\n",
    "    \"salary\": 8000,\n",
    "    \"city\": \"New york\"}\n",
    "keys = [\"name\", \"salary\"]\n",
    "d = dict()\n",
    "for i in keys:\n",
    "    d.update({i:sample_dict[i]})\n",
    "    \n",
    "print(d)"
   ]
  },
  {
   "cell_type": "code",
   "execution_count": null,
   "id": "7b4186ce",
   "metadata": {},
   "outputs": [],
   "source": [
    "#Delete a list of keys from a dictionary\n",
    "sample = {\n",
    "    \"name\": \"Kelly\",\n",
    "    \"age\": 25,\n",
    "    \"salary\": 8000,\n",
    "    \"city\": \"New york\"\n",
    "}\n",
    "\n",
    "# Keys to remove : - keys = [\"name\", \"salary\"]\n",
    "\n",
    "keys = [\"name\", \"salary\"]\n",
    "for i in keys:\n",
    "    sample.pop(i)\n",
    "print(sample)"
   ]
  },
  {
   "cell_type": "code",
   "execution_count": null,
   "id": "7b2213ca",
   "metadata": {},
   "outputs": [],
   "source": [
    "sample = {\n",
    "    \"name\": \"Kelly\",\n",
    "    \"age\": 25,\n",
    "    \"salary\": 8000,\n",
    "    \"city\": \"New york\"\n",
    "}\n",
    "\n",
    "# Keys to remove : - keys = [\"name\", \"salary\"]\n",
    "\n",
    "keys = [\"name\", \"salary\"]\n",
    "for i in keys:\n",
    "    sample.remove(i)\n",
    "print(sample)"
   ]
  },
  {
   "cell_type": "code",
   "execution_count": null,
   "id": "86596da1",
   "metadata": {},
   "outputs": [],
   "source": [
    "sample = {\n",
    "    \"name\": \"Kelly\",\n",
    "    \"age\": 25,\n",
    "    \"salary\": 8000,\n",
    "    \"city\": \"New york\"\n",
    "}\n",
    "\n",
    "# Keys to remove : - keys = [\"name\", \"salary\"]\n",
    "\n",
    "keys = [\"name\", \"salary\"]\n",
    "for i in sample.keys()-keys:\n",
    "    a = {i:sample[i]}\n",
    "    print(a)\n",
    "   \n"
   ]
  },
  {
   "cell_type": "code",
   "execution_count": null,
   "id": "2469af24",
   "metadata": {},
   "outputs": [],
   "source": [
    "keys = [\"name\", \"salary\"]\n",
    "a = {i:sample[i] for i in sample.keys()-keys}    \n",
    "print(a)"
   ]
  },
  {
   "cell_type": "code",
   "execution_count": null,
   "id": "cf640372",
   "metadata": {},
   "outputs": [],
   "source": [
    "#Write a Python program to check if value 200 exists in the following dictionary.\n",
    "sample = {'a': 100, 'b': 200, 'c': 300}\n",
    "for i in sample:\n",
    "    if sample[i] == 200:\n",
    "        print(\"yes!, value of 200 present inside dictionary\")\n",
    "    "
   ]
  },
  {
   "cell_type": "code",
   "execution_count": null,
   "id": "78cb5a1c",
   "metadata": {},
   "outputs": [],
   "source": [
    "sample = {'a': 100, 'b': 200, 'c': 300}\n",
    "y = sample.values()\n",
    "for i in y:\n",
    "    if i == 200:\n",
    "        print(\"200 present in dict\")"
   ]
  },
  {
   "cell_type": "code",
   "execution_count": null,
   "id": "c3691914",
   "metadata": {},
   "outputs": [],
   "source": [
    "sample = {'a': 100, 'b': 200, 'c': 300}\n",
    "y = sample.values()\n",
    "if 200 in sample.values():\n",
    "    print(\"200 present inside dictionary\")"
   ]
  },
  {
   "cell_type": "code",
   "execution_count": null,
   "id": "709db187",
   "metadata": {},
   "outputs": [],
   "source": [
    "#Rename key of a dictionary\n",
    "samp = {\n",
    "  \"name\": \"Kelly\",\n",
    "  \"age\":25,\n",
    "  \"salary\": 8000,\n",
    "  \"city\": \"New york\"\n",
    "}\n",
    "\n",
    "samp[\"location\"] = samp.pop(\"city\")\n",
    "samp"
   ]
  },
  {
   "cell_type": "code",
   "execution_count": null,
   "id": "19c88206",
   "metadata": {},
   "outputs": [],
   "source": [
    "#Get the key of a minimum value from the following dictionary\n",
    "sam = {\n",
    "  'Physics': 82,\n",
    "  'Math': 65,\n",
    "  'history': 75\n",
    "}\n",
    "\n",
    "print(min(sam, key = sam.get))\n",
    "    "
   ]
  },
  {
   "cell_type": "code",
   "execution_count": null,
   "id": "e9ad3355",
   "metadata": {},
   "outputs": [],
   "source": [
    "#Get the key of a maximum value from the following dictionary\n",
    "sam = {\n",
    "  'Physics': 82,\n",
    "  'Math': 65,\n",
    "  'history': 75\n",
    "}\n",
    "\n",
    "print(max(sam, key = sam.get))\n",
    "    "
   ]
  },
  {
   "cell_type": "code",
   "execution_count": null,
   "id": "58027e84",
   "metadata": {},
   "outputs": [],
   "source": [
    "#Change value of a key in a nested dictionary\n",
    "\n",
    "sample = {\n",
    "    'emp1': {'name': 'Jhon', 'salary': 7500},\n",
    "    'emp2': {'name': 'Emma', 'salary': 8000},\n",
    "    'emp3': {'name': 'Brad', 'salary': 500}\n",
    "}\n",
    "\n",
    "sample[\"emp3\"]['salary'] = 8500\n",
    "print(sample)"
   ]
  },
  {
   "cell_type": "code",
   "execution_count": null,
   "id": "94ee3653",
   "metadata": {},
   "outputs": [],
   "source": [
    "keys = ['Ten', 'Twenty', 'Thirty']\n",
    "values = [10, 20, 30]\n",
    "\n",
    "d = dict.fromkeys(keys)\n",
    "for i, k in enumerate(d.keys()):\n",
    "    d[k] = values[i]\n",
    "print(d)"
   ]
  },
  {
   "cell_type": "code",
   "execution_count": null,
   "id": "61ad4e9a",
   "metadata": {},
   "outputs": [],
   "source": [
    "sampleDict = {\"class\": {\"student\": {\"name\": \"Mike\", \"marks\": {\"physics\": 70, \"history\": 80}}}}\n",
    "for key, value in sampleDict['class']['student']['marks'].items():\n",
    "    if key == 'history':\n",
    "        print(value)"
   ]
  },
  {
   "cell_type": "code",
   "execution_count": null,
   "id": "15d4fdcd",
   "metadata": {},
   "outputs": [],
   "source": [
    "keys = ['Ten', 'Twenty', 'Thirty']\n",
    "values = [10, 20, 30]\n",
    "\n",
    "my_dict = {k:v for k,v in zip(keys, values)}\n",
    "my_dict"
   ]
  },
  {
   "cell_type": "code",
   "execution_count": null,
   "id": "20762ba7",
   "metadata": {},
   "outputs": [],
   "source": [
    " sampleDict = {\n",
    "  \"name\": \"Kelly\",\n",
    "  \"age\":25,\n",
    "  \"salary\": 8000,\n",
    "  \"city\": \"New york\"}\n",
    "keysToRemove = [\"name\", \"salary\"]\n",
    "for i in keysToRemove:\n",
    "    del sampleDict[i]\n",
    "print(sampleDict)"
   ]
  },
  {
   "cell_type": "code",
   "execution_count": null,
   "id": "f2ff053e",
   "metadata": {},
   "outputs": [],
   "source": [
    "sampleDict = {\n",
    "  \"name\": \"Kelly\",\n",
    "  \"age\":25,\n",
    "  \"salary\": 8000,\n",
    "  \"city\": \"New york\"\n",
    "}\n",
    "\n",
    "keys=[\"name\",\"salary\"]\n",
    "for k in keys:\n",
    "    print(k,':',sampleDict[k])"
   ]
  },
  {
   "cell_type": "code",
   "execution_count": null,
   "id": "f7e9c68c",
   "metadata": {},
   "outputs": [],
   "source": [
    "# Add a list of elements to a set\n",
    "sam = {\"Yellow\", \"Orange\", \"Black\"}\n",
    "list1 = [\"Blue\", \"Green\", \"Red\"]\n",
    "sam.update(list1)\n",
    "print(a)"
   ]
  },
  {
   "cell_type": "code",
   "execution_count": null,
   "id": "1ee3d02e",
   "metadata": {},
   "outputs": [],
   "source": [
    "samp = {\"Yellow\", \"Orange\", \"Black\"}\n",
    "sample = [\"Blue\", \"Green\", \"Red\"]\n",
    "\n",
    "samp = set(list(samp) + sample)\n",
    "\n",
    "print(samp)"
   ]
  },
  {
   "cell_type": "code",
   "execution_count": null,
   "id": "c337a2ff",
   "metadata": {},
   "outputs": [],
   "source": [
    "#Return a new set of identical items from two sets\n",
    "set1 = {10, 20, 30, 40, 50}\n",
    "set2 = {30, 40, 50, 60, 70}\n",
    "\n",
    "print(set1.intersection(set2))"
   ]
  },
  {
   "cell_type": "code",
   "execution_count": null,
   "id": "9a36a6af",
   "metadata": {},
   "outputs": [],
   "source": [
    "# add list inside list and remove repetative numbers\n",
    "set1 = {10, 20, 30, 40, 50}\n",
    "set2 = {30, 40, 50, 60, 70}\n",
    "\n",
    "set1.update(set2)\n",
    "print(set1)         "
   ]
  },
  {
   "cell_type": "code",
   "execution_count": null,
   "id": "b7e99658",
   "metadata": {},
   "outputs": [],
   "source": [
    "# Get Only unique items from two sets\n",
    "set1 = {10, 20, 30, 40, 50}\n",
    "set2 = {30, 40, 50, 60, 70}\n",
    "a = set1.union(set2)    # it will add set in the form of unordered data\n",
    "print(a)\n",
    "a"
   ]
  },
  {
   "cell_type": "code",
   "execution_count": null,
   "id": "7ed52e15",
   "metadata": {},
   "outputs": [],
   "source": [
    "# Update the first set with items that don’t exist in the second set\n",
    "set1 = {10, 20, 30}\n",
    "set2 = {20, 40, 50}\n",
    "set1.difference_update(set2)\n",
    "print(set1)"
   ]
  },
  {
   "cell_type": "code",
   "execution_count": null,
   "id": "57355ab6",
   "metadata": {},
   "outputs": [],
   "source": [
    "set1 = {10, 20, 30}\n",
    "set2 = {20, 40, 50}\n",
    "\n",
    "for i in list(set1):\n",
    "    if i in set2:\n",
    "        set1.remove(i)\n",
    "set(set1)\n",
    "print(set1)"
   ]
  },
  {
   "cell_type": "code",
   "execution_count": null,
   "id": "14c0afb3",
   "metadata": {},
   "outputs": [],
   "source": [
    "#Write a Python program to remove items 10, 20, 30 from the following set at once\n",
    "set1 = {10, 20, 30, 40, 50}\n",
    "set1.difference_update({10,20,30})\n",
    "print(set1)"
   ]
  },
  {
   "cell_type": "code",
   "execution_count": null,
   "id": "96f4ea84",
   "metadata": {},
   "outputs": [],
   "source": [
    "#Return a set of elements present in Set A or B, but not both\n",
    "set1 = {10, 20, 30, 40, 50}\n",
    "set2 = {30, 40, 50, 60, 70}\n",
    "a = set1.symmetric_difference(set2)\n",
    "print(a)\n"
   ]
  },
  {
   "cell_type": "code",
   "execution_count": null,
   "id": "bd5dd887",
   "metadata": {},
   "outputs": [],
   "source": [
    "set1 = {10, 20, 30, 40, 50}\n",
    "set2 = {30, 40, 50, 60, 70}\n",
    "set1.symmetric_difference_update(set2)\n",
    "print(set1)"
   ]
  },
  {
   "cell_type": "code",
   "execution_count": null,
   "id": "95da5b39",
   "metadata": {},
   "outputs": [],
   "source": [
    "# Check if two sets have any elements in common\n",
    "#If yes,display the common elements\n",
    "set1 = {10, 20, 30, 40, 50}\n",
    "set2 = {60, 70, 80, 90, 10}\n",
    "set1.isdisjoint(set2)\n",
    "a  = set1.intersection(set2)\n",
    "print(\"two set have common item is :\",a)"
   ]
  },
  {
   "cell_type": "code",
   "execution_count": null,
   "id": "e2f42495",
   "metadata": {},
   "outputs": [],
   "source": [
    "set1 = {10, 20, 30, 40, 50}\n",
    "set2 = {60, 70, 80, 90, 10}\n",
    "set1.isdisjoint(set2)\n",
    "set1.intersection_update(set2)\n",
    "print(\"two set have common item is :\", set1)"
   ]
  },
  {
   "cell_type": "code",
   "execution_count": null,
   "id": "d25b2641",
   "metadata": {},
   "outputs": [],
   "source": [
    "#Update set1 by adding items from set2, except common items\n",
    "set1 = {10, 20, 30, 40, 50}\n",
    "set2 = {30, 40, 50, 60, 70}\n",
    "a = set1.symmetric_difference(set2)\n",
    "print(a)"
   ]
  },
  {
   "cell_type": "code",
   "execution_count": null,
   "id": "30157fd3",
   "metadata": {},
   "outputs": [],
   "source": [
    "set1 = {10, 20, 30, 40, 50}\n",
    "set2 = {30, 40, 50, 60, 70}\n",
    "a = set1.symmetric_difference_update(set2)\n",
    "print(set1)"
   ]
  },
  {
   "cell_type": "code",
   "execution_count": null,
   "id": "b1ea586f",
   "metadata": {},
   "outputs": [],
   "source": [
    "#Remove items from set1 that are not common to both set1 and set2\n",
    "set1 = {10, 20, 30, 40, 50}\n",
    "set2 = {30, 40, 50, 60, 70}\n",
    "set1.intersection_update(set2)\n",
    "print(set1)"
   ]
  },
  {
   "cell_type": "code",
   "execution_count": null,
   "id": "dc74446a",
   "metadata": {},
   "outputs": [],
   "source": []
  },
  {
   "cell_type": "code",
   "execution_count": null,
   "id": "28a2f637",
   "metadata": {},
   "outputs": [],
   "source": [
    "sampleSet = {\"Yellow\", \"Orange\", \"Black\"}\n",
    "sampleList = [\"Blue\", \"Green\", \"Red\"]\n",
    "sampleSet.update(sampleList)\n",
    "print(sampleSet)\n",
    "\n",
    "#2 COMMON NUMBERS\n",
    "set1 = {10, 20, 30, 40, 50}\n",
    "set2 = {30, 40, 50, 60, 70}\n",
    "set3=set1&set2\n",
    "print(set3)\n",
    "\n",
    "#3 ONE COMPLETE LIST\n",
    "set1 = {10, 20, 30, 40, 50}\n",
    "set2 = {30, 40, 50, 60, 70}\n",
    "set3=set1|set2\n",
    "print(set3)\n",
    "\n",
    "#4 REMOVE NUMBER OF LIST2\n",
    "set1 = {10, 20, 30}\n",
    "set2 = {20, 40, 50}\n",
    "set3=set1-set2\n",
    "print(set3)\n",
    "\n",
    "#5 NOT COMMAN NUMBER \n",
    "set1 = {10, 20, 30, 40, 50}\n",
    "set2={10,20,30}\n",
    "print(set1-set2)\n",
    "\n",
    "#6 ONE LIST HAVING NOT COMMAN VARIBALES\n",
    "set1 = {10, 20, 30, 40, 50}\n",
    "set2 = {30, 40, 50, 60, 70}\n",
    "print(set1^set2)\n",
    "\n",
    "#7 COMMAN NUMBER\n",
    "set1 = {10, 20, 30, 40, 50}\n",
    "set2 = {60, 70, 80, 90, 10}\n",
    "print(set1&set2)\n",
    "\n",
    "#8  ONE LIST HAVING NOT COMMAN VARIBALES\n",
    "set1 = {10, 20, 30, 40, 50}\n",
    "set2 = {30, 40, 50, 60, 70}\n",
    "print(set1^set2)\n",
    "\n",
    "#9 COMMAN NUMBERS\n",
    "set1 = {10, 20, 30, 40, 50}\n",
    "set2 = {30, 40, 50, 60, 70}\n",
    "print(set1&set2)"
   ]
  },
  {
   "cell_type": "code",
   "execution_count": null,
   "id": "3b7a22f6",
   "metadata": {},
   "outputs": [],
   "source": [
    "# Print current date and time in Python\n",
    "import datetime\n",
    "\n",
    "print(datetime.datetime.now())\n",
    "print(datetime.datetime.now().time())"
   ]
  },
  {
   "cell_type": "code",
   "execution_count": null,
   "id": "bab2b5e8",
   "metadata": {},
   "outputs": [],
   "source": [
    "from time import gmtime, strftime\n",
    "\n",
    "print(strftime(\"%Y-%m-%d %H:%M:%S\", gmtime()))"
   ]
  },
  {
   "cell_type": "code",
   "execution_count": null,
   "id": "280c8f58",
   "metadata": {},
   "outputs": [],
   "source": [
    "#Convert string into a datetime object\n",
    "date_string = \"Feb 25 2020 4:20PM\"\n",
    "from datetime import datetime\n",
    "\n",
    "date_string = \"Feb 25 2020  4:20PM\"\n",
    "datetime_object = datetime.strptime(date_string, '%b %d %Y %I:%M%p')\n",
    "print(datetime_object)\n"
   ]
  },
  {
   "cell_type": "code",
   "execution_count": null,
   "id": "39388540",
   "metadata": {},
   "outputs": [],
   "source": [
    "#Subtract a week (7 days)  from a given date in Python\n",
    "given_date = datetime(2020, 2, 25)\n",
    "from datetime import datetime, timedelta\n",
    "\n",
    "given_date = datetime(2020, 2, 25)\n",
    "print(\"Given date\")\n",
    "print(given_date)\n",
    "\n",
    "days_to_subtract = 7\n",
    "res_date = given_date - timedelta(days=days_to_subtract)\n",
    "print(\"New Date\")\n",
    "print(res_date)"
   ]
  },
  {
   "cell_type": "code",
   "execution_count": null,
   "id": "2c14a280",
   "metadata": {},
   "outputs": [],
   "source": [
    "#Print a date in a the following format\n",
    "from datetime import datetime, timedelta\n",
    "\n",
    "given_date = datetime(2020, 2, 25)\n",
    "print(\"Given date\")\n",
    "print(given_date)\n",
    "\n",
    "days_to_subtract = 7\n",
    "res_date = given_date - timedelta(days=days_to_subtract)\n",
    "print(\"New Date\")\n",
    "print(res_date)"
   ]
  },
  {
   "cell_type": "code",
   "execution_count": null,
   "id": "55795e20",
   "metadata": {},
   "outputs": [],
   "source": [
    "#Print a date in a the following format\n",
    "given_date = datetime(2020, 2, 25)\n",
    "from datetime import datetime\n",
    "\n",
    "given_date = datetime(2020, 2, 25)\n",
    "print(\"Given date is\")\n",
    "print(given_date.strftime('%A %d %B %Y'))\n"
   ]
  },
  {
   "cell_type": "code",
   "execution_count": null,
   "id": "eaecfd39",
   "metadata": {},
   "outputs": [],
   "source": [
    "#Find the day of the week of a given date\n",
    "given_date = datetime(2020, 7, 26)\n",
    "from datetime import datetime\n",
    "\n",
    "given_date = datetime(2020, 7, 26)\n",
    "\n",
    "# to get weekday as integer\n",
    "print(given_date.today().weekday())\n",
    "\n",
    "# To get the english name of the weekday\n",
    "print(given_date.strftime('%A'))"
   ]
  },
  {
   "cell_type": "code",
   "execution_count": null,
   "id": "132419e8",
   "metadata": {},
   "outputs": [],
   "source": [
    "import calendar\n",
    "from datetime import datetime\n",
    "\n",
    "given_date = datetime(2020, 7, 26)\n",
    "weekday = calendar.day_name[given_date.weekday()]\n",
    "print(weekday)"
   ]
  },
  {
   "cell_type": "code",
   "execution_count": null,
   "id": "8cfda2b2",
   "metadata": {},
   "outputs": [],
   "source": [
    "# Add a week (7 days) and 12 hours to a given date\n",
    "# 2020-03-22 10:00:00\n",
    "given_date = datetime(2020, 3, 22, 10, 0, 0)\n",
    "\n",
    "from datetime import datetime, timedelta\n",
    "\n",
    "given_date = datetime(2020, 3, 22, 10, 00, 00)\n",
    "print(\"Given date\")\n",
    "print(given_date)\n",
    "\n",
    "days_to_add = 7\n",
    "res_date = given_date + timedelta(days=days_to_add, hours=12)\n",
    "print(\"New Date\")\n",
    "print(res_date)"
   ]
  },
  {
   "cell_type": "code",
   "execution_count": null,
   "id": "6f8a6435",
   "metadata": {},
   "outputs": [],
   "source": [
    "# Print current time in milliseconds\n",
    "import time\n",
    "\n",
    "milliseconds = int(round(time.time() * 1000))\n",
    "print(milliseconds)"
   ]
  },
  {
   "cell_type": "code",
   "execution_count": null,
   "id": "f3515d9e",
   "metadata": {},
   "outputs": [],
   "source": [
    "# Convert the following datetime into a string\n",
    "given_date = datetime(2020, 2, 25)\n",
    "from datetime import datetime\n",
    "\n",
    "given_date = datetime(2020, 2, 25)\n",
    "string_date = given_date.strftime(\"%Y-%m-%d %H:%M:%S\")\n",
    "print(string_date)"
   ]
  },
  {
   "cell_type": "code",
   "execution_count": null,
   "id": "4673f3d2",
   "metadata": {},
   "outputs": [],
   "source": [
    "#Calculate the date 4 months from the current date\n",
    "# 2020-02-25\n",
    "given_date = datetime(2020, 2, 25).date()\n",
    "from datetime import datetime\n",
    "\n",
    "from dateutil.relativedelta import relativedelta\n",
    "\n",
    "# 2020-02-25\n",
    "given_date = datetime(2020, 2, 25).date()\n",
    "\n",
    "months_to_add = 4\n",
    "new_date = given_date + relativedelta(months=+ months_to_add)\n",
    "print(new_date)"
   ]
  },
  {
   "cell_type": "code",
   "execution_count": null,
   "id": "23906f3e",
   "metadata": {},
   "outputs": [],
   "source": [
    "# Calculate number of days between two given dates\n",
    "# 2020-02-25\n",
    "date_1 = datetime(2020, 2, 25)\n",
    "\n",
    "# 2020-09-17\n",
    "date_2 = datetime(2020, 9, 17)\n",
    "from datetime import datetime\n",
    "\n",
    "# 2020-02-25\n",
    "date_1 = datetime(2020, 2, 25).date()\n",
    "# 2020-09-17\n",
    "date_2 = datetime(2020, 9, 17).date()\n",
    "\n",
    "delta = None\n",
    "if date_1 > date_2:\n",
    "    print(\"date_1 is greater\")\n",
    "    delta = date_1 - date_2\n",
    "else:\n",
    "    print(\"date_2 is greater\")\n",
    "    delta = date_2 - date_1\n",
    "print(\"Difference is\", delta.days, \"days\")"
   ]
  },
  {
   "cell_type": "code",
   "execution_count": null,
   "id": "95f312d8",
   "metadata": {},
   "outputs": [],
   "source": [
    "#OBJECT ORIENTED PROGRAMMING\n"
   ]
  },
  {
   "cell_type": "code",
   "execution_count": null,
   "id": "83b0897d",
   "metadata": {},
   "outputs": [],
   "source": [
    "\"\"\"Write a Python program to create a Vehicle class with max_speed \n",
    "and mileage instance attributes.\"\"\"\n",
    "\n",
    "class vehical():\n",
    "    def __init__(self,max_speed,mileage):\n",
    "        self.max_speed = max_speed\n",
    "        self.mileage = mileage\n",
    "\n",
    "    #def desc(self):\n",
    "        #print(max_speed,mileage)\n",
    "        \n",
    "\n",
    "a = vehical(250,60) \n",
    "print(a.max_speed,a.mileage)\n"
   ]
  },
  {
   "cell_type": "code",
   "execution_count": null,
   "id": "b140c74e",
   "metadata": {},
   "outputs": [],
   "source": [
    "#Create a Vehicle class without any variables and methods\n",
    "\n",
    "class vehical():\n",
    "    pass"
   ]
  },
  {
   "cell_type": "code",
   "execution_count": null,
   "id": "55b4ff68",
   "metadata": {},
   "outputs": [],
   "source": [
    "#Create a child class Bus that will inherit all of the variables and methods of the Vehicle class\n",
    "\n",
    "class vehical():\n",
    "    def __init__(self,name,mileage,mspeed):\n",
    "        self.name = name\n",
    "        self.mspeed = mspeed\n",
    "        self.mileage = mileage\n",
    "        \n",
    "class bus(vehical):\n",
    "    #def car(self):\n",
    "       # print(\"the car class is \")\n",
    "    \n",
    "    a = bus('toyota', 250,  60)\n",
    "    print(\"name is:\",a.name,\"\\nmax speed is:\", a.mspeed,\"\\nmileage is:\", a.mileage)\n"
   ]
  },
  {
   "cell_type": "code",
   "execution_count": null,
   "id": "9a42f3d8",
   "metadata": {},
   "outputs": [],
   "source": [
    "class vehical():\n",
    "    def __init__(self,name,mileage,mspeed):\n",
    "        self.name = name\n",
    "        self.mspeed = mspeed\n",
    "        self.mileage = mileage\n",
    "        \n",
    "class bus(vehical):\n",
    "    pass\n",
    "\n",
    "\n",
    "a = bus('toyota', 250,  60)\n",
    "print(\"name is:\",a.name,\"\\nmax speed is:\", a.mspeed,\"\\nmileage is:\", a.mileage)\n"
   ]
  },
  {
   "cell_type": "code",
   "execution_count": null,
   "id": "f36fdbf5",
   "metadata": {},
   "outputs": [],
   "source": [
    "#Create a Bus class that inherits from the Vehicle class.\n",
    "#Give the capacity argument of Bus.seating_capacity() a default value of 50.\n",
    "class Vehicle:\n",
    "    def __init__(self, name, max_speed, mileage):\n",
    "        self.name = name\n",
    "        self.max_speed = max_speed\n",
    "        self.mileage = mileage\n",
    "\n",
    "    def seating_capacity(self, capacity):\n",
    "        return f\"The seating capacity of a {self.name} is {capacity} passengers\"\n",
    "\n",
    "class Bus(Vehicle):\n",
    "    # assign default value to capacity\n",
    "    def seating_capacity(self, capacity=50):\n",
    "        return super().seating_capacity(capacity=50)\n",
    "\n",
    "School_bus = Bus(\"School Volvo\", 180, 12)\n",
    "print(School_bus.seating_capacity())"
   ]
  },
  {
   "cell_type": "code",
   "execution_count": null,
   "id": "a2be6453",
   "metadata": {},
   "outputs": [],
   "source": [
    "class Vehicle:\n",
    "    # Class attribute\n",
    "    color = \"White\"\n",
    "\n",
    "    def __init__(self, name, max_speed, mileage):\n",
    "        self.name = name\n",
    "        self.max_speed = max_speed\n",
    "        self.mileage = mileage\n",
    "class bus(Vehicle):\n",
    "    pass\n",
    "\n",
    "class car(Vehicle):\n",
    "    pass\n",
    "\n",
    "a = bus(\"ashok layland\",300,35)\n",
    "print(a.color, \",\", a.name,\"speed:\", a.max_speed,\"mileage:\", a.mileage)\n",
    "b = car(\"Nexon\", 350, 65)\n",
    "print(b.color, \",\", b.name, \"speed:\", b.max_speed,\"mileage :\",b.mileage)"
   ]
  },
  {
   "cell_type": "code",
   "execution_count": null,
   "id": "310d8851",
   "metadata": {},
   "outputs": [],
   "source": [
    "#Write a program to determine which class a given Bus object belongs to.\n",
    "\n",
    "class Vehicle:\n",
    "    def __init__(self, name, mileage, capacity):\n",
    "        self.name = name\n",
    "        self.mileage = mileage\n",
    "        self.capacity = capacity\n",
    "\n",
    "class Bus(Vehicle):\n",
    "    pass\n",
    "\n",
    "School_bus = Bus(\"School Volvo\", 12, 50)\n",
    "print(type(School_bus))"
   ]
  },
  {
   "cell_type": "code",
   "execution_count": null,
   "id": "bdbddf84",
   "metadata": {},
   "outputs": [],
   "source": [
    "class Vehicle:\n",
    "    def __init__(self, name, mileage, capacity):\n",
    "        self.name = name\n",
    "        self.mileage = mileage\n",
    "        self.capacity = capacity\n",
    "\n",
    "class Bus(Vehicle):\n",
    "    pass\n",
    "\n",
    "School_bus = Bus(\"School Volvo\", 12, 50)\n",
    "\n",
    "# Python's built-in type()\n",
    "print(type(School_bus))"
   ]
  },
  {
   "cell_type": "code",
   "execution_count": null,
   "id": "8d16c3e4",
   "metadata": {},
   "outputs": [],
   "source": [
    "#Determine if School_bus is also an instance of the Vehicle class\n",
    "\n",
    "class Vehicle:\n",
    "    def __init__(self, name, mileage, capacity):\n",
    "        self.name = name\n",
    "        self.mileage = mileage\n",
    "        self.capacity = capacity\n",
    "\n",
    "class Bus(Vehicle):\n",
    "    pass\n",
    "\n",
    "School_bus = Bus(\"School Volvo\", 12, 50)\n",
    "print(isinstance(School_bus,Vehicle))"
   ]
  },
  {
   "cell_type": "code",
   "execution_count": null,
   "id": "aae21de2",
   "metadata": {},
   "outputs": [],
   "source": [
    "#Generate 3 random integers between 100 and 999 which is divisible by 5\n",
    "\n",
    "import random\n",
    "\n",
    "print(\"Generating 3 random integer number between 100 and 999 divisible by 5\")\n",
    "for num in range(3):\n",
    "    print(random.randrange(100, 999, 5), end=', ')"
   ]
  },
  {
   "cell_type": "code",
   "execution_count": null,
   "id": "013e4306",
   "metadata": {},
   "outputs": [],
   "source": [
    "#Random Lottery Pick. Generate 100 random lottery tickets and pick two lucky tickets from it as a winner\n",
    "\n",
    "import random\n",
    "\n",
    "list1 = []\n",
    "print(\"creating 100 random lottery tickets\")\n",
    "for i in range(100):\n",
    "    \n",
    "    list1.append(random.randrange(1000000000, 9999999999))\n",
    "\n",
    "winners = random.sample(list1, 2)\n",
    "print(\"Lucky 2 lottery tickets are\", winners)"
   ]
  },
  {
   "cell_type": "code",
   "execution_count": null,
   "id": "a9ce8a8a",
   "metadata": {},
   "outputs": [],
   "source": [
    "#Generate 6 digit random secure OTP\n",
    "import random\n",
    "\n",
    "name = 'pynativ'\n",
    "char = random.choice(name)\n",
    "print(\"random char is \", char)"
   ]
  },
  {
   "cell_type": "code",
   "execution_count": null,
   "id": "3703be7e",
   "metadata": {},
   "outputs": [],
   "source": [
    "#Generate random String of length 5\n",
    "\n",
    "import random\n",
    "import string\n",
    "\n",
    "def randomString(stringLength):\n",
    "    \"\"\"Generate a random string of 5 charcters\"\"\"\n",
    "    letters = string.ascii_letters\n",
    "    return ''.join(random.choice(letters) for i in range(stringLength))\n",
    "\n",
    "print (\"Random String is \", randomString(5) )\n"
   ]
  },
  {
   "cell_type": "code",
   "execution_count": null,
   "id": "3e7e76b2",
   "metadata": {},
   "outputs": [],
   "source": [
    "#Generate a random Password which meets the following conditions\n",
    "\n",
    "import random\n",
    "import string\n",
    "\n",
    "def randomPassword():\n",
    "    randomSource = string.ascii_letters + string.digits + string.punctuation\n",
    "    password = random.sample(randomSource, 6)\n",
    "    password += random.sample(string.ascii_uppercase, 2)\n",
    "    password += random.choice(string.digits)\n",
    "    password += random.choice(string.punctuation)\n",
    "\n",
    "    passwordList = list(password)\n",
    "    random.SystemRandom().shuffle(passwordList)\n",
    "    password = ''.join(passwordList)\n",
    "    return password\n",
    "\n",
    "print (\"Password is \", randomPassword())"
   ]
  },
  {
   "cell_type": "code",
   "execution_count": null,
   "id": "97446777",
   "metadata": {},
   "outputs": [],
   "source": []
  }
 ],
 "metadata": {
  "kernelspec": {
   "display_name": "Python 3",
   "language": "python",
   "name": "python3"
  },
  "language_info": {
   "codemirror_mode": {
    "name": "ipython",
    "version": 3
   },
   "file_extension": ".py",
   "mimetype": "text/x-python",
   "name": "python",
   "nbconvert_exporter": "python",
   "pygments_lexer": "ipython3",
   "version": "3.8.8"
  }
 },
 "nbformat": 4,
 "nbformat_minor": 5
}
