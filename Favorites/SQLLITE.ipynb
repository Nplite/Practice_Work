{
 "cells": [
  {
   "cell_type": "code",
   "execution_count": 1,
   "id": "ca0fdaa1",
   "metadata": {},
   "outputs": [],
   "source": [
    "import sqlite3"
   ]
  },
  {
   "cell_type": "code",
   "execution_count": 2,
   "id": "50a11abb",
   "metadata": {},
   "outputs": [],
   "source": [
    "db = sqlite3.connect(\"ineuron.db\")"
   ]
  },
  {
   "cell_type": "code",
   "execution_count": 3,
   "id": "2e233b9c",
   "metadata": {},
   "outputs": [
    {
     "name": "stdout",
     "output_type": "stream",
     "text": [
      " Volume in drive C has no label.\n",
      " Volume Serial Number is DE5C-05B8\n",
      "\n",
      " Directory of C:\\Users\\Nplite\\Favorites\n",
      "\n",
      "04-03-2022  20:34    <DIR>          .\n",
      "04-03-2022  21:40    <DIR>          ..\n",
      "04-03-2022  00:05    <DIR>          .ipynb_checkpoints\n",
      "19-02-2022  23:01    <DIR>          __pycache__\n",
      "08-02-2022  06:47           144,486 1.Basic, List, Tuple, Dictionary  ===1.ipynb\n",
      "21-02-2022  12:54            79,738 2.If Else, Range, For, While.ipynb\n",
      "22-02-2022  00:08            75,849 3. Function, Lambda,Generator.ipynb\n",
      "22-02-2022  17:53           105,786 4.Generator, Fibonacci no, Open,Write,Read file.ipynb\n",
      "24-02-2022  20:36            79,714 5.Exception Handling, Logging.ipynb\n",
      "28-02-2022  01:20           117,642 6.Class.ipynb\n",
      "23-02-2022  23:20            19,704 ADVANCE TASK INEURON.ipynb\n",
      "14-02-2022  22:31            11,903 glass.data\n",
      "22-02-2022  16:37             3,014 google.txt\n",
      "04-03-2022  00:44                 0 ineuorn.db\n",
      "04-03-2022  19:25             8,192 ineuron.db\n",
      "04-03-2022  20:09            20,480 jobdb.db\n",
      "04-03-2022  20:14             8,720 jobdb.db-journal\n",
      "30-01-2022  20:50    <DIR>          Links\n",
      "02-03-2022  01:24            86,043 MONGODB DATA.ipynb\n",
      "01-03-2022  17:23    <DIR>          OneDrive\n",
      "04-03-2022  19:25             8,192 person.db\n",
      "01-03-2022  17:27           237,581 SQL DATA2.ipynb\n",
      "04-03-2022  20:34            75,975 SQLLITE.ipynb\n",
      "22-02-2022  16:35                 0 test1\n",
      "              18 File(s)      1,083,019 bytes\n",
      "               6 Dir(s)  79,860,764,672 bytes free\n"
     ]
    }
   ],
   "source": [
    "ls"
   ]
  },
  {
   "cell_type": "code",
   "execution_count": 4,
   "id": "d0e4425d",
   "metadata": {},
   "outputs": [],
   "source": [
    "c = db.cursor()"
   ]
  },
  {
   "cell_type": "code",
   "execution_count": 5,
   "id": "07a9e88b",
   "metadata": {},
   "outputs": [
    {
     "ename": "OperationalError",
     "evalue": "table fsds already exists",
     "output_type": "error",
     "traceback": [
      "\u001b[1;31m---------------------------------------------------------------------------\u001b[0m",
      "\u001b[1;31mOperationalError\u001b[0m                          Traceback (most recent call last)",
      "\u001b[1;32m<ipython-input-5-10a23bafc754>\u001b[0m in \u001b[0;36m<module>\u001b[1;34m\u001b[0m\n\u001b[1;32m----> 1\u001b[1;33m \u001b[0mc\u001b[0m\u001b[1;33m.\u001b[0m\u001b[0mexecute\u001b[0m\u001b[1;33m(\u001b[0m\u001b[1;34m\"create table fsds( name test, batchid int, marks real)\"\u001b[0m\u001b[1;33m)\u001b[0m \u001b[1;31m# create a table inside it\u001b[0m\u001b[1;33m\u001b[0m\u001b[1;33m\u001b[0m\u001b[0m\n\u001b[0m",
      "\u001b[1;31mOperationalError\u001b[0m: table fsds already exists"
     ]
    }
   ],
   "source": [
    "c.execute(\"create table fsds( name test, batchid int, marks real)\") # create a table inside it"
   ]
  },
  {
   "cell_type": "code",
   "execution_count": 6,
   "id": "01fa30d2",
   "metadata": {},
   "outputs": [
    {
     "name": "stdout",
     "output_type": "stream",
     "text": [
      " Volume in drive C has no label."
     ]
    },
    {
     "name": "stderr",
     "output_type": "stream",
     "text": [
      "File Not Found\n"
     ]
    },
    {
     "name": "stdout",
     "output_type": "stream",
     "text": [
      "\n",
      " Volume Serial Number is DE5C-05B8\n",
      "\n",
      " Directory of C:\\Users\\Nplite\\Favorites\n",
      "\n",
      "\n",
      " Directory of C:\\Users\\Nplite\\Favorites\n",
      "\n",
      "\n",
      " Directory of C:\\Users\\Nplite\\Favorites\n",
      "\n",
      "\n",
      " Directory of C:\\Users\\Nplite\\Favorites\n",
      "\n",
      "\n",
      " Directory of C:\\Users\\Nplite\\Favorites\n",
      "\n",
      "\n",
      " Directory of C:\\Users\\Nplite\\Favorites\n",
      "\n",
      "\n",
      " Directory of C:\\Users\\Nplite\\Favorites\n",
      "\n",
      "\n",
      " Directory of C:\\Users\\Nplite\\Favorites\n",
      "\n",
      "\n",
      " Directory of C:\\Users\\Nplite\\Favorites\n",
      "\n"
     ]
    }
   ],
   "source": [
    "%ls # check the size of memory it will increase"
   ]
  },
  {
   "cell_type": "code",
   "execution_count": 7,
   "id": "ef0503a7",
   "metadata": {},
   "outputs": [
    {
     "data": {
      "text/plain": [
       "<sqlite3.Cursor at 0x2226c501b90>"
      ]
     },
     "execution_count": 7,
     "metadata": {},
     "output_type": "execute_result"
    }
   ],
   "source": [
    "c.execute(\"insert into fsds values('sudh', 123456 , 4654.2)\")"
   ]
  },
  {
   "cell_type": "code",
   "execution_count": 8,
   "id": "c3478499",
   "metadata": {},
   "outputs": [
    {
     "name": "stdout",
     "output_type": "stream",
     "text": [
      " Volume in drive C has no label.\n",
      " Volume Serial Number is DE5C-05B8\n",
      "\n",
      " Directory of C:\\Users\\Nplite\\Favorites\n",
      "\n",
      "\n",
      " Directory of C:\\Users\\Nplite\\Favorites\n",
      "\n",
      "\n",
      " Directory of C:\\Users\\Nplite\\Favorites\n",
      "\n",
      "\n",
      " Directory of C:\\Users\\Nplite\\Favorites\n",
      "\n",
      "\n",
      " Directory of C:\\Users\\Nplite\\Favorites\n",
      "\n",
      "\n",
      " Directory of C:\\Users\\Nplite\\Favorites\n",
      "\n"
     ]
    },
    {
     "name": "stderr",
     "output_type": "stream",
     "text": [
      "File Not Found\n"
     ]
    }
   ],
   "source": [
    "ls           # check the size and journal"
   ]
  },
  {
   "cell_type": "code",
   "execution_count": 9,
   "id": "821faf8c",
   "metadata": {},
   "outputs": [
    {
     "data": {
      "text/plain": [
       "<sqlite3.Cursor at 0x2226c501b90>"
      ]
     },
     "execution_count": 9,
     "metadata": {},
     "output_type": "execute_result"
    }
   ],
   "source": [
    "c.execute(\"insert into fsds values('sudh', 123456 , 4654.2)\")\n",
    "c.execute(\"insert into fsds values('mudh', 1236 , 465.2)\")\n",
    "c.execute(\"insert into fsds values('budh', 13456 , 454.2)\")\n",
    "c.execute(\"insert into fsds values('vudh', 12345 , 654.2)\")\n",
    "c.execute(\"insert into fsds values('dudh', 126 , 44.2)\")\n",
    "c.execute(\"insert into fsds values('sudh', 123456 , 4654.2)\")\n"
   ]
  },
  {
   "cell_type": "code",
   "execution_count": 10,
   "id": "0d0bb438",
   "metadata": {},
   "outputs": [
    {
     "name": "stdout",
     "output_type": "stream",
     "text": [
      " Volume in drive C has no label.\n",
      " Volume Serial Number is DE5C-05B8\n",
      "\n",
      " Directory of C:\\Users\\Nplite\\Favorites\n",
      "\n",
      "04-03-2022  23:52    <DIR>          .\n",
      "04-03-2022  21:40    <DIR>          ..\n",
      "04-03-2022  00:05    <DIR>          .ipynb_checkpoints\n",
      "19-02-2022  23:01    <DIR>          __pycache__\n",
      "08-02-2022  06:47           144,486 1.Basic, List, Tuple, Dictionary  ===1.ipynb\n",
      "21-02-2022  12:54            79,738 2.If Else, Range, For, While.ipynb\n",
      "22-02-2022  00:08            75,849 3. Function, Lambda,Generator.ipynb\n",
      "22-02-2022  17:53           105,786 4.Generator, Fibonacci no, Open,Write,Read file.ipynb\n",
      "24-02-2022  20:36            79,714 5.Exception Handling, Logging.ipynb\n",
      "28-02-2022  01:20           117,642 6.Class.ipynb\n",
      "23-02-2022  23:20            19,704 ADVANCE TASK INEURON.ipynb\n",
      "14-02-2022  22:31            11,903 glass.data\n",
      "22-02-2022  16:37             3,014 google.txt\n",
      "04-03-2022  00:44                 0 ineuorn.db\n",
      "04-03-2022  19:25             8,192 ineuron.db\n",
      "04-03-2022  23:52                 0 ineuron.db-journal\n",
      "04-03-2022  20:09            20,480 jobdb.db\n",
      "04-03-2022  20:14             8,720 jobdb.db-journal\n",
      "30-01-2022  20:50    <DIR>          Links\n",
      "02-03-2022  01:24            86,043 MONGODB DATA.ipynb\n",
      "01-03-2022  17:23    <DIR>          OneDrive\n",
      "04-03-2022  19:25             8,192 person.db\n",
      "01-03-2022  17:27           237,581 SQL DATA2.ipynb\n",
      "04-03-2022  20:34            75,975 SQLLITE.ipynb\n",
      "22-02-2022  16:35                 0 test1\n",
      "              19 File(s)      1,083,019 bytes\n",
      "               6 Dir(s)  79,860,756,480 bytes free\n"
     ]
    }
   ],
   "source": [
    "ls"
   ]
  },
  {
   "cell_type": "code",
   "execution_count": 11,
   "id": "120b792d",
   "metadata": {},
   "outputs": [],
   "source": [
    "data = c.execute(\"select * from fsds\")"
   ]
  },
  {
   "cell_type": "code",
   "execution_count": 12,
   "id": "e00eb6ea",
   "metadata": {},
   "outputs": [
    {
     "name": "stdout",
     "output_type": "stream",
     "text": [
      "('sudh', 123456, 4654.2)\n",
      "('sudh', 123456, 4654.2)\n",
      "('mudh', 1236, 465.2)\n",
      "('budh', 13456, 454.2)\n",
      "('vudh', 12345, 654.2)\n",
      "('dudh', 126, 44.2)\n",
      "('sudh', 123456, 4654.2)\n",
      "('sudh', 123456, 4654.2)\n",
      "('sudh', 123456, 4654.2)\n",
      "('mudh', 1236, 465.2)\n",
      "('budh', 13456, 454.2)\n",
      "('vudh', 12345, 654.2)\n",
      "('dudh', 126, 44.2)\n",
      "('sudh', 123456, 4654.2)\n",
      "('sudh', 123456, 4654.2)\n",
      "('sudh', 123456, 4654.2)\n",
      "('mudh', 1236, 465.2)\n",
      "('budh', 13456, 454.2)\n",
      "('vudh', 12345, 654.2)\n",
      "('dudh', 126, 44.2)\n",
      "('sudh', 123456, 4654.2)\n",
      "('sudh', 123456, 4654.2)\n",
      "('sudh', 123456, 4654.2)\n",
      "('mudh', 1236, 465.2)\n",
      "('budh', 13456, 454.2)\n",
      "('vudh', 12345, 654.2)\n",
      "('dudh', 126, 44.2)\n",
      "('sudh', 123456, 4654.2)\n",
      "('sudh', 123456, 4654.2)\n",
      "('sudh', 123456, 4654.2)\n",
      "('mudh', 1236, 465.2)\n",
      "('budh', 13456, 454.2)\n",
      "('vudh', 12345, 654.2)\n",
      "('dudh', 126, 44.2)\n",
      "('sudh', 123456, 4654.2)\n"
     ]
    }
   ],
   "source": [
    "for i in data:\n",
    "    print(i)"
   ]
  },
  {
   "cell_type": "code",
   "execution_count": 13,
   "id": "20551641",
   "metadata": {},
   "outputs": [],
   "source": [
    "db.commit()"
   ]
  },
  {
   "cell_type": "code",
   "execution_count": 14,
   "id": "608878b5",
   "metadata": {},
   "outputs": [],
   "source": [
    "db.close()"
   ]
  },
  {
   "cell_type": "code",
   "execution_count": 15,
   "id": "998ff634",
   "metadata": {},
   "outputs": [
    {
     "name": "stdout",
     "output_type": "stream",
     "text": [
      " Volume in drive C has no label.\n",
      " Volume Serial Number is DE5C-05B8\n",
      "\n",
      " Directory of C:\\Users\\Nplite\\Favorites\n",
      "\n",
      "\n",
      " Directory of C:\\Users\\Nplite\\Favorites\n",
      "\n",
      "\n",
      " Directory of C:\\Users\\Nplite\\Favorites\n",
      "\n",
      "\n",
      " Directory of C:\\Users\\Nplite\\Favorites\n",
      "\n",
      "\n",
      " Directory of C:\\Users\\Nplite\\Favorites\n",
      "\n",
      "\n",
      " Directory of C:\\Users\\Nplite\\Favorites\n",
      "\n",
      "\n",
      " Directory of C:\\Users\\Nplite\\Favorites\n",
      "\n",
      "\n",
      " Directory of C:\\Users\\Nplite\\Favorites\n",
      "\n",
      "\n",
      " Directory of C:\\Users\\Nplite\\Favorites\n",
      "\n"
     ]
    },
    {
     "name": "stderr",
     "output_type": "stream",
     "text": [
      "File Not Found\n"
     ]
    }
   ],
   "source": [
    "ls # file available inside system so again fetch it"
   ]
  },
  {
   "cell_type": "code",
   "execution_count": 16,
   "id": "f19c214b",
   "metadata": {},
   "outputs": [],
   "source": [
    "db = sqlite3.connect(\"ineuron.db\") #try to connectivity"
   ]
  },
  {
   "cell_type": "code",
   "execution_count": 17,
   "id": "06d2196a",
   "metadata": {},
   "outputs": [],
   "source": [
    "c = db.cursor() # check marks is greater than 500"
   ]
  },
  {
   "cell_type": "code",
   "execution_count": 18,
   "id": "5033d5df",
   "metadata": {},
   "outputs": [],
   "source": [
    "data = c.execute(\"select * from fsds where marks > 500\")"
   ]
  },
  {
   "cell_type": "code",
   "execution_count": 19,
   "id": "a8cc4d5e",
   "metadata": {},
   "outputs": [
    {
     "name": "stdout",
     "output_type": "stream",
     "text": [
      "('sudh', 123456, 4654.2)\n",
      "('sudh', 123456, 4654.2)\n",
      "('vudh', 12345, 654.2)\n",
      "('sudh', 123456, 4654.2)\n",
      "('sudh', 123456, 4654.2)\n",
      "('sudh', 123456, 4654.2)\n",
      "('vudh', 12345, 654.2)\n",
      "('sudh', 123456, 4654.2)\n",
      "('sudh', 123456, 4654.2)\n",
      "('sudh', 123456, 4654.2)\n",
      "('vudh', 12345, 654.2)\n",
      "('sudh', 123456, 4654.2)\n",
      "('sudh', 123456, 4654.2)\n",
      "('sudh', 123456, 4654.2)\n",
      "('vudh', 12345, 654.2)\n",
      "('sudh', 123456, 4654.2)\n",
      "('sudh', 123456, 4654.2)\n",
      "('sudh', 123456, 4654.2)\n",
      "('vudh', 12345, 654.2)\n",
      "('sudh', 123456, 4654.2)\n"
     ]
    }
   ],
   "source": [
    "for i in data:\n",
    "    print(i)"
   ]
  },
  {
   "cell_type": "code",
   "execution_count": 20,
   "id": "df5ce41b",
   "metadata": {},
   "outputs": [],
   "source": [
    "data = c.execute(\"select * from fsds where name = 'sudh'\")"
   ]
  },
  {
   "cell_type": "code",
   "execution_count": 21,
   "id": "8c58143b",
   "metadata": {},
   "outputs": [
    {
     "name": "stdout",
     "output_type": "stream",
     "text": [
      "('sudh', 123456, 4654.2)\n",
      "('sudh', 123456, 4654.2)\n",
      "('sudh', 123456, 4654.2)\n",
      "('sudh', 123456, 4654.2)\n",
      "('sudh', 123456, 4654.2)\n",
      "('sudh', 123456, 4654.2)\n",
      "('sudh', 123456, 4654.2)\n",
      "('sudh', 123456, 4654.2)\n",
      "('sudh', 123456, 4654.2)\n",
      "('sudh', 123456, 4654.2)\n",
      "('sudh', 123456, 4654.2)\n",
      "('sudh', 123456, 4654.2)\n",
      "('sudh', 123456, 4654.2)\n",
      "('sudh', 123456, 4654.2)\n",
      "('sudh', 123456, 4654.2)\n"
     ]
    }
   ],
   "source": [
    "for i in data:\n",
    "    print(i)"
   ]
  },
  {
   "cell_type": "code",
   "execution_count": 22,
   "id": "88c94236",
   "metadata": {},
   "outputs": [],
   "source": [
    "data = c.execute(\"select name, marks from fsds\")"
   ]
  },
  {
   "cell_type": "code",
   "execution_count": 23,
   "id": "ffe2da9b",
   "metadata": {},
   "outputs": [
    {
     "name": "stdout",
     "output_type": "stream",
     "text": [
      "('sudh', 4654.2)\n",
      "('sudh', 4654.2)\n",
      "('mudh', 465.2)\n",
      "('budh', 454.2)\n",
      "('vudh', 654.2)\n",
      "('dudh', 44.2)\n",
      "('sudh', 4654.2)\n",
      "('sudh', 4654.2)\n",
      "('sudh', 4654.2)\n",
      "('mudh', 465.2)\n",
      "('budh', 454.2)\n",
      "('vudh', 654.2)\n",
      "('dudh', 44.2)\n",
      "('sudh', 4654.2)\n",
      "('sudh', 4654.2)\n",
      "('sudh', 4654.2)\n",
      "('mudh', 465.2)\n",
      "('budh', 454.2)\n",
      "('vudh', 654.2)\n",
      "('dudh', 44.2)\n",
      "('sudh', 4654.2)\n",
      "('sudh', 4654.2)\n",
      "('sudh', 4654.2)\n",
      "('mudh', 465.2)\n",
      "('budh', 454.2)\n",
      "('vudh', 654.2)\n",
      "('dudh', 44.2)\n",
      "('sudh', 4654.2)\n",
      "('sudh', 4654.2)\n",
      "('sudh', 4654.2)\n",
      "('mudh', 465.2)\n",
      "('budh', 454.2)\n",
      "('vudh', 654.2)\n",
      "('dudh', 44.2)\n",
      "('sudh', 4654.2)\n"
     ]
    }
   ],
   "source": [
    "for i in data:\n",
    "    print(i)"
   ]
  },
  {
   "cell_type": "code",
   "execution_count": 24,
   "id": "259a07fb",
   "metadata": {},
   "outputs": [],
   "source": [
    "data = c.execute(\"select name, marks from fsds order by marks\")"
   ]
  },
  {
   "cell_type": "code",
   "execution_count": 25,
   "id": "d347dbf9",
   "metadata": {},
   "outputs": [
    {
     "name": "stdout",
     "output_type": "stream",
     "text": [
      "('dudh', 44.2)\n",
      "('dudh', 44.2)\n",
      "('dudh', 44.2)\n",
      "('dudh', 44.2)\n",
      "('dudh', 44.2)\n",
      "('budh', 454.2)\n",
      "('budh', 454.2)\n",
      "('budh', 454.2)\n",
      "('budh', 454.2)\n",
      "('budh', 454.2)\n",
      "('mudh', 465.2)\n",
      "('mudh', 465.2)\n",
      "('mudh', 465.2)\n",
      "('mudh', 465.2)\n",
      "('mudh', 465.2)\n",
      "('vudh', 654.2)\n",
      "('vudh', 654.2)\n",
      "('vudh', 654.2)\n",
      "('vudh', 654.2)\n",
      "('vudh', 654.2)\n",
      "('sudh', 4654.2)\n",
      "('sudh', 4654.2)\n",
      "('sudh', 4654.2)\n",
      "('sudh', 4654.2)\n",
      "('sudh', 4654.2)\n",
      "('sudh', 4654.2)\n",
      "('sudh', 4654.2)\n",
      "('sudh', 4654.2)\n",
      "('sudh', 4654.2)\n",
      "('sudh', 4654.2)\n",
      "('sudh', 4654.2)\n",
      "('sudh', 4654.2)\n",
      "('sudh', 4654.2)\n",
      "('sudh', 4654.2)\n",
      "('sudh', 4654.2)\n"
     ]
    }
   ],
   "source": [
    "for i in data:\n",
    "    print(i)"
   ]
  },
  {
   "cell_type": "code",
   "execution_count": 26,
   "id": "88c3d7ca",
   "metadata": {},
   "outputs": [],
   "source": [
    "data = c.execute(\"select name, marks from fsds order by marks desc\")"
   ]
  },
  {
   "cell_type": "code",
   "execution_count": 27,
   "id": "c0f9f550",
   "metadata": {},
   "outputs": [
    {
     "name": "stdout",
     "output_type": "stream",
     "text": [
      "('sudh', 4654.2)\n",
      "('sudh', 4654.2)\n",
      "('sudh', 4654.2)\n",
      "('sudh', 4654.2)\n",
      "('sudh', 4654.2)\n",
      "('sudh', 4654.2)\n",
      "('sudh', 4654.2)\n",
      "('sudh', 4654.2)\n",
      "('sudh', 4654.2)\n",
      "('sudh', 4654.2)\n",
      "('sudh', 4654.2)\n",
      "('sudh', 4654.2)\n",
      "('sudh', 4654.2)\n",
      "('sudh', 4654.2)\n",
      "('sudh', 4654.2)\n",
      "('vudh', 654.2)\n",
      "('vudh', 654.2)\n",
      "('vudh', 654.2)\n",
      "('vudh', 654.2)\n",
      "('vudh', 654.2)\n",
      "('mudh', 465.2)\n",
      "('mudh', 465.2)\n",
      "('mudh', 465.2)\n",
      "('mudh', 465.2)\n",
      "('mudh', 465.2)\n",
      "('budh', 454.2)\n",
      "('budh', 454.2)\n",
      "('budh', 454.2)\n",
      "('budh', 454.2)\n",
      "('budh', 454.2)\n",
      "('dudh', 44.2)\n",
      "('dudh', 44.2)\n",
      "('dudh', 44.2)\n",
      "('dudh', 44.2)\n",
      "('dudh', 44.2)\n"
     ]
    }
   ],
   "source": [
    "for i in data:\n",
    "    print(i)"
   ]
  },
  {
   "cell_type": "code",
   "execution_count": 28,
   "id": "bfd53448",
   "metadata": {},
   "outputs": [],
   "source": [
    "db.close()"
   ]
  },
  {
   "cell_type": "code",
   "execution_count": 29,
   "id": "f067ee71",
   "metadata": {},
   "outputs": [],
   "source": [
    "db = sqlite3.connect(\"person.db\") # new table created"
   ]
  },
  {
   "cell_type": "code",
   "execution_count": 30,
   "id": "c9ee4291",
   "metadata": {},
   "outputs": [],
   "source": [
    "# cursor is imp which execute query "
   ]
  },
  {
   "cell_type": "code",
   "execution_count": 31,
   "id": "423cc601",
   "metadata": {},
   "outputs": [],
   "source": [
    "c = db.cursor()"
   ]
  },
  {
   "cell_type": "code",
   "execution_count": 32,
   "id": "82d110a2",
   "metadata": {},
   "outputs": [
    {
     "ename": "OperationalError",
     "evalue": "table person_table already exists",
     "output_type": "error",
     "traceback": [
      "\u001b[1;31m---------------------------------------------------------------------------\u001b[0m",
      "\u001b[1;31mOperationalError\u001b[0m                          Traceback (most recent call last)",
      "\u001b[1;32m<ipython-input-32-bca0d2436c6b>\u001b[0m in \u001b[0;36m<module>\u001b[1;34m\u001b[0m\n\u001b[1;32m----> 1\u001b[1;33m \u001b[0mc\u001b[0m\u001b[1;33m.\u001b[0m\u001b[0mexecute\u001b[0m\u001b[1;33m(\u001b[0m\u001b[1;34m\"create table person_table (name text, emailid text, age int, salary real)\"\u001b[0m\u001b[1;33m)\u001b[0m\u001b[1;33m\u001b[0m\u001b[1;33m\u001b[0m\u001b[0m\n\u001b[0m",
      "\u001b[1;31mOperationalError\u001b[0m: table person_table already exists"
     ]
    }
   ],
   "source": [
    "c.execute(\"create table person_table (name text, emailid text, age int, salary real)\")"
   ]
  },
  {
   "cell_type": "code",
   "execution_count": null,
   "id": "1565343f",
   "metadata": {},
   "outputs": [],
   "source": []
  },
  {
   "cell_type": "code",
   "execution_count": 33,
   "id": "5755f19c",
   "metadata": {},
   "outputs": [
    {
     "name": "stdout",
     "output_type": "stream",
     "text": [
      " Volume in drive C has no label.\n",
      " Volume Serial Number is DE5C-05B8\n",
      "\n",
      " Directory of C:\\Users\\Nplite\\Favorites\n",
      "\n",
      "04-03-2022  23:52    <DIR>          .\n",
      "04-03-2022  21:40    <DIR>          ..\n",
      "04-03-2022  00:05    <DIR>          .ipynb_checkpoints\n",
      "19-02-2022  23:01    <DIR>          __pycache__\n",
      "08-02-2022  06:47           144,486 1.Basic, List, Tuple, Dictionary  ===1.ipynb\n",
      "21-02-2022  12:54            79,738 2.If Else, Range, For, While.ipynb\n",
      "22-02-2022  00:08            75,849 3. Function, Lambda,Generator.ipynb\n",
      "22-02-2022  17:53           105,786 4.Generator, Fibonacci no, Open,Write,Read file.ipynb\n",
      "24-02-2022  20:36            79,714 5.Exception Handling, Logging.ipynb\n",
      "28-02-2022  01:20           117,642 6.Class.ipynb\n",
      "23-02-2022  23:20            19,704 ADVANCE TASK INEURON.ipynb\n",
      "14-02-2022  22:31            11,903 glass.data\n",
      "22-02-2022  16:37             3,014 google.txt\n",
      "04-03-2022  00:44                 0 ineuorn.db\n",
      "04-03-2022  23:52             8,192 ineuron.db\n",
      "04-03-2022  20:09            20,480 jobdb.db\n",
      "04-03-2022  20:14             8,720 jobdb.db-journal\n",
      "30-01-2022  20:50    <DIR>          Links\n",
      "02-03-2022  01:24            86,043 MONGODB DATA.ipynb\n",
      "01-03-2022  17:23    <DIR>          OneDrive\n",
      "04-03-2022  19:25             8,192 person.db\n",
      "01-03-2022  17:27           237,581 SQL DATA2.ipynb\n",
      "04-03-2022  20:34            75,975 SQLLITE.ipynb\n",
      "22-02-2022  16:35                 0 test1\n",
      "              18 File(s)      1,083,019 bytes\n",
      "               6 Dir(s)  79,860,256,768 bytes free\n"
     ]
    }
   ],
   "source": [
    "ls"
   ]
  },
  {
   "cell_type": "code",
   "execution_count": 34,
   "id": "690f574c",
   "metadata": {},
   "outputs": [
    {
     "data": {
      "text/plain": [
       "<sqlite3.Cursor at 0x2226c641c00>"
      ]
     },
     "execution_count": 34,
     "metadata": {},
     "output_type": "execute_result"
    }
   ],
   "source": [
    "c.execute(\"insert into person_table values('sudh', 'sudhanshu@ineuron.ai' , 23 ,123456)\")\n",
    "c.execute(\"insert into person_table values('prashant', 'prashant@ineuron.ai' , 34 ,125656)\")\n",
    "c.execute(\"insert into person_table values('sunny', 'sunny@ineuron.ai' , 28 ,184561)\")\n",
    "c.execute(\"insert into person_table values('krish', 'krish@ineuron.ai' , 29 ,1542661)\")\n",
    "\n"
   ]
  },
  {
   "cell_type": "code",
   "execution_count": 35,
   "id": "2bf963be",
   "metadata": {},
   "outputs": [
    {
     "name": "stdout",
     "output_type": "stream",
     "text": [
      " Volume in drive C has no label.\n",
      " Volume Serial Number is DE5C-05B8\n",
      "\n",
      " Directory of C:\\Users\\Nplite\\Favorites\n",
      "\n",
      "04-03-2022  23:52    <DIR>          .\n",
      "04-03-2022  21:40    <DIR>          ..\n",
      "04-03-2022  00:05    <DIR>          .ipynb_checkpoints\n",
      "19-02-2022  23:01    <DIR>          __pycache__\n",
      "08-02-2022  06:47           144,486 1.Basic, List, Tuple, Dictionary  ===1.ipynb\n",
      "21-02-2022  12:54            79,738 2.If Else, Range, For, While.ipynb\n",
      "22-02-2022  00:08            75,849 3. Function, Lambda,Generator.ipynb\n",
      "22-02-2022  17:53           105,786 4.Generator, Fibonacci no, Open,Write,Read file.ipynb\n",
      "24-02-2022  20:36            79,714 5.Exception Handling, Logging.ipynb\n",
      "28-02-2022  01:20           117,642 6.Class.ipynb\n",
      "23-02-2022  23:20            19,704 ADVANCE TASK INEURON.ipynb\n",
      "14-02-2022  22:31            11,903 glass.data\n",
      "22-02-2022  16:37             3,014 google.txt\n",
      "04-03-2022  00:44                 0 ineuorn.db\n",
      "04-03-2022  23:52             8,192 ineuron.db\n",
      "04-03-2022  20:09            20,480 jobdb.db\n",
      "04-03-2022  20:14             8,720 jobdb.db-journal\n",
      "30-01-2022  20:50    <DIR>          Links\n",
      "02-03-2022  01:24            86,043 MONGODB DATA.ipynb\n",
      "01-03-2022  17:23    <DIR>          OneDrive\n",
      "04-03-2022  19:25             8,192 person.db\n",
      "04-03-2022  23:52                 0 person.db-journal\n",
      "01-03-2022  17:27           237,581 SQL DATA2.ipynb\n",
      "04-03-2022  20:34            75,975 SQLLITE.ipynb\n",
      "22-02-2022  16:35                 0 test1\n",
      "              19 File(s)      1,083,019 bytes\n",
      "               6 Dir(s)  79,860,236,288 bytes free\n"
     ]
    }
   ],
   "source": [
    "ls"
   ]
  },
  {
   "cell_type": "code",
   "execution_count": 36,
   "id": "da484898",
   "metadata": {},
   "outputs": [],
   "source": [
    "data = c.execute(\"select * from person_table\")"
   ]
  },
  {
   "cell_type": "code",
   "execution_count": 37,
   "id": "295e4420",
   "metadata": {},
   "outputs": [
    {
     "name": "stdout",
     "output_type": "stream",
     "text": [
      "('sudh', 'sudhanshu@ineuron.ai', 23, 123456.0)\n",
      "('prashant', 'prashant@ineuron.ai', 34, 125656.0)\n",
      "('sunny', 'sunny@ineuron.ai', 28, 184561.0)\n",
      "('krish', 'krish@ineuron.ai', 29, 1542661.0)\n",
      "('sudh', 'sudhanshu@ineuron.ai', 23, 123456.0)\n",
      "('prashant', 'prashant@ineuron.ai', 34, 125656.0)\n",
      "('sunny', 'sunny@ineuron.ai', 28, 184561.0)\n",
      "('krish', 'krish@ineuron.ai', 29, 1542661.0)\n",
      "('sudh', 'sudhanshu@ineuron.ai', 23, 123456.0)\n",
      "('prashant', 'prashant@ineuron.ai', 34, 125656.0)\n",
      "('sunny', 'sunny@ineuron.ai', 28, 184561.0)\n",
      "('krish', 'krish@ineuron.ai', 29, 1542661.0)\n",
      "('sudh', 'sudhanshu@ineuron.ai', 23, 123456.0)\n",
      "('prashant', 'prashant@ineuron.ai', 34, 125656.0)\n",
      "('sunny', 'sunny@ineuron.ai', 28, 184561.0)\n",
      "('krish', 'krish@ineuron.ai', 29, 1542661.0)\n",
      "('sudh', 'sudhanshu@ineuron.ai', 23, 123456.0)\n",
      "('prashant', 'prashant@ineuron.ai', 34, 125656.0)\n",
      "('sunny', 'sunny@ineuron.ai', 28, 184561.0)\n",
      "('krish', 'krish@ineuron.ai', 29, 1542661.0)\n"
     ]
    }
   ],
   "source": [
    "for i in data:\n",
    "    print(i)"
   ]
  },
  {
   "cell_type": "code",
   "execution_count": 38,
   "id": "53a93988",
   "metadata": {},
   "outputs": [],
   "source": [
    "# drop a perticular table"
   ]
  },
  {
   "cell_type": "code",
   "execution_count": 39,
   "id": "225e207a",
   "metadata": {},
   "outputs": [],
   "source": [
    "db.commit()"
   ]
  },
  {
   "cell_type": "code",
   "execution_count": 40,
   "id": "fb12bd25",
   "metadata": {},
   "outputs": [],
   "source": [
    "db.close()"
   ]
  },
  {
   "cell_type": "code",
   "execution_count": 41,
   "id": "bd81d137",
   "metadata": {},
   "outputs": [],
   "source": [
    "db = sqlite3.connect(\"ineuorn.db\")"
   ]
  },
  {
   "cell_type": "code",
   "execution_count": 42,
   "id": "30d9be57",
   "metadata": {},
   "outputs": [],
   "source": [
    "# one database you will be able to store one table and at a time you will be fetch a one databases not a multiple one"
   ]
  },
  {
   "cell_type": "code",
   "execution_count": 43,
   "id": "884e2949",
   "metadata": {},
   "outputs": [],
   "source": [
    "c = db.cursor()"
   ]
  },
  {
   "cell_type": "code",
   "execution_count": 44,
   "id": "7ccf2ad9",
   "metadata": {},
   "outputs": [
    {
     "ename": "OperationalError",
     "evalue": "no such table: fsds",
     "output_type": "error",
     "traceback": [
      "\u001b[1;31m---------------------------------------------------------------------------\u001b[0m",
      "\u001b[1;31mOperationalError\u001b[0m                          Traceback (most recent call last)",
      "\u001b[1;32m<ipython-input-44-4c2ba6bba379>\u001b[0m in \u001b[0;36m<module>\u001b[1;34m\u001b[0m\n\u001b[1;32m----> 1\u001b[1;33m \u001b[0mc\u001b[0m\u001b[1;33m.\u001b[0m\u001b[0mexecute\u001b[0m\u001b[1;33m(\u001b[0m\u001b[1;34m'drop table fsds'\u001b[0m\u001b[1;33m)\u001b[0m \u001b[1;31m# IT ALREADY DROPED\u001b[0m\u001b[1;33m\u001b[0m\u001b[1;33m\u001b[0m\u001b[0m\n\u001b[0m",
      "\u001b[1;31mOperationalError\u001b[0m: no such table: fsds"
     ]
    }
   ],
   "source": [
    "c.execute('drop table fsds') # IT ALREADY DROPED"
   ]
  },
  {
   "cell_type": "code",
   "execution_count": 45,
   "id": "e8860c84",
   "metadata": {},
   "outputs": [
    {
     "ename": "OperationalError",
     "evalue": "no such table: fsds",
     "output_type": "error",
     "traceback": [
      "\u001b[1;31m---------------------------------------------------------------------------\u001b[0m",
      "\u001b[1;31mOperationalError\u001b[0m                          Traceback (most recent call last)",
      "\u001b[1;32m<ipython-input-45-fa9bcb73c656>\u001b[0m in \u001b[0;36m<module>\u001b[1;34m\u001b[0m\n\u001b[1;32m----> 1\u001b[1;33m \u001b[0mc\u001b[0m\u001b[1;33m.\u001b[0m\u001b[0mexecute\u001b[0m\u001b[1;33m(\u001b[0m\u001b[1;34m'select *  from fsds'\u001b[0m\u001b[1;33m)\u001b[0m\u001b[1;33m\u001b[0m\u001b[1;33m\u001b[0m\u001b[0m\n\u001b[0m",
      "\u001b[1;31mOperationalError\u001b[0m: no such table: fsds"
     ]
    }
   ],
   "source": [
    "c.execute('select *  from fsds')"
   ]
  },
  {
   "cell_type": "code",
   "execution_count": 46,
   "id": "d13d5a63",
   "metadata": {},
   "outputs": [
    {
     "name": "stdout",
     "output_type": "stream",
     "text": [
      " Volume in drive C has no label.\n",
      " Volume Serial Number is DE5C-05B8\n",
      "\n",
      " Directory of C:\\Users\\Nplite\\Favorites\n",
      "\n",
      "04-03-2022  23:52    <DIR>          .\n",
      "04-03-2022  21:40    <DIR>          ..\n",
      "04-03-2022  00:05    <DIR>          .ipynb_checkpoints\n",
      "19-02-2022  23:01    <DIR>          __pycache__\n",
      "08-02-2022  06:47           144,486 1.Basic, List, Tuple, Dictionary  ===1.ipynb\n",
      "21-02-2022  12:54            79,738 2.If Else, Range, For, While.ipynb\n",
      "22-02-2022  00:08            75,849 3. Function, Lambda,Generator.ipynb\n",
      "22-02-2022  17:53           105,786 4.Generator, Fibonacci no, Open,Write,Read file.ipynb\n",
      "24-02-2022  20:36            79,714 5.Exception Handling, Logging.ipynb\n",
      "28-02-2022  01:20           117,642 6.Class.ipynb\n",
      "23-02-2022  23:20            19,704 ADVANCE TASK INEURON.ipynb\n",
      "14-02-2022  22:31            11,903 glass.data\n",
      "22-02-2022  16:37             3,014 google.txt\n",
      "04-03-2022  00:44                 0 ineuorn.db\n",
      "04-03-2022  23:52             8,192 ineuron.db\n",
      "04-03-2022  20:09            20,480 jobdb.db\n",
      "04-03-2022  20:14             8,720 jobdb.db-journal\n",
      "30-01-2022  20:50    <DIR>          Links\n",
      "02-03-2022  01:24            86,043 MONGODB DATA.ipynb\n",
      "01-03-2022  17:23    <DIR>          OneDrive\n",
      "04-03-2022  23:52             8,192 person.db\n",
      "01-03-2022  17:27           237,581 SQL DATA2.ipynb\n",
      "04-03-2022  20:34            75,975 SQLLITE.ipynb\n",
      "22-02-2022  16:35                 0 test1\n",
      "              18 File(s)      1,083,019 bytes\n",
      "               6 Dir(s)  79,860,244,480 bytes free\n"
     ]
    }
   ],
   "source": [
    "ls"
   ]
  },
  {
   "cell_type": "code",
   "execution_count": 47,
   "id": "7fa77ee0",
   "metadata": {},
   "outputs": [],
   "source": [
    "db.close()"
   ]
  },
  {
   "cell_type": "code",
   "execution_count": 48,
   "id": "7b90255c",
   "metadata": {},
   "outputs": [],
   "source": [
    "db = sqlite3.connect(\"person.db\")"
   ]
  },
  {
   "cell_type": "code",
   "execution_count": 49,
   "id": "4702d6e5",
   "metadata": {},
   "outputs": [],
   "source": [
    "c = db.cursor()"
   ]
  },
  {
   "cell_type": "code",
   "execution_count": 50,
   "id": "ccaf3fd2",
   "metadata": {},
   "outputs": [],
   "source": [
    "data = c.execute(\"select * from person_table limit 2\")"
   ]
  },
  {
   "cell_type": "code",
   "execution_count": 51,
   "id": "5e247b17",
   "metadata": {},
   "outputs": [
    {
     "name": "stdout",
     "output_type": "stream",
     "text": [
      "('sudh', 'sudhanshu@ineuron.ai', 23, 123456.0)\n",
      "('prashant', 'prashant@ineuron.ai', 34, 125656.0)\n"
     ]
    }
   ],
   "source": [
    "for i in data :\n",
    "    print(i)"
   ]
  },
  {
   "cell_type": "code",
   "execution_count": 52,
   "id": "97de9dd3",
   "metadata": {},
   "outputs": [],
   "source": [
    "#joint operation == two table can join and fetch a one record"
   ]
  },
  {
   "cell_type": "code",
   "execution_count": 53,
   "id": "9062d4c4",
   "metadata": {},
   "outputs": [],
   "source": [
    " db.close()"
   ]
  },
  {
   "cell_type": "code",
   "execution_count": 54,
   "id": "a67982db",
   "metadata": {},
   "outputs": [],
   "source": [
    "db= sqlite3.connect('jobdb.db')"
   ]
  },
  {
   "cell_type": "code",
   "execution_count": 55,
   "id": "164d5a2d",
   "metadata": {},
   "outputs": [],
   "source": [
    "c = db.cursor()"
   ]
  },
  {
   "cell_type": "code",
   "execution_count": 56,
   "id": "c83991d1",
   "metadata": {},
   "outputs": [
    {
     "data": {
      "text/plain": [
       "<sqlite3.Cursor at 0x2226c653ab0>"
      ]
     },
     "execution_count": 56,
     "metadata": {},
     "output_type": "execute_result"
    }
   ],
   "source": [
    "c.execute(\"create table student22(student_id int, student_name text, student_mailid text, marks int)\")"
   ]
  },
  {
   "cell_type": "code",
   "execution_count": 57,
   "id": "552e645f",
   "metadata": {},
   "outputs": [
    {
     "data": {
      "text/plain": [
       "<sqlite3.Cursor at 0x2226c653ab0>"
      ]
     },
     "execution_count": 57,
     "metadata": {},
     "output_type": "execute_result"
    }
   ],
   "source": [
    "c.execute('drop table student22')"
   ]
  },
  {
   "cell_type": "code",
   "execution_count": 58,
   "id": "f2a408f7",
   "metadata": {},
   "outputs": [
    {
     "ename": "OperationalError",
     "evalue": "table stud already exists",
     "output_type": "error",
     "traceback": [
      "\u001b[1;31m---------------------------------------------------------------------------\u001b[0m",
      "\u001b[1;31mOperationalError\u001b[0m                          Traceback (most recent call last)",
      "\u001b[1;32m<ipython-input-58-a149865836c8>\u001b[0m in \u001b[0;36m<module>\u001b[1;34m\u001b[0m\n\u001b[1;32m----> 1\u001b[1;33m \u001b[0mc\u001b[0m\u001b[1;33m.\u001b[0m\u001b[0mexecute\u001b[0m\u001b[1;33m(\u001b[0m\u001b[1;34m\"create table stud(student_id int, student_name text, student_mailid text, marks int)\"\u001b[0m\u001b[1;33m)\u001b[0m\u001b[1;33m\u001b[0m\u001b[1;33m\u001b[0m\u001b[0m\n\u001b[0m",
      "\u001b[1;31mOperationalError\u001b[0m: table stud already exists"
     ]
    }
   ],
   "source": [
    "c.execute(\"create table stud(student_id int, student_name text, student_mailid text, marks int)\")"
   ]
  },
  {
   "cell_type": "code",
   "execution_count": 59,
   "id": "5f75c9fb",
   "metadata": {},
   "outputs": [
    {
     "ename": "OperationalError",
     "evalue": "table adress already exists",
     "output_type": "error",
     "traceback": [
      "\u001b[1;31m---------------------------------------------------------------------------\u001b[0m",
      "\u001b[1;31mOperationalError\u001b[0m                          Traceback (most recent call last)",
      "\u001b[1;32m<ipython-input-59-4f45374e7580>\u001b[0m in \u001b[0;36m<module>\u001b[1;34m\u001b[0m\n\u001b[1;32m----> 1\u001b[1;33m \u001b[0mc\u001b[0m\u001b[1;33m.\u001b[0m\u001b[0mexecute\u001b[0m\u001b[1;33m(\u001b[0m\u001b[1;34m\"create table adress(student_id int, pincode int, location text, nearby text, phoneno int)\"\u001b[0m\u001b[1;33m)\u001b[0m\u001b[1;33m\u001b[0m\u001b[1;33m\u001b[0m\u001b[0m\n\u001b[0m",
      "\u001b[1;31mOperationalError\u001b[0m: table adress already exists"
     ]
    }
   ],
   "source": [
    "c.execute(\"create table adress(student_id int, pincode int, location text, nearby text, phoneno int)\")"
   ]
  },
  {
   "cell_type": "code",
   "execution_count": 60,
   "id": "a5b7d843",
   "metadata": {},
   "outputs": [
    {
     "data": {
      "text/plain": [
       "<sqlite3.Cursor at 0x2226c653ab0>"
      ]
     },
     "execution_count": 60,
     "metadata": {},
     "output_type": "execute_result"
    }
   ],
   "source": [
    "c.execute(\"insert into stud values(234, 'sudhanshu','sudhanshu@ineuron.ai', 234)\")\n",
    "c.execute(\"insert into stud values(235, 'sudhanshu','sudhanshu@ineuron.ai', 234)\")\n",
    "c.execute(\"insert into stud values(237, 'sudhanshu','sudhanshu@ineuron.ai', 234)\")\n",
    "c.execute(\"insert into stud values(238, 'sudhanshu','sudhanshu@ineuron.ai', 234)\")\n",
    "c.execute(\"insert into stud values(239, 'sudhanshu','sudhanshu@ineuron.ai', 234)\")\n",
    "c.execute(\"insert into stud values(240, 'sudhanshu','sudhanshu@ineuron.ai', 234)\")\n",
    "c.execute(\"insert into stud values(241, 'sudhanshu','sudhanshu@ineuron.ai', 234)\")\n",
    "c.execute(\"insert into stud values(242, 'sudhanshu','sudhanshu@ineuron.ai', 234)\")\n",
    "c.execute(\"insert into stud values(243, 'sudhanshu','sudhanshu@ineuron.ai', 234)\")\n",
    "c.execute(\"insert into stud values(244, 'sudhanshu','sudhanshu@ineuron.ai', 234)\")"
   ]
  },
  {
   "cell_type": "code",
   "execution_count": 61,
   "id": "e7132391",
   "metadata": {},
   "outputs": [
    {
     "data": {
      "text/plain": [
       "<sqlite3.Cursor at 0x2226c653ab0>"
      ]
     },
     "execution_count": 61,
     "metadata": {},
     "output_type": "execute_result"
    }
   ],
   "source": [
    "c.execute(\"insert into adress values(234,425408,'whitefelid', 'balajinagar', 97254631852)\")"
   ]
  },
  {
   "cell_type": "code",
   "execution_count": 62,
   "id": "be322a17",
   "metadata": {},
   "outputs": [
    {
     "data": {
      "text/plain": [
       "<sqlite3.Cursor at 0x2226c653ab0>"
      ]
     },
     "execution_count": 62,
     "metadata": {},
     "output_type": "execute_result"
    }
   ],
   "source": [
    "c.execute(\"insert into adress values(234,425408,'whitefelid', 'balajinagar', 97254631852)\")\n",
    "c.execute(\"insert into adress values(2325,425401,'whitefelid', 'bajajinagar', 97254631852)\")\n",
    "c.execute(\"insert into adress values(231,425402,'whitefelid', 'balajnagar', 97254631852)\")\n",
    "c.execute(\"insert into adress values(244,425403,'whitefelid', 'bajalinagar', 972546315652)\")\n",
    "c.execute(\"insert into adress values(234,425404,'whitefelid', 'balajinagar', 972546315552)\")\n",
    "c.execute(\"insert into adress values(264,425405,'whitefelid', 'bajinagar', 97254631852)\")\n",
    "c.execute(\"insert into adress values(214,425406,'whitefelid', 'bainagar', 97254631852)\")\n",
    "c.execute(\"insert into adress values(2784,425407,'whitefelid', 'boyakaagar', 97254631852)\")\n",
    "c.execute(\"insert into adress values(534,425409,'whitefelid', 'balajinagar', 97254631852)\")\n",
    "c.execute(\"insert into adress values(334,425410,'whitefelid', 'balajinagar', 97254614852)\")\n",
    "c.execute(\"insert into adress values(254,425408,'whitefelid', 'balajinagar', 97254631852)\")\n",
    "c.execute(\"insert into adress values(284,425408,'whitefelid', 'vataninagar', 97254631852)\")\n",
    "c.execute(\"insert into adress values(2664,425408,'whitefelid', 'ratanjinagar', 972546121852)\")\n",
    "c.execute(\"insert into adress values(2347,425408,'whitefelid', 'bhavaniinagar', 97254631852)\")\n",
    "c.execute(\"insert into adress values(2365,425408,'whitefelid', 'bavajinagar', 97254631852)\")\n",
    "c.execute(\"insert into adress values(2321,425408,'whitefelid', 'bavaninagar', 97254631852)\")\n",
    "c.execute(\"insert into adress values(255,425408,'whitefelid', 'balajiagar', 97254631852)\")\n",
    "c.execute(\"insert into adress values(231,425408,'whitefelid', 'balajinaar', 97254631852)\")\n"
   ]
  },
  {
   "cell_type": "code",
   "execution_count": 63,
   "id": "a2403c6a",
   "metadata": {},
   "outputs": [
    {
     "name": "stdout",
     "output_type": "stream",
     "text": [
      "(234, 425408, 'whitefelid', 'balajinagar', 97254631852)\n",
      "(234, 425408, 'whitefelid', 'balajinagar', 97254631852)\n",
      "(2325, 425401, 'whitefelid', 'bajajinagar', 97254631852)\n",
      "(231, 425402, 'whitefelid', 'balajnagar', 97254631852)\n",
      "(244, 425403, 'whitefelid', 'bajalinagar', 972546315652)\n",
      "(234, 425404, 'whitefelid', 'balajinagar', 972546315552)\n",
      "(264, 425405, 'whitefelid', 'bajinagar', 97254631852)\n",
      "(214, 425406, 'whitefelid', 'bainagar', 97254631852)\n",
      "(2784, 425407, 'whitefelid', 'boyakaagar', 97254631852)\n",
      "(534, 425409, 'whitefelid', 'balajinagar', 97254631852)\n",
      "(334, 425410, 'whitefelid', 'balajinagar', 97254614852)\n",
      "(254, 425408, 'whitefelid', 'balajinagar', 97254631852)\n",
      "(284, 425408, 'whitefelid', 'vataninagar', 97254631852)\n",
      "(2664, 425408, 'whitefelid', 'ratanjinagar', 972546121852)\n",
      "(2347, 425408, 'whitefelid', 'bhavaniinagar', 97254631852)\n",
      "(2365, 425408, 'whitefelid', 'bavajinagar', 97254631852)\n",
      "(2321, 425408, 'whitefelid', 'bavaninagar', 97254631852)\n",
      "(255, 425408, 'whitefelid', 'balajiagar', 97254631852)\n",
      "(231, 425408, 'whitefelid', 'balajinaar', 97254631852)\n"
     ]
    }
   ],
   "source": [
    "for i in c.execute(\"select * from adress\"):\n",
    "    print(i)"
   ]
  },
  {
   "cell_type": "code",
   "execution_count": 64,
   "id": "b43c91da",
   "metadata": {},
   "outputs": [
    {
     "name": "stdout",
     "output_type": "stream",
     "text": [
      "(234, 'sudhanshu', 'sudhanshu@ineuron.ai', 234)\n",
      "(235, 'sudhanshu', 'sudhanshu@ineuron.ai', 234)\n",
      "(237, 'sudhanshu', 'sudhanshu@ineuron.ai', 234)\n",
      "(238, 'sudhanshu', 'sudhanshu@ineuron.ai', 234)\n",
      "(239, 'sudhanshu', 'sudhanshu@ineuron.ai', 234)\n",
      "(240, 'sudhanshu', 'sudhanshu@ineuron.ai', 234)\n",
      "(241, 'sudhanshu', 'sudhanshu@ineuron.ai', 234)\n",
      "(242, 'sudhanshu', 'sudhanshu@ineuron.ai', 234)\n",
      "(243, 'sudhanshu', 'sudhanshu@ineuron.ai', 234)\n",
      "(244, 'sudhanshu', 'sudhanshu@ineuron.ai', 234)\n"
     ]
    }
   ],
   "source": [
    "\n",
    "\n",
    "for i in c.execute(\"select * from stud\"):\n",
    "    print(i)"
   ]
  },
  {
   "cell_type": "code",
   "execution_count": 65,
   "id": "b6f82e76",
   "metadata": {},
   "outputs": [],
   "source": [
    "#give me an adress for each an evry student_id"
   ]
  },
  {
   "cell_type": "code",
   "execution_count": 66,
   "id": "1f239a08",
   "metadata": {},
   "outputs": [],
   "source": [
    "data = c.execute(\"select * from stud s left join adress a on s.student_id = a.student_id\") # on is used for join operation and where is a filter condition"
   ]
  },
  {
   "cell_type": "code",
   "execution_count": 67,
   "id": "90f50e4f",
   "metadata": {},
   "outputs": [
    {
     "name": "stdout",
     "output_type": "stream",
     "text": [
      "(234, 'sudhanshu', 'sudhanshu@ineuron.ai', 234, 234, 425404, 'whitefelid', 'balajinagar', 972546315552)\n",
      "(234, 'sudhanshu', 'sudhanshu@ineuron.ai', 234, 234, 425408, 'whitefelid', 'balajinagar', 97254631852)\n",
      "(234, 'sudhanshu', 'sudhanshu@ineuron.ai', 234, 234, 425408, 'whitefelid', 'balajinagar', 97254631852)\n",
      "(235, 'sudhanshu', 'sudhanshu@ineuron.ai', 234, None, None, None, None, None)\n",
      "(237, 'sudhanshu', 'sudhanshu@ineuron.ai', 234, None, None, None, None, None)\n",
      "(238, 'sudhanshu', 'sudhanshu@ineuron.ai', 234, None, None, None, None, None)\n",
      "(239, 'sudhanshu', 'sudhanshu@ineuron.ai', 234, None, None, None, None, None)\n",
      "(240, 'sudhanshu', 'sudhanshu@ineuron.ai', 234, None, None, None, None, None)\n",
      "(241, 'sudhanshu', 'sudhanshu@ineuron.ai', 234, None, None, None, None, None)\n",
      "(242, 'sudhanshu', 'sudhanshu@ineuron.ai', 234, None, None, None, None, None)\n",
      "(243, 'sudhanshu', 'sudhanshu@ineuron.ai', 234, None, None, None, None, None)\n",
      "(244, 'sudhanshu', 'sudhanshu@ineuron.ai', 234, 244, 425403, 'whitefelid', 'bajalinagar', 972546315652)\n"
     ]
    }
   ],
   "source": [
    "for i in data: # it is fetching everything inside left table\n",
    "    print(i)"
   ]
  },
  {
   "cell_type": "code",
   "execution_count": 69,
   "id": "e6159523",
   "metadata": {},
   "outputs": [],
   "source": [
    "data = c.execute(\"select * from stud s left join adress a on s.student_id = a.student_id where a.student_id is not null\")"
   ]
  },
  {
   "cell_type": "code",
   "execution_count": 70,
   "id": "247a2aa7",
   "metadata": {},
   "outputs": [
    {
     "name": "stdout",
     "output_type": "stream",
     "text": [
      "(234, 'sudhanshu', 'sudhanshu@ineuron.ai', 234, 234, 425408, 'whitefelid', 'balajinagar', 97254631852)\n",
      "(234, 'sudhanshu', 'sudhanshu@ineuron.ai', 234, 234, 425408, 'whitefelid', 'balajinagar', 97254631852)\n",
      "(244, 'sudhanshu', 'sudhanshu@ineuron.ai', 234, 244, 425403, 'whitefelid', 'bajalinagar', 972546315652)\n",
      "(234, 'sudhanshu', 'sudhanshu@ineuron.ai', 234, 234, 425404, 'whitefelid', 'balajinagar', 972546315552)\n"
     ]
    }
   ],
   "source": [
    "for i in data:\n",
    "    print(i)"
   ]
  },
  {
   "cell_type": "code",
   "execution_count": 71,
   "id": "6569733b",
   "metadata": {},
   "outputs": [
    {
     "ename": "OperationalError",
     "evalue": "RIGHT and FULL OUTER JOINs are not currently supported",
     "output_type": "error",
     "traceback": [
      "\u001b[1;31m---------------------------------------------------------------------------\u001b[0m",
      "\u001b[1;31mOperationalError\u001b[0m                          Traceback (most recent call last)",
      "\u001b[1;32m<ipython-input-71-c6c7dc1feccf>\u001b[0m in \u001b[0;36m<module>\u001b[1;34m\u001b[0m\n\u001b[1;32m----> 1\u001b[1;33m \u001b[0mdata\u001b[0m \u001b[1;33m=\u001b[0m \u001b[0mc\u001b[0m\u001b[1;33m.\u001b[0m\u001b[0mexecute\u001b[0m\u001b[1;33m(\u001b[0m\u001b[1;34m\"select * from stud s right join adress a on s.student_id = a.student_id\"\u001b[0m\u001b[1;33m)\u001b[0m\u001b[1;33m\u001b[0m\u001b[1;33m\u001b[0m\u001b[0m\n\u001b[0m",
      "\u001b[1;31mOperationalError\u001b[0m: RIGHT and FULL OUTER JOINs are not currently supported"
     ]
    }
   ],
   "source": [
    "data = c.execute(\"select * from stud s right join adress a on s.student_id = a.student_id\")"
   ]
  },
  {
   "cell_type": "code",
   "execution_count": 73,
   "id": "e1920a76",
   "metadata": {},
   "outputs": [],
   "source": [
    "# in sqllite it is not available at right and full outer joint is not possible ... so it is possible inside sql system only"
   ]
  },
  {
   "cell_type": "code",
   "execution_count": 74,
   "id": "55a63766",
   "metadata": {},
   "outputs": [],
   "source": [
    "# if i have to achive that so change stud and adress position"
   ]
  },
  {
   "cell_type": "code",
   "execution_count": 75,
   "id": "b9bd5cb7",
   "metadata": {},
   "outputs": [],
   "source": [
    "data = c.execute(\"select * from adress s left join stud a on s.student_id = a.student_id\")"
   ]
  },
  {
   "cell_type": "code",
   "execution_count": 77,
   "id": "4b63107e",
   "metadata": {},
   "outputs": [
    {
     "name": "stdout",
     "output_type": "stream",
     "text": [
      "(234, 425408, 'whitefelid', 'balajinagar', 97254631852, 234, 'sudhanshu', 'sudhanshu@ineuron.ai', 234)\n",
      "(234, 425408, 'whitefelid', 'balajinagar', 97254631852, 234, 'sudhanshu', 'sudhanshu@ineuron.ai', 234)\n",
      "(2325, 425401, 'whitefelid', 'bajajinagar', 97254631852, None, None, None, None)\n",
      "(231, 425402, 'whitefelid', 'balajnagar', 97254631852, None, None, None, None)\n",
      "(244, 425403, 'whitefelid', 'bajalinagar', 972546315652, 244, 'sudhanshu', 'sudhanshu@ineuron.ai', 234)\n",
      "(234, 425404, 'whitefelid', 'balajinagar', 972546315552, 234, 'sudhanshu', 'sudhanshu@ineuron.ai', 234)\n",
      "(264, 425405, 'whitefelid', 'bajinagar', 97254631852, None, None, None, None)\n",
      "(214, 425406, 'whitefelid', 'bainagar', 97254631852, None, None, None, None)\n",
      "(2784, 425407, 'whitefelid', 'boyakaagar', 97254631852, None, None, None, None)\n",
      "(534, 425409, 'whitefelid', 'balajinagar', 97254631852, None, None, None, None)\n",
      "(334, 425410, 'whitefelid', 'balajinagar', 97254614852, None, None, None, None)\n",
      "(254, 425408, 'whitefelid', 'balajinagar', 97254631852, None, None, None, None)\n",
      "(284, 425408, 'whitefelid', 'vataninagar', 97254631852, None, None, None, None)\n",
      "(2664, 425408, 'whitefelid', 'ratanjinagar', 972546121852, None, None, None, None)\n",
      "(2347, 425408, 'whitefelid', 'bhavaniinagar', 97254631852, None, None, None, None)\n",
      "(2365, 425408, 'whitefelid', 'bavajinagar', 97254631852, None, None, None, None)\n",
      "(2321, 425408, 'whitefelid', 'bavaninagar', 97254631852, None, None, None, None)\n",
      "(255, 425408, 'whitefelid', 'balajiagar', 97254631852, None, None, None, None)\n",
      "(231, 425408, 'whitefelid', 'balajinaar', 97254631852, None, None, None, None)\n"
     ]
    }
   ],
   "source": [
    "for i in data:\n",
    "    print(i)"
   ]
  },
  {
   "cell_type": "code",
   "execution_count": 78,
   "id": "f3329234",
   "metadata": {},
   "outputs": [],
   "source": [
    "#full outer join== access all data from left/right towords corrusponding location"
   ]
  },
  {
   "cell_type": "code",
   "execution_count": 79,
   "id": "1913b0e7",
   "metadata": {},
   "outputs": [
    {
     "name": "stdout",
     "output_type": "stream",
     "text": [
      "(234, 'sudhanshu', 'sudhanshu@ineuron.ai', 234)\n",
      "(235, 'sudhanshu', 'sudhanshu@ineuron.ai', 234)\n",
      "(237, 'sudhanshu', 'sudhanshu@ineuron.ai', 234)\n",
      "(238, 'sudhanshu', 'sudhanshu@ineuron.ai', 234)\n",
      "(239, 'sudhanshu', 'sudhanshu@ineuron.ai', 234)\n",
      "(240, 'sudhanshu', 'sudhanshu@ineuron.ai', 234)\n",
      "(241, 'sudhanshu', 'sudhanshu@ineuron.ai', 234)\n",
      "(242, 'sudhanshu', 'sudhanshu@ineuron.ai', 234)\n",
      "(243, 'sudhanshu', 'sudhanshu@ineuron.ai', 234)\n",
      "(244, 'sudhanshu', 'sudhanshu@ineuron.ai', 234)\n"
     ]
    }
   ],
   "source": [
    "for i in c.execute(\"select * from stud\"):\n",
    "    print(i) # delete record where id is greater that 240"
   ]
  },
  {
   "cell_type": "code",
   "execution_count": 80,
   "id": "86050272",
   "metadata": {},
   "outputs": [
    {
     "data": {
      "text/plain": [
       "<sqlite3.Cursor at 0x2226c653ab0>"
      ]
     },
     "execution_count": 80,
     "metadata": {},
     "output_type": "execute_result"
    }
   ],
   "source": [
    "c.execute(\"delete from stud where student_id > 240\")"
   ]
  },
  {
   "cell_type": "code",
   "execution_count": 81,
   "id": "ab449457",
   "metadata": {},
   "outputs": [
    {
     "name": "stdout",
     "output_type": "stream",
     "text": [
      "(234, 'sudhanshu', 'sudhanshu@ineuron.ai', 234)\n",
      "(235, 'sudhanshu', 'sudhanshu@ineuron.ai', 234)\n",
      "(237, 'sudhanshu', 'sudhanshu@ineuron.ai', 234)\n",
      "(238, 'sudhanshu', 'sudhanshu@ineuron.ai', 234)\n",
      "(239, 'sudhanshu', 'sudhanshu@ineuron.ai', 234)\n",
      "(240, 'sudhanshu', 'sudhanshu@ineuron.ai', 234)\n"
     ]
    }
   ],
   "source": [
    "for i in c.execute(\"select * from stud\"):\n",
    "    print(i) "
   ]
  },
  {
   "cell_type": "code",
   "execution_count": 82,
   "id": "e289117d",
   "metadata": {},
   "outputs": [],
   "source": [
    "data = c.execute(\"select * from stud\")"
   ]
  },
  {
   "cell_type": "code",
   "execution_count": 83,
   "id": "0d420f9e",
   "metadata": {},
   "outputs": [
    {
     "data": {
      "text/plain": [
       "[(234, 'sudhanshu', 'sudhanshu@ineuron.ai', 234),\n",
       " (235, 'sudhanshu', 'sudhanshu@ineuron.ai', 234),\n",
       " (237, 'sudhanshu', 'sudhanshu@ineuron.ai', 234),\n",
       " (238, 'sudhanshu', 'sudhanshu@ineuron.ai', 234),\n",
       " (239, 'sudhanshu', 'sudhanshu@ineuron.ai', 234),\n",
       " (240, 'sudhanshu', 'sudhanshu@ineuron.ai', 234)]"
      ]
     },
     "execution_count": 83,
     "metadata": {},
     "output_type": "execute_result"
    }
   ],
   "source": [
    "data.fetchall()  # it will show you all the tuple data"
   ]
  },
  {
   "cell_type": "code",
   "execution_count": 84,
   "id": "dcf9894f",
   "metadata": {},
   "outputs": [
    {
     "data": {
      "text/plain": [
       "<sqlite3.Cursor at 0x2226c653ab0>"
      ]
     },
     "execution_count": 84,
     "metadata": {},
     "output_type": "execute_result"
    }
   ],
   "source": [
    "c.execute(\"update stud set student_id = 1000 where student_id = 237\")"
   ]
  },
  {
   "cell_type": "code",
   "execution_count": 85,
   "id": "ce956821",
   "metadata": {},
   "outputs": [],
   "source": [
    "data = c.execute(\"select * from stud\")"
   ]
  },
  {
   "cell_type": "code",
   "execution_count": 86,
   "id": "147c2cfe",
   "metadata": {},
   "outputs": [
    {
     "data": {
      "text/plain": [
       "[(234, 'sudhanshu', 'sudhanshu@ineuron.ai', 234),\n",
       " (235, 'sudhanshu', 'sudhanshu@ineuron.ai', 234),\n",
       " (1000, 'sudhanshu', 'sudhanshu@ineuron.ai', 234),\n",
       " (238, 'sudhanshu', 'sudhanshu@ineuron.ai', 234),\n",
       " (239, 'sudhanshu', 'sudhanshu@ineuron.ai', 234),\n",
       " (240, 'sudhanshu', 'sudhanshu@ineuron.ai', 234)]"
      ]
     },
     "execution_count": 86,
     "metadata": {},
     "output_type": "execute_result"
    }
   ],
   "source": [
    "data.fetchall()"
   ]
  },
  {
   "cell_type": "code",
   "execution_count": 87,
   "id": "e4dec4bc",
   "metadata": {},
   "outputs": [
    {
     "data": {
      "text/plain": [
       "<sqlite3.Cursor at 0x2226c653ab0>"
      ]
     },
     "execution_count": 87,
     "metadata": {},
     "output_type": "execute_result"
    }
   ],
   "source": [
    "c.execute(\"update stud set student_id = 500 where student_id = 239\")"
   ]
  },
  {
   "cell_type": "code",
   "execution_count": 88,
   "id": "2ac2efa6",
   "metadata": {},
   "outputs": [],
   "source": [
    "data = c.execute(\"select * from stud\")"
   ]
  },
  {
   "cell_type": "code",
   "execution_count": 89,
   "id": "5d9c64ab",
   "metadata": {},
   "outputs": [
    {
     "data": {
      "text/plain": [
       "[(234, 'sudhanshu', 'sudhanshu@ineuron.ai', 234),\n",
       " (235, 'sudhanshu', 'sudhanshu@ineuron.ai', 234),\n",
       " (1000, 'sudhanshu', 'sudhanshu@ineuron.ai', 234),\n",
       " (238, 'sudhanshu', 'sudhanshu@ineuron.ai', 234),\n",
       " (500, 'sudhanshu', 'sudhanshu@ineuron.ai', 234),\n",
       " (240, 'sudhanshu', 'sudhanshu@ineuron.ai', 234)]"
      ]
     },
     "execution_count": 89,
     "metadata": {},
     "output_type": "execute_result"
    }
   ],
   "source": [
    "data.fetchall()"
   ]
  },
  {
   "cell_type": "code",
   "execution_count": 90,
   "id": "6dee4eb9",
   "metadata": {},
   "outputs": [],
   "source": [
    "db.close()"
   ]
  },
  {
   "cell_type": "code",
   "execution_count": null,
   "id": "16110c12",
   "metadata": {},
   "outputs": [],
   "source": []
  },
  {
   "cell_type": "code",
   "execution_count": 100,
   "id": "4e7b558e",
   "metadata": {},
   "outputs": [
    {
     "ename": "SyntaxError",
     "evalue": "invalid syntax (<ipython-input-100-4171b7ac36cd>, line 1)",
     "output_type": "error",
     "traceback": [
      "\u001b[1;36m  File \u001b[1;32m\"<ipython-input-100-4171b7ac36cd>\"\u001b[1;36m, line \u001b[1;32m1\u001b[0m\n\u001b[1;33m    MAP, REDUCE, FILTER OPERATION\u001b[0m\n\u001b[1;37m                        ^\u001b[0m\n\u001b[1;31mSyntaxError\u001b[0m\u001b[1;31m:\u001b[0m invalid syntax\n"
     ]
    }
   ],
   "source": [
    "MAP, REDUCE, FILTER OPERATION"
   ]
  },
  {
   "cell_type": "code",
   "execution_count": 94,
   "id": "5e450131",
   "metadata": {},
   "outputs": [],
   "source": [
    "l = [1,2,3,4,5,6]"
   ]
  },
  {
   "cell_type": "code",
   "execution_count": 92,
   "id": "3a7ab8da",
   "metadata": {},
   "outputs": [
    {
     "name": "stdout",
     "output_type": "stream",
     "text": [
      "6\n",
      "7\n",
      "8\n",
      "9\n",
      "10\n",
      "11\n"
     ]
    }
   ],
   "source": [
    "for i in l:\n",
    "    print(i+5)"
   ]
  },
  {
   "cell_type": "code",
   "execution_count": 96,
   "id": "d0dbde0c",
   "metadata": {},
   "outputs": [],
   "source": [
    "l1 = []\n",
    "for i in l:\n",
    "    l1.append(i+5)"
   ]
  },
  {
   "cell_type": "code",
   "execution_count": 97,
   "id": "019d8ab7",
   "metadata": {},
   "outputs": [
    {
     "data": {
      "text/plain": [
       "[6, 7, 8, 9, 10, 11]"
      ]
     },
     "execution_count": 97,
     "metadata": {},
     "output_type": "execute_result"
    }
   ],
   "source": [
    "l1"
   ]
  },
  {
   "cell_type": "code",
   "execution_count": 98,
   "id": "6c6dcf2c",
   "metadata": {},
   "outputs": [
    {
     "data": {
      "text/plain": [
       "[6, 7, 8, 9, 10, 11]"
      ]
     },
     "execution_count": 98,
     "metadata": {},
     "output_type": "execute_result"
    }
   ],
   "source": [
    "[i+5 for i in l] # comprehensing operation"
   ]
  },
  {
   "cell_type": "code",
   "execution_count": 99,
   "id": "85463276",
   "metadata": {},
   "outputs": [],
   "source": []
  },
  {
   "cell_type": "code",
   "execution_count": 101,
   "id": "66b9d255",
   "metadata": {},
   "outputs": [],
   "source": [
    "# THERE IS INBUILT FUNCTION INSIDE A PYTHON"
   ]
  },
  {
   "cell_type": "code",
   "execution_count": 108,
   "id": "f2a0d0e2",
   "metadata": {},
   "outputs": [],
   "source": [
    "l = [1,2,3,4,5,6]"
   ]
  },
  {
   "cell_type": "code",
   "execution_count": 109,
   "id": "47ea5ad7",
   "metadata": {},
   "outputs": [],
   "source": [
    "def test(a):\n",
    "    return a+5"
   ]
  },
  {
   "cell_type": "code",
   "execution_count": 110,
   "id": "ad9aa997",
   "metadata": {},
   "outputs": [
    {
     "data": {
      "text/plain": [
       "[6, 7, 8, 9, 10, 11]"
      ]
     },
     "execution_count": 110,
     "metadata": {},
     "output_type": "execute_result"
    }
   ],
   "source": [
    "list(map(test,l))"
   ]
  },
  {
   "cell_type": "code",
   "execution_count": 111,
   "id": "a3f0e6ac",
   "metadata": {},
   "outputs": [],
   "source": [
    "def test1(a):\n",
    "    return a*35151216+5412"
   ]
  },
  {
   "cell_type": "code",
   "execution_count": 112,
   "id": "803f382e",
   "metadata": {},
   "outputs": [
    {
     "data": {
      "text/plain": [
       "[35156628, 70307844, 105459060, 140610276, 175761492, 210912708]"
      ]
     },
     "execution_count": 112,
     "metadata": {},
     "output_type": "execute_result"
    }
   ],
   "source": [
    "list(map(test1, l))"
   ]
  },
  {
   "cell_type": "code",
   "execution_count": 113,
   "id": "2e2136dd",
   "metadata": {},
   "outputs": [],
   "source": [
    "l1 = ['12','13','14','15','16','17','18',19]# try to convert sr data into int formate"
   ]
  },
  {
   "cell_type": "code",
   "execution_count": 114,
   "id": "052de81d",
   "metadata": {},
   "outputs": [],
   "source": [
    "def test2(a):\n",
    "    return int(a) # this is for only one variable "
   ]
  },
  {
   "cell_type": "code",
   "execution_count": 116,
   "id": "65aef22c",
   "metadata": {},
   "outputs": [
    {
     "data": {
      "text/plain": [
       "123654"
      ]
     },
     "execution_count": 116,
     "metadata": {},
     "output_type": "execute_result"
    }
   ],
   "source": [
    "test2('123654') # we want total data int form"
   ]
  },
  {
   "cell_type": "code",
   "execution_count": 118,
   "id": "7cb4be4c",
   "metadata": {},
   "outputs": [
    {
     "data": {
      "text/plain": [
       "[12, 13, 14, 15, 16, 17, 18, 19]"
      ]
     },
     "execution_count": 118,
     "metadata": {},
     "output_type": "execute_result"
    }
   ],
   "source": [
    "list(map(test2,l1))"
   ]
  },
  {
   "cell_type": "code",
   "execution_count": 119,
   "id": "bd89f431",
   "metadata": {},
   "outputs": [],
   "source": [
    "#map always take/consider first orgument as a function and secong object as a iterable object"
   ]
  },
  {
   "cell_type": "code",
   "execution_count": 121,
   "id": "deba55c9",
   "metadata": {},
   "outputs": [
    {
     "data": {
      "text/plain": [
       "[12, 13, 14, 15, 16, 17, 18, 19]"
      ]
     },
     "execution_count": 121,
     "metadata": {},
     "output_type": "execute_result"
    }
   ],
   "source": [
    "list(map(lambda x : int(x), l1))"
   ]
  },
  {
   "cell_type": "code",
   "execution_count": 122,
   "id": "da378d9a",
   "metadata": {},
   "outputs": [
    {
     "data": {
      "text/plain": [
       "[6, 7, 8, 9, 10, 11]"
      ]
     },
     "execution_count": 122,
     "metadata": {},
     "output_type": "execute_result"
    }
   ],
   "source": [
    "list(map(lambda x : x+5 ,l)) # map will be used for all the iterable"
   ]
  },
  {
   "cell_type": "code",
   "execution_count": 124,
   "id": "18fdf59f",
   "metadata": {},
   "outputs": [],
   "source": [
    "# FILTER FUNCTION"
   ]
  },
  {
   "cell_type": "code",
   "execution_count": 131,
   "id": "1f92386c",
   "metadata": {},
   "outputs": [],
   "source": [
    "l = [1,2,3,4,5,6,7,8,9]        # try to extract those int having even no"
   ]
  },
  {
   "cell_type": "code",
   "execution_count": 132,
   "id": "1ae9a23a",
   "metadata": {},
   "outputs": [],
   "source": [
    "def test3(a):\n",
    "    if a%2 == 0:\n",
    "        return a"
   ]
  },
  {
   "cell_type": "code",
   "execution_count": 134,
   "id": "6f6adb3d",
   "metadata": {},
   "outputs": [
    {
     "data": {
      "text/plain": [
       "[2, 4, 6, 8]"
      ]
     },
     "execution_count": 134,
     "metadata": {},
     "output_type": "execute_result"
    }
   ],
   "source": [
    "[i for i in l if i%2 ==0]"
   ]
  },
  {
   "cell_type": "code",
   "execution_count": 136,
   "id": "38593bf4",
   "metadata": {},
   "outputs": [],
   "source": [
    " exact same opration done with the help of inbuilt filter function"
   ]
  },
  {
   "cell_type": "code",
   "execution_count": 140,
   "id": "0610bfa6",
   "metadata": {},
   "outputs": [
    {
     "data": {
      "text/plain": [
       "[2, 4, 6, 8]"
      ]
     },
     "execution_count": 140,
     "metadata": {},
     "output_type": "execute_result"
    }
   ],
   "source": [
    "list(filter(test3 ,l))"
   ]
  },
  {
   "cell_type": "code",
   "execution_count": 142,
   "id": "b51ac14e",
   "metadata": {},
   "outputs": [
    {
     "data": {
      "text/plain": [
       "'map will take every element it will perform operation and take output\\nfilter it will consider all input but take thats output whenever that is true\\n exact same opration done with the help of inbuilt filter function'"
      ]
     },
     "execution_count": 142,
     "metadata": {},
     "output_type": "execute_result"
    }
   ],
   "source": [
    "\"\"\"\"map will take every element it will perform operation and take output\n",
    "filter it will consider all input but take thats output whenever that is true\"\"\""
   ]
  },
  {
   "cell_type": "code",
   "execution_count": 144,
   "id": "d15899e8",
   "metadata": {},
   "outputs": [
    {
     "data": {
      "text/plain": [
       "[2, 4, 6, 8]"
      ]
     },
     "execution_count": 144,
     "metadata": {},
     "output_type": "execute_result"
    }
   ],
   "source": [
    "list(filter(lambda x :x%2==0 , l))"
   ]
  },
  {
   "cell_type": "code",
   "execution_count": 147,
   "id": "d1dd0bf5",
   "metadata": {},
   "outputs": [
    {
     "data": {
      "text/plain": [
       "[1, 2, 3, 4, 5, 6, 7, 8, 9]"
      ]
     },
     "execution_count": 147,
     "metadata": {},
     "output_type": "execute_result"
    }
   ],
   "source": [
    "list(filter(lambda x : x+5 , l)) #not applieng any filter operation"
   ]
  },
  {
   "cell_type": "code",
   "execution_count": 148,
   "id": "9764e9d3",
   "metadata": {},
   "outputs": [
    {
     "data": {
      "text/plain": [
       "[3, 6, 9]"
      ]
     },
     "execution_count": 148,
     "metadata": {},
     "output_type": "execute_result"
    }
   ],
   "source": [
    "list(filter(lambda x :x%3 ==0 , l))"
   ]
  },
  {
   "cell_type": "code",
   "execution_count": 149,
   "id": "f25a353a",
   "metadata": {},
   "outputs": [],
   "source": [
    "#RECUDE FUNCTION --- IT IS NOT INBUILT FUNCTION"
   ]
  },
  {
   "cell_type": "code",
   "execution_count": 150,
   "id": "4d9aacea",
   "metadata": {},
   "outputs": [],
   "source": [
    "from functools import reduce"
   ]
  },
  {
   "cell_type": "code",
   "execution_count": 152,
   "id": "b7f09032",
   "metadata": {},
   "outputs": [],
   "source": [
    "l = [1,2,3,4,5,6,7,8,9]  # try to summetion operation of all the element inside the list data"
   ]
  },
  {
   "cell_type": "code",
   "execution_count": 153,
   "id": "61877cce",
   "metadata": {},
   "outputs": [
    {
     "data": {
      "text/plain": [
       "45"
      ]
     },
     "execution_count": 153,
     "metadata": {},
     "output_type": "execute_result"
    }
   ],
   "source": [
    "sum(l)"
   ]
  },
  {
   "cell_type": "code",
   "execution_count": 155,
   "id": "24031021",
   "metadata": {},
   "outputs": [],
   "source": [
    "def test4(a,b):\n",
    "    return a+b"
   ]
  },
  {
   "cell_type": "code",
   "execution_count": 156,
   "id": "4e55aa04",
   "metadata": {},
   "outputs": [
    {
     "data": {
      "text/plain": [
       "45"
      ]
     },
     "execution_count": 156,
     "metadata": {},
     "output_type": "execute_result"
    }
   ],
   "source": [
    "reduce(test4 , l)"
   ]
  },
  {
   "cell_type": "code",
   "execution_count": 157,
   "id": "8003aa76",
   "metadata": {},
   "outputs": [],
   "source": [
    "def test4(a,b):\n",
    "    return a*b"
   ]
  },
  {
   "cell_type": "code",
   "execution_count": 158,
   "id": "b0117ad6",
   "metadata": {},
   "outputs": [
    {
     "data": {
      "text/plain": [
       "362880"
      ]
     },
     "execution_count": 158,
     "metadata": {},
     "output_type": "execute_result"
    }
   ],
   "source": [
    "reduce(test4 , l)"
   ]
  },
  {
   "cell_type": "code",
   "execution_count": 159,
   "id": "7abb214a",
   "metadata": {},
   "outputs": [],
   "source": [
    "def test4(a,b):\n",
    "    return a/b"
   ]
  },
  {
   "cell_type": "code",
   "execution_count": 160,
   "id": "afc709a3",
   "metadata": {},
   "outputs": [
    {
     "data": {
      "text/plain": [
       "2.7557319223985893e-06"
      ]
     },
     "execution_count": 160,
     "metadata": {},
     "output_type": "execute_result"
    }
   ],
   "source": [
    "reduce(test4 , l)"
   ]
  },
  {
   "cell_type": "code",
   "execution_count": 163,
   "id": "b3f45308",
   "metadata": {},
   "outputs": [],
   "source": [
    "def test4(a,b,c):      # it is not going to work\n",
    "    return a+b+c       # we do not used 3 variables"
   ]
  },
  {
   "cell_type": "code",
   "execution_count": 164,
   "id": "c9b771b4",
   "metadata": {},
   "outputs": [
    {
     "ename": "TypeError",
     "evalue": "test4() missing 1 required positional argument: 'c'",
     "output_type": "error",
     "traceback": [
      "\u001b[1;31m---------------------------------------------------------------------------\u001b[0m",
      "\u001b[1;31mTypeError\u001b[0m                                 Traceback (most recent call last)",
      "\u001b[1;32m<ipython-input-164-372401e96f1f>\u001b[0m in \u001b[0;36m<module>\u001b[1;34m\u001b[0m\n\u001b[1;32m----> 1\u001b[1;33m \u001b[0mreduce\u001b[0m\u001b[1;33m(\u001b[0m\u001b[0mtest4\u001b[0m \u001b[1;33m,\u001b[0m \u001b[0ml\u001b[0m\u001b[1;33m)\u001b[0m\u001b[1;33m\u001b[0m\u001b[1;33m\u001b[0m\u001b[0m\n\u001b[0m",
      "\u001b[1;31mTypeError\u001b[0m: test4() missing 1 required positional argument: 'c'"
     ]
    }
   ],
   "source": [
    "reduce(test4 , l)"
   ]
  },
  {
   "cell_type": "code",
   "execution_count": 165,
   "id": "3cf8827b",
   "metadata": {},
   "outputs": [],
   "source": [
    "# reduce orgument take two orgument at a time not more than two"
   ]
  },
  {
   "cell_type": "code",
   "execution_count": 166,
   "id": "a4c52282",
   "metadata": {},
   "outputs": [],
   "source": [
    "l = [3]"
   ]
  },
  {
   "cell_type": "code",
   "execution_count": 167,
   "id": "3109a20f",
   "metadata": {},
   "outputs": [],
   "source": [
    "def test4(a,b):\n",
    "    return a+b"
   ]
  },
  {
   "cell_type": "code",
   "execution_count": 168,
   "id": "6b43c488",
   "metadata": {},
   "outputs": [
    {
     "data": {
      "text/plain": [
       "3"
      ]
     },
     "execution_count": 168,
     "metadata": {},
     "output_type": "execute_result"
    }
   ],
   "source": [
    "reduce(test4, l) # logically it will consider first variable as a zero variable"
   ]
  },
  {
   "cell_type": "code",
   "execution_count": 169,
   "id": "5d8296fa",
   "metadata": {},
   "outputs": [],
   "source": [
    "l = []"
   ]
  },
  {
   "cell_type": "code",
   "execution_count": 170,
   "id": "dd69f7cb",
   "metadata": {},
   "outputs": [],
   "source": [
    "def test4(a,b):\n",
    "    return a+b"
   ]
  },
  {
   "cell_type": "code",
   "execution_count": 172,
   "id": "933374f5",
   "metadata": {},
   "outputs": [
    {
     "ename": "TypeError",
     "evalue": "reduce() of empty sequence with no initial value",
     "output_type": "error",
     "traceback": [
      "\u001b[1;31m---------------------------------------------------------------------------\u001b[0m",
      "\u001b[1;31mTypeError\u001b[0m                                 Traceback (most recent call last)",
      "\u001b[1;32m<ipython-input-172-142e335e1763>\u001b[0m in \u001b[0;36m<module>\u001b[1;34m\u001b[0m\n\u001b[1;32m----> 1\u001b[1;33m \u001b[0mreduce\u001b[0m\u001b[1;33m(\u001b[0m\u001b[0mtest4\u001b[0m\u001b[1;33m,\u001b[0m \u001b[0ml\u001b[0m\u001b[1;33m)\u001b[0m\u001b[1;33m\u001b[0m\u001b[1;33m\u001b[0m\u001b[0m\n\u001b[0m",
      "\u001b[1;31mTypeError\u001b[0m: reduce() of empty sequence with no initial value"
     ]
    }
   ],
   "source": [
    "reduce(test4, l)"
   ]
  },
  {
   "cell_type": "code",
   "execution_count": 175,
   "id": "2f806e0f",
   "metadata": {},
   "outputs": [],
   "source": [
    "l = [1,2,3,4,5,6]"
   ]
  },
  {
   "cell_type": "code",
   "execution_count": 176,
   "id": "ec1bfab0",
   "metadata": {},
   "outputs": [
    {
     "data": {
      "text/plain": [
       "21"
      ]
     },
     "execution_count": 176,
     "metadata": {},
     "output_type": "execute_result"
    }
   ],
   "source": [
    "reduce(test4, l)"
   ]
  },
  {
   "cell_type": "code",
   "execution_count": 177,
   "id": "d70a3919",
   "metadata": {},
   "outputs": [
    {
     "data": {
      "text/plain": [
       "21"
      ]
     },
     "execution_count": 177,
     "metadata": {},
     "output_type": "execute_result"
    }
   ],
   "source": [
    "reduce(lambda x, y :x+y , l)"
   ]
  },
  {
   "cell_type": "code",
   "execution_count": 178,
   "id": "43c1c332",
   "metadata": {},
   "outputs": [
    {
     "data": {
      "text/plain": [
       "720"
      ]
     },
     "execution_count": 178,
     "metadata": {},
     "output_type": "execute_result"
    }
   ],
   "source": [
    "reduce(lambda x, y :x*y , l)"
   ]
  },
  {
   "cell_type": "code",
   "execution_count": 179,
   "id": "c25bceb2",
   "metadata": {},
   "outputs": [
    {
     "data": {
      "text/plain": [
       "0.001388888888888889"
      ]
     },
     "execution_count": 179,
     "metadata": {},
     "output_type": "execute_result"
    }
   ],
   "source": [
    "reduce(lambda x, y :x/y , l)"
   ]
  },
  {
   "cell_type": "code",
   "execution_count": 180,
   "id": "5071117e",
   "metadata": {},
   "outputs": [],
   "source": [
    "l = [1,2,3,4,5,6,7,8,9]\n",
    "l1 = [9,8,7,6,5,4,3,2,1]"
   ]
  },
  {
   "cell_type": "code",
   "execution_count": 181,
   "id": "77d8755f",
   "metadata": {},
   "outputs": [
    {
     "data": {
      "text/plain": [
       "[(1, 9), (2, 8), (3, 7), (4, 6), (5, 5), (6, 4), (7, 3), (8, 2), (9, 1)]"
      ]
     },
     "execution_count": 181,
     "metadata": {},
     "output_type": "execute_result"
    }
   ],
   "source": [
    "list(zip(l,l1))"
   ]
  },
  {
   "cell_type": "code",
   "execution_count": 182,
   "id": "040d7266",
   "metadata": {},
   "outputs": [],
   "source": [
    "# zip does tuple of pair of element"
   ]
  },
  {
   "cell_type": "code",
   "execution_count": 183,
   "id": "ab227220",
   "metadata": {},
   "outputs": [],
   "source": [
    "l = [1,2,3,4,5,6,7,8,9]"
   ]
  },
  {
   "cell_type": "code",
   "execution_count": 184,
   "id": "4799b1e7",
   "metadata": {},
   "outputs": [
    {
     "data": {
      "text/plain": [
       "[(1,), (2,), (3,), (4,), (5,), (6,), (7,), (8,), (9,)]"
      ]
     },
     "execution_count": 184,
     "metadata": {},
     "output_type": "execute_result"
    }
   ],
   "source": [
    "list(zip(l))"
   ]
  },
  {
   "cell_type": "code",
   "execution_count": 186,
   "id": "8a40d5bc",
   "metadata": {},
   "outputs": [],
   "source": [
    "l = [1,2,3,4,5,6,7,8,9]\n",
    "l1 = [9,8,7,6,5,4,3,2,1]\n",
    "l2 = [\"sudhanshu\",\"kumar\", \"krish\",\"sunny\", \"ineuron\"]"
   ]
  },
  {
   "cell_type": "code",
   "execution_count": 187,
   "id": "ddce4457",
   "metadata": {},
   "outputs": [
    {
     "data": {
      "text/plain": [
       "[(1, 9, 'sudhanshu'),\n",
       " (2, 8, 'kumar'),\n",
       " (3, 7, 'krish'),\n",
       " (4, 6, 'sunny'),\n",
       " (5, 5, 'ineuron')]"
      ]
     },
     "execution_count": 187,
     "metadata": {},
     "output_type": "execute_result"
    }
   ],
   "source": [
    "list(zip(l,l1,l2))"
   ]
  },
  {
   "cell_type": "code",
   "execution_count": null,
   "id": "816d6462",
   "metadata": {},
   "outputs": [],
   "source": [
    "\"\"\"zip operation is imp in case of data preparation operation\"\"\""
   ]
  }
 ],
 "metadata": {
  "kernelspec": {
   "display_name": "Python 3",
   "language": "python",
   "name": "python3"
  },
  "language_info": {
   "codemirror_mode": {
    "name": "ipython",
    "version": 3
   },
   "file_extension": ".py",
   "mimetype": "text/x-python",
   "name": "python",
   "nbconvert_exporter": "python",
   "pygments_lexer": "ipython3",
   "version": "3.8.8"
  }
 },
 "nbformat": 4,
 "nbformat_minor": 5
}
