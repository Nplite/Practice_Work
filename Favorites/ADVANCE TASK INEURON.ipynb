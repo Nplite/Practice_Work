{
 "cells": [
  {
   "cell_type": "code",
   "execution_count": null,
   "id": "197bcaa2",
   "metadata": {},
   "outputs": [],
   "source": [
    "1 . you have to write a fun which will take string and return a len of \n",
    "it without using a inbuilt fun len\n",
    "2 . write a fun which will be able to print an index of all premitive element which you will pass \n",
    "3 . Write a fun which will take input as a dict and give me out as a list of all the values \n",
    "even in case of 2 level nesting it should work . \n",
    "4 . write a fun which will take another function as an input and return me an output \n",
    "5. write a function whihc will take multiple list as a input and give me concatnation of all the element as \n",
    "and output \n",
    "6 . write a function which will be able to take a list as an input return an index of each element \n",
    "like a inbuilt index function but even if we have repetative element it should return index \n",
    "7 . Write a function which will whould return list of all the file name from a directory . \n",
    "8  . write a function which will be able to show your system configuration . \n",
    "9 . write a function which will be able to show date and time  . \n",
    "10 . write a function whihc will be able to read a image file and show it to you .\n",
    "11 . write a function which can read video file and play for you . \n",
    "12  . write a function whihc can move a file from one directory to another directory . \n",
    "13 . write a function which will be able to shutdonw your system . \n",
    "14 . write a function whihc will be able to access your mail . \n",
    "15 . write a func bywhcih i can send a mail to anyone \n",
    "16. write a func to read a complete PDf file . \n",
    "17. write a function to read a word file . \n",
    "18 . write a function which can help you to filter only word file from a directory . \n",
    "19 . write a function by which you can print an ip address of your system . \n",
    "20 . write a function by which you will be able to append two PDF files . "
   ]
  },
  {
   "cell_type": "code",
   "execution_count": 2,
   "id": "93e1cfc2",
   "metadata": {},
   "outputs": [
    {
     "data": {
      "text/plain": [
       "17"
      ]
     },
     "execution_count": 2,
     "metadata": {},
     "output_type": "execute_result"
    }
   ],
   "source": [
    "def fun1(s):\n",
    "    \"\"\"you have to write a fun which will take string and return a len of \n",
    "it without using a inbuilt fun len\"\"\"\n",
    "    if type(s)==str:\n",
    "        count=0\n",
    "        for i in s:\n",
    "            count = count+1\n",
    "        return count\n",
    "fun1(\"My Name is Nmadeo\")"
   ]
  },
  {
   "cell_type": "code",
   "execution_count": 3,
   "id": "cf12841d",
   "metadata": {},
   "outputs": [
    {
     "name": "stdout",
     "output_type": "stream",
     "text": [
      "index of  kumar is 0\n",
      "index of  2 is 1\n",
      "index of  [1, 2, 3] is 2\n",
      "index of  4 is 3\n",
      "index of  sudh is 4\n",
      "index of  (6+6j) is 5\n"
     ]
    }
   ],
   "source": [
    "def fun2(l):\n",
    "    \"\"\" write a fun which will be able to print an index of all premitive element which you will pass \"\"\"\n",
    "    if type(l)==list or type(l)==tuple or type(l)==str:\n",
    "        for i in range(len(l)):\n",
    "            print(f\"index of  {l[i]} is {i}\")\n",
    "fun2([\"kumar\",2,[1,2,3],4,\"sudh\",6+6j])\n",
    "#fun2(\"testing my string\")\n",
    "#fun2((12,\"namdeo\",85,\"patil\",55))\n",
    "    "
   ]
  },
  {
   "cell_type": "code",
   "execution_count": 4,
   "id": "c05747ad",
   "metadata": {},
   "outputs": [
    {
     "data": {
      "text/plain": [
       "[4, 5, 7, 8, 5, 8, 9, 44]"
      ]
     },
     "execution_count": 4,
     "metadata": {},
     "output_type": "execute_result"
    }
   ],
   "source": [
    "def fun3(d1):\n",
    "    \"\"\"Write a fun which will take input as a dict and give me out as a list of all the values even in case of 2 level nesting it should work \"\"\"\n",
    "    l1 =[]\n",
    "    fun3b(d1,l1)\n",
    "    return l1\n",
    "\n",
    "def fun3a(d2):\n",
    "    \"\"\"This function return the values of the given dictionary\"\"\"\n",
    "    return d2.values()\n",
    "\n",
    "def fun3b(d3,l1):\n",
    "    \"\"\"This function unwrap the nested dictionary and return list of values\"\"\"\n",
    "    #print(l1)\n",
    "    \n",
    "    if type(d3)==dict:\n",
    "        a = fun3a(d3)\n",
    "        for i in a:\n",
    "            #print(i)\n",
    "            if type(i)==dict:\n",
    "                b = fun3b(i,l1)\n",
    "            else:\n",
    "                l1.append(i)\n",
    "                    \n",
    "    #print(l1)\n",
    "    return l1\n",
    "    \n",
    "    \n",
    "fun3({\"a\":4,\"b\":5,\"c\":{\"d\":7,\"e\":8,\"f\":{\"g\":5,\"h\":8,\"i\":{\"j\":9,\"k\":44}}}})\n",
    "    "
   ]
  },
  {
   "cell_type": "code",
   "execution_count": null,
   "id": "889db2fe",
   "metadata": {},
   "outputs": [],
   "source": [
    "def fun4a(n):\n",
    "    \n",
    "    \"\"\"This function generates the n range of numbers\"\"\"\n",
    "    return list(range(n))\n",
    "\n",
    "def fun4(fun):\n",
    "    \"\"\"This function take another function as input and gives the list of numbers as output\"\"\"\n",
    "    \n",
    "    if type(fun)== list:\n",
    "        l = []\n",
    "        for i in fun:\n",
    "            l.append(i+2)\n",
    "        return l\n",
    "    \n",
    "fun4(fun4a(5))\n",
    "        "
   ]
  },
  {
   "cell_type": "code",
   "execution_count": 1,
   "id": "b9f7234b",
   "metadata": {},
   "outputs": [
    {
     "data": {
      "text/plain": [
       "[1,\n",
       " 2,\n",
       " 3,\n",
       " 4,\n",
       " 5,\n",
       " 'a',\n",
       " 'b',\n",
       " 'c',\n",
       " 'd',\n",
       " 'e',\n",
       " 11,\n",
       " 12,\n",
       " 13,\n",
       " 14,\n",
       " 15,\n",
       " 'aa',\n",
       " 'bb',\n",
       " 'cc',\n",
       " 'dd',\n",
       " 'ee']"
      ]
     },
     "execution_count": 1,
     "metadata": {},
     "output_type": "execute_result"
    }
   ],
   "source": [
    "def fun5(*args):\n",
    "    \"\"\"This function take n number of input and gives the concatination of all the list element as one list \"\"\"\n",
    "    l = []\n",
    "    for i in args:\n",
    "        if type(i)==list:\n",
    "            l = l+i\n",
    "    return l\n",
    "\n",
    "fun5([1,2,3,4,5],['a','b','c','d','e'],[11,12,13,14,15],[\"aa\",\"bb\",\"cc\",\"dd\",\"ee\"],\"sudh\",\"abcd\")\n",
    "            "
   ]
  },
  {
   "cell_type": "code",
   "execution_count": null,
   "id": "43afa9cc",
   "metadata": {},
   "outputs": [],
   "source": [
    "def fun6(l1):\n",
    "    \"\"\" write a function which will be able to take a list as an input return an index of each element \n",
    "like a inbuilt index function but even if we have repetative element it should return index\"\"\"\n",
    "    \n",
    "    l = []\n",
    "    if type(l1)==list:\n",
    "        for i in range(len(l1)):\n",
    "            l.append(f'index of {l1[i]} is {i}')\n",
    "        return l\n",
    "fun6([1,2,3,4,43,5,5,6])"
   ]
  },
  {
   "cell_type": "code",
   "execution_count": 1,
   "id": "1d3f2ac9",
   "metadata": {},
   "outputs": [
    {
     "data": {
      "text/plain": [
       "['.ipynb_checkpoints',\n",
       " '1.Basic, List, Tuple, Dictionary  ===1.ipynb',\n",
       " '2.If Else, Range, For, While.ipynb',\n",
       " '3. Function, Lambda,Generator.ipynb',\n",
       " '4.Generator, Fibonacci no, Open,Write,Read file.ipynb',\n",
       " '5.Exception Handling, Logging.ipynb',\n",
       " '6.Class.ipynb',\n",
       " 'ADVANCE TASK INEURON.ipynb',\n",
       " 'desktop.ini',\n",
       " 'google.txt',\n",
       " 'Links',\n",
       " 'OneDrive',\n",
       " 'test1',\n",
       " '__pycache__']"
      ]
     },
     "execution_count": 1,
     "metadata": {},
     "output_type": "execute_result"
    }
   ],
   "source": [
    "def fun7(path1):\n",
    "    \"\"\"Write a function which will whould return list of all the file name from a directory \"\"\"\n",
    "    import os\n",
    "    return os.listdir(path1)\n",
    "fun7('C:\\\\Users\\\\Nplite\\\\Favorites')"
   ]
  },
  {
   "cell_type": "code",
   "execution_count": 5,
   "id": "7b1b2900",
   "metadata": {},
   "outputs": [
    {
     "data": {
      "text/plain": [
       "uname_result(system='Windows', node='Nplite', release='10', version='10.0.22000', machine='AMD64', processor='Intel64 Family 6 Model 165 Stepping 3, GenuineIntel')"
      ]
     },
     "execution_count": 5,
     "metadata": {},
     "output_type": "execute_result"
    }
   ],
   "source": [
    "def fun8():\n",
    "    \"\"\"This function will able to show your system confuguration\"\"\"\n",
    "    import platform as pl\n",
    "    return pl.uname()\n",
    "\n",
    "fun8()"
   ]
  },
  {
   "cell_type": "code",
   "execution_count": 6,
   "id": "09ed0fd2",
   "metadata": {},
   "outputs": [
    {
     "data": {
      "text/plain": [
       "'The Date is 2022-7-8 and the Time is20-1-13'"
      ]
     },
     "execution_count": 6,
     "metadata": {},
     "output_type": "execute_result"
    }
   ],
   "source": [
    "def fun9():\n",
    "    \"\"\"This function will able to show date and time\"\"\"\n",
    "    import subprocess as sb\n",
    "    from subprocess import time\n",
    "    a = time.localtime()\n",
    "    Date = str(a[0])+'-'+str(a[1])+'-'+str(a[2])\n",
    "    Time = str(a[3])+'-'+str(a[4])+'-'+str(a[5])\n",
    "    return f\"The Date is {Date} and the Time is{Time}\"\n",
    "fun9()"
   ]
  },
  {
   "cell_type": "code",
   "execution_count": 7,
   "id": "e6c99fe7",
   "metadata": {
    "scrolled": true
   },
   "outputs": [
    {
     "name": "stdout",
     "output_type": "stream",
     "text": [
      "please enter the png file name along with .png extension:jhg\n"
     ]
    },
    {
     "ename": "ImportError",
     "evalue": "cannot import name 'image' from 'PIL' (C:\\Users\\Nplite\\anaconda3\\lib\\site-packages\\PIL\\__init__.py)",
     "output_type": "error",
     "traceback": [
      "\u001b[1;31m---------------------------------------------------------------------------\u001b[0m",
      "\u001b[1;31mImportError\u001b[0m                               Traceback (most recent call last)",
      "\u001b[1;32m<ipython-input-7-8f811479c49a>\u001b[0m in \u001b[0;36m<module>\u001b[1;34m\u001b[0m\n\u001b[0;32m      7\u001b[0m     \u001b[1;32mreturn\u001b[0m \u001b[0mdisplay\u001b[0m\u001b[1;33m(\u001b[0m\u001b[0mimg\u001b[0m\u001b[1;33m)\u001b[0m\u001b[1;33m\u001b[0m\u001b[1;33m\u001b[0m\u001b[0m\n\u001b[0;32m      8\u001b[0m \u001b[0mfile_name\u001b[0m \u001b[1;33m=\u001b[0m\u001b[0minput\u001b[0m\u001b[1;33m(\u001b[0m\u001b[1;34m\"please enter the png file name along with .png extension:\"\u001b[0m\u001b[1;33m)\u001b[0m\u001b[1;33m\u001b[0m\u001b[1;33m\u001b[0m\u001b[0m\n\u001b[1;32m----> 9\u001b[1;33m \u001b[0mfun10\u001b[0m\u001b[1;33m(\u001b[0m\u001b[0mfile_name\u001b[0m\u001b[1;33m)\u001b[0m\u001b[1;33m\u001b[0m\u001b[1;33m\u001b[0m\u001b[0m\n\u001b[0m\u001b[0;32m     10\u001b[0m \u001b[1;31m#myimage.png\u001b[0m\u001b[1;33m\u001b[0m\u001b[1;33m\u001b[0m\u001b[1;33m\u001b[0m\u001b[0m\n",
      "\u001b[1;32m<ipython-input-7-8f811479c49a>\u001b[0m in \u001b[0;36mfun10\u001b[1;34m(filename)\u001b[0m\n\u001b[0;32m      2\u001b[0m     \u001b[1;34m\"\"\"This function will able to read image file and showit to you\"\"\"\u001b[0m\u001b[1;33m\u001b[0m\u001b[1;33m\u001b[0m\u001b[0m\n\u001b[0;32m      3\u001b[0m     \u001b[1;32mimport\u001b[0m \u001b[0mPIL\u001b[0m\u001b[1;33m\u001b[0m\u001b[1;33m\u001b[0m\u001b[0m\n\u001b[1;32m----> 4\u001b[1;33m     \u001b[1;32mfrom\u001b[0m \u001b[0mPIL\u001b[0m \u001b[1;32mimport\u001b[0m \u001b[0mimage\u001b[0m\u001b[1;33m\u001b[0m\u001b[1;33m\u001b[0m\u001b[0m\n\u001b[0m\u001b[0;32m      5\u001b[0m     \u001b[0mimg\u001b[0m \u001b[1;33m=\u001b[0m \u001b[0mimage\u001b[0m\u001b[1;33m.\u001b[0m\u001b[0mopen\u001b[0m\u001b[1;33m(\u001b[0m\u001b[0mfilename\u001b[0m\u001b[1;33m,\u001b[0m\u001b[1;34m\"r\"\u001b[0m\u001b[1;33m)\u001b[0m\u001b[1;33m\u001b[0m\u001b[1;33m\u001b[0m\u001b[0m\n\u001b[0;32m      6\u001b[0m     \u001b[0mimg\u001b[0m\u001b[1;33m.\u001b[0m\u001b[0mclose\u001b[0m\u001b[1;33m(\u001b[0m\u001b[1;33m)\u001b[0m\u001b[1;33m\u001b[0m\u001b[1;33m\u001b[0m\u001b[0m\n",
      "\u001b[1;31mImportError\u001b[0m: cannot import name 'image' from 'PIL' (C:\\Users\\Nplite\\anaconda3\\lib\\site-packages\\PIL\\__init__.py)"
     ]
    }
   ],
   "source": [
    "def fun10(filename):\n",
    "    \"\"\"This function will able to read image file and showit to you\"\"\"\n",
    "    import PIL\n",
    "    from PIL import image\n",
    "    img = image.open(filename,\"r\")\n",
    "    img.close()\n",
    "    return display(img)\n",
    "file_name =input(\"please enter the png file name along with .png extension:\")\n",
    "fun10(file_name)\n",
    "#myimage.png"
   ]
  },
  {
   "cell_type": "code",
   "execution_count": null,
   "id": "797d42b4",
   "metadata": {},
   "outputs": [],
   "source": []
  },
  {
   "cell_type": "code",
   "execution_count": 1,
   "id": "b13d7f5e",
   "metadata": {},
   "outputs": [
    {
     "name": "stdout",
     "output_type": "stream",
     "text": [
      "please enter the source dictionary pathc:\\\\users\\\\Nplite\\\\Jedi\\\\Namdeo\n",
      "please enter the destination directory pathc:\\\\users\\\\Nplite\\\\Searches\n"
     ]
    }
   ],
   "source": [
    "def fun12(srch_path,dst_path):\n",
    "    \"\"\"This function will move file from one dictionary to another dictionary\"\"\"\n",
    "    import shutil\n",
    "    shutil.move(srch_path,dst_path)\n",
    "    \n",
    "srch_path = input(\"please enter the source dictionary path\")\n",
    "dst_path = input(\"please enter the destination directory path\")\n",
    "\n",
    "fun12(srch_path,dst_path)\n",
    "#c:\\\\users\\\\Nplite\\\\Jedi\\\\Namdev        ###always remember every time it will appear the new folder so make sure that folder is available insed such directory\n",
    "#c:\\\\users\\\\Nplite\\\\Searches            ### it will aslo applicable for every file"
   ]
  },
  {
   "cell_type": "code",
   "execution_count": null,
   "id": "292432ad",
   "metadata": {},
   "outputs": [],
   "source": [
    "#def fun13():\n",
    "    \"\"\"\n",
    "    THis system will shutdown your system\n",
    "    \"\"\"\n",
    "    import os\n",
    "    os.system(\"shutdown /s /t 1\")   #1 sec required for shutdown(timedelay)\n",
    "     \n",
    "fun13()\n"
   ]
  },
  {
   "cell_type": "code",
   "execution_count": 3,
   "id": "8983f931",
   "metadata": {},
   "outputs": [
    {
     "name": "stdout",
     "output_type": "stream",
     "text": [
      "please enter the pdf file nameSatish Lase Rsm\n"
     ]
    },
    {
     "ename": "ModuleNotFoundError",
     "evalue": "No module named 'PyPDF2'",
     "output_type": "error",
     "traceback": [
      "\u001b[1;31m---------------------------------------------------------------------------\u001b[0m",
      "\u001b[1;31mModuleNotFoundError\u001b[0m                       Traceback (most recent call last)",
      "\u001b[1;32m<ipython-input-3-1aa225ed8403>\u001b[0m in \u001b[0;36m<module>\u001b[1;34m\u001b[0m\n\u001b[0;32m     12\u001b[0m \u001b[0mfilename\u001b[0m \u001b[1;33m=\u001b[0m \u001b[0minput\u001b[0m\u001b[1;33m(\u001b[0m\u001b[1;34m\"please enter the pdf file name\"\u001b[0m\u001b[1;33m)\u001b[0m\u001b[1;33m\u001b[0m\u001b[1;33m\u001b[0m\u001b[0m\n\u001b[0;32m     13\u001b[0m \u001b[1;33m\u001b[0m\u001b[0m\n\u001b[1;32m---> 14\u001b[1;33m \u001b[0mfun16\u001b[0m\u001b[1;33m(\u001b[0m\u001b[0mfilename\u001b[0m\u001b[1;33m)\u001b[0m\u001b[1;33m\u001b[0m\u001b[1;33m\u001b[0m\u001b[0m\n\u001b[0m\u001b[0;32m     15\u001b[0m \u001b[1;31m#Satish Lase Rsm\u001b[0m\u001b[1;33m\u001b[0m\u001b[1;33m\u001b[0m\u001b[1;33m\u001b[0m\u001b[0m\n",
      "\u001b[1;32m<ipython-input-3-1aa225ed8403>\u001b[0m in \u001b[0;36mfun16\u001b[1;34m(filename)\u001b[0m\n\u001b[0;32m      1\u001b[0m \u001b[1;32mdef\u001b[0m \u001b[0mfun16\u001b[0m\u001b[1;33m(\u001b[0m\u001b[0mfilename\u001b[0m\u001b[1;33m)\u001b[0m\u001b[1;33m:\u001b[0m\u001b[1;33m\u001b[0m\u001b[1;33m\u001b[0m\u001b[0m\n\u001b[0;32m      2\u001b[0m     \u001b[1;34m\"\"\"This function will read a complete pdf file\"\"\"\u001b[0m\u001b[1;33m\u001b[0m\u001b[1;33m\u001b[0m\u001b[0m\n\u001b[1;32m----> 3\u001b[1;33m     \u001b[1;32mimport\u001b[0m \u001b[0mPyPDF2\u001b[0m \u001b[1;32mas\u001b[0m \u001b[0mpdf\u001b[0m\u001b[1;33m\u001b[0m\u001b[1;33m\u001b[0m\u001b[0m\n\u001b[0m\u001b[0;32m      4\u001b[0m \u001b[1;33m\u001b[0m\u001b[0m\n\u001b[0;32m      5\u001b[0m     \u001b[0mf\u001b[0m \u001b[1;33m=\u001b[0m \u001b[0mopen\u001b[0m\u001b[1;33m(\u001b[0m\u001b[0mfilename\u001b[0m\u001b[1;33m+\u001b[0m\u001b[1;34m'.pdf'\u001b[0m\u001b[1;33m,\u001b[0m\u001b[1;34m\"rb\"\u001b[0m\u001b[1;33m)\u001b[0m \u001b[1;31m#\"rb\"== read file in binary mode\u001b[0m\u001b[1;33m\u001b[0m\u001b[1;33m\u001b[0m\u001b[0m\n",
      "\u001b[1;31mModuleNotFoundError\u001b[0m: No module named 'PyPDF2'"
     ]
    }
   ],
   "source": [
    "def fun16(filename):\n",
    "    \"\"\"This function will read a complete pdf file\"\"\"\n",
    "    \n",
    "    import PyPDF2 as pdf\n",
    "    \n",
    "    f = open(filename+'.pdf',\"rb\") #\"rb\"== read file in binary mode\n",
    "    print(f)\n",
    "    f_read = pdf.PdfFileReader(f)\n",
    "    f_page = f_read.getPage(0)\n",
    "    print(f_page.extractText())\n",
    "    f.close()\n",
    "    \n",
    "filename = input(\"please enter the pdf file name\")\n",
    "\n",
    "fun16(filename)\n",
    "#Satish Lase Rsm"
   ]
  },
  {
   "cell_type": "code",
   "execution_count": 5,
   "id": "d512c9ab",
   "metadata": {},
   "outputs": [
    {
     "ename": "UnboundLocalError",
     "evalue": "local variable 'filename' referenced before assignment",
     "output_type": "error",
     "traceback": [
      "\u001b[1;31m---------------------------------------------------------------------------\u001b[0m",
      "\u001b[1;31mUnboundLocalError\u001b[0m                         Traceback (most recent call last)",
      "\u001b[1;32m<ipython-input-5-f1fa24831ae0>\u001b[0m in \u001b[0;36m<module>\u001b[1;34m\u001b[0m\n\u001b[0;32m      7\u001b[0m     \u001b[0mfilename\u001b[0m \u001b[1;33m=\u001b[0m \u001b[0minput\u001b[0m\u001b[1;33m(\u001b[0m\u001b[1;34m\"please enter the word file name without extension:\"\u001b[0m\u001b[1;33m)\u001b[0m\u001b[1;33m\u001b[0m\u001b[1;33m\u001b[0m\u001b[0m\n\u001b[0;32m      8\u001b[0m \u001b[1;33m\u001b[0m\u001b[0m\n\u001b[1;32m----> 9\u001b[1;33m \u001b[0mfun17\u001b[0m\u001b[1;33m(\u001b[0m\u001b[0mfilename\u001b[0m\u001b[1;33m)\u001b[0m\u001b[1;33m\u001b[0m\u001b[1;33m\u001b[0m\u001b[0m\n\u001b[0m\u001b[0;32m     10\u001b[0m \u001b[1;31m#mywordfile\u001b[0m\u001b[1;33m\u001b[0m\u001b[1;33m\u001b[0m\u001b[1;33m\u001b[0m\u001b[0m\n",
      "\u001b[1;32m<ipython-input-5-f1fa24831ae0>\u001b[0m in \u001b[0;36mfun17\u001b[1;34m(filemane)\u001b[0m\n\u001b[0;32m      2\u001b[0m     \u001b[1;34m\"\"\"This function will read a complet word file\"\"\"\u001b[0m\u001b[1;33m\u001b[0m\u001b[1;33m\u001b[0m\u001b[0m\n\u001b[0;32m      3\u001b[0m \u001b[1;33m\u001b[0m\u001b[0m\n\u001b[1;32m----> 4\u001b[1;33m     \u001b[0mf\u001b[0m \u001b[1;33m=\u001b[0m \u001b[0mopen\u001b[0m\u001b[1;33m(\u001b[0m\u001b[0mfilename\u001b[0m\u001b[1;33m+\u001b[0m\u001b[1;34m'.doc'\u001b[0m\u001b[1;33m,\u001b[0m \u001b[1;34m'r'\u001b[0m\u001b[1;33m)\u001b[0m\u001b[1;33m\u001b[0m\u001b[1;33m\u001b[0m\u001b[0m\n\u001b[0m\u001b[0;32m      5\u001b[0m     \u001b[0mprint\u001b[0m\u001b[1;33m(\u001b[0m\u001b[0mf\u001b[0m\u001b[1;33m.\u001b[0m\u001b[0mread\u001b[0m\u001b[1;33m(\u001b[0m\u001b[1;33m)\u001b[0m\u001b[1;33m)\u001b[0m\u001b[1;33m\u001b[0m\u001b[1;33m\u001b[0m\u001b[0m\n\u001b[0;32m      6\u001b[0m \u001b[1;33m\u001b[0m\u001b[0m\n",
      "\u001b[1;31mUnboundLocalError\u001b[0m: local variable 'filename' referenced before assignment"
     ]
    }
   ],
   "source": [
    "def fun17(filemane):\n",
    "    \"\"\"This function will read a complet word file\"\"\"\n",
    "    \n",
    "    f = open(filename+'.doc', 'r')\n",
    "    print(f.read())\n",
    "\n",
    "    filename = input(\"please enter the word file name without extension:\")\n",
    "    \n",
    "fun17(filename)\n",
    "#mywordfile"
   ]
  },
  {
   "cell_type": "code",
   "execution_count": 6,
   "id": "1f797cff",
   "metadata": {},
   "outputs": [
    {
     "ename": "AttributeError",
     "evalue": "module 'socket' has no attribute 'gethstname'",
     "output_type": "error",
     "traceback": [
      "\u001b[1;31m---------------------------------------------------------------------------\u001b[0m",
      "\u001b[1;31mAttributeError\u001b[0m                            Traceback (most recent call last)",
      "\u001b[1;32m<ipython-input-6-124450f0e29a>\u001b[0m in \u001b[0;36m<module>\u001b[1;34m\u001b[0m\n\u001b[0;32m      7\u001b[0m     \u001b[0mprint\u001b[0m\u001b[1;33m(\u001b[0m\u001b[1;34mf\"system name is{name} and IP address is {IP_address}\"\u001b[0m\u001b[1;33m)\u001b[0m\u001b[1;33m\u001b[0m\u001b[1;33m\u001b[0m\u001b[0m\n\u001b[0;32m      8\u001b[0m \u001b[1;33m\u001b[0m\u001b[0m\n\u001b[1;32m----> 9\u001b[1;33m \u001b[0mfun19\u001b[0m\u001b[1;33m(\u001b[0m\u001b[1;33m)\u001b[0m\u001b[1;33m\u001b[0m\u001b[1;33m\u001b[0m\u001b[0m\n\u001b[0m",
      "\u001b[1;32m<ipython-input-6-124450f0e29a>\u001b[0m in \u001b[0;36mfun19\u001b[1;34m()\u001b[0m\n\u001b[0;32m      3\u001b[0m \u001b[1;33m\u001b[0m\u001b[0m\n\u001b[0;32m      4\u001b[0m     \u001b[1;32mimport\u001b[0m \u001b[0msocket\u001b[0m\u001b[1;33m\u001b[0m\u001b[1;33m\u001b[0m\u001b[0m\n\u001b[1;32m----> 5\u001b[1;33m     \u001b[0mname\u001b[0m \u001b[1;33m=\u001b[0m \u001b[0msocket\u001b[0m\u001b[1;33m.\u001b[0m\u001b[0mgethstname\u001b[0m\u001b[1;33m(\u001b[0m\u001b[1;33m)\u001b[0m\u001b[1;33m\u001b[0m\u001b[1;33m\u001b[0m\u001b[0m\n\u001b[0m\u001b[0;32m      6\u001b[0m     \u001b[0mIP_address\u001b[0m\u001b[1;33m=\u001b[0m\u001b[0msocket\u001b[0m\u001b[1;33m.\u001b[0m\u001b[0mgethstbyname\u001b[0m\u001b[1;33m(\u001b[0m\u001b[0mname\u001b[0m\u001b[1;33m)\u001b[0m\u001b[1;33m\u001b[0m\u001b[1;33m\u001b[0m\u001b[0m\n\u001b[0;32m      7\u001b[0m     \u001b[0mprint\u001b[0m\u001b[1;33m(\u001b[0m\u001b[1;34mf\"system name is{name} and IP address is {IP_address}\"\u001b[0m\u001b[1;33m)\u001b[0m\u001b[1;33m\u001b[0m\u001b[1;33m\u001b[0m\u001b[0m\n",
      "\u001b[1;31mAttributeError\u001b[0m: module 'socket' has no attribute 'gethstname'"
     ]
    }
   ],
   "source": [
    "def fun19():\n",
    "    \"\"\"This function will print the IP address of your system\"\"\"\n",
    "    \n",
    "    import socket\n",
    "    name = socket.gethstname()\n",
    "    IP_address=socket.gethstbyname(name)\n",
    "    print(f\"system name is{name} and IP address is {IP_address}\")\n",
    "    \n",
    "fun19()"
   ]
  },
  {
   "cell_type": "code",
   "execution_count": null,
   "id": "e2cce108",
   "metadata": {},
   "outputs": [],
   "source": []
  }
 ],
 "metadata": {
  "kernelspec": {
   "display_name": "Python 3",
   "language": "python",
   "name": "python3"
  },
  "language_info": {
   "codemirror_mode": {
    "name": "ipython",
    "version": 3
   },
   "file_extension": ".py",
   "mimetype": "text/x-python",
   "name": "python",
   "nbconvert_exporter": "python",
   "pygments_lexer": "ipython3",
   "version": "3.8.8"
  }
 },
 "nbformat": 4,
 "nbformat_minor": 5
}
