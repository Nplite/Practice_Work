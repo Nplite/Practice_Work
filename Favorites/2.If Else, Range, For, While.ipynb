{
 "cells": [
  {
   "cell_type": "code",
   "execution_count": null,
   "id": "a5d132e1",
   "metadata": {},
   "outputs": [],
   "source": [
    "a = 10"
   ]
  },
  {
   "cell_type": "code",
   "execution_count": null,
   "id": "c363698d",
   "metadata": {},
   "outputs": [],
   "source": [
    "type(a)"
   ]
  },
  {
   "cell_type": "code",
   "execution_count": null,
   "id": "510308a8",
   "metadata": {},
   "outputs": [],
   "source": [
    "if a < 15:\n",
    "    print(\"ok\")"
   ]
  },
  {
   "cell_type": "code",
   "execution_count": null,
   "id": "a01f934e",
   "metadata": {},
   "outputs": [],
   "source": [
    "a < 15"
   ]
  },
  {
   "cell_type": "code",
   "execution_count": null,
   "id": "f129db20",
   "metadata": {},
   "outputs": [],
   "source": [
    "if a < 15:\n",
    "    print(\"this statement is true\")"
   ]
  },
  {
   "cell_type": "code",
   "execution_count": null,
   "id": "98141d4d",
   "metadata": {},
   "outputs": [],
   "source": [
    "if a < 15:\n",
    "    pass"
   ]
  },
  {
   "cell_type": "code",
   "execution_count": null,
   "id": "0d946868",
   "metadata": {},
   "outputs": [],
   "source": [
    "if a < 20:\n",
    "    print('my name is sudh')"
   ]
  },
  {
   "cell_type": "code",
   "execution_count": null,
   "id": "8dd005d9",
   "metadata": {},
   "outputs": [],
   "source": [
    "if 21 < 15:\n",
    "    print(\"my name is sudh\")"
   ]
  },
  {
   "cell_type": "code",
   "execution_count": null,
   "id": "46df99c1",
   "metadata": {},
   "outputs": [],
   "source": [
    "24 < 15"
   ]
  },
  {
   "cell_type": "code",
   "execution_count": null,
   "id": "2bee56af",
   "metadata": {},
   "outputs": [],
   "source": [
    "if 10< 3:\n",
    "    print(\"10 is lesser than 3\")"
   ]
  },
  {
   "cell_type": "code",
   "execution_count": null,
   "id": "952af46c",
   "metadata": {},
   "outputs": [],
   "source": [
    "if 10 < 3:\n",
    "    print(\"10 is lesser than 3\")\n",
    "else:\n",
    "    print(\"this is wrong statement\")"
   ]
  },
  {
   "cell_type": "code",
   "execution_count": null,
   "id": "aa1ce397",
   "metadata": {},
   "outputs": [],
   "source": [
    "if 5 < 30:\n",
    "    print(\"my name is sudh\")\n",
    "else:\n",
    "    print(\"this is wrong statement\")"
   ]
  },
  {
   "cell_type": "code",
   "execution_count": null,
   "id": "1d5b545c",
   "metadata": {},
   "outputs": [],
   "source": [
    "if 10 < 5:\n",
    "    print(\"this is correct statement\")              #Always maintain the proper indentation\n",
    "else:\n",
    "print('this is wrong statemeent')"
   ]
  },
  {
   "cell_type": "code",
   "execution_count": null,
   "id": "d003dd2f",
   "metadata": {},
   "outputs": [],
   "source": [
    "income = 100\n",
    "if income < 50:\n",
    "    print(\"i will able to buy a phone\")\n",
    "elif income < 70:\n",
    "    print(\"i will able to buy a car\")\n",
    "elif income < 90:\n",
    "    print(\"i will able to buy a house\")\n",
    "else :\n",
    "    print(\"i wont be buy anything\")"
   ]
  },
  {
   "cell_type": "code",
   "execution_count": null,
   "id": "328c8dd6",
   "metadata": {},
   "outputs": [],
   "source": [
    "income = int(input())\n",
    "if income < 10:\n",
    "    print(\"do it\")\n",
    "elif income < 20:\n",
    "    print(\"yes you can\")\n",
    "elif income < 50:\n",
    "    print(\"go ahead\")\n",
    "else:\n",
    "    print(\"give up\")"
   ]
  },
  {
   "cell_type": "code",
   "execution_count": null,
   "id": "4042d9d6",
   "metadata": {},
   "outputs": [],
   "source": [
    "income = int(input())\n",
    "if income < 10:\n",
    "    print(\"do it\")\n",
    "elif income < 20:\n",
    "    print(\"yes you can\")\n",
    "elif income < 50:\n",
    "    print(\"go ahead\")\n",
    "else:\n",
    "    print(\"give up\")"
   ]
  },
  {
   "cell_type": "code",
   "execution_count": null,
   "id": "f04f4412",
   "metadata": {},
   "outputs": [],
   "source": [
    "income = int(input())\n",
    "if income < 10:\n",
    "    print(\"do it\")\n",
    "elif income < 20:\n",
    "    print(\"yes you can\")\n",
    "elif income < 50:\n",
    "    print(\"go ahead\")\n",
    "else:\n",
    "    print(\"give up\")"
   ]
  },
  {
   "cell_type": "code",
   "execution_count": null,
   "id": "c601792e",
   "metadata": {},
   "outputs": [],
   "source": [
    "income = int(input())\n",
    "if income < 10:\n",
    "    print(\"do it\")\n",
    "elif income < 20:\n",
    "    print(\"yes you can\")\n",
    "elif income < 50:\n",
    "    print(\"go ahead\")\n",
    "else:\n",
    "    print(\"give up\")"
   ]
  },
  {
   "cell_type": "code",
   "execution_count": null,
   "id": "9573d249",
   "metadata": {},
   "outputs": [],
   "source": [
    "income = int(input())\n",
    "if income < 10:\n",
    "    print(\"do it\")\n",
    "elif income < 20:\n",
    "    print(\"yes you can\")\n",
    "elif income < 50:\n",
    "    print(\"go ahead\")\n",
    "else:\n",
    "    print(\"give up\")"
   ]
  },
  {
   "cell_type": "code",
   "execution_count": null,
   "id": "326a8acf",
   "metadata": {},
   "outputs": [],
   "source": [
    "income = int(input())\n",
    "if income < 50:\n",
    "    print(\"i will able to buy a phone\")\n",
    "elif income < 70:\n",
    "    print(\"i will able to buy a car\")\n",
    "elif income < 90:\n",
    "    print(\"i will able to buy a house\")\n",
    "else :\n",
    "    print(\"i wont be buy anything\")"
   ]
  },
  {
   "cell_type": "code",
   "execution_count": null,
   "id": "b96c7a3a",
   "metadata": {},
   "outputs": [],
   "source": [
    "income = int(input())\n",
    "if income < 50:\n",
    "    print(\"i will able to buy a phone\")\n",
    "elif income < 70:\n",
    "    print(\"i will able to buy a car\")\n",
    "elif income < 90:\n",
    "    print(\"i will able to buy a house\")\n",
    "else :\n",
    "    print(\"i wont be buy anything\")"
   ]
  },
  {
   "cell_type": "code",
   "execution_count": null,
   "id": "55a849e1",
   "metadata": {},
   "outputs": [],
   "source": [
    "income = int(input())\n",
    "if income < 50:\n",
    "    print(\"i will able to buy a phone\")\n",
    "elif income < 70:\n",
    "    print(\"i will able to buy a car\")\n",
    "elif income < 90:\n",
    "    print(\"i will able to buy a house\")\n",
    "else :\n",
    "    print(\"i wont be buy anything\")"
   ]
  },
  {
   "cell_type": "code",
   "execution_count": null,
   "id": "bd13020a",
   "metadata": {},
   "outputs": [],
   "source": [
    "income = int(input())\n",
    "if income < 50:\n",
    "    print(\"i will able to buy a phone\")\n",
    "elif income < 70:\n",
    "    print(\"i will able to buy a car\")\n",
    "elif income < 90:\n",
    "    print(\"i will able to buy a house\")\n",
    "else :\n",
    "    print(\"i wont be buy anything\")"
   ]
  },
  {
   "cell_type": "code",
   "execution_count": null,
   "id": "229fdf55",
   "metadata": {},
   "outputs": [],
   "source": [
    "income = int(input())\n",
    "if income < 50:\n",
    "    print(\"i will able to buy a phone\")\n",
    "elif income < 70:\n",
    "    print(\"i will able to buy a car\")\n",
    "elif income < 90:\n",
    "    print(\"i will able to buy a house\")\n",
    "else :\n",
    "    print(\"i wont be buy anything\")"
   ]
  },
  {
   "cell_type": "code",
   "execution_count": null,
   "id": "76308df4",
   "metadata": {},
   "outputs": [],
   "source": [
    "income = int(input())\n",
    "if income < 50:\n",
    "    print(\"i will able to buy a phone\")\n",
    "elif income < 70:\n",
    "    print(\"i will able to buy a car\")\n",
    "elif income < 90:\n",
    "    print(\"i will able to buy a house\")\n",
    "else :\n",
    "    print(\"i wont be buy anything\")"
   ]
  },
  {
   "cell_type": "code",
   "execution_count": null,
   "id": "f0dc3598",
   "metadata": {},
   "outputs": [],
   "source": [
    "total_price = int(input())\n",
    "if total_price > 50000:\n",
    "    discount = total_price*.20\n",
    "    print(\"discount will be\" , discount)\n",
    "elif total_price > 20000:\n",
    "    discount = total_price*.05\n",
    "    print(\"discount will be\" , discount)\n",
    "else:\n",
    "    print(\"you would not able to get any discount\")"
   ]
  },
  {
   "cell_type": "code",
   "execution_count": null,
   "id": "3bb69e2b",
   "metadata": {},
   "outputs": [],
   "source": [
    "total_price = int(input())\n",
    "if total_price > 50000:\n",
    "    discount = total_price*.20\n",
    "    print(\"discount will be\" , discount)\n",
    "elif total_price > 20000:\n",
    "    discount = total_price*.05\n",
    "    print(\"discount will be\" , discount)\n",
    "else:\n",
    "    print(\"you would not able to get any discount\")"
   ]
  },
  {
   "cell_type": "code",
   "execution_count": null,
   "id": "b68f4e07",
   "metadata": {},
   "outputs": [],
   "source": [
    "total_price = int(input())\n",
    "if total_price >= 50000:\n",
    "    discount = total_price*.20\n",
    "    print(\"discount will be\" , discount)\n",
    "elif total_price >= 20000:\n",
    "    discount = total_price*.05\n",
    "    print(\"discount will be\" , discount)\n",
    "else:\n",
    "    print(\"you would not able to get any discount\")\n",
    "    "
   ]
  },
  {
   "cell_type": "code",
   "execution_count": null,
   "id": "9e45944d",
   "metadata": {},
   "outputs": [],
   "source": [
    "total_price = int(input())\n",
    "if total_price >= 50000:\n",
    "    discount = total_price*.20\n",
    "    print(\"discount will be\" , discount)\n",
    "elif total_price >= 20000:\n",
    "    discount = total_price*.05\n",
    "    print(\"discount will be\" , discount)\n",
    "else:\n",
    "    print(\"you would not able to get any discount\")\n",
    "    "
   ]
  },
  {
   "cell_type": "code",
   "execution_count": null,
   "id": "6713ee3b",
   "metadata": {},
   "outputs": [],
   "source": [
    "total_price = float(input())\n",
    "if total_price >= 50000:\n",
    "    discount = total_price*.20\n",
    "    print(\"discount will be\" , discount)\n",
    "elif total_price >= 20000:\n",
    "    discount = total_price*.05\n",
    "    print(\"discount will be\" , discount)\n",
    "else:\n",
    "    print(\"you would not able to get any discount\")\n",
    "    "
   ]
  },
  {
   "cell_type": "code",
   "execution_count": null,
   "id": "1c0103f2",
   "metadata": {},
   "outputs": [],
   "source": [
    "total_price = int(input())\n",
    "if total_price < 50000:\n",
    "    discount = total_price*.20\n",
    "    print(\"discount will be\" , discount)\n",
    "elif total_price < 20000:\n",
    "    discount = total_price*.05\n",
    "    print(\"discount will be\" , discount)\n",
    "else:\n",
    "    print(\"you would not able to get any discount\")"
   ]
  },
  {
   "cell_type": "code",
   "execution_count": null,
   "id": "05fda1c1",
   "metadata": {},
   "outputs": [],
   "source": [
    "total_price = int(input())\n",
    "if total_price < 50000:             #inside this program it will always consider as a 20% discount for any amount\n",
    "    discount = total_price*.20\n",
    "    print(\"discount will be\" , discount)\n",
    "elif total_price < 20000:\n",
    "    discount = total_price*.05\n",
    "    print(\"discount will be\" , discount)\n",
    "else:\n",
    "    print(\"you would not able to get any discount\")"
   ]
  },
  {
   "cell_type": "code",
   "execution_count": null,
   "id": "37395fa9",
   "metadata": {},
   "outputs": [],
   "source": [
    "total_price = int(input())\n",
    "if total_price > 20000:\n",
    "    discount = total_price*.20\n",
    "    print(\"discount will be\" , discount)\n",
    "elif total_price < 20000:\n",
    "    discount = total_price*.05\n",
    "    print(\"discount will be\" , discount)\n",
    "else:\n",
    "    print(\"you would not able to get any discount\")"
   ]
  },
  {
   "cell_type": "code",
   "execution_count": null,
   "id": "0530858a",
   "metadata": {},
   "outputs": [],
   "source": [
    "total_price = int(input())\n",
    "if total_price > 20000:\n",
    "    discount = total_price*.50\n",
    "    print(\"discount will be\", discount)\n",
    "elif total_price > 7000:\n",
    "    discount = total_price*.10\n",
    "    print(\"discount will be\", discount)"
   ]
  },
  {
   "cell_type": "code",
   "execution_count": null,
   "id": "314ba1c5",
   "metadata": {},
   "outputs": [],
   "source": [
    "total_price = int(input())\n",
    "if total_price > 20000:\n",
    "    discount = total_price*.50\n",
    "    print(\"discount will be\", discount)\n",
    "elif total_price > 7000:\n",
    "    discount = total_price*.10\n",
    "    print(\"discount will be\", discount)"
   ]
  },
  {
   "cell_type": "code",
   "execution_count": null,
   "id": "e896c330",
   "metadata": {},
   "outputs": [],
   "source": [
    "total_price = int(input())\n",
    "if total_price > 20000:\n",
    "    discount = total_price*.50\n",
    "    print(\"discount will be\", discount)\n",
    "elif total_price > 7000:\n",
    "    discount = total_price*.10\n",
    "    print(\"discount will be\", discount)"
   ]
  },
  {
   "cell_type": "code",
   "execution_count": null,
   "id": "e4b980b7",
   "metadata": {},
   "outputs": [],
   "source": [
    "total_price = int(input())\n",
    "if total_price > 20000:\n",
    "    discount = total_price*.50\n",
    "    print(\"discount will be\", discount)\n",
    "elif total_price > 7000:\n",
    "    discount = total_price*.10\n",
    "    print(\"no discount\")"
   ]
  },
  {
   "cell_type": "code",
   "execution_count": null,
   "id": "c69e79c4",
   "metadata": {},
   "outputs": [],
   "source": [
    "total_price = int(input())\n",
    "if total_price > 20000:\n",
    "    discount = total_price*.50\n",
    "    print(\"discount will be\", discount)\n",
    "elif total_price > 7000:\n",
    "    discount = total_price*.10\n",
    "    print(\"no discount\")"
   ]
  },
  {
   "cell_type": "code",
   "execution_count": 1,
   "id": "4d427c3b",
   "metadata": {},
   "outputs": [
    {
     "name": "stdout",
     "output_type": "stream",
     "text": [
      "Input coursework1 name english\n",
      "input score_theory1 45\n",
      "input score_practical1 62\n",
      "Input coursework2 name science\n",
      "input score_theory2 78\n",
      "input score_practical2 98\n",
      "Sum of theory and practical in english  107\n",
      "Invalid input\n"
     ]
    }
   ],
   "source": [
    "coursework1 = input(\"Input coursework1 name \")\n",
    "score_theory1 = int(input(\"input score_theory1 \"))\n",
    "score_practical1 = int(input(\"input score_practical1 \"))\n",
    "coursework2 = input(\"Input coursework2 name \")\n",
    "score_theory2 = int(input(\"input score_theory2 \"))\n",
    "score_practical2 = int(input(\"input score_practical2 \"))\n",
    "if(coursework1 == \"English\" or coursework1 == \"english\"):\n",
    "    if(score_theory1 >70):\n",
    "        print(\"Invalid input\")\n",
    "    elif(score_practical1>70):\n",
    "        print(\"Invalid input\")\n",
    "    else:\n",
    "        print(\"Sum of theory and practical in english \",score_theory1+score_practical1)\n",
    "if(coursework2 == \"Science\" or coursework2 == \"science\"):\n",
    "    if(score_theory2 >70):\n",
    "        print(\"Invalid input\")\n",
    "    elif(score_practical2>70):\n",
    "        print(\"Invalid input\")\n",
    "    else:\n",
    "        print(\"Sum of theory and practical in Science\",score_theory2+score_practical2)\n",
    "else:\n",
    "    print(\"coursework not recognized\")\n"
   ]
  },
  {
   "cell_type": "code",
   "execution_count": null,
   "id": "be1ca84a",
   "metadata": {},
   "outputs": [],
   "source": [
    "study_hour = int(input())\n",
    "if study_hour <= 1:\n",
    "    print(\"it may take  8- 9 month of time to make a transition\")\n",
    "elif study_hour <= 4 and  study_hour >= 1:\n",
    "    print(\"it may take 6 month for transition\")\n",
    "elif study_hour >=10 :\n",
    "    print(\" it will take 3 month of time for transition \")\n",
    "else :\n",
    "    print(\"it will be difficult \")"
   ]
  },
  {
   "cell_type": "code",
   "execution_count": null,
   "id": "70093d7c",
   "metadata": {},
   "outputs": [],
   "source": []
  },
  {
   "cell_type": "code",
   "execution_count": null,
   "id": "c29ffd8f",
   "metadata": {},
   "outputs": [],
   "source": [
    "coup = input()\n",
    "if coup == \"SUDHANSHU5\":\n",
    "    print(\"you will be able to get a discount of 5%\")\n",
    "    paid_amount = 7080 - 7080*.05\n",
    "    print(\"you will access the one neuron course with\", paid_amount)\n",
    "else:\n",
    "    print(\"kindly used a valid coupen code\")"
   ]
  },
  {
   "cell_type": "code",
   "execution_count": null,
   "id": "b9377489",
   "metadata": {},
   "outputs": [],
   "source": [
    "coupon = input()\n",
    "if coupon == \"SUDHANSHU5\":\n",
    "    print(\"you are elegible for discount\")\n",
    "    discount = 7080 - 7080*0.20\n",
    "    print(\"the discount amount is\", discount)\n",
    "else:\n",
    "    print(\"please used the valid coupon code\")\n"
   ]
  },
  {
   "cell_type": "code",
   "execution_count": null,
   "id": "7aad51b4",
   "metadata": {},
   "outputs": [],
   "source": [
    "coup = input()\n",
    "if coup == \"SUDHANSHU5\":\n",
    "    print(\"you will be able to get a discount of 5%\")\n",
    "    paid_amount = 7080 - 7080*.05\n",
    "    print(\"you will access the one neuron course with\", paid_amount)\n",
    "else:\n",
    "    print(\"kindly used a valid coupen code\")"
   ]
  },
  {
   "cell_type": "code",
   "execution_count": 1,
   "id": "b034d923",
   "metadata": {},
   "outputs": [
    {
     "name": "stdout",
     "output_type": "stream",
     "text": [
      "enter a string to start oneneuron\n",
      "enter a course name FSDS\n",
      "enter a service name workwithus\n",
      "yes its availble , you can start learning \n"
     ]
    }
   ],
   "source": [
    "s = input(\"enter a string to start \")\n",
    "course = input(\"enter a course name \")\n",
    "service = input(\"enter a service name \")\n",
    "if s == \"oneneuron\":\n",
    "    if course == \"DSA\":\n",
    "        print(\"yes its available under one neruon and in multiple mode for job prepratoin and core concept \")\n",
    "    elif course == \"Blockchain\":\n",
    "        print(\"this is not aviable as of now , kindly raise your demand and we will fulfil in 60 days \")\n",
    "    elif course == \"FSDS\":\n",
    "        print(\"yes its availble , you can start learning \")\n",
    "    else :\n",
    "        print(\"this course is not availble kindly raise your demand \")\n",
    "elif s  == \"oneneuronservice\":\n",
    "    if service == \"courserequest\":\n",
    "        print(\"*NOTE: Dear Learner, you can raise demand related to any new course, and we will fulfil your need in the next 60 days.\")\n",
    "    elif service == \"module\" :\n",
    "        print(\"*NOTE: Dear Learner, you can raise demand related to any new course module, and we will fulfil your need in the next 30 days.\")\n",
    "    elif service == \"doubt\":\n",
    "        print(\"*NOTE: Dear Learner, you can raise demand related to any doubt clearing, and we will fulfil your need in the next 24 hours.\")\n",
    "    elif service == \"workwithus\":\n",
    "        print(\"*NOTE: Dear Learner, you can raise the demand to work with our team; our HR will evaluate and get back to you in 24 hours.\")\n",
    "    else :\n",
    "        print(\"kindly provide us your feedback and we will fulfil\")\n",
    "else :\n",
    "    print(\"kindly connect with our team \")"
   ]
  },
  {
   "cell_type": "code",
   "execution_count": null,
   "id": "2b054fd7",
   "metadata": {},
   "outputs": [],
   "source": []
  },
  {
   "cell_type": "code",
   "execution_count": null,
   "id": "a6f289dc",
   "metadata": {},
   "outputs": [],
   "source": [
    "s = input(\"Enter a string to start\")\n",
    "course = input(\"ENter a code\")\n",
    "service = input(\"enter a service name\")\n",
    "if s == \"oneneuron\":\n",
    "    if course == \"DSA\":\n",
    "        print(\"Yes it is available under OneNeuron and in multiple mode for job preparation and core \")\n",
    "    elif course ==\"Blockchain\":\n",
    "        print(\"this is not available now, kindly raise demand\")\n",
    "    elif course == \" FSDS\":\n",
    "        print(\"Available, start learning\")\n",
    "    else:\n",
    "        print(\"Kindly raise demand\")\n",
    "elif s = \"oneneuronservice\":\n",
    "    if service == 'courserequest':\n",
    "        print(\"Note Dear learner you can raise demand to any new course\")\n",
    "    elif service == \"module\":\n",
    "        print(\"Raise demand to any new course\")\n",
    "    elif service == \"doubt\":\n",
    "        print(\"*Note:Dear Learner you can raise demand\")\n",
    "    elif service == \"workwithus\":\n",
    "        print(\"Note: Dear learner you can raise the demand\")\n",
    "    else :\n",
    "        print(\"kidnly provide us ur feedback\")\n",
    "        \n",
    "else:\n",
    "    print(\"Kindly connect with our team\")\n"
   ]
  },
  {
   "cell_type": "code",
   "execution_count": null,
   "id": "bb23e323",
   "metadata": {},
   "outputs": [],
   "source": []
  },
  {
   "cell_type": "code",
   "execution_count": null,
   "id": "fd783e13",
   "metadata": {},
   "outputs": [],
   "source": [
    "s = input(\"enter a string to start\")\n",
    "course = input(\"eneter a course name\")\n",
    "service = input(\"enetr a service name\")\n",
    "if s ==\"oneneuron\":\n",
    "    if course == \"DSA\":\n",
    "        ptint(\"yes it available under one neuron i multiple code \")\n",
    "    elif course==\"blockchain\":\n",
    "        print(\"raise ur demand\")\n",
    "    elif course==\"FSDS\":\n",
    "        print(\"yes it is available\")\n",
    "    else :\n",
    "        print(\"not available\")\n",
    "elif s ==\"oneneuronservice\":\n",
    "    if service==\"courserequest\":\n",
    "        print(\"raise demand for new course\")\n",
    "    elif service==\"module\":\n",
    "        print(\"raise demand for module\")\n",
    "    elif service==\"doubt\":\n",
    "        print(\"note doubt clearing\") \n",
    "    else:\n",
    "        print(\"feedback\")\n"
   ]
  },
  {
   "cell_type": "code",
   "execution_count": null,
   "id": "d29a88d1",
   "metadata": {},
   "outputs": [],
   "source": []
  },
  {
   "cell_type": "code",
   "execution_count": null,
   "id": "ed59d5db",
   "metadata": {},
   "outputs": [],
   "source": [
    "s = input(\"enter a string to start\")\n",
    "course=input(\"enter a course name\")\n",
    "service= input(\"enter service name\")\n",
    "if s == \"oneneuron\":\n",
    "    if course == \"DSA\":\n",
    "        print(\"yes it is available under oneneron and in multiple mode for job preperation and core concept\")\n",
    "    elif course==\"blockchain\":\n",
    "        print(\"this is not available as of now, kindly raise your demand\")\n",
    "    elif course == \"FSDS\":\n",
    "        print(\"yes it is available, you can start learning\")\n",
    "    else:\n",
    "        print(\"this course is not available\")\n",
    "elif s == \"oneneuronservices\":\n",
    "        if service == \"courserequest\":\n",
    "            print(\"abcd\")\n",
    "        elif service == \"module\":\n",
    "            print(\"123654\")\n",
    "        elif service ==\"work with us\":\n",
    "                print(\"tyru\")\n",
    "        else:\n",
    "            print(\"hyst\")\n",
    "else:\n",
    "     print(\"ytr\")"
   ]
  },
  {
   "cell_type": "code",
   "execution_count": null,
   "id": "3c5b8c5c",
   "metadata": {},
   "outputs": [],
   "source": []
  },
  {
   "cell_type": "code",
   "execution_count": null,
   "id": "da1937a6",
   "metadata": {},
   "outputs": [],
   "source": [
    "s = input('enter a string to start : ')\n",
    "if s == 'oneneuron':\n",
    "  course = input('enter a course name : ')\n",
    "  if course == 'DSA':\n",
    "    print('yes it is availbale under oneneuron')\n",
    "  elif course == 'Blockchain':\n",
    "    print('this is not availble at the moment kindly raise a request.')\n",
    "  else:\n",
    "    print('kindly raise  your demand')\n",
    "elif s == 'oneneuronservice':\n",
    "  service = input('what kind of service you want : ')\n",
    "  if service == 'servicerequest':\n",
    "    print('this is not availble at the moment kindly raise a request.')\n",
    "  elif service == 'module':\n",
    "    print('this is not availble at the moment kindly raise a request.')\n",
    "  else :\n",
    "    print('kindly provide us your feedback')\n",
    "else:\n",
    "  print('kindly contact our team')\n"
   ]
  },
  {
   "cell_type": "code",
   "execution_count": null,
   "id": "d1624466",
   "metadata": {},
   "outputs": [],
   "source": []
  },
  {
   "cell_type": "code",
   "execution_count": null,
   "id": "fc279b4b",
   "metadata": {},
   "outputs": [],
   "source": [
    "\"sudh\"==\"sudh\""
   ]
  },
  {
   "cell_type": "code",
   "execution_count": 1,
   "id": "a7110c02",
   "metadata": {},
   "outputs": [],
   "source": [
    "l = [1,2,3,4,5,6,2.5,4.2,\"sudh\", \"KUMAR\", 6+5j, [56,45,78, \"ffsd\"]]   "
   ]
  },
  {
   "cell_type": "code",
   "execution_count": 2,
   "id": "6c920e41",
   "metadata": {},
   "outputs": [
    {
     "data": {
      "text/plain": [
       "[1, 2, 3, 4, 5, 6, 2.5, 4.2, 'sudh', 'KUMAR', (6+5j), [56, 45, 78, 'ffsd']]"
      ]
     },
     "execution_count": 2,
     "metadata": {},
     "output_type": "execute_result"
    }
   ],
   "source": [
    "l"
   ]
  },
  {
   "cell_type": "code",
   "execution_count": 3,
   "id": "de527c40",
   "metadata": {},
   "outputs": [
    {
     "name": "stdout",
     "output_type": "stream",
     "text": [
      "<class 'int'> type of  1\n",
      "<class 'int'> type of  2\n",
      "<class 'int'> type of  3\n",
      "<class 'int'> type of  4\n",
      "<class 'int'> type of  5\n",
      "<class 'int'> type of  6\n",
      "<class 'float'> type of  2.5\n",
      "<class 'float'> type of  4.2\n",
      "<class 'str'> type of  sudh\n",
      "<class 'str'> type of  KUMAR\n",
      "<class 'complex'> type of  (6+5j)\n",
      "<class 'list'> type of  [56, 45, 78, 'ffsd']\n"
     ]
    }
   ],
   "source": [
    "for i in l :\n",
    "    print(type(i) , \"type of \" , i )\n",
    "    \n",
    "    "
   ]
  },
  {
   "cell_type": "code",
   "execution_count": 4,
   "id": "44b98582",
   "metadata": {},
   "outputs": [
    {
     "name": "stdout",
     "output_type": "stream",
     "text": [
      "3\n",
      "6\n",
      "7.6\n"
     ]
    }
   ],
   "source": [
    "l = [1 ,4,5.6 ]\n",
    "l1 = []\n",
    "for i in l :\n",
    "    print(i+2)\n",
    "    l1.append(i+2)"
   ]
  },
  {
   "cell_type": "code",
   "execution_count": 5,
   "id": "62fe90f3",
   "metadata": {},
   "outputs": [
    {
     "ename": "ValueError",
     "evalue": "'sudh' is not in list",
     "output_type": "error",
     "traceback": [
      "\u001b[1;31m---------------------------------------------------------------------------\u001b[0m",
      "\u001b[1;31mValueError\u001b[0m                                Traceback (most recent call last)",
      "\u001b[1;32m<ipython-input-5-5dc6417970fb>\u001b[0m in \u001b[0;36m<module>\u001b[1;34m\u001b[0m\n\u001b[1;32m----> 1\u001b[1;33m \u001b[0ml\u001b[0m\u001b[1;33m.\u001b[0m\u001b[0mindex\u001b[0m\u001b[1;33m(\u001b[0m\u001b[1;34m\"sudh\"\u001b[0m\u001b[1;33m)\u001b[0m\u001b[1;33m\u001b[0m\u001b[1;33m\u001b[0m\u001b[0m\n\u001b[0m",
      "\u001b[1;31mValueError\u001b[0m: 'sudh' is not in list"
     ]
    }
   ],
   "source": [
    "l.index(\"sudh\")"
   ]
  },
  {
   "cell_type": "code",
   "execution_count": 6,
   "id": "3ed337f7",
   "metadata": {},
   "outputs": [
    {
     "ename": "ValueError",
     "evalue": "(6+5j) is not in list",
     "output_type": "error",
     "traceback": [
      "\u001b[1;31m---------------------------------------------------------------------------\u001b[0m",
      "\u001b[1;31mValueError\u001b[0m                                Traceback (most recent call last)",
      "\u001b[1;32m<ipython-input-6-aa4082ca0358>\u001b[0m in \u001b[0;36m<module>\u001b[1;34m\u001b[0m\n\u001b[1;32m----> 1\u001b[1;33m \u001b[0ml\u001b[0m\u001b[1;33m.\u001b[0m\u001b[0mindex\u001b[0m\u001b[1;33m(\u001b[0m\u001b[1;36m6\u001b[0m\u001b[1;33m+\u001b[0m\u001b[1;36m5j\u001b[0m\u001b[1;33m)\u001b[0m\u001b[1;33m\u001b[0m\u001b[1;33m\u001b[0m\u001b[0m\n\u001b[0m",
      "\u001b[1;31mValueError\u001b[0m: (6+5j) is not in list"
     ]
    }
   ],
   "source": [
    "l.index(6+5j)"
   ]
  },
  {
   "cell_type": "code",
   "execution_count": null,
   "id": "8060d47c",
   "metadata": {},
   "outputs": [],
   "source": [
    "l[6]"
   ]
  },
  {
   "cell_type": "code",
   "execution_count": null,
   "id": "34e9f7d9",
   "metadata": {},
   "outputs": [],
   "source": [
    "l[6][2]"
   ]
  },
  {
   "cell_type": "code",
   "execution_count": null,
   "id": "13e82e99",
   "metadata": {},
   "outputs": [],
   "source": [
    "l[9][1]"
   ]
  },
  {
   "cell_type": "code",
   "execution_count": null,
   "id": "7ad38a83",
   "metadata": {},
   "outputs": [],
   "source": []
  },
  {
   "cell_type": "code",
   "execution_count": null,
   "id": "c1d2fd9c",
   "metadata": {},
   "outputs": [],
   "source": [
    " # remove all str from the list\n",
    "for i in l:\n",
    "    if type(i) == str:\n",
    "        print(i)\n",
    "    elif type(i) == list:\n",
    "        for j in i:\n",
    "            if type(j)== str:\n",
    "                print(j)"
   ]
  },
  {
   "cell_type": "code",
   "execution_count": null,
   "id": "af35031b",
   "metadata": {},
   "outputs": [],
   "source": [
    "for i in l:\n",
    "    print(i)"
   ]
  },
  {
   "cell_type": "code",
   "execution_count": null,
   "id": "d94c23cc",
   "metadata": {},
   "outputs": [],
   "source": [
    "for i in l:\n",
    "    if type(i) == int:\n",
    "        print(i*i)"
   ]
  },
  {
   "cell_type": "code",
   "execution_count": null,
   "id": "e882a170",
   "metadata": {},
   "outputs": [],
   "source": [
    "#to extract square of all integer\n",
    "for i in l:\n",
    "    if type(i)== int:\n",
    "        print(i*i)\n",
    "    elif type(i) == list:\n",
    "        for j in i:\n",
    "            if type(j)== int:\n",
    "                print(j*j)"
   ]
  },
  {
   "cell_type": "code",
   "execution_count": null,
   "id": "9a4ac490",
   "metadata": {},
   "outputs": [],
   "source": [
    "len(l)"
   ]
  },
  {
   "cell_type": "code",
   "execution_count": null,
   "id": "b4d6198c",
   "metadata": {},
   "outputs": [],
   "source": [
    "range(len(l))"
   ]
  },
  {
   "cell_type": "code",
   "execution_count": null,
   "id": "35af4374",
   "metadata": {},
   "outputs": [],
   "source": [
    "# to extract index of all variables in list\n",
    "for i in range(len(l)):\n",
    "    print(\"index\", i, \"for an element\", l[i])"
   ]
  },
  {
   "cell_type": "code",
   "execution_count": null,
   "id": "f039df1f",
   "metadata": {},
   "outputs": [],
   "source": [
    "for i in enumerate(l):\n",
    "    print(i)"
   ]
  },
  {
   "cell_type": "code",
   "execution_count": null,
   "id": "e5919980",
   "metadata": {},
   "outputs": [],
   "source": [
    "for i,j in enumerate(l):\n",
    "    print(i,j)"
   ]
  },
  {
   "cell_type": "code",
   "execution_count": null,
   "id": "9b4fa934",
   "metadata": {},
   "outputs": [],
   "source": [
    "l"
   ]
  },
  {
   "cell_type": "code",
   "execution_count": null,
   "id": "46f4e2b1",
   "metadata": {},
   "outputs": [],
   "source": [
    "for i in l:\n",
    "    if type(i)== str:\n",
    "        l1 = []\n",
    "        for j in i:\n",
    "            l1.append(j)\n",
    "            print(j)"
   ]
  },
  {
   "cell_type": "code",
   "execution_count": null,
   "id": "b6fdb35b",
   "metadata": {},
   "outputs": [],
   "source": [
    "for i in l:\n",
    "    if type(i) == str:\n",
    "        l1 = []\n",
    "        for j in i:\n",
    "            l1.append(j)\n",
    "            print(l1)"
   ]
  },
  {
   "cell_type": "code",
   "execution_count": null,
   "id": "ed9709a5",
   "metadata": {},
   "outputs": [],
   "source": [
    "for i  in l:\n",
    "    if type(i) == str:\n",
    "        l1 = []\n",
    "        for j in i:\n",
    "             l1.append(j)\n",
    "        print(j)\n",
    "       "
   ]
  },
  {
   "cell_type": "code",
   "execution_count": null,
   "id": "e91cb220",
   "metadata": {},
   "outputs": [],
   "source": [
    "###try to extract char in the list l\n",
    "\n",
    "for i in l:\n",
    "    if type(i) == str:\n",
    "        l1 = []\n",
    "        for j in i:\n",
    "            l1.append(j)\n",
    "        print(l1)              #properly looks the indentation how it will affect the result"
   ]
  },
  {
   "cell_type": "code",
   "execution_count": null,
   "id": "acb18f71",
   "metadata": {},
   "outputs": [],
   "source": [
    "for i in l:\n",
    "    if type(i)== str:\n",
    "        l1 = []\n",
    "        for j in i:\n",
    "            l1.append(j)\n",
    "            print(l1)        "
   ]
  },
  {
   "cell_type": "code",
   "execution_count": null,
   "id": "20e52249",
   "metadata": {},
   "outputs": [],
   "source": [
    "#try to extract list of all the element , square them and make a list\n",
    "l2 = []\n",
    "for i in l:\n",
    "    if type(i)==int:\n",
    "        l2.append(i**2)"
   ]
  },
  {
   "cell_type": "code",
   "execution_count": null,
   "id": "7df1b43b",
   "metadata": {},
   "outputs": [],
   "source": [
    "l2"
   ]
  },
  {
   "cell_type": "code",
   "execution_count": 1,
   "id": "312cf9a4",
   "metadata": {},
   "outputs": [
    {
     "name": "stdout",
     "output_type": "stream",
     "text": [
      "flag\n"
     ]
    }
   ],
   "source": [
    "l = [2,45,78,12,\"sudh\", 6 + 7j, [56,67,78,\"hhdh\"]]\n",
    "sqr = []\n",
    "for i in range(len(l)):\n",
    "    if type(l[i]) == list :\n",
    "        print(\"flag\")\n",
    "        for j in range(len(l[i])):\n",
    "            if type(l[i][j]) == int:\n",
    "                m = l[i][j]**2\n",
    "                sqr.append(m)\n"
   ]
  },
  {
   "cell_type": "code",
   "execution_count": 2,
   "id": "50f2d604",
   "metadata": {},
   "outputs": [
    {
     "data": {
      "text/plain": [
       "[3136, 4489, 6084]"
      ]
     },
     "execution_count": 2,
     "metadata": {},
     "output_type": "execute_result"
    }
   ],
   "source": [
    "sqr"
   ]
  },
  {
   "cell_type": "code",
   "execution_count": 3,
   "id": "0d92b6c0",
   "metadata": {},
   "outputs": [
    {
     "name": "stdout",
     "output_type": "stream",
     "text": [
      "flag\n"
     ]
    },
    {
     "data": {
      "text/plain": [
       "[3136, 4489, 6084]"
      ]
     },
     "execution_count": 3,
     "metadata": {},
     "output_type": "execute_result"
    }
   ],
   "source": [
    "l = [2,45,78,12,\"sudh\", 6 + 7j, [56,67,78,\"hhdh\"]]\n",
    "sqr = []\n",
    "for i in range(len(l)):\n",
    "    if type(l[i]) == list :\n",
    "        print(\"flag\")\n",
    "        for j in range(len(l[i])):\n",
    "            if type(l[i][j]) == int:\n",
    "                m = l[i][j]**2\n",
    "                sqr.append(m)\n",
    "sqr"
   ]
  },
  {
   "cell_type": "code",
   "execution_count": 2,
   "id": "594f9e1b",
   "metadata": {},
   "outputs": [
    {
     "data": {
      "text/plain": [
       "[1, 2, 3, 1, 2, 3, [23, 's', 32, '45'], 's']"
      ]
     },
     "execution_count": 2,
     "metadata": {},
     "output_type": "execute_result"
    }
   ],
   "source": [
    "l = [1,2,3]\n",
    "s =  [1,2,3,[23,'s',32,'45'],'s']\n",
    "\n",
    "l.extend(s)\n",
    "l\n"
   ]
  },
  {
   "cell_type": "code",
   "execution_count": 3,
   "id": "6e853dcf",
   "metadata": {},
   "outputs": [
    {
     "name": "stdout",
     "output_type": "stream",
     "text": [
      "['a', 's', 'h', 'gvjhbjknjn', 'gvjhbjknjn', 'gvjhbjknjn', 'gvjhbjknjn', 'gvjhbjknjn', 'gvjhbjknjn', 'gvjhbjknjn', 'gvjhbjknjn', 'gvjhbjknjn', 'gvjhbjknjn']\n"
     ]
    }
   ],
   "source": [
    "l=[2,45,78,12, 12, 12, \"ash\", 7+8j, [6,87,34,\"gvjhbjknjn\"]]\n",
    "for i in l:\n",
    "    if type(i)==str:\n",
    "        a=[]\n",
    "        for h in i:\n",
    "            a.append(h)\n",
    "    if type(i)==list:\n",
    "        for k in i:\n",
    "            if type(k)==str:\n",
    "                for m in k:\n",
    "                    a.append(k)\n",
    "                print(a)"
   ]
  },
  {
   "cell_type": "code",
   "execution_count": null,
   "id": "b98e09bb",
   "metadata": {},
   "outputs": [],
   "source": [
    "for i in l:\n",
    "    if type(i)==float or type(i)==int:\n",
    "        print(i)"
   ]
  },
  {
   "cell_type": "code",
   "execution_count": 5,
   "id": "ba9e93ba",
   "metadata": {},
   "outputs": [
    {
     "name": "stdout",
     "output_type": "stream",
     "text": [
      "name\n",
      "emai_id\n",
      "mob_no\n",
      "address\n"
     ]
    }
   ],
   "source": [
    "l = [\"name\",\"emai_id\", \"mob_no\",\"address\"]\n",
    "for i in l:\n",
    "    print(i)"
   ]
  },
  {
   "cell_type": "code",
   "execution_count": 6,
   "id": "a7510ab9",
   "metadata": {},
   "outputs": [
    {
     "name": "stdout",
     "output_type": "stream",
     "text": [
      "name  sudh\n",
      "emai_id  sudh\n",
      "mob_no  sudh\n",
      "address  sudh\n"
     ]
    }
   ],
   "source": [
    "l = [\"name\",\"emai_id\", \"mob_no\",\"address\"]\n",
    "for i in l:\n",
    "    print(i+ \"  sudh\")"
   ]
  },
  {
   "cell_type": "code",
   "execution_count": 7,
   "id": "ca2cfbf8",
   "metadata": {},
   "outputs": [
    {
     "name": "stdout",
     "output_type": "stream",
     "text": [
      "name   sudh\n",
      "emai_id   sudh\n",
      "mob_no   sudh\n",
      "address   sudh\n"
     ]
    }
   ],
   "source": [
    "l = [\"name\",\"emai_id\", \"mob_no\",\"address\"]\n",
    "for i in l:\n",
    "    print(i, \"  sudh\")"
   ]
  },
  {
   "cell_type": "code",
   "execution_count": 8,
   "id": "9034b666",
   "metadata": {},
   "outputs": [
    {
     "name": "stdout",
     "output_type": "stream",
     "text": [
      "i\n",
      "n\n",
      "e\n",
      "u\n",
      "r\n",
      "o\n",
      "n\n"
     ]
    }
   ],
   "source": [
    "s = 'ineuron'\n",
    "for i in s:\n",
    "    print(i)"
   ]
  },
  {
   "cell_type": "code",
   "execution_count": null,
   "id": "69c61294",
   "metadata": {},
   "outputs": [],
   "source": [
    "l"
   ]
  },
  {
   "cell_type": "code",
   "execution_count": 9,
   "id": "61c53050",
   "metadata": {},
   "outputs": [
    {
     "name": "stdout",
     "output_type": "stream",
     "text": [
      "name\n",
      "emai_id\n",
      "mob_no\n",
      "address\n",
      "if for loop is not complet itself then it will shown else statement\n"
     ]
    }
   ],
   "source": [
    "for i in l:\n",
    "    print(i)\n",
    "else:\n",
    "    print(\"if for loop is not complet itself then it will shown else statement\")"
   ]
  },
  {
   "cell_type": "code",
   "execution_count": 10,
   "id": "a0f123d6",
   "metadata": {},
   "outputs": [
    {
     "data": {
      "text/plain": [
       "['name', 'emai_id', 'mob_no', 'address']"
      ]
     },
     "execution_count": 10,
     "metadata": {},
     "output_type": "execute_result"
    }
   ],
   "source": [
    "l"
   ]
  },
  {
   "cell_type": "code",
   "execution_count": 11,
   "id": "18b58e5c",
   "metadata": {},
   "outputs": [
    {
     "name": "stdout",
     "output_type": "stream",
     "text": [
      "name\n",
      "emai_id\n"
     ]
    }
   ],
   "source": [
    "for i in l:\n",
    "    if i == \"mob_no\":\n",
    "        break\n",
    "    print(i)\n",
    "else:\n",
    "    print(\"check this statement\")"
   ]
  },
  {
   "cell_type": "code",
   "execution_count": null,
   "id": "9ebe5e5d",
   "metadata": {},
   "outputs": [],
   "source": [
    "for i in l:\n",
    "    if i == \"email_id\":  #check email_id speling.\n",
    "        break\n",
    "    print(i)\n",
    "else:\n",
    "    print(\"this is wrong statement\")"
   ]
  },
  {
   "cell_type": "code",
   "execution_count": null,
   "id": "ba65657c",
   "metadata": {},
   "outputs": [],
   "source": [
    "s = \"sudhanshu\"\n",
    "for i in s:\n",
    "    if i == \"n\":\n",
    "        break\n",
    "    print(i)\n",
    "else:\n",
    "    print(\"dont execute this unless and untill it is not available\")\n",
    "    "
   ]
  },
  {
   "cell_type": "code",
   "execution_count": null,
   "id": "9b5dbe44",
   "metadata": {},
   "outputs": [],
   "source": [
    "s = \"sudhanshu\"\n",
    "for i in s:\n",
    "    if i == \"n\":\n",
    "        break\n",
    "else:\n",
    "    print(\"dont excuse is unless and untill it is not available\")\n",
    "    "
   ]
  },
  {
   "cell_type": "code",
   "execution_count": null,
   "id": "22f7b6a7",
   "metadata": {},
   "outputs": [],
   "source": [
    "a = 1\n",
    "while a < 6 :\n",
    "    print(a)           \n",
    "    a = a+1            #suppose im gonna remove this line, it will shows 1 upto infinite digit\n"
   ]
  },
  {
   "cell_type": "code",
   "execution_count": 13,
   "id": "3c9ffa23",
   "metadata": {},
   "outputs": [
    {
     "name": "stdout",
     "output_type": "stream",
     "text": [
      "0\n",
      "1\n",
      "2\n",
      "3\n",
      "4\n",
      "5\n"
     ]
    }
   ],
   "source": [
    "a = 1\n",
    "for i in range(6):\n",
    "    print(i)\n",
    "   "
   ]
  },
  {
   "cell_type": "code",
   "execution_count": 12,
   "id": "715d21b7",
   "metadata": {},
   "outputs": [
    {
     "name": "stdout",
     "output_type": "stream",
     "text": [
      "1\n"
     ]
    }
   ],
   "source": [
    "a = 1\n",
    "if a < 6:\n",
    "    print(a)\n",
    "    a = a+1"
   ]
  },
  {
   "cell_type": "code",
   "execution_count": 14,
   "id": "a9198b5f",
   "metadata": {},
   "outputs": [
    {
     "name": "stdout",
     "output_type": "stream",
     "text": [
      "1\n",
      "2\n",
      "3\n",
      "4\n",
      "5\n",
      "6\n"
     ]
    }
   ],
   "source": [
    "a = 1\n",
    "while a < 10 :\n",
    "    print(a)\n",
    "    if a == 6 :\n",
    "        break\n",
    "    a = a+1"
   ]
  },
  {
   "cell_type": "code",
   "execution_count": 15,
   "id": "807a20ca",
   "metadata": {},
   "outputs": [
    {
     "name": "stdout",
     "output_type": "stream",
     "text": [
      "1\n",
      "2\n",
      "3\n",
      "4\n",
      "5\n",
      "6\n",
      "7\n",
      "8\n",
      "9\n"
     ]
    }
   ],
   "source": [
    "a = 1\n",
    "while a < 10:\n",
    "    print(a)\n",
    "    a = a+1\n",
    "    if a == 3:\n",
    "        continue\n",
    "    "
   ]
  },
  {
   "cell_type": "code",
   "execution_count": 16,
   "id": "b295f453",
   "metadata": {},
   "outputs": [
    {
     "name": "stdout",
     "output_type": "stream",
     "text": [
      "1\n",
      "2\n",
      "3\n",
      "4\n",
      "5\n",
      "6\n",
      "7\n",
      "8\n",
      "9\n"
     ]
    }
   ],
   "source": [
    "a = 1\n",
    "while a < 10:\n",
    "    print(a)       #continue function used for eleminating some of digit inside the list\n",
    "    a = a+1\n",
    "    if a == 3:\n",
    "        continue\n",
    "  \n",
    "   "
   ]
  },
  {
   "cell_type": "code",
   "execution_count": 20,
   "id": "3bfb83aa",
   "metadata": {},
   "outputs": [
    {
     "name": "stdout",
     "output_type": "stream",
     "text": [
      "ram\n",
      "sha,\n",
      "seeta\n",
      " gopal\n"
     ]
    }
   ],
   "source": [
    "l = [\"ram\",\"sha,\",\"seeta\",\"radha\",\" gopal\"]\n",
    "for i in l:\n",
    "    if i == \"radha\":\n",
    "        continue\n",
    "    print(i)"
   ]
  },
  {
   "cell_type": "code",
   "execution_count": 19,
   "id": "1e09ff2e",
   "metadata": {},
   "outputs": [
    {
     "data": {
      "text/plain": [
       "['ram', 'sha,', 'seeta', 'radha', ' gopal']"
      ]
     },
     "execution_count": 19,
     "metadata": {},
     "output_type": "execute_result"
    }
   ],
   "source": [
    "l"
   ]
  },
  {
   "cell_type": "code",
   "execution_count": 2,
   "id": "1f09b616",
   "metadata": {},
   "outputs": [
    {
     "name": "stdout",
     "output_type": "stream",
     "text": [
      "1\n",
      "2\n",
      "3\n",
      "4\n"
     ]
    }
   ],
   "source": [
    "a = 1\n",
    "while a < 10:\n",
    "    print(a)\n",
    "    a = a+1\n",
    "    if a == 5:\n",
    "        break\n",
    "    "
   ]
  },
  {
   "cell_type": "code",
   "execution_count": null,
   "id": "a52fd5bc",
   "metadata": {},
   "outputs": [],
   "source": []
  },
  {
   "cell_type": "code",
   "execution_count": null,
   "id": "be466dcd",
   "metadata": {},
   "outputs": [],
   "source": [
    "while a <5:\n",
    "    pass"
   ]
  },
  {
   "cell_type": "code",
   "execution_count": 3,
   "id": "6123f3b5",
   "metadata": {},
   "outputs": [
    {
     "ename": "NameError",
     "evalue": "name 'l' is not defined",
     "output_type": "error",
     "traceback": [
      "\u001b[1;31m---------------------------------------------------------------------------\u001b[0m",
      "\u001b[1;31mNameError\u001b[0m                                 Traceback (most recent call last)",
      "\u001b[1;32m<ipython-input-3-864365374709>\u001b[0m in \u001b[0;36m<module>\u001b[1;34m\u001b[0m\n\u001b[1;32m----> 1\u001b[1;33m \u001b[1;32mfor\u001b[0m \u001b[0mi\u001b[0m \u001b[1;32min\u001b[0m \u001b[0ml\u001b[0m\u001b[1;33m:\u001b[0m\u001b[1;33m\u001b[0m\u001b[1;33m\u001b[0m\u001b[0m\n\u001b[0m\u001b[0;32m      2\u001b[0m     \u001b[1;32mpass\u001b[0m\u001b[1;33m\u001b[0m\u001b[1;33m\u001b[0m\u001b[0m\n",
      "\u001b[1;31mNameError\u001b[0m: name 'l' is not defined"
     ]
    }
   ],
   "source": [
    "for i in l:\n",
    "    pass"
   ]
  },
  {
   "cell_type": "code",
   "execution_count": 21,
   "id": "6fbd6e4c",
   "metadata": {},
   "outputs": [],
   "source": [
    "while a < 4:\n",
    "    break"
   ]
  },
  {
   "cell_type": "code",
   "execution_count": 22,
   "id": "6a2d1314",
   "metadata": {},
   "outputs": [],
   "source": [
    "a = 1"
   ]
  },
  {
   "cell_type": "code",
   "execution_count": 23,
   "id": "d7783c58",
   "metadata": {},
   "outputs": [
    {
     "ename": "IndentationError",
     "evalue": "unexpected indent (<ipython-input-23-8afce1805895>, line 2)",
     "output_type": "error",
     "traceback": [
      "\u001b[1;36m  File \u001b[1;32m\"<ipython-input-23-8afce1805895>\"\u001b[1;36m, line \u001b[1;32m2\u001b[0m\n\u001b[1;33m    continue\u001b[0m\n\u001b[1;37m    ^\u001b[0m\n\u001b[1;31mIndentationError\u001b[0m\u001b[1;31m:\u001b[0m unexpected indent\n"
     ]
    }
   ],
   "source": [
    "# while a < 5:        # do not performed such type of operation\n",
    "    continue"
   ]
  },
  {
   "cell_type": "code",
   "execution_count": 24,
   "id": "88e1611a",
   "metadata": {},
   "outputs": [
    {
     "data": {
      "text/plain": [
       "range(0, 6)"
      ]
     },
     "execution_count": 24,
     "metadata": {},
     "output_type": "execute_result"
    }
   ],
   "source": [
    "range(6)"
   ]
  },
  {
   "cell_type": "code",
   "execution_count": 25,
   "id": "51e80fb9",
   "metadata": {},
   "outputs": [
    {
     "data": {
      "text/plain": [
       "range(0, 9)"
      ]
     },
     "execution_count": 25,
     "metadata": {},
     "output_type": "execute_result"
    }
   ],
   "source": [
    "range(0,9)"
   ]
  },
  {
   "cell_type": "code",
   "execution_count": 26,
   "id": "93f48b31",
   "metadata": {},
   "outputs": [
    {
     "data": {
      "text/plain": [
       "[1, 2, 3, 4, 5, 6, 7, 8]"
      ]
     },
     "execution_count": 26,
     "metadata": {},
     "output_type": "execute_result"
    }
   ],
   "source": [
    "list(range(1,9))"
   ]
  },
  {
   "cell_type": "code",
   "execution_count": 27,
   "id": "1decb989",
   "metadata": {},
   "outputs": [
    {
     "data": {
      "text/plain": [
       "[0, 1, 2, 3, 4, 5, 6, 7, 8, 9, 10, 11, 12, 13, 14, 15, 16, 17, 18, 19]"
      ]
     },
     "execution_count": 27,
     "metadata": {},
     "output_type": "execute_result"
    }
   ],
   "source": [
    "list(range(0,20))"
   ]
  },
  {
   "cell_type": "code",
   "execution_count": 28,
   "id": "ff1229bd",
   "metadata": {},
   "outputs": [
    {
     "data": {
      "text/plain": [
       "[0, 2, 4, 6, 8, 10, 12, 14, 16, 18]"
      ]
     },
     "execution_count": 28,
     "metadata": {},
     "output_type": "execute_result"
    }
   ],
   "source": [
    "list(range(0,20,2))"
   ]
  },
  {
   "cell_type": "code",
   "execution_count": 29,
   "id": "9af113f3",
   "metadata": {},
   "outputs": [
    {
     "data": {
      "text/plain": [
       "[3, 4, 5, 6, 7, 8, 9, 10, 11]"
      ]
     },
     "execution_count": 29,
     "metadata": {},
     "output_type": "execute_result"
    }
   ],
   "source": [
    "list(range(3,12))"
   ]
  },
  {
   "cell_type": "code",
   "execution_count": 30,
   "id": "2e78f5f4",
   "metadata": {},
   "outputs": [
    {
     "data": {
      "text/plain": [
       "[3, 4, 5, 6, 7, 8, 9]"
      ]
     },
     "execution_count": 30,
     "metadata": {},
     "output_type": "execute_result"
    }
   ],
   "source": [
    "list(range(3,10,1))"
   ]
  },
  {
   "cell_type": "code",
   "execution_count": 31,
   "id": "ec86e614",
   "metadata": {},
   "outputs": [
    {
     "data": {
      "text/plain": [
       "[]"
      ]
     },
     "execution_count": 31,
     "metadata": {},
     "output_type": "execute_result"
    }
   ],
   "source": [
    "list(range(3,15,-1))"
   ]
  },
  {
   "cell_type": "code",
   "execution_count": 32,
   "id": "822f3929",
   "metadata": {},
   "outputs": [
    {
     "data": {
      "text/plain": [
       "[10, 9, 8, 7, 6, 5]"
      ]
     },
     "execution_count": 32,
     "metadata": {},
     "output_type": "execute_result"
    }
   ],
   "source": [
    "list(range(10,4,-1))"
   ]
  },
  {
   "cell_type": "code",
   "execution_count": 33,
   "id": "c9e010ef",
   "metadata": {},
   "outputs": [
    {
     "data": {
      "text/plain": [
       "[10, 9, 8, 7, 6, 5, 4, 3, 2, 1, 0, -1, -2, -3]"
      ]
     },
     "execution_count": 33,
     "metadata": {},
     "output_type": "execute_result"
    }
   ],
   "source": [
    "list(range(10,-4,-1))"
   ]
  },
  {
   "cell_type": "code",
   "execution_count": 34,
   "id": "81473656",
   "metadata": {},
   "outputs": [
    {
     "data": {
      "text/plain": [
       "[-10, -9, -8, -7]"
      ]
     },
     "execution_count": 34,
     "metadata": {},
     "output_type": "execute_result"
    }
   ],
   "source": [
    " list(range(-10,-6,1))"
   ]
  },
  {
   "cell_type": "code",
   "execution_count": 35,
   "id": "9896fcf1",
   "metadata": {},
   "outputs": [
    {
     "data": {
      "text/plain": [
       "[]"
      ]
     },
     "execution_count": 35,
     "metadata": {},
     "output_type": "execute_result"
    }
   ],
   "source": [
    " list(range(10,-6,1))"
   ]
  },
  {
   "cell_type": "code",
   "execution_count": 36,
   "id": "54e0cd4b",
   "metadata": {},
   "outputs": [
    {
     "name": "stdout",
     "output_type": "stream",
     "text": [
      "0\n",
      "1\n",
      "2\n",
      "3\n",
      "4\n",
      "5\n",
      "6\n"
     ]
    }
   ],
   "source": [
    "for i in range(7):\n",
    "    print(i)"
   ]
  },
  {
   "cell_type": "code",
   "execution_count": 18,
   "id": "8b02c1e8",
   "metadata": {},
   "outputs": [
    {
     "name": "stdout",
     "output_type": "stream",
     "text": [
      "* \r\n",
      "* * \r\n",
      "* * * \r\n",
      "* * * * \r\n",
      "* * * * * \r\n"
     ]
    }
   ],
   "source": [
    "n = 5\n",
    "for i in range(0,n) :\n",
    "    for j in range(0,i+1):\n",
    "        print(\"*\", end = \" \")\n",
    "    print(\"\\r\")"
   ]
  },
  {
   "cell_type": "code",
   "execution_count": null,
   "id": "450b2f38",
   "metadata": {},
   "outputs": [],
   "source": [
    "n =5\n",
    "for i in range(0,n) :           #indentation change the result\n",
    "    for j in range(0,i+1):\n",
    "        print(\"*\", end = \" \")\n",
    "        print(\"\\r\")"
   ]
  },
  {
   "cell_type": "code",
   "execution_count": null,
   "id": "44356a44",
   "metadata": {},
   "outputs": [],
   "source": [
    "n = 10\n",
    "for i in range(0,n):\n",
    "    for j in range(0,i+1):\n",
    "        print(\"*\",end = \" \")\n",
    "    print(\"\\r\")"
   ]
  },
  {
   "cell_type": "code",
   "execution_count": null,
   "id": "30dd996c",
   "metadata": {},
   "outputs": [],
   "source": [
    "n = 9\n",
    "for i in range(0,n):\n",
    "    for j in range(0,i+1):\n",
    "        print(\"Np\", end = \" \")\n",
    "    print(\"\\r\")"
   ]
  },
  {
   "cell_type": "code",
   "execution_count": null,
   "id": "013db6a1",
   "metadata": {},
   "outputs": [],
   "source": [
    "n = 5\n",
    "for i in range(0,n):\n",
    "    for j in range(0,i+1):\n",
    "        print(\"Np\", end = \" \")\n",
    " "
   ]
  },
  {
   "cell_type": "code",
   "execution_count": 37,
   "id": "74593c4b",
   "metadata": {},
   "outputs": [
    {
     "name": "stdout",
     "output_type": "stream",
     "text": [
      "Np \\r\n",
      "Np Np \\r\n",
      "Np Np Np \\r\n",
      "Np Np Np Np \\r\n",
      "Np Np Np Np Np \\r\n",
      "Np Np Np Np Np Np \\r\n",
      "Np Np Np Np Np Np Np \\r\n",
      "Np Np Np Np Np Np Np Np \\r\n",
      "Np Np Np Np Np Np Np Np Np \\r\n"
     ]
    }
   ],
   "source": [
    "n = 9\n",
    "for i in range(0,n):\n",
    "    for j in range(0,i+1):\n",
    "        print(\"Np\", end = \" \")\n",
    "    print(\"\\\\r\")"
   ]
  },
  {
   "cell_type": "code",
   "execution_count": 38,
   "id": "63d8082a",
   "metadata": {},
   "outputs": [
    {
     "name": "stdout",
     "output_type": "stream",
     "text": [
      "Np \n",
      "\n",
      "Np Np \n",
      "\n",
      "Np Np Np \n",
      "\n",
      "Np Np Np Np \n",
      "\n",
      "Np Np Np Np Np \n",
      "\n",
      "Np Np Np Np Np Np \n",
      "\n",
      "Np Np Np Np Np Np Np \n",
      "\n",
      "Np Np Np Np Np Np Np Np \n",
      "\n",
      "Np Np Np Np Np Np Np Np Np \n",
      "\n"
     ]
    }
   ],
   "source": [
    "n = 9\n",
    "for i in range(0,n):\n",
    "    for j in range(0,i+1):\n",
    "        print(\"Np\", end = \" \")\n",
    "    print(\"\\n\")"
   ]
  },
  {
   "cell_type": "code",
   "execution_count": 39,
   "id": "dabe738c",
   "metadata": {},
   "outputs": [
    {
     "name": "stdout",
     "output_type": "stream",
     "text": [
      "Np\n",
      "\r",
      "\r",
      "\r\n",
      "Np\n",
      "Np\n",
      "\r",
      "\r",
      "\r\n",
      "Np\n",
      "Np\n",
      "Np\n",
      "\r",
      "\r",
      "\r\n",
      "Np\n",
      "Np\n",
      "Np\n",
      "Np\n",
      "\r",
      "\r",
      "\r\n",
      "Np\n",
      "Np\n",
      "Np\n",
      "Np\n",
      "Np\n",
      "\r",
      "\r",
      "\r\n"
     ]
    }
   ],
   "source": [
    "n = 5\n",
    "for i in range(0,n):\n",
    "    for j in range(0,i+1):\n",
    "        print(\"Np\")\n",
    "    print(\"\\r\\r\\r\")"
   ]
  },
  {
   "cell_type": "code",
   "execution_count": null,
   "id": "b8cc5171",
   "metadata": {},
   "outputs": [],
   "source": [
    "n = 9\n",
    "for i in range(0,n):\n",
    "    for j in range(0,i+1):\n",
    "        print(\"Np\", end = \" \")\n",
    "    print(\"\\r\\r\\r\")"
   ]
  },
  {
   "cell_type": "code",
   "execution_count": null,
   "id": "d6641044",
   "metadata": {},
   "outputs": [],
   "source": [
    "n = 9\n",
    "for i in range(0,n):\n",
    "    for j in range(0,i+1):             #\\r &\\r\\r\\r work as same opertion\n",
    "        print(\"Np\", end = \" \")\n",
    "    print(\"\\r\")"
   ]
  },
  {
   "cell_type": "code",
   "execution_count": null,
   "id": "96156925",
   "metadata": {},
   "outputs": [],
   "source": [
    "n = 9\n",
    "for i in range(0,n):\n",
    "    for j in range(0,i+1):\n",
    "        print(\"Np\", end = \" \")\n",
    "    print(\"\\n\\n\\n\")"
   ]
  },
  {
   "cell_type": "code",
   "execution_count": 20,
   "id": "ba30a139",
   "metadata": {},
   "outputs": [
    {
     "name": "stdout",
     "output_type": "stream",
     "text": [
      "Np \n",
      "\n",
      "\r\n",
      "Np Np \n",
      "\n",
      "\r\n",
      "Np Np Np \n",
      "\n",
      "\r\n",
      "Np Np Np Np \n",
      "\n",
      "\r\n",
      "Np Np Np Np Np \n",
      "\n",
      "\r\n",
      "Np Np Np Np Np Np \n",
      "\n",
      "\r\n",
      "Np Np Np Np Np Np Np \n",
      "\n",
      "\r\n",
      "Np Np Np Np Np Np Np Np \n",
      "\n",
      "\r\n",
      "Np Np Np Np Np Np Np Np Np \n",
      "\n",
      "\r\n"
     ]
    }
   ],
   "source": [
    "n = 9\n",
    "for i in range(0,n):\n",
    "    for j in range(0,i+1):\n",
    "        print(\"Np\", end = \" \")\n",
    "    print(\"\\n\\n\\r\")"
   ]
  },
  {
   "cell_type": "code",
   "execution_count": 21,
   "id": "7aa940e1",
   "metadata": {},
   "outputs": [
    {
     "name": "stdout",
     "output_type": "stream",
     "text": [
      " *\n",
      " * *\n",
      " * * *\n",
      " * * * *\n",
      " * * * * *\n",
      " * * * * * *\n",
      " * * * * * * *\n",
      " * * * * * * * *\n",
      " * * * * * * * * *\n"
     ]
    }
   ],
   "source": [
    "a = 10\n",
    "for i in range(1,a):\n",
    "    print(i* \" *\")"
   ]
  },
  {
   "cell_type": "code",
   "execution_count": 26,
   "id": "04903c56",
   "metadata": {},
   "outputs": [
    {
     "name": "stdout",
     "output_type": "stream",
     "text": [
      "\n",
      " Np\n",
      " Np Np\n",
      " Np Np Np\n",
      " Np Np Np Np\n",
      " Np Np Np Np Np\n",
      " Np Np Np Np Np Np\n",
      " Np Np Np Np Np Np Np\n",
      " Np Np Np Np Np Np Np Np\n",
      " Np Np Np Np Np Np Np Np Np\n"
     ]
    }
   ],
   "source": [
    "a = 10\n",
    "for i in range(0,a):\n",
    "    print(i*  \" Np\")"
   ]
  },
  {
   "cell_type": "code",
   "execution_count": 40,
   "id": "e607eab6",
   "metadata": {},
   "outputs": [],
   "source": [
    "t = (1,2,3,4,5,6,7,8,9)"
   ]
  },
  {
   "cell_type": "code",
   "execution_count": 41,
   "id": "55d7958f",
   "metadata": {},
   "outputs": [
    {
     "data": {
      "text/plain": [
       "(1, 2, 3, 4, 5, 6, 7, 8, 9)"
      ]
     },
     "execution_count": 41,
     "metadata": {},
     "output_type": "execute_result"
    }
   ],
   "source": [
    "t[::1]"
   ]
  },
  {
   "cell_type": "code",
   "execution_count": 42,
   "id": "6243de1f",
   "metadata": {},
   "outputs": [
    {
     "data": {
      "text/plain": [
       "(9, 8, 7, 6, 5, 4, 3, 2, 1)"
      ]
     },
     "execution_count": 42,
     "metadata": {},
     "output_type": "execute_result"
    }
   ],
   "source": [
    "t[::-1]"
   ]
  },
  {
   "cell_type": "code",
   "execution_count": 43,
   "id": "82672b39",
   "metadata": {},
   "outputs": [
    {
     "data": {
      "text/plain": [
       "(1, 2, 3, 4, 5, 6, 7, 8, 9)"
      ]
     },
     "execution_count": 43,
     "metadata": {},
     "output_type": "execute_result"
    }
   ],
   "source": [
    "t"
   ]
  },
  {
   "cell_type": "code",
   "execution_count": 44,
   "id": "d64f01b2",
   "metadata": {},
   "outputs": [
    {
     "name": "stdout",
     "output_type": "stream",
     "text": [
      "1\n",
      "2\n",
      "3\n",
      "4\n",
      "5\n",
      "6\n",
      "7\n",
      "8\n",
      "9\n"
     ]
    }
   ],
   "source": [
    "for i in t:\n",
    "    t[::-1]\n",
    "    print(i)"
   ]
  },
  {
   "cell_type": "code",
   "execution_count": 45,
   "id": "b3a7da8b",
   "metadata": {},
   "outputs": [
    {
     "ename": "TypeError",
     "evalue": "'tuple' object cannot be interpreted as an integer",
     "output_type": "error",
     "traceback": [
      "\u001b[1;31m---------------------------------------------------------------------------\u001b[0m",
      "\u001b[1;31mTypeError\u001b[0m                                 Traceback (most recent call last)",
      "\u001b[1;32m<ipython-input-45-3aff22054848>\u001b[0m in \u001b[0;36m<module>\u001b[1;34m\u001b[0m\n\u001b[1;32m----> 1\u001b[1;33m \u001b[0mlist\u001b[0m\u001b[1;33m(\u001b[0m\u001b[0mrange\u001b[0m\u001b[1;33m(\u001b[0m\u001b[0mt\u001b[0m\u001b[1;33m)\u001b[0m\u001b[1;33m)\u001b[0m\u001b[1;33m\u001b[0m\u001b[1;33m\u001b[0m\u001b[0m\n\u001b[0m",
      "\u001b[1;31mTypeError\u001b[0m: 'tuple' object cannot be interpreted as an integer"
     ]
    }
   ],
   "source": [
    "list(range(t))"
   ]
  },
  {
   "cell_type": "code",
   "execution_count": 46,
   "id": "461b829c",
   "metadata": {},
   "outputs": [
    {
     "ename": "TypeError",
     "evalue": "'tuple' object cannot be interpreted as an integer",
     "output_type": "error",
     "traceback": [
      "\u001b[1;31m---------------------------------------------------------------------------\u001b[0m",
      "\u001b[1;31mTypeError\u001b[0m                                 Traceback (most recent call last)",
      "\u001b[1;32m<ipython-input-46-d9b881c0c694>\u001b[0m in \u001b[0;36m<module>\u001b[1;34m\u001b[0m\n\u001b[1;32m----> 1\u001b[1;33m \u001b[0mlist\u001b[0m\u001b[1;33m(\u001b[0m\u001b[0mrange\u001b[0m\u001b[1;33m(\u001b[0m\u001b[0mt\u001b[0m\u001b[1;33m)\u001b[0m\u001b[1;33m,\u001b[0m \u001b[1;36m0\u001b[0m \u001b[1;33m-\u001b[0m\u001b[1;36m1\u001b[0m\u001b[1;33m)\u001b[0m\u001b[1;33m\u001b[0m\u001b[1;33m\u001b[0m\u001b[0m\n\u001b[0m",
      "\u001b[1;31mTypeError\u001b[0m: 'tuple' object cannot be interpreted as an integer"
     ]
    }
   ],
   "source": [
    "list(range(t), 0 -1)"
   ]
  },
  {
   "cell_type": "code",
   "execution_count": 47,
   "id": "c215f9a2",
   "metadata": {},
   "outputs": [
    {
     "data": {
      "text/plain": [
       "[]"
      ]
     },
     "execution_count": 47,
     "metadata": {},
     "output_type": "execute_result"
    }
   ],
   "source": [
    "list(range(len(t), 0 -1))"
   ]
  },
  {
   "cell_type": "code",
   "execution_count": 36,
   "id": "c9025366",
   "metadata": {},
   "outputs": [
    {
     "name": "stdout",
     "output_type": "stream",
     "text": [
      "0\n",
      "1\n",
      "2\n",
      "3\n",
      "4\n",
      "5\n",
      "6\n",
      "7\n",
      "8\n"
     ]
    }
   ],
   "source": [
    "for i in range(len(t)):\n",
    "    t[::-1]       # this type of reverse operation not work inside tuple\n",
    "    print(i)"
   ]
  },
  {
   "cell_type": "code",
   "execution_count": 48,
   "id": "d7d49ea0",
   "metadata": {},
   "outputs": [
    {
     "name": "stdout",
     "output_type": "stream",
     "text": [
      "0\n",
      "1\n",
      "2\n",
      "3\n",
      "4\n",
      "5\n",
      "6\n",
      "7\n",
      "8\n"
     ]
    }
   ],
   "source": [
    "for i in range(len(t)):\n",
    "    t[::1]\n",
    "    print(i)"
   ]
  },
  {
   "cell_type": "code",
   "execution_count": 49,
   "id": "f24a7e31",
   "metadata": {},
   "outputs": [
    {
     "name": "stdout",
     "output_type": "stream",
     "text": [
      "(1, 2, 3, 4, 5, 6, 7, 8, 9)\n",
      "(1, 2, 3, 4, 5, 6, 7, 8, 9)\n",
      "(1, 2, 3, 4, 5, 6, 7, 8, 9)\n",
      "(1, 2, 3, 4, 5, 6, 7, 8, 9)\n",
      "(1, 2, 3, 4, 5, 6, 7, 8, 9)\n",
      "(1, 2, 3, 4, 5, 6, 7, 8, 9)\n",
      "(1, 2, 3, 4, 5, 6, 7, 8, 9)\n",
      "(1, 2, 3, 4, 5, 6, 7, 8, 9)\n",
      "(1, 2, 3, 4, 5, 6, 7, 8, 9)\n"
     ]
    }
   ],
   "source": [
    "for i in range(len(t)):\n",
    "    t[::-1]\n",
    "    print(t)"
   ]
  },
  {
   "cell_type": "code",
   "execution_count": 50,
   "id": "b8a8ebc6",
   "metadata": {},
   "outputs": [
    {
     "data": {
      "text/plain": [
       "[]"
      ]
     },
     "execution_count": 50,
     "metadata": {},
     "output_type": "execute_result"
    }
   ],
   "source": [
    "list(range(len(t),0 -1))"
   ]
  },
  {
   "cell_type": "code",
   "execution_count": 51,
   "id": "f6bfa896",
   "metadata": {},
   "outputs": [
    {
     "ename": "IndexError",
     "evalue": "tuple index out of range",
     "output_type": "error",
     "traceback": [
      "\u001b[1;31m---------------------------------------------------------------------------\u001b[0m",
      "\u001b[1;31mIndexError\u001b[0m                                Traceback (most recent call last)",
      "\u001b[1;32m<ipython-input-51-b8369b402dcb>\u001b[0m in \u001b[0;36m<module>\u001b[1;34m\u001b[0m\n\u001b[0;32m      1\u001b[0m \u001b[1;32mfor\u001b[0m \u001b[0mi\u001b[0m \u001b[1;32min\u001b[0m \u001b[0mlist\u001b[0m\u001b[1;33m(\u001b[0m\u001b[0mrange\u001b[0m\u001b[1;33m(\u001b[0m\u001b[0mlen\u001b[0m\u001b[1;33m(\u001b[0m\u001b[0mt\u001b[0m\u001b[1;33m)\u001b[0m\u001b[1;33m,\u001b[0m \u001b[1;36m0\u001b[0m\u001b[1;33m,\u001b[0m \u001b[1;33m-\u001b[0m\u001b[1;36m1\u001b[0m\u001b[1;33m)\u001b[0m\u001b[1;33m)\u001b[0m\u001b[1;33m:\u001b[0m\u001b[1;33m\u001b[0m\u001b[1;33m\u001b[0m\u001b[0m\n\u001b[1;32m----> 2\u001b[1;33m     \u001b[0mprint\u001b[0m\u001b[1;33m(\u001b[0m\u001b[0mt\u001b[0m\u001b[1;33m[\u001b[0m\u001b[0mi\u001b[0m\u001b[1;33m]\u001b[0m\u001b[1;33m)\u001b[0m\u001b[1;33m\u001b[0m\u001b[1;33m\u001b[0m\u001b[0m\n\u001b[0m",
      "\u001b[1;31mIndexError\u001b[0m: tuple index out of range"
     ]
    }
   ],
   "source": [
    "for i in list(range(len(t), 0, -1)):\n",
    "    print(t[i])"
   ]
  },
  {
   "cell_type": "code",
   "execution_count": 52,
   "id": "db4e9f59",
   "metadata": {},
   "outputs": [
    {
     "name": "stdout",
     "output_type": "stream",
     "text": [
      "9\n",
      "8\n",
      "7\n",
      "6\n",
      "5\n",
      "4\n",
      "3\n",
      "2\n"
     ]
    }
   ],
   "source": [
    "#it work like that function t[::-1]  \n",
    "for i in list(range(len(t)-1, 0, -1)):\n",
    "    print(t[i])"
   ]
  },
  {
   "cell_type": "code",
   "execution_count": 53,
   "id": "c9d50fd1",
   "metadata": {},
   "outputs": [
    {
     "name": "stdout",
     "output_type": "stream",
     "text": [
      "9\n",
      "8\n",
      "7\n",
      "6\n",
      "5\n",
      "4\n",
      "3\n",
      "2\n",
      "1\n"
     ]
    }
   ],
   "source": [
    "for i in list(range(len(t)-1, -1, -1)):\n",
    "    print(t[i])"
   ]
  },
  {
   "cell_type": "code",
   "execution_count": 54,
   "id": "0484bf12",
   "metadata": {},
   "outputs": [],
   "source": [
    "d = {\"a\":1, \"b\":2,\"c\":3,\"d\":4,\"e\":5}"
   ]
  },
  {
   "cell_type": "code",
   "execution_count": 45,
   "id": "6bd6cd89",
   "metadata": {},
   "outputs": [
    {
     "data": {
      "text/plain": [
       "{'a': 1, 'b': 2, 'c': 3, 'd': 4, 'e': 5}"
      ]
     },
     "execution_count": 45,
     "metadata": {},
     "output_type": "execute_result"
    }
   ],
   "source": [
    "d"
   ]
  },
  {
   "cell_type": "code",
   "execution_count": 46,
   "id": "9fa845b9",
   "metadata": {},
   "outputs": [
    {
     "name": "stdout",
     "output_type": "stream",
     "text": [
      "a\n",
      "b\n",
      "c\n",
      "d\n",
      "e\n"
     ]
    }
   ],
   "source": [
    "for i in d:\n",
    "    print(i)"
   ]
  },
  {
   "cell_type": "code",
   "execution_count": 47,
   "id": "15906f85",
   "metadata": {},
   "outputs": [
    {
     "name": "stdout",
     "output_type": "stream",
     "text": [
      "1\n",
      "2\n",
      "3\n",
      "4\n",
      "5\n"
     ]
    }
   ],
   "source": [
    "for i in d:\n",
    "    print(d[i])"
   ]
  },
  {
   "cell_type": "code",
   "execution_count": 48,
   "id": "8fe5726c",
   "metadata": {},
   "outputs": [
    {
     "name": "stdout",
     "output_type": "stream",
     "text": [
      "a 1\n",
      "b 2\n",
      "c 3\n",
      "d 4\n",
      "e 5\n"
     ]
    }
   ],
   "source": [
    "for i in d:\n",
    "    print(i, d[i])"
   ]
  },
  {
   "cell_type": "code",
   "execution_count": 49,
   "id": "fb5826f5",
   "metadata": {},
   "outputs": [
    {
     "data": {
      "text/plain": [
       "3"
      ]
     },
     "execution_count": 49,
     "metadata": {},
     "output_type": "execute_result"
    }
   ],
   "source": [
    "d[\"c\"]"
   ]
  },
  {
   "cell_type": "code",
   "execution_count": 50,
   "id": "29a5292a",
   "metadata": {},
   "outputs": [
    {
     "data": {
      "text/plain": [
       "1"
      ]
     },
     "execution_count": 50,
     "metadata": {},
     "output_type": "execute_result"
    }
   ],
   "source": [
    "d['a']"
   ]
  },
  {
   "cell_type": "code",
   "execution_count": 51,
   "id": "273b80f1",
   "metadata": {},
   "outputs": [
    {
     "data": {
      "text/plain": [
       "4"
      ]
     },
     "execution_count": 51,
     "metadata": {},
     "output_type": "execute_result"
    }
   ],
   "source": [
    "d[\"d\"]"
   ]
  },
  {
   "cell_type": "code",
   "execution_count": 52,
   "id": "06d58a94",
   "metadata": {},
   "outputs": [
    {
     "data": {
      "text/plain": [
       "dict_items([('a', 1), ('b', 2), ('c', 3), ('d', 4), ('e', 5)])"
      ]
     },
     "execution_count": 52,
     "metadata": {},
     "output_type": "execute_result"
    }
   ],
   "source": [
    "d.items()"
   ]
  },
  {
   "cell_type": "code",
   "execution_count": 53,
   "id": "aef8e749",
   "metadata": {},
   "outputs": [
    {
     "data": {
      "text/plain": [
       "dict_keys(['a', 'b', 'c', 'd', 'e'])"
      ]
     },
     "execution_count": 53,
     "metadata": {},
     "output_type": "execute_result"
    }
   ],
   "source": [
    "d.keys()"
   ]
  },
  {
   "cell_type": "code",
   "execution_count": 54,
   "id": "93d73232",
   "metadata": {},
   "outputs": [
    {
     "data": {
      "text/plain": [
       "dict_values([1, 2, 3, 4, 5])"
      ]
     },
     "execution_count": 54,
     "metadata": {},
     "output_type": "execute_result"
    }
   ],
   "source": [
    "d.values()"
   ]
  },
  {
   "cell_type": "code",
   "execution_count": 55,
   "id": "15b483d6",
   "metadata": {},
   "outputs": [
    {
     "name": "stdout",
     "output_type": "stream",
     "text": [
      "('a', 1)\n",
      "('b', 2)\n",
      "('c', 3)\n",
      "('d', 4)\n",
      "('e', 5)\n"
     ]
    }
   ],
   "source": [
    "for i in d.items():\n",
    "    \n",
    "    print(i)"
   ]
  },
  {
   "cell_type": "code",
   "execution_count": 56,
   "id": "de92a8de",
   "metadata": {},
   "outputs": [],
   "source": [
    "s = \"this is a basic pythan class\""
   ]
  },
  {
   "cell_type": "code",
   "execution_count": 57,
   "id": "f90e024b",
   "metadata": {},
   "outputs": [
    {
     "data": {
      "text/plain": [
       "28"
      ]
     },
     "execution_count": 57,
     "metadata": {},
     "output_type": "execute_result"
    }
   ],
   "source": [
    "len(s)"
   ]
  },
  {
   "cell_type": "code",
   "execution_count": 60,
   "id": "c8d2697d",
   "metadata": {},
   "outputs": [
    {
     "name": "stdout",
     "output_type": "stream",
     "text": [
      "t\n",
      "h\n",
      "i\n",
      "s\n",
      " \n",
      "i\n",
      "s\n",
      " \n",
      "a\n",
      " \n",
      "b\n",
      "a\n",
      "s\n",
      "i\n",
      "c\n",
      " \n",
      "p\n",
      "y\n",
      "t\n",
      "h\n",
      "a\n",
      "n\n",
      " \n",
      "c\n",
      "l\n",
      "a\n",
      "s\n",
      "s\n"
     ]
    }
   ],
   "source": [
    "count = 0\n",
    "for i in s:\n",
    "    count = count + 1\n",
    "    print(i)"
   ]
  },
  {
   "cell_type": "code",
   "execution_count": 61,
   "id": "d057b3ff",
   "metadata": {},
   "outputs": [
    {
     "name": "stdout",
     "output_type": "stream",
     "text": [
      "t\n",
      "h\n",
      "i\n",
      "s\n",
      " \n",
      "i\n",
      "s\n",
      " \n",
      "a\n",
      " \n",
      "b\n",
      "a\n",
      "s\n",
      "i\n",
      "c\n",
      " \n",
      "p\n",
      "y\n",
      "t\n",
      "h\n",
      "a\n",
      "n\n",
      " \n",
      "c\n",
      "l\n",
      "a\n",
      "s\n",
      "s\n"
     ]
    }
   ],
   "source": [
    "for i in s:\n",
    "    count = count + 1\n",
    "    print(i)"
   ]
  },
  {
   "cell_type": "code",
   "execution_count": 62,
   "id": "b74ac1e6",
   "metadata": {},
   "outputs": [
    {
     "name": "stdout",
     "output_type": "stream",
     "text": [
      "1\n",
      "2\n",
      "3\n",
      "4\n",
      "5\n",
      "6\n",
      "7\n",
      "8\n",
      "9\n",
      "10\n",
      "11\n",
      "12\n",
      "13\n",
      "14\n",
      "15\n",
      "16\n",
      "17\n",
      "18\n",
      "19\n",
      "20\n",
      "21\n",
      "22\n",
      "23\n",
      "24\n",
      "25\n",
      "26\n",
      "27\n",
      "28\n"
     ]
    }
   ],
   "source": [
    "count = 0\n",
    "for i in s:\n",
    "    count = count + 1\n",
    "    print(count)"
   ]
  },
  {
   "cell_type": "code",
   "execution_count": 63,
   "id": "b6e9fe65",
   "metadata": {},
   "outputs": [
    {
     "name": "stdout",
     "output_type": "stream",
     "text": [
      "28\n"
     ]
    }
   ],
   "source": [
    "count = 0\n",
    "for i in s:\n",
    "    count = count + 1\n",
    "print(count)"
   ]
  },
  {
   "cell_type": "code",
   "execution_count": 64,
   "id": "9a6937d0",
   "metadata": {},
   "outputs": [
    {
     "name": "stdout",
     "output_type": "stream",
     "text": [
      "1 t\n",
      "2 h\n",
      "3 i\n",
      "4 s\n",
      "5  \n",
      "6 i\n",
      "7 s\n",
      "8  \n",
      "9 a\n",
      "10  \n",
      "11 b\n",
      "12 a\n",
      "13 s\n",
      "14 i\n",
      "15 c\n",
      "16  \n",
      "17 p\n",
      "18 y\n",
      "19 t\n",
      "20 h\n",
      "21 a\n",
      "22 n\n",
      "23  \n",
      "24 c\n",
      "25 l\n",
      "26 a\n",
      "27 s\n",
      "28 s\n"
     ]
    }
   ],
   "source": [
    "count = 0\n",
    "for i in s:\n",
    "    count = count + 1\n",
    "    print(count,i)"
   ]
  },
  {
   "cell_type": "code",
   "execution_count": 65,
   "id": "8b35cb31",
   "metadata": {},
   "outputs": [
    {
     "name": "stdout",
     "output_type": "stream",
     "text": [
      "1\n",
      "2\n",
      "3\n",
      "4\n",
      "5\n",
      "6\n",
      "7\n",
      "8\n",
      "9\n",
      "10\n",
      "11\n",
      "12\n",
      "13\n",
      "14\n",
      "15\n",
      "16\n",
      "17\n",
      "18\n",
      "19\n",
      "20\n",
      "21\n",
      "22\n",
      "23\n",
      "24\n",
      "25\n",
      "26\n",
      "27\n",
      "28\n"
     ]
    }
   ],
   "source": [
    "count = 0\n",
    "for i in s:\n",
    "    count+= 1\n",
    "    print(count)"
   ]
  },
  {
   "cell_type": "code",
   "execution_count": 66,
   "id": "db53d01d",
   "metadata": {},
   "outputs": [
    {
     "name": "stdout",
     "output_type": "stream",
     "text": [
      "1 t\n",
      "2 h\n",
      "3 i\n",
      "4 s\n",
      "5  \n",
      "6 i\n",
      "7 s\n",
      "8  \n",
      "9 a\n",
      "10  \n",
      "11 b\n",
      "12 a\n",
      "13 s\n",
      "14 i\n",
      "15 c\n",
      "16  \n",
      "17 p\n",
      "18 y\n",
      "19 t\n",
      "20 h\n",
      "21 a\n",
      "22 n\n",
      "23  \n",
      "24 c\n",
      "25 l\n",
      "26 a\n",
      "27 s\n",
      "28 s\n"
     ]
    }
   ],
   "source": [
    "count = 0\n",
    "for i in s:\n",
    "    count+= 1\n",
    "    print(count,i)"
   ]
  },
  {
   "cell_type": "code",
   "execution_count": 67,
   "id": "6c8deba1",
   "metadata": {},
   "outputs": [
    {
     "data": {
      "text/plain": [
       "'ssalc nahtyp cisab a si siht'"
      ]
     },
     "execution_count": 67,
     "metadata": {},
     "output_type": "execute_result"
    }
   ],
   "source": [
    "s[::-1]"
   ]
  },
  {
   "cell_type": "code",
   "execution_count": 68,
   "id": "5a7516a9",
   "metadata": {},
   "outputs": [
    {
     "name": "stdout",
     "output_type": "stream",
     "text": [
      "s\n",
      "s\n",
      "a\n",
      "l\n",
      "c\n",
      " \n",
      "n\n",
      "a\n",
      "h\n",
      "t\n",
      "y\n",
      "p\n",
      " \n",
      "c\n",
      "i\n",
      "s\n",
      "a\n",
      "b\n",
      " \n",
      "a\n",
      " \n",
      "s\n",
      "i\n",
      " \n",
      "s\n",
      "i\n",
      "h\n",
      "t\n"
     ]
    }
   ],
   "source": [
    "for i in range(len(s)-1,-1,-1):\n",
    "    print(s[i])"
   ]
  },
  {
   "cell_type": "code",
   "execution_count": 69,
   "id": "5f91bbbb",
   "metadata": {},
   "outputs": [
    {
     "name": "stdout",
     "output_type": "stream",
     "text": [
      "s[i] \n",
      "\n",
      "s[i] \n",
      "\n",
      "s[i] \n",
      "\n",
      "s[i] \n",
      "\n",
      "s[i] \n",
      "\n",
      "s[i] \n",
      "\n",
      "s[i] \n",
      "\n",
      "s[i] \n",
      "\n",
      "s[i] \n",
      "\n",
      "s[i] \n",
      "\n",
      "s[i] \n",
      "\n",
      "s[i] \n",
      "\n",
      "s[i] \n",
      "\n",
      "s[i] \n",
      "\n",
      "s[i] \n",
      "\n",
      "s[i] \n",
      "\n",
      "s[i] \n",
      "\n",
      "s[i] \n",
      "\n",
      "s[i] \n",
      "\n",
      "s[i] \n",
      "\n",
      "s[i] \n",
      "\n",
      "s[i] \n",
      "\n",
      "s[i] \n",
      "\n",
      "s[i] \n",
      "\n",
      "s[i] \n",
      "\n",
      "s[i] \n",
      "\n",
      "s[i] \n",
      "\n",
      "s[i] \n",
      "\n"
     ]
    }
   ],
   "source": [
    "for i in range(len(s)-1,-1,-1):\n",
    "    print('s[i]', end = \" \")\n",
    "    print(\"\\n\")"
   ]
  },
  {
   "cell_type": "code",
   "execution_count": 70,
   "id": "a060ce8c",
   "metadata": {},
   "outputs": [
    {
     "name": "stdout",
     "output_type": "stream",
     "text": [
      "s \n",
      "\n",
      "s \n",
      "\n",
      "a \n",
      "\n",
      "l \n",
      "\n",
      "c \n",
      "\n",
      "  \n",
      "\n",
      "n \n",
      "\n",
      "a \n",
      "\n",
      "h \n",
      "\n",
      "t \n",
      "\n",
      "y \n",
      "\n",
      "p \n",
      "\n",
      "  \n",
      "\n",
      "c \n",
      "\n",
      "i \n",
      "\n",
      "s \n",
      "\n",
      "a \n",
      "\n",
      "b \n",
      "\n",
      "  \n",
      "\n",
      "a \n",
      "\n",
      "  \n",
      "\n",
      "s \n",
      "\n",
      "i \n",
      "\n",
      "  \n",
      "\n",
      "s \n",
      "\n",
      "i \n",
      "\n",
      "h \n",
      "\n",
      "t \n",
      "\n"
     ]
    }
   ],
   "source": [
    "for i in range(len(s)-1,-1,-1):\n",
    "    print(s[i], end = \" \")\n",
    "    print(\"\\n\")"
   ]
  },
  {
   "cell_type": "code",
   "execution_count": null,
   "id": "6adb70a8",
   "metadata": {},
   "outputs": [],
   "source": [
    "s"
   ]
  },
  {
   "cell_type": "code",
   "execution_count": 71,
   "id": "e4573c32",
   "metadata": {},
   "outputs": [
    {
     "name": "stdout",
     "output_type": "stream",
     "text": [
      "s s a l c   n a h t y p   c i s a b   a   s i   s i h t "
     ]
    }
   ],
   "source": [
    "i = len(s)-1\n",
    "while (i >= 0):\n",
    "    print(s[i],  end =\" \")\n",
    "    i = i-1"
   ]
  },
  {
   "cell_type": "code",
   "execution_count": null,
   "id": "c3267827",
   "metadata": {},
   "outputs": [],
   "source": [
    "i = len(s)-1\n",
    "while (i >= 0):\n",
    "    print(s[i], end = \"\")\n",
    "    i = i-1"
   ]
  },
  {
   "cell_type": "code",
   "execution_count": null,
   "id": "e531d5a3",
   "metadata": {},
   "outputs": [],
   "source": [
    "for i in s:\n",
    "    print(i,end = \"\")  #end = \"\"   - is used for converting vertical data into horizental form\n",
    "    "
   ]
  },
  {
   "cell_type": "code",
   "execution_count": null,
   "id": "e1d4fa18",
   "metadata": {},
   "outputs": [],
   "source": [
    "s"
   ]
  },
  {
   "cell_type": "code",
   "execution_count": null,
   "id": "00cdc99e",
   "metadata": {},
   "outputs": [],
   "source": []
  },
  {
   "cell_type": "code",
   "execution_count": 4,
   "id": "3e12e4d3",
   "metadata": {},
   "outputs": [
    {
     "name": "stdout",
     "output_type": "stream",
     "text": [
      "vowel i\n",
      "not vowel n\n",
      "vowel e\n",
      "vowel u\n",
      "not vowel r\n",
      "vowel o\n",
      "not vowel n\n"
     ]
    }
   ],
   "source": [
    "s = \"ineuron\"\n",
    "v =\"AaEeIiOoUu\"\n",
    "for i in s:\n",
    "    if i in v:\n",
    "        print('vowel',i)\n",
    "    else:\n",
    "        print(\"not vowel\",i)"
   ]
  },
  {
   "cell_type": "code",
   "execution_count": 5,
   "id": "f53382db",
   "metadata": {},
   "outputs": [
    {
     "name": "stdout",
     "output_type": "stream",
     "text": [
      "this is a pelendrom\n"
     ]
    }
   ],
   "source": [
    "s = \"tnent\"\n",
    "if s[::-1] == s:\n",
    "    print(\"this is a pelendrom\")\n",
    "else:\n",
    "    print(\"this is not pelendrom\")"
   ]
  },
  {
   "cell_type": "code",
   "execution_count": 2,
   "id": "e5b41d2a",
   "metadata": {},
   "outputs": [],
   "source": [
    "s= \"tnent\""
   ]
  },
  {
   "cell_type": "code",
   "execution_count": null,
   "id": "6b97adaa",
   "metadata": {},
   "outputs": [],
   "source": [
    "s[::-1]"
   ]
  },
  {
   "cell_type": "code",
   "execution_count": 3,
   "id": "d9a1a734",
   "metadata": {},
   "outputs": [
    {
     "name": "stdout",
     "output_type": "stream",
     "text": [
      "this is a pelendrom\n"
     ]
    }
   ],
   "source": [
    "s = \"tnent\"\n",
    "s1= s[::-1]\n",
    "if s==s1:\n",
    "    print(\"this is a pelendrom\")\n",
    "else:\n",
    "    print(\"this is not pelendrom\")"
   ]
  },
  {
   "cell_type": "code",
   "execution_count": null,
   "id": "f53fb96e",
   "metadata": {},
   "outputs": [],
   "source": [
    "s = (input())\n",
    "s1= s[::-1]\n",
    "if s==s1:\n",
    "    print(\"this is a pelendrom\")\n",
    "else:\n",
    "    print(\"this is not pelendrom\")"
   ]
  },
  {
   "cell_type": "code",
   "execution_count": null,
   "id": "9e5c83a8",
   "metadata": {},
   "outputs": [],
   "source": [
    "s = (input())\n",
    "s1= s[::-1]\n",
    "if s==s1:\n",
    "    print(\"this is a pelendrom\")\n",
    "else:\n",
    "    print(\"this is not pelendrom\")"
   ]
  },
  {
   "cell_type": "code",
   "execution_count": null,
   "id": "c56bff8b",
   "metadata": {},
   "outputs": [],
   "source": [
    "s = (input())\n",
    "s1= s[::-1]\n",
    "if s==s1:\n",
    "    print(\"this is a pelendrom\")\n",
    "else:\n",
    "    print(\"this is not pelendrom\")"
   ]
  },
  {
   "cell_type": "code",
   "execution_count": null,
   "id": "b14081ed",
   "metadata": {},
   "outputs": [],
   "source": [
    "s = \"malayalam\"\n",
    "if s == s[::-1]:\n",
    "    print(\"the word is pelendrom\")\n",
    "else:\n",
    "    print(\"the word is not pelendrom\")"
   ]
  },
  {
   "cell_type": "code",
   "execution_count": null,
   "id": "ce5e96a2",
   "metadata": {},
   "outputs": [],
   "source": [
    "s = input()\n",
    "v =  s[::-1]\n",
    "if s==v:\n",
    "    print('this is pelendrom',s)\n",
    "else:\n",
    "    print(\"this is not pelendrom\")"
   ]
  },
  {
   "cell_type": "code",
   "execution_count": null,
   "id": "9b5c94ba",
   "metadata": {},
   "outputs": [],
   "source": [
    "s = input()\n",
    "v =  s[::-1]\n",
    "if s==v:\n",
    "    print('this is pelendrom',s)\n",
    "else:\n",
    "    print(\"this is not pelendrom\")"
   ]
  },
  {
   "cell_type": "code",
   "execution_count": 9,
   "id": "a64da1c4",
   "metadata": {},
   "outputs": [
    {
     "name": "stdout",
     "output_type": "stream",
     "text": [
      "malayalam\n",
      "pelendrom\n"
     ]
    }
   ],
   "source": [
    "a = input()\n",
    "for i in range(len(a)):\n",
    "    if a[i]!=a[len(a)-i-1]:\n",
    "        print(\"not pelendrom\")\n",
    "        break\n",
    "else:\n",
    "    print(\"pelendrom\")\n",
    "    "
   ]
  },
  {
   "cell_type": "code",
   "execution_count": null,
   "id": "7c035b42",
   "metadata": {},
   "outputs": [],
   "source": [
    "s = input()\n",
    "f = \"\"\n",
    "i = len(s)-1\n",
    "\n",
    "while (i >=0 ):           #this is reverse operation\n",
    "    f = f + s[i]\n",
    "    i = i - 1\n",
    "if(s == f):\n",
    "    print(\"pelendrom\")\n",
    "else:\n",
    "    print(\"not pelemdrom\")"
   ]
  },
  {
   "cell_type": "code",
   "execution_count": null,
   "id": "30e4a820",
   "metadata": {},
   "outputs": [],
   "source": [
    "x = \"malayalam\"\n",
    "w = \"\"\n",
    "for i in x:\n",
    "    w = i+w\n",
    "if (x==w):\n",
    "    print(\"pelendrom\")\n",
    "else:\n",
    "    print(\"not pelendrom\")"
   ]
  },
  {
   "cell_type": "code",
   "execution_count": 6,
   "id": "bae6ad1f",
   "metadata": {},
   "outputs": [
    {
     "name": "stdout",
     "output_type": "stream",
     "text": [
      "not pelendrom\n"
     ]
    }
   ],
   "source": [
    "x = \"chitah\"\n",
    "w = \"\"\n",
    "for i in x:\n",
    "    w = i+w\n",
    "if (x==w):\n",
    "    print(\"pelendrom\")\n",
    "else:\n",
    "    print(\"not pelendrom\")"
   ]
  },
  {
   "cell_type": "code",
   "execution_count": 18,
   "id": "3d5ec59e",
   "metadata": {},
   "outputs": [
    {
     "name": "stdout",
     "output_type": "stream",
     "text": [
      "my name is sudh\n",
      "not pelendrom\n"
     ]
    }
   ],
   "source": [
    "x = input()\n",
    "w = \"\"\n",
    "for i in x:\n",
    "    w = i+w\n",
    "if (x==w):\n",
    "    print(\"pelendrom\")\n",
    "else:\n",
    "    print(\"not pelendrom\")"
   ]
  },
  {
   "cell_type": "code",
   "execution_count": null,
   "id": "9f7251d9",
   "metadata": {},
   "outputs": [],
   "source": [
    "x = \"eye\"\n",
    "w = \"\"\n",
    "for i in x:\n",
    "    w = i+w\n",
    "if (x==w):\n",
    "    print(\"pelendrom\")\n",
    "else:\n",
    "    print(\"not pelendrom\")"
   ]
  },
  {
   "cell_type": "code",
   "execution_count": 20,
   "id": "0756b10b",
   "metadata": {},
   "outputs": [
    {
     "name": "stdout",
     "output_type": "stream",
     "text": [
      "5\n",
      "just pass\n"
     ]
    }
   ],
   "source": [
    "a = int(input())\n",
    "if a > 10 :\n",
    "    print(\"pass\") \n",
    "elif a < 10 :\n",
    "    print (\"just pass\") \n",
    "elif a < 10 :\n",
    "    print (\"fail\")"
   ]
  },
  {
   "cell_type": "code",
   "execution_count": null,
   "id": "51273aa8",
   "metadata": {},
   "outputs": [],
   "source": []
  },
  {
   "cell_type": "code",
   "execution_count": 8,
   "id": "99ecc657",
   "metadata": {},
   "outputs": [],
   "source": [
    "d = {\"india\": \"IN\",\"canada\":\"CA\",\"china\":\"CH\",\"united_state\":\"US\"}"
   ]
  },
  {
   "cell_type": "code",
   "execution_count": 9,
   "id": "136ab044",
   "metadata": {},
   "outputs": [
    {
     "data": {
      "text/plain": [
       "{'india': 'IN', 'canada': 'CA', 'china': 'CH', 'united_state': 'US'}"
      ]
     },
     "execution_count": 9,
     "metadata": {},
     "output_type": "execute_result"
    }
   ],
   "source": [
    "d"
   ]
  },
  {
   "cell_type": "code",
   "execution_count": 10,
   "id": "243d8c42",
   "metadata": {},
   "outputs": [
    {
     "data": {
      "text/plain": [
       "True"
      ]
     },
     "execution_count": 10,
     "metadata": {},
     "output_type": "execute_result"
    }
   ],
   "source": [
    "'india' in d"
   ]
  },
  {
   "cell_type": "code",
   "execution_count": 11,
   "id": "1c307e2c",
   "metadata": {},
   "outputs": [
    {
     "data": {
      "text/plain": [
       "True"
      ]
     },
     "execution_count": 11,
     "metadata": {},
     "output_type": "execute_result"
    }
   ],
   "source": [
    "\"china\" in d"
   ]
  },
  {
   "cell_type": "code",
   "execution_count": 12,
   "id": "d628a05c",
   "metadata": {},
   "outputs": [
    {
     "data": {
      "text/plain": [
       "dict_keys(['india', 'canada', 'china', 'united_state'])"
      ]
     },
     "execution_count": 12,
     "metadata": {},
     "output_type": "execute_result"
    }
   ],
   "source": [
    "d.keys()"
   ]
  },
  {
   "cell_type": "code",
   "execution_count": 13,
   "id": "315be407",
   "metadata": {},
   "outputs": [
    {
     "data": {
      "text/plain": [
       "dict_values(['IN', 'CA', 'CH', 'US'])"
      ]
     },
     "execution_count": 13,
     "metadata": {},
     "output_type": "execute_result"
    }
   ],
   "source": [
    "d.values()"
   ]
  },
  {
   "cell_type": "code",
   "execution_count": 16,
   "id": "760b32b2",
   "metadata": {},
   "outputs": [
    {
     "name": "stdout",
     "output_type": "stream",
     "text": [
      "india\n",
      "china\n"
     ]
    }
   ],
   "source": [
    "for i in d.keys():\n",
    "    if len(i)<=5:\n",
    "        print(i)"
   ]
  },
  {
   "cell_type": "code",
   "execution_count": 17,
   "id": "c4146591",
   "metadata": {},
   "outputs": [
    {
     "name": "stdout",
     "output_type": "stream",
     "text": [
      "canada\n",
      "united_state\n"
     ]
    }
   ],
   "source": [
    "\n",
    "for i in d.keys():\n",
    "    if len(i)>5:\n",
    "        print(i)"
   ]
  },
  {
   "cell_type": "code",
   "execution_count": 18,
   "id": "d487599f",
   "metadata": {},
   "outputs": [
    {
     "name": "stdout",
     "output_type": "stream",
     "text": [
      "mgjftdrfuy\n"
     ]
    },
    {
     "ename": "AttributeError",
     "evalue": "'str' object has no attribute 'keys'",
     "output_type": "error",
     "traceback": [
      "\u001b[1;31m---------------------------------------------------------------------------\u001b[0m",
      "\u001b[1;31mAttributeError\u001b[0m                            Traceback (most recent call last)",
      "\u001b[1;32m<ipython-input-18-f9b08f34f507>\u001b[0m in \u001b[0;36m<module>\u001b[1;34m\u001b[0m\n\u001b[0;32m      1\u001b[0m \u001b[0ms\u001b[0m \u001b[1;33m=\u001b[0m \u001b[0minput\u001b[0m\u001b[1;33m(\u001b[0m\u001b[1;33m)\u001b[0m\u001b[1;33m\u001b[0m\u001b[1;33m\u001b[0m\u001b[0m\n\u001b[1;32m----> 2\u001b[1;33m \u001b[1;32mfor\u001b[0m \u001b[0mi\u001b[0m \u001b[1;32min\u001b[0m \u001b[0ms\u001b[0m\u001b[1;33m.\u001b[0m\u001b[0mkeys\u001b[0m\u001b[1;33m(\u001b[0m\u001b[1;33m)\u001b[0m\u001b[1;33m:\u001b[0m\u001b[1;33m\u001b[0m\u001b[1;33m\u001b[0m\u001b[0m\n\u001b[0m\u001b[0;32m      3\u001b[0m     \u001b[1;32mif\u001b[0m \u001b[0mlen\u001b[0m\u001b[1;33m(\u001b[0m\u001b[0mi\u001b[0m\u001b[1;33m)\u001b[0m\u001b[1;33m>\u001b[0m\u001b[1;36m5\u001b[0m\u001b[1;33m:\u001b[0m\u001b[1;33m\u001b[0m\u001b[1;33m\u001b[0m\u001b[0m\n\u001b[0;32m      4\u001b[0m         \u001b[0mprint\u001b[0m\u001b[1;33m(\u001b[0m\u001b[0mi\u001b[0m\u001b[1;33m)\u001b[0m\u001b[1;33m\u001b[0m\u001b[1;33m\u001b[0m\u001b[0m\n",
      "\u001b[1;31mAttributeError\u001b[0m: 'str' object has no attribute 'keys'"
     ]
    }
   ],
   "source": [
    "s = input()\n",
    "for i in s.keys():\n",
    "    if len(i)>5:\n",
    "        print(i)"
   ]
  },
  {
   "cell_type": "code",
   "execution_count": 29,
   "id": "8b6d4f6b",
   "metadata": {},
   "outputs": [
    {
     "name": "stdout",
     "output_type": "stream",
     "text": [
      "india\n",
      "canada\n",
      "china\n",
      "united_state\n"
     ]
    }
   ],
   "source": [
    "for i in d:\n",
    "    print(i)"
   ]
  },
  {
   "cell_type": "code",
   "execution_count": 19,
   "id": "ca49a85e",
   "metadata": {},
   "outputs": [],
   "source": [
    "l_smaller = []\n",
    "l_greater = []\n",
    "for i in d:\n",
    "    if len(i) <= 5:\n",
    "        l_smaller.append(i)\n",
    "    else:\n",
    "        l_greater.append(i)\n",
    "        "
   ]
  },
  {
   "cell_type": "code",
   "execution_count": 20,
   "id": "a4846ed5",
   "metadata": {},
   "outputs": [
    {
     "data": {
      "text/plain": [
       "['india', 'china']"
      ]
     },
     "execution_count": 20,
     "metadata": {},
     "output_type": "execute_result"
    }
   ],
   "source": [
    "l_smaller"
   ]
  },
  {
   "cell_type": "code",
   "execution_count": 21,
   "id": "06ecd161",
   "metadata": {},
   "outputs": [
    {
     "data": {
      "text/plain": [
       "['canada', 'united_state']"
      ]
     },
     "execution_count": 21,
     "metadata": {},
     "output_type": "execute_result"
    }
   ],
   "source": [
    "l_greater"
   ]
  },
  {
   "cell_type": "code",
   "execution_count": 8,
   "id": "399578ac",
   "metadata": {},
   "outputs": [],
   "source": [
    "d = {\"ineuron\":{\n",
    "    \"a\":14,\n",
    "    \"b\":10,\n",
    "    \"c\":4\n",
    "     },\n",
    "     \"course\":{\"d\":85,\n",
    "              \"e\":47,\n",
    "              \"f\":12\n",
    "              } \n",
    "    \n",
    "    \n",
    "    }"
   ]
  },
  {
   "cell_type": "code",
   "execution_count": 9,
   "id": "0c75599c",
   "metadata": {},
   "outputs": [
    {
     "data": {
      "text/plain": [
       "{'ineuron': {'a': 14, 'b': 10, 'c': 4}, 'course': {'d': 85, 'e': 47, 'f': 12}}"
      ]
     },
     "execution_count": 9,
     "metadata": {},
     "output_type": "execute_result"
    }
   ],
   "source": [
    "d"
   ]
  },
  {
   "cell_type": "code",
   "execution_count": 10,
   "id": "648dcd38",
   "metadata": {},
   "outputs": [],
   "source": [
    "l_smaller = []\n",
    "l_greater = []\n",
    "for i in d.values():\n",
    "    if max(i.values()):\n",
    "        l_smaller.append(i.values())\n",
    "    else:\n",
    "        l_greater.append(i.values())\n",
    "    "
   ]
  },
  {
   "cell_type": "code",
   "execution_count": 11,
   "id": "2227b9e0",
   "metadata": {},
   "outputs": [
    {
     "data": {
      "text/plain": [
       "[dict_values([14, 10, 4]), dict_values([85, 47, 12])]"
      ]
     },
     "execution_count": 11,
     "metadata": {},
     "output_type": "execute_result"
    }
   ],
   "source": [
    "l_smaller"
   ]
  },
  {
   "cell_type": "code",
   "execution_count": 12,
   "id": "b0e3a448",
   "metadata": {},
   "outputs": [
    {
     "data": {
      "text/plain": [
       "[]"
      ]
     },
     "execution_count": 12,
     "metadata": {},
     "output_type": "execute_result"
    }
   ],
   "source": [
    "l_greater"
   ]
  },
  {
   "cell_type": "code",
   "execution_count": 41,
   "id": "30e30e45",
   "metadata": {},
   "outputs": [
    {
     "name": "stdout",
     "output_type": "stream",
     "text": [
      "14\n",
      "85\n"
     ]
    }
   ],
   "source": [
    "for i in d.values():\n",
    "    print(max(i.values()))"
   ]
  },
  {
   "cell_type": "code",
   "execution_count": 42,
   "id": "0f6bcdfe",
   "metadata": {},
   "outputs": [
    {
     "name": "stdout",
     "output_type": "stream",
     "text": [
      "4\n",
      "12\n"
     ]
    }
   ],
   "source": [
    "for i in d.values():\n",
    "    print(min(i.values()))"
   ]
  },
  {
   "cell_type": "code",
   "execution_count": 43,
   "id": "0d237f90",
   "metadata": {},
   "outputs": [],
   "source": [
    "d = {\"ineuron\":{\n",
    "    \"a\":14,\n",
    "    \"b\":10,\n",
    "    \"c\":4                      #Nested dictionary\n",
    "     },\n",
    "     \"course\":{\"d\":85,\n",
    "              \"e\":47,\n",
    "              \"f\":12\n",
    "              } \n",
    "    \n",
    "    \n",
    "    }"
   ]
  },
  {
   "cell_type": "code",
   "execution_count": 46,
   "id": "36ffe3a9",
   "metadata": {},
   "outputs": [
    {
     "name": "stdout",
     "output_type": "stream",
     "text": [
      "14\n",
      "10\n",
      "4\n",
      "85\n",
      "47\n",
      "12\n"
     ]
    }
   ],
   "source": [
    "for i in d.values():\n",
    "    for j in i.values():\n",
    "        print(j)"
   ]
  },
  {
   "cell_type": "code",
   "execution_count": 47,
   "id": "c7ea23fe",
   "metadata": {},
   "outputs": [
    {
     "name": "stdout",
     "output_type": "stream",
     "text": [
      "14\n",
      "85\n"
     ]
    }
   ],
   "source": [
    "l1 = []\n",
    "for i in d.values():\n",
    "    for j in i.values():\n",
    "        l1.append(j)\n",
    "    print(max(l1))\n"
   ]
  },
  {
   "cell_type": "code",
   "execution_count": 48,
   "id": "bb2017d1",
   "metadata": {},
   "outputs": [
    {
     "name": "stdout",
     "output_type": "stream",
     "text": [
      "4\n",
      "4\n"
     ]
    }
   ],
   "source": [
    "l1 = []\n",
    "for i in d.values():\n",
    "    for j in i.values():\n",
    "        l1.append(j)\n",
    "    print(min(l1))\n"
   ]
  },
  {
   "cell_type": "code",
   "execution_count": 49,
   "id": "591668d4",
   "metadata": {},
   "outputs": [
    {
     "name": "stdout",
     "output_type": "stream",
     "text": [
      "14\n",
      "85\n"
     ]
    }
   ],
   "source": [
    "for i in d.values():\n",
    "    mx = 0\n",
    "    for j in i.values():\n",
    "        if mx < j:\n",
    "            mx = j\n",
    "    print(mx)"
   ]
  },
  {
   "cell_type": "code",
   "execution_count": 50,
   "id": "e70ffe9e",
   "metadata": {},
   "outputs": [
    {
     "data": {
      "text/plain": [
       "{'ineuron': {'a': 14, 'b': 10, 'c': 4}, 'course': {'d': 85, 'e': 47, 'f': 12}}"
      ]
     },
     "execution_count": 50,
     "metadata": {},
     "output_type": "execute_result"
    }
   ],
   "source": [
    " d"
   ]
  },
  {
   "cell_type": "code",
   "execution_count": 51,
   "id": "712bad79",
   "metadata": {},
   "outputs": [],
   "source": [
    "d1 = {'ineuron': {'a': 14, 'b': 10, 'c': 4}, 'course': {'d': 85, 'e': 47, 'f': 12}, \"g\": 34 , \"h\":[95,24,36], \"i\": (45,25,16), \"k\": \"sudh\"}"
   ]
  },
  {
   "cell_type": "code",
   "execution_count": 52,
   "id": "080a55c6",
   "metadata": {},
   "outputs": [
    {
     "data": {
      "text/plain": [
       "{'ineuron': {'a': 14, 'b': 10, 'c': 4},\n",
       " 'course': {'d': 85, 'e': 47, 'f': 12},\n",
       " 'g': 34,\n",
       " 'h': [95, 24, 36],\n",
       " 'i': (45, 25, 16),\n",
       " 'k': 'sudh'}"
      ]
     },
     "execution_count": 52,
     "metadata": {},
     "output_type": "execute_result"
    }
   ],
   "source": [
    "d1"
   ]
  },
  {
   "cell_type": "code",
   "execution_count": 53,
   "id": "f455ab8f",
   "metadata": {},
   "outputs": [
    {
     "name": "stdout",
     "output_type": "stream",
     "text": [
      "95\n"
     ]
    }
   ],
   "source": [
    "l = []\n",
    "for i in d1.values():\n",
    "    if type(i)==dict:\n",
    "        l.append(max(i.values()))\n",
    "    elif type(i)==list:\n",
    "        l.append(max(i))\n",
    "    elif type(i)==tuple:\n",
    "        l.append(max(i))\n",
    "    elif type(i)==str:\n",
    "        pass\n",
    "    else:\n",
    "        l.append(i)\n",
    "print(max(l))"
   ]
  },
  {
   "cell_type": "code",
   "execution_count": 54,
   "id": "282be5c9",
   "metadata": {},
   "outputs": [
    {
     "name": "stdout",
     "output_type": "stream",
     "text": [
      "95\n"
     ]
    }
   ],
   "source": [
    "l1 = []\n",
    "for i in d1.values():\n",
    "    if type(i)==int:\n",
    "        l1.append(i)\n",
    "    elif type(i)==list or type(i)==tuple:\n",
    "        l1.extend(i)\n",
    "    elif type(i)==dict:\n",
    "        for j in i.values():\n",
    "            l.append(j)\n",
    "print(max(l1))\n",
    "            "
   ]
  },
  {
   "cell_type": "code",
   "execution_count": 56,
   "id": "08338633",
   "metadata": {},
   "outputs": [
    {
     "name": "stdout",
     "output_type": "stream",
     "text": [
      "True\n",
      "True\n",
      "[14, 85]\n"
     ]
    }
   ],
   "source": [
    "l = []\n",
    "d = {'ineuron': {'a': 14, 'b': 10, 'c': 4}, 'course': {'d': 85, 'e': 47, 'f': 12}}\n",
    "for i in d:\n",
    "    if type(d[i])==dict:\n",
    "        print(True)\n",
    "        l.append(max(d[i].values()))\n",
    "    elif type(d[i])==list or type(d[i]):\n",
    "        l.append(max(d[i]))\n",
    "print(l)"
   ]
  },
  {
   "cell_type": "code",
   "execution_count": null,
   "id": "9a752bac",
   "metadata": {},
   "outputs": [],
   "source": [
    "l = []\n",
    "for k,v in d1.items():\n",
    "    if type(v)==dict:\n",
    "        l.extend(list(v.values()))\n",
    "    elif type(v)==list:\n",
    "        l.append(max(v))\n",
    "    elif type(v)==tuple:\n",
    "        l.append(max(v))\n",
    "    elif type(v)==int:\n",
    "        l.append(v)\n",
    "    elif type(v)==str:\n",
    "        pass\n",
    "    else:\n",
    "        l.append(v)\n",
    "print(max(l))"
   ]
  },
  {
   "cell_type": "code",
   "execution_count": 57,
   "id": "caae1224",
   "metadata": {},
   "outputs": [
    {
     "data": {
      "text/plain": [
       "95"
      ]
     },
     "execution_count": 57,
     "metadata": {},
     "output_type": "execute_result"
    }
   ],
   "source": [
    "l = []\n",
    "for i in d1.values():\n",
    "    if type(i)!= str and type(i)!=complex:\n",
    "        if type(i)==list or type(i)==tuple or type(i)== set:\n",
    "            l.extend(list(i))\n",
    "        elif type(i)==dict:\n",
    "            for j in i.values():\n",
    "                l.append(j)\n",
    "max(l)"
   ]
  },
  {
   "cell_type": "code",
   "execution_count": null,
   "id": "8025b082",
   "metadata": {},
   "outputs": [],
   "source": []
  }
 ],
 "metadata": {
  "kernelspec": {
   "display_name": "Python 3",
   "language": "python",
   "name": "python3"
  },
  "language_info": {
   "codemirror_mode": {
    "name": "ipython",
    "version": 3
   },
   "file_extension": ".py",
   "mimetype": "text/x-python",
   "name": "python",
   "nbconvert_exporter": "python",
   "pygments_lexer": "ipython3",
   "version": "3.8.8"
  }
 },
 "nbformat": 4,
 "nbformat_minor": 5
}
