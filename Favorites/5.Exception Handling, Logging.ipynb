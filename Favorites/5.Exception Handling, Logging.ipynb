{
 "cells": [
  {
   "cell_type": "code",
   "execution_count": 1,
   "id": "e71898a2",
   "metadata": {},
   "outputs": [
    {
     "data": {
      "text/plain": [
       "0.5"
      ]
     },
     "execution_count": 1,
     "metadata": {},
     "output_type": "execute_result"
    }
   ],
   "source": [
    "a = 5\n",
    "a/10"
   ]
  },
  {
   "cell_type": "code",
   "execution_count": 2,
   "id": "b81bf365",
   "metadata": {},
   "outputs": [
    {
     "ename": "ZeroDivisionError",
     "evalue": "division by zero",
     "output_type": "error",
     "traceback": [
      "\u001b[1;31m---------------------------------------------------------------------------\u001b[0m",
      "\u001b[1;31mZeroDivisionError\u001b[0m                         Traceback (most recent call last)",
      "\u001b[1;32m<ipython-input-2-deacdc4ccabc>\u001b[0m in \u001b[0;36m<module>\u001b[1;34m\u001b[0m\n\u001b[1;32m----> 1\u001b[1;33m \u001b[0ma\u001b[0m\u001b[1;33m/\u001b[0m\u001b[1;36m0\u001b[0m\u001b[1;33m\u001b[0m\u001b[1;33m\u001b[0m\u001b[0m\n\u001b[0m",
      "\u001b[1;31mZeroDivisionError\u001b[0m: division by zero"
     ]
    }
   ],
   "source": [
    "a/0"
   ]
  },
  {
   "cell_type": "code",
   "execution_count": 3,
   "id": "5d4f8078",
   "metadata": {},
   "outputs": [
    {
     "ename": "ZeroDivisionError",
     "evalue": "division by zero",
     "output_type": "error",
     "traceback": [
      "\u001b[1;31m---------------------------------------------------------------------------\u001b[0m",
      "\u001b[1;31mZeroDivisionError\u001b[0m                         Traceback (most recent call last)",
      "\u001b[1;32m<ipython-input-3-e0c8f48509d6>\u001b[0m in \u001b[0;36m<module>\u001b[1;34m\u001b[0m\n\u001b[1;32m----> 1\u001b[1;33m \u001b[0ma\u001b[0m\u001b[1;33m/\u001b[0m\u001b[1;36m0\u001b[0m\u001b[1;33m\u001b[0m\u001b[1;33m\u001b[0m\u001b[0m\n\u001b[0m\u001b[0;32m      2\u001b[0m \u001b[0mprint\u001b[0m\u001b[1;33m(\u001b[0m\u001b[1;34m\"this is my program\"\u001b[0m\u001b[1;33m)\u001b[0m\u001b[1;33m\u001b[0m\u001b[1;33m\u001b[0m\u001b[0m\n",
      "\u001b[1;31mZeroDivisionError\u001b[0m: division by zero"
     ]
    }
   ],
   "source": [
    "a/0 \n",
    "print(\"this is my program\")"
   ]
  },
  {
   "cell_type": "code",
   "execution_count": 4,
   "id": "e7a2620d",
   "metadata": {},
   "outputs": [
    {
     "name": "stdout",
     "output_type": "stream",
     "text": [
      "\n"
     ]
    },
    {
     "ename": "ValueError",
     "evalue": "invalid literal for int() with base 10: ''",
     "output_type": "error",
     "traceback": [
      "\u001b[1;31m---------------------------------------------------------------------------\u001b[0m",
      "\u001b[1;31mValueError\u001b[0m                                Traceback (most recent call last)",
      "\u001b[1;32m<ipython-input-4-7ac6d2a176fa>\u001b[0m in \u001b[0;36m<module>\u001b[1;34m\u001b[0m\n\u001b[0;32m      1\u001b[0m \u001b[0ma\u001b[0m \u001b[1;33m=\u001b[0m \u001b[1;36m10\u001b[0m\u001b[1;33m\u001b[0m\u001b[1;33m\u001b[0m\u001b[0m\n\u001b[1;32m----> 2\u001b[1;33m \u001b[0mb\u001b[0m \u001b[1;33m=\u001b[0m \u001b[0mint\u001b[0m\u001b[1;33m(\u001b[0m\u001b[0minput\u001b[0m\u001b[1;33m(\u001b[0m\u001b[1;33m)\u001b[0m\u001b[1;33m)\u001b[0m\u001b[1;33m\u001b[0m\u001b[1;33m\u001b[0m\u001b[0m\n\u001b[0m\u001b[0;32m      3\u001b[0m \u001b[0mx\u001b[0m \u001b[1;33m=\u001b[0m \u001b[0ma\u001b[0m\u001b[1;33m/\u001b[0m\u001b[0mb\u001b[0m\u001b[1;33m\u001b[0m\u001b[1;33m\u001b[0m\u001b[0m\n",
      "\u001b[1;31mValueError\u001b[0m: invalid literal for int() with base 10: ''"
     ]
    }
   ],
   "source": [
    "a = 10\n",
    "b = int(input())\n",
    "x = a/b"
   ]
  },
  {
   "cell_type": "code",
   "execution_count": 5,
   "id": "0d97371e",
   "metadata": {},
   "outputs": [
    {
     "ename": "NameError",
     "evalue": "name 'x' is not defined",
     "output_type": "error",
     "traceback": [
      "\u001b[1;31m---------------------------------------------------------------------------\u001b[0m",
      "\u001b[1;31mNameError\u001b[0m                                 Traceback (most recent call last)",
      "\u001b[1;32m<ipython-input-5-6fcf9dfbd479>\u001b[0m in \u001b[0;36m<module>\u001b[1;34m\u001b[0m\n\u001b[1;32m----> 1\u001b[1;33m \u001b[0mx\u001b[0m\u001b[1;33m\u001b[0m\u001b[1;33m\u001b[0m\u001b[0m\n\u001b[0m",
      "\u001b[1;31mNameError\u001b[0m: name 'x' is not defined"
     ]
    }
   ],
   "source": [
    "x"
   ]
  },
  {
   "cell_type": "code",
   "execution_count": 6,
   "id": "b8af54e6",
   "metadata": {},
   "outputs": [
    {
     "name": "stdout",
     "output_type": "stream",
     "text": [
      "10\n"
     ]
    },
    {
     "data": {
      "text/plain": [
       "1.0"
      ]
     },
     "execution_count": 6,
     "metadata": {},
     "output_type": "execute_result"
    }
   ],
   "source": [
    "a = 10\n",
    "b = int(input())\n",
    "a/b"
   ]
  },
  {
   "cell_type": "code",
   "execution_count": 7,
   "id": "565b82ad",
   "metadata": {},
   "outputs": [
    {
     "name": "stdout",
     "output_type": "stream",
     "text": [
      "10\n"
     ]
    },
    {
     "data": {
      "text/plain": [
       "1.0"
      ]
     },
     "execution_count": 7,
     "metadata": {},
     "output_type": "execute_result"
    }
   ],
   "source": [
    "a = 10\n",
    "b = int(input())\n",
    "a/b"
   ]
  },
  {
   "cell_type": "code",
   "execution_count": 8,
   "id": "f1f59973",
   "metadata": {},
   "outputs": [],
   "source": [
    "#code wise this is correct code but when you divide the code by zero then it will shown error\n",
    "#this type of error called as a runtime error"
   ]
  },
  {
   "cell_type": "code",
   "execution_count": 9,
   "id": "77bdbba1",
   "metadata": {},
   "outputs": [
    {
     "ename": "FileNotFoundError",
     "evalue": "[Errno 2] No such file or directory: 'test.txt'",
     "output_type": "error",
     "traceback": [
      "\u001b[1;31m---------------------------------------------------------------------------\u001b[0m",
      "\u001b[1;31mFileNotFoundError\u001b[0m                         Traceback (most recent call last)",
      "\u001b[1;32m<ipython-input-9-955f97db8a8a>\u001b[0m in \u001b[0;36m<module>\u001b[1;34m\u001b[0m\n\u001b[1;32m----> 1\u001b[1;33m \u001b[0mf\u001b[0m \u001b[1;33m=\u001b[0m \u001b[0mopen\u001b[0m\u001b[1;33m(\u001b[0m\u001b[1;34m\"test.txt\"\u001b[0m\u001b[1;33m,\u001b[0m\u001b[1;34m\"r\"\u001b[0m\u001b[1;33m)\u001b[0m    \u001b[1;31m#this is for read operation\u001b[0m\u001b[1;33m\u001b[0m\u001b[1;33m\u001b[0m\u001b[0m\n\u001b[0m\u001b[0;32m      2\u001b[0m \u001b[0mf\u001b[0m\u001b[1;33m.\u001b[0m\u001b[0mwrite\u001b[0m\u001b[1;33m(\u001b[0m\u001b[1;34m\"all is well\"\u001b[0m\u001b[1;33m)\u001b[0m\u001b[1;33m\u001b[0m\u001b[1;33m\u001b[0m\u001b[0m\n",
      "\u001b[1;31mFileNotFoundError\u001b[0m: [Errno 2] No such file or directory: 'test.txt'"
     ]
    }
   ],
   "source": [
    "f = open(\"test.txt\",\"r\")    #this is for read operation\n",
    "f.write(\"all is well\")"
   ]
  },
  {
   "cell_type": "code",
   "execution_count": 10,
   "id": "1cccbd8c",
   "metadata": {},
   "outputs": [
    {
     "data": {
      "text/plain": [
       "11"
      ]
     },
     "execution_count": 10,
     "metadata": {},
     "output_type": "execute_result"
    }
   ],
   "source": [
    "f = open(\"test.txt\",\"w\")\n",
    "f.write(\"all is well\")"
   ]
  },
  {
   "cell_type": "code",
   "execution_count": 11,
   "id": "a9890bfc",
   "metadata": {},
   "outputs": [
    {
     "ename": "SyntaxError",
     "evalue": "unexpected EOF while parsing (<ipython-input-11-59f450f74b56>, line 3)",
     "output_type": "error",
     "traceback": [
      "\u001b[1;36m  File \u001b[1;32m\"<ipython-input-11-59f450f74b56>\"\u001b[1;36m, line \u001b[1;32m3\u001b[0m\n\u001b[1;33m    f.write(\"all is well\")\u001b[0m\n\u001b[1;37m                          ^\u001b[0m\n\u001b[1;31mSyntaxError\u001b[0m\u001b[1;31m:\u001b[0m unexpected EOF while parsing\n"
     ]
    }
   ],
   "source": [
    "try:                             \n",
    "    f = open(\"test.txt\",\"r\")\n",
    "    f.write(\"all is well\")"
   ]
  },
  {
   "cell_type": "code",
   "execution_count": 12,
   "id": "41377eca",
   "metadata": {},
   "outputs": [],
   "source": [
    "#try is a reserve word to protect the system"
   ]
  },
  {
   "cell_type": "code",
   "execution_count": 13,
   "id": "d6f6e451",
   "metadata": {},
   "outputs": [
    {
     "name": "stdout",
     "output_type": "stream",
     "text": [
      "there was a mistake\n"
     ]
    }
   ],
   "source": [
    "try:\n",
    "    f = open(\"test.txt\",\"r\")\n",
    "    f.write(\"all is well\")\n",
    "except:\n",
    "    print(\"there was a mistake\")"
   ]
  },
  {
   "cell_type": "code",
   "execution_count": 14,
   "id": "7be2440e",
   "metadata": {},
   "outputs": [
    {
     "name": "stdout",
     "output_type": "stream",
     "text": [
      "there was a mistake\n",
      "this is my code\n"
     ]
    }
   ],
   "source": [
    "try:\n",
    "    f = open(\"test.txt\",\"r\")\n",
    "    f.write(\"all is well\")\n",
    "except:\n",
    "    print(\"there was a mistake\")\n",
    "    print(\"this is my code\")"
   ]
  },
  {
   "cell_type": "code",
   "execution_count": null,
   "id": "7fb773a1",
   "metadata": {},
   "outputs": [],
   "source": [
    "#you are suppose to try follow every code with except block\n",
    "#it is mandetory"
   ]
  },
  {
   "cell_type": "code",
   "execution_count": 15,
   "id": "44b850c9",
   "metadata": {},
   "outputs": [
    {
     "ename": "SyntaxError",
     "evalue": "unexpected EOF while parsing (<ipython-input-15-76cd7d9173f5>, line 3)",
     "output_type": "error",
     "traceback": [
      "\u001b[1;36m  File \u001b[1;32m\"<ipython-input-15-76cd7d9173f5>\"\u001b[1;36m, line \u001b[1;32m3\u001b[0m\n\u001b[1;33m    f.write(\"ggfuicbb\")\u001b[0m\n\u001b[1;37m                       ^\u001b[0m\n\u001b[1;31mSyntaxError\u001b[0m\u001b[1;31m:\u001b[0m unexpected EOF while parsing\n"
     ]
    }
   ],
   "source": [
    "try:\n",
    "    f =open(\"test.txt\",\"r\")\n",
    "    f.write(\"ggfuicbb\")"
   ]
  },
  {
   "cell_type": "code",
   "execution_count": 16,
   "id": "f6669859",
   "metadata": {},
   "outputs": [
    {
     "ename": "SyntaxError",
     "evalue": "invalid syntax (<ipython-input-16-4943067a7d33>, line 3)",
     "output_type": "error",
     "traceback": [
      "\u001b[1;36m  File \u001b[1;32m\"<ipython-input-16-4943067a7d33>\"\u001b[1;36m, line \u001b[1;32m3\u001b[0m\n\u001b[1;33m    for i  range(len(l)):\u001b[0m\n\u001b[1;37m           ^\u001b[0m\n\u001b[1;31mSyntaxError\u001b[0m\u001b[1;31m:\u001b[0m invalid syntax\n"
     ]
    }
   ],
   "source": [
    "l = [1,2,3,4,5,6,7,8,9]\n",
    "try:\n",
    "    for i  range(len(l)):\n",
    "        print(i)\n",
    "except:\n",
    "    print(\"something wrong\")"
   ]
  },
  {
   "cell_type": "code",
   "execution_count": 17,
   "id": "184206ab",
   "metadata": {},
   "outputs": [
    {
     "name": "stdout",
     "output_type": "stream",
     "text": [
      "0\n",
      "1\n",
      "2\n",
      "3\n",
      "4\n",
      "5\n",
      "6\n",
      "7\n",
      "8\n"
     ]
    }
   ],
   "source": [
    "l = [1,2,3,4,5,6,7,8,9]\n",
    "try:\n",
    "    for i in range(len(l)):        #we miss \"in\". it is a compilar mistake\n",
    "        print(i)\n",
    "except:\n",
    "        print(\"something wrong\")"
   ]
  },
  {
   "cell_type": "code",
   "execution_count": 18,
   "id": "42b50ee9",
   "metadata": {},
   "outputs": [
    {
     "name": "stdout",
     "output_type": "stream",
     "text": [
      "[1, 2, 3, 4, 5, 6, 7, 8, 9]\n",
      "[1, 2, 3, 4, 5, 6, 7, 8, 9]\n",
      "[1, 2, 3, 4, 5, 6, 7, 8, 9]\n",
      "[1, 2, 3, 4, 5, 6, 7, 8, 9]\n",
      "[1, 2, 3, 4, 5, 6, 7, 8, 9]\n",
      "[1, 2, 3, 4, 5, 6, 7, 8, 9]\n",
      "[1, 2, 3, 4, 5, 6, 7, 8, 9]\n",
      "[1, 2, 3, 4, 5, 6, 7, 8, 9]\n",
      "[1, 2, 3, 4, 5, 6, 7, 8, 9]\n"
     ]
    }
   ],
   "source": [
    "l = [1,2,3,4,5,6,7,8,9]\n",
    "for i in range(len(l)):\n",
    "    print(l)"
   ]
  },
  {
   "cell_type": "code",
   "execution_count": 19,
   "id": "e9faab0c",
   "metadata": {},
   "outputs": [
    {
     "name": "stdout",
     "output_type": "stream",
     "text": [
      "0\n",
      "1\n",
      "2\n",
      "3\n",
      "4\n",
      "5\n",
      "6\n",
      "7\n",
      "8\n"
     ]
    }
   ],
   "source": [
    "l = [1,2,3,4,5,6,7,8,9]\n",
    "for i in range(len(l)):\n",
    "    print(i)"
   ]
  },
  {
   "cell_type": "code",
   "execution_count": 20,
   "id": "80114460",
   "metadata": {},
   "outputs": [
    {
     "name": "stdout",
     "output_type": "stream",
     "text": [
      "1 [1, 2, 3, 4, 5, 6, 7, 8, 9]\n",
      "2 [1, 2, 3, 4, 5, 6, 7, 8, 9]\n",
      "3 [1, 2, 3, 4, 5, 6, 7, 8, 9]\n",
      "4 [1, 2, 3, 4, 5, 6, 7, 8, 9]\n",
      "5 [1, 2, 3, 4, 5, 6, 7, 8, 9]\n",
      "6 [1, 2, 3, 4, 5, 6, 7, 8, 9]\n",
      "7 [1, 2, 3, 4, 5, 6, 7, 8, 9]\n",
      "8 [1, 2, 3, 4, 5, 6, 7, 8, 9]\n",
      "9 [1, 2, 3, 4, 5, 6, 7, 8, 9]\n"
     ]
    }
   ],
   "source": [
    "l = [1,2,3,4,5,6,7,8,9]\n",
    "for i in l:\n",
    "    print(i,l)"
   ]
  },
  {
   "cell_type": "code",
   "execution_count": 21,
   "id": "5a2626d7",
   "metadata": {},
   "outputs": [
    {
     "name": "stdout",
     "output_type": "stream",
     "text": [
      "1\n",
      "2\n",
      "3\n",
      "4\n",
      "5\n",
      "6\n",
      "7\n",
      "8\n",
      "9\n"
     ]
    }
   ],
   "source": [
    "l = [1,2,3,4,5,6,7,8,9]\n",
    "for i in range(len(l)): \n",
    "    print(l[i])           #try block does not consume any type of RAM"
   ]
  },
  {
   "cell_type": "code",
   "execution_count": 22,
   "id": "b7ae5562",
   "metadata": {},
   "outputs": [
    {
     "name": "stdout",
     "output_type": "stream",
     "text": [
      "1\n",
      "2\n",
      "3\n",
      "4\n",
      "5\n",
      "6\n",
      "7\n",
      "8\n",
      "9\n"
     ]
    },
    {
     "ename": "IndexError",
     "evalue": "list index out of range",
     "output_type": "error",
     "traceback": [
      "\u001b[1;31m---------------------------------------------------------------------------\u001b[0m",
      "\u001b[1;31mIndexError\u001b[0m                                Traceback (most recent call last)",
      "\u001b[1;32m<ipython-input-22-7c966c95a552>\u001b[0m in \u001b[0;36m<module>\u001b[1;34m\u001b[0m\n\u001b[0;32m      1\u001b[0m \u001b[0ml\u001b[0m \u001b[1;33m=\u001b[0m \u001b[1;33m[\u001b[0m\u001b[1;36m1\u001b[0m\u001b[1;33m,\u001b[0m\u001b[1;36m2\u001b[0m\u001b[1;33m,\u001b[0m\u001b[1;36m3\u001b[0m\u001b[1;33m,\u001b[0m\u001b[1;36m4\u001b[0m\u001b[1;33m,\u001b[0m\u001b[1;36m5\u001b[0m\u001b[1;33m,\u001b[0m\u001b[1;36m6\u001b[0m\u001b[1;33m,\u001b[0m\u001b[1;36m7\u001b[0m\u001b[1;33m,\u001b[0m\u001b[1;36m8\u001b[0m\u001b[1;33m,\u001b[0m\u001b[1;36m9\u001b[0m\u001b[1;33m]\u001b[0m\u001b[1;33m\u001b[0m\u001b[1;33m\u001b[0m\u001b[0m\n\u001b[0;32m      2\u001b[0m \u001b[1;32mfor\u001b[0m \u001b[0mi\u001b[0m \u001b[1;32min\u001b[0m \u001b[0mrange\u001b[0m\u001b[1;33m(\u001b[0m\u001b[0mlen\u001b[0m\u001b[1;33m(\u001b[0m\u001b[0ml\u001b[0m\u001b[1;33m)\u001b[0m\u001b[1;33m+\u001b[0m\u001b[1;36m1\u001b[0m\u001b[1;33m)\u001b[0m\u001b[1;33m:\u001b[0m\u001b[1;33m\u001b[0m\u001b[1;33m\u001b[0m\u001b[0m\n\u001b[1;32m----> 3\u001b[1;33m     \u001b[0mprint\u001b[0m\u001b[1;33m(\u001b[0m\u001b[0ml\u001b[0m\u001b[1;33m[\u001b[0m\u001b[0mi\u001b[0m\u001b[1;33m]\u001b[0m\u001b[1;33m)\u001b[0m\u001b[1;33m\u001b[0m\u001b[1;33m\u001b[0m\u001b[0m\n\u001b[0m",
      "\u001b[1;31mIndexError\u001b[0m: list index out of range"
     ]
    }
   ],
   "source": [
    "l = [1,2,3,4,5,6,7,8,9]\n",
    "for i in range(len(l)+1):\n",
    "    print(l[i])"
   ]
  },
  {
   "cell_type": "code",
   "execution_count": 23,
   "id": "b32be3a4",
   "metadata": {},
   "outputs": [
    {
     "name": "stdout",
     "output_type": "stream",
     "text": [
      "1\n",
      "2\n",
      "3\n",
      "4\n",
      "5\n",
      "6\n",
      "7\n",
      "8\n",
      "9\n",
      "something gonna wrong\n"
     ]
    }
   ],
   "source": [
    "l = [1,2,3,4,5,6,7,8,9]\n",
    "try:\n",
    "    for i in range(len(l)+1):\n",
    "        print(l[i])\n",
    "except:\n",
    "    print(\"something gonna wrong\")"
   ]
  },
  {
   "cell_type": "code",
   "execution_count": 24,
   "id": "e6717ba1",
   "metadata": {},
   "outputs": [
    {
     "name": "stdout",
     "output_type": "stream",
     "text": [
      "1\n",
      "2\n",
      "3\n",
      "4\n",
      "5\n",
      "6\n",
      "7\n",
      "8\n",
      "9\n"
     ]
    },
    {
     "ename": "IndexError",
     "evalue": "list index out of range",
     "output_type": "error",
     "traceback": [
      "\u001b[1;31m---------------------------------------------------------------------------\u001b[0m",
      "\u001b[1;31mIndexError\u001b[0m                                Traceback (most recent call last)",
      "\u001b[1;32m<ipython-input-24-6dffe4468e43>\u001b[0m in \u001b[0;36m<module>\u001b[1;34m\u001b[0m\n\u001b[0;32m      2\u001b[0m \u001b[1;33m\u001b[0m\u001b[0m\n\u001b[0;32m      3\u001b[0m \u001b[1;32mfor\u001b[0m \u001b[0mi\u001b[0m \u001b[1;32min\u001b[0m \u001b[0mrange\u001b[0m\u001b[1;33m(\u001b[0m\u001b[0mlen\u001b[0m\u001b[1;33m(\u001b[0m\u001b[0ml\u001b[0m\u001b[1;33m)\u001b[0m\u001b[1;33m+\u001b[0m\u001b[1;36m1\u001b[0m\u001b[1;33m)\u001b[0m\u001b[1;33m:\u001b[0m\u001b[1;33m\u001b[0m\u001b[1;33m\u001b[0m\u001b[0m\n\u001b[1;32m----> 4\u001b[1;33m     \u001b[0mprint\u001b[0m\u001b[1;33m(\u001b[0m\u001b[0ml\u001b[0m\u001b[1;33m[\u001b[0m\u001b[0mi\u001b[0m\u001b[1;33m]\u001b[0m\u001b[1;33m)\u001b[0m\u001b[1;33m\u001b[0m\u001b[1;33m\u001b[0m\u001b[0m\n\u001b[0m",
      "\u001b[1;31mIndexError\u001b[0m: list index out of range"
     ]
    }
   ],
   "source": [
    "l = [1,2,3,4,5,6,7,8,9]\n",
    "\n",
    "for i in range(len(l)+1):\n",
    "    print(l[i])"
   ]
  },
  {
   "cell_type": "code",
   "execution_count": null,
   "id": "ade72148",
   "metadata": {},
   "outputs": [],
   "source": [
    "##except function handle run time error not a compile error"
   ]
  },
  {
   "cell_type": "code",
   "execution_count": 25,
   "id": "36ae3935",
   "metadata": {},
   "outputs": [
    {
     "name": "stdout",
     "output_type": "stream",
     "text": [
      "1\n",
      "2\n",
      "3\n",
      "4\n",
      "5\n",
      "6\n",
      "7\n",
      "8\n",
      "9\n",
      "correction is done by this command\n",
      "well solution \n"
     ]
    }
   ],
   "source": [
    "l = [1,2,3,4,5,6,7,8,9]\n",
    "try:\n",
    "    for i in range(len(l)+1):\n",
    "        print(l[i])\n",
    "except Exception as e:\n",
    "    print(\"correction is done by this command\")\n",
    "    print(\"well solution \")"
   ]
  },
  {
   "cell_type": "code",
   "execution_count": 26,
   "id": "d2f65450",
   "metadata": {},
   "outputs": [
    {
     "name": "stdout",
     "output_type": "stream",
     "text": [
      "1\n",
      "2\n",
      "3\n",
      "4\n",
      "5\n",
      "6\n",
      "7\n",
      "8\n",
      "9\n",
      "correction is done by this command list index out of range\n",
      "well solution \n"
     ]
    }
   ],
   "source": [
    "l = [1,2,3,4,5,6,7,8,9]\n",
    "try:\n",
    "    for i in range(len(l)+1):\n",
    "        print(l[i])\n",
    "except Exception as e:\n",
    "    print(\"correction is done by this command\",e)\n",
    "    print(\"well solution \")"
   ]
  },
  {
   "cell_type": "code",
   "execution_count": 27,
   "id": "bcc6fa89",
   "metadata": {},
   "outputs": [
    {
     "name": "stdout",
     "output_type": "stream",
     "text": [
      "1\n",
      "2\n",
      "3\n",
      "4\n",
      "5\n",
      "6\n",
      "7\n",
      "8\n",
      "9\n",
      "list index out of range\n",
      "well solution \n"
     ]
    }
   ],
   "source": [
    "l = [1,2,3,4,5,6,7,8,9]\n",
    "try:\n",
    "    for i in range(len(l)+1):\n",
    "        print(l[i])\n",
    "except Exception as e:\n",
    "    print(e)\n",
    "    print(\"well solution \")"
   ]
  },
  {
   "cell_type": "code",
   "execution_count": 29,
   "id": "83da8815",
   "metadata": {},
   "outputs": [
    {
     "name": "stdout",
     "output_type": "stream",
     "text": [
      "5\n",
      "k\n",
      "invalid literal for int() with base 10: 'k'\n"
     ]
    }
   ],
   "source": [
    "try:\n",
    "    a = int(input())\n",
    "    b = int(input())\n",
    "except Exception as e:\n",
    "    print(e)"
   ]
  },
  {
   "cell_type": "code",
   "execution_count": 30,
   "id": "4905d4eb",
   "metadata": {},
   "outputs": [
    {
     "name": "stdout",
     "output_type": "stream",
     "text": [
      "40\n",
      "ihj\n",
      "enter a valid input\n"
     ]
    }
   ],
   "source": [
    "try:\n",
    "    a = int(input())\n",
    "    b = int(input())\n",
    "except Exception as e:\n",
    "    print(\"enter a valid input\")"
   ]
  },
  {
   "cell_type": "code",
   "execution_count": 31,
   "id": "5dc87f9f",
   "metadata": {},
   "outputs": [
    {
     "name": "stdout",
     "output_type": "stream",
     "text": [
      "45\n",
      "kj\n",
      "enter a valid input\n"
     ]
    }
   ],
   "source": [
    "try:\n",
    "    a = int(input())\n",
    "    b = int(input())\n",
    "except Exception as e:\n",
    "    print(\"enter a valid input\")"
   ]
  },
  {
   "cell_type": "code",
   "execution_count": 32,
   "id": "ac8f1b34",
   "metadata": {},
   "outputs": [
    {
     "name": "stdout",
     "output_type": "stream",
     "text": [
      "5\n",
      "74\n"
     ]
    }
   ],
   "source": [
    "try:\n",
    "    a = int(input())\n",
    "    b = int(input())\n",
    "except Exception as e:\n",
    "    print(e)\n",
    "    print(\"enter a valid input\")"
   ]
  },
  {
   "cell_type": "code",
   "execution_count": null,
   "id": "cea70140",
   "metadata": {},
   "outputs": [],
   "source": [
    "try:\n",
    "    f =open(\"test1\",\"r\")\n",
    "    f.write(\"this is my code with excepton handling\")\n",
    "    print(\"this is my code after write ops\")\n",
    "    "
   ]
  },
  {
   "cell_type": "code",
   "execution_count": 33,
   "id": "48c45eea",
   "metadata": {},
   "outputs": [
    {
     "name": "stdout",
     "output_type": "stream",
     "text": [
      "this is my handler\n",
      "1\n",
      "2\n",
      "3\n",
      "4\n",
      "5\n",
      "6\n",
      "7\n",
      "8\n",
      "9\n"
     ]
    }
   ],
   "source": [
    "try:\n",
    "    f = open(\"test.txt\",\"r\")\n",
    "    f.write(\"this is my code with exception handling\")\n",
    "    print(\"this is my codes after write ops\")\n",
    "except:\n",
    "    print(\"this is my handler\")\n",
    "l = [1,2,3,4,5,6,7,8,9]\n",
    "for i in l:\n",
    "    print(i)\n",
    "\n"
   ]
  },
  {
   "cell_type": "code",
   "execution_count": 34,
   "id": "580ef8ea",
   "metadata": {},
   "outputs": [
    {
     "ename": "FileNotFoundError",
     "evalue": "[Errno 2] No such file or directory: 'test1'",
     "output_type": "error",
     "traceback": [
      "\u001b[1;31m---------------------------------------------------------------------------\u001b[0m",
      "\u001b[1;31mFileNotFoundError\u001b[0m                         Traceback (most recent call last)",
      "\u001b[1;32m<ipython-input-34-e76dcb518f30>\u001b[0m in \u001b[0;36m<module>\u001b[1;34m\u001b[0m\n\u001b[1;32m----> 1\u001b[1;33m \u001b[0mf\u001b[0m \u001b[1;33m=\u001b[0m\u001b[0mopen\u001b[0m\u001b[1;33m(\u001b[0m\u001b[1;34m\"test1\"\u001b[0m\u001b[1;33m,\u001b[0m\u001b[1;34m\"r\"\u001b[0m\u001b[1;33m)\u001b[0m\u001b[1;33m\u001b[0m\u001b[1;33m\u001b[0m\u001b[0m\n\u001b[0m\u001b[0;32m      2\u001b[0m \u001b[0mf\u001b[0m\u001b[1;33m.\u001b[0m\u001b[0mwrite\u001b[0m\u001b[1;33m(\u001b[0m\u001b[1;34m\"this is my code with excepton handling\"\u001b[0m\u001b[1;33m)\u001b[0m\u001b[1;33m\u001b[0m\u001b[1;33m\u001b[0m\u001b[0m\n\u001b[0;32m      3\u001b[0m \u001b[0mprint\u001b[0m\u001b[1;33m(\u001b[0m\u001b[1;34m\"this is my code after write\"\u001b[0m\u001b[1;33m)\u001b[0m\u001b[1;33m\u001b[0m\u001b[1;33m\u001b[0m\u001b[0m\n\u001b[0;32m      4\u001b[0m \u001b[0mprint\u001b[0m\u001b[1;33m(\u001b[0m\u001b[1;34m\"this is my handler\"\u001b[0m\u001b[1;33m)\u001b[0m\u001b[1;33m\u001b[0m\u001b[1;33m\u001b[0m\u001b[0m\n\u001b[0;32m      5\u001b[0m \u001b[0ml\u001b[0m \u001b[1;33m=\u001b[0m \u001b[1;33m[\u001b[0m\u001b[1;36m1\u001b[0m\u001b[1;33m,\u001b[0m\u001b[1;36m2\u001b[0m\u001b[1;33m,\u001b[0m\u001b[1;36m3\u001b[0m\u001b[1;33m,\u001b[0m\u001b[1;36m4\u001b[0m\u001b[1;33m,\u001b[0m\u001b[1;36m5\u001b[0m\u001b[1;33m]\u001b[0m\u001b[1;33m\u001b[0m\u001b[1;33m\u001b[0m\u001b[0m\n",
      "\u001b[1;31mFileNotFoundError\u001b[0m: [Errno 2] No such file or directory: 'test1'"
     ]
    }
   ],
   "source": [
    "\n",
    "f =open(\"test1\",\"r\")\n",
    "f.write(\"this is my code with excepton handling\")\n",
    "print(\"this is my code after write\")\n",
    "print(\"this is my handler\")\n",
    "l = [1,2,3,4,5]\n",
    "for i in l:\n",
    "    print(i)"
   ]
  },
  {
   "cell_type": "code",
   "execution_count": 35,
   "id": "11f72d51",
   "metadata": {},
   "outputs": [
    {
     "name": "stdout",
     "output_type": "stream",
     "text": [
      "this is my handler\n",
      "1\n",
      "2\n",
      "3\n",
      "4\n",
      "5\n",
      "6\n",
      "7\n",
      "8\n",
      "9\n"
     ]
    }
   ],
   "source": [
    "try:\n",
    "    f = (\"test.txt\",\"r\")\n",
    "    f.write(\"this is my code with exception handling\")\n",
    "    print(\"this is my oops statement\")\n",
    "    \n",
    "except:\n",
    "    print(\"this is my handler\")\n",
    "    \n",
    "try:\n",
    "    l = [1,2,3,4,5,6,7,8,9]\n",
    "    for i in l:\n",
    "        print(i)\n",
    "except:\n",
    "    print(\"this is my handler for for loop\")"
   ]
  },
  {
   "cell_type": "code",
   "execution_count": 36,
   "id": "88151211",
   "metadata": {},
   "outputs": [
    {
     "name": "stdout",
     "output_type": "stream",
     "text": [
      "45\n"
     ]
    }
   ],
   "source": [
    "try:\n",
    "    d ={\"key1\":[1,2,3],\"key2\":45,\"key3\":\"ineuron\"}\n",
    "    d[\"key4\"]=int(input())\n",
    "except:\n",
    "    print(\"please try to enter integer\")"
   ]
  },
  {
   "cell_type": "code",
   "execution_count": 37,
   "id": "472a7195",
   "metadata": {},
   "outputs": [
    {
     "data": {
      "text/plain": [
       "{'key1': [1, 2, 3], 'key2': 45, 'key3': 'ineuron', 'key4': 45}"
      ]
     },
     "execution_count": 37,
     "metadata": {},
     "output_type": "execute_result"
    }
   ],
   "source": [
    "d"
   ]
  },
  {
   "cell_type": "code",
   "execution_count": 38,
   "id": "1056fdbc",
   "metadata": {},
   "outputs": [
    {
     "name": "stdout",
     "output_type": "stream",
     "text": [
      "hgh\n",
      "please try to enter integer\n"
     ]
    }
   ],
   "source": [
    "try:\n",
    "    d ={\"key1\":[1,2,3],\"key2\":45,\"key3\":\"ineuron\"}\n",
    "    d[\"key4\"]=int(input())\n",
    "except:\n",
    "    print(\"please try to enter integer\")"
   ]
  },
  {
   "cell_type": "code",
   "execution_count": null,
   "id": "b0c4bf4e",
   "metadata": {},
   "outputs": [],
   "source": [
    "try:\n",
    "    d ={\"key1\":[1,2,3],\"key2\":45,\"key3\":\"ineuron\"}\n",
    "    d[\"key4\"]=int(input())\n",
    "except Exception as sudh:\n",
    "    print(sudh)\n",
    "  "
   ]
  },
  {
   "cell_type": "code",
   "execution_count": null,
   "id": "60206c48",
   "metadata": {},
   "outputs": [],
   "source": [
    "try:\n",
    "    d ={\"key1\":[1,2,3],\"key2\":45,\"key3\":\"ineuron\"}\n",
    "    d[\"key4\"]=int(input())\n",
    "except Exception as sudh:\n",
    "    print(sudh)\n",
    "  "
   ]
  },
  {
   "cell_type": "code",
   "execution_count": 39,
   "id": "321e0371",
   "metadata": {},
   "outputs": [
    {
     "name": "stdout",
     "output_type": "stream",
     "text": [
      "kjj\n"
     ]
    },
    {
     "ename": "ValueError",
     "evalue": "invalid literal for int() with base 10: 'kjj'",
     "output_type": "error",
     "traceback": [
      "\u001b[1;31m---------------------------------------------------------------------------\u001b[0m",
      "\u001b[1;31mValueError\u001b[0m                                Traceback (most recent call last)",
      "\u001b[1;32m<ipython-input-39-1a5738c9afe4>\u001b[0m in \u001b[0;36m<module>\u001b[1;34m\u001b[0m\n\u001b[0;32m      1\u001b[0m \u001b[0md\u001b[0m \u001b[1;33m=\u001b[0m\u001b[1;33m{\u001b[0m\u001b[1;34m\"key1\"\u001b[0m\u001b[1;33m:\u001b[0m\u001b[1;33m[\u001b[0m\u001b[1;36m1\u001b[0m\u001b[1;33m,\u001b[0m\u001b[1;36m2\u001b[0m\u001b[1;33m,\u001b[0m\u001b[1;36m3\u001b[0m\u001b[1;33m]\u001b[0m\u001b[1;33m,\u001b[0m\u001b[1;34m\"key2\"\u001b[0m\u001b[1;33m:\u001b[0m\u001b[1;36m45\u001b[0m\u001b[1;33m,\u001b[0m\u001b[1;34m\"key3\"\u001b[0m\u001b[1;33m:\u001b[0m\u001b[1;34m\"ineuron\"\u001b[0m\u001b[1;33m}\u001b[0m\u001b[1;33m\u001b[0m\u001b[1;33m\u001b[0m\u001b[0m\n\u001b[1;32m----> 2\u001b[1;33m \u001b[0md\u001b[0m\u001b[1;33m[\u001b[0m\u001b[1;34m\"key4\"\u001b[0m\u001b[1;33m]\u001b[0m\u001b[1;33m=\u001b[0m\u001b[0mint\u001b[0m\u001b[1;33m(\u001b[0m\u001b[0minput\u001b[0m\u001b[1;33m(\u001b[0m\u001b[1;33m)\u001b[0m\u001b[1;33m)\u001b[0m\u001b[1;33m\u001b[0m\u001b[1;33m\u001b[0m\u001b[0m\n\u001b[0m",
      "\u001b[1;31mValueError\u001b[0m: invalid literal for int() with base 10: 'kjj'"
     ]
    }
   ],
   "source": [
    "d ={\"key1\":[1,2,3],\"key2\":45,\"key3\":\"ineuron\"}\n",
    "d[\"key4\"]=int(input())"
   ]
  },
  {
   "cell_type": "code",
   "execution_count": null,
   "id": "52aa73bc",
   "metadata": {},
   "outputs": [],
   "source": [
    "d ={\"key1\":[1,2,3],\"key2\":45,\"key3\":\"ineuron\"}\n",
    "d[\"key4\"]=int(input())"
   ]
  },
  {
   "cell_type": "code",
   "execution_count": null,
   "id": "33b0ffd8",
   "metadata": {},
   "outputs": [],
   "source": [
    "d"
   ]
  },
  {
   "cell_type": "code",
   "execution_count": 40,
   "id": "c72072bb",
   "metadata": {},
   "outputs": [
    {
     "name": "stdout",
     "output_type": "stream",
     "text": [
      "jio\\\n",
      "invalid literal for int() with base 10: 'jio\\\\'\n"
     ]
    }
   ],
   "source": [
    "try:\n",
    "    d ={\"key1\":[1,2,3],\"key2\":45,\"key3\":\"ineuron\"}\n",
    "    d[\"key4\"]=int(input())\n",
    "except ValueError as sudh:\n",
    "    print(sudh)"
   ]
  },
  {
   "cell_type": "code",
   "execution_count": null,
   "id": "2e94fb49",
   "metadata": {},
   "outputs": [],
   "source": [
    "try:\n",
    "    d ={\"key1\":[1,2,3],\"key2\":45,\"key3\":\"ineuron\"}\n",
    "    d[\"key4\"]=int(input())\n",
    "except ValueError as sudh:\n",
    "    print(sudh)"
   ]
  },
  {
   "cell_type": "code",
   "execution_count": 42,
   "id": "d25fed70",
   "metadata": {},
   "outputs": [
    {
     "name": "stdout",
     "output_type": "stream",
     "text": [
      "45\n"
     ]
    },
    {
     "ename": "FileNotFoundError",
     "evalue": "[Errno 2] No such file or directory: 'test2'",
     "output_type": "error",
     "traceback": [
      "\u001b[1;31m---------------------------------------------------------------------------\u001b[0m",
      "\u001b[1;31mFileNotFoundError\u001b[0m                         Traceback (most recent call last)",
      "\u001b[1;32m<ipython-input-42-ba9c168200f7>\u001b[0m in \u001b[0;36m<module>\u001b[1;34m\u001b[0m\n\u001b[0;32m      2\u001b[0m     \u001b[0md\u001b[0m \u001b[1;33m=\u001b[0m\u001b[1;33m{\u001b[0m\u001b[1;34m\"key1\"\u001b[0m\u001b[1;33m:\u001b[0m\u001b[1;33m[\u001b[0m\u001b[1;36m1\u001b[0m\u001b[1;33m,\u001b[0m\u001b[1;36m2\u001b[0m\u001b[1;33m,\u001b[0m\u001b[1;36m3\u001b[0m\u001b[1;33m]\u001b[0m\u001b[1;33m,\u001b[0m\u001b[1;34m\"key2\"\u001b[0m\u001b[1;33m:\u001b[0m\u001b[1;36m45\u001b[0m\u001b[1;33m,\u001b[0m\u001b[1;34m\"key3\"\u001b[0m\u001b[1;33m:\u001b[0m\u001b[1;34m\"ineuron\"\u001b[0m\u001b[1;33m}\u001b[0m\u001b[1;33m\u001b[0m\u001b[1;33m\u001b[0m\u001b[0m\n\u001b[0;32m      3\u001b[0m     \u001b[0md\u001b[0m\u001b[1;33m[\u001b[0m\u001b[1;34m\"key4\"\u001b[0m\u001b[1;33m]\u001b[0m\u001b[1;33m=\u001b[0m\u001b[0mint\u001b[0m\u001b[1;33m(\u001b[0m\u001b[0minput\u001b[0m\u001b[1;33m(\u001b[0m\u001b[1;33m)\u001b[0m\u001b[1;33m)\u001b[0m\u001b[1;33m\u001b[0m\u001b[1;33m\u001b[0m\u001b[0m\n\u001b[1;32m----> 4\u001b[1;33m     \u001b[0mf\u001b[0m \u001b[1;33m=\u001b[0m \u001b[0mopen\u001b[0m\u001b[1;33m(\u001b[0m\u001b[1;34m\"test2\"\u001b[0m\u001b[1;33m,\u001b[0m\u001b[1;34m\"r\"\u001b[0m\u001b[1;33m)\u001b[0m    \u001b[1;31m#this time type of error changed\u001b[0m\u001b[1;33m\u001b[0m\u001b[1;33m\u001b[0m\u001b[0m\n\u001b[0m\u001b[0;32m      5\u001b[0m \u001b[1;32mexcept\u001b[0m \u001b[0mValueError\u001b[0m \u001b[1;32mas\u001b[0m \u001b[0msudh\u001b[0m\u001b[1;33m:\u001b[0m\u001b[1;33m\u001b[0m\u001b[1;33m\u001b[0m\u001b[0m\n\u001b[0;32m      6\u001b[0m     \u001b[0mprint\u001b[0m\u001b[1;33m(\u001b[0m\u001b[0msudh\u001b[0m\u001b[1;33m)\u001b[0m\u001b[1;33m\u001b[0m\u001b[1;33m\u001b[0m\u001b[0m\n",
      "\u001b[1;31mFileNotFoundError\u001b[0m: [Errno 2] No such file or directory: 'test2'"
     ]
    }
   ],
   "source": [
    "try:\n",
    "    d ={\"key1\":[1,2,3],\"key2\":45,\"key3\":\"ineuron\"}\n",
    "    d[\"key4\"]=int(input())\n",
    "    f = open(\"test2\",\"r\")    #this time type of error changed\n",
    "except ValueError as sudh:\n",
    "    print(sudh)"
   ]
  },
  {
   "cell_type": "code",
   "execution_count": 43,
   "id": "c8557369",
   "metadata": {},
   "outputs": [
    {
     "name": "stdout",
     "output_type": "stream",
     "text": [
      "556\n"
     ]
    },
    {
     "ename": "FileNotFoundError",
     "evalue": "[Errno 2] No such file or directory: 'test2'",
     "output_type": "error",
     "traceback": [
      "\u001b[1;31m---------------------------------------------------------------------------\u001b[0m",
      "\u001b[1;31mFileNotFoundError\u001b[0m                         Traceback (most recent call last)",
      "\u001b[1;32m<ipython-input-43-bfad6eb59ca1>\u001b[0m in \u001b[0;36m<module>\u001b[1;34m\u001b[0m\n\u001b[0;32m      2\u001b[0m     \u001b[0md\u001b[0m \u001b[1;33m=\u001b[0m\u001b[1;33m{\u001b[0m\u001b[1;34m\"key1\"\u001b[0m\u001b[1;33m:\u001b[0m\u001b[1;33m[\u001b[0m\u001b[1;36m1\u001b[0m\u001b[1;33m,\u001b[0m\u001b[1;36m2\u001b[0m\u001b[1;33m,\u001b[0m\u001b[1;36m3\u001b[0m\u001b[1;33m]\u001b[0m\u001b[1;33m,\u001b[0m\u001b[1;34m\"key2\"\u001b[0m\u001b[1;33m:\u001b[0m\u001b[1;36m45\u001b[0m\u001b[1;33m,\u001b[0m\u001b[1;34m\"key3\"\u001b[0m\u001b[1;33m:\u001b[0m\u001b[1;34m\"ineuron\"\u001b[0m\u001b[1;33m}\u001b[0m\u001b[1;33m\u001b[0m\u001b[1;33m\u001b[0m\u001b[0m\n\u001b[0;32m      3\u001b[0m     \u001b[0md\u001b[0m\u001b[1;33m[\u001b[0m\u001b[1;34m\"key4\"\u001b[0m\u001b[1;33m]\u001b[0m\u001b[1;33m=\u001b[0m\u001b[0mint\u001b[0m\u001b[1;33m(\u001b[0m\u001b[0minput\u001b[0m\u001b[1;33m(\u001b[0m\u001b[1;33m)\u001b[0m\u001b[1;33m)\u001b[0m\u001b[1;33m\u001b[0m\u001b[1;33m\u001b[0m\u001b[0m\n\u001b[1;32m----> 4\u001b[1;33m     \u001b[0mf\u001b[0m \u001b[1;33m=\u001b[0m \u001b[0mopen\u001b[0m\u001b[1;33m(\u001b[0m\u001b[1;34m\"test2\"\u001b[0m\u001b[1;33m,\u001b[0m\u001b[1;34m\"r\"\u001b[0m\u001b[1;33m)\u001b[0m\u001b[1;33m\u001b[0m\u001b[1;33m\u001b[0m\u001b[0m\n\u001b[0m\u001b[0;32m      5\u001b[0m \u001b[1;32mexcept\u001b[0m \u001b[0mValueError\u001b[0m \u001b[1;32mas\u001b[0m \u001b[0msudh\u001b[0m\u001b[1;33m:\u001b[0m\u001b[1;33m\u001b[0m\u001b[1;33m\u001b[0m\u001b[0m\n\u001b[0;32m      6\u001b[0m     \u001b[0mprint\u001b[0m\u001b[1;33m(\u001b[0m\u001b[0msudh\u001b[0m\u001b[1;33m)\u001b[0m\u001b[1;33m\u001b[0m\u001b[1;33m\u001b[0m\u001b[0m\n",
      "\u001b[1;31mFileNotFoundError\u001b[0m: [Errno 2] No such file or directory: 'test2'"
     ]
    }
   ],
   "source": [
    "try:\n",
    "    d ={\"key1\":[1,2,3],\"key2\":45,\"key3\":\"ineuron\"}\n",
    "    d[\"key4\"]=int(input())\n",
    "    f = open(\"test2\",\"r\")\n",
    "except ValueError as sudh:\n",
    "    print(sudh)\n",
    "    "
   ]
  },
  {
   "cell_type": "code",
   "execution_count": 44,
   "id": "03871557",
   "metadata": {},
   "outputs": [
    {
     "name": "stdout",
     "output_type": "stream",
     "text": [
      "54\n",
      "[Errno 2] No such file or directory: 'test2'\n"
     ]
    }
   ],
   "source": [
    "try:\n",
    "    d ={\"key1\":[1,2,3],\"key2\":45,\"key3\":\"ineuron\"}\n",
    "    d[\"key4\"]=int(input())\n",
    "    f = open(\"test2\",\"r\")\n",
    "except ValueError as sudh:\n",
    "    print(sudh)\n",
    "except FileNotFoundError as e:\n",
    "    print(e)"
   ]
  },
  {
   "cell_type": "code",
   "execution_count": null,
   "id": "bc6f0c13",
   "metadata": {},
   "outputs": [],
   "source": [
    "try:\n",
    "    d ={\"key1\":[1,2,3],\"key2\":45,\"key3\":\"ineuron\"}\n",
    "    d[\"key4\"]=int(input())\n",
    "    f = open(\"test2\",\"r\")\n",
    "except ValueError as sudh:\n",
    "    print(sudh)\n",
    "except FileNotFoundError as e:\n",
    "    print(e)"
   ]
  },
  {
   "cell_type": "code",
   "execution_count": 46,
   "id": "85a6f337",
   "metadata": {},
   "outputs": [
    {
     "name": "stdout",
     "output_type": "stream",
     "text": [
      "hkh\n",
      "this is my exception class\n"
     ]
    }
   ],
   "source": [
    "try:\n",
    "    d ={\"key1\":[1,2,3],\"key2\":45,\"key3\":\"ineuron\"}\n",
    "    d[\"key4\"]=int(input())\n",
    "    f = open(\"test2\",\"r\")\n",
    "except Exception as Np:\n",
    "    print(\"this is my exception class\")\n",
    "except ValueError as sudh:\n",
    "    print(sudh)\n",
    "except FileNotFoundError as e:\n",
    "    print(e)"
   ]
  },
  {
   "cell_type": "code",
   "execution_count": 45,
   "id": "31a9578e",
   "metadata": {},
   "outputs": [
    {
     "name": "stdout",
     "output_type": "stream",
     "text": [
      "hjg\n",
      "invalid literal for int() with base 10: 'hjg'\n"
     ]
    }
   ],
   "source": [
    "try:\n",
    "    d ={\"key1\":[1,2,3],\"key2\":45,\"key3\":\"ineuron\"}\n",
    "    d[\"key4\"]=int(input())\n",
    "    f = open(\"test2\",\"r\")\n",
    "except ValueError as sudh:\n",
    "    print(sudh)\n",
    "except FileNotFoundError as e:\n",
    "    print(e)\n",
    "except Exception as Np:\n",
    "    print(\"this is my xception class\")"
   ]
  },
  {
   "cell_type": "code",
   "execution_count": 47,
   "id": "9d1d739f",
   "metadata": {},
   "outputs": [
    {
     "name": "stdout",
     "output_type": "stream",
     "text": [
      "45\n",
      "[Errno 2] No such file or directory: 'test2'\n"
     ]
    }
   ],
   "source": [
    "try:\n",
    "    d ={\"key1\":[1,2,3],\"key2\":45,\"key3\":\"ineuron\"}\n",
    "    d[\"key4\"]=int(input())\n",
    "    f = open(\"test2\",\"r\")\n",
    "except ValueError as sudh:\n",
    "    print(sudh)\n",
    "except FileNotFoundError as e:\n",
    "    print(e)\n",
    "except Exception as Np:\n",
    "    print(\"this is my xception class\")"
   ]
  },
  {
   "cell_type": "code",
   "execution_count": 48,
   "id": "c9c82678",
   "metadata": {},
   "outputs": [
    {
     "name": "stdout",
     "output_type": "stream",
     "text": [
      "jk\n",
      "invalid literal for int() with base 10: 'jk'\n"
     ]
    }
   ],
   "source": [
    "try:\n",
    "    d ={\"key1\":[1,2,3],\"key2\":45,\"key3\":\"ineuron\"}\n",
    "    d[\"key4\"]=int(input())\n",
    "    f = open(\"test2\",\"r\")\n",
    "except ValueError as sudh:\n",
    "    print(sudh)\n",
    "except FileNotFoundError as e:\n",
    "    print(e)\n",
    "except Exception as Np:\n",
    "    print(\"this is my xception class\",Np)"
   ]
  },
  {
   "cell_type": "code",
   "execution_count": null,
   "id": "70c254bb",
   "metadata": {},
   "outputs": [],
   "source": [
    "#exception always maintain the hierarchy"
   ]
  },
  {
   "cell_type": "code",
   "execution_count": 49,
   "id": "87b675f3",
   "metadata": {},
   "outputs": [
    {
     "name": "stdout",
     "output_type": "stream",
     "text": [
      "this will execute once my try block  will be execute successfully\n"
     ]
    }
   ],
   "source": [
    "try:\n",
    "    f = open(\"test.txt\",\"w\")\n",
    "    f.write(\"tihs is my code in try\")\n",
    "except Exception as e:\n",
    "    print(\"this will handle an error\")\n",
    "else:\n",
    "    print(\"this will execute once my try block  will be execute successfully\")\n",
    "    f.close()"
   ]
  },
  {
   "cell_type": "code",
   "execution_count": null,
   "id": "fedaa578",
   "metadata": {},
   "outputs": [],
   "source": [
    "#when my try block able to  execute successfully only at that situation im supposed to execute this code at that time we used ELSE code  "
   ]
  },
  {
   "cell_type": "code",
   "execution_count": 50,
   "id": "30dad3b0",
   "metadata": {},
   "outputs": [
    {
     "name": "stdout",
     "output_type": "stream",
     "text": [
      "this is my handler program\n"
     ]
    }
   ],
   "source": [
    "try:\n",
    "    f = open(\"test2.txt\",\"r\")\n",
    "    f.write(\"this is my code in try block\")\n",
    "except Exception as e:\n",
    "    print(\"this is my handler program\")\n",
    "else:\n",
    "    print(\"this will execute my try block will be execute successfully\")\n",
    "    f.close()"
   ]
  },
  {
   "cell_type": "code",
   "execution_count": 51,
   "id": "48779ed0",
   "metadata": {},
   "outputs": [
    {
     "name": "stdout",
     "output_type": "stream",
     "text": [
      "this is my name\n",
      "do this code for me\n"
     ]
    }
   ],
   "source": [
    "try: \n",
    "    f =open(\"test66.txt\",\"r\")\n",
    "except Exception as e:\n",
    "    print(\"this is my name\")\n",
    "finally:\n",
    "    print(\"do this code for me\")"
   ]
  },
  {
   "cell_type": "code",
   "execution_count": 52,
   "id": "6e81ec33",
   "metadata": {},
   "outputs": [],
   "source": [
    "#finally block will able to execute all the time."
   ]
  },
  {
   "cell_type": "code",
   "execution_count": 53,
   "id": "5200f8b6",
   "metadata": {},
   "outputs": [
    {
     "name": "stdout",
     "output_type": "stream",
     "text": [
      "this is my name\n",
      "do this code for me\n"
     ]
    }
   ],
   "source": [
    "try: \n",
    "    f =open(\"test66.txt\",\"r\")\n",
    "except Exception as e:\n",
    "    print(\"this is my name\")\n",
    "else:\n",
    "    print(\"this is else block\")\n",
    "finally:\n",
    "    print(\"do this code for me\")"
   ]
  },
  {
   "cell_type": "code",
   "execution_count": 54,
   "id": "d55e1b58",
   "metadata": {},
   "outputs": [
    {
     "name": "stdout",
     "output_type": "stream",
     "text": [
      "this is else block\n",
      "do this for sure\n"
     ]
    },
    {
     "ename": "FileNotFoundError",
     "evalue": "[Errno 2] No such file or directory: 'another'",
     "output_type": "error",
     "traceback": [
      "\u001b[1;31m---------------------------------------------------------------------------\u001b[0m",
      "\u001b[1;31mFileNotFoundError\u001b[0m                         Traceback (most recent call last)",
      "\u001b[1;32m<ipython-input-54-c5ee1f350a36>\u001b[0m in \u001b[0;36m<module>\u001b[1;34m\u001b[0m\n\u001b[0;32m      7\u001b[0m \u001b[1;32mfinally\u001b[0m\u001b[1;33m:\u001b[0m\u001b[1;33m\u001b[0m\u001b[1;33m\u001b[0m\u001b[0m\n\u001b[0;32m      8\u001b[0m     \u001b[0mprint\u001b[0m\u001b[1;33m(\u001b[0m\u001b[1;34m\"do this for sure\"\u001b[0m\u001b[1;33m)\u001b[0m\u001b[1;33m\u001b[0m\u001b[1;33m\u001b[0m\u001b[0m\n\u001b[1;32m----> 9\u001b[1;33m     \u001b[0mf\u001b[0m \u001b[1;33m=\u001b[0m \u001b[0mopen\u001b[0m\u001b[1;33m(\u001b[0m\u001b[1;34m\"another\"\u001b[0m\u001b[1;33m,\u001b[0m\u001b[1;34m\"r\"\u001b[0m\u001b[1;33m)\u001b[0m\u001b[1;33m\u001b[0m\u001b[1;33m\u001b[0m\u001b[0m\n\u001b[0m",
      "\u001b[1;31mFileNotFoundError\u001b[0m: [Errno 2] No such file or directory: 'another'"
     ]
    }
   ],
   "source": [
    "try:\n",
    "    f = open(\"test.txt\",\"w\")\n",
    "except Exception as e:\n",
    "    print(\"this is my name\")\n",
    "else:\n",
    "    print(\"this is else block\")\n",
    "finally:\n",
    "    print(\"do this for sure\")\n",
    "    f = open(\"another\",\"r\")"
   ]
  },
  {
   "cell_type": "code",
   "execution_count": 55,
   "id": "4fc3f732",
   "metadata": {},
   "outputs": [
    {
     "name": "stdout",
     "output_type": "stream",
     "text": [
      "this is else block\n",
      "do this for sure\n",
      "except\n",
      "finally\n"
     ]
    }
   ],
   "source": [
    "try:\n",
    "    f = open(\"test.txt\",\"w\")\n",
    "except Exception as e:\n",
    "    print(\"this is my name\")\n",
    "else:\n",
    "    print(\"this is else block\")\n",
    "finally:\n",
    "    print(\"do this for sure\")\n",
    "    \n",
    "    try:\n",
    "        f = open(\"another\",\"r\")\n",
    "    except:\n",
    "        print(\"except\")\n",
    "    finally:\n",
    "        print(\"finally\")"
   ]
  },
  {
   "cell_type": "code",
   "execution_count": 56,
   "id": "d9af897d",
   "metadata": {},
   "outputs": [],
   "source": [
    "def askint():\n",
    "    a = int(input())\n",
    "    return a"
   ]
  },
  {
   "cell_type": "code",
   "execution_count": 57,
   "id": "03e1647f",
   "metadata": {},
   "outputs": [
    {
     "name": "stdout",
     "output_type": "stream",
     "text": [
      "54\n"
     ]
    },
    {
     "data": {
      "text/plain": [
       "54"
      ]
     },
     "execution_count": 57,
     "metadata": {},
     "output_type": "execute_result"
    }
   ],
   "source": [
    "askint()"
   ]
  },
  {
   "cell_type": "code",
   "execution_count": 58,
   "id": "7e8b5f29",
   "metadata": {},
   "outputs": [
    {
     "name": "stdout",
     "output_type": "stream",
     "text": [
      "de\n"
     ]
    },
    {
     "ename": "ValueError",
     "evalue": "invalid literal for int() with base 10: 'de'",
     "output_type": "error",
     "traceback": [
      "\u001b[1;31m---------------------------------------------------------------------------\u001b[0m",
      "\u001b[1;31mValueError\u001b[0m                                Traceback (most recent call last)",
      "\u001b[1;32m<ipython-input-58-cc291aa76c10>\u001b[0m in \u001b[0;36m<module>\u001b[1;34m\u001b[0m\n\u001b[1;32m----> 1\u001b[1;33m \u001b[0maskint\u001b[0m\u001b[1;33m(\u001b[0m\u001b[1;33m)\u001b[0m\u001b[1;33m\u001b[0m\u001b[1;33m\u001b[0m\u001b[0m\n\u001b[0m",
      "\u001b[1;32m<ipython-input-56-631861caf452>\u001b[0m in \u001b[0;36maskint\u001b[1;34m()\u001b[0m\n\u001b[0;32m      1\u001b[0m \u001b[1;32mdef\u001b[0m \u001b[0maskint\u001b[0m\u001b[1;33m(\u001b[0m\u001b[1;33m)\u001b[0m\u001b[1;33m:\u001b[0m\u001b[1;33m\u001b[0m\u001b[1;33m\u001b[0m\u001b[0m\n\u001b[1;32m----> 2\u001b[1;33m     \u001b[0ma\u001b[0m \u001b[1;33m=\u001b[0m \u001b[0mint\u001b[0m\u001b[1;33m(\u001b[0m\u001b[0minput\u001b[0m\u001b[1;33m(\u001b[0m\u001b[1;33m)\u001b[0m\u001b[1;33m)\u001b[0m\u001b[1;33m\u001b[0m\u001b[1;33m\u001b[0m\u001b[0m\n\u001b[0m\u001b[0;32m      3\u001b[0m     \u001b[1;32mreturn\u001b[0m \u001b[0ma\u001b[0m\u001b[1;33m\u001b[0m\u001b[1;33m\u001b[0m\u001b[0m\n",
      "\u001b[1;31mValueError\u001b[0m: invalid literal for int() with base 10: 'de'"
     ]
    }
   ],
   "source": [
    "askint()"
   ]
  },
  {
   "cell_type": "code",
   "execution_count": 59,
   "id": "e67e88df",
   "metadata": {},
   "outputs": [],
   "source": [
    "def askint():\n",
    "    try:\n",
    "        a = int(input())\n",
    "        return a\n",
    "    except:\n",
    "        print(\"this is my error\")"
   ]
  },
  {
   "cell_type": "code",
   "execution_count": 60,
   "id": "210dd971",
   "metadata": {},
   "outputs": [
    {
     "name": "stdout",
     "output_type": "stream",
     "text": [
      "fs\n",
      "this is my error\n"
     ]
    }
   ],
   "source": [
    "askint()"
   ]
  },
  {
   "cell_type": "code",
   "execution_count": null,
   "id": "c7d51e1e",
   "metadata": {},
   "outputs": [],
   "source": [
    "askint()"
   ]
  },
  {
   "cell_type": "code",
   "execution_count": 61,
   "id": "b70782af",
   "metadata": {},
   "outputs": [],
   "source": [
    "def askint():\n",
    "    try:\n",
    "        a = int(input())\n",
    "    except:\n",
    "        print(\"this is my error\")"
   ]
  },
  {
   "cell_type": "code",
   "execution_count": 62,
   "id": "33c7074d",
   "metadata": {},
   "outputs": [
    {
     "name": "stdout",
     "output_type": "stream",
     "text": [
      "45\n"
     ]
    }
   ],
   "source": [
    "askint()"
   ]
  },
  {
   "cell_type": "code",
   "execution_count": 63,
   "id": "4ed7be88",
   "metadata": {},
   "outputs": [
    {
     "name": "stdout",
     "output_type": "stream",
     "text": [
      "f\n",
      "this is my error\n"
     ]
    }
   ],
   "source": [
    "askint()"
   ]
  },
  {
   "cell_type": "code",
   "execution_count": 64,
   "id": "b02dde14",
   "metadata": {},
   "outputs": [],
   "source": [
    "def askint():\n",
    "    try:\n",
    "        a = int(input())\n",
    "        return a\n",
    "    except:\n",
    "        print(\"this is my error\" , e)"
   ]
  },
  {
   "cell_type": "code",
   "execution_count": 65,
   "id": "d035e239",
   "metadata": {},
   "outputs": [
    {
     "name": "stdout",
     "output_type": "stream",
     "text": [
      "86\n"
     ]
    },
    {
     "data": {
      "text/plain": [
       "86"
      ]
     },
     "execution_count": 65,
     "metadata": {},
     "output_type": "execute_result"
    }
   ],
   "source": [
    "askint()"
   ]
  },
  {
   "cell_type": "code",
   "execution_count": 66,
   "id": "441fcb63",
   "metadata": {},
   "outputs": [
    {
     "name": "stdout",
     "output_type": "stream",
     "text": [
      "f\n"
     ]
    },
    {
     "ename": "NameError",
     "evalue": "name 'e' is not defined",
     "output_type": "error",
     "traceback": [
      "\u001b[1;31m---------------------------------------------------------------------------\u001b[0m",
      "\u001b[1;31mValueError\u001b[0m                                Traceback (most recent call last)",
      "\u001b[1;32m<ipython-input-64-137b801df05e>\u001b[0m in \u001b[0;36maskint\u001b[1;34m()\u001b[0m\n\u001b[0;32m      2\u001b[0m     \u001b[1;32mtry\u001b[0m\u001b[1;33m:\u001b[0m\u001b[1;33m\u001b[0m\u001b[1;33m\u001b[0m\u001b[0m\n\u001b[1;32m----> 3\u001b[1;33m         \u001b[0ma\u001b[0m \u001b[1;33m=\u001b[0m \u001b[0mint\u001b[0m\u001b[1;33m(\u001b[0m\u001b[0minput\u001b[0m\u001b[1;33m(\u001b[0m\u001b[1;33m)\u001b[0m\u001b[1;33m)\u001b[0m\u001b[1;33m\u001b[0m\u001b[1;33m\u001b[0m\u001b[0m\n\u001b[0m\u001b[0;32m      4\u001b[0m         \u001b[1;32mreturn\u001b[0m \u001b[0ma\u001b[0m\u001b[1;33m\u001b[0m\u001b[1;33m\u001b[0m\u001b[0m\n",
      "\u001b[1;31mValueError\u001b[0m: invalid literal for int() with base 10: 'f'",
      "\nDuring handling of the above exception, another exception occurred:\n",
      "\u001b[1;31mNameError\u001b[0m                                 Traceback (most recent call last)",
      "\u001b[1;32m<ipython-input-66-cc291aa76c10>\u001b[0m in \u001b[0;36m<module>\u001b[1;34m\u001b[0m\n\u001b[1;32m----> 1\u001b[1;33m \u001b[0maskint\u001b[0m\u001b[1;33m(\u001b[0m\u001b[1;33m)\u001b[0m\u001b[1;33m\u001b[0m\u001b[1;33m\u001b[0m\u001b[0m\n\u001b[0m",
      "\u001b[1;32m<ipython-input-64-137b801df05e>\u001b[0m in \u001b[0;36maskint\u001b[1;34m()\u001b[0m\n\u001b[0;32m      4\u001b[0m         \u001b[1;32mreturn\u001b[0m \u001b[0ma\u001b[0m\u001b[1;33m\u001b[0m\u001b[1;33m\u001b[0m\u001b[0m\n\u001b[0;32m      5\u001b[0m     \u001b[1;32mexcept\u001b[0m\u001b[1;33m:\u001b[0m\u001b[1;33m\u001b[0m\u001b[1;33m\u001b[0m\u001b[0m\n\u001b[1;32m----> 6\u001b[1;33m         \u001b[0mprint\u001b[0m\u001b[1;33m(\u001b[0m\u001b[1;34m\"this is my error\"\u001b[0m \u001b[1;33m,\u001b[0m \u001b[0me\u001b[0m\u001b[1;33m)\u001b[0m\u001b[1;33m\u001b[0m\u001b[1;33m\u001b[0m\u001b[0m\n\u001b[0m",
      "\u001b[1;31mNameError\u001b[0m: name 'e' is not defined"
     ]
    }
   ],
   "source": [
    "askint()"
   ]
  },
  {
   "cell_type": "code",
   "execution_count": 67,
   "id": "030b6d49",
   "metadata": {},
   "outputs": [],
   "source": [
    "def askint():\n",
    "    try:\n",
    "        a = int(input())\n",
    "        return a\n",
    "    except Exception as e:\n",
    "        print(\"this is my error\" , e)"
   ]
  },
  {
   "cell_type": "code",
   "execution_count": 68,
   "id": "65186d38",
   "metadata": {},
   "outputs": [
    {
     "name": "stdout",
     "output_type": "stream",
     "text": [
      "57\n"
     ]
    },
    {
     "data": {
      "text/plain": [
       "57"
      ]
     },
     "execution_count": 68,
     "metadata": {},
     "output_type": "execute_result"
    }
   ],
   "source": [
    "askint()"
   ]
  },
  {
   "cell_type": "code",
   "execution_count": null,
   "id": "cda1d928",
   "metadata": {},
   "outputs": [],
   "source": [
    "askint()"
   ]
  },
  {
   "cell_type": "code",
   "execution_count": 70,
   "id": "3819072b",
   "metadata": {},
   "outputs": [
    {
     "name": "stdout",
     "output_type": "stream",
     "text": [
      "bjhgh\n",
      "you didn't entered an integer, please enter valid integer invalid literal for int() with base 10: 'bjhgh'\n",
      "jh\n",
      "you didn't entered an integer, please enter valid integer invalid literal for int() with base 10: 'jh'\n",
      "45\n",
      "you have entered an integer\n"
     ]
    }
   ],
   "source": [
    "def fun1():\n",
    "    n = True\n",
    "    while n:\n",
    "        try: \n",
    "            a = int(input())\n",
    "            if type(a)==int:\n",
    "                print(\"you have entered an integer\")\n",
    "                n = False\n",
    "                \n",
    "        except Exception as e:\n",
    "            print(\"you didn't entered an integer, please enter valid integer\", e)   \n",
    "fun1()            "
   ]
  },
  {
   "cell_type": "code",
   "execution_count": 71,
   "id": "bc6a93b9",
   "metadata": {},
   "outputs": [
    {
     "name": "stdout",
     "output_type": "stream",
     "text": [
      "bhbk\n",
      "please inter integer again\n",
      "8\n"
     ]
    },
    {
     "data": {
      "text/plain": [
       "'correct integer'"
      ]
     },
     "execution_count": 71,
     "metadata": {},
     "output_type": "execute_result"
    }
   ],
   "source": [
    "def integer():\n",
    "    while True:\n",
    "        \"function ask for integer\"\n",
    "        try:\n",
    "            x = int(input())\n",
    "            return \"correct integer\"\n",
    "            break\n",
    "        except ValueError as e:\n",
    "            print('please inter integer again')\n",
    "integer()\n",
    "            "
   ]
  },
  {
   "cell_type": "code",
   "execution_count": null,
   "id": "8a459e2c",
   "metadata": {},
   "outputs": [],
   "source": [
    "def integer():\n",
    "    while True:\n",
    "       \n",
    "        try:\n",
    "            x = int(input())\n",
    "            return \"correct integer\"\n",
    "            break\n",
    "        except ValueError as e:\n",
    "            print('please inter integer again')\n",
    "integer()\n",
    "            "
   ]
  },
  {
   "cell_type": "code",
   "execution_count": null,
   "id": "59a10f6a",
   "metadata": {},
   "outputs": [],
   "source": []
  },
  {
   "cell_type": "code",
   "execution_count": null,
   "id": "81566b60",
   "metadata": {},
   "outputs": [],
   "source": []
  },
  {
   "cell_type": "code",
   "execution_count": null,
   "id": "5d8b5326",
   "metadata": {},
   "outputs": [],
   "source": [
    "def askint():\n",
    "    while True:\n",
    "        try:\n",
    "            num = int(input(\"enter number is  \"))\n",
    "            break\n",
    "        except ValueError as a:\n",
    "                print(\"please enter int digit again\", a)\n",
    "askint()            "
   ]
  },
  {
   "cell_type": "code",
   "execution_count": null,
   "id": "ffeaa510",
   "metadata": {},
   "outputs": [],
   "source": [
    "def fun1():\n",
    "    flag=True\n",
    "    while flag:\n",
    "        try:\n",
    "            a=int(input(\"enter the interger:\"))\n",
    "            if type(a)==int:\n",
    "                return \"yes, you have entered an integer\"\n",
    "                flag=False\n",
    "                \n",
    "    \n",
    "        except Exception as e:\n",
    "            print(\"Nah, you did not enter an integer, please enter an integer. ERROR:\",e)\n",
    "        \n",
    "fun1()\n"
   ]
  },
  {
   "cell_type": "code",
   "execution_count": 72,
   "id": "0b103465",
   "metadata": {},
   "outputs": [
    {
     "name": "stdout",
     "output_type": "stream",
     "text": [
      "huih\n",
      "enter the input again invalid literal for int() with base 10: 'huih'\n",
      "446\n"
     ]
    }
   ],
   "source": [
    "def integer():\n",
    "        while True:\n",
    "            \"\"\"Function asks for an integer unless provided otherwise\"\"\"\n",
    "            try:\n",
    "                x = int(input())\n",
    "                break\n",
    "            except ValueError as e:\n",
    "                print(\"enter the input again\",e)\n",
    "        \n",
    "integer()\n"
   ]
  },
  {
   "cell_type": "code",
   "execution_count": 73,
   "id": "20d7bfa1",
   "metadata": {},
   "outputs": [
    {
     "name": "stdout",
     "output_type": "stream",
     "text": [
      "gjh\n",
      "Sorry, I didn't understand that.\n",
      "87\n"
     ]
    },
    {
     "data": {
      "text/plain": [
       "87"
      ]
     },
     "execution_count": 73,
     "metadata": {},
     "output_type": "execute_result"
    }
   ],
   "source": [
    "def getint(p):\n",
    "    while True:\n",
    "        try:\n",
    "            value = int(input())\n",
    "        except ValueError:\n",
    "            print(\"Sorry, I didn't understand that.\")\n",
    "            continue\n",
    "\n",
    "        if value < 0:\n",
    "            print(\"Sorry, your response must not be negative.\")\n",
    "            continue\n",
    "        else:\n",
    "            break\n",
    "    return value\n",
    "getint(\"p\")"
   ]
  },
  {
   "cell_type": "code",
   "execution_count": null,
   "id": "fbf76a02",
   "metadata": {},
   "outputs": [],
   "source": []
  },
  {
   "cell_type": "code",
   "execution_count": null,
   "id": "48f2915d",
   "metadata": {},
   "outputs": [],
   "source": [
    "def askint():\n",
    "    while True:\n",
    "        try:\n",
    "            num = int(input(\"enter number is \"))\n",
    "            break\n",
    "        except ValueError as v:\n",
    "            print(\"plz enter int again\", v)\n",
    "        #continue      \n",
    "            "
   ]
  },
  {
   "cell_type": "code",
   "execution_count": 74,
   "id": "5bd29e5b",
   "metadata": {},
   "outputs": [
    {
     "name": "stdout",
     "output_type": "stream",
     "text": [
      "45\n"
     ]
    },
    {
     "data": {
      "text/plain": [
       "45"
      ]
     },
     "execution_count": 74,
     "metadata": {},
     "output_type": "execute_result"
    }
   ],
   "source": [
    "askint()"
   ]
  },
  {
   "cell_type": "code",
   "execution_count": null,
   "id": "04b4ee4f",
   "metadata": {},
   "outputs": [],
   "source": [
    "a = 6/10"
   ]
  },
  {
   "cell_type": "code",
   "execution_count": null,
   "id": "16abbed0",
   "metadata": {},
   "outputs": [],
   "source": [
    "5/0"
   ]
  },
  {
   "cell_type": "code",
   "execution_count": null,
   "id": "b6eef2d2",
   "metadata": {},
   "outputs": [],
   "source": []
  },
  {
   "cell_type": "code",
   "execution_count": 75,
   "id": "511bc668",
   "metadata": {},
   "outputs": [],
   "source": [
    "def test(a):\n",
    "    if a < 0:\n",
    "        raise Exception (a)   \n",
    "    return a"
   ]
  },
  {
   "cell_type": "code",
   "execution_count": 76,
   "id": "a0b97967",
   "metadata": {},
   "outputs": [
    {
     "data": {
      "text/plain": [
       "4"
      ]
     },
     "execution_count": 76,
     "metadata": {},
     "output_type": "execute_result"
    }
   ],
   "source": [
    "test(4)"
   ]
  },
  {
   "cell_type": "code",
   "execution_count": 77,
   "id": "a5548178",
   "metadata": {},
   "outputs": [
    {
     "ename": "Exception",
     "evalue": "-4",
     "output_type": "error",
     "traceback": [
      "\u001b[1;31m---------------------------------------------------------------------------\u001b[0m",
      "\u001b[1;31mException\u001b[0m                                 Traceback (most recent call last)",
      "\u001b[1;32m<ipython-input-77-d2bb95962d49>\u001b[0m in \u001b[0;36m<module>\u001b[1;34m\u001b[0m\n\u001b[1;32m----> 1\u001b[1;33m \u001b[0mtest\u001b[0m\u001b[1;33m(\u001b[0m\u001b[1;33m-\u001b[0m\u001b[1;36m4\u001b[0m\u001b[1;33m)\u001b[0m\u001b[1;33m\u001b[0m\u001b[1;33m\u001b[0m\u001b[0m\n\u001b[0m",
      "\u001b[1;32m<ipython-input-75-d3b3c596d259>\u001b[0m in \u001b[0;36mtest\u001b[1;34m(a)\u001b[0m\n\u001b[0;32m      1\u001b[0m \u001b[1;32mdef\u001b[0m \u001b[0mtest\u001b[0m\u001b[1;33m(\u001b[0m\u001b[0ma\u001b[0m\u001b[1;33m)\u001b[0m\u001b[1;33m:\u001b[0m\u001b[1;33m\u001b[0m\u001b[1;33m\u001b[0m\u001b[0m\n\u001b[0;32m      2\u001b[0m     \u001b[1;32mif\u001b[0m \u001b[0ma\u001b[0m \u001b[1;33m<\u001b[0m \u001b[1;36m0\u001b[0m\u001b[1;33m:\u001b[0m\u001b[1;33m\u001b[0m\u001b[1;33m\u001b[0m\u001b[0m\n\u001b[1;32m----> 3\u001b[1;33m         \u001b[1;32mraise\u001b[0m \u001b[0mException\u001b[0m \u001b[1;33m(\u001b[0m\u001b[0ma\u001b[0m\u001b[1;33m)\u001b[0m\u001b[1;33m\u001b[0m\u001b[1;33m\u001b[0m\u001b[0m\n\u001b[0m\u001b[0;32m      4\u001b[0m     \u001b[1;32mreturn\u001b[0m \u001b[0ma\u001b[0m\u001b[1;33m\u001b[0m\u001b[1;33m\u001b[0m\u001b[0m\n",
      "\u001b[1;31mException\u001b[0m: -4"
     ]
    }
   ],
   "source": [
    "test(-4)"
   ]
  },
  {
   "cell_type": "code",
   "execution_count": 78,
   "id": "9da37ee9",
   "metadata": {},
   "outputs": [],
   "source": [
    "def test(a):\n",
    "    if a < 0 :\n",
    "        raise Exception (\"value we combine\")  \n",
    "    return a"
   ]
  },
  {
   "cell_type": "code",
   "execution_count": 79,
   "id": "27668d98",
   "metadata": {},
   "outputs": [
    {
     "data": {
      "text/plain": [
       "4"
      ]
     },
     "execution_count": 79,
     "metadata": {},
     "output_type": "execute_result"
    }
   ],
   "source": [
    "test(4)"
   ]
  },
  {
   "cell_type": "code",
   "execution_count": 80,
   "id": "43088f5d",
   "metadata": {},
   "outputs": [
    {
     "ename": "Exception",
     "evalue": "value we combine",
     "output_type": "error",
     "traceback": [
      "\u001b[1;31m---------------------------------------------------------------------------\u001b[0m",
      "\u001b[1;31mException\u001b[0m                                 Traceback (most recent call last)",
      "\u001b[1;32m<ipython-input-80-d2bb95962d49>\u001b[0m in \u001b[0;36m<module>\u001b[1;34m\u001b[0m\n\u001b[1;32m----> 1\u001b[1;33m \u001b[0mtest\u001b[0m\u001b[1;33m(\u001b[0m\u001b[1;33m-\u001b[0m\u001b[1;36m4\u001b[0m\u001b[1;33m)\u001b[0m\u001b[1;33m\u001b[0m\u001b[1;33m\u001b[0m\u001b[0m\n\u001b[0m",
      "\u001b[1;32m<ipython-input-78-73d916708cd3>\u001b[0m in \u001b[0;36mtest\u001b[1;34m(a)\u001b[0m\n\u001b[0;32m      1\u001b[0m \u001b[1;32mdef\u001b[0m \u001b[0mtest\u001b[0m\u001b[1;33m(\u001b[0m\u001b[0ma\u001b[0m\u001b[1;33m)\u001b[0m\u001b[1;33m:\u001b[0m\u001b[1;33m\u001b[0m\u001b[1;33m\u001b[0m\u001b[0m\n\u001b[0;32m      2\u001b[0m     \u001b[1;32mif\u001b[0m \u001b[0ma\u001b[0m \u001b[1;33m<\u001b[0m \u001b[1;36m0\u001b[0m \u001b[1;33m:\u001b[0m\u001b[1;33m\u001b[0m\u001b[1;33m\u001b[0m\u001b[0m\n\u001b[1;32m----> 3\u001b[1;33m         \u001b[1;32mraise\u001b[0m \u001b[0mException\u001b[0m \u001b[1;33m(\u001b[0m\u001b[1;34m\"value we combine\"\u001b[0m\u001b[1;33m)\u001b[0m\u001b[1;33m\u001b[0m\u001b[1;33m\u001b[0m\u001b[0m\n\u001b[0m\u001b[0;32m      4\u001b[0m     \u001b[1;32mreturn\u001b[0m \u001b[0ma\u001b[0m\u001b[1;33m\u001b[0m\u001b[1;33m\u001b[0m\u001b[0m\n",
      "\u001b[1;31mException\u001b[0m: value we combine"
     ]
    }
   ],
   "source": [
    "test(-4)"
   ]
  },
  {
   "cell_type": "code",
   "execution_count": 4,
   "id": "005b2ffb",
   "metadata": {},
   "outputs": [],
   "source": [
    "def test(a):\n",
    "    if a < 0 :\n",
    "        raise Exception(\"YOU HAVE ENTERED A EXCEPTION\")  \n",
    "    return a"
   ]
  },
  {
   "cell_type": "code",
   "execution_count": 5,
   "id": "7174772e",
   "metadata": {},
   "outputs": [
    {
     "ename": "Exception",
     "evalue": "YOU HAVE ENTERED A EXCEPTION",
     "output_type": "error",
     "traceback": [
      "\u001b[1;31m---------------------------------------------------------------------------\u001b[0m",
      "\u001b[1;31mException\u001b[0m                                 Traceback (most recent call last)",
      "\u001b[1;32m<ipython-input-5-dad9cf5f6621>\u001b[0m in \u001b[0;36m<module>\u001b[1;34m\u001b[0m\n\u001b[1;32m----> 1\u001b[1;33m \u001b[0mtest\u001b[0m\u001b[1;33m(\u001b[0m\u001b[1;33m-\u001b[0m\u001b[1;36m6\u001b[0m\u001b[1;33m)\u001b[0m\u001b[1;33m\u001b[0m\u001b[1;33m\u001b[0m\u001b[0m\n\u001b[0m",
      "\u001b[1;32m<ipython-input-4-698edbdee190>\u001b[0m in \u001b[0;36mtest\u001b[1;34m(a)\u001b[0m\n\u001b[0;32m      1\u001b[0m \u001b[1;32mdef\u001b[0m \u001b[0mtest\u001b[0m\u001b[1;33m(\u001b[0m\u001b[0ma\u001b[0m\u001b[1;33m)\u001b[0m\u001b[1;33m:\u001b[0m\u001b[1;33m\u001b[0m\u001b[1;33m\u001b[0m\u001b[0m\n\u001b[0;32m      2\u001b[0m     \u001b[1;32mif\u001b[0m \u001b[0ma\u001b[0m \u001b[1;33m<\u001b[0m \u001b[1;36m0\u001b[0m \u001b[1;33m:\u001b[0m\u001b[1;33m\u001b[0m\u001b[1;33m\u001b[0m\u001b[0m\n\u001b[1;32m----> 3\u001b[1;33m         \u001b[1;32mraise\u001b[0m \u001b[0mException\u001b[0m\u001b[1;33m(\u001b[0m\u001b[1;34m\"YOU HAVE ENTERED A EXCEPTION\"\u001b[0m\u001b[1;33m)\u001b[0m\u001b[1;33m\u001b[0m\u001b[1;33m\u001b[0m\u001b[0m\n\u001b[0m\u001b[0;32m      4\u001b[0m     \u001b[1;32mreturn\u001b[0m \u001b[0ma\u001b[0m\u001b[1;33m\u001b[0m\u001b[1;33m\u001b[0m\u001b[0m\n",
      "\u001b[1;31mException\u001b[0m: YOU HAVE ENTERED A EXCEPTION"
     ]
    }
   ],
   "source": [
    "test(-6)"
   ]
  },
  {
   "cell_type": "code",
   "execution_count": null,
   "id": "784e778f",
   "metadata": {},
   "outputs": [],
   "source": [
    "# we have add error name as anythiong you want at this program(you can raise an exeption as you want)"
   ]
  },
  {
   "cell_type": "code",
   "execution_count": 11,
   "id": "6853df78",
   "metadata": {},
   "outputs": [
    {
     "ename": "ZeroDivisionError",
     "evalue": "division by zero",
     "output_type": "error",
     "traceback": [
      "\u001b[1;31m---------------------------------------------------------------------------\u001b[0m",
      "\u001b[1;31mZeroDivisionError\u001b[0m                         Traceback (most recent call last)",
      "\u001b[1;32m<ipython-input-11-0106664d39e8>\u001b[0m in \u001b[0;36m<module>\u001b[1;34m\u001b[0m\n\u001b[1;32m----> 1\u001b[1;33m \u001b[1;36m5\u001b[0m\u001b[1;33m/\u001b[0m\u001b[1;36m0\u001b[0m\u001b[1;33m\u001b[0m\u001b[1;33m\u001b[0m\u001b[0m\n\u001b[0m",
      "\u001b[1;31mZeroDivisionError\u001b[0m: division by zero"
     ]
    }
   ],
   "source": [
    "5/0"
   ]
  },
  {
   "cell_type": "code",
   "execution_count": 81,
   "id": "986e4488",
   "metadata": {},
   "outputs": [
    {
     "name": "stdout",
     "output_type": "stream",
     "text": [
      "calling my raised exception '<' not supported between instances of 'str' and 'int'\n"
     ]
    }
   ],
   "source": [
    "try:\n",
    "    test(\"sudh\")\n",
    "except Exception as e:\n",
    "    print(\"calling my raised exception\",e)"
   ]
  },
  {
   "cell_type": "code",
   "execution_count": 82,
   "id": "b61385e0",
   "metadata": {},
   "outputs": [
    {
     "ename": "TypeError",
     "evalue": "'<' not supported between instances of 'str' and 'int'",
     "output_type": "error",
     "traceback": [
      "\u001b[1;31m---------------------------------------------------------------------------\u001b[0m",
      "\u001b[1;31mTypeError\u001b[0m                                 Traceback (most recent call last)",
      "\u001b[1;32m<ipython-input-82-d34bafc9512c>\u001b[0m in \u001b[0;36m<module>\u001b[1;34m\u001b[0m\n\u001b[1;32m----> 1\u001b[1;33m \u001b[0mtest\u001b[0m\u001b[1;33m(\u001b[0m\u001b[1;34m\"sudh\"\u001b[0m\u001b[1;33m)\u001b[0m\u001b[1;33m\u001b[0m\u001b[1;33m\u001b[0m\u001b[0m\n\u001b[0m",
      "\u001b[1;32m<ipython-input-78-73d916708cd3>\u001b[0m in \u001b[0;36mtest\u001b[1;34m(a)\u001b[0m\n\u001b[0;32m      1\u001b[0m \u001b[1;32mdef\u001b[0m \u001b[0mtest\u001b[0m\u001b[1;33m(\u001b[0m\u001b[0ma\u001b[0m\u001b[1;33m)\u001b[0m\u001b[1;33m:\u001b[0m\u001b[1;33m\u001b[0m\u001b[1;33m\u001b[0m\u001b[0m\n\u001b[1;32m----> 2\u001b[1;33m     \u001b[1;32mif\u001b[0m \u001b[0ma\u001b[0m \u001b[1;33m<\u001b[0m \u001b[1;36m0\u001b[0m \u001b[1;33m:\u001b[0m\u001b[1;33m\u001b[0m\u001b[1;33m\u001b[0m\u001b[0m\n\u001b[0m\u001b[0;32m      3\u001b[0m         \u001b[1;32mraise\u001b[0m \u001b[0mException\u001b[0m \u001b[1;33m(\u001b[0m\u001b[1;34m\"value we combine\"\u001b[0m\u001b[1;33m)\u001b[0m\u001b[1;33m\u001b[0m\u001b[1;33m\u001b[0m\u001b[0m\n\u001b[0;32m      4\u001b[0m     \u001b[1;32mreturn\u001b[0m \u001b[0ma\u001b[0m\u001b[1;33m\u001b[0m\u001b[1;33m\u001b[0m\u001b[0m\n",
      "\u001b[1;31mTypeError\u001b[0m: '<' not supported between instances of 'str' and 'int'"
     ]
    }
   ],
   "source": [
    "test(\"sudh\")"
   ]
  },
  {
   "cell_type": "code",
   "execution_count": 1,
   "id": "411537cb",
   "metadata": {},
   "outputs": [
    {
     "name": "stdout",
     "output_type": "stream",
     "text": [
      "vsag\n",
      "calling my raised exception\n"
     ]
    }
   ],
   "source": [
    "try:\n",
    "    a = int(input())\n",
    "    test(a)\n",
    "except Exception as e:\n",
    "    print(\"calling my raised exception\")\n",
    "    "
   ]
  },
  {
   "cell_type": "code",
   "execution_count": null,
   "id": "380f9dbf",
   "metadata": {},
   "outputs": [],
   "source": [
    "try:\n",
    "    a = int(input())\n",
    "    test(a)\n",
    "except Exception as e:\n",
    "    print(\"calling my raised exception\")\n",
    "    "
   ]
  },
  {
   "cell_type": "code",
   "execution_count": null,
   "id": "4b934994",
   "metadata": {},
   "outputs": [],
   "source": [
    "try:\n",
    "    a = int(input())\n",
    "    test(a)\n",
    "except Exception as e:\n",
    "    print(\"calling my raised exception\",e)\n",
    "    "
   ]
  },
  {
   "cell_type": "code",
   "execution_count": null,
   "id": "7ed13620",
   "metadata": {},
   "outputs": [],
   "source": [
    "try:\n",
    "    a = int(input())\n",
    "    test(a)\n",
    "except Exception as e:\n",
    "    print(\"calling my raised exception\",e)\n",
    "    "
   ]
  },
  {
   "cell_type": "code",
   "execution_count": null,
   "id": "f2073fb7",
   "metadata": {},
   "outputs": [],
   "source": []
  },
  {
   "cell_type": "code",
   "execution_count": null,
   "id": "321348b1",
   "metadata": {},
   "outputs": [],
   "source": [
    "print(\"fhjdhwf\")"
   ]
  },
  {
   "cell_type": "code",
   "execution_count": 15,
   "id": "995dadb7",
   "metadata": {},
   "outputs": [],
   "source": [
    "  import logging     # logging is a simple process to write a massages     "
   ]
  },
  {
   "cell_type": "code",
   "execution_count": 16,
   "id": "f12bcdb7",
   "metadata": {},
   "outputs": [],
   "source": [
    "logging.basicConfig(filename = \"test00.log\")   # #folder is created at python jupytor homepage"
   ]
  },
  {
   "cell_type": "code",
   "execution_count": 17,
   "id": "6621dec6",
   "metadata": {},
   "outputs": [
    {
     "data": {
      "text/plain": [
       "'C:\\\\Users\\\\Nplite\\\\Favorites'"
      ]
     },
     "execution_count": 17,
     "metadata": {},
     "output_type": "execute_result"
    }
   ],
   "source": [
    "pwd() "
   ]
  },
  {
   "cell_type": "code",
   "execution_count": 18,
   "id": "a411f384",
   "metadata": {},
   "outputs": [
    {
     "name": "stdout",
     "output_type": "stream",
     "text": [
      " Volume in drive C has no label.\n",
      " Volume Serial Number is DE5C-05B8\n",
      "\n",
      " Directory of C:\\Users\\Nplite\\Favorites\n",
      "\n",
      "14-03-2022  03:39    <DIR>          .\n",
      "14-03-2022  00:00    <DIR>          ..\n",
      "11-03-2022  11:41    <DIR>          .ipynb_checkpoints\n",
      "19-02-2022  23:01    <DIR>          __pycache__\n",
      "11-03-2022  18:13           145,454 1.Basic, List, Tuple, Dictionary  ===1.ipynb\n",
      "13-03-2022  20:40            91,075 2.If Else, Range, For, While.ipynb\n",
      "14-03-2022  01:42            63,234 3. Function, Lambda,Generator.ipynb\n",
      "14-03-2022  02:59            55,343 4.Generator, Fibonacci no, Open,Write,Read file.ipynb\n",
      "14-03-2022  03:38            43,557 5.Exception Handling, Logging.ipynb\n",
      "28-02-2022  01:20           117,642 6.Class.ipynb\n",
      "05-03-2022  18:08             1,173 addresses.csv\n",
      "23-02-2022  23:20            19,704 ADVANCE TASK INEURON.ipynb\n",
      "11-03-2022  11:49               208 Bing.url\n",
      "05-03-2022  13:07             1,503 CASSANDRA.ipynb\n",
      "05-03-2022  18:08             1,589 contacts.csv\n",
      "06-03-2022  00:53             5,658 cricket.csv\n",
      "14-02-2022  22:31            11,903 glass.data\n",
      "14-03-2022  02:58             3,014 google.txt\n",
      "05-03-2022  18:08               277 holiday_schedules.csv\n",
      "04-03-2022  00:44                 0 ineuorn.db\n",
      "04-03-2022  23:52             8,192 ineuron.db\n",
      "04-03-2022  23:52            24,576 jobdb.db\n",
      "06-03-2022  02:51            32,674 json_res.csv\n",
      "30-01-2022  20:50    <DIR>          Links\n",
      "05-03-2022  18:08            18,015 locations.csv\n",
      "05-03-2022  23:04           161,651 LUSID Excel - Business Agility - Making Simple Changes Quickly & Easily.xlsx\n",
      "05-03-2022  23:04           161,410 LUSID Excel - Maintain a product in multiple currencies and share classes.xlsx\n",
      "05-03-2022  23:04            24,675 LUSID Excel - Manage instruments with economic definitions.xlsx\n",
      "05-03-2022  23:04            84,319 LUSID Excel - Manage Orders.xlsx\n",
      "05-03-2022  23:04           137,753 LUSID Excel - Manage your investment strategies.xlsx\n",
      "05-03-2022  23:04           184,013 LUSID Excel - Setting up your IBOR.xlsx\n",
      "05-03-2022  23:04           136,632 LUSID Excel - Setting up your market data.xlsx\n",
      "05-03-2022  18:08             1,610 mail_addresses.csv\n",
      "02-03-2022  01:24            86,043 MONGODB DATA.ipynb\n",
      "06-03-2022  00:44            81,436 NBA.csv\n",
      "10-03-2022  19:08    <DIR>          OneDrive\n",
      "05-03-2022  18:08             2,281 organizations.csv\n",
      "06-03-2022  01:43           576,978 pandas day 2.ipynb\n",
      "06-03-2022  20:29         1,258,358 PANDAS.ipynb\n",
      "04-03-2022  23:52             8,192 person.db\n",
      "05-03-2022  18:08             2,092 phones.csv\n",
      "11-03-2022  17:18             3,174 practice.ipynb\n",
      "05-03-2022  18:08                60 programs.csv\n",
      "05-03-2022  18:08               350 regular_schedules.csv\n",
      "05-03-2022  19:17               308 sample_test.csv\n",
      "05-03-2022  18:08            19,128 services.csv\n",
      "01-03-2022  17:27           237,581 SQL DATA2.ipynb\n",
      "05-03-2022  02:06            76,381 SQLLITE.ipynb\n",
      "05-03-2022  18:08            14,618 taxonomy.csv\n",
      "14-03-2022  03:25                22 test.txt\n",
      "14-03-2022  03:39                 0 test00.log\n",
      "14-03-2022  02:56                89 test1\n",
      "              46 File(s)      3,903,945 bytes\n",
      "               6 Dir(s)  78,092,984,320 bytes free\n"
     ]
    }
   ],
   "source": [
    "%ls"
   ]
  },
  {
   "cell_type": "code",
   "execution_count": 19,
   "id": "319fd326",
   "metadata": {},
   "outputs": [],
   "source": [
    "logging.info(\"this is my info log\")\n",
    "logging.warning(\"this is my warning log\")\n",
    "logging.error(\"this is my error log\")"
   ]
  },
  {
   "cell_type": "code",
   "execution_count": 20,
   "id": "5e37d8a6",
   "metadata": {},
   "outputs": [],
   "source": [
    "logging.shutdown()"
   ]
  },
  {
   "cell_type": "code",
   "execution_count": 21,
   "id": "5f449c82",
   "metadata": {},
   "outputs": [],
   "source": [
    "logging.basicConfig(filename = \"test.log\", level = logging.INFO)"
   ]
  },
  {
   "cell_type": "code",
   "execution_count": 22,
   "id": "57f4a658",
   "metadata": {},
   "outputs": [],
   "source": [
    "logging.info(\"this is my info log\")\n",
    "logging.warning(\"this is my warning log\")\n",
    "logging.error(\"this is my error log\")"
   ]
  },
  {
   "cell_type": "code",
   "execution_count": 23,
   "id": "ff849b1f",
   "metadata": {},
   "outputs": [],
   "source": [
    "logging.shutdown()"
   ]
  },
  {
   "cell_type": "code",
   "execution_count": 24,
   "id": "264f1c27",
   "metadata": {},
   "outputs": [],
   "source": [
    "logging.info(\"this is my infolog\")\n",
    "logging.warning(\"this is my warning log\")\n",
    "logging.debug(\"this is my debug log\")"
   ]
  },
  {
   "cell_type": "code",
   "execution_count": 6,
   "id": "f226a733",
   "metadata": {},
   "outputs": [],
   "source": [
    "def divbyxero(a,b):\n",
    "    logging.info(\"this is a start of my code and i am try to enter %s and %s, a,b\")\n",
    "    try :\n",
    "        div = a/b\n",
    "        logging.info(\"execute success\")\n",
    "    except Exception as e:\n",
    "        logging.error(\"error has happend\")\n",
    "        logging.exception(\"exception occured\" + str(e))\n",
    "            "
   ]
  },
  {
   "cell_type": "code",
   "execution_count": 7,
   "id": "7b9887f5",
   "metadata": {},
   "outputs": [
    {
     "ename": "NameError",
     "evalue": "name 'divbyzero' is not defined",
     "output_type": "error",
     "traceback": [
      "\u001b[1;31m---------------------------------------------------------------------------\u001b[0m",
      "\u001b[1;31mNameError\u001b[0m                                 Traceback (most recent call last)",
      "\u001b[1;32m<ipython-input-7-2fd0cd515d95>\u001b[0m in \u001b[0;36m<module>\u001b[1;34m\u001b[0m\n\u001b[1;32m----> 1\u001b[1;33m \u001b[0mdivbyzero\u001b[0m\u001b[1;33m(\u001b[0m\u001b[1;36m4\u001b[0m\u001b[1;33m,\u001b[0m\u001b[1;36m5\u001b[0m\u001b[1;33m)\u001b[0m\u001b[1;33m\u001b[0m\u001b[1;33m\u001b[0m\u001b[0m\n\u001b[0m",
      "\u001b[1;31mNameError\u001b[0m: name 'divbyzero' is not defined"
     ]
    }
   ],
   "source": [
    "divbyzero(4,5)"
   ]
  },
  {
   "cell_type": "code",
   "execution_count": null,
   "id": "acf22a87",
   "metadata": {},
   "outputs": [],
   "source": []
  },
  {
   "cell_type": "code",
   "execution_count": null,
   "id": "62a1ce78",
   "metadata": {},
   "outputs": [],
   "source": []
  }
 ],
 "metadata": {
  "kernelspec": {
   "display_name": "Python 3",
   "language": "python",
   "name": "python3"
  },
  "language_info": {
   "codemirror_mode": {
    "name": "ipython",
    "version": 3
   },
   "file_extension": ".py",
   "mimetype": "text/x-python",
   "name": "python",
   "nbconvert_exporter": "python",
   "pygments_lexer": "ipython3",
   "version": "3.8.8"
  }
 },
 "nbformat": 4,
 "nbformat_minor": 5
}
