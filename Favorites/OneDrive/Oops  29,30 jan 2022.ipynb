{
 "cells": [
  {
   "cell_type": "code",
   "execution_count": null,
   "id": "50612489",
   "metadata": {},
   "outputs": [],
   "source": [
    "#concept of inheritance\n"
   ]
  },
  {
   "cell_type": "code",
   "execution_count": null,
   "id": "d4e0242d",
   "metadata": {},
   "outputs": [],
   "source": [
    "class xyz:\n",
    "    def __init__(self, a,b,c):\n",
    "        self.a = a\n",
    "        self.b = b\n",
    "        self.c = c\n",
    "        \n",
    "    def test(self):\n",
    "        print(\"this is my first test method of xyz class\")\n",
    "    \n",
    "    def test1(self):\n",
    "        print(\"this is a test1 meth of xyz class\")\n",
    "        \n",
    "    def test2(self):\n",
    "        print(\"this is my test2 meth of xyz class\")"
   ]
  },
  {
   "cell_type": "code",
   "execution_count": null,
   "id": "ccac787f",
   "metadata": {},
   "outputs": [],
   "source": [
    "p = xyz(1,2,3)"
   ]
  },
  {
   "cell_type": "code",
   "execution_count": null,
   "id": "7212b63e",
   "metadata": {},
   "outputs": [],
   "source": [
    "p.test1()"
   ]
  },
  {
   "cell_type": "code",
   "execution_count": null,
   "id": "de3bbd74",
   "metadata": {},
   "outputs": [],
   "source": []
  },
  {
   "cell_type": "code",
   "execution_count": null,
   "id": "1ed6a34b",
   "metadata": {},
   "outputs": [],
   "source": []
  },
  {
   "cell_type": "code",
   "execution_count": null,
   "id": "2ccf2468",
   "metadata": {},
   "outputs": [],
   "source": [
    "class xyz1(xyz) :\n",
    "    pass"
   ]
  },
  {
   "cell_type": "code",
   "execution_count": null,
   "id": "18d5980f",
   "metadata": {},
   "outputs": [],
   "source": [
    "q = xyz1(3,4,5)"
   ]
  },
  {
   "cell_type": "code",
   "execution_count": null,
   "id": "f0e83b36",
   "metadata": {},
   "outputs": [],
   "source": [
    "q.test1()"
   ]
  },
  {
   "cell_type": "code",
   "execution_count": null,
   "id": "9ae19684",
   "metadata": {},
   "outputs": [],
   "source": [
    "class xyz1(xyz):\n",
    "    def test(self):\n",
    "        print(\"this is a test method available in xyz1\")"
   ]
  },
  {
   "cell_type": "code",
   "execution_count": null,
   "id": "09bb8141",
   "metadata": {},
   "outputs": [],
   "source": [
    "g = xyz1(4,5,6)"
   ]
  },
  {
   "cell_type": "code",
   "execution_count": null,
   "id": "f43c0c50",
   "metadata": {},
   "outputs": [],
   "source": [
    "g.test()"
   ]
  },
  {
   "cell_type": "code",
   "execution_count": null,
   "id": "e103c0fd",
   "metadata": {},
   "outputs": [],
   "source": [
    "class xyz():\n",
    "    def _init_(self,a,b,c):\n",
    "        self.a = a\n",
    "        self.b = b\n",
    "        self.c = c\n",
    "        \n",
    "        def test(self):\n",
    "            print(\"this is a meth of xyz class\")\n",
    "            \n",
    "class xyz1:\n",
    "    \n",
    "    def __init__(self, p,q,v):\n",
    "        self.p = p\n",
    "        self.q = q\n",
    "        self.v = v\n",
    "        \n",
    "    def test1(self):\n",
    "        print(\"this is a meth form class xyz1\")\n",
    "        \n",
    "class child(xyz1,xyz):\n",
    "    \n",
    "    def __init__(self, *args):\n",
    "        xyz.__init__(self)                   #something is wrong on this program\n",
    "        xyz1.__init__(self, *args)"
   ]
  },
  {
   "cell_type": "code",
   "execution_count": null,
   "id": "725a53e6",
   "metadata": {},
   "outputs": [],
   "source": [
    "n = child(4,5,6)"
   ]
  },
  {
   "cell_type": "code",
   "execution_count": null,
   "id": "56fbe2a5",
   "metadata": {},
   "outputs": [],
   "source": [
    " n.p"
   ]
  },
  {
   "cell_type": "code",
   "execution_count": null,
   "id": "edf57b95",
   "metadata": {},
   "outputs": [],
   "source": [
    "n.q"
   ]
  },
  {
   "cell_type": "code",
   "execution_count": null,
   "id": "790a1e04",
   "metadata": {},
   "outputs": [],
   "source": [
    "n.v"
   ]
  },
  {
   "cell_type": "code",
   "execution_count": null,
   "id": "6ca00ba5",
   "metadata": {},
   "outputs": [],
   "source": [
    "class xyz():\n",
    "    def _init_(self,a,b,c):\n",
    "        self.a = a\n",
    "        self.b = b\n",
    "        self.c = c\n",
    "        \n",
    "        def test(self):\n",
    "            print(\"this is a meth of xyz class\")\n",
    "            \n",
    "class xyz1:\n",
    "    \n",
    "    def __init__(self,p,q,v):\n",
    "        self.p = p\n",
    "        self.q = q\n",
    "        self.v = v\n",
    "        \n",
    "    def test1(self):\n",
    "        print(\"this is a meth form class xyz1\")\n",
    "        \n",
    "class child(xyz1,xyz):\n",
    "    def __init__(self, *args,**kwargs):\n",
    "        xyz.__init__(self,*args)\n",
    "        xyz1.__init__(self, **kwargs)"
   ]
  },
  {
   "cell_type": "code",
   "execution_count": null,
   "id": "3c67b7e5",
   "metadata": {},
   "outputs": [],
   "source": [
    "n = child(4,5,6,p =7,q = 8,z = 9)"
   ]
  },
  {
   "cell_type": "code",
   "execution_count": null,
   "id": "7b74429e",
   "metadata": {},
   "outputs": [],
   "source": []
  },
  {
   "cell_type": "code",
   "execution_count": null,
   "id": "cf0d5b8d",
   "metadata": {},
   "outputs": [],
   "source": [
    "n.test1()"
   ]
  },
  {
   "cell_type": "code",
   "execution_count": null,
   "id": "d0f3e765",
   "metadata": {},
   "outputs": [],
   "source": [
    "n.test()"
   ]
  },
  {
   "cell_type": "code",
   "execution_count": null,
   "id": "6bb7568f",
   "metadata": {},
   "outputs": [],
   "source": [
    "class xyz():\n",
    "    def __init__(self, a,b,c):\n",
    "        self.a = a\n",
    "        self.b = b\n",
    "        self.c = c\n",
    "        \n",
    "        def test(self):\n",
    "            print(\"this is a meth of xyz class\")\n",
    "            \n",
    "class xyz1(xyz):\n",
    "    \n",
    "    def test1(self):\n",
    "        print(\"this is a meth form class xyz1\")\n",
    "        \n",
    "class xyz2(xyz1):\n",
    "    \n",
    "    def test2(self):\n",
    "        print(\"this is a meth form class 2\")\n",
    "        \n",
    "class xyz3(xyz2):\n",
    "    def test3(self):\n",
    "        print(\"this is my meth of class 3\")\n",
    "  "
   ]
  },
  {
   "cell_type": "code",
   "execution_count": null,
   "id": "3cfb45c5",
   "metadata": {},
   "outputs": [],
   "source": [
    "v = xyz2()"
   ]
  },
  {
   "cell_type": "code",
   "execution_count": null,
   "id": "1bb4dfba",
   "metadata": {},
   "outputs": [],
   "source": [
    "v = xyz3(4,5,6)"
   ]
  },
  {
   "cell_type": "code",
   "execution_count": null,
   "id": "576857e6",
   "metadata": {},
   "outputs": [],
   "source": [
    "v.a"
   ]
  },
  {
   "cell_type": "code",
   "execution_count": null,
   "id": "548dd07e",
   "metadata": {},
   "outputs": [],
   "source": [
    "v.b"
   ]
  },
  {
   "cell_type": "code",
   "execution_count": null,
   "id": "bb801e58",
   "metadata": {},
   "outputs": [],
   "source": [
    "v.c"
   ]
  },
  {
   "cell_type": "code",
   "execution_count": null,
   "id": "8d9be886",
   "metadata": {},
   "outputs": [],
   "source": [
    "v.test1()"
   ]
  },
  {
   "cell_type": "code",
   "execution_count": null,
   "id": "1eda2a59",
   "metadata": {},
   "outputs": [],
   "source": [
    "v.test1()"
   ]
  },
  {
   "cell_type": "code",
   "execution_count": null,
   "id": "7f977bbd",
   "metadata": {},
   "outputs": [],
   "source": [
    "v.test3()"
   ]
  },
  {
   "cell_type": "code",
   "execution_count": null,
   "id": "d2106d02",
   "metadata": {},
   "outputs": [],
   "source": [
    "m = xyz3(1,2,3)"
   ]
  },
  {
   "cell_type": "code",
   "execution_count": null,
   "id": "5f935172",
   "metadata": {},
   "outputs": [],
   "source": [
    "m.a"
   ]
  },
  {
   "cell_type": "code",
   "execution_count": null,
   "id": "507bca47",
   "metadata": {},
   "outputs": [],
   "source": []
  },
  {
   "cell_type": "code",
   "execution_count": null,
   "id": "7445a957",
   "metadata": {},
   "outputs": [],
   "source": []
  },
  {
   "cell_type": "code",
   "execution_count": null,
   "id": "b2c2571f",
   "metadata": {},
   "outputs": [],
   "source": []
  },
  {
   "cell_type": "code",
   "execution_count": null,
   "id": "2befc3ea",
   "metadata": {},
   "outputs": [],
   "source": [
    "#PUBLIC PRIVATE AND PROTECTED "
   ]
  },
  {
   "cell_type": "code",
   "execution_count": null,
   "id": "73f74c6b",
   "metadata": {},
   "outputs": [],
   "source": [
    "class test :\n",
    "    def __init__(self, a,b,c):\n",
    "        self.a = a\n",
    "        self.b = b\n",
    "        self.c = c\n",
    "        \n",
    "u = test(4,5,6)\n",
    "        "
   ]
  },
  {
   "cell_type": "code",
   "execution_count": null,
   "id": "a568219d",
   "metadata": {},
   "outputs": [],
   "source": [
    "u.a"
   ]
  },
  {
   "cell_type": "code",
   "execution_count": null,
   "id": "15c3eb8c",
   "metadata": {},
   "outputs": [],
   "source": [
    "u.b"
   ]
  },
  {
   "cell_type": "code",
   "execution_count": null,
   "id": "f976181a",
   "metadata": {},
   "outputs": [],
   "source": [
    "u.c"
   ]
  },
  {
   "cell_type": "code",
   "execution_count": null,
   "id": "b9c37ae6",
   "metadata": {},
   "outputs": [],
   "source": [
    "class test :\n",
    "    def __init__(self, a,b,c):\n",
    "        self.a = a\n",
    "        self.b = b\n",
    "        self.c = c\n",
    "        \n",
    "class test1(test):\n",
    "    pass\n",
    "\n",
    "        \n",
    "u = test(4,5,6)\n",
    "        "
   ]
  },
  {
   "cell_type": "code",
   "execution_count": null,
   "id": "2d27f3cb",
   "metadata": {},
   "outputs": [],
   "source": [
    "v = test1(3,4,5)"
   ]
  },
  {
   "cell_type": "code",
   "execution_count": null,
   "id": "3fc147dc",
   "metadata": {},
   "outputs": [],
   "source": [
    "class test :\n",
    "    def __init__(self):\n",
    "        self.a = 4\n",
    "       \n",
    "class test1(test):\n",
    "    pass\n",
    "\n",
    "        \n",
    "u = test()\n",
    "        "
   ]
  },
  {
   "cell_type": "code",
   "execution_count": null,
   "id": "0df4c523",
   "metadata": {},
   "outputs": [],
   "source": [
    "u.a"
   ]
  },
  {
   "cell_type": "code",
   "execution_count": null,
   "id": "3ab56d14",
   "metadata": {},
   "outputs": [],
   "source": [
    "v  = test1()"
   ]
  },
  {
   "cell_type": "code",
   "execution_count": null,
   "id": "cd140c79",
   "metadata": {},
   "outputs": [],
   "source": [
    "v.a"
   ]
  },
  {
   "cell_type": "code",
   "execution_count": null,
   "id": "9bbf794c",
   "metadata": {},
   "outputs": [],
   "source": [
    "class test :\n",
    "    def __init__(self):\n",
    "        self.a = 4\n",
    "        \n",
    "        \n",
    "class test1(test):\n",
    "    def __init__(self):\n",
    "        self.a = 7\n",
    "\n",
    "u = test()\n",
    "        "
   ]
  },
  {
   "cell_type": "code",
   "execution_count": null,
   "id": "5eba712e",
   "metadata": {},
   "outputs": [],
   "source": [
    "u.a"
   ]
  },
  {
   "cell_type": "code",
   "execution_count": null,
   "id": "50ff79af",
   "metadata": {},
   "outputs": [],
   "source": [
    "v = test1()"
   ]
  },
  {
   "cell_type": "code",
   "execution_count": null,
   "id": "4fc89bc1",
   "metadata": {},
   "outputs": [],
   "source": [
    "v.a"
   ]
  },
  {
   "cell_type": "code",
   "execution_count": null,
   "id": "a925a567",
   "metadata": {},
   "outputs": [],
   "source": [
    "class test :\n",
    "    def __init__(self):\n",
    "        self.a = 4\n",
    "        \n",
    "        \n",
    "class test1(test):\n",
    "    def __init__(self):\n",
    "        test.__init__(self) \n",
    "        self.a = 7\n",
    "            \n",
    "        #self.a = 7\n",
    "\n",
    "u = test()\n",
    "        "
   ]
  },
  {
   "cell_type": "code",
   "execution_count": null,
   "id": "bbf12f1c",
   "metadata": {},
   "outputs": [],
   "source": [
    "u.a"
   ]
  },
  {
   "cell_type": "code",
   "execution_count": null,
   "id": "29277c57",
   "metadata": {},
   "outputs": [],
   "source": [
    "v = test1()"
   ]
  },
  {
   "cell_type": "code",
   "execution_count": null,
   "id": "1929080d",
   "metadata": {},
   "outputs": [],
   "source": [
    "v.a"
   ]
  },
  {
   "cell_type": "code",
   "execution_count": null,
   "id": "d5c9f351",
   "metadata": {},
   "outputs": [],
   "source": [
    "class test :\n",
    "    def __init__(self):\n",
    "        self._a = 4          # check the underscore @ self.a\n",
    "        \n",
    "        \n",
    "class test1(test):\n",
    "    def __init__(self):\n",
    "        test.__init__(self) \n",
    "        self._a = 7\n",
    "        \n",
    "\n",
    "u = test()\n",
    "        "
   ]
  },
  {
   "cell_type": "code",
   "execution_count": null,
   "id": "db7881a0",
   "metadata": {},
   "outputs": [],
   "source": [
    "u._a"
   ]
  },
  {
   "cell_type": "code",
   "execution_count": null,
   "id": "81b356fe",
   "metadata": {},
   "outputs": [],
   "source": [
    "v = test1()"
   ]
  },
  {
   "cell_type": "code",
   "execution_count": null,
   "id": "0e82cc63",
   "metadata": {},
   "outputs": [],
   "source": [
    "u._a"
   ]
  },
  {
   "cell_type": "code",
   "execution_count": null,
   "id": "5fcd7cd7",
   "metadata": {},
   "outputs": [],
   "source": [
    "class test :\n",
    "    def __init__(self):\n",
    "        self.__a = 4          # with theuse of double underscore we are not able to access the code.\n",
    "                              #python a;ways consider the way they are modify \n",
    "        \n",
    "class test1(test):\n",
    "    def __init__(self):\n",
    "        test.__init__(self) \n",
    "        self.__a = 7\n",
    "        \n",
    "\n",
    "u = test()\n",
    "        "
   ]
  },
  {
   "cell_type": "code",
   "execution_count": null,
   "id": "1fa4bda2",
   "metadata": {},
   "outputs": [],
   "source": [
    "u.__a"
   ]
  },
  {
   "cell_type": "code",
   "execution_count": null,
   "id": "2fc294c0",
   "metadata": {},
   "outputs": [],
   "source": [
    "class test:\n",
    "    def __init__(self, a,b,c):\n",
    "        self._a = a\n",
    "        self.__b = b\n",
    "        self.c = c\n",
    "        \n",
    "v = test(4,5,6)\n"
   ]
  },
  {
   "cell_type": "code",
   "execution_count": null,
   "id": "f471ea71",
   "metadata": {},
   "outputs": [],
   "source": [
    "v._a"
   ]
  },
  {
   "cell_type": "code",
   "execution_count": null,
   "id": "b154778b",
   "metadata": {},
   "outputs": [],
   "source": [
    "v.__b"
   ]
  },
  {
   "cell_type": "code",
   "execution_count": null,
   "id": "4f7f81ac",
   "metadata": {},
   "outputs": [],
   "source": [
    "v.c"
   ]
  },
  {
   "cell_type": "code",
   "execution_count": null,
   "id": "e00e0bc8",
   "metadata": {},
   "outputs": [],
   "source": [
    "v._test__b          #this is a notation to access the double underscore"
   ]
  },
  {
   "cell_type": "code",
   "execution_count": null,
   "id": "f48f7aa2",
   "metadata": {},
   "outputs": [],
   "source": [
    "#no underscore ---public variable\n",
    "# single underscore---protected variable\n",
    "# double underscore---private variable.   like that -- v._test__b "
   ]
  },
  {
   "cell_type": "code",
   "execution_count": null,
   "id": "aaebc00f",
   "metadata": {},
   "outputs": [],
   "source": [
    "class test:\n",
    "    def __init__(self, a,b,c):\n",
    "        self._a = a\n",
    "        self.__b = b\n",
    "        self.c = c\n",
    "class test1(test):\n",
    "    pass\n",
    "        \n",
    "    \n",
    "v = test(4,5,6)\n"
   ]
  },
  {
   "cell_type": "code",
   "execution_count": null,
   "id": "d3791813",
   "metadata": {},
   "outputs": [],
   "source": [
    "v._a"
   ]
  },
  {
   "cell_type": "code",
   "execution_count": null,
   "id": "4c06a336",
   "metadata": {},
   "outputs": [],
   "source": [
    "v._test__b"
   ]
  },
  {
   "cell_type": "code",
   "execution_count": null,
   "id": "311f4d4a",
   "metadata": {},
   "outputs": [],
   "source": [
    "v.c"
   ]
  },
  {
   "cell_type": "code",
   "execution_count": null,
   "id": "187fcdf3",
   "metadata": {},
   "outputs": [],
   "source": [
    "u = test1(3,4,5)"
   ]
  },
  {
   "cell_type": "code",
   "execution_count": null,
   "id": "3a65af6e",
   "metadata": {},
   "outputs": [],
   "source": [
    "u.c        #public variable"
   ]
  },
  {
   "cell_type": "code",
   "execution_count": null,
   "id": "3800518c",
   "metadata": {},
   "outputs": [],
   "source": [
    "u._a       #protected variable"
   ]
  },
  {
   "cell_type": "code",
   "execution_count": null,
   "id": "ea64c09c",
   "metadata": {},
   "outputs": [],
   "source": [
    "u._test1__b"
   ]
  },
  {
   "cell_type": "code",
   "execution_count": null,
   "id": "3a0799b2",
   "metadata": {},
   "outputs": [],
   "source": [
    "u._test__b           #private variable i can access inside a subclass or inside a child class "
   ]
  },
  {
   "cell_type": "code",
   "execution_count": null,
   "id": "b71cb3f0",
   "metadata": {},
   "outputs": [],
   "source": [
    "class bonuscalculator:\n",
    "    def __init__(self, empid, empidrating):\n",
    "        self.empid = empid\n",
    "        self.empidrating = empidrating\n",
    "        self.__bonusforratingA = \"70%\"\n",
    "        self.__bonusforratingB = \"50%\"\n",
    "        self.__bonusforratingC = \"40%\"\n",
    "    \n",
    "    def bonuscalculator(self):\n",
    "        if self.empidrating == \"A\":\n",
    "            bonus = self.__bonusforratingA\n",
    "            return bonus\n",
    "        elif self.empidrating == \"B\":\n",
    "            bonus = self.__bonusforratingB\n",
    "            return bonus\n",
    "        else:\n",
    "            bonus = self.__bonusforratingC\n",
    "            return bonus\n",
    "    "
   ]
  },
  {
   "cell_type": "code",
   "execution_count": null,
   "id": "c16f487a",
   "metadata": {},
   "outputs": [],
   "source": [
    "emp1 = bonuscalculator(101,\"A\")\n",
    "emp2 = bonuscalculator(102,\"B\")\n",
    "emp3 = bonuscalculator(103,\"C\")\n",
    "\n",
    "\n"
   ]
  },
  {
   "cell_type": "code",
   "execution_count": null,
   "id": "dfc90eb5",
   "metadata": {},
   "outputs": [],
   "source": [
    "emp1.bonuscalculator()"
   ]
  },
  {
   "cell_type": "code",
   "execution_count": null,
   "id": "97588dcf",
   "metadata": {},
   "outputs": [],
   "source": [
    "emp2.bonuscalculator()"
   ]
  },
  {
   "cell_type": "code",
   "execution_count": null,
   "id": "9b778afa",
   "metadata": {},
   "outputs": [],
   "source": [
    "emp3.bonuscalculator()"
   ]
  },
  {
   "cell_type": "code",
   "execution_count": null,
   "id": "28dbdfae",
   "metadata": {},
   "outputs": [],
   "source": [
    "emp1.empid = 104"
   ]
  },
  {
   "cell_type": "code",
   "execution_count": null,
   "id": "7bf089c3",
   "metadata": {},
   "outputs": [],
   "source": [
    "emp1.empid"
   ]
  },
  {
   "cell_type": "code",
   "execution_count": null,
   "id": "4a6b9a27",
   "metadata": {},
   "outputs": [],
   "source": [
    "emp1.bonuscalculator()"
   ]
  },
  {
   "cell_type": "code",
   "execution_count": null,
   "id": "314d2b35",
   "metadata": {},
   "outputs": [],
   "source": [
    "emp1.emprating = \"B\""
   ]
  },
  {
   "cell_type": "code",
   "execution_count": null,
   "id": "f0181005",
   "metadata": {},
   "outputs": [],
   "source": [
    "emp1.bonuscalculator()"
   ]
  },
  {
   "cell_type": "code",
   "execution_count": null,
   "id": "fdd94316",
   "metadata": {},
   "outputs": [],
   "source": [
    "emp1.__bonusforratingB = \"90%\""
   ]
  },
  {
   "cell_type": "code",
   "execution_count": null,
   "id": "e92feb6f",
   "metadata": {},
   "outputs": [],
   "source": [
    "emp1.bonuscalculator()"
   ]
  },
  {
   "cell_type": "code",
   "execution_count": null,
   "id": "1c9c0f9b",
   "metadata": {},
   "outputs": [],
   "source": [
    "emp2.empidrating"
   ]
  },
  {
   "cell_type": "code",
   "execution_count": null,
   "id": "1fa1899b",
   "metadata": {},
   "outputs": [],
   "source": [
    "emp2.bonuscalculator()"
   ]
  },
  {
   "cell_type": "code",
   "execution_count": null,
   "id": "c340273f",
   "metadata": {},
   "outputs": [],
   "source": [
    "emp2.__empidrating = \"100%\""
   ]
  },
  {
   "cell_type": "code",
   "execution_count": null,
   "id": "76b55e9e",
   "metadata": {},
   "outputs": [],
   "source": [
    "emp2.bonuscalculator()"
   ]
  },
  {
   "cell_type": "code",
   "execution_count": null,
   "id": "faf921cb",
   "metadata": {},
   "outputs": [],
   "source": [
    "emp2.empidrating = 123456"
   ]
  },
  {
   "cell_type": "code",
   "execution_count": null,
   "id": "e7992d59",
   "metadata": {},
   "outputs": [],
   "source": [
    "emp2.empidrating"
   ]
  },
  {
   "cell_type": "code",
   "execution_count": null,
   "id": "028e5ef6",
   "metadata": {},
   "outputs": [],
   "source": [
    "emp2.bonuscalculatorB = \"fgkfsuh\"\n"
   ]
  },
  {
   "cell_type": "code",
   "execution_count": null,
   "id": "109323b5",
   "metadata": {},
   "outputs": [],
   "source": [
    "emp2._bonuscalculator__bonusforratingB"
   ]
  },
  {
   "cell_type": "code",
   "execution_count": null,
   "id": "19da4e4c",
   "metadata": {},
   "outputs": [],
   "source": [
    "emp2._bonuscalculator__bonusforratingB = \"45678123\" "
   ]
  },
  {
   "cell_type": "code",
   "execution_count": null,
   "id": "ee77a6fe",
   "metadata": {},
   "outputs": [],
   "source": [
    "emp2._bonuscalculator__bonusforratingB"
   ]
  },
  {
   "cell_type": "code",
   "execution_count": null,
   "id": "56108b55",
   "metadata": {},
   "outputs": [],
   "source": [
    "class bonuscalculator:\n",
    "    def __init__(self, empid, empidrating):\n",
    "        self.empid = empid\n",
    "        self.empidrating = empidrating\n",
    "        self._empmail = \"fgyakler@gmail.com\"\n",
    "        self.__bonusforratingA = \"70%\"\n",
    "        self.__bonusforratingB = \"50%\"\n",
    "        self.__bonusforratingC = \"40%\"\n",
    "    \n",
    "    def bonuscalculator(self):\n",
    "        if self.empidrating == \"A\":\n",
    "            bonus = self.__bonusforratingA\n",
    "            return bonus\n",
    "        elif self.empidrating == \"B\":\n",
    "            bonus = self.__bonusforratingB\n",
    "            return bonus\n",
    "        else:\n",
    "            bonus = self.__bonusforratingC\n",
    "            return bonus\n",
    "    "
   ]
  },
  {
   "cell_type": "code",
   "execution_count": null,
   "id": "1d6fd1c0",
   "metadata": {},
   "outputs": [],
   "source": [
    " emp1._empmail  ### check class notebook for more detail"
   ]
  },
  {
   "cell_type": "code",
   "execution_count": null,
   "id": "6ee20d71",
   "metadata": {},
   "outputs": [],
   "source": []
  },
  {
   "cell_type": "code",
   "execution_count": null,
   "id": "2e7bff03",
   "metadata": {},
   "outputs": [],
   "source": []
  },
  {
   "cell_type": "code",
   "execution_count": null,
   "id": "15df21d5",
   "metadata": {},
   "outputs": [],
   "source": [
    "###concept of polymorgism"
   ]
  },
  {
   "cell_type": "code",
   "execution_count": null,
   "id": "c0a0c183",
   "metadata": {},
   "outputs": [],
   "source": [
    "def test(a,b):\n",
    "    return a+b"
   ]
  },
  {
   "cell_type": "code",
   "execution_count": null,
   "id": "2576d4b5",
   "metadata": {},
   "outputs": [],
   "source": [
    "test(3,4)"
   ]
  },
  {
   "cell_type": "code",
   "execution_count": null,
   "id": "06c21406",
   "metadata": {},
   "outputs": [],
   "source": [
    "test(\"sudh\",\"kumar\")"
   ]
  },
  {
   "cell_type": "code",
   "execution_count": null,
   "id": "43eaf3ce",
   "metadata": {},
   "outputs": [],
   "source": [
    "class insta:\n",
    "    def share_stories(self):\n",
    "        print(\"this will share my insta stories\")\n",
    "        \n",
    "class facebook :\n",
    "    def share_stories(self):\n",
    "        print(\"this will share my facebook stories\")"
   ]
  },
  {
   "cell_type": "code",
   "execution_count": null,
   "id": "f2a280f4",
   "metadata": {},
   "outputs": [],
   "source": [
    "def share_stories(app):\n",
    "     app.share_stories()"
   ]
  },
  {
   "cell_type": "code",
   "execution_count": null,
   "id": "c8cd8cc0",
   "metadata": {},
   "outputs": [],
   "source": [
    "i = insta()\n",
    "f = facebook()"
   ]
  },
  {
   "cell_type": "code",
   "execution_count": null,
   "id": "b07d335f",
   "metadata": {},
   "outputs": [],
   "source": [
    "share_stories(i)"
   ]
  },
  {
   "cell_type": "code",
   "execution_count": null,
   "id": "8ed411a1",
   "metadata": {},
   "outputs": [],
   "source": [
    "share_stories(f)"
   ]
  },
  {
   "cell_type": "code",
   "execution_count": null,
   "id": "af4b3b57",
   "metadata": {},
   "outputs": [],
   "source": [
    "class social_media :\n",
    "    def share_stories(self):\n",
    "        print(\"share a stories\")\n",
    "    def upload_pic(self):\n",
    "        print(\"this will be help to upload pics\")\n",
    "        \n",
    "class facebook(social_media) :\n",
    "    def share_stories(self):\n",
    "        print(\"this is a fun for sharing a story for facebook\")\n",
    "        \n",
    "class insta(social_media) :\n",
    "    def share_stories(self):\n",
    "        print(\"this will print story from insta\")"
   ]
  },
  {
   "cell_type": "code",
   "execution_count": null,
   "id": "fc153cc7",
   "metadata": {},
   "outputs": [],
   "source": [
    "f = facebook()\n",
    "i = insta()"
   ]
  },
  {
   "cell_type": "code",
   "execution_count": null,
   "id": "3142771a",
   "metadata": {},
   "outputs": [],
   "source": [
    "f.share_stories()"
   ]
  },
  {
   "cell_type": "code",
   "execution_count": null,
   "id": "69f01b0c",
   "metadata": {},
   "outputs": [],
   "source": [
    "i.share_stories()"
   ]
  },
  {
   "cell_type": "code",
   "execution_count": null,
   "id": "937b12c2",
   "metadata": {},
   "outputs": [],
   "source": [
    "class test(Exception):\n",
    "    def __init__(self,msg):\n",
    "        self.msg = msg"
   ]
  },
  {
   "cell_type": "code",
   "execution_count": null,
   "id": "259ea67f",
   "metadata": {},
   "outputs": [],
   "source": [
    "try:\n",
    "    raise(test(\"this is my own exception class\"))\n",
    "\n",
    "except test as t:\n",
    "    print(t)"
   ]
  },
  {
   "cell_type": "code",
   "execution_count": null,
   "id": "7f71e360",
   "metadata": {},
   "outputs": [],
   "source": [
    "try:\n",
    "    5/0\n",
    "except test as t:\n",
    "    print(t)"
   ]
  },
  {
   "cell_type": "code",
   "execution_count": null,
   "id": "f8cfa6e4",
   "metadata": {},
   "outputs": [],
   "source": [
    "try:\n",
    "    raise(test(\"this is my own exception class\")) \n",
    "    5/0\n",
    "except test as t:\n",
    "    print(t)"
   ]
  },
  {
   "cell_type": "code",
   "execution_count": null,
   "id": "f099b9b3",
   "metadata": {},
   "outputs": [],
   "source": [
    "try:\n",
    "    raise(test(\"this is my own exception class\")) \n",
    "except test as t:\n",
    "    print(t)"
   ]
  },
  {
   "cell_type": "code",
   "execution_count": null,
   "id": "21a7ec14",
   "metadata": {},
   "outputs": [],
   "source": [
    "class test(Exception):\n",
    "    def __init__(self,msg, myvalue):\n",
    "        self.msg = msg\n",
    "        self.myvalue = myvalue"
   ]
  },
  {
   "cell_type": "code",
   "execution_count": null,
   "id": "32731740",
   "metadata": {},
   "outputs": [],
   "source": [
    "try:\n",
    "    raise(test(\"this is my own exception class\", \"fhdjskkbcg\")) \n",
    "except test as t:\n",
    "    print(t)"
   ]
  },
  {
   "cell_type": "code",
   "execution_count": null,
   "id": "6d071f2d",
   "metadata": {},
   "outputs": [],
   "source": [
    "try:\n",
    "    raise(test(\"this is my own exception class\",\" fhgsdbkbh\")) \n",
    "    5/0\n",
    "except test as t:\n",
    "    print(t)"
   ]
  },
  {
   "cell_type": "code",
   "execution_count": null,
   "id": "aaf2385b",
   "metadata": {},
   "outputs": [],
   "source": [
    "#parent class             ##example program\n",
    "class batch_number:\n",
    "    batchnumber = \"FSDS\"\n",
    "    def __init__(self, a,b,c):\n",
    "        self.a = a\n",
    "        self.b = b\n",
    "        self.c = c\n",
    "        \n",
    "        @staticmethod\n",
    "        def batch():\n",
    "            print(\"this is static method\")\n",
    "            \n",
    "        def batch1(self):\n",
    "            print(\"this is a static method batch 1\")\n",
    "            "
   ]
  },
  {
   "cell_type": "code",
   "execution_count": null,
   "id": "f23ab571",
   "metadata": {},
   "outputs": [],
   "source": [
    "class accountdetail:\n",
    "    account_no = \"123456789\"\n",
    "    def __init__(self,amount):\n",
    "        self.amount = amount\n",
    "        \n",
    "        \n",
    "    def show_balance(self , deduction):\n",
    "            self.amount = self.amount - deduction\n",
    "            return self.amount, account_no"
   ]
  },
  {
   "cell_type": "code",
   "execution_count": null,
   "id": "1d6e4c16",
   "metadata": {},
   "outputs": [],
   "source": [
    "#multilevel class\n",
    "class xyz:\n",
    "    def __init__(self, a,b,c):\n",
    "        self.a = a\n",
    "        self.b = b\n",
    "        self.c = c\n",
    "    def test(self):\n",
    "            print(\"this is a method of xyz class\")\n",
    "            \n",
    "class xyz1(xyz):\n",
    "    def test1(self):\n",
    "        print(\"this is my method of class xyz1\")\n",
    "        \n",
    "class xyz2(xyz1):\n",
    "    def test2(self):\n",
    "        print(\"this is my class of xyz2\")\n",
    "        \n",
    "n = xyz1(3,4,5)\n",
    "n.test1()\n",
    "            \n",
    "        "
   ]
  },
  {
   "cell_type": "code",
   "execution_count": null,
   "id": "9b6afc99",
   "metadata": {},
   "outputs": [],
   "source": [
    "n.test()"
   ]
  },
  {
   "cell_type": "code",
   "execution_count": null,
   "id": "c1709160",
   "metadata": {},
   "outputs": [],
   "source": [
    " #custom exception class\n",
    "    \n",
    "class division_by_5(Exception):\n",
    "    def __init__(self,msg):\n",
    "        self.msg = msg\n",
    "    \n",
    "try:\n",
    "    a = int(input(\"enter the first number\"))\n",
    "    b = int(input(\"enter the second number\"))\n",
    "    if  b == 5:\n",
    "        raise division_by_5(\"division by  5 error\")\n",
    "        \n",
    "except ValueError as msg:\n",
    "    print(msg)\n",
    "except ZeroDivisionError as msg:\n",
    "    print(msg)\n",
    "except division_by_5 as msg:\n",
    "    print(msg)\n",
    "    \n",
    "else:\n",
    "    result = a/b\n",
    "    print(result)\n",
    "        "
   ]
  },
  {
   "cell_type": "code",
   "execution_count": null,
   "id": "2a3de934",
   "metadata": {},
   "outputs": [],
   "source": [
    " #custom exception class\n",
    "    \n",
    "class division_by_5(Exception):\n",
    "    def __init__(self,msg):\n",
    "        self.msg = msg\n",
    "    \n",
    "try:\n",
    "    a = int(input(\"enter the first number\"))\n",
    "    b = int(input(\"enter the second number\"))\n",
    "    if  b == 5:\n",
    "        raise division_by_5(\"division by  5 error\")\n",
    "        \n",
    "except ValueError as msg:\n",
    "    print(msg)\n",
    "except ZeroDivisionError as msg:\n",
    "    print(msg)\n",
    "except division_by_5 as msg:\n",
    "    print(msg)\n",
    "    \n",
    "else:\n",
    "    result = a/b\n",
    "    print(result)\n",
    "        "
   ]
  },
  {
   "cell_type": "code",
   "execution_count": null,
   "id": "ae200171",
   "metadata": {},
   "outputs": [],
   "source": [
    " #custom exception class\n",
    "    \n",
    "class division_by_5(Exception):\n",
    "    def __init__(self,msg):\n",
    "        self.msg = msg\n",
    "    \n",
    "try:\n",
    "    a = int(input(\"enter the first number\"))\n",
    "    b = int(input(\"enter the second number\"))\n",
    "    if  b == 5:\n",
    "        raise division_by_5(\"division by  5 error\")\n",
    "        \n",
    "except ValueError as msg:\n",
    "    print(msg)\n",
    "except ZeroDivisionError as msg:\n",
    "    print(msg)\n",
    "except division_by_5 as msg:\n",
    "    print(msg)\n",
    "    \n",
    "else:\n",
    "    result = a/b\n",
    "    print(result)\n",
    "        "
   ]
  },
  {
   "cell_type": "code",
   "execution_count": 2,
   "id": "7339ea69",
   "metadata": {},
   "outputs": [
    {
     "name": "stdout",
     "output_type": "stream",
     "text": [
      "enter the first number8\n",
      "enter the second number2\n",
      "4.0\n"
     ]
    }
   ],
   "source": [
    " #custom exception class\n",
    "    \n",
    "class division_by_5(Exception):\n",
    "    def __init__(self,msg):\n",
    "        self.msg = msg\n",
    "    \n",
    "try:\n",
    "    a = int(input(\"enter the first number\"))\n",
    "    b = int(input(\"enter the second number\"))\n",
    "    if  b == 5:\n",
    "        raise division_by_5(\"division by  5 error\")\n",
    "        \n",
    "except ValueError as msg:\n",
    "    print(msg)\n",
    "except ZeroDivisionError as msg:\n",
    "    print(msg)\n",
    "except division_by_5 as msg:\n",
    "    print(msg)\n",
    "    \n",
    "else:\n",
    "    \n",
    "    try:\n",
    "        \n",
    "        result = a/b\n",
    "        print(result)\n",
    "        \n",
    "    except Exception as e:\n",
    "        print(e)\n",
    "        "
   ]
  },
  {
   "cell_type": "code",
   "execution_count": 3,
   "id": "34283b22",
   "metadata": {},
   "outputs": [
    {
     "name": "stdout",
     "output_type": "stream",
     "text": [
      "enter the first number4\n",
      "enter the second number0\n",
      "division by zero\n"
     ]
    }
   ],
   "source": [
    " #custom exception class\n",
    "    \n",
    "class division_by_5(Exception):\n",
    "    def __init__(self,msg):\n",
    "        self.msg = msg\n",
    "    \n",
    "try:\n",
    "    a = int(input(\"enter the first number\"))\n",
    "    b = int(input(\"enter the second number\"))\n",
    "    a/b\n",
    "    if  b == 5:\n",
    "        raise division_by_5(\"division by  5 error\")\n",
    "        \n",
    "except ValueError as msg:\n",
    "    print(msg)\n",
    "except ZeroDivisionError as msg:\n",
    "    print(msg)\n",
    "except division_by_5 as msg:\n",
    "    print(msg)\n",
    "    \n",
    "else:\n",
    "    \n",
    "    print(result)\n",
    "        "
   ]
  },
  {
   "cell_type": "code",
   "execution_count": 4,
   "id": "b0e8479e",
   "metadata": {},
   "outputs": [],
   "source": [
    "#multiple example\n",
    "\n",
    "class class1:\n",
    "    \n",
    "    def __init__(self,a,b,c):\n",
    "        self.a = a\n",
    "        self.b = b\n",
    "        self.c = c\n",
    "        \n",
    "    def test(self):\n",
    "        print(\"this is a method of class1\")\n",
    "        \n",
    "class class2:\n",
    "    \n",
    "    def __init__(self,p,q,v):\n",
    "        self.p = p\n",
    "        self.q = q\n",
    "        self.v = v\n",
    "        \n",
    "    def test1(self):\n",
    "        print(\"this is a method of class 2\")\n",
    "        \n",
    "class child(class1,class2):\n",
    "    \n",
    "    def __init__(self, *args, **kwargs):\n",
    "        class1.__init__(self, *args)\n",
    "        class2.__init__(self, **kwargs)"
   ]
  },
  {
   "cell_type": "code",
   "execution_count": 6,
   "id": "08d82402",
   "metadata": {},
   "outputs": [
    {
     "name": "stdout",
     "output_type": "stream",
     "text": [
      "test1\n",
      "test2\n"
     ]
    }
   ],
   "source": [
    "#polymorphism\n",
    "\n",
    "class test1:\n",
    "    def a (self):\n",
    "        return \"test1\"\n",
    "    \n",
    "class test2:\n",
    "    def a (self):\n",
    "        return \"test2\"\n",
    "    \n",
    "def poly (obj):\n",
    "    print(obj.a())\n",
    "    \n",
    "    \n",
    "t1 = test1()\n",
    "t2 = test2()\n",
    "\n",
    "poly(t1)\n",
    "poly(t2)"
   ]
  },
  {
   "cell_type": "code",
   "execution_count": 7,
   "id": "e1d2f28e",
   "metadata": {},
   "outputs": [],
   "source": [
    "class apple:\n",
    "    def devices(self):\n",
    "        print(\"iphone,imac,airpod\")\n",
    "        \n",
    "class mi(apple):\n",
    "    def devices(self):\n",
    "        print(\"flagship mobilee, laptop\")\n",
    "        \n",
    "class dell(mi):\n",
    "    def devices(self):\n",
    "        print(\"flagship laptops\")"
   ]
  },
  {
   "cell_type": "code",
   "execution_count": 1,
   "id": "0068cb74",
   "metadata": {},
   "outputs": [],
   "source": [
    " class abc :\n",
    "        pass"
   ]
  },
  {
   "cell_type": "code",
   "execution_count": 4,
   "id": "6fd4c924",
   "metadata": {},
   "outputs": [],
   "source": [
    "from abc import abstractmethod\n",
    "class data_project :\n",
    "    \n",
    "    def read_files(self):\n",
    "        pass\n",
    "    def validate_file_name(self):\n",
    "        pass\n",
    "    def validate_datatype(self):\n",
    "        pass\n",
    "    def validate_db_connection(self):\n",
    "        pass\n",
    "    def create_conne(self):\n",
    "        pass\n",
    "    def insert_data(self):\n",
    "        pass\n",
    "    def delet_data(self):\n",
    "        pass\n",
    "    def update_data(self):\n",
    "        pass\n",
    "    def performed_data(self):\n",
    "        pass\n",
    "    "
   ]
  },
  {
   "cell_type": "code",
   "execution_count": null,
   "id": "e11cbe62",
   "metadata": {},
   "outputs": [],
   "source": [
    "class db_ops(data_project):\n",
    "    \n",
    "    "
   ]
  },
  {
   "cell_type": "code",
   "execution_count": 6,
   "id": "075879a3",
   "metadata": {},
   "outputs": [],
   "source": [
    "class test:\n",
    "    def fun(self):\n",
    "        print(\"this is a sample class\")"
   ]
  },
  {
   "cell_type": "code",
   "execution_count": 7,
   "id": "33ee480c",
   "metadata": {},
   "outputs": [],
   "source": [
    "t = test()"
   ]
  },
  {
   "cell_type": "code",
   "execution_count": 8,
   "id": "38d08ce8",
   "metadata": {},
   "outputs": [
    {
     "name": "stdout",
     "output_type": "stream",
     "text": [
      "<__main__.test object at 0x000001D4E7F94BB0>\n"
     ]
    }
   ],
   "source": [
    "print(t)"
   ]
  },
  {
   "cell_type": "code",
   "execution_count": 9,
   "id": "8e7cb54d",
   "metadata": {},
   "outputs": [
    {
     "data": {
      "text/plain": [
       "<__main__.test at 0x1d4e7f94bb0>"
      ]
     },
     "execution_count": 9,
     "metadata": {},
     "output_type": "execute_result"
    }
   ],
   "source": [
    "t"
   ]
  },
  {
   "cell_type": "code",
   "execution_count": 10,
   "id": "acb500bb",
   "metadata": {},
   "outputs": [],
   "source": [
    "class test:\n",
    "    def fun(self):\n",
    "        print(\"this is a sample class\")\n",
    "        \n",
    "    def __str__(self):\n",
    "        return str(\"this is a function at a time of object print\")"
   ]
  },
  {
   "cell_type": "code",
   "execution_count": 11,
   "id": "4937821a",
   "metadata": {},
   "outputs": [],
   "source": [
    "t =test()"
   ]
  },
  {
   "cell_type": "code",
   "execution_count": 12,
   "id": "3cd8030d",
   "metadata": {},
   "outputs": [
    {
     "name": "stdout",
     "output_type": "stream",
     "text": [
      "this is a function at a time of object print\n"
     ]
    }
   ],
   "source": [
    "print(t)"
   ]
  },
  {
   "cell_type": "code",
   "execution_count": 13,
   "id": "fe361a7e",
   "metadata": {},
   "outputs": [
    {
     "data": {
      "text/plain": [
       "<__main__.test at 0x1d4e7fc93d0>"
      ]
     },
     "execution_count": 13,
     "metadata": {},
     "output_type": "execute_result"
    }
   ],
   "source": [
    "t"
   ]
  },
  {
   "cell_type": "code",
   "execution_count": null,
   "id": "9a586081",
   "metadata": {},
   "outputs": [],
   "source": []
  }
 ],
 "metadata": {
  "kernelspec": {
   "display_name": "Python 3",
   "language": "python",
   "name": "python3"
  },
  "language_info": {
   "codemirror_mode": {
    "name": "ipython",
    "version": 3
   },
   "file_extension": ".py",
   "mimetype": "text/x-python",
   "name": "python",
   "nbconvert_exporter": "python",
   "pygments_lexer": "ipython3",
   "version": "3.8.8"
  }
 },
 "nbformat": 4,
 "nbformat_minor": 5
}
