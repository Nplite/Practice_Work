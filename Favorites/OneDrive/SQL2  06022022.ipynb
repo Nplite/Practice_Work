{
 "cells": [
  {
   "cell_type": "code",
   "execution_count": 1,
   "id": "5aaee0ec",
   "metadata": {},
   "outputs": [],
   "source": [
    "import mysql.connector as conn\n"
   ]
  },
  {
   "cell_type": "code",
   "execution_count": 2,
   "id": "1b11fd48",
   "metadata": {},
   "outputs": [],
   "source": [
    "mydb = conn.connect(host = \"localhost\", user = \"root\" , passwd = \"Ns.np#123\")"
   ]
  },
  {
   "cell_type": "code",
   "execution_count": 3,
   "id": "b16387ab",
   "metadata": {},
   "outputs": [],
   "source": [
    "cursor = mydb.cursor()"
   ]
  },
  {
   "cell_type": "code",
   "execution_count": 4,
   "id": "9d27bdc0",
   "metadata": {},
   "outputs": [],
   "source": [
    "cursor.execute(\"show databases\")"
   ]
  },
  {
   "cell_type": "code",
   "execution_count": 5,
   "id": "c0376373",
   "metadata": {},
   "outputs": [
    {
     "data": {
      "text/plain": [
       "[('cardataset1',),\n",
       " ('information_schema',),\n",
       " ('mysql',),\n",
       " ('namdeo',),\n",
       " ('performance_schema',)]"
      ]
     },
     "execution_count": 5,
     "metadata": {},
     "output_type": "execute_result"
    }
   ],
   "source": [
    "cursor.fetchall()"
   ]
  },
  {
   "cell_type": "code",
   "execution_count": 6,
   "id": "1e69ccec",
   "metadata": {},
   "outputs": [
    {
     "ename": "ProgrammingError",
     "evalue": "1049 (42000): Unknown database 'testsudhineuron'",
     "output_type": "error",
     "traceback": [
      "\u001b[1;31m---------------------------------------------------------------------------\u001b[0m",
      "\u001b[1;31mMySQLInterfaceError\u001b[0m                       Traceback (most recent call last)",
      "\u001b[1;32m~\\anaconda3\\lib\\site-packages\\mysql\\connector\\connection_cext.py\u001b[0m in \u001b[0;36mcmd_query\u001b[1;34m(self, query, raw, buffered, raw_as_string)\u001b[0m\n\u001b[0;32m    522\u001b[0m                 \u001b[0mquery\u001b[0m \u001b[1;33m=\u001b[0m \u001b[0mquery\u001b[0m\u001b[1;33m.\u001b[0m\u001b[0mencode\u001b[0m\u001b[1;33m(\u001b[0m\u001b[1;34m'utf-8'\u001b[0m\u001b[1;33m)\u001b[0m\u001b[1;33m\u001b[0m\u001b[1;33m\u001b[0m\u001b[0m\n\u001b[1;32m--> 523\u001b[1;33m             self._cmysql.query(query,\n\u001b[0m\u001b[0;32m    524\u001b[0m                                \u001b[0mraw\u001b[0m\u001b[1;33m=\u001b[0m\u001b[0mraw\u001b[0m\u001b[1;33m,\u001b[0m \u001b[0mbuffered\u001b[0m\u001b[1;33m=\u001b[0m\u001b[0mbuffered\u001b[0m\u001b[1;33m,\u001b[0m\u001b[1;33m\u001b[0m\u001b[1;33m\u001b[0m\u001b[0m\n",
      "\u001b[1;31mMySQLInterfaceError\u001b[0m: Unknown database 'testsudhineuron'",
      "\nDuring handling of the above exception, another exception occurred:\n",
      "\u001b[1;31mProgrammingError\u001b[0m                          Traceback (most recent call last)",
      "\u001b[1;32m<ipython-input-6-b5b20324dda4>\u001b[0m in \u001b[0;36m<module>\u001b[1;34m\u001b[0m\n\u001b[1;32m----> 1\u001b[1;33m \u001b[0mcursor\u001b[0m\u001b[1;33m.\u001b[0m\u001b[0mexecute\u001b[0m\u001b[1;33m(\u001b[0m\u001b[1;34m\"select  * from testsudhineuron.glassdata1\"\u001b[0m\u001b[1;33m)\u001b[0m\u001b[1;33m\u001b[0m\u001b[1;33m\u001b[0m\u001b[0m\n\u001b[0m",
      "\u001b[1;32m~\\anaconda3\\lib\\site-packages\\mysql\\connector\\cursor_cext.py\u001b[0m in \u001b[0;36mexecute\u001b[1;34m(self, operation, params, multi)\u001b[0m\n\u001b[0;32m    267\u001b[0m \u001b[1;33m\u001b[0m\u001b[0m\n\u001b[0;32m    268\u001b[0m         \u001b[1;32mtry\u001b[0m\u001b[1;33m:\u001b[0m\u001b[1;33m\u001b[0m\u001b[1;33m\u001b[0m\u001b[0m\n\u001b[1;32m--> 269\u001b[1;33m             result = self._cnx.cmd_query(stmt, raw=self._raw,\n\u001b[0m\u001b[0;32m    270\u001b[0m                                          \u001b[0mbuffered\u001b[0m\u001b[1;33m=\u001b[0m\u001b[0mself\u001b[0m\u001b[1;33m.\u001b[0m\u001b[0m_buffered\u001b[0m\u001b[1;33m,\u001b[0m\u001b[1;33m\u001b[0m\u001b[1;33m\u001b[0m\u001b[0m\n\u001b[0;32m    271\u001b[0m                                          raw_as_string=self._raw_as_string)\n",
      "\u001b[1;32m~\\anaconda3\\lib\\site-packages\\mysql\\connector\\connection_cext.py\u001b[0m in \u001b[0;36mcmd_query\u001b[1;34m(self, query, raw, buffered, raw_as_string)\u001b[0m\n\u001b[0;32m    526\u001b[0m                                query_attrs=self._query_attrs)\n\u001b[0;32m    527\u001b[0m         \u001b[1;32mexcept\u001b[0m \u001b[0mMySQLInterfaceError\u001b[0m \u001b[1;32mas\u001b[0m \u001b[0mexc\u001b[0m\u001b[1;33m:\u001b[0m\u001b[1;33m\u001b[0m\u001b[1;33m\u001b[0m\u001b[0m\n\u001b[1;32m--> 528\u001b[1;33m             raise errors.get_mysql_exception(exc.errno, msg=exc.msg,\n\u001b[0m\u001b[0;32m    529\u001b[0m                                              sqlstate=exc.sqlstate)\n\u001b[0;32m    530\u001b[0m         \u001b[1;32mexcept\u001b[0m \u001b[0mAttributeError\u001b[0m\u001b[1;33m:\u001b[0m\u001b[1;33m\u001b[0m\u001b[1;33m\u001b[0m\u001b[0m\n",
      "\u001b[1;31mProgrammingError\u001b[0m: 1049 (42000): Unknown database 'testsudhineuron'"
     ]
    }
   ],
   "source": [
    "cursor.execute(\"select  * from testsudhineuron.glassdata1\")"
   ]
  },
  {
   "cell_type": "code",
   "execution_count": null,
   "id": "85fccc53",
   "metadata": {},
   "outputs": [],
   "source": [
    "cursor.fetchall()"
   ]
  },
  {
   "cell_type": "code",
   "execution_count": null,
   "id": "57ec22fd",
   "metadata": {},
   "outputs": [],
   "source": [
    "cursor.execute( \"select * from testsudhineuron1.ineuron\")"
   ]
  },
  {
   "cell_type": "code",
   "execution_count": null,
   "id": "333da371",
   "metadata": {},
   "outputs": [],
   "source": [
    "cursor.fetchall()"
   ]
  },
  {
   "cell_type": "code",
   "execution_count": null,
   "id": "7fcdc103",
   "metadata": {},
   "outputs": [],
   "source": [
    "cursor.execute(\"select col1,col5,col10,col4 from testsudhineuron.glassdata1\") # order and repeatation of coloumb doesnt matter it can access all things in proper manner"
   ]
  },
  {
   "cell_type": "code",
   "execution_count": null,
   "id": "cbdd1784",
   "metadata": {},
   "outputs": [],
   "source": [
    "cursor.fetchall()"
   ]
  },
  {
   "cell_type": "code",
   "execution_count": null,
   "id": "be97a36b",
   "metadata": {},
   "outputs": [],
   "source": [
    "cursor.execute(\"select * from testsudhineuron.glassdata1 WHERE col1 = 4\")"
   ]
  },
  {
   "cell_type": "code",
   "execution_count": null,
   "id": "bfcefc24",
   "metadata": {},
   "outputs": [],
   "source": [
    "cursor.fetchall()"
   ]
  },
  {
   "cell_type": "code",
   "execution_count": null,
   "id": "161ef8e9",
   "metadata": {},
   "outputs": [],
   "source": [
    "cursor.execute(\"select * from testsudhineuron.glassdata1 WHERE col1 = 4 and col11 = 0\")"
   ]
  },
  {
   "cell_type": "code",
   "execution_count": null,
   "id": "4bb4dc48",
   "metadata": {},
   "outputs": [],
   "source": [
    "cursor.fetchall()"
   ]
  },
  {
   "cell_type": "code",
   "execution_count": null,
   "id": "00a5f76e",
   "metadata": {},
   "outputs": [],
   "source": [
    "cursor.execute(\"delete from testsudhineuron.glassdata1 where col1 = 4\")"
   ]
  },
  {
   "cell_type": "code",
   "execution_count": null,
   "id": "1fb7df76",
   "metadata": {},
   "outputs": [],
   "source": [
    "mydb.commit()"
   ]
  },
  {
   "cell_type": "code",
   "execution_count": null,
   "id": "0e8c5a63",
   "metadata": {},
   "outputs": [],
   "source": [
    "cursor.execute(\"delete from testsudhineuron.glassdata1 where col1 = 2\")"
   ]
  },
  {
   "cell_type": "code",
   "execution_count": null,
   "id": "bfc14a69",
   "metadata": {},
   "outputs": [],
   "source": [
    "mydb.commit()"
   ]
  },
  {
   "cell_type": "code",
   "execution_count": null,
   "id": "740c967b",
   "metadata": {},
   "outputs": [],
   "source": [
    "cursor.execute(\"select * from testsudhineuron.glassdata1\")"
   ]
  },
  {
   "cell_type": "code",
   "execution_count": null,
   "id": "4e296050",
   "metadata": {},
   "outputs": [],
   "source": [
    "cursor.fetchall()"
   ]
  },
  {
   "cell_type": "code",
   "execution_count": null,
   "id": "2449b006",
   "metadata": {},
   "outputs": [],
   "source": [
    "cursor.execute(\"UPDATE testsudhineuron.glassdata1  SET col1 = 6 , col5 = 8 WHERE col1 = 4\")   # update operation"
   ]
  },
  {
   "cell_type": "code",
   "execution_count": null,
   "id": "e3b3867f",
   "metadata": {},
   "outputs": [],
   "source": [
    "mydb.commit()"
   ]
  },
  {
   "cell_type": "code",
   "execution_count": null,
   "id": "5a0ad490",
   "metadata": {},
   "outputs": [],
   "source": [
    "cursor.execute(\"select * from testsudhineuron.glassdata1\")"
   ]
  },
  {
   "cell_type": "code",
   "execution_count": null,
   "id": "9fec840d",
   "metadata": {},
   "outputs": [],
   "source": [
    "cursor.fetchall()"
   ]
  },
  {
   "cell_type": "code",
   "execution_count": null,
   "id": "07e64865",
   "metadata": {},
   "outputs": [],
   "source": [
    "cursor.execute(\"select * from testsudhineuron.glassdata1 WHERE col1 = 6\")# filter it out from all the big data set"
   ]
  },
  {
   "cell_type": "code",
   "execution_count": null,
   "id": "285225ec",
   "metadata": {},
   "outputs": [],
   "source": [
    "cursor.fetchall() #check col1 and col2 updated"
   ]
  },
  {
   "cell_type": "code",
   "execution_count": null,
   "id": "1de9fefb",
   "metadata": {},
   "outputs": [],
   "source": [
    " #try to understand group by operation"
   ]
  },
  {
   "cell_type": "code",
   "execution_count": null,
   "id": "73e367a4",
   "metadata": {},
   "outputs": [],
   "source": [
    "cursor.execute(\"select count(col1), col2 from testsudhineuron.glassdata1 group by col1\")"
   ]
  },
  {
   "cell_type": "code",
   "execution_count": null,
   "id": "2a73e0d0",
   "metadata": {},
   "outputs": [],
   "source": [
    "cursor.fetchall()"
   ]
  },
  {
   "cell_type": "code",
   "execution_count": null,
   "id": "7ccac223",
   "metadata": {},
   "outputs": [],
   "source": [
    "cursor.execute(\"select count(col1), col2, col3,col4 from testsudhineuron.glassdata1 group by col1\")"
   ]
  },
  {
   "cell_type": "code",
   "execution_count": null,
   "id": "5197cb8f",
   "metadata": {},
   "outputs": [],
   "source": [
    "cursor.fetchall()"
   ]
  },
  {
   "cell_type": "code",
   "execution_count": null,
   "id": "f6b01dd4",
   "metadata": {},
   "outputs": [],
   "source": [
    "cursor.execute(\"select col1, count(col1), col11 from testsudhineuron.glassdata1 \")"
   ]
  },
  {
   "cell_type": "code",
   "execution_count": null,
   "id": "13229a25",
   "metadata": {},
   "outputs": [],
   "source": [
    "cursor.fetchall()"
   ]
  },
  {
   "cell_type": "code",
   "execution_count": null,
   "id": "7550bb35",
   "metadata": {},
   "outputs": [],
   "source": [
    "cursor.execute(\"select col1, count(col1), col11 from testsudhineuron.glassdata1 group by col1 \")"
   ]
  },
  {
   "cell_type": "code",
   "execution_count": null,
   "id": "e903cf06",
   "metadata": {
    "scrolled": false
   },
   "outputs": [],
   "source": [
    "cursor.fetchall()"
   ]
  },
  {
   "cell_type": "code",
   "execution_count": null,
   "id": "5a673409",
   "metadata": {},
   "outputs": [],
   "source": [
    "#how many times 2 in col1 or 6 in col1 .... find out"
   ]
  },
  {
   "cell_type": "code",
   "execution_count": null,
   "id": "84fe3c81",
   "metadata": {},
   "outputs": [],
   "source": [
    "cursor.execute(\"select  * from testsudhineuron.glassdata1 where col1 = 6\")"
   ]
  },
  {
   "cell_type": "code",
   "execution_count": null,
   "id": "66d7864e",
   "metadata": {},
   "outputs": [],
   "source": [
    "cursor.fetchall()"
   ]
  },
  {
   "cell_type": "code",
   "execution_count": null,
   "id": "fb67f7c4",
   "metadata": {},
   "outputs": [],
   "source": [
    " #how many times which value appear in col1 try to give it to me"
   ]
  },
  {
   "cell_type": "code",
   "execution_count": null,
   "id": "d5584249",
   "metadata": {},
   "outputs": [],
   "source": [
    "cursor.execute(\"select col1, count(col1) from testsudhineuron.glassdata1 group by col1 order by col1\") # it will give you the group by its order and how many times it apears"
   ]
  },
  {
   "cell_type": "code",
   "execution_count": null,
   "id": "4b157ccb",
   "metadata": {},
   "outputs": [],
   "source": [
    "cursor.fetchall()"
   ]
  },
  {
   "cell_type": "code",
   "execution_count": null,
   "id": "8a25fc95",
   "metadata": {},
   "outputs": [],
   "source": [
    "#specific number(25) appear in which rows... find out"
   ]
  },
  {
   "cell_type": "code",
   "execution_count": null,
   "id": "7f9c3419",
   "metadata": {},
   "outputs": [],
   "source": [
    "cursor.execute(\"select  * from testsudhineuron.glassdata1 where col1 = 25\")"
   ]
  },
  {
   "cell_type": "code",
   "execution_count": null,
   "id": "54940e3f",
   "metadata": {},
   "outputs": [],
   "source": [
    "cursor.fetchall()"
   ]
  },
  {
   "cell_type": "code",
   "execution_count": null,
   "id": "2f2b04bb",
   "metadata": {},
   "outputs": [],
   "source": [
    "cursor.execute(\"select * from testsudhineuron1.ineuron\")"
   ]
  },
  {
   "cell_type": "code",
   "execution_count": null,
   "id": "2ddcd1ed",
   "metadata": {},
   "outputs": [],
   "source": [
    "cursor.fetchall()"
   ]
  },
  {
   "cell_type": "code",
   "execution_count": null,
   "id": "eef6725b",
   "metadata": {},
   "outputs": [],
   "source": [
    " # how many student enroll for FSDS find out = ans is 6 "
   ]
  },
  {
   "cell_type": "code",
   "execution_count": null,
   "id": "5ed5aad9",
   "metadata": {},
   "outputs": [],
   "source": [
    "cursor.execute(\"select count(classname) from testsudhineuron1.ineuron where classname = 'FSDS'\")"
   ]
  },
  {
   "cell_type": "code",
   "execution_count": null,
   "id": "9635ef02",
   "metadata": {},
   "outputs": [],
   "source": [
    "cursor.fetchall()"
   ]
  },
  {
   "cell_type": "code",
   "execution_count": null,
   "id": "6bd79797",
   "metadata": {},
   "outputs": [],
   "source": [
    "cursor.execute(\"select count(*), classname from testsudhineuron1.ineuron where classname = 'FSDS'\")"
   ]
  },
  {
   "cell_type": "code",
   "execution_count": null,
   "id": "b6c441ea",
   "metadata": {},
   "outputs": [],
   "source": [
    "cursor.fetchall()"
   ]
  },
  {
   "cell_type": "code",
   "execution_count": null,
   "id": "3f0c4816",
   "metadata": {},
   "outputs": [],
   "source": [
    "cursor.execute(\"select count(*), classname from testsudhineuron1.ineuron group by classname\")"
   ]
  },
  {
   "cell_type": "code",
   "execution_count": null,
   "id": "b4bb2c08",
   "metadata": {},
   "outputs": [],
   "source": [
    "cursor.fetchall()"
   ]
  },
  {
   "cell_type": "code",
   "execution_count": null,
   "id": "0e841fa9",
   "metadata": {},
   "outputs": [],
   "source": [
    "cursor.execute(\"select count(*), studentid from testsudhineuron1.ineuron group by studentid\")"
   ]
  },
  {
   "cell_type": "code",
   "execution_count": null,
   "id": "a0840aa4",
   "metadata": {},
   "outputs": [],
   "source": [
    "cursor.fetchall()"
   ]
  },
  {
   "cell_type": "code",
   "execution_count": null,
   "id": "261f0bb9",
   "metadata": {},
   "outputs": [],
   "source": [
    "cursor.execute(\"select count(*), studentid from testsudhineuron1.ineuron where studentid = 1234789654\") #specific studentid findout"
   ]
  },
  {
   "cell_type": "code",
   "execution_count": null,
   "id": "719ac877",
   "metadata": {},
   "outputs": [],
   "source": [
    "cursor.fetchall()"
   ]
  },
  {
   "cell_type": "code",
   "execution_count": null,
   "id": "7c7ee90c",
   "metadata": {},
   "outputs": [],
   "source": [
    "cursor.execute(\"drop table testsudhineuron1.ineuron\") # we have drop this table"
   ]
  },
  {
   "cell_type": "raw",
   "id": "2d08cc58",
   "metadata": {},
   "source": [
    "mydb.commit("
   ]
  },
  {
   "cell_type": "code",
   "execution_count": null,
   "id": "5ac242a0",
   "metadata": {},
   "outputs": [],
   "source": [
    "cursor.execute(\"select count(*), studentid from testsudhineuron1.ineuron where studentid = 1234789654\") #so already drop the table"
   ]
  },
  {
   "cell_type": "code",
   "execution_count": null,
   "id": "e49e3d03",
   "metadata": {},
   "outputs": [],
   "source": [
    "cursor.execute(\"select * from testsudhineuron.glassdata1\")"
   ]
  },
  {
   "cell_type": "code",
   "execution_count": null,
   "id": "684d4384",
   "metadata": {},
   "outputs": [],
   "source": [
    "cursor.fetchall()"
   ]
  },
  {
   "cell_type": "code",
   "execution_count": null,
   "id": "a3056295",
   "metadata": {},
   "outputs": [],
   "source": [
    "#try to fit col1 value=11 and col11 value = 2"
   ]
  },
  {
   "cell_type": "code",
   "execution_count": null,
   "id": "25be1860",
   "metadata": {},
   "outputs": [],
   "source": [
    "cursor.execute(\"select col1, col2, col11 from testsudhineuron.glassdata1 where col1 = 11 or col11 = 2\")"
   ]
  },
  {
   "cell_type": "code",
   "execution_count": null,
   "id": "d8288e72",
   "metadata": {},
   "outputs": [],
   "source": [
    "cursor.fetchall()"
   ]
  },
  {
   "cell_type": "code",
   "execution_count": null,
   "id": "83899598",
   "metadata": {},
   "outputs": [],
   "source": [
    "cursor.execute(\"select col1, col2, col11 from testsudhineuron.glassdata1 where col1 = 11 and col11 = 2\")"
   ]
  },
  {
   "cell_type": "code",
   "execution_count": null,
   "id": "05437176",
   "metadata": {},
   "outputs": [],
   "source": [
    "cursor.fetchall()          # we dont have col1 value =11 and col11 value is 2 ....  here digital electronics thigs appear like AND and OR operation "
   ]
  },
  {
   "cell_type": "code",
   "execution_count": null,
   "id": "120e01b3",
   "metadata": {},
   "outputs": [],
   "source": [
    "#commit command use incase of deletation, updating and insertion record operation"
   ]
  },
  {
   "cell_type": "code",
   "execution_count": null,
   "id": "85653500",
   "metadata": {},
   "outputs": [],
   "source": [
    "cursor.execute(\"select * from testsudhineuron.glassdata1 where col2 like '1.515%'\")# we have fetch all the record having inside col2 1.151"
   ]
  },
  {
   "cell_type": "code",
   "execution_count": null,
   "id": "398f341e",
   "metadata": {},
   "outputs": [],
   "source": [
    "cursor.fetchall()"
   ]
  },
  {
   "cell_type": "code",
   "execution_count": null,
   "id": "d1e58336",
   "metadata": {},
   "outputs": [],
   "source": [
    "cursor.execute(\"select * from testsudhineuron.glassdata1 where col2 like '%1.515%'\")"
   ]
  },
  {
   "cell_type": "code",
   "execution_count": null,
   "id": "aa32b6a2",
   "metadata": {},
   "outputs": [],
   "source": [
    "cursor.fetchall()"
   ]
  },
  {
   "cell_type": "code",
   "execution_count": null,
   "id": "624aa5fb",
   "metadata": {},
   "outputs": [],
   "source": [
    "cursor.execute(\"select * from testsudhineuron.glassdata1\")"
   ]
  },
  {
   "cell_type": "code",
   "execution_count": null,
   "id": "032a7899",
   "metadata": {},
   "outputs": [],
   "source": [
    "cursor.fetchall()"
   ]
  },
  {
   "cell_type": "code",
   "execution_count": null,
   "id": "6d8b81ed",
   "metadata": {},
   "outputs": [],
   "source": [
    "#i would like to order the entire data set in assending order"
   ]
  },
  {
   "cell_type": "code",
   "execution_count": null,
   "id": "7e79a0c7",
   "metadata": {},
   "outputs": [],
   "source": [
    "cursor.execute(\"select * from testsudhineuron.glassdata1 order by col2\")"
   ]
  },
  {
   "cell_type": "code",
   "execution_count": null,
   "id": "5c88a3af",
   "metadata": {},
   "outputs": [],
   "source": [
    "cursor.fetchall()"
   ]
  },
  {
   "cell_type": "code",
   "execution_count": null,
   "id": "e5516f24",
   "metadata": {},
   "outputs": [],
   "source": [
    "#by record we required a dataset oc col2 in decending order"
   ]
  },
  {
   "cell_type": "code",
   "execution_count": null,
   "id": "54669211",
   "metadata": {},
   "outputs": [],
   "source": [
    "cursor.execute(\"select * from testsudhineuron.glassdata1 order by col2 desc\")"
   ]
  },
  {
   "cell_type": "code",
   "execution_count": null,
   "id": "9fbae591",
   "metadata": {},
   "outputs": [],
   "source": [
    "cursor.fetchall()"
   ]
  },
  {
   "cell_type": "code",
   "execution_count": null,
   "id": "55b4a52e",
   "metadata": {},
   "outputs": [],
   "source": [
    "cursor.execute(\"select * from testsudhineuron.glassdata1 where col1 =112\")"
   ]
  },
  {
   "cell_type": "code",
   "execution_count": null,
   "id": "b71b313e",
   "metadata": {},
   "outputs": [],
   "source": [
    "cursor.fetchall()"
   ]
  },
  {
   "cell_type": "code",
   "execution_count": null,
   "id": "f48659a2",
   "metadata": {},
   "outputs": [],
   "source": [
    "cursor.execute(\"select * from testsudhineuron.glassdata1 where col1 > 112\")"
   ]
  },
  {
   "cell_type": "code",
   "execution_count": null,
   "id": "a6d0c960",
   "metadata": {},
   "outputs": [],
   "source": [
    "cursor.fetchall()"
   ]
  },
  {
   "cell_type": "code",
   "execution_count": null,
   "id": "1a4509b6",
   "metadata": {},
   "outputs": [],
   "source": [
    "cursor.execute(\"select * from (select * from testsudhineuron.glassdata1 where col1 > 112 ) as a where col11= 3\")# here as = alias we can use as=>as sudh"
   ]
  },
  {
   "cell_type": "code",
   "execution_count": null,
   "id": "3de9574f",
   "metadata": {},
   "outputs": [],
   "source": [
    "cursor.fetchall()"
   ]
  },
  {
   "cell_type": "code",
   "execution_count": null,
   "id": "e94c572b",
   "metadata": {},
   "outputs": [],
   "source": [
    "cursor.execute(\"select * from testsudhineuron.glassdata1\")"
   ]
  },
  {
   "cell_type": "code",
   "execution_count": null,
   "id": "be3aea5a",
   "metadata": {},
   "outputs": [],
   "source": [
    "cursor.fetchall()"
   ]
  },
  {
   "cell_type": "code",
   "execution_count": null,
   "id": "220b782f",
   "metadata": {},
   "outputs": [],
   "source": [
    "#any value apear more times so fetch all of these record whose value more than 1"
   ]
  },
  {
   "cell_type": "code",
   "execution_count": null,
   "id": "e51772c6",
   "metadata": {},
   "outputs": [],
   "source": [
    "cursor.execute(\"select * from testsudhineuron.glassdata1 where count(col1)>  2\")# it will not be able to count bcoz grp is not created"
   ]
  },
  {
   "cell_type": "code",
   "execution_count": null,
   "id": "ae874588",
   "metadata": {},
   "outputs": [],
   "source": [
    "cursor.execute(\"select * from testsudhineuron.glassdata1 group by col1\")"
   ]
  },
  {
   "cell_type": "code",
   "execution_count": null,
   "id": "72a9911f",
   "metadata": {},
   "outputs": [],
   "source": [
    "cursor.fetchall()"
   ]
  },
  {
   "cell_type": "code",
   "execution_count": null,
   "id": "a6ea640b",
   "metadata": {},
   "outputs": [],
   "source": [
    "cursor.execute(\"select * from testsudhineuron.glassdata1 group by col1 having count(col1)>2\")"
   ]
  },
  {
   "cell_type": "code",
   "execution_count": null,
   "id": "5cf0b2de",
   "metadata": {},
   "outputs": [],
   "source": [
    "cursor.fetchall() # this is correct statement but not working"
   ]
  },
  {
   "cell_type": "code",
   "execution_count": null,
   "id": "0ce07353",
   "metadata": {},
   "outputs": [],
   "source": [
    "cursor.execute(\"select * from testsudhineuron.glassdata1 where col1 = 6\")"
   ]
  },
  {
   "cell_type": "code",
   "execution_count": null,
   "id": "1d5e53ef",
   "metadata": {},
   "outputs": [],
   "source": [
    "cursor.fetchall()"
   ]
  },
  {
   "cell_type": "code",
   "execution_count": null,
   "id": "ef239561",
   "metadata": {},
   "outputs": [],
   "source": []
  }
 ],
 "metadata": {
  "kernelspec": {
   "display_name": "Python 3",
   "language": "python",
   "name": "python3"
  },
  "language_info": {
   "codemirror_mode": {
    "name": "ipython",
    "version": 3
   },
   "file_extension": ".py",
   "mimetype": "text/x-python",
   "name": "python",
   "nbconvert_exporter": "python",
   "pygments_lexer": "ipython3",
   "version": "3.8.8"
  }
 },
 "nbformat": 4,
 "nbformat_minor": 5
}
