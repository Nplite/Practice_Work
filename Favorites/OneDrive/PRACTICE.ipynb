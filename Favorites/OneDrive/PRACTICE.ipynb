{
 "cells": [
  {
   "cell_type": "code",
   "execution_count": null,
   "id": "58848ece",
   "metadata": {},
   "outputs": [],
   "source": [
    "print('helo')"
   ]
  },
  {
   "cell_type": "code",
   "execution_count": null,
   "id": "6bc4cc97",
   "metadata": {},
   "outputs": [],
   "source": [
    "int1 = int(input())\n",
    "int2 = int(input())\n",
    "sum11 = int1 + int2\n",
    "print(sum11)"
   ]
  },
  {
   "cell_type": "code",
   "execution_count": null,
   "id": "b52ddf42",
   "metadata": {},
   "outputs": [],
   "source": [
    "a = 15\n",
    "b = 12\n",
    "c = 18\n",
    "semiperimeter = (a+b+c)/2\n",
    "area = (semiperimeter*(semiperimeter-a)*(semiperimeter-b)*(semiperimeter-c)**0.5)\n",
    "print(area)"
   ]
  },
  {
   "cell_type": "code",
   "execution_count": null,
   "id": "61bcae34",
   "metadata": {},
   "outputs": [],
   "source": [
    "x = 10\n",
    "y = 50\n",
    "\n",
    "ineuron = x\n",
    "x = y\n",
    "y = ineuron\n",
    "print('value of x is',y)\n",
    "print(\"value of y is\",x)"
   ]
  },
  {
   "cell_type": "code",
   "execution_count": null,
   "id": "fecede9e",
   "metadata": {},
   "outputs": [],
   "source": [
    "print('random')"
   ]
  },
  {
   "cell_type": "code",
   "execution_count": null,
   "id": "b9ae20f7",
   "metadata": {},
   "outputs": [],
   "source": [
    "import random\n",
    "print(random.sample([1,2,3,4,5,6,678,9,8],4))"
   ]
  },
  {
   "cell_type": "code",
   "execution_count": null,
   "id": "add616d8",
   "metadata": {},
   "outputs": [],
   "source": [
    "rand = random.sample([1,30],20)"
   ]
  },
  {
   "cell_type": "code",
   "execution_count": null,
   "id": "1c19e43a",
   "metadata": {},
   "outputs": [],
   "source": [
    "km = float(input())\n",
    "ratio = km*0.625\n",
    "print(ratio)"
   ]
  },
  {
   "cell_type": "code",
   "execution_count": null,
   "id": "3dd14ed8",
   "metadata": {},
   "outputs": [],
   "source": [
    "c = int(input())\n",
    "ratio = (c*9/5 )+32\n",
    "print(ratio)"
   ]
  },
  {
   "cell_type": "code",
   "execution_count": null,
   "id": "c0d5b518",
   "metadata": {},
   "outputs": [],
   "source": [
    "import calendar\n",
    "year = int(input('enter the year'))\n",
    "month = int(input('enter the month'))\n",
    "print(calendar.month(year,month))"
   ]
  },
  {
   "cell_type": "code",
   "execution_count": null,
   "id": "ee2c3062",
   "metadata": {},
   "outputs": [],
   "source": [
    "import math\n",
    "a = int(input('enter the number'))\n",
    "b = int(input('enter the number'))\n",
    "c = int(input('enter the number'))\n",
    "\n",
    "app = (b**2)-(4*a*c)\n",
    "\n",
    "if app > 1:\n",
    "    r1 = -b + (math.sqrt(app/2))\n",
    "    r2 = -b - (math.sqrt(app/2))\n",
    "    print('two real and not equl roots are', r1 , r2)\n",
    "elif app == 0:\n",
    "    r1 = r2 = -b/(2*a)\n",
    "    print(\"two equal and real roots are\", r1,r2)\n",
    "    \n",
    "elif app <0 :\n",
    "    r1=r2 = -b/(2*a)\n",
    "    img = math.sqrt(-app)/(2*a)\n",
    "    print('two distinct and complex roots are ', r1,img,r2,img)\n",
    "    "
   ]
  },
  {
   "cell_type": "code",
   "execution_count": null,
   "id": "877d2d9e",
   "metadata": {},
   "outputs": [],
   "source": [
    "a = 4\n",
    "b = 5\n",
    "a,b = b,a"
   ]
  },
  {
   "cell_type": "code",
   "execution_count": null,
   "id": "b5d5d999",
   "metadata": {},
   "outputs": [],
   "source": [
    "print(a)"
   ]
  },
  {
   "cell_type": "code",
   "execution_count": null,
   "id": "a8d7f72e",
   "metadata": {},
   "outputs": [],
   "source": [
    "print(b)"
   ]
  },
  {
   "cell_type": "code",
   "execution_count": null,
   "id": "fff3f2a4",
   "metadata": {},
   "outputs": [],
   "source": [
    "num = int(input('enter the number'))\n",
    "if num > 0:\n",
    "    print(' the given number is a posuitive number')\n",
    "    \n",
    "elif num == 0:\n",
    "    print('  the given number ios a zero number')\n",
    "    \n",
    "else:\n",
    "    print('the give number is a negative number')"
   ]
  },
  {
   "cell_type": "code",
   "execution_count": null,
   "id": "9abf3552",
   "metadata": {},
   "outputs": [],
   "source": [
    "try :\n",
    "    \n",
    "    num = int(input('enter the number'))\n",
    "    if  (num % 4  ==0) and (num %100 != 0):\n",
    "        print(\" the given number is  leap year\")\n",
    "    else:\n",
    "        \n",
    "        print(\"this is not a leap year\")\n",
    "\n",
    "except Exception as e:\n",
    "    print(\"this is not a int check the solution\")"
   ]
  },
  {
   "cell_type": "code",
   "execution_count": null,
   "id": "14defb91",
   "metadata": {},
   "outputs": [],
   "source": [
    "l = 1\n",
    "u = 1001\n",
    "for num in range(l,u+1):\n",
    "    if num > 1:\n",
    "        for i in range(2,num):\n",
    "            if (num % i) ==0:\n",
    "                #print(\"the given number is not a prime number\")\n",
    "                break\n",
    "        else:\n",
    "            print(num,end = ' ')"
   ]
  },
  {
   "cell_type": "code",
   "execution_count": null,
   "id": "1c4ed2b1",
   "metadata": {},
   "outputs": [],
   "source": [
    "import math\n",
    "def fact(n):\n",
    "    return(math.factorial(n))\n",
    "num = int(input(\"enter the input \"))\n",
    "f = fact(num)\n",
    "print('the factorial of number is ', f)"
   ]
  },
  {
   "cell_type": "code",
   "execution_count": null,
   "id": "69891767",
   "metadata": {},
   "outputs": [],
   "source": [
    "num = int(input(' enter the number'))\n",
    "fact = 1\n",
    "if num < 0:\n",
    "    print('factorial is not posible for -ve number')\n",
    "elif num ==0:\n",
    "    print('factorial of zero is always 1')\n",
    "    \n",
    "else:\n",
    "    for i in range(1, num + 1):\n",
    "        fact = fact*i\n",
    "    print(fact)"
   ]
  },
  {
   "cell_type": "code",
   "execution_count": null,
   "id": "0c0331d0",
   "metadata": {},
   "outputs": [],
   "source": [
    "def fib(n):\n",
    "    l = []\n",
    "    a = 1\n",
    "    b = 1\n",
    "    for i in range(n):\n",
    "        \n",
    "        l.append(a)\n",
    "        a,b = b,b+a\n",
    "    return l\n",
    "fib(10)"
   ]
  },
  {
   "cell_type": "code",
   "execution_count": null,
   "id": "56a8d461",
   "metadata": {},
   "outputs": [],
   "source": [
    " def fib(n):\n",
    "        a = 1\n",
    "        b = 1\n",
    "        l = []\n",
    "        for i in range(n):\n",
    "            l.append(a)\n",
    "            a,b = b,a+b\n",
    "        return l\n",
    "\n",
    "fib(10)"
   ]
  },
  {
   "cell_type": "code",
   "execution_count": null,
   "id": "8ef20935",
   "metadata": {},
   "outputs": [],
   "source": [
    "n = int(input('enter the number'))\n",
    "count = 0\n",
    "while (n > 0):\n",
    "    count = count+n\n",
    "    n = n - 1\n",
    "print(count)"
   ]
  },
  {
   "cell_type": "code",
   "execution_count": null,
   "id": "684d61e0",
   "metadata": {},
   "outputs": [],
   "source": [
    "    n = int(input(\"Enter a number: \"))\n",
    "    sum1 = 0\n",
    "    while(n > 0):\n",
    "        sum1 = sum1 + n\n",
    "        n = n - 1\n",
    "    print(\"The sum of first n natural numbers is\", sum1)"
   ]
  },
  {
   "cell_type": "code",
   "execution_count": null,
   "id": "ecf2bf2b",
   "metadata": {},
   "outputs": [],
   "source": [
    "x = int(input())\n",
    "y = int(input())\n",
    "if x > y:\n",
    "    greater = x\n",
    "else:\n",
    "    greater = y\n",
    "    \n",
    "while (True):\n",
    "    if (greater % x == 0) and (greater % y ==0):\n",
    "        lcm = greater\n",
    "        break\n",
    "    greater = greater + 1\n",
    "print('lcm of two number is',lcm)\n",
    "    "
   ]
  },
  {
   "cell_type": "code",
   "execution_count": null,
   "id": "128f26e0",
   "metadata": {},
   "outputs": [],
   "source": [
    "x = int(input())\n",
    "y = int(input())\n",
    "if x > y:\n",
    "    smaller = x\n",
    "else:\n",
    "    smaller = y\n",
    "\n",
    "for i in range(1,smaller+1):\n",
    "    if (x % i ==0) and (y % i == 0):\n",
    "        hcf = i\n",
    "        \n",
    "\n",
    "print('hcf of num is', hcf)\n",
    "    "
   ]
  },
  {
   "cell_type": "code",
   "execution_count": null,
   "id": "089c831e",
   "metadata": {},
   "outputs": [],
   "source": [
    "x = int(input('enter the input number'))\n",
    "print(bin(x),' in binary')\n",
    "print(hex(x),'in hexadecimal')\n",
    "print('oct(x)', 'in octal')"
   ]
  },
  {
   "cell_type": "code",
   "execution_count": null,
   "id": "97c6d6a2",
   "metadata": {},
   "outputs": [],
   "source": [
    "def add(p,q):\n",
    "    return a+b\n",
    "def sub(p,q):\n",
    "    return p-q\n",
    "def mul(p,q):\n",
    "    return p*q\n",
    "def div(p,q):\n",
    "    return p/q\n",
    "def power(p,q):\n",
    "    return p**q\n",
    "\n",
    "print('select the operation')\n",
    "print('a = add')\n",
    "print('b = sub')\n",
    "print('c =  mul')\n",
    "print('d = div')\n",
    "print('e = power')\n",
    "\n",
    "choice = input('please enter the choice = (a/ b/ c/ d/ e)')\n",
    "\n",
    "n1 = int(input())\n",
    "n2 = int(input())\n",
    "\n",
    "if choice == a:\n",
    "    print('addition of n1 and n2 is', add (n1,n2))\n",
    "    \n",
    "elif choice == b:\n",
    "    print('subtraction of n1,n2 is' , sub(n1,n2))\n",
    "    \n",
    "if choice == c:\n",
    "    print('multiplication of n1 and n2 is', mul (n1,n2))\n",
    "    \n",
    "elif choice == d:\n",
    "    print('division of n1,n2 is' , div(n1,n2))\n",
    "\n",
    "elif choice == e:\n",
    "    print('power of n1 and n2 is', power(n1,n2))\n",
    "    \n",
    "else:\n",
    "    print('this is a invalid input')"
   ]
  },
  {
   "cell_type": "code",
   "execution_count": null,
   "id": "c31c2c04",
   "metadata": {},
   "outputs": [],
   "source": [
    "total = 1\n",
    "l = [1,2,3,4,5,6,7,8,9]\n",
    "for i in range(0, len(l)):\n",
    "    total = total  *l[i]\n",
    "print(total)"
   ]
  },
  {
   "cell_type": "code",
   "execution_count": 2,
   "id": "ea429573",
   "metadata": {},
   "outputs": [
    {
     "name": "stdout",
     "output_type": "stream",
     "text": [
      "this is a multiplication of list 362880\n"
     ]
    }
   ],
   "source": [
    "def multi():\n",
    "    l = [1,2,3,4,5,6,7,8,9]\n",
    "    mul = 1\n",
    "    i = 0\n",
    "    while i < len(l):\n",
    "        mul = mul * l[i]\n",
    "        i = i+1\n",
    "    return mul\n",
    "q = multi()\n",
    "print('this is a multiplication of list', q)\n",
    "    "
   ]
  },
  {
   "cell_type": "code",
   "execution_count": 4,
   "id": "13f66592",
   "metadata": {},
   "outputs": [
    {
     "name": "stdout",
     "output_type": "stream",
     "text": [
      "multiplication of number is  362880\n"
     ]
    }
   ],
   "source": [
    "l = [1,2,3,4,5,6,7,8,9]\n",
    "mul = 1\n",
    "for i in range(0,len(l)):\n",
    "    mul = mul * l[i]\n",
    "print('multiplication of number is ' , mul)\n",
    "    "
   ]
  },
  {
   "cell_type": "code",
   "execution_count": 9,
   "id": "390ace97",
   "metadata": {},
   "outputs": [
    {
     "name": "stdout",
     "output_type": "stream",
     "text": [
      "smallest numer of element is 9\n"
     ]
    }
   ],
   "source": [
    "l = [1,2,3,4,5,6,7,8,9]\n",
    "print('smallest numer of element is', max(l))"
   ]
  },
  {
   "cell_type": "code",
   "execution_count": 11,
   "id": "cb9d3594",
   "metadata": {},
   "outputs": [
    {
     "name": "stdout",
     "output_type": "stream",
     "text": [
      "63\n"
     ]
    }
   ],
   "source": [
    "l = [5,6487,8,9,5,6,14,3,6,63,6,4]\n",
    "l.sort()\n",
    "print(l[-2])"
   ]
  },
  {
   "cell_type": "code",
   "execution_count": 15,
   "id": "3c6b42ce",
   "metadata": {},
   "outputs": [
    {
     "name": "stdout",
     "output_type": "stream",
     "text": [
      "63\n"
     ]
    }
   ],
   "source": [
    "l = [5,6487,8,9,5,6,14,3,6,63,6,4]\n",
    "p = set(l)\n",
    "p.remove(max(p))\n",
    "print(max(p))"
   ]
  },
  {
   "cell_type": "code",
   "execution_count": 18,
   "id": "21ab4541",
   "metadata": {},
   "outputs": [
    {
     "name": "stdout",
     "output_type": "stream",
     "text": [
      "[9, 14, 63, 6487]\n"
     ]
    }
   ],
   "source": [
    "l = [5,6487,8,9,5,6,14,3,6,63,6,4]\n",
    "n  = 4\n",
    "l.sort()\n",
    "print(l[-n:])"
   ]
  },
  {
   "cell_type": "code",
   "execution_count": 21,
   "id": "772acbef",
   "metadata": {},
   "outputs": [
    {
     "name": "stdout",
     "output_type": "stream",
     "text": [
      "enter the range of list element4\n",
      "enter the value of list element1\n",
      "enter the value of list element6\n",
      "enter the value of list element5\n",
      "enter the value of list element4\n",
      "N highest number is 6\n"
     ]
    }
   ],
   "source": [
    "    def max(l):\n",
    "        n = 3\n",
    "        l.sort()\n",
    "        return l[n]\n",
    "    li = []\n",
    "    p = int(input(\"enter the range of list element\"))\n",
    "    for i in range(0,p):\n",
    "        e = int(input(\"enter the value of list element\"))\n",
    "        li.append(e)\n",
    "\n",
    "    print(\"N highest number is\", max(li))\n",
    "    "
   ]
  },
  {
   "cell_type": "code",
   "execution_count": 23,
   "id": "7ba10fdd",
   "metadata": {},
   "outputs": [
    {
     "name": "stdout",
     "output_type": "stream",
     "text": [
      "[67, 42, 21, 12]\n",
      "[-90, 1]\n"
     ]
    }
   ],
   "source": [
    "    import heapq\n",
    "\n",
    "    x = [1, 3, 7, 21, -90, 67, 42, 12]\n",
    "\n",
    "    print(heapq.nlargest(4, x))\n",
    "    \n",
    "\n",
    "    print(heapq.nsmallest(2, x))"
   ]
  },
  {
   "cell_type": "code",
   "execution_count": 28,
   "id": "1cb2f0f9",
   "metadata": {},
   "outputs": [
    {
     "name": "stdout",
     "output_type": "stream",
     "text": [
      "5 6487 9 5 3 63 "
     ]
    }
   ],
   "source": [
    "l = [5,6487,8,9,5,6,14,3,6,63,6,4]\n",
    "for num in l:\n",
    "    if num % 2 != 0:\n",
    "        print(num, end = ' ')"
   ]
  },
  {
   "cell_type": "code",
   "execution_count": 34,
   "id": "45ffe642",
   "metadata": {},
   "outputs": [
    {
     "name": "stdout",
     "output_type": "stream",
     "text": [
      "['text', 'text2', 'moreText']\n"
     ]
    }
   ],
   "source": [
    "    list1 = [[], [], [], [], [], 'text', 'text2', [], 'moreText']\n",
    "    l = []\n",
    "    for i in list1:\n",
    "        if i != []:\n",
    "            l.append(i)\n",
    "            \n",
    "    print(l)"
   ]
  },
  {
   "cell_type": "code",
   "execution_count": 35,
   "id": "a8fa2c9f",
   "metadata": {},
   "outputs": [
    {
     "name": "stdout",
     "output_type": "stream",
     "text": [
      "[5, 6487, 8, 9, 5, 6, 14, 3, 6, 63, 6, 4]\n"
     ]
    }
   ],
   "source": [
    "l = [5,6487,8,9,5,6,14,3,6,63,6,4]\n",
    "copy = []\n",
    "copy.extend(l)\n",
    "print(copy)"
   ]
  },
  {
   "cell_type": "code",
   "execution_count": 36,
   "id": "9e8b153c",
   "metadata": {},
   "outputs": [
    {
     "data": {
      "text/plain": [
       "[5, 6487, 8, 9, 5, 6, 14, 3, 6, 63, 6, 4]"
      ]
     },
     "execution_count": 36,
     "metadata": {},
     "output_type": "execute_result"
    }
   ],
   "source": [
    "import copy\n",
    "l = [5,6487,8,9,5,6,14,3,6,63,6,4]\n",
    "copy.deepcopy(l)"
   ]
  },
  {
   "cell_type": "code",
   "execution_count": 38,
   "id": "8c6880fe",
   "metadata": {},
   "outputs": [
    {
     "data": {
      "text/plain": [
       "[5, 6487, 8, 9, 5, 6, 14, 3, 6, 63, 6, 4]"
      ]
     },
     "execution_count": 38,
     "metadata": {},
     "output_type": "execute_result"
    }
   ],
   "source": [
    "l = [5,6487,8,9,5,6,14,3,6,63,6,4]\n",
    "l.copy()"
   ]
  },
  {
   "cell_type": "code",
   "execution_count": 41,
   "id": "19100e56",
   "metadata": {},
   "outputs": [
    {
     "data": {
      "text/plain": [
       "1"
      ]
     },
     "execution_count": 41,
     "metadata": {},
     "output_type": "execute_result"
    }
   ],
   "source": [
    "def cn(l,x):\n",
    "    cn = 0\n",
    "    for i in l:\n",
    "        if i == x:\n",
    "            cn = cn+1\n",
    "        return cn\n",
    "l = [8, 6, 8, 10, 8, 20, 10, 8, 8]\n",
    "x = 8\n",
    "cn(l,x)"
   ]
  },
  {
   "cell_type": "code",
   "execution_count": 42,
   "id": "0c5eb953",
   "metadata": {},
   "outputs": [
    {
     "name": "stdout",
     "output_type": "stream",
     "text": [
      "8 has occurred 5 times\n"
     ]
    }
   ],
   "source": [
    "\n",
    "    def countX(lst, x):\n",
    "        count = 0\n",
    "        for ele in lst:\n",
    "            if (ele == x):\n",
    "                count = count + 1\n",
    "        return count\n",
    "\n",
    "    lst = [8, 6, 8, 10, 8, 20, 10, 8, 8]\n",
    "    x = 8\n",
    "    print('{} has occurred {} times'.format(x, countX(lst, x)))"
   ]
  },
  {
   "cell_type": "code",
   "execution_count": null,
   "id": "20759f3e",
   "metadata": {},
   "outputs": [],
   "source": []
  }
 ],
 "metadata": {
  "kernelspec": {
   "display_name": "Python 3",
   "language": "python",
   "name": "python3"
  },
  "language_info": {
   "codemirror_mode": {
    "name": "ipython",
    "version": 3
   },
   "file_extension": ".py",
   "mimetype": "text/x-python",
   "name": "python",
   "nbconvert_exporter": "python",
   "pygments_lexer": "ipython3",
   "version": "3.8.8"
  }
 },
 "nbformat": 4,
 "nbformat_minor": 5
}
