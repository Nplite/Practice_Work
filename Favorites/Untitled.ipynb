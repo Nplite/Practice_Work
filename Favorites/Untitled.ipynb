{
 "cells": [
  {
   "cell_type": "code",
   "execution_count": 20,
   "id": "5bb50be8",
   "metadata": {},
   "outputs": [],
   "source": [
    "class list_parser():\n",
    "    def __init__ (self,l):\n",
    "        self.l = l\n",
    "    \n",
    "    def parser(self):\n",
    "        if type(self.l)== list:\n",
    "            for i in (self.l):\n",
    "                print(i)\n",
    "            \n",
    "    def reverse_parser(self):\n",
    "        if type(self.l)==list:\n",
    "            return self.l[::-1]"
   ]
  },
  {
   "cell_type": "code",
   "execution_count": 21,
   "id": "b734da13",
   "metadata": {},
   "outputs": [],
   "source": [
    "c = list_parser([1,2,3,4,5,6,7,8,9,8,7,4,5,6,1,2,3])"
   ]
  },
  {
   "cell_type": "code",
   "execution_count": 22,
   "id": "078717a1",
   "metadata": {},
   "outputs": [
    {
     "name": "stdout",
     "output_type": "stream",
     "text": [
      "1\n",
      "2\n",
      "3\n",
      "4\n",
      "5\n",
      "6\n",
      "7\n",
      "8\n",
      "9\n",
      "8\n",
      "7\n",
      "4\n",
      "5\n",
      "6\n",
      "1\n",
      "2\n",
      "3\n"
     ]
    }
   ],
   "source": [
    "c.parser()"
   ]
  },
  {
   "cell_type": "code",
   "execution_count": 23,
   "id": "51e43a22",
   "metadata": {},
   "outputs": [
    {
     "data": {
      "text/plain": [
       "[3, 2, 1, 6, 5, 4, 7, 8, 9, 8, 7, 6, 5, 4, 3, 2, 1]"
      ]
     },
     "execution_count": 23,
     "metadata": {},
     "output_type": "execute_result"
    }
   ],
   "source": [
    "c.reverse_parser()"
   ]
  },
  {
   "cell_type": "code",
   "execution_count": 27,
   "id": "edec1cf6",
   "metadata": {},
   "outputs": [
    {
     "name": "stdout",
     "output_type": "stream",
     "text": [
      "56\n"
     ]
    }
   ],
   "source": [
    "class dict_parser():\n",
    "    \n",
    "    def __init__(self,d):\n",
    "        self.d = d\n",
    "    \n",
    "    def keys(self):\n",
    "        for i in d.keys():\n",
    "            print(i)\n",
    "            \n",
    "    def values(self):\n",
    "        for i in d.values():\n",
    "            print(i)\n",
    "            \n",
    "    def check(self,d):\n",
    "        if type(d) != dict:\n",
    "            raise exception ('this is not a proper dictionary value')\n",
    "            \n",
    "    def find(self,d,keys,values):\n",
    "        d[keys] = values\n",
    "     \n",
    "    def dict_in(self,d,a = int(input())):\n",
    "        print(d[a])"
   ]
  },
  {
   "cell_type": "code",
   "execution_count": 28,
   "id": "ef213ce1",
   "metadata": {},
   "outputs": [
    {
     "ename": "TypeError",
     "evalue": "__init__() missing 1 required positional argument: 'd'",
     "output_type": "error",
     "traceback": [
      "\u001b[1;31m---------------------------------------------------------------------------\u001b[0m",
      "\u001b[1;31mTypeError\u001b[0m                                 Traceback (most recent call last)",
      "\u001b[1;32m<ipython-input-28-f82dfe86afd5>\u001b[0m in \u001b[0;36m<module>\u001b[1;34m\u001b[0m\n\u001b[1;32m----> 1\u001b[1;33m \u001b[0mt\u001b[0m \u001b[1;33m=\u001b[0m \u001b[0mdict_parser\u001b[0m\u001b[1;33m(\u001b[0m\u001b[1;33m)\u001b[0m\u001b[1;33m\u001b[0m\u001b[1;33m\u001b[0m\u001b[0m\n\u001b[0m",
      "\u001b[1;31mTypeError\u001b[0m: __init__() missing 1 required positional argument: 'd'"
     ]
    }
   ],
   "source": [
    "t = dict_parser()"
   ]
  },
  {
   "cell_type": "code",
   "execution_count": 36,
   "id": "2a7addac",
   "metadata": {},
   "outputs": [],
   "source": [
    "class xyz:\n",
    "    def __init__(self, a,b,c):\n",
    "        self.a = a\n",
    "        self.b = b\n",
    "        self.c = c\n",
    "        \n",
    "    def test(self):\n",
    "        print('this is my first test')\n",
    "        \n",
    "class xyz1:\n",
    "    \n",
    "    def __init__(self,p,q,v):\n",
    "        self.p = p\n",
    "        self.q = q\n",
    "        self.v = v\n",
    "        \n",
    "    def test1(self):\n",
    "        print('this is my second test')\n",
    "        \n",
    "class child(xyz,xyz1):\n",
    "    \n",
    "    def __init__(self,*args,**kwargs):\n",
    "        xyz.__init__(self,*args)\n",
    "        xyz1.__init__(self,**kwargs)"
   ]
  },
  {
   "cell_type": "code",
   "execution_count": 37,
   "id": "75769d7f",
   "metadata": {},
   "outputs": [],
   "source": [
    "n = child(1,2,3,p = 7,q =8,v=6)"
   ]
  },
  {
   "cell_type": "code",
   "execution_count": 38,
   "id": "390ee306",
   "metadata": {},
   "outputs": [
    {
     "data": {
      "text/plain": [
       "7"
      ]
     },
     "execution_count": 38,
     "metadata": {},
     "output_type": "execute_result"
    }
   ],
   "source": [
    "n.p"
   ]
  },
  {
   "cell_type": "code",
   "execution_count": 39,
   "id": "73e24aa8",
   "metadata": {},
   "outputs": [
    {
     "data": {
      "text/plain": [
       "8"
      ]
     },
     "execution_count": 39,
     "metadata": {},
     "output_type": "execute_result"
    }
   ],
   "source": [
    "n.q"
   ]
  },
  {
   "cell_type": "code",
   "execution_count": 40,
   "id": "7adf62c1",
   "metadata": {},
   "outputs": [
    {
     "name": "stdout",
     "output_type": "stream",
     "text": [
      "this is my first test\n"
     ]
    }
   ],
   "source": [
    "n.test()"
   ]
  },
  {
   "cell_type": "code",
   "execution_count": 41,
   "id": "46c5f751",
   "metadata": {},
   "outputs": [
    {
     "name": "stdout",
     "output_type": "stream",
     "text": [
      "this is my second test\n"
     ]
    }
   ],
   "source": [
    "n.test1()"
   ]
  },
  {
   "cell_type": "code",
   "execution_count": 51,
   "id": "e82db816",
   "metadata": {},
   "outputs": [],
   "source": [
    "class filetask:\n",
    "    \n",
    "    def __init__(self,filename,filepath):\n",
    "        self.filename = filename\n",
    "        self.filepath = filepath\n",
    "        \n",
    "    def filewrite(self):\n",
    "        f = open(self.file,'w')\n",
    "        f.write('this is my file path')\n",
    "        f.close()\n",
    "        \n",
    "    def file_read():\n",
    "        f = open(self.file,\"r+\")\n",
    "        print(f.readline())\n",
    "        f.close()\n",
    "        \n",
    "class file_read(filetask):\n",
    "    pass\n",
    "\n",
    "test = filetask('tesing class','.txt')\n",
    "test1 = file_read('testing child','.txt')"
   ]
  },
  {
   "cell_type": "code",
   "execution_count": 52,
   "id": "fa43b161",
   "metadata": {},
   "outputs": [
    {
     "ename": "TypeError",
     "evalue": "'file_read' object is not callable",
     "output_type": "error",
     "traceback": [
      "\u001b[1;31m---------------------------------------------------------------------------\u001b[0m",
      "\u001b[1;31mTypeError\u001b[0m                                 Traceback (most recent call last)",
      "\u001b[1;32m<ipython-input-52-51a57b51f630>\u001b[0m in \u001b[0;36m<module>\u001b[1;34m\u001b[0m\n\u001b[1;32m----> 1\u001b[1;33m \u001b[0mtest1\u001b[0m\u001b[1;33m(\u001b[0m\u001b[1;33m)\u001b[0m\u001b[1;33m\u001b[0m\u001b[1;33m\u001b[0m\u001b[0m\n\u001b[0m",
      "\u001b[1;31mTypeError\u001b[0m: 'file_read' object is not callable"
     ]
    }
   ],
   "source": [
    "test1()"
   ]
  },
  {
   "cell_type": "code",
   "execution_count": null,
   "id": "e20e6e2d",
   "metadata": {},
   "outputs": [],
   "source": []
  }
 ],
 "metadata": {
  "kernelspec": {
   "display_name": "Python 3",
   "language": "python",
   "name": "python3"
  },
  "language_info": {
   "codemirror_mode": {
    "name": "ipython",
    "version": 3
   },
   "file_extension": ".py",
   "mimetype": "text/x-python",
   "name": "python",
   "nbconvert_exporter": "python",
   "pygments_lexer": "ipython3",
   "version": "3.8.8"
  }
 },
 "nbformat": 4,
 "nbformat_minor": 5
}
