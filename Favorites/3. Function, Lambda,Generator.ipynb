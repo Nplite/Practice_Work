{
 "cells": [
  {
   "cell_type": "code",
   "execution_count": null,
   "id": "1b8a6373",
   "metadata": {},
   "outputs": [],
   "source": [
    "len(\"sudh\")"
   ]
  },
  {
   "cell_type": "code",
   "execution_count": null,
   "id": "36a225d9",
   "metadata": {},
   "outputs": [],
   "source": [
    "print(\"all of you\")"
   ]
  },
  {
   "cell_type": "code",
   "execution_count": null,
   "id": "5fb9bb4f",
   "metadata": {},
   "outputs": [],
   "source": [
    "def test()"
   ]
  },
  {
   "cell_type": "code",
   "execution_count": null,
   "id": "ecd53f19",
   "metadata": {},
   "outputs": [],
   "source": [
    "def test():\n",
    "    pass\n"
   ]
  },
  {
   "cell_type": "code",
   "execution_count": null,
   "id": "d468c28b",
   "metadata": {},
   "outputs": [],
   "source": [
    "def test1():\n",
    "    print(\"this is my first function\")"
   ]
  },
  {
   "cell_type": "code",
   "execution_count": null,
   "id": "190f017b",
   "metadata": {},
   "outputs": [],
   "source": [
    "test1()"
   ]
  },
  {
   "cell_type": "code",
   "execution_count": null,
   "id": "f328d7ca",
   "metadata": {},
   "outputs": [],
   "source": [
    "type(test1)"
   ]
  },
  {
   "cell_type": "code",
   "execution_count": null,
   "id": "42218b6d",
   "metadata": {},
   "outputs": [],
   "source": [
    "a = test1()"
   ]
  },
  {
   "cell_type": "code",
   "execution_count": null,
   "id": "e4e31fff",
   "metadata": {},
   "outputs": [],
   "source": [
    "a + \"sudh\""
   ]
  },
  {
   "cell_type": "code",
   "execution_count": null,
   "id": "2b22bacd",
   "metadata": {},
   "outputs": [],
   "source": [
    "\"sudh \" + \"kumar\""
   ]
  },
  {
   "cell_type": "code",
   "execution_count": null,
   "id": "81d0dacd",
   "metadata": {},
   "outputs": [],
   "source": [
    "#None type means blank string or int"
   ]
  },
  {
   "cell_type": "code",
   "execution_count": null,
   "id": "ea57f814",
   "metadata": {},
   "outputs": [],
   "source": [
    "type(test1())"
   ]
  },
  {
   "cell_type": "code",
   "execution_count": null,
   "id": "b620300f",
   "metadata": {},
   "outputs": [],
   "source": [
    "a = test1()"
   ]
  },
  {
   "cell_type": "code",
   "execution_count": null,
   "id": "7aca7e70",
   "metadata": {},
   "outputs": [],
   "source": [
    "str(a)"
   ]
  },
  {
   "cell_type": "code",
   "execution_count": null,
   "id": "feb106d7",
   "metadata": {},
   "outputs": [],
   "source": [
    "def test2():\n",
    "    return \"this is my first function program\""
   ]
  },
  {
   "cell_type": "code",
   "execution_count": null,
   "id": "5f7e068b",
   "metadata": {},
   "outputs": [],
   "source": [
    "test2"
   ]
  },
  {
   "cell_type": "code",
   "execution_count": null,
   "id": "8512c1c5",
   "metadata": {},
   "outputs": [],
   "source": [
    "test2()"
   ]
  },
  {
   "cell_type": "code",
   "execution_count": null,
   "id": "8af4d914",
   "metadata": {},
   "outputs": [],
   "source": [
    "type(test2())"
   ]
  },
  {
   "cell_type": "code",
   "execution_count": null,
   "id": "09850a54",
   "metadata": {},
   "outputs": [],
   "source": [
    "test2()+\" sudh\""
   ]
  },
  {
   "cell_type": "code",
   "execution_count": null,
   "id": "40fcdfde",
   "metadata": {},
   "outputs": [],
   "source": [
    "def test3():\n",
    "    return 123456789"
   ]
  },
  {
   "cell_type": "code",
   "execution_count": null,
   "id": "610d27d6",
   "metadata": {},
   "outputs": [],
   "source": [
    "test3()"
   ]
  },
  {
   "cell_type": "code",
   "execution_count": null,
   "id": "067b434e",
   "metadata": {},
   "outputs": [],
   "source": [
    "type(test3())"
   ]
  },
  {
   "cell_type": "code",
   "execution_count": null,
   "id": "286ee84d",
   "metadata": {},
   "outputs": [],
   "source": [
    "def test4():\n",
    "    return 1,2,3,'sudh',[11,12,13]"
   ]
  },
  {
   "cell_type": "code",
   "execution_count": null,
   "id": "d330456a",
   "metadata": {},
   "outputs": [],
   "source": [
    "test4()         #by default it gives a collection of tuple"
   ]
  },
  {
   "cell_type": "code",
   "execution_count": null,
   "id": "e99386a7",
   "metadata": {},
   "outputs": [],
   "source": [
    "type(test4())"
   ]
  },
  {
   "cell_type": "code",
   "execution_count": null,
   "id": "4387c445",
   "metadata": {},
   "outputs": [],
   "source": [
    "b =test4()"
   ]
  },
  {
   "cell_type": "code",
   "execution_count": null,
   "id": "b5d11cfc",
   "metadata": {},
   "outputs": [],
   "source": [
    "b"
   ]
  },
  {
   "cell_type": "code",
   "execution_count": null,
   "id": "34cc30c8",
   "metadata": {},
   "outputs": [],
   "source": [
    "b[2]"
   ]
  },
  {
   "cell_type": "code",
   "execution_count": null,
   "id": "6e04f92e",
   "metadata": {},
   "outputs": [],
   "source": [
    "b[4]"
   ]
  },
  {
   "cell_type": "code",
   "execution_count": null,
   "id": "d61761ab",
   "metadata": {},
   "outputs": [],
   "source": [
    "b[3][2]"
   ]
  },
  {
   "cell_type": "code",
   "execution_count": null,
   "id": "60a6b641",
   "metadata": {},
   "outputs": [],
   "source": [
    "b[4][1]"
   ]
  },
  {
   "cell_type": "code",
   "execution_count": 2,
   "id": "5bb12f05",
   "metadata": {},
   "outputs": [],
   "source": [
    "a = 34\n",
    "b = 6\n",
    "c = \"sudh\"\n",
    "d = 25.5"
   ]
  },
  {
   "cell_type": "code",
   "execution_count": 3,
   "id": "485bb371",
   "metadata": {},
   "outputs": [],
   "source": [
    "#staring(*) will be consider any no variable that i would like to pass at any point  of a  time"
   ]
  },
  {
   "cell_type": "code",
   "execution_count": 4,
   "id": "8d69b246",
   "metadata": {},
   "outputs": [],
   "source": [
    "p,q,r,s = a,b,c,d"
   ]
  },
  {
   "cell_type": "code",
   "execution_count": 5,
   "id": "52293c0e",
   "metadata": {},
   "outputs": [
    {
     "data": {
      "text/plain": [
       "34"
      ]
     },
     "execution_count": 5,
     "metadata": {},
     "output_type": "execute_result"
    }
   ],
   "source": [
    "p"
   ]
  },
  {
   "cell_type": "code",
   "execution_count": 6,
   "id": "b055c16b",
   "metadata": {},
   "outputs": [
    {
     "data": {
      "text/plain": [
       "6"
      ]
     },
     "execution_count": 6,
     "metadata": {},
     "output_type": "execute_result"
    }
   ],
   "source": [
    "q"
   ]
  },
  {
   "cell_type": "code",
   "execution_count": 7,
   "id": "35093d6f",
   "metadata": {},
   "outputs": [
    {
     "data": {
      "text/plain": [
       "'sudh'"
      ]
     },
     "execution_count": 7,
     "metadata": {},
     "output_type": "execute_result"
    }
   ],
   "source": [
    "r"
   ]
  },
  {
   "cell_type": "code",
   "execution_count": 8,
   "id": "71f46522",
   "metadata": {},
   "outputs": [
    {
     "data": {
      "text/plain": [
       "25.5"
      ]
     },
     "execution_count": 8,
     "metadata": {},
     "output_type": "execute_result"
    }
   ],
   "source": [
    "\n",
    "s"
   ]
  },
  {
   "cell_type": "code",
   "execution_count": null,
   "id": "119a533b",
   "metadata": {},
   "outputs": [],
   "source": [
    "x,y,u,v,w =test4()"
   ]
  },
  {
   "cell_type": "code",
   "execution_count": null,
   "id": "60966037",
   "metadata": {},
   "outputs": [],
   "source": [
    "x"
   ]
  },
  {
   "cell_type": "code",
   "execution_count": null,
   "id": "c8660d34",
   "metadata": {},
   "outputs": [],
   "source": [
    "y"
   ]
  },
  {
   "cell_type": "code",
   "execution_count": null,
   "id": "fc261523",
   "metadata": {},
   "outputs": [],
   "source": [
    "u"
   ]
  },
  {
   "cell_type": "code",
   "execution_count": null,
   "id": "98ba8183",
   "metadata": {},
   "outputs": [],
   "source": [
    "v"
   ]
  },
  {
   "cell_type": "code",
   "execution_count": null,
   "id": "4a721eb6",
   "metadata": {},
   "outputs": [],
   "source": [
    "w"
   ]
  },
  {
   "cell_type": "code",
   "execution_count": null,
   "id": "1e54b04e",
   "metadata": {},
   "outputs": [],
   "source": [
    "def test5():\n",
    "    a = 6*7/6\n",
    "    return a"
   ]
  },
  {
   "cell_type": "code",
   "execution_count": null,
   "id": "99d9dcef",
   "metadata": {},
   "outputs": [],
   "source": [
    "test5()"
   ]
  },
  {
   "cell_type": "code",
   "execution_count": 11,
   "id": "ef740ecf",
   "metadata": {},
   "outputs": [],
   "source": [
    "l = [1,2,3,4,5,6,\"sudh\",[9,8,7,6,5,4]]"
   ]
  },
  {
   "cell_type": "code",
   "execution_count": null,
   "id": "39588f77",
   "metadata": {},
   "outputs": [],
   "source": [
    "#try to extract all an integer\n",
    "\n",
    "for i in l:\n",
    "    if type(i)==int:\n",
    "        print(i)\n",
    "    if type(i)==list: \n",
    "        for j in i:\n",
    "            if type(j)==int:\n",
    "                print(j)"
   ]
  },
  {
   "cell_type": "code",
   "execution_count": null,
   "id": "4d390a26",
   "metadata": {},
   "outputs": [],
   "source": [
    "l"
   ]
  },
  {
   "cell_type": "code",
   "execution_count": null,
   "id": "1eb231eb",
   "metadata": {},
   "outputs": [],
   "source": [
    "def test6(a):\n",
    "    n = []\n",
    "    if type(a)==list:\n",
    "        for i in a:\n",
    "            if type(i)==int:\n",
    "                n.append(i)\n",
    "    return n"
   ]
  },
  {
   "cell_type": "code",
   "execution_count": null,
   "id": "a9567435",
   "metadata": {},
   "outputs": [],
   "source": [
    "test6(a)"
   ]
  },
  {
   "cell_type": "code",
   "execution_count": null,
   "id": "27b1e99b",
   "metadata": {},
   "outputs": [],
   "source": [
    "n test6(l)"
   ]
  },
  {
   "cell_type": "code",
   "execution_count": null,
   "id": "68e91b71",
   "metadata": {},
   "outputs": [],
   "source": [
    "type(test6(a))"
   ]
  },
  {
   "cell_type": "code",
   "execution_count": 12,
   "id": "b01593a1",
   "metadata": {},
   "outputs": [],
   "source": [
    "def test6(a):\n",
    "    n = []  \n",
    "    for i in a:\n",
    "        if type(i) == int:\n",
    "            n.append(i)\n",
    "        elif type(i) == list:\n",
    "                for j in i:\n",
    "                        if type(j)==int:\n",
    "                            n.append(j)\n",
    "    return n"
   ]
  },
  {
   "cell_type": "code",
   "execution_count": 13,
   "id": "c718f513",
   "metadata": {},
   "outputs": [
    {
     "data": {
      "text/plain": [
       "[1, 2, 3, 4, 5, 6, 9, 8, 7, 6, 5, 4]"
      ]
     },
     "execution_count": 13,
     "metadata": {},
     "output_type": "execute_result"
    }
   ],
   "source": [
    "test6(l)"
   ]
  },
  {
   "cell_type": "code",
   "execution_count": 14,
   "id": "ecdf2557",
   "metadata": {},
   "outputs": [],
   "source": [
    "def test6(a):\n",
    "    n = []  \n",
    "    for i in a:\n",
    "        if type(i) == int:\n",
    "            n.append(i)\n",
    "        elif type(i) == list:\n",
    "                for j in i:\n",
    "                        if type(j)==int:\n",
    "                            n.append(j)\n",
    "                            return n"
   ]
  },
  {
   "cell_type": "code",
   "execution_count": 15,
   "id": "3a42e95d",
   "metadata": {},
   "outputs": [
    {
     "data": {
      "text/plain": [
       "[1, 2, 3, 4, 5, 6, 9]"
      ]
     },
     "execution_count": 15,
     "metadata": {},
     "output_type": "execute_result"
    }
   ],
   "source": [
    "test6(l)"
   ]
  },
  {
   "cell_type": "code",
   "execution_count": 16,
   "id": "baf6b354",
   "metadata": {},
   "outputs": [],
   "source": [
    "def test7(a):\n",
    "    n = []\n",
    "    for i in a:\n",
    "        if type(i)==int:\n",
    "            n.append(i)\n",
    "        if type(i)==list:\n",
    "                for j in i:\n",
    "                    if type(j)==int:\n",
    "                        n.append(j)\n",
    "    return n"
   ]
  },
  {
   "cell_type": "code",
   "execution_count": 17,
   "id": "5ea72a30",
   "metadata": {},
   "outputs": [
    {
     "data": {
      "text/plain": [
       "[1, 2, 3, 4, 5, 6, 9, 8, 7, 6, 5, 4]"
      ]
     },
     "execution_count": 17,
     "metadata": {},
     "output_type": "execute_result"
    }
   ],
   "source": [
    "test7(l)"
   ]
  },
  {
   "cell_type": "code",
   "execution_count": 18,
   "id": "b20f2417",
   "metadata": {},
   "outputs": [],
   "source": [
    "def test1(c):\n",
    "    if type(c)==dict:\n",
    "        return [c.keys(),c.values()]\n",
    "       \n",
    "    else:\n",
    "        print(\"plz eter right dict\")\n",
    "        "
   ]
  },
  {
   "cell_type": "code",
   "execution_count": 19,
   "id": "a93e302a",
   "metadata": {},
   "outputs": [
    {
     "data": {
      "text/plain": [
       "[dict_keys(['gut']), dict_values(['power'])]"
      ]
     },
     "execution_count": 19,
     "metadata": {},
     "output_type": "execute_result"
    }
   ],
   "source": [
    "test1({\"gut\":\"power\"})"
   ]
  },
  {
   "cell_type": "code",
   "execution_count": 20,
   "id": "10eca42d",
   "metadata": {},
   "outputs": [
    {
     "data": {
      "text/plain": [
       "[1, 2, 3, 4, 5, 6, 'sudh', [9, 8, 7, 6, 5, 4]]"
      ]
     },
     "execution_count": 20,
     "metadata": {},
     "output_type": "execute_result"
    }
   ],
   "source": [
    "l"
   ]
  },
  {
   "cell_type": "code",
   "execution_count": 21,
   "id": "a9ad2475",
   "metadata": {},
   "outputs": [],
   "source": [
    "def test8(c):\n",
    "    if type(c)== dict:\n",
    "        return c.keys()\n",
    "    else:\n",
    "        print(\"you have not pass dict\")"
   ]
  },
  {
   "cell_type": "code",
   "execution_count": 22,
   "id": "cf49603c",
   "metadata": {},
   "outputs": [
    {
     "data": {
      "text/plain": [
       "dict_keys(['gut'])"
      ]
     },
     "execution_count": 22,
     "metadata": {},
     "output_type": "execute_result"
    }
   ],
   "source": [
    "test8({\"gut\":\"power\"})"
   ]
  },
  {
   "cell_type": "code",
   "execution_count": 23,
   "id": "1132ebd4",
   "metadata": {},
   "outputs": [
    {
     "name": "stdout",
     "output_type": "stream",
     "text": [
      "you have not pass dict\n"
     ]
    }
   ],
   "source": [
    "test8(\"sudh\")"
   ]
  },
  {
   "cell_type": "code",
   "execution_count": 24,
   "id": "264eaa5d",
   "metadata": {},
   "outputs": [
    {
     "data": {
      "text/plain": [
       "dict_keys(['a', 'b', 'c'])"
      ]
     },
     "execution_count": 24,
     "metadata": {},
     "output_type": "execute_result"
    }
   ],
   "source": [
    "test8({\"a\":12,\"b\":22,\"c\":32})"
   ]
  },
  {
   "cell_type": "code",
   "execution_count": 25,
   "id": "c568cb5e",
   "metadata": {},
   "outputs": [],
   "source": [
    "def test8(s):\n",
    "    if type(s)==dict:\n",
    "        return s.values()\n",
    "    else:\n",
    "        print('you have not pass dict')"
   ]
  },
  {
   "cell_type": "code",
   "execution_count": 26,
   "id": "809a9b80",
   "metadata": {},
   "outputs": [
    {
     "data": {
      "text/plain": [
       "dict_values(['lakshaman'])"
      ]
     },
     "execution_count": 26,
     "metadata": {},
     "output_type": "execute_result"
    }
   ],
   "source": [
    "test8({\"ram\":\"lakshaman\"})"
   ]
  },
  {
   "cell_type": "code",
   "execution_count": 27,
   "id": "cf8dfec7",
   "metadata": {},
   "outputs": [
    {
     "name": "stdout",
     "output_type": "stream",
     "text": [
      "you have not pass dict\n"
     ]
    }
   ],
   "source": [
    "test8(\"shubham\")"
   ]
  },
  {
   "cell_type": "code",
   "execution_count": 28,
   "id": "399b97d3",
   "metadata": {},
   "outputs": [
    {
     "data": {
      "text/plain": [
       "dict_values([12, 22, 32])"
      ]
     },
     "execution_count": 28,
     "metadata": {},
     "output_type": "execute_result"
    }
   ],
   "source": [
    "\n",
    "test8({\"a\":12,\"b\":22,\"c\":32})"
   ]
  },
  {
   "cell_type": "code",
   "execution_count": 29,
   "id": "2683bf81",
   "metadata": {},
   "outputs": [
    {
     "data": {
      "text/plain": [
       "[1, 2, 3, 4, 5, 6, 'sudh', [9, 8, 7, 6, 5, 4]]"
      ]
     },
     "execution_count": 29,
     "metadata": {},
     "output_type": "execute_result"
    }
   ],
   "source": [
    "l"
   ]
  },
  {
   "cell_type": "code",
   "execution_count": 30,
   "id": "5c768a48",
   "metadata": {},
   "outputs": [],
   "source": [
    "def test9(p):\n",
    "    n = \"sardar\"\n",
    "    for i in p:\n",
    "        if type(i)== str:\n",
    "            n.append(i)\n",
    "        return n\n",
    "    "
   ]
  },
  {
   "cell_type": "code",
   "execution_count": 31,
   "id": "59577934",
   "metadata": {},
   "outputs": [
    {
     "data": {
      "text/plain": [
       "'sardar'"
      ]
     },
     "execution_count": 31,
     "metadata": {},
     "output_type": "execute_result"
    }
   ],
   "source": [
    "test9(l)"
   ]
  },
  {
   "cell_type": "code",
   "execution_count": 32,
   "id": "3656aa38",
   "metadata": {},
   "outputs": [],
   "source": [
    " def test10(a,b):\n",
    "        \n",
    "        if type(a)==list and type(b)==list:\n",
    "            return a.extend(b)\n",
    "        else:\n",
    "            return \"your data is not list\""
   ]
  },
  {
   "cell_type": "code",
   "execution_count": null,
   "id": "b81a6ccc",
   "metadata": {},
   "outputs": [],
   "source": [
    "a = [11,12,13,14]\n",
    "b = [11,22,33,44]"
   ]
  },
  {
   "cell_type": "code",
   "execution_count": null,
   "id": "b87fd5a8",
   "metadata": {},
   "outputs": [],
   "source": [
    "test10(a,b)   #this type of extend operation only valid for list"
   ]
  },
  {
   "cell_type": "code",
   "execution_count": null,
   "id": "46c7509b",
   "metadata": {},
   "outputs": [],
   "source": [
    "a"
   ]
  },
  {
   "cell_type": "code",
   "execution_count": 33,
   "id": "d5b95b0b",
   "metadata": {},
   "outputs": [],
   "source": [
    "def test11(a,b):\n",
    "    a = 11\n",
    "    b = 22\n",
    "    if type(a)==int and type(b)==int:\n",
    "        return a.extend(b)\n",
    "    else:\n",
    "        print(\"your data is not integer\")"
   ]
  },
  {
   "cell_type": "code",
   "execution_count": 34,
   "id": "03fec683",
   "metadata": {},
   "outputs": [
    {
     "ename": "AttributeError",
     "evalue": "'int' object has no attribute 'extend'",
     "output_type": "error",
     "traceback": [
      "\u001b[1;31m---------------------------------------------------------------------------\u001b[0m",
      "\u001b[1;31mAttributeError\u001b[0m                            Traceback (most recent call last)",
      "\u001b[1;32m<ipython-input-34-98cb21f54041>\u001b[0m in \u001b[0;36m<module>\u001b[1;34m\u001b[0m\n\u001b[1;32m----> 1\u001b[1;33m \u001b[0mtest11\u001b[0m\u001b[1;33m(\u001b[0m\u001b[0ma\u001b[0m\u001b[1;33m,\u001b[0m\u001b[0mb\u001b[0m\u001b[1;33m)\u001b[0m     \u001b[1;31m#int object does not extend\u001b[0m\u001b[1;33m\u001b[0m\u001b[1;33m\u001b[0m\u001b[0m\n\u001b[0m",
      "\u001b[1;32m<ipython-input-33-9862e113bf34>\u001b[0m in \u001b[0;36mtest11\u001b[1;34m(a, b)\u001b[0m\n\u001b[0;32m      3\u001b[0m     \u001b[0mb\u001b[0m \u001b[1;33m=\u001b[0m \u001b[1;36m22\u001b[0m\u001b[1;33m\u001b[0m\u001b[1;33m\u001b[0m\u001b[0m\n\u001b[0;32m      4\u001b[0m     \u001b[1;32mif\u001b[0m \u001b[0mtype\u001b[0m\u001b[1;33m(\u001b[0m\u001b[0ma\u001b[0m\u001b[1;33m)\u001b[0m\u001b[1;33m==\u001b[0m\u001b[0mint\u001b[0m \u001b[1;32mand\u001b[0m \u001b[0mtype\u001b[0m\u001b[1;33m(\u001b[0m\u001b[0mb\u001b[0m\u001b[1;33m)\u001b[0m\u001b[1;33m==\u001b[0m\u001b[0mint\u001b[0m\u001b[1;33m:\u001b[0m\u001b[1;33m\u001b[0m\u001b[1;33m\u001b[0m\u001b[0m\n\u001b[1;32m----> 5\u001b[1;33m         \u001b[1;32mreturn\u001b[0m \u001b[0ma\u001b[0m\u001b[1;33m.\u001b[0m\u001b[0mextend\u001b[0m\u001b[1;33m(\u001b[0m\u001b[0mb\u001b[0m\u001b[1;33m)\u001b[0m\u001b[1;33m\u001b[0m\u001b[1;33m\u001b[0m\u001b[0m\n\u001b[0m\u001b[0;32m      6\u001b[0m     \u001b[1;32melse\u001b[0m\u001b[1;33m:\u001b[0m\u001b[1;33m\u001b[0m\u001b[1;33m\u001b[0m\u001b[0m\n\u001b[0;32m      7\u001b[0m         \u001b[0mprint\u001b[0m\u001b[1;33m(\u001b[0m\u001b[1;34m\"your data is not integer\"\u001b[0m\u001b[1;33m)\u001b[0m\u001b[1;33m\u001b[0m\u001b[1;33m\u001b[0m\u001b[0m\n",
      "\u001b[1;31mAttributeError\u001b[0m: 'int' object has no attribute 'extend'"
     ]
    }
   ],
   "source": [
    "test11(a,b)     #int object does not extend"
   ]
  },
  {
   "cell_type": "code",
   "execution_count": 35,
   "id": "1f054f05",
   "metadata": {},
   "outputs": [],
   "source": [
    "def test11(a,b):\n",
    "    if type(a)==list and type(b)==list:\n",
    "        return a.append(b)\n",
    "    else:\n",
    "        print(\"your data is not list\")"
   ]
  },
  {
   "cell_type": "code",
   "execution_count": 36,
   "id": "f8878d9d",
   "metadata": {},
   "outputs": [],
   "source": [
    "a = [11,12,13]\n",
    "b = [11,22,33]"
   ]
  },
  {
   "cell_type": "code",
   "execution_count": 37,
   "id": "d43fb574",
   "metadata": {},
   "outputs": [],
   "source": [
    "test11(a,b)"
   ]
  },
  {
   "cell_type": "code",
   "execution_count": 38,
   "id": "9c5fe99a",
   "metadata": {},
   "outputs": [
    {
     "data": {
      "text/plain": [
       "[11, 12, 13, [11, 22, 33]]"
      ]
     },
     "execution_count": 38,
     "metadata": {},
     "output_type": "execute_result"
    }
   ],
   "source": [
    "a           # check the append and extend operation \n",
    "            # append will add new list at the end and extend continue itself"
   ]
  },
  {
   "cell_type": "code",
   "execution_count": null,
   "id": "307db135",
   "metadata": {},
   "outputs": [],
   "source": []
  },
  {
   "cell_type": "code",
   "execution_count": 39,
   "id": "11562422",
   "metadata": {},
   "outputs": [],
   "source": [
    "def test11(a,b):\n",
    "    a = [11,12,13]\n",
    "    b = [11,22,33]\n",
    "    if type(a)==list and type(b)==list:\n",
    "        return a.append(b)\n",
    "    else:\n",
    "        print(\"your data is not list\")"
   ]
  },
  {
   "cell_type": "code",
   "execution_count": null,
   "id": "5e37dda8",
   "metadata": {},
   "outputs": [],
   "source": [
    "test11(a,b)"
   ]
  },
  {
   "cell_type": "code",
   "execution_count": null,
   "id": "bffa79df",
   "metadata": {},
   "outputs": [],
   "source": [
    "a"
   ]
  },
  {
   "cell_type": "code",
   "execution_count": null,
   "id": "63ca80d1",
   "metadata": {},
   "outputs": [],
   "source": []
  },
  {
   "cell_type": "code",
   "execution_count": null,
   "id": "74f2ab6f",
   "metadata": {},
   "outputs": [],
   "source": [
    "a = [11,12,13]\n",
    "b = [11,22,33]"
   ]
  },
  {
   "cell_type": "code",
   "execution_count": null,
   "id": "9bd77a95",
   "metadata": {},
   "outputs": [],
   "source": [
    "a.append(b)"
   ]
  },
  {
   "cell_type": "code",
   "execution_count": null,
   "id": "bca5459d",
   "metadata": {},
   "outputs": [],
   "source": [
    "a"
   ]
  },
  {
   "cell_type": "code",
   "execution_count": null,
   "id": "607db3f1",
   "metadata": {},
   "outputs": [],
   "source": [
    "def test12(n):\n",
    "    for i in range(0,n):\n",
    "        for j in range(0,i+1):\n",
    "            print(\"*\", end = \" \")\n",
    "        print(\"\\r\")"
   ]
  },
  {
   "cell_type": "code",
   "execution_count": null,
   "id": "2d9b361b",
   "metadata": {},
   "outputs": [],
   "source": []
  },
  {
   "cell_type": "code",
   "execution_count": null,
   "id": "c4ea23b2",
   "metadata": {},
   "outputs": [],
   "source": [
    "test12(6)"
   ]
  },
  {
   "cell_type": "code",
   "execution_count": null,
   "id": "8ffad721",
   "metadata": {},
   "outputs": [],
   "source": [
    "test12(10)"
   ]
  },
  {
   "cell_type": "code",
   "execution_count": 40,
   "id": "82ed8681",
   "metadata": {},
   "outputs": [
    {
     "name": "stdout",
     "output_type": "stream",
     "text": [
      "* * * * * * * * * * \r\n",
      "* * * * * * * * * * \r\n",
      "* * * * * * * * * * \r\n",
      "* * * * * * * * * * \r\n",
      "* * * * * * * * * * \r\n",
      "* * * * * * * * * * \r\n",
      "* * * * * * * * * * \r\n",
      "* * * * * * * * * * \r\n",
      "* * * * * * * * * * \r\n"
     ]
    }
   ],
   "source": [
    "def test3(sum):\n",
    "    for i in range(0,sum):\n",
    "        for j in range(sum+1):            # square form of output\n",
    "            print(\"*\", end = \" \")\n",
    "        print(\"\\r\")\n",
    "test3(9)"
   ]
  },
  {
   "cell_type": "code",
   "execution_count": 1,
   "id": "fc40a2a4",
   "metadata": {},
   "outputs": [],
   "source": [
    "def test12(Np):\n",
    "    for i in range(0,Np):\n",
    "        for j in range(0,i+1):\n",
    "            print(\"Np\", end = \" \")\n",
    "        print(\"\\r\")\n",
    "        "
   ]
  },
  {
   "cell_type": "code",
   "execution_count": 2,
   "id": "2eae077d",
   "metadata": {},
   "outputs": [
    {
     "name": "stdout",
     "output_type": "stream",
     "text": [
      "Np \r\n",
      "Np Np \r\n",
      "Np Np Np \r\n",
      "Np Np Np Np \r\n",
      "Np Np Np Np Np \r\n",
      "Np Np Np Np Np Np \r\n",
      "Np Np Np Np Np Np Np \r\n",
      "Np Np Np Np Np Np Np Np \r\n",
      "Np Np Np Np Np Np Np Np Np \r\n"
     ]
    }
   ],
   "source": [
    "test12(9)"
   ]
  },
  {
   "cell_type": "code",
   "execution_count": 3,
   "id": "b20da0ff",
   "metadata": {},
   "outputs": [],
   "source": [
    "def test12(n):\n",
    "    \"\"\"this is function row it will help you to create any no of rows\"\"\"\n",
    "    for i in range(0,n):\n",
    "        for j in range(0,i+1):\n",
    "            print(\"*\", end = \" \")\n",
    "        print(\"\\n\")"
   ]
  },
  {
   "cell_type": "code",
   "execution_count": 4,
   "id": "3a589c5c",
   "metadata": {},
   "outputs": [
    {
     "name": "stdout",
     "output_type": "stream",
     "text": [
      "* \n",
      "\n",
      "* * \n",
      "\n",
      "* * * \n",
      "\n",
      "* * * * \n",
      "\n",
      "* * * * * \n",
      "\n"
     ]
    }
   ],
   "source": [
    "test12(5)"
   ]
  },
  {
   "cell_type": "code",
   "execution_count": 43,
   "id": "cf41465a",
   "metadata": {},
   "outputs": [
    {
     "data": {
      "text/plain": [
       "' my \\nname\\nis \\nsudh\\n'"
      ]
     },
     "execution_count": 43,
     "metadata": {},
     "output_type": "execute_result"
    }
   ],
   "source": [
    "\"\"\" my \n",
    "name\n",
    "is \n",
    "sudh\n",
    "\"\"\""
   ]
  },
  {
   "cell_type": "code",
   "execution_count": 44,
   "id": "7c25c507",
   "metadata": {},
   "outputs": [
    {
     "name": "stdout",
     "output_type": "stream",
     "text": [
      "* \n",
      "\n",
      "* * \n",
      "\n",
      "* * * \n",
      "\n",
      "* * * * \n",
      "\n",
      "* * * * * \n",
      "\n",
      "Help on NoneType object:\n",
      "\n",
      "class NoneType(object)\n",
      " |  Methods defined here:\n",
      " |  \n",
      " |  __bool__(self, /)\n",
      " |      self != 0\n",
      " |  \n",
      " |  __repr__(self, /)\n",
      " |      Return repr(self).\n",
      " |  \n",
      " |  ----------------------------------------------------------------------\n",
      " |  Static methods defined here:\n",
      " |  \n",
      " |  __new__(*args, **kwargs) from builtins.type\n",
      " |      Create and return a new object.  See help(type) for accurate signature.\n",
      "\n"
     ]
    }
   ],
   "source": [
    "help(test12(5))\n"
   ]
  },
  {
   "cell_type": "code",
   "execution_count": 45,
   "id": "c9a86277",
   "metadata": {},
   "outputs": [],
   "source": [
    "def test1(a,b,c,d,e):\n",
    "    return a,b,c,d,e\n",
    "    "
   ]
  },
  {
   "cell_type": "code",
   "execution_count": 47,
   "id": "c8416927",
   "metadata": {},
   "outputs": [],
   "source": [
    "def test1(*args):     #staring is used to pass multiple one and anything at any instant of time.\n",
    "    return args"
   ]
  },
  {
   "cell_type": "code",
   "execution_count": 48,
   "id": "6c32be4e",
   "metadata": {},
   "outputs": [
    {
     "data": {
      "text/plain": [
       "(45, 78, 65)"
      ]
     },
     "execution_count": 48,
     "metadata": {},
     "output_type": "execute_result"
    }
   ],
   "source": [
    "test1(45,78,65)"
   ]
  },
  {
   "cell_type": "code",
   "execution_count": 49,
   "id": "a847bc22",
   "metadata": {},
   "outputs": [
    {
     "data": {
      "text/plain": [
       "([1, 2, 3], 45, 'sudh', 2.5, (2+5j))"
      ]
     },
     "execution_count": 49,
     "metadata": {},
     "output_type": "execute_result"
    }
   ],
   "source": [
    "test1([1,2,3],45,\"sudh\",2.5,2+5j)"
   ]
  },
  {
   "cell_type": "code",
   "execution_count": 50,
   "id": "bd1102f9",
   "metadata": {},
   "outputs": [],
   "source": [
    "def test2(*sudh):\n",
    "    return sudh"
   ]
  },
  {
   "cell_type": "code",
   "execution_count": 51,
   "id": "24b3f56f",
   "metadata": {},
   "outputs": [
    {
     "data": {
      "text/plain": [
       "('Np',)"
      ]
     },
     "execution_count": 51,
     "metadata": {},
     "output_type": "execute_result"
    }
   ],
   "source": [
    "test2(\"Np\")"
   ]
  },
  {
   "cell_type": "code",
   "execution_count": 53,
   "id": "808f0b95",
   "metadata": {},
   "outputs": [],
   "source": [
    "def test3(sudh , *a):\n",
    "    return sudh , a"
   ]
  },
  {
   "cell_type": "code",
   "execution_count": 54,
   "id": "65fc0a2e",
   "metadata": {},
   "outputs": [
    {
     "data": {
      "text/plain": [
       "(12, (13, 14))"
      ]
     },
     "execution_count": 54,
     "metadata": {},
     "output_type": "execute_result"
    }
   ],
   "source": [
    "test3(12,13,14)"
   ]
  },
  {
   "cell_type": "code",
   "execution_count": 55,
   "id": "579efc96",
   "metadata": {},
   "outputs": [
    {
     "ename": "SyntaxError",
     "evalue": "invalid syntax (<ipython-input-55-aa0c673fdc4a>, line 1)",
     "output_type": "error",
     "traceback": [
      "\u001b[1;36m  File \u001b[1;32m\"<ipython-input-55-aa0c673fdc4a>\"\u001b[1;36m, line \u001b[1;32m1\u001b[0m\n\u001b[1;33m    def test3(*sudh , *a):\u001b[0m\n\u001b[1;37m                      ^\u001b[0m\n\u001b[1;31mSyntaxError\u001b[0m\u001b[1;31m:\u001b[0m invalid syntax\n"
     ]
    }
   ],
   "source": [
    "def test3(*sudh , *a):\n",
    "    return sudh , a"
   ]
  },
  {
   "cell_type": "code",
   "execution_count": 56,
   "id": "e60fab97",
   "metadata": {},
   "outputs": [],
   "source": [
    "def test3(*sudh , a):\n",
    "    return sudh , a"
   ]
  },
  {
   "cell_type": "code",
   "execution_count": 57,
   "id": "19fcdada",
   "metadata": {},
   "outputs": [
    {
     "data": {
      "text/plain": [
       "((11, 22, 33), 6677)"
      ]
     },
     "execution_count": 57,
     "metadata": {},
     "output_type": "execute_result"
    }
   ],
   "source": [
    "test3(11,22,33, a = 6677)"
   ]
  },
  {
   "cell_type": "code",
   "execution_count": 58,
   "id": "4155423c",
   "metadata": {},
   "outputs": [],
   "source": [
    "def test4(*sudh, a,b,c,d):\n",
    "    return a,b,c,d\n",
    "    "
   ]
  },
  {
   "cell_type": "code",
   "execution_count": 59,
   "id": "3f6ea15f",
   "metadata": {},
   "outputs": [
    {
     "data": {
      "text/plain": [
       "([1, 2, 3], [4, 5, 6], [7, 8, 9], 99)"
      ]
     },
     "execution_count": 59,
     "metadata": {},
     "output_type": "execute_result"
    }
   ],
   "source": [
    "test4(11,22,33, a=[1,2,3],b=[4,5,6],c =[7,8,9],d =99)"
   ]
  },
  {
   "cell_type": "code",
   "execution_count": 60,
   "id": "f774fa78",
   "metadata": {},
   "outputs": [],
   "source": [
    "def test4(*sudh, a,b,c,d):\n",
    "    return a,b,c,d,sudh\n",
    "    "
   ]
  },
  {
   "cell_type": "code",
   "execution_count": 61,
   "id": "ba9491a9",
   "metadata": {},
   "outputs": [
    {
     "data": {
      "text/plain": [
       "([1, 2, 3], [4, 5, 6], [7, 8, 9], 99, (11, 22, 33))"
      ]
     },
     "execution_count": 61,
     "metadata": {},
     "output_type": "execute_result"
    }
   ],
   "source": [
    "test4(11,22,33, a=[1,2,3],b=[4,5,6],c =[7,8,9],d =99)"
   ]
  },
  {
   "cell_type": "code",
   "execution_count": 62,
   "id": "f7096bfa",
   "metadata": {},
   "outputs": [],
   "source": [
    "def test3(a,*sudh):\n",
    "    return sudh , a"
   ]
  },
  {
   "cell_type": "code",
   "execution_count": 63,
   "id": "cd7dc689",
   "metadata": {},
   "outputs": [
    {
     "data": {
      "text/plain": [
       "((), 'main,25,45,78,96')"
      ]
     },
     "execution_count": 63,
     "metadata": {},
     "output_type": "execute_result"
    }
   ],
   "source": [
    "test3(\"main,25,45,78,96\")"
   ]
  },
  {
   "cell_type": "code",
   "execution_count": 64,
   "id": "5fe71a94",
   "metadata": {},
   "outputs": [],
   "source": [
    "def test4(*args):\n",
    "    for i in args:\n",
    "        if type(i)==list:\n",
    "            return (i)"
   ]
  },
  {
   "cell_type": "code",
   "execution_count": 65,
   "id": "78dfa451",
   "metadata": {},
   "outputs": [
    {
     "data": {
      "text/plain": [
       "[12, 35, 45]"
      ]
     },
     "execution_count": 65,
     "metadata": {},
     "output_type": "execute_result"
    }
   ],
   "source": [
    "test4(45,125,[12,35,45])"
   ]
  },
  {
   "cell_type": "code",
   "execution_count": 66,
   "id": "297b519a",
   "metadata": {},
   "outputs": [
    {
     "data": {
      "text/plain": [
       "[1, 2, 3]"
      ]
     },
     "execution_count": 66,
     "metadata": {},
     "output_type": "execute_result"
    }
   ],
   "source": [
    "test4(11,15,45,24,62,[1,2,3],[4,5,6])"
   ]
  },
  {
   "cell_type": "code",
   "execution_count": 70,
   "id": "0c260216",
   "metadata": {},
   "outputs": [],
   "source": [
    "def test4(*args):          \n",
    "    for i in args:       # writen type of print is None type\n",
    "        if type(i)==list:\n",
    "            print(i)"
   ]
  },
  {
   "cell_type": "code",
   "execution_count": 71,
   "id": "032c2e59",
   "metadata": {},
   "outputs": [
    {
     "name": "stdout",
     "output_type": "stream",
     "text": [
      "[1, 2, 3]\n",
      "[4, 5, 6]\n"
     ]
    }
   ],
   "source": [
    "test4(11,15,45,24,62,[1,2,3],[4,5,6])"
   ]
  },
  {
   "cell_type": "code",
   "execution_count": 72,
   "id": "719df9ea",
   "metadata": {},
   "outputs": [],
   "source": [
    "def test5(*args):\n",
    "    l = []\n",
    "    for i in args:\n",
    "        if type(i)==list:\n",
    "            l.append(i)\n",
    "    return l"
   ]
  },
  {
   "cell_type": "code",
   "execution_count": 73,
   "id": "e4f2a708",
   "metadata": {},
   "outputs": [
    {
     "data": {
      "text/plain": [
       "[[9, 8, 7], [6, 5, 4, 3, 2, 1]]"
      ]
     },
     "execution_count": 73,
     "metadata": {},
     "output_type": "execute_result"
    }
   ],
   "source": [
    "test5(1,2,3,4,5,6,[9,8,7],[6,5,4,3,2,1])"
   ]
  },
  {
   "cell_type": "code",
   "execution_count": 74,
   "id": "b60ff73d",
   "metadata": {},
   "outputs": [],
   "source": [
    "def test5(*args):\n",
    "    l = []                         #check the indentation it will affectig on ans\n",
    "    for i in args:\n",
    "        if type(i)==list:\n",
    "            l.append(i)\n",
    "        return l"
   ]
  },
  {
   "cell_type": "code",
   "execution_count": 75,
   "id": "d890b961",
   "metadata": {},
   "outputs": [
    {
     "data": {
      "text/plain": [
       "[]"
      ]
     },
     "execution_count": 75,
     "metadata": {},
     "output_type": "execute_result"
    }
   ],
   "source": [
    "test5(1,2,3,4,5,6,[9,8,7],[6,5,4,3,2,1])"
   ]
  },
  {
   "cell_type": "code",
   "execution_count": 76,
   "id": "55c6a4db",
   "metadata": {},
   "outputs": [],
   "source": [
    "def test5(*args):\n",
    "    l = []                         #check the indentation it will affect on result\n",
    "    for i in args:\n",
    "        if type(i)==list:\n",
    "            l.append(i)\n",
    "            return l"
   ]
  },
  {
   "cell_type": "code",
   "execution_count": 77,
   "id": "bbf21a82",
   "metadata": {},
   "outputs": [
    {
     "data": {
      "text/plain": [
       "[[9, 8, 7]]"
      ]
     },
     "execution_count": 77,
     "metadata": {},
     "output_type": "execute_result"
    }
   ],
   "source": [
    "test5(1,2,3,4,5,6,[9,8,7],[6,5,4,3,2,1])"
   ]
  },
  {
   "cell_type": "code",
   "execution_count": 78,
   "id": "b86cd41d",
   "metadata": {},
   "outputs": [],
   "source": [
    "d = {\"a\":[1,2,3,4], 6: [9,8,7,6,5,4,3,2,1]}"
   ]
  },
  {
   "cell_type": "code",
   "execution_count": 79,
   "id": "147f1a36",
   "metadata": {},
   "outputs": [
    {
     "data": {
      "text/plain": [
       "[1, 2, 3, 4]"
      ]
     },
     "execution_count": 79,
     "metadata": {},
     "output_type": "execute_result"
    }
   ],
   "source": [
    "d[\"a\"]"
   ]
  },
  {
   "cell_type": "code",
   "execution_count": 80,
   "id": "499cedc9",
   "metadata": {},
   "outputs": [
    {
     "data": {
      "text/plain": [
       "[9, 8, 7, 6, 5, 4, 3, 2, 1]"
      ]
     },
     "execution_count": 80,
     "metadata": {},
     "output_type": "execute_result"
    }
   ],
   "source": [
    "d[6]"
   ]
  },
  {
   "cell_type": "code",
   "execution_count": 81,
   "id": "64f40a01",
   "metadata": {},
   "outputs": [],
   "source": [
    "def test6(**kwargs):   #**keyword arguments consider data in the form of dictionary\n",
    "    return kwargs"
   ]
  },
  {
   "cell_type": "code",
   "execution_count": 82,
   "id": "62536862",
   "metadata": {},
   "outputs": [
    {
     "ename": "TypeError",
     "evalue": "test6() takes 0 positional arguments but 6 were given",
     "output_type": "error",
     "traceback": [
      "\u001b[1;31m---------------------------------------------------------------------------\u001b[0m",
      "\u001b[1;31mTypeError\u001b[0m                                 Traceback (most recent call last)",
      "\u001b[1;32m<ipython-input-82-5b2331285b23>\u001b[0m in \u001b[0;36m<module>\u001b[1;34m\u001b[0m\n\u001b[1;32m----> 1\u001b[1;33m \u001b[0mtest6\u001b[0m\u001b[1;33m(\u001b[0m\u001b[1;36m1\u001b[0m\u001b[1;33m,\u001b[0m\u001b[1;36m2\u001b[0m\u001b[1;33m,\u001b[0m\u001b[1;36m3\u001b[0m\u001b[1;33m,\u001b[0m\u001b[1;36m4\u001b[0m\u001b[1;33m,\u001b[0m\u001b[1;36m5\u001b[0m\u001b[1;33m,\u001b[0m\u001b[1;36m6\u001b[0m\u001b[1;33m)\u001b[0m\u001b[1;33m\u001b[0m\u001b[1;33m\u001b[0m\u001b[0m\n\u001b[0m",
      "\u001b[1;31mTypeError\u001b[0m: test6() takes 0 positional arguments but 6 were given"
     ]
    }
   ],
   "source": [
    "test6(1,2,3,4,5,6)"
   ]
  },
  {
   "cell_type": "code",
   "execution_count": 83,
   "id": "8428734f",
   "metadata": {},
   "outputs": [],
   "source": [
    "def test6(**kwargs):\n",
    "    return kwargs"
   ]
  },
  {
   "cell_type": "code",
   "execution_count": 84,
   "id": "e2beac83",
   "metadata": {},
   "outputs": [
    {
     "data": {
      "text/plain": [
       "{'a': 252, 'b': [1, 2, 3, 4, 5], 'c': 67}"
      ]
     },
     "execution_count": 84,
     "metadata": {},
     "output_type": "execute_result"
    }
   ],
   "source": [
    "test6( a = 252, b = [1,2,3,4,5], c = 67)"
   ]
  },
  {
   "cell_type": "code",
   "execution_count": 85,
   "id": "31cdede0",
   "metadata": {},
   "outputs": [],
   "source": [
    "def test7(**sudh):        #**sudh  arguments consider data in the form of dictionary\n",
    "    return sudh"
   ]
  },
  {
   "cell_type": "code",
   "execution_count": 86,
   "id": "7fe07857",
   "metadata": {},
   "outputs": [
    {
     "data": {
      "text/plain": [
       "{'a': 12, 'b': 13, 'c': 14, 'd': 'gudiya', 'e': [1, 2, 3]}"
      ]
     },
     "execution_count": 86,
     "metadata": {},
     "output_type": "execute_result"
    }
   ],
   "source": [
    "test7(a = 12,b = 13, c = 14, d = \"gudiya\" , e = [1,2,3])"
   ]
  },
  {
   "cell_type": "code",
   "execution_count": 87,
   "id": "14ef2fd0",
   "metadata": {},
   "outputs": [],
   "source": [
    "def test9(**sudh):\n",
    "    return sudh"
   ]
  },
  {
   "cell_type": "code",
   "execution_count": 88,
   "id": "ead74710",
   "metadata": {},
   "outputs": [
    {
     "data": {
      "text/plain": [
       "{'Name': 'sudh',\n",
       " 'age': '31',\n",
       " 'phone_no': 9854678965,\n",
       " 'mail_id': 'abc@gmail.com'}"
      ]
     },
     "execution_count": 88,
     "metadata": {},
     "output_type": "execute_result"
    }
   ],
   "source": [
    "test9(Name= \"sudh\", age = \"31\", phone_no=9854678965, mail_id = \"abc@gmail.com\")"
   ]
  },
  {
   "cell_type": "code",
   "execution_count": 89,
   "id": "acc47577",
   "metadata": {},
   "outputs": [
    {
     "data": {
      "text/plain": [
       "{'Name': 'sudh',\n",
       " 'age': '31',\n",
       " 'phone_no': 9854678965,\n",
       " 'mail_id': 'abc@gmail.com',\n",
       " 'address': 'namdjhfh'}"
      ]
     },
     "execution_count": 89,
     "metadata": {},
     "output_type": "execute_result"
    }
   ],
   "source": [
    "test9(Name= \"sudh\", age = \"31\", phone_no=9854678965, mail_id = \"abc@gmail.com\", address = \"namdjhfh\")"
   ]
  },
  {
   "cell_type": "code",
   "execution_count": 90,
   "id": "6202380b",
   "metadata": {},
   "outputs": [],
   "source": [
    "def test9(a,**sudh):\n",
    "    return a,sudh"
   ]
  },
  {
   "cell_type": "code",
   "execution_count": 91,
   "id": "056101d1",
   "metadata": {},
   "outputs": [
    {
     "ename": "TypeError",
     "evalue": "test9() takes 1 positional argument but 6 were given",
     "output_type": "error",
     "traceback": [
      "\u001b[1;31m---------------------------------------------------------------------------\u001b[0m",
      "\u001b[1;31mTypeError\u001b[0m                                 Traceback (most recent call last)",
      "\u001b[1;32m<ipython-input-91-9a7d54d634bd>\u001b[0m in \u001b[0;36m<module>\u001b[1;34m\u001b[0m\n\u001b[1;32m----> 1\u001b[1;33m \u001b[0mtest9\u001b[0m\u001b[1;33m(\u001b[0m\u001b[1;36m1\u001b[0m\u001b[1;33m,\u001b[0m\u001b[1;36m2\u001b[0m\u001b[1;33m,\u001b[0m\u001b[1;36m3\u001b[0m\u001b[1;33m,\u001b[0m\u001b[1;36m4\u001b[0m\u001b[1;33m,\u001b[0m\u001b[1;36m5\u001b[0m\u001b[1;33m,\u001b[0m\u001b[1;36m6\u001b[0m\u001b[1;33m)\u001b[0m\u001b[1;33m\u001b[0m\u001b[1;33m\u001b[0m\u001b[0m\n\u001b[0m",
      "\u001b[1;31mTypeError\u001b[0m: test9() takes 1 positional argument but 6 were given"
     ]
    }
   ],
   "source": [
    "test9(1,2,3,4,5,6)"
   ]
  },
  {
   "cell_type": "code",
   "execution_count": 92,
   "id": "df815709",
   "metadata": {},
   "outputs": [
    {
     "ename": "TypeError",
     "evalue": "test9() got multiple values for argument 'a'",
     "output_type": "error",
     "traceback": [
      "\u001b[1;31m---------------------------------------------------------------------------\u001b[0m",
      "\u001b[1;31mTypeError\u001b[0m                                 Traceback (most recent call last)",
      "\u001b[1;32m<ipython-input-92-f2327982f377>\u001b[0m in \u001b[0;36m<module>\u001b[1;34m\u001b[0m\n\u001b[1;32m----> 1\u001b[1;33m \u001b[0mtest9\u001b[0m\u001b[1;33m(\u001b[0m\u001b[1;36m45\u001b[0m\u001b[1;33m,\u001b[0m \u001b[0ma\u001b[0m\u001b[1;33m=\u001b[0m \u001b[1;36m67\u001b[0m\u001b[1;33m,\u001b[0m\u001b[0mb\u001b[0m\u001b[1;33m=\u001b[0m\u001b[1;36m12\u001b[0m\u001b[1;33m,\u001b[0m\u001b[0mc\u001b[0m\u001b[1;33m=\u001b[0m\u001b[1;36m45\u001b[0m\u001b[1;33m,\u001b[0m\u001b[0md\u001b[0m\u001b[1;33m=\u001b[0m\u001b[1;36m36\u001b[0m\u001b[1;33m)\u001b[0m\u001b[1;33m\u001b[0m\u001b[1;33m\u001b[0m\u001b[0m\n\u001b[0m",
      "\u001b[1;31mTypeError\u001b[0m: test9() got multiple values for argument 'a'"
     ]
    }
   ],
   "source": [
    "test9(45, a= 67,b=12,c=45,d=36)"
   ]
  },
  {
   "cell_type": "code",
   "execution_count": 94,
   "id": "3c173a38",
   "metadata": {},
   "outputs": [
    {
     "data": {
      "text/plain": [
       "(45, {'t': 67, 'b': 12, 'c': 45, 'd': 36})"
      ]
     },
     "execution_count": 94,
     "metadata": {},
     "output_type": "execute_result"
    }
   ],
   "source": [
    "test9(45, t = 67,b=12,c=45,d=36)"
   ]
  },
  {
   "cell_type": "code",
   "execution_count": 95,
   "id": "74ced3ac",
   "metadata": {},
   "outputs": [
    {
     "ename": "SyntaxError",
     "evalue": "invalid syntax (<ipython-input-95-7471f62820ef>, line 1)",
     "output_type": "error",
     "traceback": [
      "\u001b[1;36m  File \u001b[1;32m\"<ipython-input-95-7471f62820ef>\"\u001b[1;36m, line \u001b[1;32m1\u001b[0m\n\u001b[1;33m    def test11(a,**sudh,*args):\u001b[0m\n\u001b[1;37m                        ^\u001b[0m\n\u001b[1;31mSyntaxError\u001b[0m\u001b[1;31m:\u001b[0m invalid syntax\n"
     ]
    }
   ],
   "source": [
    "def test11(a,**sudh,*args):\n",
    "    return sudh,a args          #your not allow to use this type of sentences\n",
    "    "
   ]
  },
  {
   "cell_type": "code",
   "execution_count": 98,
   "id": "c3e06816",
   "metadata": {},
   "outputs": [],
   "source": [
    "def test10(a,*args,**kwargs):   #sequence wise it will work\n",
    "    return args,a,kwargs        #*args is also used for tuple"
   ]
  },
  {
   "cell_type": "code",
   "execution_count": 99,
   "id": "cbe27fa0",
   "metadata": {},
   "outputs": [
    {
     "data": {
      "text/plain": [
       "((2, 3, 44, 5, 6), 1, {'g': 45, 'l': 45})"
      ]
     },
     "execution_count": 99,
     "metadata": {},
     "output_type": "execute_result"
    }
   ],
   "source": [
    "test10 (1,2,3,44,5,6, g = 45, l = 45)"
   ]
  },
  {
   "cell_type": "code",
   "execution_count": 100,
   "id": "1bb52748",
   "metadata": {},
   "outputs": [],
   "source": [
    " #anonymous a name without a function--- lamda \n",
    "    "
   ]
  },
  {
   "cell_type": "code",
   "execution_count": null,
   "id": "f50124bd",
   "metadata": {},
   "outputs": [],
   "source": []
  },
  {
   "cell_type": "code",
   "execution_count": 101,
   "id": "1516f13e",
   "metadata": {},
   "outputs": [],
   "source": [
    "a = lambda a,b :(a*b, a+b)"
   ]
  },
  {
   "cell_type": "code",
   "execution_count": null,
   "id": "12076bfb",
   "metadata": {},
   "outputs": [],
   "source": [
    "a(4,5)"
   ]
  },
  {
   "cell_type": "code",
   "execution_count": null,
   "id": "90e26481",
   "metadata": {},
   "outputs": [],
   "source": [
    "a = lambda *a:a"
   ]
  },
  {
   "cell_type": "code",
   "execution_count": null,
   "id": "f05ef8d8",
   "metadata": {},
   "outputs": [],
   "source": [
    "a(3,4,5)"
   ]
  },
  {
   "cell_type": "code",
   "execution_count": null,
   "id": "cb12036c",
   "metadata": {},
   "outputs": [],
   "source": [
    "x = lambda *a:a*a"
   ]
  },
  {
   "cell_type": "code",
   "execution_count": null,
   "id": "ad1288b6",
   "metadata": {},
   "outputs": [],
   "source": [
    "x(5)"
   ]
  },
  {
   "cell_type": "code",
   "execution_count": null,
   "id": "c2dffd5d",
   "metadata": {},
   "outputs": [],
   "source": [
    "v = lambda *i : i**2 "
   ]
  },
  {
   "cell_type": "code",
   "execution_count": null,
   "id": "037f8c83",
   "metadata": {},
   "outputs": [],
   "source": [
    "v(5)"
   ]
  },
  {
   "cell_type": "code",
   "execution_count": null,
   "id": "4a86f02d",
   "metadata": {},
   "outputs": [],
   "source": [
    "x = lambda x:[i for i in x]"
   ]
  },
  {
   "cell_type": "code",
   "execution_count": null,
   "id": "7e663b2b",
   "metadata": {},
   "outputs": [],
   "source": [
    "x([4,5,6,3])"
   ]
  },
  {
   "cell_type": "code",
   "execution_count": 102,
   "id": "e56e60b8",
   "metadata": {},
   "outputs": [
    {
     "ename": "TypeError",
     "evalue": "'int' object is not iterable",
     "output_type": "error",
     "traceback": [
      "\u001b[1;31m---------------------------------------------------------------------------\u001b[0m",
      "\u001b[1;31mTypeError\u001b[0m                                 Traceback (most recent call last)",
      "\u001b[1;32m<ipython-input-102-3ef9dc65aa4d>\u001b[0m in \u001b[0;36m<module>\u001b[1;34m\u001b[0m\n\u001b[0;32m      1\u001b[0m \u001b[0mx\u001b[0m \u001b[1;33m=\u001b[0m \u001b[1;32mlambda\u001b[0m \u001b[0mx\u001b[0m \u001b[1;33m:\u001b[0m \u001b[1;33m[\u001b[0m\u001b[0mi\u001b[0m \u001b[1;32mfor\u001b[0m \u001b[0mi\u001b[0m \u001b[1;32min\u001b[0m \u001b[0mx\u001b[0m\u001b[1;33m]\u001b[0m\u001b[1;33m\u001b[0m\u001b[1;33m\u001b[0m\u001b[0m\n\u001b[1;32m----> 2\u001b[1;33m \u001b[0mx\u001b[0m\u001b[1;33m(\u001b[0m\u001b[1;36m45\u001b[0m\u001b[1;33m)\u001b[0m\u001b[1;33m\u001b[0m\u001b[1;33m\u001b[0m\u001b[0m\n\u001b[0m",
      "\u001b[1;32m<ipython-input-102-3ef9dc65aa4d>\u001b[0m in \u001b[0;36m<lambda>\u001b[1;34m(x)\u001b[0m\n\u001b[1;32m----> 1\u001b[1;33m \u001b[0mx\u001b[0m \u001b[1;33m=\u001b[0m \u001b[1;32mlambda\u001b[0m \u001b[0mx\u001b[0m \u001b[1;33m:\u001b[0m \u001b[1;33m[\u001b[0m\u001b[0mi\u001b[0m \u001b[1;32mfor\u001b[0m \u001b[0mi\u001b[0m \u001b[1;32min\u001b[0m \u001b[0mx\u001b[0m\u001b[1;33m]\u001b[0m\u001b[1;33m\u001b[0m\u001b[1;33m\u001b[0m\u001b[0m\n\u001b[0m\u001b[0;32m      2\u001b[0m \u001b[0mx\u001b[0m\u001b[1;33m(\u001b[0m\u001b[1;36m45\u001b[0m\u001b[1;33m)\u001b[0m\u001b[1;33m\u001b[0m\u001b[1;33m\u001b[0m\u001b[0m\n",
      "\u001b[1;31mTypeError\u001b[0m: 'int' object is not iterable"
     ]
    }
   ],
   "source": [
    "x = lambda x : [i for i in x]\n",
    "x(45)"
   ]
  },
  {
   "cell_type": "code",
   "execution_count": null,
   "id": "c8ebd776",
   "metadata": {},
   "outputs": [],
   "source": [
    "#remember for knowledge purpose lambda function\n",
    "#go through other method"
   ]
  },
  {
   "cell_type": "code",
   "execution_count": null,
   "id": "7ee39916",
   "metadata": {},
   "outputs": [],
   "source": [
    "x = lambda x: [print(i) for i in x]"
   ]
  },
  {
   "cell_type": "code",
   "execution_count": null,
   "id": "ac73cd9e",
   "metadata": {},
   "outputs": [],
   "source": [
    "x([4,5,6,5])"
   ]
  },
  {
   "cell_type": "code",
   "execution_count": 103,
   "id": "8ec5b53e",
   "metadata": {},
   "outputs": [],
   "source": [
    "a = lambda **kwargs :kwargs"
   ]
  },
  {
   "cell_type": "code",
   "execution_count": 104,
   "id": "10a3a874",
   "metadata": {},
   "outputs": [
    {
     "data": {
      "text/plain": [
       "<function __main__.<lambda>(**kwargs)>"
      ]
     },
     "execution_count": 104,
     "metadata": {},
     "output_type": "execute_result"
    }
   ],
   "source": [
    "a"
   ]
  },
  {
   "cell_type": "code",
   "execution_count": 105,
   "id": "b688f7a2",
   "metadata": {},
   "outputs": [
    {
     "data": {
      "text/plain": [
       "{'a': 45, 'b': 65}"
      ]
     },
     "execution_count": 105,
     "metadata": {},
     "output_type": "execute_result"
    }
   ],
   "source": [
    "a(a=45,b= 65)"
   ]
  },
  {
   "cell_type": "code",
   "execution_count": 106,
   "id": "0983d46a",
   "metadata": {},
   "outputs": [],
   "source": [
    "a = 10\n",
    "def test18(c,d):\n",
    "    return c*d "
   ]
  },
  {
   "cell_type": "code",
   "execution_count": 107,
   "id": "2087900a",
   "metadata": {},
   "outputs": [
    {
     "data": {
      "text/plain": [
       "20"
      ]
     },
     "execution_count": 107,
     "metadata": {},
     "output_type": "execute_result"
    }
   ],
   "source": [
    "test18(4,5)"
   ]
  },
  {
   "cell_type": "code",
   "execution_count": 108,
   "id": "2ba6192e",
   "metadata": {},
   "outputs": [
    {
     "data": {
      "text/plain": [
       "500"
      ]
     },
     "execution_count": 108,
     "metadata": {},
     "output_type": "execute_result"
    }
   ],
   "source": [
    "test18(a,50)"
   ]
  },
  {
   "cell_type": "code",
   "execution_count": 109,
   "id": "5df91355",
   "metadata": {},
   "outputs": [],
   "source": [
    "a = 10\n",
    "def test1(c,d):    #you have to clear your concept\n",
    "    a = 5\n",
    "    return(c*d)"
   ]
  },
  {
   "cell_type": "code",
   "execution_count": 110,
   "id": "f0968495",
   "metadata": {},
   "outputs": [
    {
     "data": {
      "text/plain": [
       "20"
      ]
     },
     "execution_count": 110,
     "metadata": {},
     "output_type": "execute_result"
    }
   ],
   "source": [
    "test1(a,2)"
   ]
  },
  {
   "cell_type": "code",
   "execution_count": 111,
   "id": "555c6252",
   "metadata": {},
   "outputs": [],
   "source": [
    "a = 10\n",
    "def test2(c,d):         #during this condition it will remember c value forevour\n",
    "    c = 5\n",
    "    return(c*d)"
   ]
  },
  {
   "cell_type": "code",
   "execution_count": 112,
   "id": "a51ba40d",
   "metadata": {},
   "outputs": [
    {
     "data": {
      "text/plain": [
       "25"
      ]
     },
     "execution_count": 112,
     "metadata": {},
     "output_type": "execute_result"
    }
   ],
   "source": [
    "test2(a,5)"
   ]
  },
  {
   "cell_type": "code",
   "execution_count": 113,
   "id": "62dffc18",
   "metadata": {},
   "outputs": [
    {
     "data": {
      "text/plain": [
       "100"
      ]
     },
     "execution_count": 113,
     "metadata": {},
     "output_type": "execute_result"
    }
   ],
   "source": [
    "test2(a,20)"
   ]
  },
  {
   "cell_type": "code",
   "execution_count": 114,
   "id": "a3a5d865",
   "metadata": {},
   "outputs": [],
   "source": [
    "c = 10                  # for a it will consider upper value\n",
    "def test2(c,d):         #for c it will consider lower value\n",
    "    c = 5\n",
    "    return(c*d)"
   ]
  },
  {
   "cell_type": "code",
   "execution_count": 115,
   "id": "24808434",
   "metadata": {},
   "outputs": [
    {
     "data": {
      "text/plain": [
       "25"
      ]
     },
     "execution_count": 115,
     "metadata": {},
     "output_type": "execute_result"
    }
   ],
   "source": [
    "test2(a,5)"
   ]
  },
  {
   "cell_type": "code",
   "execution_count": 116,
   "id": "6954830f",
   "metadata": {},
   "outputs": [
    {
     "data": {
      "text/plain": [
       "25"
      ]
     },
     "execution_count": 116,
     "metadata": {},
     "output_type": "execute_result"
    }
   ],
   "source": [
    "test2(10,5)"
   ]
  },
  {
   "cell_type": "code",
   "execution_count": 117,
   "id": "938a6e66",
   "metadata": {},
   "outputs": [],
   "source": [
    "l = [1,2,3,4,5,6,7,8,9]\n",
    "l1 = []\n",
    "for i in l:\n",
    "    l1.append(i+2)"
   ]
  },
  {
   "cell_type": "code",
   "execution_count": 118,
   "id": "75417da6",
   "metadata": {},
   "outputs": [
    {
     "data": {
      "text/plain": [
       "[3, 4, 5, 6, 7, 8, 9, 10, 11]"
      ]
     },
     "execution_count": 118,
     "metadata": {},
     "output_type": "execute_result"
    }
   ],
   "source": [
    "l1"
   ]
  },
  {
   "cell_type": "code",
   "execution_count": null,
   "id": "64ec1592",
   "metadata": {},
   "outputs": [],
   "source": [
    "l = [1,2,3,4,5,6,7,8,9]\n",
    "def test1(a):\n",
    "    l1 = []\n",
    "    for i in a:\n",
    "        l1.append(i+2)\n",
    "    return l1"
   ]
  },
  {
   "cell_type": "code",
   "execution_count": null,
   "id": "b46e4556",
   "metadata": {},
   "outputs": [],
   "source": [
    "test1(l)"
   ]
  },
  {
   "cell_type": "code",
   "execution_count": null,
   "id": "82715053",
   "metadata": {},
   "outputs": [],
   "source": [
    "test1(l1) "
   ]
  },
  {
   "cell_type": "code",
   "execution_count": null,
   "id": "2f51eb46",
   "metadata": {},
   "outputs": [],
   "source": [
    "def test2(a):\n",
    "    l2= []\n",
    "    for i in a:\n",
    "        l2.append(i+2)\n",
    "    return l2"
   ]
  },
  {
   "cell_type": "code",
   "execution_count": null,
   "id": "acdff07c",
   "metadata": {},
   "outputs": [],
   "source": [
    "l2"
   ]
  },
  {
   "cell_type": "code",
   "execution_count": null,
   "id": "7d40c4d1",
   "metadata": {},
   "outputs": [],
   "source": [
    "l"
   ]
  },
  {
   "cell_type": "code",
   "execution_count": null,
   "id": "ad3dce48",
   "metadata": {},
   "outputs": [],
   "source": [
    "a = lambda a: [i+2 for i in a]"
   ]
  },
  {
   "cell_type": "code",
   "execution_count": null,
   "id": "e5f94871",
   "metadata": {},
   "outputs": [],
   "source": [
    "a(l)"
   ]
  },
  {
   "cell_type": "code",
   "execution_count": null,
   "id": "e6e1426a",
   "metadata": {},
   "outputs": [],
   "source": [
    "l"
   ]
  },
  {
   "cell_type": "code",
   "execution_count": null,
   "id": "5fc35089",
   "metadata": {},
   "outputs": [],
   "source": [
    "[i+2 for i in l]"
   ]
  },
  {
   "cell_type": "code",
   "execution_count": null,
   "id": "e288a54e",
   "metadata": {},
   "outputs": [],
   "source": [
    "[( i**2,i+i) for i in l if i<4]"
   ]
  },
  {
   "cell_type": "code",
   "execution_count": null,
   "id": "ff0cce31",
   "metadata": {},
   "outputs": [],
   "source": [
    "l1 = []\n",
    "for i in l:\n",
    "    if i <4 :\n",
    "        l1.append((i**2, i+i))"
   ]
  },
  {
   "cell_type": "code",
   "execution_count": null,
   "id": "8d2c3279",
   "metadata": {},
   "outputs": [],
   "source": [
    "l1"
   ]
  },
  {
   "cell_type": "code",
   "execution_count": null,
   "id": "879893d2",
   "metadata": {},
   "outputs": [],
   "source": [
    "[( i**2, i+i) for i in l if i<4]"
   ]
  },
  {
   "cell_type": "code",
   "execution_count": null,
   "id": "225570f4",
   "metadata": {},
   "outputs": [],
   "source": [
    "d = {1:1,2:2,3:3,4:4}"
   ]
  },
  {
   "cell_type": "code",
   "execution_count": 1,
   "id": "4c1c2c53",
   "metadata": {},
   "outputs": [
    {
     "data": {
      "text/plain": [
       "{0: 0, 1: 1, 2: 4, 3: 9, 4: 16, 5: 25, 6: 36, 7: 49, 8: 64, 9: 81}"
      ]
     },
     "execution_count": 1,
     "metadata": {},
     "output_type": "execute_result"
    }
   ],
   "source": [
    "{i:i**2 for i in range(10)}"
   ]
  },
  {
   "cell_type": "code",
   "execution_count": 119,
   "id": "3f6d6c1f",
   "metadata": {},
   "outputs": [],
   "source": [
    "d1 = {}\n",
    "for i in range(10):\n",
    "    d1[i]=i**2"
   ]
  },
  {
   "cell_type": "code",
   "execution_count": 120,
   "id": "4043d166",
   "metadata": {},
   "outputs": [
    {
     "data": {
      "text/plain": [
       "{0: 0, 1: 1, 2: 4, 3: 9, 4: 16, 5: 25, 6: 36, 7: 49, 8: 64, 9: 81}"
      ]
     },
     "execution_count": 120,
     "metadata": {},
     "output_type": "execute_result"
    }
   ],
   "source": [
    "d1"
   ]
  },
  {
   "cell_type": "code",
   "execution_count": 121,
   "id": "99523eed",
   "metadata": {},
   "outputs": [
    {
     "data": {
      "text/plain": [
       "[0, 1, 2, 3, 4, 5, 6, 7, 8, 9]"
      ]
     },
     "execution_count": 121,
     "metadata": {},
     "output_type": "execute_result"
    }
   ],
   "source": [
    "[i for i in range(10)]"
   ]
  },
  {
   "cell_type": "code",
   "execution_count": 122,
   "id": "04d8afb3",
   "metadata": {},
   "outputs": [
    {
     "data": {
      "text/plain": [
       "(0, 1, 2, 3, 4, 5, 6, 7, 8, 9)"
      ]
     },
     "execution_count": 122,
     "metadata": {},
     "output_type": "execute_result"
    }
   ],
   "source": [
    "tuple(i for i in range(10))"
   ]
  },
  {
   "cell_type": "code",
   "execution_count": null,
   "id": "5551c3ac",
   "metadata": {},
   "outputs": [],
   "source": []
  },
  {
   "cell_type": "code",
   "execution_count": 123,
   "id": "9d9775c2",
   "metadata": {},
   "outputs": [
    {
     "data": {
      "text/plain": [
       "(1, 2, 3)"
      ]
     },
     "execution_count": 123,
     "metadata": {},
     "output_type": "execute_result"
    }
   ],
   "source": [
    "d = lambda *a,b:a\n",
    "d(1,2,3,b =5)"
   ]
  },
  {
   "cell_type": "code",
   "execution_count": 124,
   "id": "2a468f64",
   "metadata": {},
   "outputs": [
    {
     "data": {
      "text/plain": [
       "[6, 7, 8]"
      ]
     },
     "execution_count": 124,
     "metadata": {},
     "output_type": "execute_result"
    }
   ],
   "source": [
    "d = lambda *a,b:[i+b for i in a]\n",
    "d(1,2,3, b= 5)"
   ]
  },
  {
   "cell_type": "code",
   "execution_count": null,
   "id": "3c20fbc0",
   "metadata": {},
   "outputs": [],
   "source": []
  },
  {
   "cell_type": "code",
   "execution_count": null,
   "id": "4407d5ba",
   "metadata": {},
   "outputs": [],
   "source": []
  },
  {
   "cell_type": "code",
   "execution_count": 125,
   "id": "1e337774",
   "metadata": {},
   "outputs": [],
   "source": [
    "#int is not a iterable object statement is important"
   ]
  },
  {
   "cell_type": "code",
   "execution_count": 126,
   "id": "1b964a01",
   "metadata": {},
   "outputs": [
    {
     "ename": "TypeError",
     "evalue": "'int' object is not iterable",
     "output_type": "error",
     "traceback": [
      "\u001b[1;31m---------------------------------------------------------------------------\u001b[0m",
      "\u001b[1;31mTypeError\u001b[0m                                 Traceback (most recent call last)",
      "\u001b[1;32m<ipython-input-126-a1cfb78b55f5>\u001b[0m in \u001b[0;36m<module>\u001b[1;34m\u001b[0m\n\u001b[0;32m      1\u001b[0m \u001b[0ma\u001b[0m \u001b[1;33m=\u001b[0m \u001b[1;36m56\u001b[0m\u001b[1;33m\u001b[0m\u001b[1;33m\u001b[0m\u001b[0m\n\u001b[1;32m----> 2\u001b[1;33m \u001b[1;32mfor\u001b[0m \u001b[0mi\u001b[0m \u001b[1;32min\u001b[0m \u001b[0ma\u001b[0m\u001b[1;33m:\u001b[0m\u001b[1;33m\u001b[0m\u001b[1;33m\u001b[0m\u001b[0m\n\u001b[0m\u001b[0;32m      3\u001b[0m     \u001b[0mprint\u001b[0m\u001b[1;33m(\u001b[0m\u001b[0mi\u001b[0m\u001b[1;33m)\u001b[0m\u001b[1;33m\u001b[0m\u001b[1;33m\u001b[0m\u001b[0m\n",
      "\u001b[1;31mTypeError\u001b[0m: 'int' object is not iterable"
     ]
    }
   ],
   "source": [
    "a = 56\n",
    "for i in a:\n",
    "    print(i)"
   ]
  },
  {
   "cell_type": "code",
   "execution_count": 127,
   "id": "efc1efc6",
   "metadata": {},
   "outputs": [
    {
     "name": "stdout",
     "output_type": "stream",
     "text": [
      "s\n",
      "u\n",
      "d\n",
      "h\n"
     ]
    }
   ],
   "source": [
    "s = \"sudh\"\n",
    "for i in s:\n",
    "    print(i)"
   ]
  },
  {
   "cell_type": "code",
   "execution_count": 128,
   "id": "775ce05f",
   "metadata": {},
   "outputs": [
    {
     "ename": "TypeError",
     "evalue": "'str' object is not an iterator",
     "output_type": "error",
     "traceback": [
      "\u001b[1;31m---------------------------------------------------------------------------\u001b[0m",
      "\u001b[1;31mTypeError\u001b[0m                                 Traceback (most recent call last)",
      "\u001b[1;32m<ipython-input-128-74aa991be577>\u001b[0m in \u001b[0;36m<module>\u001b[1;34m\u001b[0m\n\u001b[1;32m----> 1\u001b[1;33m \u001b[0mnext\u001b[0m\u001b[1;33m(\u001b[0m\u001b[0ms\u001b[0m\u001b[1;33m)\u001b[0m        \u001b[1;31m#str obj not iterable\u001b[0m\u001b[1;33m\u001b[0m\u001b[1;33m\u001b[0m\u001b[0m\n\u001b[0m",
      "\u001b[1;31mTypeError\u001b[0m: 'str' object is not an iterator"
     ]
    }
   ],
   "source": [
    "next(s)        #str obj not iterable"
   ]
  },
  {
   "cell_type": "code",
   "execution_count": 129,
   "id": "e40fab2c",
   "metadata": {},
   "outputs": [],
   "source": [
    "#str is a iterable - yes\n",
    "#str is a iterator -no\n",
    "##@if an obj is holding a values with the help of some sort of indexes &\n",
    "## if you are able to access it one by one with the help of indexes\n",
    "##thats kind of obj called as a iterable \n",
    "##@ iter function will be able to convert your iterable into iterator then you will access an element    "
   ]
  },
  {
   "cell_type": "code",
   "execution_count": null,
   "id": "54f00d84",
   "metadata": {},
   "outputs": [],
   "source": [
    "##element which access in a sequential manner called iterable"
   ]
  },
  {
   "cell_type": "code",
   "execution_count": null,
   "id": "27418127",
   "metadata": {},
   "outputs": [],
   "source": [
    "b = iter(s)"
   ]
  },
  {
   "cell_type": "code",
   "execution_count": null,
   "id": "a91d5d72",
   "metadata": {},
   "outputs": [],
   "source": [
    "b"
   ]
  },
  {
   "cell_type": "code",
   "execution_count": null,
   "id": "45cec92e",
   "metadata": {},
   "outputs": [],
   "source": [
    "next(b)"
   ]
  },
  {
   "cell_type": "code",
   "execution_count": null,
   "id": "dd86e77c",
   "metadata": {},
   "outputs": [],
   "source": [
    "next(b)"
   ]
  },
  {
   "cell_type": "code",
   "execution_count": 130,
   "id": "2c27d538",
   "metadata": {},
   "outputs": [
    {
     "name": "stdout",
     "output_type": "stream",
     "text": [
      "m\n",
      "a\n",
      "l\n",
      "a\n",
      "y\n",
      "a\n",
      "l\n",
      "a\n",
      "m\n"
     ]
    }
   ],
   "source": [
    "s = 'malayalam'\n",
    "for i in s:\n",
    "    print(i)"
   ]
  },
  {
   "cell_type": "code",
   "execution_count": 131,
   "id": "d9865a70",
   "metadata": {},
   "outputs": [],
   "source": [
    "s = iter(s)"
   ]
  },
  {
   "cell_type": "code",
   "execution_count": 132,
   "id": "2cdbdf95",
   "metadata": {},
   "outputs": [
    {
     "data": {
      "text/plain": [
       "'m'"
      ]
     },
     "execution_count": 132,
     "metadata": {},
     "output_type": "execute_result"
    }
   ],
   "source": [
    "next(s)"
   ]
  },
  {
   "cell_type": "code",
   "execution_count": 133,
   "id": "4764abb8",
   "metadata": {},
   "outputs": [
    {
     "data": {
      "text/plain": [
       "'a'"
      ]
     },
     "execution_count": 133,
     "metadata": {},
     "output_type": "execute_result"
    }
   ],
   "source": [
    "next(s)"
   ]
  },
  {
   "cell_type": "code",
   "execution_count": 134,
   "id": "fa7959a5",
   "metadata": {},
   "outputs": [
    {
     "data": {
      "text/plain": [
       "'l'"
      ]
     },
     "execution_count": 134,
     "metadata": {},
     "output_type": "execute_result"
    }
   ],
   "source": [
    "next(s)"
   ]
  },
  {
   "cell_type": "code",
   "execution_count": 135,
   "id": "7e66cb6b",
   "metadata": {},
   "outputs": [
    {
     "data": {
      "text/plain": [
       "'a'"
      ]
     },
     "execution_count": 135,
     "metadata": {},
     "output_type": "execute_result"
    }
   ],
   "source": [
    "next(s)\n"
   ]
  },
  {
   "cell_type": "code",
   "execution_count": 136,
   "id": "cbd650e7",
   "metadata": {},
   "outputs": [
    {
     "data": {
      "text/plain": [
       "'y'"
      ]
     },
     "execution_count": 136,
     "metadata": {},
     "output_type": "execute_result"
    }
   ],
   "source": [
    "next(s)"
   ]
  },
  {
   "cell_type": "code",
   "execution_count": 137,
   "id": "5df516bc",
   "metadata": {},
   "outputs": [
    {
     "data": {
      "text/plain": [
       "'a'"
      ]
     },
     "execution_count": 137,
     "metadata": {},
     "output_type": "execute_result"
    }
   ],
   "source": [
    "next(s)"
   ]
  },
  {
   "cell_type": "code",
   "execution_count": 138,
   "id": "c0f4230d",
   "metadata": {},
   "outputs": [
    {
     "data": {
      "text/plain": [
       "'l'"
      ]
     },
     "execution_count": 138,
     "metadata": {},
     "output_type": "execute_result"
    }
   ],
   "source": [
    "next(s)"
   ]
  },
  {
   "cell_type": "code",
   "execution_count": 139,
   "id": "4d362030",
   "metadata": {},
   "outputs": [
    {
     "data": {
      "text/plain": [
       "'a'"
      ]
     },
     "execution_count": 139,
     "metadata": {},
     "output_type": "execute_result"
    }
   ],
   "source": [
    "next(s)"
   ]
  },
  {
   "cell_type": "code",
   "execution_count": 140,
   "id": "7725a09e",
   "metadata": {},
   "outputs": [
    {
     "data": {
      "text/plain": [
       "'m'"
      ]
     },
     "execution_count": 140,
     "metadata": {},
     "output_type": "execute_result"
    }
   ],
   "source": [
    "next(s)"
   ]
  },
  {
   "cell_type": "code",
   "execution_count": 141,
   "id": "4c029f82",
   "metadata": {},
   "outputs": [
    {
     "ename": "StopIteration",
     "evalue": "",
     "output_type": "error",
     "traceback": [
      "\u001b[1;31m---------------------------------------------------------------------------\u001b[0m",
      "\u001b[1;31mStopIteration\u001b[0m                             Traceback (most recent call last)",
      "\u001b[1;32m<ipython-input-141-61c30b5fe1d5>\u001b[0m in \u001b[0;36m<module>\u001b[1;34m\u001b[0m\n\u001b[1;32m----> 1\u001b[1;33m \u001b[0mnext\u001b[0m\u001b[1;33m(\u001b[0m\u001b[0ms\u001b[0m\u001b[1;33m)\u001b[0m\u001b[1;33m\u001b[0m\u001b[1;33m\u001b[0m\u001b[0m\n\u001b[0m",
      "\u001b[1;31mStopIteration\u001b[0m: "
     ]
    }
   ],
   "source": [
    "next(s)"
   ]
  },
  {
   "cell_type": "code",
   "execution_count": 142,
   "id": "8009e6b9",
   "metadata": {},
   "outputs": [],
   "source": [
    "l = [1,2,3,4,5,6]"
   ]
  },
  {
   "cell_type": "code",
   "execution_count": 143,
   "id": "670fd27e",
   "metadata": {},
   "outputs": [
    {
     "ename": "TypeError",
     "evalue": "'list' object is not an iterator",
     "output_type": "error",
     "traceback": [
      "\u001b[1;31m---------------------------------------------------------------------------\u001b[0m",
      "\u001b[1;31mTypeError\u001b[0m                                 Traceback (most recent call last)",
      "\u001b[1;32m<ipython-input-143-cdc8a39da60d>\u001b[0m in \u001b[0;36m<module>\u001b[1;34m\u001b[0m\n\u001b[1;32m----> 1\u001b[1;33m \u001b[0mnext\u001b[0m\u001b[1;33m(\u001b[0m\u001b[0ml\u001b[0m\u001b[1;33m)\u001b[0m\u001b[1;33m\u001b[0m\u001b[1;33m\u001b[0m\u001b[0m\n\u001b[0m",
      "\u001b[1;31mTypeError\u001b[0m: 'list' object is not an iterator"
     ]
    }
   ],
   "source": [
    "next(l)"
   ]
  },
  {
   "cell_type": "code",
   "execution_count": 144,
   "id": "fa60b5bf",
   "metadata": {},
   "outputs": [],
   "source": [
    "l = iter(l)"
   ]
  },
  {
   "cell_type": "code",
   "execution_count": 145,
   "id": "e3efa31c",
   "metadata": {},
   "outputs": [
    {
     "data": {
      "text/plain": [
       "1"
      ]
     },
     "execution_count": 145,
     "metadata": {},
     "output_type": "execute_result"
    }
   ],
   "source": [
    "next(l)"
   ]
  },
  {
   "cell_type": "code",
   "execution_count": 146,
   "id": "79cfbb9c",
   "metadata": {},
   "outputs": [
    {
     "data": {
      "text/plain": [
       "2"
      ]
     },
     "execution_count": 146,
     "metadata": {},
     "output_type": "execute_result"
    }
   ],
   "source": [
    "next(l)"
   ]
  },
  {
   "cell_type": "code",
   "execution_count": 147,
   "id": "873128eb",
   "metadata": {},
   "outputs": [
    {
     "data": {
      "text/plain": [
       "3"
      ]
     },
     "execution_count": 147,
     "metadata": {},
     "output_type": "execute_result"
    }
   ],
   "source": [
    "next(l)"
   ]
  },
  {
   "cell_type": "code",
   "execution_count": 148,
   "id": "c3f76346",
   "metadata": {},
   "outputs": [
    {
     "data": {
      "text/plain": [
       "4"
      ]
     },
     "execution_count": 148,
     "metadata": {},
     "output_type": "execute_result"
    }
   ],
   "source": [
    "next(l)"
   ]
  },
  {
   "cell_type": "code",
   "execution_count": 149,
   "id": "a0ede48f",
   "metadata": {},
   "outputs": [
    {
     "data": {
      "text/plain": [
       "5"
      ]
     },
     "execution_count": 149,
     "metadata": {},
     "output_type": "execute_result"
    }
   ],
   "source": [
    "next(l)"
   ]
  },
  {
   "cell_type": "code",
   "execution_count": 150,
   "id": "39fdce6d",
   "metadata": {},
   "outputs": [
    {
     "data": {
      "text/plain": [
       "6"
      ]
     },
     "execution_count": 150,
     "metadata": {},
     "output_type": "execute_result"
    }
   ],
   "source": [
    "next(l)"
   ]
  },
  {
   "cell_type": "code",
   "execution_count": 151,
   "id": "1c4a0ee3",
   "metadata": {},
   "outputs": [
    {
     "ename": "StopIteration",
     "evalue": "",
     "output_type": "error",
     "traceback": [
      "\u001b[1;31m---------------------------------------------------------------------------\u001b[0m",
      "\u001b[1;31mStopIteration\u001b[0m                             Traceback (most recent call last)",
      "\u001b[1;32m<ipython-input-151-cdc8a39da60d>\u001b[0m in \u001b[0;36m<module>\u001b[1;34m\u001b[0m\n\u001b[1;32m----> 1\u001b[1;33m \u001b[0mnext\u001b[0m\u001b[1;33m(\u001b[0m\u001b[0ml\u001b[0m\u001b[1;33m)\u001b[0m\u001b[1;33m\u001b[0m\u001b[1;33m\u001b[0m\u001b[0m\n\u001b[0m",
      "\u001b[1;31mStopIteration\u001b[0m: "
     ]
    }
   ],
   "source": [
    "next(l)"
   ]
  },
  {
   "cell_type": "code",
   "execution_count": 152,
   "id": "ebff8756",
   "metadata": {},
   "outputs": [
    {
     "name": "stdout",
     "output_type": "stream",
     "text": [
      "1\n",
      "2\n",
      "3\n"
     ]
    },
    {
     "ename": "StopIteration",
     "evalue": "",
     "output_type": "error",
     "traceback": [
      "\u001b[1;31m---------------------------------------------------------------------------\u001b[0m",
      "\u001b[1;31mStopIteration\u001b[0m                             Traceback (most recent call last)",
      "\u001b[1;32m<ipython-input-152-52276008919d>\u001b[0m in \u001b[0;36m<module>\u001b[1;34m\u001b[0m\n\u001b[0;32m     21\u001b[0m \u001b[1;33m\u001b[0m\u001b[0m\n\u001b[0;32m     22\u001b[0m \u001b[1;31m# raises StopIteration\u001b[0m\u001b[1;33m\u001b[0m\u001b[1;33m\u001b[0m\u001b[1;33m\u001b[0m\u001b[0m\n\u001b[1;32m---> 23\u001b[1;33m \u001b[0mprint\u001b[0m\u001b[1;33m(\u001b[0m\u001b[0mnext\u001b[0m\u001b[1;33m(\u001b[0m\u001b[0mprint_num_iter\u001b[0m\u001b[1;33m)\u001b[0m\u001b[1;33m)\u001b[0m\u001b[1;33m\u001b[0m\u001b[1;33m\u001b[0m\u001b[0m\n\u001b[0m",
      "\u001b[1;32m<ipython-input-152-52276008919d>\u001b[0m in \u001b[0;36m__next__\u001b[1;34m(self)\u001b[0m\n\u001b[0;32m      9\u001b[0m     \u001b[1;32mdef\u001b[0m \u001b[0m__next__\u001b[0m\u001b[1;33m(\u001b[0m\u001b[0mself\u001b[0m\u001b[1;33m)\u001b[0m\u001b[1;33m:\u001b[0m\u001b[1;33m\u001b[0m\u001b[1;33m\u001b[0m\u001b[0m\n\u001b[0;32m     10\u001b[0m         \u001b[1;32mif\u001b[0m\u001b[1;33m(\u001b[0m\u001b[0mself\u001b[0m\u001b[1;33m.\u001b[0m\u001b[0mnum\u001b[0m \u001b[1;33m>=\u001b[0m \u001b[0mself\u001b[0m\u001b[1;33m.\u001b[0m\u001b[0mmax\u001b[0m\u001b[1;33m)\u001b[0m\u001b[1;33m:\u001b[0m\u001b[1;33m\u001b[0m\u001b[1;33m\u001b[0m\u001b[0m\n\u001b[1;32m---> 11\u001b[1;33m             \u001b[1;32mraise\u001b[0m \u001b[0mStopIteration\u001b[0m\u001b[1;33m\u001b[0m\u001b[1;33m\u001b[0m\u001b[0m\n\u001b[0m\u001b[0;32m     12\u001b[0m         \u001b[0mself\u001b[0m\u001b[1;33m.\u001b[0m\u001b[0mnum\u001b[0m \u001b[1;33m+=\u001b[0m \u001b[1;36m1\u001b[0m\u001b[1;33m\u001b[0m\u001b[1;33m\u001b[0m\u001b[0m\n\u001b[0;32m     13\u001b[0m         \u001b[1;32mreturn\u001b[0m \u001b[0mself\u001b[0m\u001b[1;33m.\u001b[0m\u001b[0mnum\u001b[0m\u001b[1;33m\u001b[0m\u001b[1;33m\u001b[0m\u001b[0m\n",
      "\u001b[1;31mStopIteration\u001b[0m: "
     ]
    }
   ],
   "source": [
    "class PrintNumber:\n",
    "    def __init__(self, max):\n",
    "        self.max = max\n",
    "\n",
    "    def __iter__(self):\n",
    "        self.num = 0\n",
    "        return self\n",
    "\n",
    "    def __next__(self):\n",
    "        if(self.num >= self.max):\n",
    "            raise StopIteration\n",
    "        self.num += 1\n",
    "        return self.num\n",
    "\n",
    "print_num = PrintNumber(3)\n",
    "\n",
    "print_num_iter = iter(print_num)\n",
    "print(next(print_num_iter))  \n",
    "print(next(print_num_iter))  \n",
    "print(next(print_num_iter))  \n",
    "\n",
    "# raises StopIteration\n",
    "print(next(print_num_iter))\n"
   ]
  },
  {
   "cell_type": "code",
   "execution_count": 153,
   "id": "79095e96",
   "metadata": {},
   "outputs": [
    {
     "name": "stdout",
     "output_type": "stream",
     "text": [
      "1\n",
      "2\n",
      "3\n"
     ]
    },
    {
     "ename": "StopIteration",
     "evalue": "",
     "output_type": "error",
     "traceback": [
      "\u001b[1;31m---------------------------------------------------------------------------\u001b[0m",
      "\u001b[1;31mStopIteration\u001b[0m                             Traceback (most recent call last)",
      "\u001b[1;32m<ipython-input-153-7a2d9b97ffb3>\u001b[0m in \u001b[0;36m<module>\u001b[1;34m\u001b[0m\n\u001b[0;32m     11\u001b[0m \u001b[0mprint\u001b[0m\u001b[1;33m(\u001b[0m\u001b[0mnext\u001b[0m\u001b[1;33m(\u001b[0m\u001b[0mprint_num_iter\u001b[0m\u001b[1;33m)\u001b[0m\u001b[1;33m)\u001b[0m\u001b[1;33m\u001b[0m\u001b[1;33m\u001b[0m\u001b[0m\n\u001b[0;32m     12\u001b[0m \u001b[1;31m# raises StopIteration\u001b[0m\u001b[1;33m\u001b[0m\u001b[1;33m\u001b[0m\u001b[1;33m\u001b[0m\u001b[0m\n\u001b[1;32m---> 13\u001b[1;33m \u001b[0mprint\u001b[0m\u001b[1;33m(\u001b[0m\u001b[0mnext\u001b[0m\u001b[1;33m(\u001b[0m\u001b[0mprint_num_iter\u001b[0m\u001b[1;33m)\u001b[0m\u001b[1;33m)\u001b[0m\u001b[1;33m\u001b[0m\u001b[1;33m\u001b[0m\u001b[0m\n\u001b[0m",
      "\u001b[1;32m<ipython-input-152-52276008919d>\u001b[0m in \u001b[0;36m__next__\u001b[1;34m(self)\u001b[0m\n\u001b[0;32m      9\u001b[0m     \u001b[1;32mdef\u001b[0m \u001b[0m__next__\u001b[0m\u001b[1;33m(\u001b[0m\u001b[0mself\u001b[0m\u001b[1;33m)\u001b[0m\u001b[1;33m:\u001b[0m\u001b[1;33m\u001b[0m\u001b[1;33m\u001b[0m\u001b[0m\n\u001b[0;32m     10\u001b[0m         \u001b[1;32mif\u001b[0m\u001b[1;33m(\u001b[0m\u001b[0mself\u001b[0m\u001b[1;33m.\u001b[0m\u001b[0mnum\u001b[0m \u001b[1;33m>=\u001b[0m \u001b[0mself\u001b[0m\u001b[1;33m.\u001b[0m\u001b[0mmax\u001b[0m\u001b[1;33m)\u001b[0m\u001b[1;33m:\u001b[0m\u001b[1;33m\u001b[0m\u001b[1;33m\u001b[0m\u001b[0m\n\u001b[1;32m---> 11\u001b[1;33m             \u001b[1;32mraise\u001b[0m \u001b[0mStopIteration\u001b[0m\u001b[1;33m\u001b[0m\u001b[1;33m\u001b[0m\u001b[0m\n\u001b[0m\u001b[0;32m     12\u001b[0m         \u001b[0mself\u001b[0m\u001b[1;33m.\u001b[0m\u001b[0mnum\u001b[0m \u001b[1;33m+=\u001b[0m \u001b[1;36m1\u001b[0m\u001b[1;33m\u001b[0m\u001b[1;33m\u001b[0m\u001b[0m\n\u001b[0;32m     13\u001b[0m         \u001b[1;32mreturn\u001b[0m \u001b[0mself\u001b[0m\u001b[1;33m.\u001b[0m\u001b[0mnum\u001b[0m\u001b[1;33m\u001b[0m\u001b[1;33m\u001b[0m\u001b[0m\n",
      "\u001b[1;31mStopIteration\u001b[0m: "
     ]
    }
   ],
   "source": [
    "s = \"sudh\"\n",
    "s1 = iter(s)\n",
    "next(s1)\n",
    "next(s1)\n",
    "\n",
    "print_num = PrintNumber(3)\n",
    "\n",
    "print_num_iter = iter(print_num)\n",
    "print(next(print_num_iter))  \n",
    "print(next(print_num_iter))  \n",
    "print(next(print_num_iter))  \n",
    "# raises StopIteration\n",
    "print(next(print_num_iter))\n"
   ]
  },
  {
   "cell_type": "code",
   "execution_count": 154,
   "id": "12e94f9a",
   "metadata": {},
   "outputs": [
    {
     "data": {
      "text/plain": [
       "{4: 'd', 1: 'a', 2: 'b', 3: 'c'}"
      ]
     },
     "execution_count": 154,
     "metadata": {},
     "output_type": "execute_result"
    }
   ],
   "source": [
    "x = {1:\"a\",2:\"b\",3:\"c\"}\n",
    "y = {4:\"d\"}\n",
    "def insertion_beginning(a,b):\n",
    "    b.update(a)\n",
    "    return b\n",
    "\n",
    "insertion_beginning(x, y)\n"
   ]
  },
  {
   "cell_type": "code",
   "execution_count": 155,
   "id": "fffc1c80",
   "metadata": {},
   "outputs": [
    {
     "data": {
      "text/plain": [
       "{1: 'a', 2: 'b', 3: 'c', 4: 'd'}"
      ]
     },
     "execution_count": 155,
     "metadata": {},
     "output_type": "execute_result"
    }
   ],
   "source": [
    "x = {1:\"a\",2:\"b\",3:\"c\"}\n",
    "y = {4:\"d\"}\n",
    "def insertion_end(a,b):\n",
    "    a.update(b)\n",
    "    return a\n",
    "\n",
    "insertion_end(x, y)\n"
   ]
  },
  {
   "cell_type": "code",
   "execution_count": 2,
   "id": "ae78f53c",
   "metadata": {},
   "outputs": [
    {
     "data": {
      "text/plain": [
       "[[1, 2], (3+4j), [3], [5], [], [7, 8], [9, 10]]"
      ]
     },
     "execution_count": 2,
     "metadata": {},
     "output_type": "execute_result"
    }
   ],
   "source": [
    "\"\"\"Remove str from the list\"\"\"\n",
    "l333=[[1, 2],\n",
    " (3+4j),\n",
    " [3, 'shubham', 'shubham'],\n",
    " [5, 'nandan'],\n",
    " ['srivastava'],\n",
    " [7, 8],\n",
    " [9, 10]]\n",
    "for i in l333:\n",
    "    if type(i)==list:\n",
    "        j=0\n",
    "        while j < len(i):\n",
    "            if type(i[j])==str:\n",
    "                i.remove(i[j])\n",
    "                continue\n",
    "                \n",
    "            j=j+1\n",
    "l333"
   ]
  },
  {
   "cell_type": "code",
   "execution_count": 157,
   "id": "86bc81bc",
   "metadata": {},
   "outputs": [
    {
     "name": "stdout",
     "output_type": "stream",
     "text": [
      "bar car\n",
      "100 200\n",
      "bar car\n",
      "bar car\n",
      "bar car\n",
      "100 200\n"
     ]
    }
   ],
   "source": [
    "# this works\n",
    "spam={'bar':100,'car':200}\n",
    "\n",
    "for cat1,cat2 in spam.keys(),spam.values():\n",
    "    print(cat1,cat2)\n",
    "\n",
    "# this works\n",
    "spam = {'bar': 100, 'car': 200}\n",
    "\n",
    "for cat1, cat2 in spam,spam.keys():# also works with spam,spam.value()\n",
    "    print(cat1, cat2)\n",
    "\n",
    "# this would not work\n",
    "\n",
    "spam = {'bar': 100, 'car': 200}\n",
    "\n",
    "for cat1, cat2 in spam.keys(), spam.values():# also works with spam,spam.value()\n",
    "    print(cat1, cat2)\n"
   ]
  },
  {
   "cell_type": "code",
   "execution_count": 158,
   "id": "c064d47d",
   "metadata": {},
   "outputs": [
    {
     "name": "stdout",
     "output_type": "stream",
     "text": [
      "bar\n",
      "car\n"
     ]
    }
   ],
   "source": [
    "for i in spam:\n",
    "    print(i)"
   ]
  },
  {
   "cell_type": "code",
   "execution_count": 159,
   "id": "5e527615",
   "metadata": {},
   "outputs": [],
   "source": [
    "def power(n0,powr):\n",
    "    \"\"\"\n",
    "    Power Function \n",
    "    \"\"\"\n",
    "    return int(n0) ** int(powr)\n",
    "\n",
    "def add(n0,n1):\n",
    "    \"\"\"\n",
    "    Addition Function\n",
    "    \"\"\"\n",
    "    return int(n0) + int(n1)\n",
    "\n",
    "def sub(n0,n1):\n",
    "    \"\"\"\n",
    "    Subtraction Function\n",
    "    \"\"\"\n",
    "    return int(n0) - int(n1)\n",
    "\n",
    "def mul(n0,n1):\n",
    "    \"\"\"\n",
    "    Multiplication Function\n",
    "    \"\"\"\n",
    "    return int(n0) * int(n1)\n",
    "\n",
    "def div(n0,n1):\n",
    "    \"\"\"\n",
    "    Divison Function\n",
    "    \"\"\"\n",
    "    try:\n",
    "        return int(n0) / int(n1)\n",
    "    except Exception as e:\n",
    "        return e.__class__\n"
   ]
  },
  {
   "cell_type": "code",
   "execution_count": 160,
   "id": "c3d65dee",
   "metadata": {},
   "outputs": [
    {
     "data": {
      "text/plain": [
       "32"
      ]
     },
     "execution_count": 160,
     "metadata": {},
     "output_type": "execute_result"
    }
   ],
   "source": [
    "power(2,5)"
   ]
  },
  {
   "cell_type": "code",
   "execution_count": 161,
   "id": "8d06d2ce",
   "metadata": {},
   "outputs": [
    {
     "data": {
      "text/plain": [
       "13"
      ]
     },
     "execution_count": 161,
     "metadata": {},
     "output_type": "execute_result"
    }
   ],
   "source": [
    "add(5,8)"
   ]
  },
  {
   "cell_type": "code",
   "execution_count": 162,
   "id": "334e4c96",
   "metadata": {},
   "outputs": [
    {
     "data": {
      "text/plain": [
       "6"
      ]
     },
     "execution_count": 162,
     "metadata": {},
     "output_type": "execute_result"
    }
   ],
   "source": [
    "sub(9,3)"
   ]
  },
  {
   "cell_type": "code",
   "execution_count": 163,
   "id": "025a27f4",
   "metadata": {},
   "outputs": [
    {
     "data": {
      "text/plain": [
       "ZeroDivisionError"
      ]
     },
     "execution_count": 163,
     "metadata": {},
     "output_type": "execute_result"
    }
   ],
   "source": [
    "div(4,0)"
   ]
  },
  {
   "cell_type": "code",
   "execution_count": 164,
   "id": "9fd1cc7b",
   "metadata": {},
   "outputs": [
    {
     "data": {
      "text/plain": [
       "4.0"
      ]
     },
     "execution_count": 164,
     "metadata": {},
     "output_type": "execute_result"
    }
   ],
   "source": [
    "div(8,2)"
   ]
  },
  {
   "cell_type": "code",
   "execution_count": 165,
   "id": "45ad9dc6",
   "metadata": {},
   "outputs": [],
   "source": [
    "def opr(function, n0, n1):\n",
    "    \"\"\"\n",
    "    This function is used to call builtin functions like power, add, sub, mul, div\n",
    "    Inputs are as follows function_name, Number 1 , Number 2\n",
    "    \"\"\"\n",
    "    try:\n",
    "        if(function == power or function == add or function == sub or function == mul or function == div):\n",
    "            return function(n0, n1)\n",
    "        elif (function == coc):\n",
    "            return \"check the function name\"\n",
    "    except NameError:\n",
    "        return NameError\n",
    "    except Exception as e1:    \n",
    "        return e1.__class__\n"
   ]
  },
  {
   "cell_type": "code",
   "execution_count": null,
   "id": "59aafb66",
   "metadata": {},
   "outputs": [],
   "source": [
    "opr(add, 8,8)"
   ]
  },
  {
   "cell_type": "code",
   "execution_count": null,
   "id": "6cdc06e8",
   "metadata": {},
   "outputs": [],
   "source": [
    "opr(power,4,3)"
   ]
  },
  {
   "cell_type": "code",
   "execution_count": null,
   "id": "827d181e",
   "metadata": {},
   "outputs": [],
   "source": [
    "opr(sub,8,3)"
   ]
  },
  {
   "cell_type": "code",
   "execution_count": null,
   "id": "50062ea9",
   "metadata": {},
   "outputs": [],
   "source": [
    "opr(div,9,2)"
   ]
  },
  {
   "cell_type": "code",
   "execution_count": null,
   "id": "dd06e565",
   "metadata": {},
   "outputs": [],
   "source": []
  },
  {
   "cell_type": "code",
   "execution_count": null,
   "id": "2bfb26aa",
   "metadata": {},
   "outputs": [],
   "source": [
    "\"\"\"Remove all values from nested dict and make seperate list\"\"\"\n",
    "l = []\n",
    "def test_nested_dict(d):\n",
    "\n",
    "      \n",
    "    for i in d:\n",
    "        if type(d[i]) == dict:\n",
    "            test_nested_dict(d[i])\n",
    "            \n",
    "        else:\n",
    "            l.append(d[i])\n",
    "\n",
    "    return l\n",
    "\n",
    "test_nested_dict({'x':0,'one':{'a':1,'b':2,'c':{'p':11,'q':22,'r':{'u':'UUUU','v':{'xx':90,'zz':'gyan'}\n",
    "                                                      }\n",
    "                                   }\n",
    "                        },\n",
    "                  'two':2222})\n"
   ]
  },
  {
   "cell_type": "code",
   "execution_count": null,
   "id": "58f43ad0",
   "metadata": {},
   "outputs": [],
   "source": [
    "try:\n",
    "        global l\n",
    "        if len(l) != 0:\n",
    "            pass\n",
    "except:\n",
    "        l=[]\n"
   ]
  },
  {
   "cell_type": "code",
   "execution_count": null,
   "id": "dd120ec0",
   "metadata": {},
   "outputs": [],
   "source": [
    "#l=[]\n",
    "def test_nested_dict(d):\n",
    "    try:\n",
    "        global l\n",
    "        if len(l)!=0:\n",
    "            pass\n",
    "    except:\n",
    "        l=[]\n",
    "        \n",
    "    for i in d:\n",
    "        if type(d[i])==dict:\n",
    "            test_nested_dict(d[i])\n",
    "            \n",
    "        else:\n",
    "            l.append(d[i])\n",
    "\n",
    "    #return l\n",
    "\n",
    "test_nested_dict({'x':0,\n",
    "                  'one':{'a':1,'b':2,\n",
    "                               'c':{'p':11,'q':22,'r':{'u':'UUUU',\n",
    "                                                       'v':{'xx':90,'zz':'gyan'}\n",
    "                                                      }\n",
    "                                   }\n",
    "                        },\n",
    "                  'two':2222})\n"
   ]
  },
  {
   "cell_type": "code",
   "execution_count": null,
   "id": "fd67443c",
   "metadata": {},
   "outputs": [
    {
     "name": "stdout",
     "output_type": "stream",
     "text": [
      "Enter the length of the dict3\n",
      "Enter the keys45\n"
     ]
    }
   ],
   "source": [
    "N= int(input(\"Enter the length of the dict\"))\n",
    "dict_var={}\n",
    "for i in range(1,N+1):\n",
    "    k = input(\"Enter the keys\")\n",
    "    v = input(\"Enter the values\")\n",
    "    dict_var[k]=v\n",
    "print(dict_var)\n"
   ]
  },
  {
   "cell_type": "code",
   "execution_count": 1,
   "id": "c5ff83ae",
   "metadata": {},
   "outputs": [
    {
     "name": "stdout",
     "output_type": "stream",
     "text": [
      "         * \n",
      "\n",
      "        * * \n",
      "\n",
      "       * * * \n",
      "\n",
      "      * * * * \n",
      "\n",
      "     * * * * * \n",
      "\n",
      "    * * * * * * \n",
      "\n",
      "   * * * * * * * \n",
      "\n",
      "  * * * * * * * * \n",
      "\n",
      " * * * * * * * * * \n",
      "\n",
      "* * * * * * * * * * \n",
      "\n"
     ]
    }
   ],
   "source": [
    "def Create_Triangle(row_num):\n",
    "    n= row_num\n",
    "    k = n - 1\n",
    "    \n",
    "    for i in range(0, n):\n",
    "\n",
    "        for j in range(0, k):\n",
    "            print(end=\" \")\n",
    "     \n",
    "        k = k - 1\n",
    "     \n",
    "        for j in range(0, i+1):        \n",
    "            print(\"* \", end=\"\")\n",
    "     \n",
    "        print(\"\\n\")\n",
    "\n",
    "Create_Triangle(10)\n"
   ]
  },
  {
   "cell_type": "code",
   "execution_count": 2,
   "id": "a03c35a9",
   "metadata": {},
   "outputs": [
    {
     "name": "stdout",
     "output_type": "stream",
     "text": [
      "                   * \n",
      "\n",
      "                  * * \n",
      "\n",
      "                 * * * \n",
      "\n",
      "                * * * * \n",
      "\n",
      "               * * * * * \n",
      "\n",
      "              * * * * * * \n",
      "\n",
      "             * * * * * * * \n",
      "\n",
      "            * * * * * * * * \n",
      "\n",
      "           * * * * * * * * * \n",
      "\n",
      "          * * * * * * * * * * \n",
      "\n",
      "         * * * * * * * * * * * \n",
      "\n",
      "        * * * * * * * * * * * * \n",
      "\n",
      "       * * * * * * * * * * * * * \n",
      "\n",
      "      * * * * * * * * * * * * * * \n",
      "\n",
      "     * * * * * * * * * * * * * * * \n",
      "\n",
      "    * * * * * * * * * * * * * * * * \n",
      "\n",
      "   * * * * * * * * * * * * * * * * * \n",
      "\n",
      "  * * * * * * * * * * * * * * * * * * \n",
      "\n",
      " * * * * * * * * * * * * * * * * * * * \n",
      "\n",
      "* * * * * * * * * * * * * * * * * * * * \n",
      "\n"
     ]
    }
   ],
   "source": [
    "Create_Triangle(20)"
   ]
  },
  {
   "cell_type": "code",
   "execution_count": 4,
   "id": "e14f32a4",
   "metadata": {},
   "outputs": [
    {
     "name": "stdout",
     "output_type": "stream",
     "text": [
      "* \n",
      "\n",
      "* * \n",
      "\n",
      "* * * \n",
      "\n",
      "* * * * \n",
      "\n",
      "* * * * * \n",
      "\n",
      "* * * * * * \n",
      "\n",
      "* * * * * * * \n",
      "\n",
      "* * * * * * * * \n",
      "\n",
      "* * * * * * * * * \n",
      "\n"
     ]
    }
   ],
   "source": [
    "def triangle (n):\n",
    "    if type(n) == int:\n",
    "        for i in range(1,n):\n",
    "            for j in range(i):\n",
    "                print(\"*\",end=\" \")\n",
    "            print(\"\\n\")\n",
    "triangle(10)"
   ]
  },
  {
   "cell_type": "code",
   "execution_count": 5,
   "id": "b7564480",
   "metadata": {},
   "outputs": [
    {
     "name": "stdout",
     "output_type": "stream",
     "text": [
      "*\r\n",
      "**\r\n",
      "***\r\n",
      "****\r\n",
      "*****\r\n",
      "******\r\n",
      "*******\r\n",
      "********\r\n",
      "*********\r\n",
      "**********\r\n",
      "***********\r\n",
      "************\r\n",
      "*************\r\n",
      "**************\r\n",
      "***************\r\n",
      "****************\r\n",
      "*****************\r\n",
      "******************\r\n",
      "*******************\r\n",
      "********************\r\n"
     ]
    }
   ],
   "source": [
    "def test10(n):\n",
    "    \"\"\"\n",
    "    this is a fun to create a tri \n",
    "    you can give input as an int \n",
    "    and you will be able to get output as a traingle \n",
    "    \"\"\"\n",
    "    for i in range(0,n):\n",
    "        for j in range (0, i+1):\n",
    "            print(\"*\", end = \"\")\n",
    "        print(\"\\r\")\n",
    "        \n",
    "        \n",
    "test10(20)"
   ]
  },
  {
   "cell_type": "code",
   "execution_count": 6,
   "id": "060f4f56",
   "metadata": {},
   "outputs": [
    {
     "name": "stdout",
     "output_type": "stream",
     "text": [
      "Help on function test10 in module __main__:\n",
      "\n",
      "test10(n)\n",
      "    this is a fun to create a tri \n",
      "    you can give input as an int \n",
      "    and you will be able to get output as a traingle\n",
      "\n"
     ]
    }
   ],
   "source": [
    "help(test10)"
   ]
  },
  {
   "cell_type": "code",
   "execution_count": 7,
   "id": "d06bb115",
   "metadata": {},
   "outputs": [
    {
     "name": "stdout",
     "output_type": "stream",
     "text": [
      "*\r\n",
      "**\r\n",
      "***\r\n",
      "****\r\n",
      "*****\r\n",
      "Help on NoneType object:\n",
      "\n",
      "class NoneType(object)\n",
      " |  Methods defined here:\n",
      " |  \n",
      " |  __bool__(self, /)\n",
      " |      self != 0\n",
      " |  \n",
      " |  __repr__(self, /)\n",
      " |      Return repr(self).\n",
      " |  \n",
      " |  ----------------------------------------------------------------------\n",
      " |  Static methods defined here:\n",
      " |  \n",
      " |  __new__(*args, **kwargs) from builtins.type\n",
      " |      Create and return a new object.  See help(type) for accurate signature.\n",
      "\n"
     ]
    }
   ],
   "source": [
    "help(test10(5))"
   ]
  },
  {
   "cell_type": "code",
   "execution_count": null,
   "id": "124dd8ca",
   "metadata": {},
   "outputs": [],
   "source": [
    "1 . you have to write a fun which will take string and return a len of \n",
    "it without using a inbuilt fun len\n",
    "2 . write a fun which will be able to print an index of all premitive element which you will pass \n",
    "3 . Write a fun which will take input as a dict and give me out as a list of all the values \n",
    "even in case of 2 level nesting it should work . \n",
    "4 . write a fun which will take another function as an input and return me an output \n",
    "5. write a function whihc will take multiple list as a input and give me concatnation of all the element as \n",
    "and output \n",
    "6 . write a function which will be able to take a list as an input return an index of each element \n",
    "like a inbuilt index function but even if we have repetative element it should return index \n",
    "7 . Write a function which will whould return list of all the file name from a directory . \n",
    "8  . write a function which will be able to show your system configuration . \n",
    "9 . write a function which will be able to show date and time  . \n",
    "10 . write a function whihc will be able to read a image file and show it to you .\n",
    "11 . write a function which can read video file and play for you . \n",
    "12  . write a function whihc can move a file from one directory to another directory . \n",
    "13 . write a function which will be able to shutdonw your system . \n",
    "14 . write a function whihc will be able to access your mail . \n",
    "15 . write a func by whcih i can send a mail to anyone \n",
    "16. write a func to read a complete PDf file . \n",
    "17. write a function to read a word file . \n",
    "18 . write a function which can help you to filter only word file from a directory . \n",
    "19 . write a function by which you can print an ip address of your system . \n",
    "20 . write a function by which you will be able to append two PDF files . "
   ]
  },
  {
   "cell_type": "code",
   "execution_count": null,
   "id": "1df0d140",
   "metadata": {},
   "outputs": [],
   "source": [
    "sudhanshu@ineuron.ai"
   ]
  }
 ],
 "metadata": {
  "kernelspec": {
   "display_name": "Python 3",
   "language": "python",
   "name": "python3"
  },
  "language_info": {
   "codemirror_mode": {
    "name": "ipython",
    "version": 3
   },
   "file_extension": ".py",
   "mimetype": "text/x-python",
   "name": "python",
   "nbconvert_exporter": "python",
   "pygments_lexer": "ipython3",
   "version": "3.9.13"
  }
 },
 "nbformat": 4,
 "nbformat_minor": 5
}
