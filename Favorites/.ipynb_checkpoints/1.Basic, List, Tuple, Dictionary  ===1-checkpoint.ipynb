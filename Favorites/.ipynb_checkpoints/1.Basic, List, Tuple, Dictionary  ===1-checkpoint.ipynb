{
 "cells": [
  {
   "cell_type": "code",
   "execution_count": null,
   "id": "ce04dadb",
   "metadata": {},
   "outputs": [],
   "source": [
    "print(\"hallo\")\n"
   ]
  },
  {
   "cell_type": "code",
   "execution_count": null,
   "id": "0a6f076a",
   "metadata": {},
   "outputs": [],
   "source": [
    "x = 100\n",
    "y = 200"
   ]
  },
  {
   "cell_type": "code",
   "execution_count": null,
   "id": "826efcc1",
   "metadata": {},
   "outputs": [],
   "source": [
    "x+y"
   ]
  },
  {
   "cell_type": "code",
   "execution_count": null,
   "id": "db439ef4",
   "metadata": {},
   "outputs": [],
   "source": [
    "x-y"
   ]
  },
  {
   "cell_type": "code",
   "execution_count": null,
   "id": "37e5af54",
   "metadata": {},
   "outputs": [],
   "source": [
    "x*y"
   ]
  },
  {
   "cell_type": "code",
   "execution_count": null,
   "id": "64874943",
   "metadata": {},
   "outputs": [],
   "source": [
    "x/y"
   ]
  },
  {
   "cell_type": "code",
   "execution_count": null,
   "id": "443ee176",
   "metadata": {},
   "outputs": [],
   "source": [
    "x+=y"
   ]
  },
  {
   "cell_type": "code",
   "execution_count": null,
   "id": "8957b64d",
   "metadata": {},
   "outputs": [],
   "source": [
    "x"
   ]
  },
  {
   "cell_type": "code",
   "execution_count": null,
   "id": "28e4c06c",
   "metadata": {},
   "outputs": [],
   "source": [
    "y"
   ]
  },
  {
   "cell_type": "code",
   "execution_count": null,
   "id": "4d5d43ff",
   "metadata": {},
   "outputs": [],
   "source": [
    "x-=y"
   ]
  },
  {
   "cell_type": "code",
   "execution_count": null,
   "id": "5ec791b7",
   "metadata": {},
   "outputs": [],
   "source": [
    "x"
   ]
  },
  {
   "cell_type": "code",
   "execution_count": null,
   "id": "ee8c24c7",
   "metadata": {},
   "outputs": [],
   "source": [
    "x*=y"
   ]
  },
  {
   "cell_type": "code",
   "execution_count": null,
   "id": "a0f0a2c4",
   "metadata": {},
   "outputs": [],
   "source": [
    "x"
   ]
  },
  {
   "cell_type": "code",
   "execution_count": null,
   "id": "daf36e2a",
   "metadata": {},
   "outputs": [],
   "source": [
    "x/=y"
   ]
  },
  {
   "cell_type": "code",
   "execution_count": null,
   "id": "5939214b",
   "metadata": {},
   "outputs": [],
   "source": [
    "x"
   ]
  },
  {
   "cell_type": "code",
   "execution_count": null,
   "id": "19248cd4",
   "metadata": {},
   "outputs": [],
   "source": [
    "id(x)"
   ]
  },
  {
   "cell_type": "code",
   "execution_count": null,
   "id": "8f6eff54",
   "metadata": {},
   "outputs": [],
   "source": [
    "id(y)"
   ]
  },
  {
   "cell_type": "code",
   "execution_count": null,
   "id": "7a63938a",
   "metadata": {},
   "outputs": [],
   "source": [
    "id(\"hello\")"
   ]
  },
  {
   "cell_type": "code",
   "execution_count": null,
   "id": "73b73421",
   "metadata": {},
   "outputs": [],
   "source": [
    "type(\"hello\")"
   ]
  },
  {
   "cell_type": "code",
   "execution_count": null,
   "id": "d211d20b",
   "metadata": {},
   "outputs": [],
   "source": [
    "type(x)"
   ]
  },
  {
   "cell_type": "code",
   "execution_count": null,
   "id": "5900310f",
   "metadata": {},
   "outputs": [],
   "source": [
    "type(y)"
   ]
  },
  {
   "cell_type": "code",
   "execution_count": null,
   "id": "f62e7e0a",
   "metadata": {},
   "outputs": [],
   "source": [
    "k =3+5j"
   ]
  },
  {
   "cell_type": "code",
   "execution_count": null,
   "id": "68c4c462",
   "metadata": {},
   "outputs": [],
   "source": [
    "type(k)"
   ]
  },
  {
   "cell_type": "code",
   "execution_count": null,
   "id": "53705452",
   "metadata": {},
   "outputs": [],
   "source": [
    "h = [1,2,3,4,5,6,7,8,9]"
   ]
  },
  {
   "cell_type": "code",
   "execution_count": null,
   "id": "a890d263",
   "metadata": {},
   "outputs": [],
   "source": [
    "type(h)"
   ]
  },
  {
   "cell_type": "code",
   "execution_count": null,
   "id": "c619458d",
   "metadata": {},
   "outputs": [],
   "source": [
    "j = (1,2,4,[1,2,3],\"sudh\",3+4j,35.46)"
   ]
  },
  {
   "cell_type": "code",
   "execution_count": null,
   "id": "8e5fab52",
   "metadata": {},
   "outputs": [],
   "source": [
    "type(j)"
   ]
  },
  {
   "cell_type": "code",
   "execution_count": null,
   "id": "663e6067",
   "metadata": {},
   "outputs": [],
   "source": [
    "j[0]"
   ]
  },
  {
   "cell_type": "code",
   "execution_count": null,
   "id": "66984423",
   "metadata": {},
   "outputs": [],
   "source": [
    "j[3]"
   ]
  },
  {
   "cell_type": "code",
   "execution_count": null,
   "id": "ca9df1d2",
   "metadata": {},
   "outputs": [],
   "source": [
    "j[4]"
   ]
  },
  {
   "cell_type": "code",
   "execution_count": null,
   "id": "6cca0bcd",
   "metadata": {},
   "outputs": [],
   "source": [
    "j[6]"
   ]
  },
  {
   "cell_type": "code",
   "execution_count": null,
   "id": "468e01d5",
   "metadata": {},
   "outputs": [],
   "source": [
    "c = \"478\""
   ]
  },
  {
   "cell_type": "code",
   "execution_count": null,
   "id": "60ebb26c",
   "metadata": {},
   "outputs": [],
   "source": [
    "type(c)"
   ]
  },
  {
   "cell_type": "code",
   "execution_count": null,
   "id": "6026cb4a",
   "metadata": {},
   "outputs": [],
   "source": [
    "i = int(c)"
   ]
  },
  {
   "cell_type": "code",
   "execution_count": null,
   "id": "5ec39d23",
   "metadata": {},
   "outputs": [],
   "source": [
    "type(i)"
   ]
  },
  {
   "cell_type": "code",
   "execution_count": null,
   "id": "ae6937d4",
   "metadata": {},
   "outputs": [],
   "source": [
    "i = (x,8)"
   ]
  },
  {
   "cell_type": "code",
   "execution_count": null,
   "id": "8362116d",
   "metadata": {},
   "outputs": [],
   "source": [
    "type(\"hallo\")"
   ]
  },
  {
   "cell_type": "code",
   "execution_count": null,
   "id": "94072cf4",
   "metadata": {},
   "outputs": [],
   "source": [
    "print(\"this is an integer\",100)"
   ]
  },
  {
   "cell_type": "code",
   "execution_count": null,
   "id": "e194e3ab",
   "metadata": {},
   "outputs": [],
   "source": [
    "print(\"this is an float, 1000.2545\")"
   ]
  },
  {
   "cell_type": "code",
   "execution_count": null,
   "id": "f7fff9d8",
   "metadata": {},
   "outputs": [],
   "source": [
    "print(\"this is ancomplex\",6+5j)"
   ]
  },
  {
   "cell_type": "code",
   "execution_count": null,
   "id": "bf5ff54f",
   "metadata": {},
   "outputs": [],
   "source": [
    "x = \"145\""
   ]
  },
  {
   "cell_type": "code",
   "execution_count": null,
   "id": "12e7957c",
   "metadata": {},
   "outputs": [],
   "source": [
    "type(x)"
   ]
  },
  {
   "cell_type": "code",
   "execution_count": null,
   "id": "83b5a115",
   "metadata": {},
   "outputs": [],
   "source": [
    "y =int(x)"
   ]
  },
  {
   "cell_type": "code",
   "execution_count": null,
   "id": "7de26bae",
   "metadata": {},
   "outputs": [],
   "source": [
    "type(y)"
   ]
  },
  {
   "cell_type": "code",
   "execution_count": null,
   "id": "6180a6de",
   "metadata": {},
   "outputs": [],
   "source": [
    "float(125)"
   ]
  },
  {
   "cell_type": "code",
   "execution_count": null,
   "id": "5c429936",
   "metadata": {},
   "outputs": [],
   "source": [
    "a =str(658)"
   ]
  },
  {
   "cell_type": "code",
   "execution_count": null,
   "id": "9f6fdbee",
   "metadata": {},
   "outputs": [],
   "source": [
    "type(a)"
   ]
  },
  {
   "cell_type": "code",
   "execution_count": null,
   "id": "8cc8a31f",
   "metadata": {},
   "outputs": [],
   "source": [
    "a"
   ]
  },
  {
   "cell_type": "code",
   "execution_count": null,
   "id": "80f8fd4d",
   "metadata": {},
   "outputs": [],
   "source": [
    "hex(688)"
   ]
  },
  {
   "cell_type": "code",
   "execution_count": null,
   "id": "5e6fc1d9",
   "metadata": {},
   "outputs": [],
   "source": [
    "oct(688)"
   ]
  },
  {
   "cell_type": "code",
   "execution_count": null,
   "id": "c69ce532",
   "metadata": {},
   "outputs": [],
   "source": [
    "type(\"random\")"
   ]
  },
  {
   "cell_type": "code",
   "execution_count": null,
   "id": "3dbaff19",
   "metadata": {},
   "outputs": [],
   "source": [
    "tuple(\"random\")"
   ]
  },
  {
   "cell_type": "code",
   "execution_count": null,
   "id": "06301d42",
   "metadata": {},
   "outputs": [],
   "source": [
    "list('random')"
   ]
  },
  {
   "cell_type": "code",
   "execution_count": null,
   "id": "a7e32bd2",
   "metadata": {},
   "outputs": [],
   "source": [
    "set('random')"
   ]
  },
  {
   "cell_type": "code",
   "execution_count": null,
   "id": "6d661e27",
   "metadata": {},
   "outputs": [],
   "source": [
    "reset('random')"
   ]
  },
  {
   "cell_type": "code",
   "execution_count": null,
   "id": "97e76ebe",
   "metadata": {},
   "outputs": [],
   "source": [
    "print(\"this is a string\")"
   ]
  },
  {
   "cell_type": "code",
   "execution_count": null,
   "id": "5bdcf322",
   "metadata": {},
   "outputs": [],
   "source": [
    "print(\"this is an also str\")"
   ]
  },
  {
   "cell_type": "code",
   "execution_count": null,
   "id": "d2522e35",
   "metadata": {},
   "outputs": [],
   "source": [
    "print(\"she said\", \"im hungry\")"
   ]
  },
  {
   "cell_type": "code",
   "execution_count": null,
   "id": "980ccd51",
   "metadata": {},
   "outputs": [],
   "source": [
    "print('she said, \"im hungry\"')"
   ]
  },
  {
   "cell_type": "code",
   "execution_count": null,
   "id": "d5578cca",
   "metadata": {},
   "outputs": [],
   "source": [
    "print(\"it's my birthday\")"
   ]
  },
  {
   "cell_type": "code",
   "execution_count": null,
   "id": "21b2a8f3",
   "metadata": {},
   "outputs": [],
   "source": [
    "print('it's my birthday')"
   ]
  },
  {
   "cell_type": "code",
   "execution_count": null,
   "id": "4b4a399a",
   "metadata": {},
   "outputs": [],
   "source": [
    "print('it\\'s my birthday')"
   ]
  },
  {
   "cell_type": "code",
   "execution_count": null,
   "id": "ed7db6d2",
   "metadata": {},
   "outputs": [],
   "source": [
    "print('there is a\\t space')"
   ]
  },
  {
   "cell_type": "code",
   "execution_count": null,
   "id": "b9153e3e",
   "metadata": {},
   "outputs": [],
   "source": [
    "print(\"first line.\\nsecond line\")"
   ]
  },
  {
   "cell_type": "code",
   "execution_count": null,
   "id": "c41d3768",
   "metadata": {},
   "outputs": [],
   "source": [
    "print('my name.\\nNamdeo patil')"
   ]
  },
  {
   "cell_type": "code",
   "execution_count": null,
   "id": "6a4a47c9",
   "metadata": {},
   "outputs": [],
   "source": [
    "print(\"it's my birthday\")"
   ]
  },
  {
   "cell_type": "code",
   "execution_count": null,
   "id": "17bb151b",
   "metadata": {},
   "outputs": [],
   "source": [
    "test =(\"random\")"
   ]
  },
  {
   "cell_type": "code",
   "execution_count": null,
   "id": "c91d317d",
   "metadata": {},
   "outputs": [],
   "source": [
    "t= test"
   ]
  },
  {
   "cell_type": "code",
   "execution_count": null,
   "id": "ee2a8ae9",
   "metadata": {},
   "outputs": [],
   "source": [
    "t"
   ]
  },
  {
   "cell_type": "code",
   "execution_count": null,
   "id": "f7da6faf",
   "metadata": {},
   "outputs": [],
   "source": [
    "t[0]"
   ]
  },
  {
   "cell_type": "code",
   "execution_count": null,
   "id": "9b5a20ad",
   "metadata": {},
   "outputs": [],
   "source": [
    "t[1]"
   ]
  },
  {
   "cell_type": "code",
   "execution_count": null,
   "id": "504370c4",
   "metadata": {},
   "outputs": [],
   "source": [
    "t[2]"
   ]
  },
  {
   "cell_type": "code",
   "execution_count": null,
   "id": "9ac80a0a",
   "metadata": {},
   "outputs": [],
   "source": [
    "t[3]"
   ]
  },
  {
   "cell_type": "code",
   "execution_count": null,
   "id": "0744cc39",
   "metadata": {},
   "outputs": [],
   "source": [
    "t[4]"
   ]
  },
  {
   "cell_type": "code",
   "execution_count": null,
   "id": "565f7003",
   "metadata": {},
   "outputs": [],
   "source": [
    "t[5]"
   ]
  },
  {
   "cell_type": "code",
   "execution_count": null,
   "id": "a7e47fbf",
   "metadata": {},
   "outputs": [],
   "source": [
    "y[6]"
   ]
  },
  {
   "cell_type": "code",
   "execution_count": null,
   "id": "3b5c9902",
   "metadata": {},
   "outputs": [],
   "source": [
    "print(test.index('d'))"
   ]
  },
  {
   "cell_type": "code",
   "execution_count": null,
   "id": "041dfd83",
   "metadata": {},
   "outputs": [],
   "source": [
    "print(t.index('d'))"
   ]
  },
  {
   "cell_type": "code",
   "execution_count": null,
   "id": "119959aa",
   "metadata": {},
   "outputs": [],
   "source": [
    "t.index('d')"
   ]
  },
  {
   "cell_type": "code",
   "execution_count": null,
   "id": "6a5cadec",
   "metadata": {},
   "outputs": [],
   "source": [
    "print(test[1:4])"
   ]
  },
  {
   "cell_type": "code",
   "execution_count": null,
   "id": "ad4c2c8d",
   "metadata": {},
   "outputs": [],
   "source": [
    "t[1:4]"
   ]
  },
  {
   "cell_type": "code",
   "execution_count": null,
   "id": "52352880",
   "metadata": {},
   "outputs": [],
   "source": [
    "t[1:3]"
   ]
  },
  {
   "cell_type": "code",
   "execution_count": null,
   "id": "7089f449",
   "metadata": {},
   "outputs": [],
   "source": [
    "t[1:5:1]"
   ]
  },
  {
   "cell_type": "code",
   "execution_count": null,
   "id": "db4cbdc5",
   "metadata": {},
   "outputs": [],
   "source": [
    "t[0:6:1]"
   ]
  },
  {
   "cell_type": "code",
   "execution_count": null,
   "id": "b0f4397d",
   "metadata": {},
   "outputs": [],
   "source": [
    "t[0:6:2]"
   ]
  },
  {
   "cell_type": "code",
   "execution_count": null,
   "id": "29d4815c",
   "metadata": {},
   "outputs": [],
   "source": [
    "t[0:6:-1]"
   ]
  },
  {
   "cell_type": "code",
   "execution_count": null,
   "id": "2726e780",
   "metadata": {},
   "outputs": [],
   "source": [
    "t[-5]"
   ]
  },
  {
   "cell_type": "code",
   "execution_count": null,
   "id": "fb2d8fbd",
   "metadata": {},
   "outputs": [],
   "source": [
    "t[+3]"
   ]
  },
  {
   "cell_type": "code",
   "execution_count": null,
   "id": "faa1598e",
   "metadata": {},
   "outputs": [],
   "source": [
    "t[-4]"
   ]
  },
  {
   "cell_type": "code",
   "execution_count": null,
   "id": "2457fbca",
   "metadata": {},
   "outputs": [],
   "source": [
    "t[-2]"
   ]
  },
  {
   "cell_type": "code",
   "execution_count": null,
   "id": "97547274",
   "metadata": {},
   "outputs": [],
   "source": [
    "t[3:]"
   ]
  },
  {
   "cell_type": "code",
   "execution_count": null,
   "id": "2fdc5431",
   "metadata": {},
   "outputs": [],
   "source": [
    "t[:5]"
   ]
  },
  {
   "cell_type": "code",
   "execution_count": null,
   "id": "612fac76",
   "metadata": {},
   "outputs": [],
   "source": [
    "t[0:6:2]"
   ]
  },
  {
   "cell_type": "code",
   "execution_count": null,
   "id": "a478b55e",
   "metadata": {},
   "outputs": [],
   "source": [
    "t[-1]"
   ]
  },
  {
   "cell_type": "code",
   "execution_count": null,
   "id": "d09f7536",
   "metadata": {},
   "outputs": [],
   "source": [
    "t[-3]"
   ]
  },
  {
   "cell_type": "code",
   "execution_count": null,
   "id": "ab3c445d",
   "metadata": {},
   "outputs": [],
   "source": [
    "test = \"UPPERlower\""
   ]
  },
  {
   "cell_type": "code",
   "execution_count": null,
   "id": "f522e2a6",
   "metadata": {},
   "outputs": [],
   "source": [
    "t = \"UPPERlower\""
   ]
  },
  {
   "cell_type": "code",
   "execution_count": null,
   "id": "2e7ba7d6",
   "metadata": {},
   "outputs": [],
   "source": [
    "print(test.upper()),print(test.lower())"
   ]
  },
  {
   "cell_type": "code",
   "execution_count": null,
   "id": "00c450e7",
   "metadata": {},
   "outputs": [],
   "source": [
    "print(t.upper()),print(t.lower())"
   ]
  },
  {
   "cell_type": "code",
   "execution_count": null,
   "id": "b7948b12",
   "metadata": {},
   "outputs": [],
   "source": [
    "test = \"hallo world nice\"\n",
    "sliced = test.split(\",\")\n",
    "slice"
   ]
  },
  {
   "cell_type": "code",
   "execution_count": null,
   "id": "54d86477",
   "metadata": {},
   "outputs": [],
   "source": [
    "test = \"hallo world nice\"\n",
    "sliced = test.split(\",\")"
   ]
  },
  {
   "cell_type": "code",
   "execution_count": null,
   "id": "fd2e12e1",
   "metadata": {},
   "outputs": [],
   "source": [
    "test"
   ]
  },
  {
   "cell_type": "code",
   "execution_count": null,
   "id": "1e7a8bca",
   "metadata": {},
   "outputs": [],
   "source": [
    "sliced"
   ]
  },
  {
   "cell_type": "code",
   "execution_count": null,
   "id": "03e52946",
   "metadata": {},
   "outputs": [],
   "source": [
    "a = [1,2,3,4]\n",
    "b = [2,3,4,5]\n",
    "a is b"
   ]
  },
  {
   "cell_type": "code",
   "execution_count": null,
   "id": "4620f815",
   "metadata": {},
   "outputs": [],
   "source": [
    "a==b"
   ]
  },
  {
   "cell_type": "code",
   "execution_count": null,
   "id": "21170be0",
   "metadata": {},
   "outputs": [],
   "source": [
    "a != b"
   ]
  },
  {
   "cell_type": "code",
   "execution_count": null,
   "id": "7b02b5e8",
   "metadata": {},
   "outputs": [],
   "source": [
    "a = [1,2,3,4,5,\"string\"]"
   ]
  },
  {
   "cell_type": "code",
   "execution_count": null,
   "id": "f4ec54fa",
   "metadata": {},
   "outputs": [],
   "source": [
    "a = [1,2,3,4,[5,6,7,8]]"
   ]
  },
  {
   "cell_type": "code",
   "execution_count": null,
   "id": "406a32aa",
   "metadata": {},
   "outputs": [],
   "source": [
    "a = [1,2,3,4,5]"
   ]
  },
  {
   "cell_type": "code",
   "execution_count": null,
   "id": "24b41b65",
   "metadata": {},
   "outputs": [],
   "source": [
    "a[4]"
   ]
  },
  {
   "cell_type": "code",
   "execution_count": null,
   "id": "f069f284",
   "metadata": {},
   "outputs": [],
   "source": [
    "a[::4]"
   ]
  },
  {
   "cell_type": "code",
   "execution_count": null,
   "id": "0f28dd0d",
   "metadata": {},
   "outputs": [],
   "source": [
    "a[0:5:2]"
   ]
  },
  {
   "cell_type": "code",
   "execution_count": null,
   "id": "c8e76b72",
   "metadata": {},
   "outputs": [],
   "source": [
    "a[-1]"
   ]
  },
  {
   "cell_type": "code",
   "execution_count": null,
   "id": "9b4763ae",
   "metadata": {},
   "outputs": [],
   "source": [
    "a[0:5:-1]"
   ]
  },
  {
   "cell_type": "code",
   "execution_count": null,
   "id": "4b50ea04",
   "metadata": {},
   "outputs": [],
   "source": [
    "a[-5]"
   ]
  },
  {
   "cell_type": "code",
   "execution_count": null,
   "id": "24d03f72",
   "metadata": {},
   "outputs": [],
   "source": [
    "a[::-1]"
   ]
  },
  {
   "cell_type": "code",
   "execution_count": null,
   "id": "4b0b3e3f",
   "metadata": {},
   "outputs": [],
   "source": [
    "a[::-2]"
   ]
  },
  {
   "cell_type": "code",
   "execution_count": null,
   "id": "342501de",
   "metadata": {},
   "outputs": [],
   "source": [
    "a[::-3]"
   ]
  },
  {
   "cell_type": "code",
   "execution_count": null,
   "id": "0df8132c",
   "metadata": {},
   "outputs": [],
   "source": [
    "y = a + [6,7,8,9]"
   ]
  },
  {
   "cell_type": "code",
   "execution_count": null,
   "id": "0aba7ef0",
   "metadata": {},
   "outputs": [],
   "source": [
    "y"
   ]
  },
  {
   "cell_type": "code",
   "execution_count": null,
   "id": "82a900f0",
   "metadata": {},
   "outputs": [],
   "source": [
    "[0]+ a"
   ]
  },
  {
   "cell_type": "code",
   "execution_count": null,
   "id": "8afd8018",
   "metadata": {},
   "outputs": [],
   "source": [
    "[0] + y"
   ]
  },
  {
   "cell_type": "code",
   "execution_count": null,
   "id": "398d126f",
   "metadata": {},
   "outputs": [],
   "source": [
    "a*2"
   ]
  },
  {
   "cell_type": "code",
   "execution_count": null,
   "id": "3e2637c1",
   "metadata": {},
   "outputs": [],
   "source": [
    "a*3"
   ]
  },
  {
   "cell_type": "code",
   "execution_count": null,
   "id": "046a87db",
   "metadata": {},
   "outputs": [],
   "source": [
    "a*4"
   ]
  },
  {
   "cell_type": "code",
   "execution_count": null,
   "id": "dc645b75",
   "metadata": {},
   "outputs": [],
   "source": [
    "b = [\"egg\",\"apple\",\"carrot\",1,2,3,4,5]"
   ]
  },
  {
   "cell_type": "code",
   "execution_count": null,
   "id": "827389d3",
   "metadata": {},
   "outputs": [],
   "source": [
    "b[0] = \"mango\""
   ]
  },
  {
   "cell_type": "code",
   "execution_count": null,
   "id": "819c1411",
   "metadata": {},
   "outputs": [],
   "source": [
    "b"
   ]
  },
  {
   "cell_type": "code",
   "execution_count": null,
   "id": "18738e80",
   "metadata": {},
   "outputs": [],
   "source": [
    "b[0:4] = [\"kiwi\",\"orrange\",\"sponge\",1]"
   ]
  },
  {
   "cell_type": "code",
   "execution_count": null,
   "id": "3b360a44",
   "metadata": {},
   "outputs": [],
   "source": [
    "b"
   ]
  },
  {
   "cell_type": "code",
   "execution_count": null,
   "id": "0a1f3efb",
   "metadata": {},
   "outputs": [],
   "source": [
    "b[0:3] = [\"wine\"]\n",
    "b"
   ]
  },
  {
   "cell_type": "code",
   "execution_count": null,
   "id": "2664d13e",
   "metadata": {},
   "outputs": [],
   "source": [
    "b[0] = [\"bar\", \"ball\", \"club\"]"
   ]
  },
  {
   "cell_type": "code",
   "execution_count": null,
   "id": "c0b12ab1",
   "metadata": {},
   "outputs": [],
   "source": [
    "b"
   ]
  },
  {
   "cell_type": "code",
   "execution_count": null,
   "id": "16b34868",
   "metadata": {},
   "outputs": [],
   "source": [
    "a = [1,2,3]"
   ]
  },
  {
   "cell_type": "code",
   "execution_count": null,
   "id": "7dcda593",
   "metadata": {},
   "outputs": [],
   "source": [
    "a.append(4)"
   ]
  },
  {
   "cell_type": "code",
   "execution_count": null,
   "id": "f83d9638",
   "metadata": {},
   "outputs": [],
   "source": [
    "a"
   ]
  },
  {
   "cell_type": "code",
   "execution_count": null,
   "id": "e1bea375",
   "metadata": {},
   "outputs": [],
   "source": [
    "a.append(str)"
   ]
  },
  {
   "cell_type": "code",
   "execution_count": null,
   "id": "9596c4ff",
   "metadata": {},
   "outputs": [],
   "source": [
    "a"
   ]
  },
  {
   "cell_type": "code",
   "execution_count": null,
   "id": "6c451e28",
   "metadata": {},
   "outputs": [],
   "source": [
    "a.append([5,6,7,8,9])\n",
    "a"
   ]
  },
  {
   "cell_type": "code",
   "execution_count": null,
   "id": "b5da9e18",
   "metadata": {},
   "outputs": [],
   "source": [
    "a.extend([7,8,9])\n",
    "a"
   ]
  },
  {
   "cell_type": "code",
   "execution_count": null,
   "id": "5ef2c63f",
   "metadata": {},
   "outputs": [],
   "source": [
    "a.extend(\"name\")\n",
    "a"
   ]
  },
  {
   "cell_type": "code",
   "execution_count": null,
   "id": "dfc0383e",
   "metadata": {},
   "outputs": [],
   "source": [
    "a.remove(8)"
   ]
  },
  {
   "cell_type": "code",
   "execution_count": null,
   "id": "58d1f6f3",
   "metadata": {},
   "outputs": [],
   "source": [
    "a"
   ]
  },
  {
   "cell_type": "code",
   "execution_count": null,
   "id": "5c83bac3",
   "metadata": {},
   "outputs": [],
   "source": [
    "a.remove('n')"
   ]
  },
  {
   "cell_type": "code",
   "execution_count": null,
   "id": "dc9a2f15",
   "metadata": {},
   "outputs": [],
   "source": [
    "a"
   ]
  },
  {
   "cell_type": "code",
   "execution_count": null,
   "id": "861237a3",
   "metadata": {},
   "outputs": [],
   "source": [
    "a.remove(str)"
   ]
  },
  {
   "cell_type": "code",
   "execution_count": null,
   "id": "a2437401",
   "metadata": {},
   "outputs": [],
   "source": [
    "a"
   ]
  },
  {
   "cell_type": "code",
   "execution_count": null,
   "id": "7b56044b",
   "metadata": {},
   "outputs": [],
   "source": [
    "a.extend('n')"
   ]
  },
  {
   "cell_type": "code",
   "execution_count": null,
   "id": "4b0d3164",
   "metadata": {},
   "outputs": [],
   "source": [
    "a"
   ]
  },
  {
   "cell_type": "code",
   "execution_count": null,
   "id": "5c266929",
   "metadata": {},
   "outputs": [],
   "source": [
    "a.pop(4)"
   ]
  },
  {
   "cell_type": "code",
   "execution_count": null,
   "id": "7f90ce5f",
   "metadata": {},
   "outputs": [],
   "source": [
    "a"
   ]
  },
  {
   "cell_type": "code",
   "execution_count": null,
   "id": "3351569f",
   "metadata": {},
   "outputs": [],
   "source": [
    "a.pop(6)"
   ]
  },
  {
   "cell_type": "code",
   "execution_count": null,
   "id": "665c90ae",
   "metadata": {},
   "outputs": [],
   "source": [
    "a"
   ]
  },
  {
   "cell_type": "code",
   "execution_count": null,
   "id": "1145509d",
   "metadata": {},
   "outputs": [],
   "source": [
    "a.pop(6)"
   ]
  },
  {
   "cell_type": "code",
   "execution_count": null,
   "id": "a4bb6a00",
   "metadata": {},
   "outputs": [],
   "source": [
    "a"
   ]
  },
  {
   "cell_type": "code",
   "execution_count": null,
   "id": "61f5a2e7",
   "metadata": {},
   "outputs": [],
   "source": [
    "a.remove('e')"
   ]
  },
  {
   "cell_type": "code",
   "execution_count": null,
   "id": "cb57a64b",
   "metadata": {},
   "outputs": [],
   "source": [
    "a"
   ]
  },
  {
   "cell_type": "code",
   "execution_count": null,
   "id": "4a9e5543",
   "metadata": {},
   "outputs": [],
   "source": [
    "a.remove(\"n\")"
   ]
  },
  {
   "cell_type": "code",
   "execution_count": null,
   "id": "4228b049",
   "metadata": {},
   "outputs": [],
   "source": [
    "a"
   ]
  },
  {
   "cell_type": "code",
   "execution_count": null,
   "id": "5b9f05f8",
   "metadata": {},
   "outputs": [],
   "source": [
    "a.pop(5)"
   ]
  },
  {
   "cell_type": "code",
   "execution_count": null,
   "id": "b91c0fb7",
   "metadata": {},
   "outputs": [],
   "source": [
    "a"
   ]
  },
  {
   "cell_type": "code",
   "execution_count": null,
   "id": "ecefb4ed",
   "metadata": {},
   "outputs": [],
   "source": [
    "a.append([11,12,13,14,15])"
   ]
  },
  {
   "cell_type": "code",
   "execution_count": null,
   "id": "4ec704c8",
   "metadata": {},
   "outputs": [],
   "source": [
    "a"
   ]
  },
  {
   "cell_type": "code",
   "execution_count": null,
   "id": "2d33a24b",
   "metadata": {},
   "outputs": [],
   "source": [
    "a.extend([17,18,19,20])"
   ]
  },
  {
   "cell_type": "code",
   "execution_count": null,
   "id": "a286e0ea",
   "metadata": {},
   "outputs": [],
   "source": [
    "a                  # we perform twice thats why double ans shown"
   ]
  },
  {
   "cell_type": "code",
   "execution_count": null,
   "id": "6345a5bb",
   "metadata": {},
   "outputs": [],
   "source": [
    "#pop will consider digit(0,1,2,3,4...)\n",
    "#remove will consider character/word/variable('n',8,'h'...)\n",
    "#append will add variable/list at the end and shown in square bracket ([1,2,3,4])\n",
    "#extend will add the variable at any position of list and it not shown any square bracket"
   ]
  },
  {
   "cell_type": "code",
   "execution_count": null,
   "id": "0a8a3d45",
   "metadata": {},
   "outputs": [],
   "source": [
    "t = (1,2,3,4,5)"
   ]
  },
  {
   "cell_type": "code",
   "execution_count": null,
   "id": "dd44a962",
   "metadata": {},
   "outputs": [],
   "source": [
    "t[0]"
   ]
  },
  {
   "cell_type": "code",
   "execution_count": null,
   "id": "4b956e6b",
   "metadata": {},
   "outputs": [],
   "source": [
    "t[1]"
   ]
  },
  {
   "cell_type": "code",
   "execution_count": null,
   "id": "0dcb654e",
   "metadata": {},
   "outputs": [],
   "source": [
    "t[4]"
   ]
  },
  {
   "cell_type": "code",
   "execution_count": null,
   "id": "59069c30",
   "metadata": {},
   "outputs": [],
   "source": [
    "t[1:3]"
   ]
  },
  {
   "cell_type": "code",
   "execution_count": null,
   "id": "43b56bb2",
   "metadata": {},
   "outputs": [],
   "source": [
    "t[::-1]"
   ]
  },
  {
   "cell_type": "code",
   "execution_count": null,
   "id": "9e48f900",
   "metadata": {},
   "outputs": [],
   "source": [
    "t[1:4:3]"
   ]
  },
  {
   "cell_type": "code",
   "execution_count": null,
   "id": "2ce0e002",
   "metadata": {},
   "outputs": [],
   "source": [
    "t[:4:2]"
   ]
  },
  {
   "cell_type": "code",
   "execution_count": null,
   "id": "8221f1f1",
   "metadata": {},
   "outputs": [],
   "source": [
    "t[:2:]"
   ]
  },
  {
   "cell_type": "code",
   "execution_count": null,
   "id": "f4a241df",
   "metadata": {},
   "outputs": [],
   "source": [
    "t[0:]"
   ]
  },
  {
   "cell_type": "code",
   "execution_count": null,
   "id": "a4ca4250",
   "metadata": {},
   "outputs": [],
   "source": [
    "t  =(1,2,3,4,5)"
   ]
  },
  {
   "cell_type": "code",
   "execution_count": null,
   "id": "e02885dc",
   "metadata": {},
   "outputs": [],
   "source": [
    "(a,b,c,d,e) =t"
   ]
  },
  {
   "cell_type": "code",
   "execution_count": null,
   "id": "6a702408",
   "metadata": {},
   "outputs": [],
   "source": [
    "a"
   ]
  },
  {
   "cell_type": "code",
   "execution_count": null,
   "id": "22201c95",
   "metadata": {},
   "outputs": [],
   "source": [
    "b"
   ]
  },
  {
   "cell_type": "code",
   "execution_count": null,
   "id": "140cf4e1",
   "metadata": {},
   "outputs": [],
   "source": [
    "c"
   ]
  },
  {
   "cell_type": "code",
   "execution_count": null,
   "id": "915bca7e",
   "metadata": {},
   "outputs": [],
   "source": [
    "d"
   ]
  },
  {
   "cell_type": "code",
   "execution_count": null,
   "id": "9b63e564",
   "metadata": {},
   "outputs": [],
   "source": [
    "e"
   ]
  },
  {
   "cell_type": "code",
   "execution_count": null,
   "id": "d1e22f26",
   "metadata": {},
   "outputs": [],
   "source": [
    "a,b"
   ]
  },
  {
   "cell_type": "code",
   "execution_count": null,
   "id": "e3546dd1",
   "metadata": {},
   "outputs": [],
   "source": [
    "b,a"
   ]
  },
  {
   "cell_type": "code",
   "execution_count": null,
   "id": "f61a2771",
   "metadata": {},
   "outputs": [],
   "source": [
    "a,c,b"
   ]
  },
  {
   "cell_type": "code",
   "execution_count": null,
   "id": "4a7bc0df",
   "metadata": {},
   "outputs": [],
   "source": [
    "a+b"
   ]
  },
  {
   "cell_type": "code",
   "execution_count": null,
   "id": "7ceda725",
   "metadata": {},
   "outputs": [],
   "source": [
    "a-b"
   ]
  },
  {
   "cell_type": "code",
   "execution_count": null,
   "id": "67caf8ff",
   "metadata": {},
   "outputs": [],
   "source": [
    "a*e"
   ]
  },
  {
   "cell_type": "code",
   "execution_count": null,
   "id": "cd71444f",
   "metadata": {},
   "outputs": [],
   "source": [
    "t = (1,2,3,4,5,6)"
   ]
  },
  {
   "cell_type": "code",
   "execution_count": null,
   "id": "3792e24f",
   "metadata": {},
   "outputs": [],
   "source": [
    "type(t)"
   ]
  },
  {
   "cell_type": "code",
   "execution_count": null,
   "id": "f717bde4",
   "metadata": {},
   "outputs": [],
   "source": [
    "t1 = (\"sudh\",345,25.35,3+4j, True)"
   ]
  },
  {
   "cell_type": "code",
   "execution_count": null,
   "id": "7896d8cc",
   "metadata": {},
   "outputs": [],
   "source": [
    "l = [\"sudh\",345,25.35,3+4j, True]"
   ]
  },
  {
   "cell_type": "code",
   "execution_count": null,
   "id": "6abd7da0",
   "metadata": {},
   "outputs": [],
   "source": [
    "type(t1)"
   ]
  },
  {
   "cell_type": "code",
   "execution_count": null,
   "id": "d8b474c4",
   "metadata": {},
   "outputs": [],
   "source": [
    "type(l)"
   ]
  },
  {
   "cell_type": "code",
   "execution_count": null,
   "id": "edd8339c",
   "metadata": {},
   "outputs": [],
   "source": [
    "t1"
   ]
  },
  {
   "cell_type": "code",
   "execution_count": null,
   "id": "401644e3",
   "metadata": {},
   "outputs": [],
   "source": [
    "l"
   ]
  },
  {
   "cell_type": "code",
   "execution_count": null,
   "id": "205e0814",
   "metadata": {},
   "outputs": [],
   "source": [
    "l[0:2]"
   ]
  },
  {
   "cell_type": "code",
   "execution_count": null,
   "id": "2c0dce02",
   "metadata": {},
   "outputs": [],
   "source": [
    "t1[0:2]"
   ]
  },
  {
   "cell_type": "code",
   "execution_count": null,
   "id": "ed8c5222",
   "metadata": {},
   "outputs": [],
   "source": [
    "t1[::-1]"
   ]
  },
  {
   "cell_type": "code",
   "execution_count": null,
   "id": "83f8f1b7",
   "metadata": {},
   "outputs": [],
   "source": [
    "t1[-1]"
   ]
  },
  {
   "cell_type": "code",
   "execution_count": null,
   "id": "2a3164a3",
   "metadata": {},
   "outputs": [],
   "source": [
    "t1"
   ]
  },
  {
   "cell_type": "code",
   "execution_count": null,
   "id": "c374dd67",
   "metadata": {},
   "outputs": [],
   "source": [
    "t1[::-2]"
   ]
  },
  {
   "cell_type": "code",
   "execution_count": null,
   "id": "cf5dd8e9",
   "metadata": {},
   "outputs": [],
   "source": [
    "t1[::2]"
   ]
  },
  {
   "cell_type": "code",
   "execution_count": null,
   "id": "0c22efc9",
   "metadata": {},
   "outputs": [],
   "source": [
    "l"
   ]
  },
  {
   "cell_type": "code",
   "execution_count": null,
   "id": "d8a79d4f",
   "metadata": {},
   "outputs": [],
   "source": [
    "l1 = [4,5,6,7,8,9]"
   ]
  },
  {
   "cell_type": "code",
   "execution_count": null,
   "id": "23e1f242",
   "metadata": {},
   "outputs": [],
   "source": [
    "l[0] = \"kumar\""
   ]
  },
  {
   "cell_type": "code",
   "execution_count": null,
   "id": "6b30dd2d",
   "metadata": {},
   "outputs": [],
   "source": [
    "l"
   ]
  },
  {
   "cell_type": "code",
   "execution_count": null,
   "id": "00641fdf",
   "metadata": {},
   "outputs": [],
   "source": [
    "t1"
   ]
  },
  {
   "cell_type": "code",
   "execution_count": null,
   "id": "882977fb",
   "metadata": {},
   "outputs": [],
   "source": [
    "t1[0] = \"kumar\""
   ]
  },
  {
   "cell_type": "code",
   "execution_count": null,
   "id": "c2db50b2",
   "metadata": {},
   "outputs": [],
   "source": [
    "s = \"sudh\""
   ]
  },
  {
   "cell_type": "code",
   "execution_count": null,
   "id": "43f28250",
   "metadata": {},
   "outputs": [],
   "source": [
    "s[0]"
   ]
  },
  {
   "cell_type": "code",
   "execution_count": null,
   "id": "2cb46a8b",
   "metadata": {},
   "outputs": [],
   "source": [
    "s[0]= 45"
   ]
  },
  {
   "cell_type": "code",
   "execution_count": null,
   "id": "f9c1d10b",
   "metadata": {},
   "outputs": [],
   "source": [
    "l1"
   ]
  },
  {
   "cell_type": "code",
   "execution_count": null,
   "id": "3f1b20e3",
   "metadata": {},
   "outputs": [],
   "source": [
    "t1"
   ]
  },
  {
   "cell_type": "code",
   "execution_count": null,
   "id": "ee6d0ca5",
   "metadata": {},
   "outputs": [],
   "source": [
    "l"
   ]
  },
  {
   "cell_type": "code",
   "execution_count": null,
   "id": "09ec44a4",
   "metadata": {},
   "outputs": [],
   "source": [
    "t2 = (12,13,14,15,16,17)"
   ]
  },
  {
   "cell_type": "code",
   "execution_count": null,
   "id": "f203b6fb",
   "metadata": {},
   "outputs": [],
   "source": [
    "t1+t2"
   ]
  },
  {
   "cell_type": "code",
   "execution_count": null,
   "id": "cd5a4653",
   "metadata": {},
   "outputs": [],
   "source": [
    "l +l1"
   ]
  },
  {
   "cell_type": "code",
   "execution_count": null,
   "id": "f32b5fdf",
   "metadata": {},
   "outputs": [],
   "source": [
    "t1"
   ]
  },
  {
   "cell_type": "code",
   "execution_count": null,
   "id": "dcba74a0",
   "metadata": {},
   "outputs": [],
   "source": [
    "t1*2"
   ]
  },
  {
   "cell_type": "code",
   "execution_count": null,
   "id": "cc7b0a3f",
   "metadata": {},
   "outputs": [],
   "source": [
    "t1.count(\"sudh\")"
   ]
  },
  {
   "cell_type": "code",
   "execution_count": null,
   "id": "ff2cefb1",
   "metadata": {},
   "outputs": [],
   "source": [
    "t1.count(True)"
   ]
  },
  {
   "cell_type": "code",
   "execution_count": null,
   "id": "0c60dd0c",
   "metadata": {},
   "outputs": [],
   "source": [
    "t1.index(True)"
   ]
  },
  {
   "cell_type": "code",
   "execution_count": null,
   "id": "f49e6f69",
   "metadata": {},
   "outputs": [],
   "source": [
    "t1.index(3+4j)"
   ]
  },
  {
   "cell_type": "code",
   "execution_count": null,
   "id": "9e18cc74",
   "metadata": {},
   "outputs": [],
   "source": [
    "t = (45,46,56,78,89,45,(42,65,78),(\"sudh\"))"
   ]
  },
  {
   "cell_type": "code",
   "execution_count": null,
   "id": "3b4b0bfa",
   "metadata": {},
   "outputs": [],
   "source": [
    "t"
   ]
  },
  {
   "cell_type": "code",
   "execution_count": null,
   "id": "2b4a5291",
   "metadata": {},
   "outputs": [],
   "source": [
    "t1 = ([1,2,3,4],(\"sd\",45.23),\"used\")"
   ]
  },
  {
   "cell_type": "code",
   "execution_count": null,
   "id": "99f17f78",
   "metadata": {},
   "outputs": [],
   "source": [
    "t1"
   ]
  },
  {
   "cell_type": "code",
   "execution_count": null,
   "id": "df0dc488",
   "metadata": {},
   "outputs": [],
   "source": [
    "t1[2]"
   ]
  },
  {
   "cell_type": "code",
   "execution_count": null,
   "id": "e5143468",
   "metadata": {},
   "outputs": [],
   "source": [
    "t1[2][3]"
   ]
  },
  {
   "cell_type": "code",
   "execution_count": null,
   "id": "a501f32d",
   "metadata": {},
   "outputs": [],
   "source": [
    "t1[0][2]"
   ]
  },
  {
   "cell_type": "code",
   "execution_count": null,
   "id": "9611ba1f",
   "metadata": {},
   "outputs": [],
   "source": [
    "t1[0][1] = \"Namdeo\""
   ]
  },
  {
   "cell_type": "code",
   "execution_count": null,
   "id": "c2e304f0",
   "metadata": {},
   "outputs": [],
   "source": [
    "t1"
   ]
  },
  {
   "cell_type": "code",
   "execution_count": null,
   "id": "cddf7b2c",
   "metadata": {},
   "outputs": [],
   "source": [
    "t1[2]"
   ]
  },
  {
   "cell_type": "code",
   "execution_count": null,
   "id": "03251c67",
   "metadata": {},
   "outputs": [],
   "source": [
    "t = (12,13,14,15,16,17)"
   ]
  },
  {
   "cell_type": "code",
   "execution_count": null,
   "id": "22a6da34",
   "metadata": {},
   "outputs": [],
   "source": [
    "list(t)"
   ]
  },
  {
   "cell_type": "code",
   "execution_count": null,
   "id": "a5bfea27",
   "metadata": {},
   "outputs": [],
   "source": [
    "l = list(t)"
   ]
  },
  {
   "cell_type": "code",
   "execution_count": null,
   "id": "c5498594",
   "metadata": {},
   "outputs": [],
   "source": [
    "tuple(l)"
   ]
  },
  {
   "cell_type": "code",
   "execution_count": null,
   "id": "1eb8759f",
   "metadata": {},
   "outputs": [],
   "source": [
    "l = [1,1,2,2,2,3,3,4,5,6,4,2,1,3,5,7,8,8,9,6,5,8,9,7,4,5,3]"
   ]
  },
  {
   "cell_type": "code",
   "execution_count": null,
   "id": "a785a904",
   "metadata": {},
   "outputs": [],
   "source": [
    "set(l)"
   ]
  },
  {
   "cell_type": "code",
   "execution_count": null,
   "id": "ab090b7a",
   "metadata": {},
   "outputs": [],
   "source": [
    "s ={}"
   ]
  },
  {
   "cell_type": "code",
   "execution_count": null,
   "id": "ad7d4e8b",
   "metadata": {},
   "outputs": [],
   "source": [
    "type(s)"
   ]
  },
  {
   "cell_type": "code",
   "execution_count": null,
   "id": "64eb9a61",
   "metadata": {},
   "outputs": [],
   "source": [
    "s1 = {1,2,3}"
   ]
  },
  {
   "cell_type": "code",
   "execution_count": null,
   "id": "1fbaa73d",
   "metadata": {},
   "outputs": [],
   "source": [
    "type(s1)"
   ]
  },
  {
   "cell_type": "code",
   "execution_count": 1,
   "id": "dd232131",
   "metadata": {},
   "outputs": [],
   "source": [
    "s = {1,2,3,1,2,3,4,5,6,4,5,6,7,8,9,7,8,9,1,2,3,4,5,6,7,8,9}"
   ]
  },
  {
   "cell_type": "code",
   "execution_count": 2,
   "id": "377ab5e9",
   "metadata": {},
   "outputs": [
    {
     "data": {
      "text/plain": [
       "{1, 2, 3, 4, 5, 6, 7, 8, 9}"
      ]
     },
     "execution_count": 2,
     "metadata": {},
     "output_type": "execute_result"
    }
   ],
   "source": [
    "s"
   ]
  },
  {
   "cell_type": "code",
   "execution_count": 3,
   "id": "7b3038a5",
   "metadata": {},
   "outputs": [
    {
     "data": {
      "text/plain": [
       "[1, 2, 3, 4, 5, 6, 7, 8, 9]"
      ]
     },
     "execution_count": 3,
     "metadata": {},
     "output_type": "execute_result"
    }
   ],
   "source": [
    "list(s)"
   ]
  },
  {
   "cell_type": "code",
   "execution_count": 4,
   "id": "54706864",
   "metadata": {},
   "outputs": [
    {
     "data": {
      "text/plain": [
       "{1, 2, 3, 4, 5, 6, 7, 8, 9}"
      ]
     },
     "execution_count": 4,
     "metadata": {},
     "output_type": "execute_result"
    }
   ],
   "source": [
    "s"
   ]
  },
  {
   "cell_type": "code",
   "execution_count": 5,
   "id": "18a824e5",
   "metadata": {},
   "outputs": [],
   "source": [
    "s.add(\"sudh\")"
   ]
  },
  {
   "cell_type": "code",
   "execution_count": 6,
   "id": "59d342db",
   "metadata": {},
   "outputs": [
    {
     "data": {
      "text/plain": [
       "{1, 2, 3, 4, 5, 6, 7, 8, 9, 'sudh'}"
      ]
     },
     "execution_count": 6,
     "metadata": {},
     "output_type": "execute_result"
    }
   ],
   "source": [
    "s"
   ]
  },
  {
   "cell_type": "code",
   "execution_count": 7,
   "id": "2a820761",
   "metadata": {},
   "outputs": [
    {
     "ename": "TypeError",
     "evalue": "'set' object does not support item assignment",
     "output_type": "error",
     "traceback": [
      "\u001b[1;31m---------------------------------------------------------------------------\u001b[0m",
      "\u001b[1;31mTypeError\u001b[0m                                 Traceback (most recent call last)",
      "\u001b[1;32m<ipython-input-7-1b3e4167c13e>\u001b[0m in \u001b[0;36m<module>\u001b[1;34m\u001b[0m\n\u001b[1;32m----> 1\u001b[1;33m \u001b[0ms\u001b[0m\u001b[1;33m[\u001b[0m\u001b[1;36m10\u001b[0m\u001b[1;33m]\u001b[0m \u001b[1;33m=\u001b[0m \u001b[1;36m10\u001b[0m\u001b[1;33m\u001b[0m\u001b[1;33m\u001b[0m\u001b[0m\n\u001b[0m",
      "\u001b[1;31mTypeError\u001b[0m: 'set' object does not support item assignment"
     ]
    }
   ],
   "source": [
    "s[10] = 10"
   ]
  },
  {
   "cell_type": "code",
   "execution_count": 8,
   "id": "db4fcbc2",
   "metadata": {},
   "outputs": [
    {
     "ename": "TypeError",
     "evalue": "'set' object is not subscriptable",
     "output_type": "error",
     "traceback": [
      "\u001b[1;31m---------------------------------------------------------------------------\u001b[0m",
      "\u001b[1;31mTypeError\u001b[0m                                 Traceback (most recent call last)",
      "\u001b[1;32m<ipython-input-8-7d435d838f87>\u001b[0m in \u001b[0;36m<module>\u001b[1;34m\u001b[0m\n\u001b[1;32m----> 1\u001b[1;33m \u001b[0ms\u001b[0m\u001b[1;33m[\u001b[0m\u001b[1;36m10\u001b[0m\u001b[1;33m]\u001b[0m\u001b[1;33m[\u001b[0m\u001b[1;36m2\u001b[0m\u001b[1;33m]\u001b[0m\u001b[1;33m\u001b[0m\u001b[1;33m\u001b[0m\u001b[0m\n\u001b[0m",
      "\u001b[1;31mTypeError\u001b[0m: 'set' object is not subscriptable"
     ]
    }
   ],
   "source": [
    "s[10][2]"
   ]
  },
  {
   "cell_type": "code",
   "execution_count": 9,
   "id": "add5fc13",
   "metadata": {},
   "outputs": [
    {
     "data": {
      "text/plain": [
       "{1, 2, 3, 4, 4554, 5, 6, 7, 8, 9, 'sudh'}"
      ]
     },
     "execution_count": 9,
     "metadata": {},
     "output_type": "execute_result"
    }
   ],
   "source": [
    "s.add(4554)\n",
    "s"
   ]
  },
  {
   "cell_type": "code",
   "execution_count": 10,
   "id": "6d95fe19",
   "metadata": {},
   "outputs": [
    {
     "data": {
      "text/plain": [
       "{1, 10, 2, 3, 4, 4554, 5, 6, 7, 8, 9, 'sudh'}"
      ]
     },
     "execution_count": 10,
     "metadata": {},
     "output_type": "execute_result"
    }
   ],
   "source": [
    "s.add(10)\n",
    "s"
   ]
  },
  {
   "cell_type": "code",
   "execution_count": 12,
   "id": "3bda6844",
   "metadata": {},
   "outputs": [
    {
     "ename": "TypeError",
     "evalue": "add() takes exactly one argument (4 given)",
     "output_type": "error",
     "traceback": [
      "\u001b[1;31m---------------------------------------------------------------------------\u001b[0m",
      "\u001b[1;31mTypeError\u001b[0m                                 Traceback (most recent call last)",
      "\u001b[1;32m<ipython-input-12-e3137494848d>\u001b[0m in \u001b[0;36m<module>\u001b[1;34m\u001b[0m\n\u001b[1;32m----> 1\u001b[1;33m \u001b[0ms\u001b[0m\u001b[1;33m.\u001b[0m\u001b[0madd\u001b[0m\u001b[1;33m(\u001b[0m\u001b[1;36m3\u001b[0m\u001b[1;33m,\u001b[0m\u001b[1;36m4\u001b[0m\u001b[1;33m,\u001b[0m\u001b[1;36m5\u001b[0m\u001b[1;33m,\u001b[0m\u001b[1;36m6\u001b[0m\u001b[1;33m)\u001b[0m\u001b[1;33m\u001b[0m\u001b[1;33m\u001b[0m\u001b[0m\n\u001b[0m",
      "\u001b[1;31mTypeError\u001b[0m: add() takes exactly one argument (4 given)"
     ]
    }
   ],
   "source": [
    "s.add(3,4,5,6)"
   ]
  },
  {
   "cell_type": "code",
   "execution_count": 13,
   "id": "db130085",
   "metadata": {},
   "outputs": [
    {
     "ename": "TypeError",
     "evalue": "unhashable type: 'list'",
     "output_type": "error",
     "traceback": [
      "\u001b[1;31m---------------------------------------------------------------------------\u001b[0m",
      "\u001b[1;31mTypeError\u001b[0m                                 Traceback (most recent call last)",
      "\u001b[1;32m<ipython-input-13-dc55516666c7>\u001b[0m in \u001b[0;36m<module>\u001b[1;34m\u001b[0m\n\u001b[1;32m----> 1\u001b[1;33m \u001b[0ms\u001b[0m\u001b[1;33m.\u001b[0m\u001b[0madd\u001b[0m\u001b[1;33m(\u001b[0m\u001b[1;33m[\u001b[0m\u001b[1;36m3\u001b[0m\u001b[1;33m,\u001b[0m\u001b[1;36m4\u001b[0m\u001b[1;33m,\u001b[0m\u001b[1;36m5\u001b[0m\u001b[1;33m,\u001b[0m\u001b[1;36m6\u001b[0m\u001b[1;33m]\u001b[0m\u001b[1;33m)\u001b[0m\u001b[1;33m\u001b[0m\u001b[1;33m\u001b[0m\u001b[0m\n\u001b[0m",
      "\u001b[1;31mTypeError\u001b[0m: unhashable type: 'list'"
     ]
    }
   ],
   "source": [
    "s.add([3,4,5,6])"
   ]
  },
  {
   "cell_type": "code",
   "execution_count": 20,
   "id": "812b5b62",
   "metadata": {},
   "outputs": [],
   "source": [
    "s = {(3,4,5,6),2,4,5,3,1,(3,1,2,3,4),(4,2,3,5,6)}"
   ]
  },
  {
   "cell_type": "code",
   "execution_count": 21,
   "id": "3e238df0",
   "metadata": {},
   "outputs": [
    {
     "data": {
      "text/plain": [
       "{(3, 1, 2, 3, 4), (3, 4, 5, 6), (4, 2, 3, 5, 6), 1, 2, 3, 4, 5}"
      ]
     },
     "execution_count": 21,
     "metadata": {},
     "output_type": "execute_result"
    }
   ],
   "source": [
    "s"
   ]
  },
  {
   "cell_type": "code",
   "execution_count": 22,
   "id": "bd58997c",
   "metadata": {},
   "outputs": [],
   "source": [
    "s.remove(4)"
   ]
  },
  {
   "cell_type": "code",
   "execution_count": 23,
   "id": "b434126c",
   "metadata": {},
   "outputs": [
    {
     "data": {
      "text/plain": [
       "{(3, 1, 2, 3, 4), (3, 4, 5, 6), (4, 2, 3, 5, 6), 1, 2, 3, 5}"
      ]
     },
     "execution_count": 23,
     "metadata": {},
     "output_type": "execute_result"
    }
   ],
   "source": [
    "s               # it will arrange in a proper sequence"
   ]
  },
  {
   "cell_type": "code",
   "execution_count": 26,
   "id": "2536de85",
   "metadata": {},
   "outputs": [
    {
     "ename": "TypeError",
     "evalue": "remove() takes exactly one argument (4 given)",
     "output_type": "error",
     "traceback": [
      "\u001b[1;31m---------------------------------------------------------------------------\u001b[0m",
      "\u001b[1;31mTypeError\u001b[0m                                 Traceback (most recent call last)",
      "\u001b[1;32m<ipython-input-26-861d122ddb08>\u001b[0m in \u001b[0;36m<module>\u001b[1;34m\u001b[0m\n\u001b[1;32m----> 1\u001b[1;33m \u001b[0ms\u001b[0m\u001b[1;33m.\u001b[0m\u001b[0mremove\u001b[0m\u001b[1;33m(\u001b[0m\u001b[1;36m3\u001b[0m\u001b[1;33m,\u001b[0m\u001b[1;36m4\u001b[0m\u001b[1;33m,\u001b[0m\u001b[1;36m5\u001b[0m\u001b[1;33m,\u001b[0m\u001b[1;36m6\u001b[0m\u001b[1;33m)\u001b[0m\u001b[1;33m\u001b[0m\u001b[1;33m\u001b[0m\u001b[0m\n\u001b[0m\u001b[0;32m      2\u001b[0m \u001b[0ms\u001b[0m\u001b[1;33m\u001b[0m\u001b[1;33m\u001b[0m\u001b[0m\n",
      "\u001b[1;31mTypeError\u001b[0m: remove() takes exactly one argument (4 given)"
     ]
    }
   ],
   "source": [
    "s.remove(3,4,5,6)\n",
    "s"
   ]
  },
  {
   "cell_type": "code",
   "execution_count": 27,
   "id": "c7f32e85",
   "metadata": {},
   "outputs": [
    {
     "data": {
      "text/plain": [
       "{(3, 1, 2, 3, 4), (3, 4, 5, 6), (4, 2, 3, 5, 6), 1, 3, 5}"
      ]
     },
     "execution_count": 27,
     "metadata": {},
     "output_type": "execute_result"
    }
   ],
   "source": [
    "s.remove(2)\n",
    "s"
   ]
  },
  {
   "cell_type": "code",
   "execution_count": 29,
   "id": "e58c95a9",
   "metadata": {},
   "outputs": [
    {
     "data": {
      "text/plain": [
       "{(3, 1, 2, 3, 4), (3, 4, 5, 6), (4, 2, 3, 5, 6), 1, 3}"
      ]
     },
     "execution_count": 29,
     "metadata": {},
     "output_type": "execute_result"
    }
   ],
   "source": [
    "s.discard(5)\n",
    "s"
   ]
  },
  {
   "cell_type": "code",
   "execution_count": 31,
   "id": "e0baa185",
   "metadata": {},
   "outputs": [
    {
     "data": {
      "text/plain": [
       "{(3, 1, 2, 3, 4), (3, 4, 5, 6), (4, 2, 3, 5, 6)}"
      ]
     },
     "execution_count": 31,
     "metadata": {},
     "output_type": "execute_result"
    }
   ],
   "source": [
    "s.discard(1)\n",
    "s.remove(3)\n",
    "s"
   ]
  },
  {
   "cell_type": "code",
   "execution_count": 37,
   "id": "34afbfdd",
   "metadata": {},
   "outputs": [
    {
     "data": {
      "text/plain": [
       "{(3, 1, 2, 3, 4), (3, 4, 5, 6), (4, 2, 3, 5, 6)}"
      ]
     },
     "execution_count": 37,
     "metadata": {},
     "output_type": "execute_result"
    }
   ],
   "source": [
    "s.discard(6)    # no one variable discarded inside the bracket\n",
    "s                #But for remove function it will shown error"
   ]
  },
  {
   "cell_type": "code",
   "execution_count": 38,
   "id": "1f4363bc",
   "metadata": {},
   "outputs": [
    {
     "ename": "KeyError",
     "evalue": "6",
     "output_type": "error",
     "traceback": [
      "\u001b[1;31m---------------------------------------------------------------------------\u001b[0m",
      "\u001b[1;31mKeyError\u001b[0m                                  Traceback (most recent call last)",
      "\u001b[1;32m<ipython-input-38-be348464a590>\u001b[0m in \u001b[0;36m<module>\u001b[1;34m\u001b[0m\n\u001b[1;32m----> 1\u001b[1;33m \u001b[0ms\u001b[0m\u001b[1;33m.\u001b[0m\u001b[0mremove\u001b[0m\u001b[1;33m(\u001b[0m\u001b[1;36m6\u001b[0m\u001b[1;33m)\u001b[0m\u001b[1;33m\u001b[0m\u001b[1;33m\u001b[0m\u001b[0m\n\u001b[0m\u001b[0;32m      2\u001b[0m \u001b[0ms\u001b[0m\u001b[1;33m\u001b[0m\u001b[1;33m\u001b[0m\u001b[0m\n",
      "\u001b[1;31mKeyError\u001b[0m: 6"
     ]
    }
   ],
   "source": [
    "s.remove(6)\n",
    "s"
   ]
  },
  {
   "cell_type": "code",
   "execution_count": 41,
   "id": "caa3412d",
   "metadata": {},
   "outputs": [
    {
     "data": {
      "text/plain": [
       "{1, 2, 3, 4, 5, 6, 7, 8, 9, 'sudh'}"
      ]
     },
     "execution_count": 41,
     "metadata": {},
     "output_type": "execute_result"
    }
   ],
   "source": [
    "s = {1,2,3,4,5,6,7,8,9,\"sudh\", \"sudh\"}\n",
    "s"
   ]
  },
  {
   "cell_type": "code",
   "execution_count": 42,
   "id": "7dbec681",
   "metadata": {},
   "outputs": [],
   "source": [
    "l = [9,8,7,6,5,4,3,2,1]"
   ]
  },
  {
   "cell_type": "code",
   "execution_count": 43,
   "id": "3c6e0f51",
   "metadata": {},
   "outputs": [
    {
     "data": {
      "text/plain": [
       "{1, 2, 3, 4, 5, 6, 7, 8, 9}"
      ]
     },
     "execution_count": 43,
     "metadata": {},
     "output_type": "execute_result"
    }
   ],
   "source": [
    "set(l)"
   ]
  },
  {
   "cell_type": "code",
   "execution_count": 44,
   "id": "809b43ed",
   "metadata": {},
   "outputs": [
    {
     "data": {
      "text/plain": [
       "dict"
      ]
     },
     "execution_count": 44,
     "metadata": {},
     "output_type": "execute_result"
    }
   ],
   "source": [
    "d = {}\n",
    "type(d)"
   ]
  },
  {
   "cell_type": "code",
   "execution_count": 46,
   "id": "fe9314ed",
   "metadata": {},
   "outputs": [
    {
     "data": {
      "text/plain": [
       "set"
      ]
     },
     "execution_count": 46,
     "metadata": {},
     "output_type": "execute_result"
    }
   ],
   "source": [
    "d = {1,2,3}      #inside dict required keys and values\n",
    "type(d)"
   ]
  },
  {
   "cell_type": "code",
   "execution_count": 47,
   "id": "4aca7727",
   "metadata": {},
   "outputs": [],
   "source": [
    "d = {\"key1\":4545,\"key2\":\"sudh\",\"key3\":[1,2,3]}"
   ]
  },
  {
   "cell_type": "code",
   "execution_count": 48,
   "id": "40059a51",
   "metadata": {},
   "outputs": [
    {
     "data": {
      "text/plain": [
       "{'key1': 4545, 'key2': 'sudh', 'key3': [1, 2, 3]}"
      ]
     },
     "execution_count": 48,
     "metadata": {},
     "output_type": "execute_result"
    }
   ],
   "source": [
    "d"
   ]
  },
  {
   "cell_type": "code",
   "execution_count": 49,
   "id": "32626eaa",
   "metadata": {},
   "outputs": [],
   "source": [
    "l = [3,4,5,6,7,8,9]"
   ]
  },
  {
   "cell_type": "code",
   "execution_count": 50,
   "id": "57b5524d",
   "metadata": {},
   "outputs": [
    {
     "data": {
      "text/plain": [
       "3"
      ]
     },
     "execution_count": 50,
     "metadata": {},
     "output_type": "execute_result"
    }
   ],
   "source": [
    "l[0]"
   ]
  },
  {
   "cell_type": "code",
   "execution_count": 51,
   "id": "0f7cf8b0",
   "metadata": {},
   "outputs": [
    {
     "data": {
      "text/plain": [
       "6"
      ]
     },
     "execution_count": 51,
     "metadata": {},
     "output_type": "execute_result"
    }
   ],
   "source": [
    "l[3]"
   ]
  },
  {
   "cell_type": "code",
   "execution_count": 54,
   "id": "71db1e14",
   "metadata": {},
   "outputs": [
    {
     "data": {
      "text/plain": [
       "4545"
      ]
     },
     "execution_count": 54,
     "metadata": {},
     "output_type": "execute_result"
    }
   ],
   "source": [
    "d[\"key1\"]"
   ]
  },
  {
   "cell_type": "code",
   "execution_count": 57,
   "id": "24888cc2",
   "metadata": {},
   "outputs": [
    {
     "ename": "KeyError",
     "evalue": "'value'",
     "output_type": "error",
     "traceback": [
      "\u001b[1;31m---------------------------------------------------------------------------\u001b[0m",
      "\u001b[1;31mKeyError\u001b[0m                                  Traceback (most recent call last)",
      "\u001b[1;32m<ipython-input-57-ae937c33f074>\u001b[0m in \u001b[0;36m<module>\u001b[1;34m\u001b[0m\n\u001b[1;32m----> 1\u001b[1;33m \u001b[0md\u001b[0m\u001b[1;33m[\u001b[0m\u001b[1;34m\"value\"\u001b[0m\u001b[1;33m]\u001b[0m\u001b[1;33m\u001b[0m\u001b[1;33m\u001b[0m\u001b[0m\n\u001b[0m",
      "\u001b[1;31mKeyError\u001b[0m: 'value'"
     ]
    }
   ],
   "source": [
    "d[\"value\"]"
   ]
  },
  {
   "cell_type": "code",
   "execution_count": null,
   "id": "a4bd345e",
   "metadata": {},
   "outputs": [],
   "source": []
  },
  {
   "cell_type": "code",
   "execution_count": null,
   "id": "7ec561a8",
   "metadata": {},
   "outputs": [],
   "source": []
  },
  {
   "cell_type": "code",
   "execution_count": null,
   "id": "c7301b0a",
   "metadata": {},
   "outputs": [],
   "source": []
  },
  {
   "cell_type": "code",
   "execution_count": null,
   "id": "2b20f183",
   "metadata": {},
   "outputs": [],
   "source": []
  },
  {
   "cell_type": "code",
   "execution_count": null,
   "id": "e6f64aac",
   "metadata": {},
   "outputs": [],
   "source": []
  },
  {
   "cell_type": "code",
   "execution_count": null,
   "id": "b19148da",
   "metadata": {},
   "outputs": [],
   "source": []
  },
  {
   "cell_type": "code",
   "execution_count": null,
   "id": "29623e4d",
   "metadata": {},
   "outputs": [],
   "source": []
  },
  {
   "cell_type": "code",
   "execution_count": null,
   "id": "11ad5abc",
   "metadata": {},
   "outputs": [],
   "source": []
  },
  {
   "cell_type": "code",
   "execution_count": null,
   "id": "b8285430",
   "metadata": {},
   "outputs": [],
   "source": []
  },
  {
   "cell_type": "code",
   "execution_count": null,
   "id": "85e6b7a4",
   "metadata": {},
   "outputs": [],
   "source": []
  },
  {
   "cell_type": "code",
   "execution_count": null,
   "id": "660fa4e7",
   "metadata": {},
   "outputs": [],
   "source": []
  },
  {
   "cell_type": "code",
   "execution_count": null,
   "id": "a382e7bd",
   "metadata": {},
   "outputs": [],
   "source": []
  },
  {
   "cell_type": "code",
   "execution_count": null,
   "id": "825d4aa7",
   "metadata": {},
   "outputs": [],
   "source": []
  },
  {
   "cell_type": "code",
   "execution_count": null,
   "id": "b2438b2b",
   "metadata": {},
   "outputs": [],
   "source": []
  },
  {
   "cell_type": "code",
   "execution_count": null,
   "id": "926406fb",
   "metadata": {},
   "outputs": [],
   "source": []
  },
  {
   "cell_type": "code",
   "execution_count": null,
   "id": "9fcdcd1a",
   "metadata": {},
   "outputs": [],
   "source": [
    "d ={\"banana\":\"yellow\",\"apple\":\"red\",\"grapes\":\"green\"}"
   ]
  },
  {
   "cell_type": "code",
   "execution_count": null,
   "id": "8172349b",
   "metadata": {},
   "outputs": [],
   "source": [
    "d.keys()"
   ]
  },
  {
   "cell_type": "code",
   "execution_count": null,
   "id": "584a093f",
   "metadata": {},
   "outputs": [],
   "source": [
    "d.values()"
   ]
  },
  {
   "cell_type": "code",
   "execution_count": null,
   "id": "dd3639ca",
   "metadata": {},
   "outputs": [],
   "source": [
    "d"
   ]
  },
  {
   "cell_type": "code",
   "execution_count": null,
   "id": "e6c64e91",
   "metadata": {},
   "outputs": [],
   "source": [
    "d = {\"banana\":\"yellow\",\"banana\":\"green\"}"
   ]
  },
  {
   "cell_type": "code",
   "execution_count": null,
   "id": "43281df2",
   "metadata": {},
   "outputs": [],
   "source": [
    "d"
   ]
  },
  {
   "cell_type": "code",
   "execution_count": null,
   "id": "a52eaa7e",
   "metadata": {},
   "outputs": [],
   "source": [
    "d.keys()"
   ]
  },
  {
   "cell_type": "code",
   "execution_count": null,
   "id": "7c1474f9",
   "metadata": {},
   "outputs": [],
   "source": [
    "d.values"
   ]
  },
  {
   "cell_type": "code",
   "execution_count": null,
   "id": "78022b4a",
   "metadata": {},
   "outputs": [],
   "source": [
    "d.values()"
   ]
  },
  {
   "cell_type": "code",
   "execution_count": null,
   "id": "5c214434",
   "metadata": {},
   "outputs": [],
   "source": [
    "d = {\"banana\": \"green\",\"guava\":\"green\"}"
   ]
  },
  {
   "cell_type": "code",
   "execution_count": null,
   "id": "97d03cee",
   "metadata": {},
   "outputs": [],
   "source": [
    "d"
   ]
  },
  {
   "cell_type": "code",
   "execution_count": null,
   "id": "05e9d347",
   "metadata": {},
   "outputs": [],
   "source": [
    "d[\"banana\"]"
   ]
  },
  {
   "cell_type": "code",
   "execution_count": null,
   "id": "23bb67b3",
   "metadata": {},
   "outputs": [],
   "source": [
    "d[\"banana\"]= \"gold\""
   ]
  },
  {
   "cell_type": "code",
   "execution_count": null,
   "id": "1758c0b5",
   "metadata": {},
   "outputs": [],
   "source": [
    "d"
   ]
  },
  {
   "cell_type": "code",
   "execution_count": null,
   "id": "2b5db8b3",
   "metadata": {},
   "outputs": [],
   "source": [
    "d['watermelon'] = \"red\"\n",
    "d"
   ]
  },
  {
   "cell_type": "code",
   "execution_count": null,
   "id": "b9f24100",
   "metadata": {},
   "outputs": [],
   "source": [
    "d.append({\"kiwi\":\"blue\"})"
   ]
  },
  {
   "cell_type": "code",
   "execution_count": null,
   "id": "29cf14e0",
   "metadata": {},
   "outputs": [],
   "source": [
    "#inside dictionary we can't used append function "
   ]
  },
  {
   "cell_type": "code",
   "execution_count": null,
   "id": "ec2d2f23",
   "metadata": {},
   "outputs": [],
   "source": [
    "d"
   ]
  },
  {
   "cell_type": "code",
   "execution_count": null,
   "id": "9457b3d2",
   "metadata": {},
   "outputs": [],
   "source": [
    "d.get(\"grapes\")"
   ]
  },
  {
   "cell_type": "code",
   "execution_count": null,
   "id": "502f7d09",
   "metadata": {},
   "outputs": [],
   "source": [
    "d"
   ]
  },
  {
   "cell_type": "code",
   "execution_count": null,
   "id": "f2782452",
   "metadata": {},
   "outputs": [],
   "source": [
    "d.get(\"watermelon\")"
   ]
  },
  {
   "cell_type": "code",
   "execution_count": null,
   "id": "5ef17850",
   "metadata": {},
   "outputs": [],
   "source": [
    "d.get(\"banana\")"
   ]
  },
  {
   "cell_type": "code",
   "execution_count": null,
   "id": "4a6f2040",
   "metadata": {},
   "outputs": [],
   "source": [
    "d.get(\"guava\")"
   ]
  },
  {
   "cell_type": "code",
   "execution_count": null,
   "id": "08500cfc",
   "metadata": {},
   "outputs": [],
   "source": [
    "d.keys()"
   ]
  },
  {
   "cell_type": "code",
   "execution_count": null,
   "id": "8758a0fa",
   "metadata": {},
   "outputs": [],
   "source": [
    "d.values()"
   ]
  },
  {
   "cell_type": "code",
   "execution_count": null,
   "id": "a9ee736e",
   "metadata": {},
   "outputs": [],
   "source": [
    "d.get(\"banana\",\"watermelon\")"
   ]
  },
  {
   "cell_type": "code",
   "execution_count": null,
   "id": "9a590f2d",
   "metadata": {},
   "outputs": [],
   "source": [
    "d[\"banana\"]= \"yellow\""
   ]
  },
  {
   "cell_type": "code",
   "execution_count": null,
   "id": "d5ba12fa",
   "metadata": {},
   "outputs": [],
   "source": [
    "d"
   ]
  },
  {
   "cell_type": "code",
   "execution_count": null,
   "id": "4424b7ce",
   "metadata": {},
   "outputs": [],
   "source": [
    "#mathimatical operation"
   ]
  },
  {
   "cell_type": "code",
   "execution_count": null,
   "id": "65b8956c",
   "metadata": {},
   "outputs": [],
   "source": [
    "5+6"
   ]
  },
  {
   "cell_type": "code",
   "execution_count": null,
   "id": "2c1db415",
   "metadata": {},
   "outputs": [],
   "source": [
    "5*8"
   ]
  },
  {
   "cell_type": "code",
   "execution_count": null,
   "id": "1dd02fab",
   "metadata": {},
   "outputs": [],
   "source": [
    "8/2"
   ]
  },
  {
   "cell_type": "code",
   "execution_count": null,
   "id": "d6ac16bd",
   "metadata": {},
   "outputs": [],
   "source": [
    "9//2"
   ]
  },
  {
   "cell_type": "code",
   "execution_count": null,
   "id": "858234df",
   "metadata": {},
   "outputs": [],
   "source": [
    "9/2"
   ]
  },
  {
   "cell_type": "code",
   "execution_count": null,
   "id": "983e115b",
   "metadata": {},
   "outputs": [],
   "source": [
    "6**3"
   ]
  },
  {
   "cell_type": "code",
   "execution_count": null,
   "id": "c93066ba",
   "metadata": {},
   "outputs": [],
   "source": [
    "5**2"
   ]
  },
  {
   "cell_type": "code",
   "execution_count": null,
   "id": "2ee56321",
   "metadata": {},
   "outputs": [],
   "source": [
    "7%3                          #\"a%\"b\" this function shows the reminder values."
   ]
  },
  {
   "cell_type": "code",
   "execution_count": null,
   "id": "8034714c",
   "metadata": {},
   "outputs": [],
   "source": [
    "8%2"
   ]
  },
  {
   "cell_type": "code",
   "execution_count": null,
   "id": "8ab7d0f2",
   "metadata": {},
   "outputs": [],
   "source": [
    "5+6"
   ]
  },
  {
   "cell_type": "code",
   "execution_count": null,
   "id": "36a6059f",
   "metadata": {},
   "outputs": [],
   "source": [
    "a = 5\n",
    "b = 4\n",
    "c = 8\n",
    "a+c-b"
   ]
  },
  {
   "cell_type": "code",
   "execution_count": null,
   "id": "25d465f0",
   "metadata": {},
   "outputs": [],
   "source": [
    "a/c"
   ]
  },
  {
   "cell_type": "code",
   "execution_count": null,
   "id": "f2c7d318",
   "metadata": {},
   "outputs": [],
   "source": [
    "[a+c/b+a]"
   ]
  },
  {
   "cell_type": "code",
   "execution_count": null,
   "id": "07d00b54",
   "metadata": {},
   "outputs": [],
   "source": [
    "c/a+b*b"
   ]
  },
  {
   "cell_type": "code",
   "execution_count": null,
   "id": "f6e715eb",
   "metadata": {},
   "outputs": [],
   "source": [
    "a = True\n",
    "b = False\n",
    "a and b              # boolen function AND & OR."
   ]
  },
  {
   "cell_type": "code",
   "execution_count": null,
   "id": "6fa2a5f0",
   "metadata": {},
   "outputs": [],
   "source": [
    "a or b"
   ]
  },
  {
   "cell_type": "code",
   "execution_count": null,
   "id": "e212574e",
   "metadata": {},
   "outputs": [],
   "source": [
    "a =1\n",
    "b =1\n",
    "a and b"
   ]
  },
  {
   "cell_type": "code",
   "execution_count": null,
   "id": "f78b0cca",
   "metadata": {},
   "outputs": [],
   "source": [
    "a or b"
   ]
  },
  {
   "cell_type": "code",
   "execution_count": null,
   "id": "3d10b0c9",
   "metadata": {},
   "outputs": [],
   "source": [
    "#mathimatical operation"
   ]
  },
  {
   "cell_type": "code",
   "execution_count": null,
   "id": "b92026c7",
   "metadata": {},
   "outputs": [],
   "source": [
    "import math"
   ]
  },
  {
   "cell_type": "code",
   "execution_count": null,
   "id": "75a4a583",
   "metadata": {},
   "outputs": [],
   "source": [
    "math.log(8,2)          # 2 shows the base value of log function"
   ]
  },
  {
   "cell_type": "code",
   "execution_count": null,
   "id": "96b51a0c",
   "metadata": {},
   "outputs": [],
   "source": [
    "math.log2(8)"
   ]
  },
  {
   "cell_type": "code",
   "execution_count": null,
   "id": "050b0ece",
   "metadata": {},
   "outputs": [],
   "source": [
    "math.log10(5)"
   ]
  },
  {
   "cell_type": "code",
   "execution_count": null,
   "id": "8fe8ec78",
   "metadata": {},
   "outputs": [],
   "source": [
    "math.sqrt(25)"
   ]
  },
  {
   "cell_type": "code",
   "execution_count": null,
   "id": "fc3e0955",
   "metadata": {},
   "outputs": [],
   "source": [
    "math.sqrt(225)"
   ]
  },
  {
   "cell_type": "code",
   "execution_count": null,
   "id": "1913d529",
   "metadata": {},
   "outputs": [],
   "source": [
    "math.sin(3.144)"
   ]
  },
  {
   "cell_type": "code",
   "execution_count": null,
   "id": "3c832854",
   "metadata": {},
   "outputs": [],
   "source": [
    "math.cos(45)"
   ]
  },
  {
   "cell_type": "code",
   "execution_count": null,
   "id": "a29e186b",
   "metadata": {},
   "outputs": [],
   "source": [
    "math.tan(45)"
   ]
  },
  {
   "cell_type": "code",
   "execution_count": null,
   "id": "3a0b8a06",
   "metadata": {},
   "outputs": [],
   "source": [
    "math.acosh(45)"
   ]
  },
  {
   "cell_type": "code",
   "execution_count": null,
   "id": "a4dd5b76",
   "metadata": {},
   "outputs": [],
   "source": [
    "math.asinh(36.86)"
   ]
  },
  {
   "cell_type": "code",
   "execution_count": null,
   "id": "0bbdfa42",
   "metadata": {},
   "outputs": [],
   "source": [
    "x = 2\n",
    "y = 1\n",
    "x != y"
   ]
  },
  {
   "cell_type": "code",
   "execution_count": null,
   "id": "2db4493f",
   "metadata": {},
   "outputs": [],
   "source": [
    "x==y"
   ]
  },
  {
   "cell_type": "code",
   "execution_count": null,
   "id": "c8d332cc",
   "metadata": {},
   "outputs": [],
   "source": [
    "x >= y"
   ]
  },
  {
   "cell_type": "code",
   "execution_count": null,
   "id": "d7dc4ecc",
   "metadata": {},
   "outputs": [],
   "source": [
    "a=2"
   ]
  },
  {
   "cell_type": "code",
   "execution_count": null,
   "id": "d7be2099",
   "metadata": {},
   "outputs": [],
   "source": [
    "b = 5\n",
    "a+=b"
   ]
  },
  {
   "cell_type": "code",
   "execution_count": null,
   "id": "54507505",
   "metadata": {},
   "outputs": [],
   "source": [
    "a"
   ]
  },
  {
   "cell_type": "code",
   "execution_count": null,
   "id": "5fea2b83",
   "metadata": {},
   "outputs": [],
   "source": [
    "a-=b\n",
    "a"
   ]
  },
  {
   "cell_type": "code",
   "execution_count": null,
   "id": "86a05219",
   "metadata": {},
   "outputs": [],
   "source": [
    "a = 8\n",
    "b = 3\n",
    "a *= b\n",
    "a"
   ]
  },
  {
   "cell_type": "code",
   "execution_count": null,
   "id": "3fc407fb",
   "metadata": {},
   "outputs": [],
   "source": [
    "a/=b\n",
    "a"
   ]
  },
  {
   "cell_type": "code",
   "execution_count": null,
   "id": "8521b0ce",
   "metadata": {},
   "outputs": [],
   "source": [
    "a = 7\n",
    "b = 5\n",
    "a//=b"
   ]
  },
  {
   "cell_type": "code",
   "execution_count": null,
   "id": "788917b7",
   "metadata": {},
   "outputs": [],
   "source": [
    "a"
   ]
  },
  {
   "cell_type": "code",
   "execution_count": null,
   "id": "982b1e28",
   "metadata": {},
   "outputs": [],
   "source": [
    "a = 4\n",
    "b = 2\n",
    "a**b\n"
   ]
  },
  {
   "cell_type": "code",
   "execution_count": null,
   "id": "7d027092",
   "metadata": {},
   "outputs": [],
   "source": [
    "a = 10001\n",
    "b = 1000+1\n"
   ]
  },
  {
   "cell_type": "code",
   "execution_count": null,
   "id": "e8d75ece",
   "metadata": {},
   "outputs": [],
   "source": [
    "a==b"
   ]
  },
  {
   "cell_type": "code",
   "execution_count": null,
   "id": "b251c656",
   "metadata": {},
   "outputs": [],
   "source": [
    "a = 10001\n",
    "b = 10000+1\n"
   ]
  },
  {
   "cell_type": "code",
   "execution_count": null,
   "id": "73588425",
   "metadata": {},
   "outputs": [],
   "source": [
    "a==b"
   ]
  },
  {
   "cell_type": "code",
   "execution_count": null,
   "id": "944cf663",
   "metadata": {},
   "outputs": [],
   "source": [
    "a is b"
   ]
  },
  {
   "cell_type": "code",
   "execution_count": null,
   "id": "07ba2deb",
   "metadata": {},
   "outputs": [],
   "source": [
    "id(a)"
   ]
  },
  {
   "cell_type": "code",
   "execution_count": null,
   "id": "dc5954ff",
   "metadata": {},
   "outputs": [],
   "source": [
    "a = [2,3,4,5,6]"
   ]
  },
  {
   "cell_type": "code",
   "execution_count": null,
   "id": "09013b27",
   "metadata": {},
   "outputs": [],
   "source": [
    "2 in a"
   ]
  },
  {
   "cell_type": "code",
   "execution_count": null,
   "id": "dced1bda",
   "metadata": {},
   "outputs": [],
   "source": [
    "5 in a"
   ]
  },
  {
   "cell_type": "code",
   "execution_count": null,
   "id": "af92f10d",
   "metadata": {},
   "outputs": [],
   "source": [
    "9 in a"
   ]
  },
  {
   "cell_type": "code",
   "execution_count": null,
   "id": "0da60655",
   "metadata": {},
   "outputs": [],
   "source": [
    "math.pi               #pi = 3.14"
   ]
  },
  {
   "cell_type": "code",
   "execution_count": null,
   "id": "6a18c9d9",
   "metadata": {},
   "outputs": [],
   "source": [
    "math.tau               #tau = 6.28"
   ]
  },
  {
   "cell_type": "code",
   "execution_count": null,
   "id": "c9da8ef6",
   "metadata": {},
   "outputs": [],
   "source": [
    "r = 6\n",
    "2*math.pi*r"
   ]
  },
  {
   "cell_type": "code",
   "execution_count": null,
   "id": "507d6a3a",
   "metadata": {},
   "outputs": [],
   "source": [
    "r = 9\n",
    "math.tau*r*math.pi"
   ]
  },
  {
   "cell_type": "code",
   "execution_count": null,
   "id": "f4f1d3d6",
   "metadata": {},
   "outputs": [],
   "source": [
    "math.e"
   ]
  },
  {
   "cell_type": "code",
   "execution_count": null,
   "id": "fea609aa",
   "metadata": {},
   "outputs": [],
   "source": [
    "type(math.e)"
   ]
  },
  {
   "cell_type": "code",
   "execution_count": null,
   "id": "6d7118e3",
   "metadata": {},
   "outputs": [],
   "source": [
    "math.inf"
   ]
  },
  {
   "cell_type": "code",
   "execution_count": null,
   "id": "72c08fd3",
   "metadata": {},
   "outputs": [],
   "source": [
    "2+math.inf"
   ]
  },
  {
   "cell_type": "code",
   "execution_count": null,
   "id": "7b9b2027",
   "metadata": {},
   "outputs": [],
   "source": [
    "type(math.inf)"
   ]
  },
  {
   "cell_type": "code",
   "execution_count": null,
   "id": "bb48d673",
   "metadata": {},
   "outputs": [],
   "source": [
    "-math.inf"
   ]
  },
  {
   "cell_type": "code",
   "execution_count": null,
   "id": "25086320",
   "metadata": {},
   "outputs": [],
   "source": [
    "math.inf>10000000000000000"
   ]
  },
  {
   "cell_type": "code",
   "execution_count": null,
   "id": "98f76853",
   "metadata": {},
   "outputs": [],
   "source": [
    "math.inf+40"
   ]
  },
  {
   "cell_type": "code",
   "execution_count": null,
   "id": "8b4a14b5",
   "metadata": {},
   "outputs": [],
   "source": [
    "math.nan"
   ]
  },
  {
   "cell_type": "code",
   "execution_count": null,
   "id": "9d82265a",
   "metadata": {},
   "outputs": [],
   "source": [
    "type(math.nan)"
   ]
  },
  {
   "cell_type": "code",
   "execution_count": null,
   "id": "2108ce75",
   "metadata": {},
   "outputs": [],
   "source": [
    "math.factorial(0)"
   ]
  },
  {
   "cell_type": "code",
   "execution_count": null,
   "id": "4aa0b049",
   "metadata": {},
   "outputs": [],
   "source": [
    "math.factorial(5)"
   ]
  },
  {
   "cell_type": "code",
   "execution_count": null,
   "id": "70a24f83",
   "metadata": {},
   "outputs": [],
   "source": [
    "math.factorial(25)"
   ]
  },
  {
   "cell_type": "code",
   "execution_count": null,
   "id": "22491b8b",
   "metadata": {},
   "outputs": [],
   "source": [
    "math.ceil(7.8)"
   ]
  },
  {
   "cell_type": "code",
   "execution_count": null,
   "id": "e3c075b7",
   "metadata": {},
   "outputs": [],
   "source": [
    "math.ceil(-13.25)         #math.ceil function always round a number up to next largest integer. "
   ]
  },
  {
   "cell_type": "code",
   "execution_count": null,
   "id": "5344362e",
   "metadata": {},
   "outputs": [],
   "source": [
    "math.ceil(7.2)"
   ]
  },
  {
   "cell_type": "code",
   "execution_count": null,
   "id": "84f7147d",
   "metadata": {},
   "outputs": [],
   "source": [
    "math.floor(2.3)        # floor -- next smallest integer"
   ]
  },
  {
   "cell_type": "code",
   "execution_count": null,
   "id": "27e333a7",
   "metadata": {},
   "outputs": [],
   "source": [
    "math.floor(5.8)"
   ]
  },
  {
   "cell_type": "code",
   "execution_count": null,
   "id": "73de92c3",
   "metadata": {},
   "outputs": [],
   "source": [
    "math.trunc(-6.9)             #trunc --function returns the integer part of a number by removing any fractional"
   ]
  },
  {
   "cell_type": "code",
   "execution_count": null,
   "id": "dfeeb34a",
   "metadata": {},
   "outputs": [],
   "source": [
    "math.trunc(3.45)"
   ]
  },
  {
   "cell_type": "code",
   "execution_count": null,
   "id": "1b468ea1",
   "metadata": {},
   "outputs": [],
   "source": [
    "math.comb(6,5)      #comb = combination"
   ]
  },
  {
   "cell_type": "code",
   "execution_count": null,
   "id": "442f87b2",
   "metadata": {},
   "outputs": [],
   "source": [
    "math.pow(2,4)         # pow = power"
   ]
  },
  {
   "cell_type": "code",
   "execution_count": null,
   "id": "3a411044",
   "metadata": {},
   "outputs": [],
   "source": [
    "math.exp(3)"
   ]
  },
  {
   "cell_type": "code",
   "execution_count": null,
   "id": "c7af5b35",
   "metadata": {},
   "outputs": [],
   "source": [
    "math.exp(45)"
   ]
  },
  {
   "cell_type": "code",
   "execution_count": null,
   "id": "1d0fd185",
   "metadata": {},
   "outputs": [],
   "source": [
    "initial = 100\n",
    "time =  10\n",
    "halp_life = 3\n",
    "remaining = initial*math.exp(-0.693*time/halp_life)"
   ]
  },
  {
   "cell_type": "code",
   "execution_count": null,
   "id": "38f4bb10",
   "metadata": {},
   "outputs": [],
   "source": [
    "remaining"
   ]
  },
  {
   "cell_type": "code",
   "execution_count": null,
   "id": "28e24832",
   "metadata": {},
   "outputs": [],
   "source": []
  }
 ],
 "metadata": {
  "kernelspec": {
   "display_name": "Python 3",
   "language": "python",
   "name": "python3"
  },
  "language_info": {
   "codemirror_mode": {
    "name": "ipython",
    "version": 3
   },
   "file_extension": ".py",
   "mimetype": "text/x-python",
   "name": "python",
   "nbconvert_exporter": "python",
   "pygments_lexer": "ipython3",
   "version": "3.8.8"
  }
 },
 "nbformat": 4,
 "nbformat_minor": 5
}
