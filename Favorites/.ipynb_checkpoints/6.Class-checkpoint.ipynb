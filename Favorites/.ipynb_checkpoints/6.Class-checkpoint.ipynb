{
 "cells": [
  {
   "cell_type": "code",
   "execution_count": 1,
   "id": "c448d80d",
   "metadata": {},
   "outputs": [],
   "source": [
    "import os"
   ]
  },
  {
   "cell_type": "code",
   "execution_count": 2,
   "id": "51c4dedb",
   "metadata": {},
   "outputs": [],
   "source": [
    "def test(a,b):\n",
    "    return(4,6)"
   ]
  },
  {
   "cell_type": "code",
   "execution_count": 3,
   "id": "58fa0a3f",
   "metadata": {},
   "outputs": [
    {
     "data": {
      "text/plain": [
       "'C:\\\\Users\\\\Nplite\\\\Favorites'"
      ]
     },
     "execution_count": 3,
     "metadata": {},
     "output_type": "execute_result"
    }
   ],
   "source": [
    "pwd()"
   ]
  },
  {
   "cell_type": "code",
   "execution_count": 4,
   "id": "d7e163f4",
   "metadata": {},
   "outputs": [
    {
     "name": "stdout",
     "output_type": "stream",
     "text": [
      " Volume in drive C has no label.\n",
      " Volume Serial Number is DE5C-05B8\n",
      "\n",
      " Directory of C:\\Users\\Nplite\\Favorites\n",
      "\n",
      "11-06-2022  19:44    <DIR>          .\n",
      "11-06-2022  19:59    <DIR>          ..\n",
      "14-03-2022  03:43    <DIR>          .ipynb_checkpoints\n",
      "14-03-2022  12:01    <DIR>          __pycache__\n",
      "09-06-2022  13:37           145,468 1.Basic, List, Tuple, Dictionary  ===1.ipynb\n",
      "10-06-2022  22:37           101,724 2.If Else, Range, For, While.ipynb\n",
      "11-06-2022  13:51            97,300 3. Function, Lambda,Generator.ipynb\n",
      "11-06-2022  18:12            64,290 4.Generator, Fibonacci no, Open,Write,Read file.ipynb\n",
      "11-06-2022  19:44            79,431 5.Exception Handling, Logging.ipynb\n",
      "30-03-2022  22:52           157,280 6.Class.ipynb\n",
      "23-02-2022  23:20            19,704 ADVANCE TASK INEURON.ipynb\n",
      "19-05-2022  20:26               208 Bing.url\n",
      "14-03-2022  02:58             3,014 google.txt\n",
      "19-05-2022  20:26    <DIR>          Links\n",
      "02-03-2022  01:24            86,043 MONGODB DATA.ipynb\n",
      "14-03-2022  12:59                 0 mydict.py\n",
      "14-03-2022  03:42    <DIR>          OneDrive\n",
      "06-03-2022  01:43           576,978 pandas day 2.ipynb\n",
      "07-06-2022  23:48         1,253,373 PANDAS.ipynb\n",
      "11-03-2022  17:18             3,174 practice.ipynb\n",
      "01-03-2022  17:27           237,581 SQL DATA2.ipynb\n",
      "05-03-2022  02:06            76,381 SQLLITE.ipynb\n",
      "11-06-2022  18:52                 0 test.txt\n",
      "14-03-2022  03:40               177 test00.log\n",
      "14-03-2022  12:01                 0 testN.py\n",
      "              19 File(s)      2,902,126 bytes\n",
      "               6 Dir(s)  70,078,877,696 bytes free\n"
     ]
    }
   ],
   "source": [
    "ls"
   ]
  },
  {
   "cell_type": "code",
   "execution_count": 5,
   "id": "9679686a",
   "metadata": {},
   "outputs": [
    {
     "data": {
      "text/plain": [
       "<_io.TextIOWrapper name='testN.py' mode='w' encoding='cp1252'>"
      ]
     },
     "execution_count": 5,
     "metadata": {},
     "output_type": "execute_result"
    }
   ],
   "source": [
    "open(\"testN.py\",\"w\")  #to create a file\n"
   ]
  },
  {
   "cell_type": "code",
   "execution_count": 6,
   "id": "4c85ab0d",
   "metadata": {},
   "outputs": [
    {
     "name": "stdout",
     "output_type": "stream",
     "text": [
      " Volume in drive C has no label.\n",
      " Volume Serial Number is DE5C-05B8\n",
      "\n",
      " Directory of C:\\Users\\Nplite\\Favorites\n",
      "\n",
      "11-06-2022  19:44    <DIR>          .\n",
      "11-06-2022  19:59    <DIR>          ..\n",
      "14-03-2022  03:43    <DIR>          .ipynb_checkpoints\n",
      "14-03-2022  12:01    <DIR>          __pycache__\n",
      "09-06-2022  13:37           145,468 1.Basic, List, Tuple, Dictionary  ===1.ipynb\n",
      "10-06-2022  22:37           101,724 2.If Else, Range, For, While.ipynb\n",
      "11-06-2022  13:51            97,300 3. Function, Lambda,Generator.ipynb\n",
      "11-06-2022  18:12            64,290 4.Generator, Fibonacci no, Open,Write,Read file.ipynb\n",
      "11-06-2022  19:44            79,431 5.Exception Handling, Logging.ipynb\n",
      "30-03-2022  22:52           157,280 6.Class.ipynb\n",
      "23-02-2022  23:20            19,704 ADVANCE TASK INEURON.ipynb\n",
      "19-05-2022  20:26               208 Bing.url\n",
      "14-03-2022  02:58             3,014 google.txt\n",
      "19-05-2022  20:26    <DIR>          Links\n",
      "02-03-2022  01:24            86,043 MONGODB DATA.ipynb\n",
      "14-03-2022  12:59                 0 mydict.py\n",
      "14-03-2022  03:42    <DIR>          OneDrive\n",
      "06-03-2022  01:43           576,978 pandas day 2.ipynb\n",
      "07-06-2022  23:48         1,253,373 PANDAS.ipynb\n",
      "11-03-2022  17:18             3,174 practice.ipynb\n",
      "01-03-2022  17:27           237,581 SQL DATA2.ipynb\n",
      "05-03-2022  02:06            76,381 SQLLITE.ipynb\n",
      "11-06-2022  18:52                 0 test.txt\n",
      "14-03-2022  03:40               177 test00.log\n",
      "11-06-2022  23:15                 0 testN.py\n",
      "              19 File(s)      2,902,126 bytes\n",
      "               6 Dir(s)  70,076,780,544 bytes free\n"
     ]
    }
   ],
   "source": [
    "ls"
   ]
  },
  {
   "cell_type": "code",
   "execution_count": 7,
   "id": "425b346f",
   "metadata": {},
   "outputs": [],
   "source": [
    "import testN      "
   ]
  },
  {
   "cell_type": "code",
   "execution_count": 8,
   "id": "c63d5905",
   "metadata": {},
   "outputs": [
    {
     "ename": "AttributeError",
     "evalue": "module 'testN' has no attribute 'test'",
     "output_type": "error",
     "traceback": [
      "\u001b[1;31m---------------------------------------------------------------------------\u001b[0m",
      "\u001b[1;31mAttributeError\u001b[0m                            Traceback (most recent call last)",
      "\u001b[1;32m<ipython-input-8-81829032d5a2>\u001b[0m in \u001b[0;36m<module>\u001b[1;34m\u001b[0m\n\u001b[1;32m----> 1\u001b[1;33m \u001b[0mtestN\u001b[0m\u001b[1;33m.\u001b[0m\u001b[0mtest\u001b[0m\u001b[1;33m(\u001b[0m\u001b[1;36m3\u001b[0m\u001b[1;33m,\u001b[0m\u001b[1;36m4\u001b[0m\u001b[1;33m)\u001b[0m\u001b[1;33m\u001b[0m\u001b[1;33m\u001b[0m\u001b[0m\n\u001b[0m",
      "\u001b[1;31mAttributeError\u001b[0m: module 'testN' has no attribute 'test'"
     ]
    }
   ],
   "source": [
    "testN.test(3,4)"
   ]
  },
  {
   "cell_type": "code",
   "execution_count": null,
   "id": "42e3820e",
   "metadata": {},
   "outputs": [],
   "source": [
    "l = [1,2,3,4,5,6]\n",
    "for i in l:\n",
    "    print(i)"
   ]
  },
  {
   "cell_type": "code",
   "execution_count": null,
   "id": "f36d7b51",
   "metadata": {},
   "outputs": [],
   "source": [
    "oop              #object oriented programing"
   ]
  },
  {
   "cell_type": "code",
   "execution_count": null,
   "id": "e10500c8",
   "metadata": {},
   "outputs": [],
   "source": [
    "class car:\n",
    "    pass\n",
    "#car may be anything name,engine defination,fuel type\n",
    "#there are so many things possible with car"
   ]
  },
  {
   "cell_type": "code",
   "execution_count": null,
   "id": "a53da219",
   "metadata": {},
   "outputs": [],
   "source": [
    "class car:"
   ]
  },
  {
   "cell_type": "code",
   "execution_count": 9,
   "id": "ac9481af",
   "metadata": {},
   "outputs": [],
   "source": [
    "# init is inbuit function it is behaving like constructor\n",
    "#constructor means a kind of entity it will pass a data to a class\n",
    "class car:\n",
    "    def __init__(self, brand_name, fuel_type, body_type):\n",
    "        \n",
    "        self.brand_name = brand_name\n",
    "        self.fuel_type = fuel_type\n",
    "        self.body_type = body_type\n",
    "        \n",
    "    def desc_car(self):\n",
    "        print(\"self.brand_name\",\"self.fuel_type\",\"self.body_type\")"
   ]
  },
  {
   "cell_type": "code",
   "execution_count": 10,
   "id": "889f8678",
   "metadata": {},
   "outputs": [],
   "source": [
    "innova = car(\"toyota\",\"petrol\",\"suv\")"
   ]
  },
  {
   "cell_type": "code",
   "execution_count": 11,
   "id": "815529fd",
   "metadata": {},
   "outputs": [
    {
     "name": "stdout",
     "output_type": "stream",
     "text": [
      "self.brand_name self.fuel_type self.body_type\n"
     ]
    }
   ],
   "source": [
    "innova.desc_car()"
   ]
  },
  {
   "cell_type": "code",
   "execution_count": 12,
   "id": "e22fcadb",
   "metadata": {},
   "outputs": [],
   "source": [
    "class car:\n",
    "    def __init__(self, engine , fuel_type, body_type):\n",
    "        \n",
    "        \n",
    "        self.engine = engine\n",
    "        self.fuel_type = input()\n",
    "        self.body_type = body_type\n",
    "        \n",
    "    def test(self):\n",
    "        print(\"this is my first method in car class\")\n",
    "        "
   ]
  },
  {
   "cell_type": "code",
   "execution_count": 13,
   "id": "7a1ddee0",
   "metadata": {},
   "outputs": [
    {
     "name": "stdout",
     "output_type": "stream",
     "text": [
      "petrol\n"
     ]
    }
   ],
   "source": [
    "fortuner = car(\"suv\",\"diesel\",\"toyota\")"
   ]
  },
  {
   "cell_type": "code",
   "execution_count": 14,
   "id": "ccea4a5c",
   "metadata": {},
   "outputs": [
    {
     "data": {
      "text/plain": [
       "'toyota'"
      ]
     },
     "execution_count": 14,
     "metadata": {},
     "output_type": "execute_result"
    }
   ],
   "source": [
    "fortuner.body_type"
   ]
  },
  {
   "cell_type": "code",
   "execution_count": 15,
   "id": "59ba1f5c",
   "metadata": {},
   "outputs": [
    {
     "data": {
      "text/plain": [
       "'suv'"
      ]
     },
     "execution_count": 15,
     "metadata": {},
     "output_type": "execute_result"
    }
   ],
   "source": [
    "fortuner.engine\n",
    "\n"
   ]
  },
  {
   "cell_type": "code",
   "execution_count": 16,
   "id": "c0af5d43",
   "metadata": {},
   "outputs": [
    {
     "data": {
      "text/plain": [
       "'petrol'"
      ]
     },
     "execution_count": 16,
     "metadata": {},
     "output_type": "execute_result"
    }
   ],
   "source": [
    "fortuner.fuel_type\n"
   ]
  },
  {
   "cell_type": "code",
   "execution_count": 17,
   "id": "9897fa47",
   "metadata": {},
   "outputs": [
    {
     "name": "stdout",
     "output_type": "stream",
     "text": [
      "this is my first method in car class\n"
     ]
    }
   ],
   "source": [
    "fortuner.test()"
   ]
  },
  {
   "cell_type": "code",
   "execution_count": null,
   "id": "bbc78450",
   "metadata": {},
   "outputs": [],
   "source": [
    " class car:\n",
    "    def __init__(self, body_type, engine, fuel_type):\n",
    "        \n",
    "            self.body_type = body_type\n",
    "            self.engine = engine\n",
    "            self.fuel_type = fuel_type\n",
    "            \n",
    "    def test(self):\n",
    "        print(\"this is my first method in car class\")\n",
    "    "
   ]
  },
  {
   "cell_type": "code",
   "execution_count": null,
   "id": "0ddd4255",
   "metadata": {},
   "outputs": [],
   "source": [
    "fortuner = car(\"suv\",\"bs5\",\"petrol\")"
   ]
  },
  {
   "cell_type": "code",
   "execution_count": null,
   "id": "a283d7e7",
   "metadata": {},
   "outputs": [],
   "source": [
    "nexon = car(\"suv\",\"two stroke\",\"petrol\")"
   ]
  },
  {
   "cell_type": "code",
   "execution_count": null,
   "id": "738559c2",
   "metadata": {},
   "outputs": [],
   "source": [
    "fortuner.body_type"
   ]
  },
  {
   "cell_type": "code",
   "execution_count": null,
   "id": "42277f3f",
   "metadata": {},
   "outputs": [],
   "source": [
    "nexon.engine"
   ]
  },
  {
   "cell_type": "code",
   "execution_count": null,
   "id": "64dc1041",
   "metadata": {},
   "outputs": [],
   "source": [
    "fortuner.engine"
   ]
  },
  {
   "cell_type": "code",
   "execution_count": null,
   "id": "bbfd3d46",
   "metadata": {},
   "outputs": [],
   "source": [
    "fortuner.fuel_type"
   ]
  },
  {
   "cell_type": "code",
   "execution_count": null,
   "id": "de100ad7",
   "metadata": {},
   "outputs": [],
   "source": [
    "nexon.fuel_type"
   ]
  },
  {
   "cell_type": "code",
   "execution_count": null,
   "id": "1d453bff",
   "metadata": {},
   "outputs": [],
   "source": [
    "nexon.test()"
   ]
  },
  {
   "cell_type": "code",
   "execution_count": null,
   "id": "d91b25b3",
   "metadata": {},
   "outputs": [],
   "source": [
    " class car:\n",
    "    def __init__(self, body_type, engine, fuel_type):\n",
    "        \n",
    "            self.body_type = body_type\n",
    "            self.engine = engine\n",
    "            self.fuel_type = input()\n",
    "            \n",
    "    def test(self):\n",
    "        print(\"this is my first method in car class\")\n",
    "    "
   ]
  },
  {
   "cell_type": "code",
   "execution_count": null,
   "id": "9cc7fc44",
   "metadata": {},
   "outputs": [],
   "source": [
    "fortuner = car(\"suv\",\"bs5\",\"petrol\")"
   ]
  },
  {
   "cell_type": "code",
   "execution_count": null,
   "id": "06d465d6",
   "metadata": {},
   "outputs": [],
   "source": [
    "fortuner.fuel_type"
   ]
  },
  {
   "cell_type": "code",
   "execution_count": null,
   "id": "6802d962",
   "metadata": {},
   "outputs": [],
   "source": [
    "fortuner.engine"
   ]
  },
  {
   "cell_type": "code",
   "execution_count": null,
   "id": "03242824",
   "metadata": {},
   "outputs": [],
   "source": [
    "fortuner.body_type"
   ]
  },
  {
   "cell_type": "code",
   "execution_count": null,
   "id": "6cb5d586",
   "metadata": {},
   "outputs": [],
   "source": [
    " class car:\n",
    "    def __init__(self, body_type, engine, fuel_type):\n",
    "        \n",
    "            self.body_type = body_type\n",
    "            self.engine = engine\n",
    "            self.fuel_type = fuel_type\n",
    "            \n",
    "    def test(self):\n",
    "        print(\"this is my first method in car class\")\n",
    "     "
   ]
  },
  {
   "cell_type": "code",
   "execution_count": null,
   "id": "d37dfcc8",
   "metadata": {},
   "outputs": [],
   "source": [
    "fortuner = car(\"suv\",\"bs5\")"
   ]
  },
  {
   "cell_type": "code",
   "execution_count": null,
   "id": "aa82f8eb",
   "metadata": {},
   "outputs": [],
   "source": [
    " class car:\n",
    "    def __init__(self, body_type, engine, fuel_type):\n",
    "        \n",
    "            self.body_type1 = body_type\n",
    "            self.engine = engine\n",
    "            self.fuel_type = fuel_type\n",
    "            \n",
    "    def test(self):\n",
    "        print(\"this is my first method in car class\")\n",
    "     "
   ]
  },
  {
   "cell_type": "code",
   "execution_count": null,
   "id": "3ac27a1b",
   "metadata": {},
   "outputs": [],
   "source": [
    " fortuner = car(\"suv\",\"bs4\",\"petrol\")"
   ]
  },
  {
   "cell_type": "code",
   "execution_count": null,
   "id": "854382b1",
   "metadata": {},
   "outputs": [],
   "source": [
    "fortuner.body_type"
   ]
  },
  {
   "cell_type": "code",
   "execution_count": null,
   "id": "0dd69525",
   "metadata": {},
   "outputs": [],
   "source": [
    "fortuner.body_type1"
   ]
  },
  {
   "cell_type": "code",
   "execution_count": null,
   "id": "d9698a57",
   "metadata": {},
   "outputs": [],
   "source": [
    "fortuner.fuel_type"
   ]
  },
  {
   "cell_type": "code",
   "execution_count": null,
   "id": "19c2fa55",
   "metadata": {},
   "outputs": [],
   "source": [
    "fortuner.engine"
   ]
  },
  {
   "cell_type": "code",
   "execution_count": null,
   "id": "6fb8e99f",
   "metadata": {},
   "outputs": [],
   "source": [
    "fortuner.test()"
   ]
  },
  {
   "cell_type": "code",
   "execution_count": null,
   "id": "6ba22db2",
   "metadata": {},
   "outputs": [],
   "source": [
    "class car:\n",
    "    def __init__ (self,engine,body_type,fuel_type):\n",
    "        \n",
    "    \n",
    "        self.a = engine\n",
    "        self.b = body_type\n",
    "        self.c = fuel_type\n",
    "        \n",
    "    def test(self):\n",
    "        print(\"this is ,my first method in car class\")\n",
    "    \n",
    "    "
   ]
  },
  {
   "cell_type": "code",
   "execution_count": null,
   "id": "2544afe0",
   "metadata": {},
   "outputs": [],
   "source": [
    "nexon = car(\"honda\",\"bs4\",\"diesel\")"
   ]
  },
  {
   "cell_type": "code",
   "execution_count": null,
   "id": "5aff4d4a",
   "metadata": {},
   "outputs": [],
   "source": [
    "nexon.a"
   ]
  },
  {
   "cell_type": "code",
   "execution_count": null,
   "id": "febd60f6",
   "metadata": {},
   "outputs": [],
   "source": [
    "nexon.b"
   ]
  },
  {
   "cell_type": "code",
   "execution_count": null,
   "id": "a85f19c2",
   "metadata": {},
   "outputs": [],
   "source": [
    "nexon.c"
   ]
  },
  {
   "cell_type": "code",
   "execution_count": null,
   "id": "62203540",
   "metadata": {},
   "outputs": [],
   "source": [
    "nexon.test()"
   ]
  },
  {
   "cell_type": "code",
   "execution_count": null,
   "id": "d15cafba",
   "metadata": {},
   "outputs": [],
   "source": [
    " class car:\n",
    "    def __init__(Np, body_type, engine, fuel_type):\n",
    "        \n",
    "            Np.a = body_type       #Np or self is nothing but a pointer\n",
    "            Np.b = engine\n",
    "            Np.c = fuel_type\n",
    "            \n",
    "    def test(Np):\n",
    "        print(\"this is my first method in car class\")\n",
    "     "
   ]
  },
  {
   "cell_type": "code",
   "execution_count": null,
   "id": "7beeb6e2",
   "metadata": {},
   "outputs": [],
   "source": [
    "innova  = car(\"maruti\",\"bs6\",\"diesel\")"
   ]
  },
  {
   "cell_type": "code",
   "execution_count": null,
   "id": "7d56ac3b",
   "metadata": {},
   "outputs": [],
   "source": [
    " fortuner = car(\"suv\",\"bs4\",\"petrol\")"
   ]
  },
  {
   "cell_type": "code",
   "execution_count": null,
   "id": "3e312482",
   "metadata": {},
   "outputs": [],
   "source": [
    "innova.a"
   ]
  },
  {
   "cell_type": "code",
   "execution_count": null,
   "id": "771af87c",
   "metadata": {},
   "outputs": [],
   "source": [
    "innova.b"
   ]
  },
  {
   "cell_type": "code",
   "execution_count": null,
   "id": "30dc293c",
   "metadata": {},
   "outputs": [],
   "source": [
    "innova.c"
   ]
  },
  {
   "cell_type": "code",
   "execution_count": null,
   "id": "ed28e476",
   "metadata": {},
   "outputs": [],
   "source": [
    "fortuner.a"
   ]
  },
  {
   "cell_type": "code",
   "execution_count": null,
   "id": "a35ae7d2",
   "metadata": {},
   "outputs": [],
   "source": [
    "fortuner.c"
   ]
  },
  {
   "cell_type": "code",
   "execution_count": null,
   "id": "4eea3250",
   "metadata": {},
   "outputs": [],
   "source": [
    "fortuner.b"
   ]
  },
  {
   "cell_type": "code",
   "execution_count": null,
   "id": "8e35734a",
   "metadata": {},
   "outputs": [],
   "source": [
    "fortuner.test()"
   ]
  },
  {
   "cell_type": "code",
   "execution_count": null,
   "id": "9eea043a",
   "metadata": {},
   "outputs": [],
   "source": [
    " class car:\n",
    "    def __init__(self, body_type, engine, fuel_type):\n",
    "        \n",
    "            self.a = body_type\n",
    "            self.b = engine\n",
    "            self.c = fuel_type\n",
    "            \n",
    "    def desc_car(self):\n",
    "        print(\"this is my first method in car class\")\n",
    "     "
   ]
  },
  {
   "cell_type": "code",
   "execution_count": null,
   "id": "3a0589e5",
   "metadata": {},
   "outputs": [],
   "source": [
    " forture = car(\"suv\",\"bs4\",\"petrol\")"
   ]
  },
  {
   "cell_type": "code",
   "execution_count": null,
   "id": "e4ca8228",
   "metadata": {},
   "outputs": [],
   "source": [
    "innova  = car(\"maruti\",\"bs6\",\"diesel\")"
   ]
  },
  {
   "cell_type": "code",
   "execution_count": null,
   "id": "301ce3ba",
   "metadata": {},
   "outputs": [],
   "source": [
    "forture.b\n"
   ]
  },
  {
   "cell_type": "code",
   "execution_count": null,
   "id": "580e9e18",
   "metadata": {},
   "outputs": [],
   "source": [
    "forture.c"
   ]
  },
  {
   "cell_type": "code",
   "execution_count": null,
   "id": "811962ee",
   "metadata": {},
   "outputs": [],
   "source": [
    "forture.a"
   ]
  },
  {
   "cell_type": "code",
   "execution_count": null,
   "id": "5dc96d67",
   "metadata": {},
   "outputs": [],
   "source": [
    "innova.a"
   ]
  },
  {
   "cell_type": "code",
   "execution_count": null,
   "id": "8cd21d1c",
   "metadata": {},
   "outputs": [],
   "source": [
    "innova.b"
   ]
  },
  {
   "cell_type": "code",
   "execution_count": null,
   "id": "1f172f9c",
   "metadata": {},
   "outputs": [],
   "source": [
    "innova.c"
   ]
  },
  {
   "cell_type": "code",
   "execution_count": null,
   "id": "59465345",
   "metadata": {},
   "outputs": [],
   "source": [
    "innova.test()"
   ]
  },
  {
   "cell_type": "code",
   "execution_count": null,
   "id": "8d70a0eb",
   "metadata": {},
   "outputs": [],
   "source": [
    "forture.test()"
   ]
  },
  {
   "cell_type": "code",
   "execution_count": null,
   "id": "a2370ab1",
   "metadata": {},
   "outputs": [],
   "source": [
    "#__init__ is just a method to help you out pass a data to a class if you would like to required"
   ]
  },
  {
   "cell_type": "code",
   "execution_count": 7,
   "id": "9a191ba4",
   "metadata": {},
   "outputs": [],
   "source": [
    "class car:                              # there is no constructor, no pointer inside this program \n",
    "    def test(sudh):\n",
    "        print(\"this is my first class in car class\")"
   ]
  },
  {
   "cell_type": "code",
   "execution_count": 8,
   "id": "ecc58a17",
   "metadata": {},
   "outputs": [],
   "source": [
    "x =car()          # so car doesn't take any variables"
   ]
  },
  {
   "cell_type": "code",
   "execution_count": 9,
   "id": "93255e17",
   "metadata": {},
   "outputs": [
    {
     "name": "stdout",
     "output_type": "stream",
     "text": [
      "this is my first class in car class\n"
     ]
    }
   ],
   "source": [
    "x.test()"
   ]
  },
  {
   "cell_type": "code",
   "execution_count": 10,
   "id": "2a84fc46",
   "metadata": {},
   "outputs": [],
   "source": [
    "class car:\n",
    "    def test(pointer, a,b):\n",
    "        peinr(\"this is my first class in car class\")"
   ]
  },
  {
   "cell_type": "code",
   "execution_count": 11,
   "id": "f6d15c4d",
   "metadata": {},
   "outputs": [
    {
     "name": "stdout",
     "output_type": "stream",
     "text": [
      "this is my first class in car class\n"
     ]
    }
   ],
   "source": [
    "x.test()"
   ]
  },
  {
   "cell_type": "code",
   "execution_count": 12,
   "id": "d287b8cb",
   "metadata": {},
   "outputs": [
    {
     "ename": "AttributeError",
     "evalue": "'car' object has no attribute 'car'",
     "output_type": "error",
     "traceback": [
      "\u001b[1;31m---------------------------------------------------------------------------\u001b[0m",
      "\u001b[1;31mAttributeError\u001b[0m                            Traceback (most recent call last)",
      "\u001b[1;32m<ipython-input-12-63eaa380e0f1>\u001b[0m in \u001b[0;36m<module>\u001b[1;34m\u001b[0m\n\u001b[1;32m----> 1\u001b[1;33m \u001b[0mx\u001b[0m\u001b[1;33m.\u001b[0m\u001b[0mcar\u001b[0m\u001b[1;33m(\u001b[0m\u001b[1;33m)\u001b[0m\u001b[1;33m\u001b[0m\u001b[1;33m\u001b[0m\u001b[0m\n\u001b[0m",
      "\u001b[1;31mAttributeError\u001b[0m: 'car' object has no attribute 'car'"
     ]
    }
   ],
   "source": [
    "x.car()"
   ]
  },
  {
   "cell_type": "code",
   "execution_count": 13,
   "id": "c5c473a2",
   "metadata": {},
   "outputs": [],
   "source": [
    "class car:\n",
    "    \n",
    "    def test(Np):\n",
    "        print(\"this is my first method in car class\")"
   ]
  },
  {
   "cell_type": "code",
   "execution_count": 14,
   "id": "01d98d72",
   "metadata": {},
   "outputs": [
    {
     "name": "stdout",
     "output_type": "stream",
     "text": [
      "this is my first class in car class\n"
     ]
    }
   ],
   "source": [
    "x.test()"
   ]
  },
  {
   "cell_type": "code",
   "execution_count": 15,
   "id": "559f4519",
   "metadata": {},
   "outputs": [
    {
     "ename": "AttributeError",
     "evalue": "'car' object has no attribute 'car'",
     "output_type": "error",
     "traceback": [
      "\u001b[1;31m---------------------------------------------------------------------------\u001b[0m",
      "\u001b[1;31mAttributeError\u001b[0m                            Traceback (most recent call last)",
      "\u001b[1;32m<ipython-input-15-63eaa380e0f1>\u001b[0m in \u001b[0;36m<module>\u001b[1;34m\u001b[0m\n\u001b[1;32m----> 1\u001b[1;33m \u001b[0mx\u001b[0m\u001b[1;33m.\u001b[0m\u001b[0mcar\u001b[0m\u001b[1;33m(\u001b[0m\u001b[1;33m)\u001b[0m\u001b[1;33m\u001b[0m\u001b[1;33m\u001b[0m\u001b[0m\n\u001b[0m",
      "\u001b[1;31mAttributeError\u001b[0m: 'car' object has no attribute 'car'"
     ]
    }
   ],
   "source": [
    "x.car()"
   ]
  },
  {
   "cell_type": "code",
   "execution_count": 16,
   "id": "01518fcb",
   "metadata": {},
   "outputs": [
    {
     "ename": "TypeError",
     "evalue": "test() takes 1 positional argument but 3 were given",
     "output_type": "error",
     "traceback": [
      "\u001b[1;31m---------------------------------------------------------------------------\u001b[0m",
      "\u001b[1;31mTypeError\u001b[0m                                 Traceback (most recent call last)",
      "\u001b[1;32m<ipython-input-16-597ba10af1f9>\u001b[0m in \u001b[0;36m<module>\u001b[1;34m\u001b[0m\n\u001b[1;32m----> 1\u001b[1;33m \u001b[0mx\u001b[0m\u001b[1;33m.\u001b[0m\u001b[0mtest\u001b[0m\u001b[1;33m(\u001b[0m\u001b[1;36m6\u001b[0m\u001b[1;33m,\u001b[0m\u001b[1;34m\"hallo\"\u001b[0m\u001b[1;33m)\u001b[0m\u001b[1;33m\u001b[0m\u001b[1;33m\u001b[0m\u001b[0m\n\u001b[0m",
      "\u001b[1;31mTypeError\u001b[0m: test() takes 1 positional argument but 3 were given"
     ]
    }
   ],
   "source": [
    "x.test(6,\"hallo\")"
   ]
  },
  {
   "cell_type": "code",
   "execution_count": 17,
   "id": "f4124085",
   "metadata": {},
   "outputs": [
    {
     "ename": "TypeError",
     "evalue": "test() takes 1 positional argument but 4 were given",
     "output_type": "error",
     "traceback": [
      "\u001b[1;31m---------------------------------------------------------------------------\u001b[0m",
      "\u001b[1;31mTypeError\u001b[0m                                 Traceback (most recent call last)",
      "\u001b[1;32m<ipython-input-17-35713acfaa7c>\u001b[0m in \u001b[0;36m<module>\u001b[1;34m\u001b[0m\n\u001b[1;32m----> 1\u001b[1;33m \u001b[0mx\u001b[0m\u001b[1;33m.\u001b[0m\u001b[0mtest\u001b[0m\u001b[1;33m(\u001b[0m\u001b[1;36m4\u001b[0m\u001b[1;33m,\u001b[0m\u001b[1;34m\"hallo\"\u001b[0m\u001b[1;33m,\u001b[0m\u001b[1;36m45\u001b[0m\u001b[1;33m)\u001b[0m\u001b[1;33m\u001b[0m\u001b[1;33m\u001b[0m\u001b[0m\n\u001b[0m",
      "\u001b[1;31mTypeError\u001b[0m: test() takes 1 positional argument but 4 were given"
     ]
    }
   ],
   "source": [
    "x.test(4,\"hallo\",45)"
   ]
  },
  {
   "cell_type": "code",
   "execution_count": 18,
   "id": "c8c2cc80",
   "metadata": {},
   "outputs": [],
   "source": [
    "class car:\n",
    "    \n",
    "    def test(Np,b,c):\n",
    "        print(\"this is my first method in car class\")"
   ]
  },
  {
   "cell_type": "code",
   "execution_count": 19,
   "id": "3e17c69c",
   "metadata": {},
   "outputs": [
    {
     "ename": "NameError",
     "evalue": "name 'x' is not defined",
     "output_type": "error",
     "traceback": [
      "\u001b[1;31m---------------------------------------------------------------------------\u001b[0m",
      "\u001b[1;31mNameError\u001b[0m                                 Traceback (most recent call last)",
      "\u001b[1;32m<ipython-input-19-8b30875658d9>\u001b[0m in \u001b[0;36m<module>\u001b[1;34m\u001b[0m\n\u001b[1;32m----> 1\u001b[1;33m \u001b[0mx\u001b[0m\u001b[1;33m.\u001b[0m\u001b[0mtest\u001b[0m\u001b[1;33m(\u001b[0m\u001b[1;36m45\u001b[0m\u001b[1;33m,\u001b[0m\u001b[1;34m\"duck\"\u001b[0m\u001b[1;33m,\u001b[0m\u001b[1;36m85\u001b[0m\u001b[1;33m)\u001b[0m\u001b[1;33m\u001b[0m\u001b[1;33m\u001b[0m\u001b[0m\n\u001b[0m",
      "\u001b[1;31mNameError\u001b[0m: name 'x' is not defined"
     ]
    }
   ],
   "source": [
    "x.test(45,\"duck\",85)"
   ]
  },
  {
   "cell_type": "code",
   "execution_count": 20,
   "id": "9ba38ca1",
   "metadata": {},
   "outputs": [
    {
     "name": "stdout",
     "output_type": "stream",
     "text": [
      "<class '__main__.car'>\n"
     ]
    }
   ],
   "source": [
    "print(type(x))"
   ]
  },
  {
   "cell_type": "code",
   "execution_count": 7,
   "id": "7aec534f",
   "metadata": {},
   "outputs": [],
   "source": [
    "class list_parser:\n",
    "    def parser(self,a):\n",
    "        for i in a:\n",
    "            if type(a) == list:\n",
    "                print(i)\n",
    "            "
   ]
  },
  {
   "cell_type": "code",
   "execution_count": 8,
   "id": "519c2628",
   "metadata": {},
   "outputs": [
    {
     "name": "stdout",
     "output_type": "stream",
     "text": [
      "1\n",
      "2\n",
      "3\n",
      "4\n",
      "5\n",
      "6\n",
      "7\n",
      "8\n",
      "9\n"
     ]
    }
   ],
   "source": [
    "c = list_parser()\n",
    "c.parser([1,2,3,4,5,6,7,8,9])"
   ]
  },
  {
   "cell_type": "code",
   "execution_count": 20,
   "id": "9219685d",
   "metadata": {},
   "outputs": [],
   "source": [
    "class list_parser:\n",
    "    def parser(self,a):\n",
    "        for i in a:\n",
    "            if type(a) == list:\n",
    "                print(i)\n",
    "                \n",
    "    def reverser_list(self,z):\n",
    "        if type(z) == list:\n",
    "            return z[::-1]"
   ]
  },
  {
   "cell_type": "code",
   "execution_count": 21,
   "id": "98a1a84b",
   "metadata": {},
   "outputs": [
    {
     "name": "stdout",
     "output_type": "stream",
     "text": [
      "1\n",
      "2\n",
      "3\n",
      "4\n",
      "5\n",
      "6\n",
      "7\n",
      "8\n",
      "9\n"
     ]
    }
   ],
   "source": [
    "c =list_parser()\n",
    "c.parser([1,2,3,4,5,6,7,8,9])         "
   ]
  },
  {
   "cell_type": "code",
   "execution_count": 11,
   "id": "53894a97",
   "metadata": {},
   "outputs": [
    {
     "data": {
      "text/plain": [
       "[9, 8, 7, 6, 5, 4, 3, 2, 1]"
      ]
     },
     "execution_count": 11,
     "metadata": {},
     "output_type": "execute_result"
    }
   ],
   "source": [
    "c.reverser_list([1,2,3,4,5,6,7,8,9])"
   ]
  },
  {
   "cell_type": "code",
   "execution_count": 12,
   "id": "5e5a5432",
   "metadata": {},
   "outputs": [],
   "source": [
    "class list_parser:\n",
    "    \n",
    "    def __init__(self,l):\n",
    "        \n",
    "        self.l = l\n",
    "        \n",
    "    def parser(self):\n",
    "        if type(self.l)==list:\n",
    "            for i in (self.l):\n",
    "                print(i)\n",
    "                \n",
    "    def reverser_list(self):\n",
    "        if type(self.l)==list:\n",
    "            return self.l[::-1]"
   ]
  },
  {
   "cell_type": "code",
   "execution_count": 13,
   "id": "e13d4988",
   "metadata": {},
   "outputs": [
    {
     "name": "stdout",
     "output_type": "stream",
     "text": [
      "9\n",
      "8\n",
      "7\n",
      "6\n",
      "5\n",
      "4\n",
      "3\n",
      "2\n",
      "1\n"
     ]
    }
   ],
   "source": [
    "c = list_parser([9,8,7,6,5,4,3,2,1])\n",
    "c.parser()"
   ]
  },
  {
   "cell_type": "code",
   "execution_count": 14,
   "id": "c28eda27",
   "metadata": {},
   "outputs": [
    {
     "data": {
      "text/plain": [
       "[1, 2, 3, 4, 5, 6, 7, 8, 9]"
      ]
     },
     "execution_count": 14,
     "metadata": {},
     "output_type": "execute_result"
    }
   ],
   "source": [
    "c.reverser_list()"
   ]
  },
  {
   "cell_type": "code",
   "execution_count": null,
   "id": "6d5b5e6b",
   "metadata": {},
   "outputs": [],
   "source": []
  },
  {
   "cell_type": "code",
   "execution_count": null,
   "id": "f91ba69b",
   "metadata": {},
   "outputs": [],
   "source": [
    "create a class for dictonary parsing \n",
    "\n",
    "1. write a functoin to give all the keys\n",
    "2. write a function to give all the values \n",
    "3. write a function to throw an exception in case of input is not dictonary\n",
    "4. write a function to take user input and then parse a key and value out of dictonary \n",
    "5. write a function to insert new key value pair  into dictonary \n"
   ]
  },
  {
   "cell_type": "code",
   "execution_count": 1,
   "id": "5163e790",
   "metadata": {},
   "outputs": [
    {
     "name": "stdout",
     "output_type": "stream",
     "text": [
      "45\n"
     ]
    }
   ],
   "source": [
    " class dict_parse:\n",
    "        \n",
    "        def keys_dict(self,d):\n",
    "            for i in d.keys():\n",
    "                print(i)\n",
    "                \n",
    "        def values_dict(self,d):\n",
    "            for i in d.values():\n",
    "                print(i)\n",
    "                \n",
    "        def dict_check(self,d):\n",
    "            if (type(d)!= dict):\n",
    "                raise Exception(\"input not dictionary\")\n",
    "                \n",
    "        def dict_in(self,d,a =int(input())):\n",
    "            print(d[a])\n",
    "                \n",
    "        def dict_input(self,d,key,value):\n",
    "            d[key] = value"
   ]
  },
  {
   "cell_type": "code",
   "execution_count": 5,
   "id": "96adec6f",
   "metadata": {},
   "outputs": [],
   "source": [
    "class dict_parsing:\n",
    "    \n",
    "    def __init__(self,a):\n",
    "        self.a = a\n",
    "    \n",
    "    def getkeys(self):\n",
    "        if self.notdict():\n",
    "            return list(self.a.keys())\n",
    "        \n",
    "    def getvalues(self):\n",
    "        if self.notdict():\n",
    "            return list(self.a.values())\n",
    "        \n",
    "    def notdict(self):\n",
    "        if type(self.a) != dict:\n",
    "            raise Exception(self.a,'Not a dictionary')\n",
    "        return 1\n",
    "    def userinput(self):\n",
    "        self.a = eval(input())\n",
    "        print(self.a,type(self.a))\n",
    "        print(self.getkeys())\n",
    "        print(self.getvalues())\n",
    "        \n",
    "    def insertion(self,k,v):\n",
    "        self.a[k] = v\n"
   ]
  },
  {
   "cell_type": "code",
   "execution_count": 6,
   "id": "989eb188",
   "metadata": {},
   "outputs": [
    {
     "data": {
      "text/plain": [
       "<_io.TextIOWrapper name='mydict.py' mode='w' encoding='cp1252'>"
      ]
     },
     "execution_count": 6,
     "metadata": {},
     "output_type": "execute_result"
    }
   ],
   "source": [
    "open(\"mydict.py\" , \"w\")"
   ]
  },
  {
   "cell_type": "code",
   "execution_count": 7,
   "id": "56589dbe",
   "metadata": {},
   "outputs": [
    {
     "ename": "NameError",
     "evalue": "name 'd' is not defined",
     "output_type": "error",
     "traceback": [
      "\u001b[1;31m---------------------------------------------------------------------------\u001b[0m",
      "\u001b[1;31mNameError\u001b[0m                                 Traceback (most recent call last)",
      "\u001b[1;32m<ipython-input-7-7e678c2321bd>\u001b[0m in \u001b[0;36m<module>\u001b[1;34m\u001b[0m\n\u001b[1;32m----> 1\u001b[1;33m \u001b[0md\u001b[0m\u001b[1;33m.\u001b[0m\u001b[0muserinput\u001b[0m\u001b[1;33m(\u001b[0m\u001b[1;33m)\u001b[0m\u001b[1;33m\u001b[0m\u001b[1;33m\u001b[0m\u001b[0m\n\u001b[0m",
      "\u001b[1;31mNameError\u001b[0m: name 'd' is not defined"
     ]
    }
   ],
   "source": [
    "d.userinput()"
   ]
  },
  {
   "cell_type": "code",
   "execution_count": 24,
   "id": "94d5904d",
   "metadata": {},
   "outputs": [
    {
     "ename": "NameError",
     "evalue": "name 'd' is not defined",
     "output_type": "error",
     "traceback": [
      "\u001b[1;31m---------------------------------------------------------------------------\u001b[0m",
      "\u001b[1;31mNameError\u001b[0m                                 Traceback (most recent call last)",
      "\u001b[1;32m<ipython-input-24-7cace93d6336>\u001b[0m in \u001b[0;36m<module>\u001b[1;34m\u001b[0m\n\u001b[1;32m----> 1\u001b[1;33m \u001b[0md\u001b[0m\u001b[1;33m.\u001b[0m\u001b[0minsertion\u001b[0m\u001b[1;33m(\u001b[0m\u001b[1;34m\"k1\"\u001b[0m \u001b[1;33m,\u001b[0m \u001b[1;33m[\u001b[0m\u001b[1;36m435\u001b[0m\u001b[1;33m,\u001b[0m\u001b[1;36m6\u001b[0m\u001b[1;33m,\u001b[0m\u001b[1;36m56\u001b[0m\u001b[1;33m,\u001b[0m\u001b[1;36m5\u001b[0m\u001b[1;33m]\u001b[0m\u001b[1;33m)\u001b[0m\u001b[1;33m\u001b[0m\u001b[1;33m\u001b[0m\u001b[0m\n\u001b[0m",
      "\u001b[1;31mNameError\u001b[0m: name 'd' is not defined"
     ]
    }
   ],
   "source": [
    "\n",
    "d.insertion(\"k1\" , [435,6,56,5])"
   ]
  },
  {
   "cell_type": "code",
   "execution_count": 25,
   "id": "0e42cc9e",
   "metadata": {},
   "outputs": [
    {
     "ename": "Exception",
     "evalue": "([4, 5, 6, 7, 67], 'Not a dictionary')",
     "output_type": "error",
     "traceback": [
      "\u001b[1;31m---------------------------------------------------------------------------\u001b[0m",
      "\u001b[1;31mException\u001b[0m                                 Traceback (most recent call last)",
      "\u001b[1;32m<ipython-input-25-51a9135bae97>\u001b[0m in \u001b[0;36m<module>\u001b[1;34m\u001b[0m\n\u001b[0;32m      1\u001b[0m \u001b[0md\u001b[0m \u001b[1;33m=\u001b[0m \u001b[0mdict_parsing\u001b[0m\u001b[1;33m(\u001b[0m\u001b[1;33m[\u001b[0m\u001b[1;36m4\u001b[0m\u001b[1;33m,\u001b[0m\u001b[1;36m5\u001b[0m\u001b[1;33m,\u001b[0m\u001b[1;36m6\u001b[0m\u001b[1;33m,\u001b[0m\u001b[1;36m7\u001b[0m\u001b[1;33m,\u001b[0m\u001b[1;36m67\u001b[0m\u001b[1;33m]\u001b[0m\u001b[1;33m)\u001b[0m\u001b[1;33m\u001b[0m\u001b[1;33m\u001b[0m\u001b[0m\n\u001b[1;32m----> 2\u001b[1;33m \u001b[0md\u001b[0m\u001b[1;33m.\u001b[0m\u001b[0mnotdict\u001b[0m\u001b[1;33m(\u001b[0m\u001b[1;33m)\u001b[0m\u001b[1;33m\u001b[0m\u001b[1;33m\u001b[0m\u001b[0m\n\u001b[0m",
      "\u001b[1;32m<ipython-input-18-d21fe6bb5201>\u001b[0m in \u001b[0;36mnotdict\u001b[1;34m(self)\u001b[0m\n\u001b[0;32m     14\u001b[0m     \u001b[1;32mdef\u001b[0m \u001b[0mnotdict\u001b[0m\u001b[1;33m(\u001b[0m\u001b[0mself\u001b[0m\u001b[1;33m)\u001b[0m\u001b[1;33m:\u001b[0m\u001b[1;33m\u001b[0m\u001b[1;33m\u001b[0m\u001b[0m\n\u001b[0;32m     15\u001b[0m         \u001b[1;32mif\u001b[0m \u001b[0mtype\u001b[0m\u001b[1;33m(\u001b[0m\u001b[0mself\u001b[0m\u001b[1;33m.\u001b[0m\u001b[0ma\u001b[0m\u001b[1;33m)\u001b[0m \u001b[1;33m!=\u001b[0m \u001b[0mdict\u001b[0m\u001b[1;33m:\u001b[0m\u001b[1;33m\u001b[0m\u001b[1;33m\u001b[0m\u001b[0m\n\u001b[1;32m---> 16\u001b[1;33m             \u001b[1;32mraise\u001b[0m \u001b[0mException\u001b[0m\u001b[1;33m(\u001b[0m\u001b[0mself\u001b[0m\u001b[1;33m.\u001b[0m\u001b[0ma\u001b[0m\u001b[1;33m,\u001b[0m\u001b[1;34m'Not a dictionary'\u001b[0m\u001b[1;33m)\u001b[0m\u001b[1;33m\u001b[0m\u001b[1;33m\u001b[0m\u001b[0m\n\u001b[0m\u001b[0;32m     17\u001b[0m         \u001b[1;32mreturn\u001b[0m \u001b[1;36m1\u001b[0m\u001b[1;33m\u001b[0m\u001b[1;33m\u001b[0m\u001b[0m\n\u001b[0;32m     18\u001b[0m     \u001b[1;32mdef\u001b[0m \u001b[0muserinput\u001b[0m\u001b[1;33m(\u001b[0m\u001b[0mself\u001b[0m\u001b[1;33m)\u001b[0m\u001b[1;33m:\u001b[0m\u001b[1;33m\u001b[0m\u001b[1;33m\u001b[0m\u001b[0m\n",
      "\u001b[1;31mException\u001b[0m: ([4, 5, 6, 7, 67], 'Not a dictionary')"
     ]
    }
   ],
   "source": [
    "d = dict_parsing([4,5,6,7,67])\n",
    "d.notdict()"
   ]
  },
  {
   "cell_type": "code",
   "execution_count": 8,
   "id": "c0acad9c",
   "metadata": {},
   "outputs": [],
   "source": [
    "class dictparser:\n",
    "    def __init__(self, d):\n",
    "        self.d = d\n",
    "    \n",
    "    def mykeys(self):\n",
    "        if type(self.d) == dict:\n",
    "            return self.d.keys()\n",
    "    def myvalues(self):\n",
    "        if type(self.d) == dict:\n",
    "            return self.d.values()\n",
    "    def inputkey(self):\n",
    "        self.mykey = input()\n",
    "        try:\n",
    "            return self.d[self.mykey]\n",
    "        except Exception as e:\n",
    "            print(e)\n",
    "    def newvalue(self, mykey1, myval1):\n",
    "        if type(self.d) == dict:\n",
    "            self.d[mykey1] = myval1\n"
   ]
  },
  {
   "cell_type": "code",
   "execution_count": 22,
   "id": "cd5a2b1a",
   "metadata": {},
   "outputs": [],
   "source": [
    "class not_a_dictionary(Exception):\n",
    "    pass\n",
    "\n",
    "\n",
    "class dictionary():\n",
    "    def __init__(self,d):\n",
    "        self.d=d\n",
    "    \n",
    "    def return_keys(self):\n",
    "        return(self.d.keys())\n",
    "    \n",
    "    def return_values(self):\n",
    "        return(self.d.values())\n",
    "    \n",
    "    def check_dict(self):\n",
    "        if type(self.d)!=dict:\n",
    "            raise(not_a_dictionary)\n",
    "            \n",
    "    def parse_dict(self):\n",
    "        self.d={}\n",
    "        while(True):\n",
    "            key=input(\"Enter your key. Press -1 to exit \")\n",
    "            value= input(\"Enter your value. Press -1 to exit \")\n",
    "            \n",
    "            if key=='-1' or value=='-1':\n",
    "                break\n",
    "            \n",
    "            self.d[key]=value\n",
    "        print(\"Now your dictionary is: \", self.d)\n",
    "            \n",
    "        \n",
    "    def add_key_value(self,key,value):\n",
    "        self.d[key]=value\n"
   ]
  },
  {
   "cell_type": "code",
   "execution_count": 9,
   "id": "45125bed",
   "metadata": {},
   "outputs": [],
   "source": [
    "class dict_Parser:\n",
    "    def __init__ (self,dic):\n",
    "        if type(dic) != dict:\n",
    "            raise ValueError(\"Input is not dictionary\")\n",
    "        self.d = dic\n",
    "        \n",
    "    def get_keys(self):\n",
    "        return self.d.keys()\n",
    "    def get_values(self):\n",
    "        return self.d.values()                  # i like that code\n",
    "    def take_input(self):\n",
    "        a = input(\"enter key\")\n",
    "        b = input(\"enter value\")\n",
    "        self.d[a] = b\n",
    "    def insert_key_val_pair(self,key,value):\n",
    "        self.d[key] = value\n"
   ]
  },
  {
   "cell_type": "code",
   "execution_count": null,
   "id": "a87d8092",
   "metadata": {},
   "outputs": [],
   "source": []
  },
  {
   "cell_type": "code",
   "execution_count": null,
   "id": "d5681f4f",
   "metadata": {},
   "outputs": [],
   "source": []
  },
  {
   "cell_type": "code",
   "execution_count": null,
   "id": "9ae63556",
   "metadata": {},
   "outputs": [],
   "source": []
  },
  {
   "cell_type": "code",
   "execution_count": null,
   "id": "f555573f",
   "metadata": {},
   "outputs": [],
   "source": [
    "class my_dict():\n",
    "    def __init__(self, dictionary):\n",
    "        if type(dictionary) != dict:\n",
    "            raise TypeError(\"you have not provided dictionary\")\n",
    "        else:\n",
    "            self.dictionary = dictionary\n",
    "    \n",
    "    def allkeys(self):\n",
    "        return self.dictionary.keys()\n",
    "        \n",
    "    def allvalues(self):\n",
    "        return self.dictionary.values()\n",
    "        \n",
    "    def getvalueofkey(self):\n",
    "        a = input(\"Please enter a key to get the value\")\n",
    "        for key in self.dictionary:\n",
    "            if key == a:\n",
    "                return (key, self.dictionary[key])\n",
    "    def adddatatodict(self,key, value):\n",
    "        self.dictionary[key] = value\n",
    "        return self.dictionary\n"
   ]
  },
  {
   "cell_type": "code",
   "execution_count": null,
   "id": "07eff188",
   "metadata": {},
   "outputs": [],
   "source": [
    "class dictonary_parser:\n",
    "    #Init method \n",
    "    def __init__(self,d):\n",
    "        if(type(d)!=dict):\n",
    "        print(\"pls Enter only Dict\")\n",
    "        else:\n",
    "        self.d=d\n",
    "    #Function for parsing the keys\n",
    "    def parcerDICKEY(self):\n",
    "        if type(self.d)==dict:\n",
    "               for i in d.keys():\n",
    "                print\n",
    "                print(i)\n",
    "     #Function for parsing the \n",
    "    def parcerDICITEMS(self):\n",
    "        if type(self.d)==dict:\n",
    "               for i in d.items():\n",
    "                print(i)\n",
    "    def parcerDICPOP(self):\n",
    "        if type(self.d)==dict:\n",
    "                  print(\"Please enter the input to POPUP\")\n",
    "        popup=input()\n",
    "        #for i in d.keys():\n",
    "        print(self.pop(popup))\n",
    "    def parcerDICPOP(self):\n",
    "        if type(self.d)==dict:\n",
    "                  print(\"Please enter the input of key and item to Insert\")\n",
    "        popke=input()\n",
    "        popitem=input()\n",
    "        for i in d.keys():\n",
    "        print(self.pop(popup))\n"
   ]
  },
  {
   "cell_type": "code",
   "execution_count": null,
   "id": "3050e6a3",
   "metadata": {},
   "outputs": [],
   "source": [
    "class dict_activity :\n",
    "    def __init__ (self, dic) :\n",
    "        self.dic = dic\n",
    "        \n",
    "    def give_allkeys (self) :\n",
    "        if self.check_thetypr() :\n",
    "            return self.dic.keys()\n",
    "        \n",
    "    def give_allvalues (self) :\n",
    "        if self.check_thetypr() :\n",
    "            return self.dic.values()\n",
    "        \n",
    "    def check_thetypr(self) :\n",
    "        if isinstance(self.dic, dict) == 0 :\n",
    "                 raise Exception (\"You have entered a : \", type(self.dic))\n",
    "        return 1 \n",
    "        \n",
    "    def enter_key_to_get_value (self) :\n",
    "        if self.check_thetypr() :\n",
    "            key = input(\"Enter the Key\")\n",
    "            if key in self.dic :\n",
    "                print(\"Value is : \",self.dic[key])\n",
    "            else :\n",
    "                print(\"Key is not present\")\n",
    "                \n",
    "    def enter_key_and_value (self) :\n",
    "        if self.check_thetypr() :\n",
    "            key = input(\"Enter the Key\")\n",
    "            value = input(\"Enter the value\")\n",
    "            self.dic[key] = value\n"
   ]
  },
  {
   "cell_type": "code",
   "execution_count": null,
   "id": "d7816c02",
   "metadata": {},
   "outputs": [],
   "source": [
    "class Dict_class:\n",
    "    def __init__(self, d):\n",
    "        if type(d) != dict:\n",
    "            raise Exception(\"Not a dict\")\n",
    "        self.d = d\n",
    "\n",
    "    def keys(self):\n",
    "        for i in self.d.keys():\n",
    "            print(i)\n",
    "\n",
    "    def values(self):\n",
    "        for i in self.d.values():\n",
    "            print(i)\n",
    "            \n",
    "    def parse(self, key):\n",
    "        print(self.d[key])\n",
    "    \n",
    "    def insert(self, **kwargs):\n",
    "        for k,v in kwargs.items():\n",
    "            self.d[k] = v\n",
    "            print(\"Value inserted\")\n"
   ]
  },
  {
   "cell_type": "code",
   "execution_count": null,
   "id": "74c3f515",
   "metadata": {},
   "outputs": [],
   "source": [
    "class dict_parce:\n",
    "    \n",
    "    def __init__(self,a):\n",
    "        self.a = a\n",
    "        \n",
    "    def key(self):\n",
    "        if type(self.a) == dict:\n",
    "            return (self.a).keys()\n",
    "        \n",
    "    def val(self):\n",
    "        if type(self.a) == dict:\n",
    "            return (self.a).values()\n",
    "        \n",
    "    def try_exception(self):\n",
    "        try:\n",
    "            if type(self.a) == dict:\n",
    "                pass\n",
    "            \n",
    "        except Exception as e:\n",
    "            print('Please enter valid input ',e)\n",
    "            \n",
    "            \n",
    "    def user_pair(self):\n",
    "        self.a = eval(input())\n",
    "        print(self.key())\n",
    "        print(self.val())\n",
    "    \n",
    "        \n",
    "    def enter_pair(self, key, value):     \n",
    "            self.a[key] = value\n",
    "            return self.a\n"
   ]
  },
  {
   "cell_type": "code",
   "execution_count": null,
   "id": "a018751f",
   "metadata": {},
   "outputs": [],
   "source": [
    "import logging as lg\n",
    "lg.basicConfig(filename = \"dict.log\")\n",
    "class dict_parsing :\n",
    "    \n",
    "    def __init__(self,a):\n",
    "        self.a = a\n",
    "    def dic_keys(self):\n",
    "        try:\n",
    "            l = list(self.a.keys())\n",
    "            return l\n",
    "        except :\n",
    "            self.logger(\"enter dictonary\")\n",
    "    def dic_values(self):\n",
    "        try:\n",
    "            return list(self.a.values())\n",
    "        except:\n",
    "            self.logger(\"enter dictonary\")\n",
    "    def insert_dic(self,**kwargs):\n",
    "        try:\n",
    "            self.a.update(kwargs)\n",
    "            return self.a\n",
    "        except:\n",
    "            self.logger(\"enter dictonary\")\n",
    "    def logger(self,log):\n",
    "        logger = lg.error(log)\n",
    "    def check(self):\n",
    "        if type(self.a) != dict:\n",
    "            raise Exception (\"not a dictonary\")\n",
    "        else:\n",
    "            print(\"it is a dictonary\")\n",
    "    def __str__(self):\n",
    "        return 'this is class for dictonary parsing'\n"
   ]
  },
  {
   "cell_type": "code",
   "execution_count": null,
   "id": "58aa5467",
   "metadata": {},
   "outputs": [],
   "source": [
    "class dict_parse:\n",
    "    \n",
    "    def __init__(self, d):\n",
    "        self.d = d\n",
    "    \n",
    "    def check_input_type(self):\n",
    "        try:\n",
    "            if type(self.d) != dict:\n",
    "                raise ValueError(\"Input is not a dictionary\")\n",
    "        except Exception as e:\n",
    "            print(e)\n",
    "            \n",
    "    def get_keys(self):\n",
    "        if type(self.d) == dict:\n",
    "            return list(self.d.keys())\n",
    "        \n",
    "    def get_values(self):\n",
    "        if type(self.d) == dict:\n",
    "            return list(self.d.values())\n",
    "\n",
    "    def get_input(self):\n",
    "        self.d = eval(input(\"Enter the dictionary values\"))\n",
    "        if type(self.d) == dict:\n",
    "            print(\"The value is \", self.d)\n",
    "        else:\n",
    "            print(\"This is not a dictionary\")\n",
    "            \n",
    "    def insert_values(self):\n",
    "        key1 = eval(input(\"Enter the key\"))\n",
    "        val1 = eval(input(\"Enter the value\"))\n",
    "        self.d[key1] = val1\n",
    "        return self.d\n"
   ]
  },
  {
   "cell_type": "code",
   "execution_count": null,
   "id": "dbb8ae07",
   "metadata": {},
   "outputs": [],
   "source": [
    "class dict_parsing:\n",
    "    def __init__(self,d):\n",
    "        self.d=d\n",
    "        \n",
    "    def get_keys(self):\n",
    "        if type(self.d)==dict:\n",
    "            return list(self.d.keys())\n",
    "        \n",
    "    def get_values(self):\n",
    "         if type(self.d)==dict:\n",
    "            return list(self.d.values())\n",
    "    \n",
    "    def check(self):\n",
    "        if type(self.d)==dict:\n",
    "            return \"It is dictionary\"\n",
    "        else:\n",
    "            return \"It is not dictionary\"\n",
    "        \n",
    "    def parcer(self):\n",
    "        d=eval(input(\"Enter a dictionary: \"))\n",
    "        print(d.keys())\n",
    "        print(d.values())\n",
    "        \n",
    "    def insert_val(self):\n",
    "        key=eval(input(\"enter key: \"))\n",
    "        value=eval(input(\"enter value: \"))\n",
    "        self.d[key]=value\n",
    "        return self.d\n"
   ]
  },
  {
   "cell_type": "code",
   "execution_count": null,
   "id": "13846841",
   "metadata": {},
   "outputs": [],
   "source": [
    "class dictionary_parser:\n",
    "    \n",
    "    def __init__(self):\n",
    "        d = eval(input())\n",
    "        if type(d) == dict:\n",
    "                print('Go ahead')\n",
    "        else:\n",
    "            raise Exception('Not a Dictionary')\n",
    "        self.d = d\n",
    "    \n",
    "    def get_keys(self):\n",
    "        return self.d.keys()\n",
    "    \n",
    "    def get_values(self):\n",
    "        return self.d.values()\n",
    "    \n",
    "    def add_values(self, k, v):\n",
    "        self.d[k] = v\n",
    "        return self.d\n"
   ]
  },
  {
   "cell_type": "code",
   "execution_count": null,
   "id": "bda938b6",
   "metadata": {},
   "outputs": [],
   "source": []
  },
  {
   "cell_type": "code",
   "execution_count": 24,
   "id": "8f129de7",
   "metadata": {},
   "outputs": [],
   "source": [
    "d = {\"k\" :\"fdsfa\" , \"k1\" : [3,5,6,76]}"
   ]
  },
  {
   "cell_type": "code",
   "execution_count": 25,
   "id": "109ad260",
   "metadata": {},
   "outputs": [
    {
     "data": {
      "text/plain": [
       "dict_keys(['k', 'k1'])"
      ]
     },
     "execution_count": 25,
     "metadata": {},
     "output_type": "execute_result"
    }
   ],
   "source": [
    "d.keys()"
   ]
  },
  {
   "cell_type": "code",
   "execution_count": 26,
   "id": "24e21bfe",
   "metadata": {},
   "outputs": [
    {
     "ename": "ImportError",
     "evalue": "cannot import name 'dict_parsing' from 'mydict' (C:\\Users\\Nplite\\Favorites\\mydict.py)",
     "output_type": "error",
     "traceback": [
      "\u001b[1;31m---------------------------------------------------------------------------\u001b[0m",
      "\u001b[1;31mImportError\u001b[0m                               Traceback (most recent call last)",
      "\u001b[1;32m<ipython-input-26-91c29dde18af>\u001b[0m in \u001b[0;36m<module>\u001b[1;34m\u001b[0m\n\u001b[0;32m      1\u001b[0m \u001b[1;32mimport\u001b[0m \u001b[0mmydict\u001b[0m\u001b[1;33m\u001b[0m\u001b[1;33m\u001b[0m\u001b[0m\n\u001b[1;32m----> 2\u001b[1;33m \u001b[1;32mfrom\u001b[0m \u001b[0mmydict\u001b[0m \u001b[1;32mimport\u001b[0m \u001b[0mdict_parsing\u001b[0m\u001b[1;33m\u001b[0m\u001b[1;33m\u001b[0m\u001b[0m\n\u001b[0m",
      "\u001b[1;31mImportError\u001b[0m: cannot import name 'dict_parsing' from 'mydict' (C:\\Users\\Nplite\\Favorites\\mydict.py)"
     ]
    }
   ],
   "source": [
    "import mydict\n",
    "from mydict import dict_parsing"
   ]
  },
  {
   "cell_type": "code",
   "execution_count": 27,
   "id": "b4d43372",
   "metadata": {},
   "outputs": [
    {
     "ename": "AttributeError",
     "evalue": "module 'mydict' has no attribute 'dict_parsing'",
     "output_type": "error",
     "traceback": [
      "\u001b[1;31m---------------------------------------------------------------------------\u001b[0m",
      "\u001b[1;31mAttributeError\u001b[0m                            Traceback (most recent call last)",
      "\u001b[1;32m<ipython-input-27-25b96af2b15e>\u001b[0m in \u001b[0;36m<module>\u001b[1;34m\u001b[0m\n\u001b[1;32m----> 1\u001b[1;33m \u001b[0md\u001b[0m \u001b[1;33m=\u001b[0m \u001b[0mmydict\u001b[0m\u001b[1;33m.\u001b[0m\u001b[0mdict_parsing\u001b[0m\u001b[1;33m(\u001b[0m\u001b[1;33m{\u001b[0m\u001b[1;34m\"k1\"\u001b[0m \u001b[1;33m:\u001b[0m \u001b[1;34m\"sudh\"\u001b[0m \u001b[1;33m,\u001b[0m \u001b[1;34m\"k2\"\u001b[0m \u001b[1;33m:\u001b[0m \u001b[1;33m[\u001b[0m\u001b[1;36m1\u001b[0m\u001b[1;33m,\u001b[0m\u001b[1;36m2\u001b[0m\u001b[1;33m,\u001b[0m\u001b[1;36m3\u001b[0m\u001b[1;33m,\u001b[0m\u001b[1;36m4\u001b[0m\u001b[1;33m,\u001b[0m\u001b[1;36m5\u001b[0m\u001b[1;33m]\u001b[0m\u001b[1;33m}\u001b[0m\u001b[1;33m)\u001b[0m\u001b[1;33m\u001b[0m\u001b[1;33m\u001b[0m\u001b[0m\n\u001b[0m",
      "\u001b[1;31mAttributeError\u001b[0m: module 'mydict' has no attribute 'dict_parsing'"
     ]
    }
   ],
   "source": [
    "d = mydict.dict_parsing({\"k1\" : \"sudh\" , \"k2\" : [1,2,3,4,5]})"
   ]
  },
  {
   "cell_type": "code",
   "execution_count": null,
   "id": "574d8f75",
   "metadata": {},
   "outputs": [],
   "source": [
    "d.getkeys()"
   ]
  },
  {
   "cell_type": "code",
   "execution_count": null,
   "id": "3cd086f0",
   "metadata": {},
   "outputs": [],
   "source": [
    "from mydict import dict_parsing"
   ]
  },
  {
   "cell_type": "code",
   "execution_count": null,
   "id": "345bffdb",
   "metadata": {},
   "outputs": [],
   "source": [
    "d2 = dict_parsing1({\"k1\" : \"sudh\" , \"k2\" : [1,2,3,4,5]})"
   ]
  },
  {
   "cell_type": "code",
   "execution_count": null,
   "id": "75a4f272",
   "metadata": {},
   "outputs": [],
   "source": [
    "d2.getvalues()"
   ]
  },
  {
   "cell_type": "code",
   "execution_count": null,
   "id": "8a526be3",
   "metadata": {},
   "outputs": [],
   "source": [
    "import mydict\n",
    "from mydict import dict_parsing"
   ]
  },
  {
   "cell_type": "code",
   "execution_count": null,
   "id": "3687e28c",
   "metadata": {},
   "outputs": [],
   "source": [
    "q1 . Create your own package for all the list function \n",
    "q2 .create your own package for all the tuple function\n",
    "q3 . create your own package for all dictonary function\n",
    "q4 . create your own package for all the set function"
   ]
  },
  {
   "cell_type": "code",
   "execution_count": null,
   "id": "cf469e5f",
   "metadata": {},
   "outputs": [],
   "source": [
    "restriction :\n",
    "    always use exception handling\n",
    "    never use print statement \n",
    "    always use logging while writing a code and log every activity performed by code in respective logging file \n",
    "    \n",
    "you have to submit this by next sunday : before 30th of jan 10 AM IST \n",
    "sudhanshu@ineuron.ai"
   ]
  },
  {
   "cell_type": "code",
   "execution_count": null,
   "id": "4506a9af",
   "metadata": {},
   "outputs": [],
   "source": []
  },
  {
   "cell_type": "code",
   "execution_count": null,
   "id": "ee892e2c",
   "metadata": {},
   "outputs": [],
   "source": [
    "#OOPs is a module to code a logic"
   ]
  },
  {
   "cell_type": "code",
   "execution_count": 28,
   "id": "3b471f61",
   "metadata": {},
   "outputs": [],
   "source": [
    "class car:\n",
    "    def __init__(self, body_type,engine, fuel_type):\n",
    "    \n",
    "        self.body_type = body_type\n",
    "        self.engine = engine\n",
    "        self.fuel_type = input()\n",
    "        \n",
    "        \n",
    "    def test(self):\n",
    "        print(body_type, engine,fuel_type)\n",
    "    \n",
    "    \n"
   ]
  },
  {
   "cell_type": "code",
   "execution_count": 29,
   "id": "dfcb715d",
   "metadata": {},
   "outputs": [
    {
     "name": "stdout",
     "output_type": "stream",
     "text": [
      "\n"
     ]
    }
   ],
   "source": [
    "tesla = car(\"electric\",\"power\",\"current\")"
   ]
  },
  {
   "cell_type": "code",
   "execution_count": 30,
   "id": "a7619a94",
   "metadata": {},
   "outputs": [
    {
     "data": {
      "text/plain": [
       "'power'"
      ]
     },
     "execution_count": 30,
     "metadata": {},
     "output_type": "execute_result"
    }
   ],
   "source": [
    "tesla.engine"
   ]
  },
  {
   "cell_type": "code",
   "execution_count": 31,
   "id": "e7f23455",
   "metadata": {},
   "outputs": [
    {
     "data": {
      "text/plain": [
       "''"
      ]
     },
     "execution_count": 31,
     "metadata": {},
     "output_type": "execute_result"
    }
   ],
   "source": [
    "tesla.fuel_type"
   ]
  },
  {
   "cell_type": "code",
   "execution_count": 32,
   "id": "60bc7a39",
   "metadata": {},
   "outputs": [
    {
     "data": {
      "text/plain": [
       "'electric'"
      ]
     },
     "execution_count": 32,
     "metadata": {},
     "output_type": "execute_result"
    }
   ],
   "source": [
    "tesla.body_type"
   ]
  },
  {
   "cell_type": "code",
   "execution_count": 33,
   "id": "8a60436c",
   "metadata": {},
   "outputs": [],
   "source": [
    "#inharritance polymorgasiam incapsulation"
   ]
  },
  {
   "cell_type": "code",
   "execution_count": null,
   "id": "6dc0e470",
   "metadata": {},
   "outputs": [],
   "source": [
    "#let try to understand inherritance--  "
   ]
  },
  {
   "cell_type": "code",
   "execution_count": 1,
   "id": "dc453c2a",
   "metadata": {},
   "outputs": [],
   "source": [
    "class xyz:\n",
    "    def __init__(self, a ,b, c):\n",
    "        \n",
    "        self.a = a\n",
    "        self.b = b\n",
    "        self.c = c\n",
    "   \n",
    "    def test(self):\n",
    "        print(\"this is my first test method of xyz class\")\n",
    "        \n",
    "    def test1(self):\n",
    "        print(\"this is my first test 1 method of xyz class\")\n",
    "        \n",
    "    def test2(self):\n",
    "        print(\"this is my test2 method of xyz class\")\n"
   ]
  },
  {
   "cell_type": "code",
   "execution_count": 2,
   "id": "2c739f0f",
   "metadata": {},
   "outputs": [],
   "source": [
    "class xyz1(xyz):\n",
    "    pass"
   ]
  },
  {
   "cell_type": "code",
   "execution_count": 34,
   "id": "a129530a",
   "metadata": {},
   "outputs": [
    {
     "ename": "NameError",
     "evalue": "name 'xyz' is not defined",
     "output_type": "error",
     "traceback": [
      "\u001b[1;31m---------------------------------------------------------------------------\u001b[0m",
      "\u001b[1;31mNameError\u001b[0m                                 Traceback (most recent call last)",
      "\u001b[1;32m<ipython-input-34-b3c49ef7de37>\u001b[0m in \u001b[0;36m<module>\u001b[1;34m\u001b[0m\n\u001b[1;32m----> 1\u001b[1;33m \u001b[0mp\u001b[0m \u001b[1;33m=\u001b[0m \u001b[0mxyz\u001b[0m\u001b[1;33m(\u001b[0m\u001b[1;36m1\u001b[0m\u001b[1;33m,\u001b[0m\u001b[1;36m2\u001b[0m\u001b[1;33m,\u001b[0m\u001b[1;36m3\u001b[0m\u001b[1;33m)\u001b[0m   \u001b[1;31m#this is parrent class\u001b[0m\u001b[1;33m\u001b[0m\u001b[1;33m\u001b[0m\u001b[0m\n\u001b[0m",
      "\u001b[1;31mNameError\u001b[0m: name 'xyz' is not defined"
     ]
    }
   ],
   "source": [
    "p = xyz(1,2,3)   #this is parrent class "
   ]
  },
  {
   "cell_type": "code",
   "execution_count": 4,
   "id": "1ba485b4",
   "metadata": {},
   "outputs": [
    {
     "name": "stdout",
     "output_type": "stream",
     "text": [
      "this is my first test 1 method of xyz class\n"
     ]
    }
   ],
   "source": [
    "p.test1()"
   ]
  },
  {
   "cell_type": "code",
   "execution_count": 5,
   "id": "966c571e",
   "metadata": {},
   "outputs": [
    {
     "name": "stdout",
     "output_type": "stream",
     "text": [
      "this is my first test method of xyz class\n"
     ]
    }
   ],
   "source": [
    "p.test()"
   ]
  },
  {
   "cell_type": "code",
   "execution_count": 6,
   "id": "c9b9a809",
   "metadata": {},
   "outputs": [
    {
     "name": "stdout",
     "output_type": "stream",
     "text": [
      "this is my test2 method of xyz class\n"
     ]
    }
   ],
   "source": [
    "p.test2()"
   ]
  },
  {
   "cell_type": "code",
   "execution_count": 7,
   "id": "6439f6e6",
   "metadata": {},
   "outputs": [
    {
     "ename": "TypeError",
     "evalue": "__init__() missing 3 required positional arguments: 'a', 'b', and 'c'",
     "output_type": "error",
     "traceback": [
      "\u001b[1;31m---------------------------------------------------------------------------\u001b[0m",
      "\u001b[1;31mTypeError\u001b[0m                                 Traceback (most recent call last)",
      "\u001b[1;32m<ipython-input-7-680e56a9288d>\u001b[0m in \u001b[0;36m<module>\u001b[1;34m\u001b[0m\n\u001b[1;32m----> 1\u001b[1;33m \u001b[0mq\u001b[0m \u001b[1;33m=\u001b[0m \u001b[0mxyz1\u001b[0m\u001b[1;33m(\u001b[0m\u001b[1;33m)\u001b[0m     \u001b[1;31m#this is a child class you need to puit variable(object)\u001b[0m\u001b[1;33m\u001b[0m\u001b[1;33m\u001b[0m\u001b[0m\n\u001b[0m",
      "\u001b[1;31mTypeError\u001b[0m: __init__() missing 3 required positional arguments: 'a', 'b', and 'c'"
     ]
    }
   ],
   "source": [
    "q = xyz1()     #this is a child class you need to puit variable(object)"
   ]
  },
  {
   "cell_type": "code",
   "execution_count": 8,
   "id": "89c0dd1a",
   "metadata": {},
   "outputs": [],
   "source": [
    "q = xyz1(4,5,6)"
   ]
  },
  {
   "cell_type": "code",
   "execution_count": 9,
   "id": "09f13300",
   "metadata": {},
   "outputs": [
    {
     "name": "stdout",
     "output_type": "stream",
     "text": [
      "this is my first test method of xyz class\n"
     ]
    }
   ],
   "source": [
    "q.test()"
   ]
  },
  {
   "cell_type": "code",
   "execution_count": 10,
   "id": "347d158e",
   "metadata": {},
   "outputs": [
    {
     "name": "stdout",
     "output_type": "stream",
     "text": [
      "this is my first test 1 method of xyz class\n"
     ]
    }
   ],
   "source": [
    "q.test1()"
   ]
  },
  {
   "cell_type": "code",
   "execution_count": 11,
   "id": "e0eb1f80",
   "metadata": {},
   "outputs": [
    {
     "name": "stdout",
     "output_type": "stream",
     "text": [
      "this is my test2 method of xyz class\n"
     ]
    }
   ],
   "source": [
    "q.test2()"
   ]
  },
  {
   "cell_type": "code",
   "execution_count": null,
   "id": "2d90ba33",
   "metadata": {},
   "outputs": [],
   "source": [
    "class xyz1(xyz):\n",
    "    def test(self):\n",
    "        print(\"this is a test method available in xyz1\")"
   ]
  },
  {
   "cell_type": "code",
   "execution_count": null,
   "id": "dc371f2c",
   "metadata": {},
   "outputs": [],
   "source": [
    "g =xyz1(7,8,9)"
   ]
  },
  {
   "cell_type": "code",
   "execution_count": null,
   "id": "dfc69557",
   "metadata": {},
   "outputs": [],
   "source": [
    "g.test() # simply we are trieng to get info from child class not a parrent class"
   ]
  },
  {
   "cell_type": "code",
   "execution_count": 14,
   "id": "d42ccca0",
   "metadata": {},
   "outputs": [],
   "source": [
    "class xyz():\n",
    "    \n",
    "    def __init__(self, a, b, c):\n",
    "        self.a = a\n",
    "        self.b = b\n",
    "        self.c = c\n",
    "        \n",
    "    def test(self):\n",
    "        print(\"this is method of xyz class\")\n",
    "        \n",
    "class xyz1():\n",
    "    \n",
    "    def __init__(self, p , q , v):\n",
    "        self.p = p\n",
    "        self.q = q\n",
    "        self.v = v\n",
    "        \n",
    "    def test1(self):\n",
    "        print(\"this is method of xyz1 class\")\n",
    "        \n",
    "class child(xyz,xyz1):\n",
    "    pass\n",
    "        "
   ]
  },
  {
   "cell_type": "code",
   "execution_count": 15,
   "id": "d413a78e",
   "metadata": {},
   "outputs": [
    {
     "ename": "TypeError",
     "evalue": "__init__() missing 3 required positional arguments: 'a', 'b', and 'c'",
     "output_type": "error",
     "traceback": [
      "\u001b[1;31m---------------------------------------------------------------------------\u001b[0m",
      "\u001b[1;31mTypeError\u001b[0m                                 Traceback (most recent call last)",
      "\u001b[1;32m<ipython-input-15-95f4458e64a2>\u001b[0m in \u001b[0;36m<module>\u001b[1;34m\u001b[0m\n\u001b[1;32m----> 1\u001b[1;33m \u001b[0mn\u001b[0m  \u001b[1;33m=\u001b[0m \u001b[0mchild\u001b[0m\u001b[1;33m(\u001b[0m\u001b[1;33m)\u001b[0m \u001b[1;31m#my object is to inherritate each and everything from xyz and xyz1 classes\u001b[0m\u001b[1;33m\u001b[0m\u001b[1;33m\u001b[0m\u001b[0m\n\u001b[0m",
      "\u001b[1;31mTypeError\u001b[0m: __init__() missing 3 required positional arguments: 'a', 'b', and 'c'"
     ]
    }
   ],
   "source": [
    "n  = child() #my object is to inherritate each and everything from xyz and xyz1 classes"
   ]
  },
  {
   "cell_type": "code",
   "execution_count": 16,
   "id": "9e244317",
   "metadata": {},
   "outputs": [],
   "source": [
    " n = child(4,5,6)"
   ]
  },
  {
   "cell_type": "code",
   "execution_count": 17,
   "id": "e9cbd9b1",
   "metadata": {},
   "outputs": [
    {
     "ename": "SyntaxError",
     "evalue": "invalid syntax (<ipython-input-17-84555151b33f>, line 1)",
     "output_type": "error",
     "traceback": [
      "\u001b[1;36m  File \u001b[1;32m\"<ipython-input-17-84555151b33f>\"\u001b[1;36m, line \u001b[1;32m1\u001b[0m\n\u001b[1;33m    n.     #if we press shift and tab it shows a,b,c,test,test1 variables\u001b[0m\n\u001b[1;37m           ^\u001b[0m\n\u001b[1;31mSyntaxError\u001b[0m\u001b[1;31m:\u001b[0m invalid syntax\n"
     ]
    }
   ],
   "source": [
    "n.     #if we press shift and tab it shows a,b,c,test,test1 variables"
   ]
  },
  {
   "cell_type": "code",
   "execution_count": 18,
   "id": "7aa18e16",
   "metadata": {},
   "outputs": [],
   "source": [
    "class xyz():\n",
    "    \n",
    "    def __init__(self, a, b, c):\n",
    "        self.a = a\n",
    "        self.b = b\n",
    "        self.c = c\n",
    "        \n",
    "    def test(self):\n",
    "        print(\"this is method of xyz class\")\n",
    "        \n",
    "class xyz1():\n",
    "    \n",
    "    def __init__(self, p , q , v):\n",
    "        self.p = p\n",
    "        self.q = q\n",
    "        self.v = v\n",
    "        \n",
    "    def test1(self):\n",
    "        print(\"this is method of xyz1 class\")\n",
    "        \n",
    "class child(xyz1, xyz):           #see the change in this row\n",
    "    pass\n",
    "        "
   ]
  },
  {
   "cell_type": "code",
   "execution_count": 19,
   "id": "cb5c9260",
   "metadata": {},
   "outputs": [
    {
     "ename": "TypeError",
     "evalue": "__init__() missing 3 required positional arguments: 'p', 'q', and 'v'",
     "output_type": "error",
     "traceback": [
      "\u001b[1;31m---------------------------------------------------------------------------\u001b[0m",
      "\u001b[1;31mTypeError\u001b[0m                                 Traceback (most recent call last)",
      "\u001b[1;32m<ipython-input-19-af89ed83901c>\u001b[0m in \u001b[0;36m<module>\u001b[1;34m\u001b[0m\n\u001b[1;32m----> 1\u001b[1;33m \u001b[0mn\u001b[0m \u001b[1;33m=\u001b[0m \u001b[0mchild\u001b[0m\u001b[1;33m(\u001b[0m\u001b[1;33m)\u001b[0m      \u001b[1;31m# in this code we found p ,q, v variable and test ,test1 variables\u001b[0m\u001b[1;33m\u001b[0m\u001b[1;33m\u001b[0m\u001b[0m\n\u001b[0m",
      "\u001b[1;31mTypeError\u001b[0m: __init__() missing 3 required positional arguments: 'p', 'q', and 'v'"
     ]
    }
   ],
   "source": [
    "n = child()      # in this code we found p ,q, v variable and test ,test1 variables"
   ]
  },
  {
   "cell_type": "code",
   "execution_count": null,
   "id": "9dbe2f0f",
   "metadata": {},
   "outputs": [],
   "source": [
    "#i would like to inherritage total 6 variable(both parrents in single program)"
   ]
  },
  {
   "cell_type": "code",
   "execution_count": 20,
   "id": "a382d4e6",
   "metadata": {},
   "outputs": [],
   "source": [
    "class xyz():\n",
    "    \n",
    "    def __init__(self, a, b, c):\n",
    "        self.a = a\n",
    "        self.b = b\n",
    "        self.c = c\n",
    "        \n",
    "    def test(self):\n",
    "        print(\"this is method of xyz class\")\n",
    "        \n",
    "class xyz1():\n",
    "    \n",
    "    def __init__(self, p , q , v):\n",
    "        self.p = p\n",
    "        self.q = q\n",
    "        self.v = v\n",
    "        \n",
    "    def test1(self):\n",
    "        print(\"this is method of xyz1 class\")\n",
    "        \n",
    "class child(xyz, xyz1):           ##we required both class variables(6)\n",
    "    \n",
    "    def __init__(self):\n",
    "        xyz.__init__(self)\n",
    "        xyz1.__init__(self)\n",
    "        "
   ]
  },
  {
   "cell_type": "code",
   "execution_count": 21,
   "id": "d3144882",
   "metadata": {},
   "outputs": [
    {
     "ename": "TypeError",
     "evalue": "__init__() takes 1 positional argument but 4 were given",
     "output_type": "error",
     "traceback": [
      "\u001b[1;31m---------------------------------------------------------------------------\u001b[0m",
      "\u001b[1;31mTypeError\u001b[0m                                 Traceback (most recent call last)",
      "\u001b[1;32m<ipython-input-21-efa7aafde6f2>\u001b[0m in \u001b[0;36m<module>\u001b[1;34m\u001b[0m\n\u001b[1;32m----> 1\u001b[1;33m \u001b[0mn\u001b[0m \u001b[1;33m=\u001b[0m \u001b[0mchild\u001b[0m\u001b[1;33m(\u001b[0m\u001b[1;36m4\u001b[0m\u001b[1;33m,\u001b[0m\u001b[1;36m5\u001b[0m\u001b[1;33m,\u001b[0m\u001b[1;36m6\u001b[0m\u001b[1;33m)\u001b[0m\u001b[1;33m\u001b[0m\u001b[1;33m\u001b[0m\u001b[0m\n\u001b[0m",
      "\u001b[1;31mTypeError\u001b[0m: __init__() takes 1 positional argument but 4 were given"
     ]
    }
   ],
   "source": [
    "n = child(4,5,6)"
   ]
  },
  {
   "cell_type": "code",
   "execution_count": 35,
   "id": "a5672d52",
   "metadata": {},
   "outputs": [],
   "source": [
    "class xyz():  # MULTIPLE INHERRITANCE\n",
    "    \n",
    "    def __init__(self, a, b, c):\n",
    "        self.a = a\n",
    "        self.b = b\n",
    "        self.c = c\n",
    "        \n",
    "    def test(self):\n",
    "        print(\"this is method of xyz class\")\n",
    "        \n",
    "class xyz1():\n",
    "    \n",
    "    def __init__(self, p , q , v):\n",
    "        self.p = p\n",
    "        self.q = q\n",
    "        self.v = v\n",
    "        \n",
    "    def test1(self):\n",
    "        print(\"this is method of xyz1 class\")\n",
    "        \n",
    "class child(xyz, xyz1):           ##we required both class variables(6)\n",
    "    \n",
    "    def __init__(self,*args):\n",
    "        xyz.__init__(self, *args)              #*args== multiple orgument we pass that completly fine with the help of *args at any time\n",
    "        xyz1.__init__(self, *args)\n",
    "        "
   ]
  },
  {
   "cell_type": "code",
   "execution_count": 36,
   "id": "fd906342",
   "metadata": {},
   "outputs": [],
   "source": [
    "n = child(4,5,6)"
   ]
  },
  {
   "cell_type": "code",
   "execution_count": 30,
   "id": "236847d2",
   "metadata": {},
   "outputs": [
    {
     "ename": "SyntaxError",
     "evalue": "invalid syntax (<ipython-input-30-f4f9262f3486>, line 1)",
     "output_type": "error",
     "traceback": [
      "\u001b[1;36m  File \u001b[1;32m\"<ipython-input-30-f4f9262f3486>\"\u001b[1;36m, line \u001b[1;32m1\u001b[0m\n\u001b[1;33m    n.            #inside this row we used shift and tab we found all variables inside this row\u001b[0m\n\u001b[1;37m                  ^\u001b[0m\n\u001b[1;31mSyntaxError\u001b[0m\u001b[1;31m:\u001b[0m invalid syntax\n"
     ]
    }
   ],
   "source": [
    "n.            #inside this row we used shift and tab we found all variables inside this row"
   ]
  },
  {
   "cell_type": "code",
   "execution_count": 37,
   "id": "e07d4d97",
   "metadata": {},
   "outputs": [
    {
     "data": {
      "text/plain": [
       "4"
      ]
     },
     "execution_count": 37,
     "metadata": {},
     "output_type": "execute_result"
    }
   ],
   "source": [
    "n.p"
   ]
  },
  {
   "cell_type": "code",
   "execution_count": 38,
   "id": "572c686c",
   "metadata": {},
   "outputs": [
    {
     "data": {
      "text/plain": [
       "5"
      ]
     },
     "execution_count": 38,
     "metadata": {},
     "output_type": "execute_result"
    }
   ],
   "source": [
    "n.q"
   ]
  },
  {
   "cell_type": "code",
   "execution_count": 39,
   "id": "50e96ff8",
   "metadata": {},
   "outputs": [
    {
     "data": {
      "text/plain": [
       "4"
      ]
     },
     "execution_count": 39,
     "metadata": {},
     "output_type": "execute_result"
    }
   ],
   "source": [
    "n.a"
   ]
  },
  {
   "cell_type": "code",
   "execution_count": 40,
   "id": "27fb3944",
   "metadata": {},
   "outputs": [
    {
     "data": {
      "text/plain": [
       "6"
      ]
     },
     "execution_count": 40,
     "metadata": {},
     "output_type": "execute_result"
    }
   ],
   "source": [
    "n.v"
   ]
  },
  {
   "cell_type": "code",
   "execution_count": 41,
   "id": "e024a90b",
   "metadata": {},
   "outputs": [
    {
     "name": "stdout",
     "output_type": "stream",
     "text": [
      "this is method of xyz class\n"
     ]
    }
   ],
   "source": [
    "n.test()"
   ]
  },
  {
   "cell_type": "code",
   "execution_count": 42,
   "id": "95c5991e",
   "metadata": {},
   "outputs": [
    {
     "name": "stdout",
     "output_type": "stream",
     "text": [
      "this is method of xyz1 class\n"
     ]
    }
   ],
   "source": [
    "n.test1()"
   ]
  },
  {
   "cell_type": "code",
   "execution_count": 37,
   "id": "9b72e6aa",
   "metadata": {},
   "outputs": [],
   "source": [
    " class xyz():\n",
    "    \n",
    "    def __init__(self, a, b, c):\n",
    "        self.a = a\n",
    "        self.b = b\n",
    "        self.c = c\n",
    "        \n",
    "    def test(self):\n",
    "        print(\"this is method of xyz class\")\n",
    "        \n",
    "class xyz1():\n",
    "    \n",
    "    def __init__(self, p , q , v):\n",
    "        self.p = p\n",
    "        self.q = q\n",
    "        self.v = v\n",
    "        \n",
    "    def test1(self):\n",
    "        print(\"this is method of xyz1 class\")\n",
    "        \n",
    "class child(xyz, xyz1):           \n",
    "    \n",
    "    def __init__(self,*args,**kwargs):\n",
    "        xyz.__init__(self, *args) \n",
    "        xyz1.__init__(self, **kwargs)\n",
    "        "
   ]
  },
  {
   "cell_type": "code",
   "execution_count": 38,
   "id": "d3c0ec0d",
   "metadata": {},
   "outputs": [
    {
     "ename": "TypeError",
     "evalue": "__init__() missing 3 required positional arguments: 'p', 'q', and 'v'",
     "output_type": "error",
     "traceback": [
      "\u001b[1;31m---------------------------------------------------------------------------\u001b[0m",
      "\u001b[1;31mTypeError\u001b[0m                                 Traceback (most recent call last)",
      "\u001b[1;32m<ipython-input-38-8d403a23c823>\u001b[0m in \u001b[0;36m<module>\u001b[1;34m\u001b[0m\n\u001b[1;32m----> 1\u001b[1;33m \u001b[0mn\u001b[0m \u001b[1;33m=\u001b[0m \u001b[0mchild\u001b[0m\u001b[1;33m(\u001b[0m\u001b[1;36m1\u001b[0m\u001b[1;33m,\u001b[0m\u001b[1;36m2\u001b[0m\u001b[1;33m,\u001b[0m\u001b[1;36m3\u001b[0m\u001b[1;33m)\u001b[0m \u001b[1;31m# it ask for 6 variables\u001b[0m\u001b[1;33m\u001b[0m\u001b[1;33m\u001b[0m\u001b[0m\n\u001b[0m",
      "\u001b[1;32m<ipython-input-37-c74ec85e2441>\u001b[0m in \u001b[0;36m__init__\u001b[1;34m(self, *args, **kwargs)\u001b[0m\n\u001b[0;32m     23\u001b[0m    \u001b[1;32mdef\u001b[0m \u001b[0m__init__\u001b[0m\u001b[1;33m(\u001b[0m\u001b[0mself\u001b[0m\u001b[1;33m,\u001b[0m\u001b[1;33m*\u001b[0m\u001b[0margs\u001b[0m\u001b[1;33m,\u001b[0m\u001b[1;33m**\u001b[0m\u001b[0mkwargs\u001b[0m\u001b[1;33m)\u001b[0m\u001b[1;33m:\u001b[0m\u001b[1;33m\u001b[0m\u001b[1;33m\u001b[0m\u001b[0m\n\u001b[0;32m     24\u001b[0m        \u001b[0mxyz\u001b[0m\u001b[1;33m.\u001b[0m\u001b[0m__init__\u001b[0m\u001b[1;33m(\u001b[0m\u001b[0mself\u001b[0m\u001b[1;33m,\u001b[0m \u001b[1;33m*\u001b[0m\u001b[0margs\u001b[0m\u001b[1;33m)\u001b[0m\u001b[1;33m\u001b[0m\u001b[1;33m\u001b[0m\u001b[0m\n\u001b[1;32m---> 25\u001b[1;33m        \u001b[0mxyz1\u001b[0m\u001b[1;33m.\u001b[0m\u001b[0m__init__\u001b[0m\u001b[1;33m(\u001b[0m\u001b[0mself\u001b[0m\u001b[1;33m,\u001b[0m \u001b[1;33m**\u001b[0m\u001b[0mkwargs\u001b[0m\u001b[1;33m)\u001b[0m\u001b[1;33m\u001b[0m\u001b[1;33m\u001b[0m\u001b[0m\n\u001b[0m\u001b[0;32m     26\u001b[0m \u001b[1;33m\u001b[0m\u001b[0m\n",
      "\u001b[1;31mTypeError\u001b[0m: __init__() missing 3 required positional arguments: 'p', 'q', and 'v'"
     ]
    }
   ],
   "source": [
    "n = child(1,2,3) # it ask for 6 variables"
   ]
  },
  {
   "cell_type": "code",
   "execution_count": 39,
   "id": "f882cbee",
   "metadata": {},
   "outputs": [
    {
     "ename": "SyntaxError",
     "evalue": "invalid syntax (<ipython-input-39-9d2d0ab0e94f>, line 1)",
     "output_type": "error",
     "traceback": [
      "\u001b[1;36m  File \u001b[1;32m\"<ipython-input-39-9d2d0ab0e94f>\"\u001b[1;36m, line \u001b[1;32m1\u001b[0m\n\u001b[1;33m    n = child(1,2,3,4,5,6) so we have to lebel it w r t name\u001b[0m\n\u001b[1;37m                           ^\u001b[0m\n\u001b[1;31mSyntaxError\u001b[0m\u001b[1;31m:\u001b[0m invalid syntax\n"
     ]
    }
   ],
   "source": [
    "n = child(1,2,3,4,5,6) so we have to lebel it w r t name"
   ]
  },
  {
   "cell_type": "code",
   "execution_count": 40,
   "id": "d97cf366",
   "metadata": {},
   "outputs": [],
   "source": [
    "n = child(1,2,3, p = 4, q = 5, v = 6)"
   ]
  },
  {
   "cell_type": "code",
   "execution_count": 41,
   "id": "287e9134",
   "metadata": {},
   "outputs": [
    {
     "data": {
      "text/plain": [
       "1"
      ]
     },
     "execution_count": 41,
     "metadata": {},
     "output_type": "execute_result"
    }
   ],
   "source": [
    "n.a"
   ]
  },
  {
   "cell_type": "code",
   "execution_count": 42,
   "id": "1e3f75ce",
   "metadata": {},
   "outputs": [
    {
     "data": {
      "text/plain": [
       "4"
      ]
     },
     "execution_count": 42,
     "metadata": {},
     "output_type": "execute_result"
    }
   ],
   "source": [
    "n.p"
   ]
  },
  {
   "cell_type": "code",
   "execution_count": 43,
   "id": "4dfabccb",
   "metadata": {},
   "outputs": [
    {
     "name": "stdout",
     "output_type": "stream",
     "text": [
      "this is method of xyz class\n"
     ]
    }
   ],
   "source": [
    "n.test()"
   ]
  },
  {
   "cell_type": "code",
   "execution_count": 44,
   "id": "7243bd9f",
   "metadata": {},
   "outputs": [
    {
     "name": "stdout",
     "output_type": "stream",
     "text": [
      "this is method of xyz1 class\n"
     ]
    }
   ],
   "source": [
    "n.test1()"
   ]
  },
  {
   "cell_type": "code",
   "execution_count": 45,
   "id": "5f88bb23",
   "metadata": {},
   "outputs": [
    {
     "data": {
      "text/plain": [
       "6"
      ]
     },
     "execution_count": 45,
     "metadata": {},
     "output_type": "execute_result"
    }
   ],
   "source": [
    "n.v"
   ]
  },
  {
   "cell_type": "code",
   "execution_count": 1,
   "id": "0bc6040a",
   "metadata": {},
   "outputs": [],
   "source": [
    "class xyz():    # MULTILEVEL INHERRITANCE\n",
    "    \n",
    "    def __init__(self, a, b, c):\n",
    "            self.a = a\n",
    "            self.b = b                   #grandparrents class\n",
    "            self.c = c\n",
    "            \n",
    "    def test(self):\n",
    "            print(\"this is my xyz class\")\n",
    "            \n",
    "class xyz1(xyz):\n",
    "    \n",
    "    def test1(self):\n",
    "        print(\"this is my xyz1 class\")      #parrents class\n",
    "        \n",
    "class xyz2(xyz1):\n",
    "    \n",
    "    def test2(self):\n",
    "        print(\"this is my xyz2 class\")       #child class\n",
    "            \n",
    "            \n",
    "       # we can add multilevel data in this inherritance    \n",
    "    "
   ]
  },
  {
   "cell_type": "code",
   "execution_count": 2,
   "id": "7cfe809d",
   "metadata": {},
   "outputs": [
    {
     "ename": "TypeError",
     "evalue": "__init__() missing 3 required positional arguments: 'a', 'b', and 'c'",
     "output_type": "error",
     "traceback": [
      "\u001b[1;31m---------------------------------------------------------------------------\u001b[0m",
      "\u001b[1;31mTypeError\u001b[0m                                 Traceback (most recent call last)",
      "\u001b[1;32m<ipython-input-2-9ee23df365a8>\u001b[0m in \u001b[0;36m<module>\u001b[1;34m\u001b[0m\n\u001b[1;32m----> 1\u001b[1;33m \u001b[0mv\u001b[0m \u001b[1;33m=\u001b[0m \u001b[0mxyz2\u001b[0m\u001b[1;33m(\u001b[0m\u001b[1;33m)\u001b[0m \u001b[1;31m# xyz2 trying to generate data from xyz1 and xyz1 generate data from xyz\u001b[0m\u001b[1;33m\u001b[0m\u001b[1;33m\u001b[0m\u001b[0m\n\u001b[0m",
      "\u001b[1;31mTypeError\u001b[0m: __init__() missing 3 required positional arguments: 'a', 'b', and 'c'"
     ]
    }
   ],
   "source": [
    "v = xyz2() # xyz2 trying to generate data from xyz1 and xyz1 generate data from xyz"
   ]
  },
  {
   "cell_type": "code",
   "execution_count": 3,
   "id": "01c2b256",
   "metadata": {},
   "outputs": [],
   "source": [
    "\n",
    "v = xyz2(9,8,7)"
   ]
  },
  {
   "cell_type": "code",
   "execution_count": 4,
   "id": "d26bda78",
   "metadata": {},
   "outputs": [
    {
     "data": {
      "text/plain": [
       "9"
      ]
     },
     "execution_count": 4,
     "metadata": {},
     "output_type": "execute_result"
    }
   ],
   "source": [
    "v.a"
   ]
  },
  {
   "cell_type": "code",
   "execution_count": 5,
   "id": "e405d8c8",
   "metadata": {},
   "outputs": [
    {
     "name": "stdout",
     "output_type": "stream",
     "text": [
      "this is my xyz class\n"
     ]
    }
   ],
   "source": [
    "v.test()"
   ]
  },
  {
   "cell_type": "code",
   "execution_count": 6,
   "id": "5b5c3123",
   "metadata": {},
   "outputs": [
    {
     "name": "stdout",
     "output_type": "stream",
     "text": [
      "this is my xyz1 class\n"
     ]
    }
   ],
   "source": [
    "v.test1()"
   ]
  },
  {
   "cell_type": "code",
   "execution_count": 7,
   "id": "bc3b736d",
   "metadata": {},
   "outputs": [
    {
     "name": "stdout",
     "output_type": "stream",
     "text": [
      "this is my xyz2 class\n"
     ]
    }
   ],
   "source": [
    "v.test2()"
   ]
  },
  {
   "cell_type": "code",
   "execution_count": 53,
   "id": "83220092",
   "metadata": {},
   "outputs": [
    {
     "ename": "SyntaxError",
     "evalue": "invalid syntax (<ipython-input-53-8aefac58d3e1>, line 1)",
     "output_type": "error",
     "traceback": [
      "\u001b[1;36m  File \u001b[1;32m\"<ipython-input-53-8aefac58d3e1>\"\u001b[1;36m, line \u001b[1;32m1\u001b[0m\n\u001b[1;33m    q1. create a file class for reading data from respective file wioth a method name read and write\u001b[0m\n\u001b[1;37m               ^\u001b[0m\n\u001b[1;31mSyntaxError\u001b[0m\u001b[1;31m:\u001b[0m invalid syntax\n"
     ]
    }
   ],
   "source": [
    "q1. create a file class for reading data from respective file wioth a method name read and write\n",
    "q2. try to inherit read and write method from parent class to child class to performed read and write operation.\n"
   ]
  },
  {
   "cell_type": "code",
   "execution_count": 54,
   "id": "3518a5a6",
   "metadata": {},
   "outputs": [
    {
     "ename": "AttributeError",
     "evalue": "'readfile1' object has no attribute 'file'",
     "output_type": "error",
     "traceback": [
      "\u001b[1;31m---------------------------------------------------------------------------\u001b[0m",
      "\u001b[1;31mAttributeError\u001b[0m                            Traceback (most recent call last)",
      "\u001b[1;32m<ipython-input-54-3ba090495262>\u001b[0m in \u001b[0;36m<module>\u001b[1;34m\u001b[0m\n\u001b[0;32m     27\u001b[0m \u001b[1;33m\u001b[0m\u001b[0m\n\u001b[0;32m     28\u001b[0m \u001b[0mread_write\u001b[0m \u001b[1;33m=\u001b[0m \u001b[0mreadfile1\u001b[0m\u001b[1;33m(\u001b[0m\u001b[0mfile1\u001b[0m\u001b[1;33m,\u001b[0m\u001b[0mlines\u001b[0m\u001b[1;33m)\u001b[0m\u001b[1;33m\u001b[0m\u001b[1;33m\u001b[0m\u001b[0m\n\u001b[1;32m---> 29\u001b[1;33m \u001b[0mread_write\u001b[0m\u001b[1;33m.\u001b[0m\u001b[0mwritefile\u001b[0m\u001b[1;33m(\u001b[0m\u001b[1;33m)\u001b[0m\u001b[1;33m\u001b[0m\u001b[1;33m\u001b[0m\u001b[0m\n\u001b[0m\u001b[0;32m     30\u001b[0m \u001b[0mread_write\u001b[0m\u001b[1;33m.\u001b[0m\u001b[0mreadfile\u001b[0m\u001b[1;33m(\u001b[0m\u001b[1;33m)\u001b[0m\u001b[1;33m\u001b[0m\u001b[1;33m\u001b[0m\u001b[0m\n",
      "\u001b[1;32m<ipython-input-54-3ba090495262>\u001b[0m in \u001b[0;36mwritefile\u001b[1;34m(self)\u001b[0m\n\u001b[0;32m     14\u001b[0m \u001b[1;33m\u001b[0m\u001b[0m\n\u001b[0;32m     15\u001b[0m     \u001b[1;32mdef\u001b[0m \u001b[0mwritefile\u001b[0m\u001b[1;33m(\u001b[0m\u001b[0mself\u001b[0m\u001b[1;33m)\u001b[0m\u001b[1;33m:\u001b[0m\u001b[1;33m\u001b[0m\u001b[1;33m\u001b[0m\u001b[0m\n\u001b[1;32m---> 16\u001b[1;33m         \u001b[0mcontent_write\u001b[0m \u001b[1;33m=\u001b[0m \u001b[0mopen\u001b[0m\u001b[1;33m(\u001b[0m\u001b[0mself\u001b[0m\u001b[1;33m.\u001b[0m\u001b[0mfile\u001b[0m\u001b[1;33m,\u001b[0m\u001b[1;34m\"w\"\u001b[0m\u001b[1;33m)\u001b[0m\u001b[1;33m\u001b[0m\u001b[1;33m\u001b[0m\u001b[0m\n\u001b[0m\u001b[0;32m     17\u001b[0m         \u001b[0mcontent_write\u001b[0m\u001b[1;33m.\u001b[0m\u001b[0mwritelines\u001b[0m\u001b[1;33m(\u001b[0m\u001b[0mlines\u001b[0m\u001b[1;33m)\u001b[0m\u001b[1;33m\u001b[0m\u001b[1;33m\u001b[0m\u001b[0m\n\u001b[0;32m     18\u001b[0m         \u001b[0mcontent_write\u001b[0m\u001b[1;33m.\u001b[0m\u001b[0mclose\u001b[0m\u001b[1;33m(\u001b[0m\u001b[1;33m)\u001b[0m\u001b[1;33m\u001b[0m\u001b[1;33m\u001b[0m\u001b[0m\n",
      "\u001b[1;31mAttributeError\u001b[0m: 'readfile1' object has no attribute 'file'"
     ]
    }
   ],
   "source": [
    "class readfile():\n",
    "    \n",
    "    def __init__(self, fileobj, lines):\n",
    "        \n",
    "        self.fileobj = fileobj\n",
    "        self.lines = lines\n",
    "        \n",
    "    def readfile(self):\n",
    "        file2 = open(self.file,\"r\")\n",
    "        line = file2.readline()\n",
    "        while(line!= \"\"):\n",
    "            print(\"line\")\n",
    "            line =file2.readline()\n",
    "            \n",
    "    def writefile(self):\n",
    "        content_write = open(self.file,\"w\")\n",
    "        content_write.writelines(lines)\n",
    "        content_write.close()\n",
    "        \n",
    "class readfile1(readfile):\n",
    "    \n",
    "    def readfile1(self):\n",
    "        print(\"Inherritance of readfile class\")\n",
    "        \n",
    "file1 = r'test1.txt'\n",
    "lines = 'inserted lines'\n",
    "\n",
    "read_write = readfile1(file1,lines)\n",
    "read_write.writefile()\n",
    "read_write.readfile()"
   ]
  },
  {
   "cell_type": "code",
   "execution_count": null,
   "id": "6186779e",
   "metadata": {},
   "outputs": [],
   "source": []
  },
  {
   "cell_type": "code",
   "execution_count": null,
   "id": "59381d1c",
   "metadata": {},
   "outputs": [],
   "source": []
  },
  {
   "cell_type": "code",
   "execution_count": null,
   "id": "995af927",
   "metadata": {},
   "outputs": [],
   "source": []
  },
  {
   "cell_type": "code",
   "execution_count": 43,
   "id": "e7f2b626",
   "metadata": {},
   "outputs": [],
   "source": [
    "class filetask:\n",
    "    \n",
    "    def __init__(self, filename,  filetype):\n",
    "        self.filename = filename\n",
    "        self.filetype = filetype\n",
    "        \n",
    "    def file_write(self):\n",
    "        f = open(self.file,\"w\")\n",
    "        f.write(\"this is my class task\")\n",
    "        f.close()\n",
    "        \n",
    "    def file_read(self):\n",
    "        f = open(self.file,\"r\")\n",
    "        print(f.readline())\n",
    "        f.close()\n",
    "        \n",
    "class file_read(filetask):\n",
    "    pass\n",
    "\n",
    "test1 = filetask(\"testing class\",\".txt\")\n",
    "test2 = file_read(\"testing child\",\".txt\")"
   ]
  },
  {
   "cell_type": "code",
   "execution_count": 44,
   "id": "21549d7e",
   "metadata": {},
   "outputs": [
    {
     "data": {
      "text/plain": [
       "<__main__.filetask at 0x1b21c87daf0>"
      ]
     },
     "execution_count": 44,
     "metadata": {},
     "output_type": "execute_result"
    }
   ],
   "source": [
    "test1"
   ]
  },
  {
   "cell_type": "code",
   "execution_count": 45,
   "id": "b0fc1799",
   "metadata": {},
   "outputs": [
    {
     "data": {
      "text/plain": [
       "<__main__.file_read at 0x1b21c87d280>"
      ]
     },
     "execution_count": 45,
     "metadata": {},
     "output_type": "execute_result"
    }
   ],
   "source": [
    "test2"
   ]
  },
  {
   "cell_type": "code",
   "execution_count": 46,
   "id": "6cf41f25",
   "metadata": {},
   "outputs": [
    {
     "ename": "TypeError",
     "evalue": "'filetask' object is not callable",
     "output_type": "error",
     "traceback": [
      "\u001b[1;31m---------------------------------------------------------------------------\u001b[0m",
      "\u001b[1;31mTypeError\u001b[0m                                 Traceback (most recent call last)",
      "\u001b[1;32m<ipython-input-46-51a57b51f630>\u001b[0m in \u001b[0;36m<module>\u001b[1;34m\u001b[0m\n\u001b[1;32m----> 1\u001b[1;33m \u001b[0mtest1\u001b[0m\u001b[1;33m(\u001b[0m\u001b[1;33m)\u001b[0m\u001b[1;33m\u001b[0m\u001b[1;33m\u001b[0m\u001b[0m\n\u001b[0m",
      "\u001b[1;31mTypeError\u001b[0m: 'filetask' object is not callable"
     ]
    }
   ],
   "source": [
    "test1()"
   ]
  },
  {
   "cell_type": "code",
   "execution_count": null,
   "id": "6d117ae6",
   "metadata": {},
   "outputs": [],
   "source": []
  },
  {
   "cell_type": "code",
   "execution_count": null,
   "id": "93fe4464",
   "metadata": {},
   "outputs": [],
   "source": []
  },
  {
   "cell_type": "code",
   "execution_count": null,
   "id": "07f493d0",
   "metadata": {},
   "outputs": [],
   "source": []
  },
  {
   "cell_type": "code",
   "execution_count": null,
   "id": "3996d989",
   "metadata": {},
   "outputs": [],
   "source": []
  },
  {
   "cell_type": "code",
   "execution_count": null,
   "id": "ef5337c0",
   "metadata": {},
   "outputs": [],
   "source": []
  },
  {
   "cell_type": "code",
   "execution_count": null,
   "id": "136acb10",
   "metadata": {},
   "outputs": [],
   "source": []
  },
  {
   "cell_type": "code",
   "execution_count": null,
   "id": "fff42443",
   "metadata": {},
   "outputs": [],
   "source": [
    "#PUBLIC PRIVATE AND PROTECTED CONCEPT\n"
   ]
  },
  {
   "cell_type": "code",
   "execution_count": 47,
   "id": "67fd557d",
   "metadata": {},
   "outputs": [],
   "source": [
    "class test:\n",
    "    def __init__(self,a,b,c):\n",
    "        self.a = a\n",
    "        self.b = b\n",
    "        self.c = c\n",
    "        \n",
    "class test1(test): #this is multilevel class\n",
    "    pass\n",
    "\n",
    "u = test(4,5,6)\n",
    "    "
   ]
  },
  {
   "cell_type": "code",
   "execution_count": 48,
   "id": "cfae320a",
   "metadata": {},
   "outputs": [
    {
     "data": {
      "text/plain": [
       "'name of the variable is same but the \\n value im able to altered '"
      ]
     },
     "execution_count": 48,
     "metadata": {},
     "output_type": "execute_result"
    }
   ],
   "source": [
    "v = test1(1,2,3)   \n",
    "\"\"\"name of the variable is same but the \n",
    " value im able to altered \"\"\""
   ]
  },
  {
   "cell_type": "code",
   "execution_count": 1,
   "id": "a21cf379",
   "metadata": {},
   "outputs": [],
   "source": [
    "class test:\n",
    "    def __init__(self):\n",
    "        self.a = 4\n",
    "    \n",
    "        \n",
    "class test1(test):\n",
    "    pass\n",
    "\n",
    "u = test()\n",
    "    "
   ]
  },
  {
   "cell_type": "code",
   "execution_count": 2,
   "id": "6b318618",
   "metadata": {},
   "outputs": [
    {
     "data": {
      "text/plain": [
       "4"
      ]
     },
     "execution_count": 2,
     "metadata": {},
     "output_type": "execute_result"
    }
   ],
   "source": [
    "u.a"
   ]
  },
  {
   "cell_type": "code",
   "execution_count": 3,
   "id": "da47d22a",
   "metadata": {},
   "outputs": [],
   "source": [
    "v = test1()"
   ]
  },
  {
   "cell_type": "code",
   "execution_count": 4,
   "id": "01ddd89b",
   "metadata": {},
   "outputs": [
    {
     "data": {
      "text/plain": [
       "4"
      ]
     },
     "execution_count": 4,
     "metadata": {},
     "output_type": "execute_result"
    }
   ],
   "source": [
    "v.a"
   ]
  },
  {
   "cell_type": "code",
   "execution_count": 5,
   "id": "305a71a6",
   "metadata": {},
   "outputs": [],
   "source": [
    "class test:\n",
    "    def __init__(self):\n",
    "        self.a = 4\n",
    "    \n",
    "        \n",
    "class test1(test):\n",
    "    def __init__(self):\n",
    "        \n",
    "        self.a = 7\n",
    "\n",
    "u = test()\n",
    "    "
   ]
  },
  {
   "cell_type": "code",
   "execution_count": 6,
   "id": "40320fc9",
   "metadata": {},
   "outputs": [
    {
     "data": {
      "text/plain": [
       "4"
      ]
     },
     "execution_count": 6,
     "metadata": {},
     "output_type": "execute_result"
    }
   ],
   "source": [
    "u.a       # we able to access the 4 rather than 7"
   ]
  },
  {
   "cell_type": "code",
   "execution_count": 7,
   "id": "ea0042cf",
   "metadata": {},
   "outputs": [],
   "source": [
    "v = test1()"
   ]
  },
  {
   "cell_type": "code",
   "execution_count": 8,
   "id": "9a4b0551",
   "metadata": {},
   "outputs": [
    {
     "data": {
      "text/plain": [
       "7"
      ]
     },
     "execution_count": 8,
     "metadata": {},
     "output_type": "execute_result"
    }
   ],
   "source": [
    "v.a"
   ]
  },
  {
   "cell_type": "code",
   "execution_count": 10,
   "id": "6070f3a1",
   "metadata": {},
   "outputs": [],
   "source": [
    "class test:\n",
    "    def __init__(self):\n",
    "        self.a = 4\n",
    "    \n",
    "        \n",
    "class test1(test):\n",
    "    def __init__(self):\n",
    "        test.__init__(self)\n",
    "        self.a = 7 \n",
    "        \n",
    "\n",
    "u = test()\n",
    "    "
   ]
  },
  {
   "cell_type": "code",
   "execution_count": 11,
   "id": "88255e31",
   "metadata": {},
   "outputs": [
    {
     "data": {
      "text/plain": [
       "4"
      ]
     },
     "execution_count": 11,
     "metadata": {},
     "output_type": "execute_result"
    }
   ],
   "source": [
    "u.a              # again we are fetching 4"
   ]
  },
  {
   "cell_type": "code",
   "execution_count": 12,
   "id": "d6bbd6b7",
   "metadata": {},
   "outputs": [],
   "source": [
    " v = test1()"
   ]
  },
  {
   "cell_type": "code",
   "execution_count": 13,
   "id": "aa015c05",
   "metadata": {},
   "outputs": [
    {
     "data": {
      "text/plain": [
       "7"
      ]
     },
     "execution_count": 13,
     "metadata": {},
     "output_type": "execute_result"
    }
   ],
   "source": [
    "v.a"
   ]
  },
  {
   "cell_type": "code",
   "execution_count": 14,
   "id": "d5e38d77",
   "metadata": {},
   "outputs": [],
   "source": [
    "class test:\n",
    "    def __init__(self):\n",
    "        self._a = 4        #  in this line we make changes single underscore\n",
    "    \n",
    "        \n",
    "class test1(test):\n",
    "    def __init__(self):\n",
    "        self._a = 7 \n",
    "        \n",
    "\n",
    "u = test()\n",
    "    "
   ]
  },
  {
   "cell_type": "code",
   "execution_count": 15,
   "id": "41f3286e",
   "metadata": {},
   "outputs": [
    {
     "data": {
      "text/plain": [
       "4"
      ]
     },
     "execution_count": 15,
     "metadata": {},
     "output_type": "execute_result"
    }
   ],
   "source": [
    "u._a         # becoz of single underscore there is protected this code"
   ]
  },
  {
   "cell_type": "code",
   "execution_count": 16,
   "id": "b763c4a5",
   "metadata": {},
   "outputs": [],
   "source": [
    "v = test1()"
   ]
  },
  {
   "cell_type": "code",
   "execution_count": 17,
   "id": "e35fd292",
   "metadata": {},
   "outputs": [
    {
     "data": {
      "text/plain": [
       "7"
      ]
     },
     "execution_count": 17,
     "metadata": {},
     "output_type": "execute_result"
    }
   ],
   "source": [
    "v._a"
   ]
  },
  {
   "cell_type": "code",
   "execution_count": 18,
   "id": "2ade1c94",
   "metadata": {},
   "outputs": [],
   "source": [
    "class test:\n",
    "    def __init__(self,a,b,c):\n",
    "        self.a = a\n",
    "        self.b = b\n",
    "        self.c = c\n",
    "     \n",
    "    \n",
    "v = test(4,5,6)\n",
    "    "
   ]
  },
  {
   "cell_type": "code",
   "execution_count": 19,
   "id": "2dc9697c",
   "metadata": {},
   "outputs": [
    {
     "data": {
      "text/plain": [
       "4"
      ]
     },
     "execution_count": 19,
     "metadata": {},
     "output_type": "execute_result"
    }
   ],
   "source": [
    "v.a"
   ]
  },
  {
   "cell_type": "code",
   "execution_count": 20,
   "id": "8bdc7bc0",
   "metadata": {},
   "outputs": [],
   "source": [
    "class test:\n",
    "    def __init__(self,a,b,c):\n",
    "        self._a = a\n",
    "        self.__b = b\n",
    "        self.c = c\n",
    "     \n",
    "    \n",
    "v = test(4,5,6)\n",
    "    "
   ]
  },
  {
   "cell_type": "code",
   "execution_count": 21,
   "id": "35a01f9b",
   "metadata": {},
   "outputs": [
    {
     "ename": "AttributeError",
     "evalue": "'test' object has no attribute 'a'",
     "output_type": "error",
     "traceback": [
      "\u001b[1;31m---------------------------------------------------------------------------\u001b[0m",
      "\u001b[1;31mAttributeError\u001b[0m                            Traceback (most recent call last)",
      "\u001b[1;32m<ipython-input-21-c921ce2c4369>\u001b[0m in \u001b[0;36m<module>\u001b[1;34m\u001b[0m\n\u001b[1;32m----> 1\u001b[1;33m \u001b[0mv\u001b[0m\u001b[1;33m.\u001b[0m\u001b[0ma\u001b[0m \u001b[1;31m# this time it will be protected\u001b[0m\u001b[1;33m\u001b[0m\u001b[1;33m\u001b[0m\u001b[0m\n\u001b[0m",
      "\u001b[1;31mAttributeError\u001b[0m: 'test' object has no attribute 'a'"
     ]
    }
   ],
   "source": [
    "v.a # this time it will be protected"
   ]
  },
  {
   "cell_type": "code",
   "execution_count": 22,
   "id": "6908c47e",
   "metadata": {},
   "outputs": [
    {
     "ename": "AttributeError",
     "evalue": "'test' object has no attribute '__b'",
     "output_type": "error",
     "traceback": [
      "\u001b[1;31m---------------------------------------------------------------------------\u001b[0m",
      "\u001b[1;31mAttributeError\u001b[0m                            Traceback (most recent call last)",
      "\u001b[1;32m<ipython-input-22-ce5c6d8e5d0d>\u001b[0m in \u001b[0;36m<module>\u001b[1;34m\u001b[0m\n\u001b[1;32m----> 1\u001b[1;33m \u001b[0mv\u001b[0m\u001b[1;33m.\u001b[0m\u001b[0m__b\u001b[0m    \u001b[1;31m#still we cant fetch it\u001b[0m\u001b[1;33m\u001b[0m\u001b[1;33m\u001b[0m\u001b[0m\n\u001b[0m",
      "\u001b[1;31mAttributeError\u001b[0m: 'test' object has no attribute '__b'"
     ]
    }
   ],
   "source": [
    "v.__b    #still we cant fetch it"
   ]
  },
  {
   "cell_type": "code",
   "execution_count": 23,
   "id": "b596ea6d",
   "metadata": {},
   "outputs": [
    {
     "data": {
      "text/plain": [
       "5"
      ]
     },
     "execution_count": 23,
     "metadata": {},
     "output_type": "execute_result"
    }
   ],
   "source": [
    "v._test__b       # for that we have to write function like that bcoz of private function"
   ]
  },
  {
   "cell_type": "code",
   "execution_count": 24,
   "id": "4ac7e6e6",
   "metadata": {},
   "outputs": [],
   "source": [
    "class test:\n",
    "    def __init__(self,a,b,c):\n",
    "        self._a = a\n",
    "        self.__b = b\n",
    "        self.c = c\n",
    "        \n",
    "class test1(test):\n",
    "    pass\n",
    "     \n",
    "    \n",
    "v = test(4,5,6)\n",
    "    "
   ]
  },
  {
   "cell_type": "code",
   "execution_count": 25,
   "id": "ec7ae832",
   "metadata": {},
   "outputs": [
    {
     "data": {
      "text/plain": [
       "4"
      ]
     },
     "execution_count": 25,
     "metadata": {},
     "output_type": "execute_result"
    }
   ],
   "source": [
    "v._a        #protected"
   ]
  },
  {
   "cell_type": "code",
   "execution_count": 26,
   "id": "16b8b8b6",
   "metadata": {},
   "outputs": [
    {
     "data": {
      "text/plain": [
       "6"
      ]
     },
     "execution_count": 26,
     "metadata": {},
     "output_type": "execute_result"
    }
   ],
   "source": [
    "v.c           # public"
   ]
  },
  {
   "cell_type": "code",
   "execution_count": 27,
   "id": "213f9acb",
   "metadata": {},
   "outputs": [
    {
     "data": {
      "text/plain": [
       "5"
      ]
     },
     "execution_count": 27,
     "metadata": {},
     "output_type": "execute_result"
    }
   ],
   "source": [
    "v._test__b        #private"
   ]
  },
  {
   "cell_type": "code",
   "execution_count": 58,
   "id": "562928e0",
   "metadata": {},
   "outputs": [],
   "source": [
    "u = test1(6,5,4)"
   ]
  },
  {
   "cell_type": "code",
   "execution_count": 59,
   "id": "c62198da",
   "metadata": {},
   "outputs": [
    {
     "data": {
      "text/plain": [
       "4"
      ]
     },
     "execution_count": 59,
     "metadata": {},
     "output_type": "execute_result"
    }
   ],
   "source": [
    "u.c      #public"
   ]
  },
  {
   "cell_type": "code",
   "execution_count": 60,
   "id": "d29599d6",
   "metadata": {},
   "outputs": [
    {
     "data": {
      "text/plain": [
       "6"
      ]
     },
     "execution_count": 60,
     "metadata": {},
     "output_type": "execute_result"
    }
   ],
   "source": [
    "u._a        #protected"
   ]
  },
  {
   "cell_type": "code",
   "execution_count": 61,
   "id": "4b0535af",
   "metadata": {},
   "outputs": [
    {
     "ename": "AttributeError",
     "evalue": "'test1' object has no attribute '__b'",
     "output_type": "error",
     "traceback": [
      "\u001b[1;31m---------------------------------------------------------------------------\u001b[0m",
      "\u001b[1;31mAttributeError\u001b[0m                            Traceback (most recent call last)",
      "\u001b[1;32m<ipython-input-61-4dfc70e27000>\u001b[0m in \u001b[0;36m<module>\u001b[1;34m\u001b[0m\n\u001b[1;32m----> 1\u001b[1;33m \u001b[0mu\u001b[0m\u001b[1;33m.\u001b[0m\u001b[0m__b\u001b[0m\u001b[1;33m\u001b[0m\u001b[1;33m\u001b[0m\u001b[0m\n\u001b[0m",
      "\u001b[1;31mAttributeError\u001b[0m: 'test1' object has no attribute '__b'"
     ]
    }
   ],
   "source": [
    "u.__b"
   ]
  },
  {
   "cell_type": "code",
   "execution_count": 48,
   "id": "c953a0ed",
   "metadata": {},
   "outputs": [
    {
     "data": {
      "text/plain": [
       "5"
      ]
     },
     "execution_count": 48,
     "metadata": {},
     "output_type": "execute_result"
    }
   ],
   "source": [
    "u._test__b        #private"
   ]
  },
  {
   "cell_type": "code",
   "execution_count": null,
   "id": "11cbb226",
   "metadata": {},
   "outputs": [],
   "source": [
    "# now we are using object of child class name of parrent class ...is it going to work check it bellow"
   ]
  },
  {
   "cell_type": "code",
   "execution_count": null,
   "id": "1aa72fe4",
   "metadata": {},
   "outputs": [],
   "source": [
    "u._test__b        # yes its work and yes it is possible but there is required notation as"
   ]
  },
  {
   "cell_type": "code",
   "execution_count": null,
   "id": "55766433",
   "metadata": {},
   "outputs": [],
   "source": [
    "\"\"\"this public private protected concept is called as incapsulation\"\"\""
   ]
  },
  {
   "cell_type": "code",
   "execution_count": 28,
   "id": "c5878cfd",
   "metadata": {},
   "outputs": [],
   "source": [
    " class bonuscalculator:\n",
    "        def __init__(self,empid ,empidrating):\n",
    "            self.empid = empid\n",
    "            self.empidrating = empidrating\n",
    "            self.__bonusforratingA = \"70%\"\n",
    "            self.__bonusforratingB = \"60%\"\n",
    "            self.__bonusforratingC = \"40%\"\n",
    "            \n",
    "        def bonuscalculator(self):\n",
    "            if self.empidrating == \"A\":\n",
    "                bonus = self.__bonusforratingA\n",
    "                return bonus\n",
    "            elif self.empidrating == \"B\":\n",
    "                bonus = self.__bonusforratingB\n",
    "                return bonus\n",
    "            else :\n",
    "                bonus = self.__bonusforratingC\n",
    "                return bonus"
   ]
  },
  {
   "cell_type": "code",
   "execution_count": 29,
   "id": "f9141c3e",
   "metadata": {},
   "outputs": [],
   "source": [
    "emp1 = bonuscalculator(101,\"A\")\n",
    "emp2 = bonuscalculator(102,\"B\")\n",
    "emp3 = bonuscalculator(103,\"C\")"
   ]
  },
  {
   "cell_type": "code",
   "execution_count": 30,
   "id": "e6a82736",
   "metadata": {},
   "outputs": [
    {
     "data": {
      "text/plain": [
       "'70%'"
      ]
     },
     "execution_count": 30,
     "metadata": {},
     "output_type": "execute_result"
    }
   ],
   "source": [
    "emp1.bonuscalculator() "
   ]
  },
  {
   "cell_type": "code",
   "execution_count": 31,
   "id": "79b8a27f",
   "metadata": {},
   "outputs": [
    {
     "data": {
      "text/plain": [
       "'60%'"
      ]
     },
     "execution_count": 31,
     "metadata": {},
     "output_type": "execute_result"
    }
   ],
   "source": [
    "emp2.bonuscalculator() "
   ]
  },
  {
   "cell_type": "code",
   "execution_count": 32,
   "id": "1091dfe8",
   "metadata": {},
   "outputs": [
    {
     "data": {
      "text/plain": [
       "'40%'"
      ]
     },
     "execution_count": 32,
     "metadata": {},
     "output_type": "execute_result"
    }
   ],
   "source": [
    "emp3.bonuscalculator()"
   ]
  },
  {
   "cell_type": "code",
   "execution_count": 33,
   "id": "fa93894a",
   "metadata": {},
   "outputs": [],
   "source": [
    "emp1.empidrating = 104"
   ]
  },
  {
   "cell_type": "code",
   "execution_count": 34,
   "id": "1459270b",
   "metadata": {},
   "outputs": [
    {
     "data": {
      "text/plain": [
       "101"
      ]
     },
     "execution_count": 34,
     "metadata": {},
     "output_type": "execute_result"
    }
   ],
   "source": [
    "emp1.empid"
   ]
  },
  {
   "cell_type": "code",
   "execution_count": 35,
   "id": "f9b89021",
   "metadata": {},
   "outputs": [],
   "source": [
    "emp1.empidrating = \"B\""
   ]
  },
  {
   "cell_type": "code",
   "execution_count": 36,
   "id": "f1af9da0",
   "metadata": {},
   "outputs": [
    {
     "data": {
      "text/plain": [
       "'60%'"
      ]
     },
     "execution_count": 36,
     "metadata": {},
     "output_type": "execute_result"
    }
   ],
   "source": [
    "emp1.bonuscalculator()"
   ]
  },
  {
   "cell_type": "code",
   "execution_count": 37,
   "id": "be237bd4",
   "metadata": {},
   "outputs": [],
   "source": [
    "emp1.__bonuscalculatorB = \"90%\""
   ]
  },
  {
   "cell_type": "code",
   "execution_count": 38,
   "id": "31212421",
   "metadata": {},
   "outputs": [
    {
     "data": {
      "text/plain": [
       "'60%'"
      ]
     },
     "execution_count": 38,
     "metadata": {},
     "output_type": "execute_result"
    }
   ],
   "source": [
    "emp1.bonuscalculator()"
   ]
  },
  {
   "cell_type": "code",
   "execution_count": 39,
   "id": "d94cded1",
   "metadata": {},
   "outputs": [
    {
     "data": {
      "text/plain": [
       "'B'"
      ]
     },
     "execution_count": 39,
     "metadata": {},
     "output_type": "execute_result"
    }
   ],
   "source": [
    "\n",
    "emp2.empidrating"
   ]
  },
  {
   "cell_type": "code",
   "execution_count": 40,
   "id": "d50e17d9",
   "metadata": {},
   "outputs": [
    {
     "data": {
      "text/plain": [
       "'60%'"
      ]
     },
     "execution_count": 40,
     "metadata": {},
     "output_type": "execute_result"
    }
   ],
   "source": [
    "emp2.bonuscalculator()"
   ]
  },
  {
   "cell_type": "code",
   "execution_count": 41,
   "id": "7fc4b835",
   "metadata": {},
   "outputs": [],
   "source": [
    "emp2.__bonusforratingB = \"100%\""
   ]
  },
  {
   "cell_type": "code",
   "execution_count": 42,
   "id": "ac118cf1",
   "metadata": {},
   "outputs": [
    {
     "data": {
      "text/plain": [
       "'60%'"
      ]
     },
     "execution_count": 42,
     "metadata": {},
     "output_type": "execute_result"
    }
   ],
   "source": [
    "emp2.bonuscalculator()"
   ]
  },
  {
   "cell_type": "code",
   "execution_count": 43,
   "id": "64dcb496",
   "metadata": {},
   "outputs": [],
   "source": [
    "emp2.empidrating = 123456"
   ]
  },
  {
   "cell_type": "code",
   "execution_count": 44,
   "id": "e1e783f0",
   "metadata": {},
   "outputs": [
    {
     "data": {
      "text/plain": [
       "123456"
      ]
     },
     "execution_count": 44,
     "metadata": {},
     "output_type": "execute_result"
    }
   ],
   "source": [
    "emp2.empidrating"
   ]
  },
  {
   "cell_type": "code",
   "execution_count": 45,
   "id": "6b9d08e5",
   "metadata": {},
   "outputs": [],
   "source": [
    "emp2.__bonusforratingB = \"fsdsfhkfh\""
   ]
  },
  {
   "cell_type": "code",
   "execution_count": 46,
   "id": "68fb1541",
   "metadata": {},
   "outputs": [
    {
     "data": {
      "text/plain": [
       "'60%'"
      ]
     },
     "execution_count": 46,
     "metadata": {},
     "output_type": "execute_result"
    }
   ],
   "source": [
    "emp2._bonuscalculator__bonusforratingB"
   ]
  },
  {
   "cell_type": "code",
   "execution_count": 47,
   "id": "547a30d8",
   "metadata": {},
   "outputs": [],
   "source": [
    "emp2._bonuscalculator__bonusforratingB = \"4578965213\""
   ]
  },
  {
   "cell_type": "code",
   "execution_count": 48,
   "id": "091601c1",
   "metadata": {},
   "outputs": [
    {
     "data": {
      "text/plain": [
       "'4578965213'"
      ]
     },
     "execution_count": 48,
     "metadata": {},
     "output_type": "execute_result"
    }
   ],
   "source": [
    "emp2._bonuscalculator__bonusforratingB"
   ]
  },
  {
   "cell_type": "code",
   "execution_count": null,
   "id": "d150a4eb",
   "metadata": {},
   "outputs": [],
   "source": []
  },
  {
   "cell_type": "code",
   "execution_count": null,
   "id": "4c298a01",
   "metadata": {},
   "outputs": [],
   "source": []
  },
  {
   "cell_type": "code",
   "execution_count": null,
   "id": "8ef4cbaa",
   "metadata": {},
   "outputs": [],
   "source": []
  },
  {
   "cell_type": "code",
   "execution_count": null,
   "id": "ae54792c",
   "metadata": {},
   "outputs": [],
   "source": [
    "#30/01/2022 class"
   ]
  },
  {
   "cell_type": "code",
   "execution_count": null,
   "id": "317c117a",
   "metadata": {},
   "outputs": [],
   "source": [
    "\"\"\"POLYMORPHISM CONCEPT\"\"\""
   ]
  },
  {
   "cell_type": "code",
   "execution_count": null,
   "id": "7c70985f",
   "metadata": {},
   "outputs": [],
   "source": [
    "\"\"\"ONE SINGLE OBJECT OR ONE SINGLE ENTITY ITS BEHAVIOUR IS CHANGES W.R.T. DIFFERENT DIFFERENT ENVIRONMENT AND DIFF DIFF CONDITION IS CALLED AS POLYMORPHISM\n",
    "POLY = MULTIPLE , MORPH = FORM\"\"\""
   ]
  },
  {
   "cell_type": "code",
   "execution_count": 61,
   "id": "f24b2dc2",
   "metadata": {},
   "outputs": [],
   "source": [
    "def test(a,b):\n",
    "    return a+b\n"
   ]
  },
  {
   "cell_type": "code",
   "execution_count": 62,
   "id": "9f777f72",
   "metadata": {},
   "outputs": [
    {
     "data": {
      "text/plain": [
       "7"
      ]
     },
     "execution_count": 62,
     "metadata": {},
     "output_type": "execute_result"
    }
   ],
   "source": [
    "test(3,4)"
   ]
  },
  {
   "cell_type": "code",
   "execution_count": 63,
   "id": "c799417a",
   "metadata": {},
   "outputs": [
    {
     "data": {
      "text/plain": [
       "'sudhkumar'"
      ]
     },
     "execution_count": 63,
     "metadata": {},
     "output_type": "execute_result"
    }
   ],
   "source": [
    "test(\"sudh\",\"kumar\")"
   ]
  },
  {
   "cell_type": "code",
   "execution_count": 49,
   "id": "d2513c4a",
   "metadata": {},
   "outputs": [],
   "source": [
    "class insta:\n",
    "    \n",
    "    def share_stories(self):\n",
    "        print(\"this will share my insta stories\")\n",
    "        \n",
    "class facebook:\n",
    "        \n",
    "    def share_stories(self):\n",
    "        print(\"this will share my facebook stories\")"
   ]
  },
  {
   "cell_type": "code",
   "execution_count": 50,
   "id": "06b35f15",
   "metadata": {},
   "outputs": [],
   "source": [
    "def share_stories(app):\n",
    "    app.share_stories()    # ist will call a stories internally"
   ]
  },
  {
   "cell_type": "code",
   "execution_count": 51,
   "id": "fa9c9a97",
   "metadata": {},
   "outputs": [],
   "source": [
    "i = insta()\n",
    "f = facebook()"
   ]
  },
  {
   "cell_type": "code",
   "execution_count": 52,
   "id": "f9c322f7",
   "metadata": {},
   "outputs": [
    {
     "name": "stdout",
     "output_type": "stream",
     "text": [
      "this will share my insta stories\n"
     ]
    }
   ],
   "source": [
    "share_stories(i)"
   ]
  },
  {
   "cell_type": "code",
   "execution_count": 53,
   "id": "ebcfbc6d",
   "metadata": {},
   "outputs": [
    {
     "name": "stdout",
     "output_type": "stream",
     "text": [
      "this will share my facebook stories\n"
     ]
    }
   ],
   "source": [
    "share_stories(f)"
   ]
  },
  {
   "cell_type": "code",
   "execution_count": 54,
   "id": "0ff38a1c",
   "metadata": {},
   "outputs": [],
   "source": [
    "class social_media:         # multiple inheritance\n",
    "        def share_stories(self):\n",
    "            print(\"share a stories\")\n",
    "            \n",
    "        def upload_pic(self):\n",
    "            print(\"this will help to uploads pic on fb\")\n",
    "            \n",
    "\n",
    "class facebook(social_media):\n",
    "    def share_stories(self):\n",
    "        print(\"this is a fun for share a stories for facebook\")\n",
    "        \n",
    "class insta(social_media):\n",
    "    def share_stories(self):\n",
    "        print(\"this will print a stories from insta\")"
   ]
  },
  {
   "cell_type": "code",
   "execution_count": 55,
   "id": "a210b781",
   "metadata": {},
   "outputs": [],
   "source": [
    "f  = facebook()   # creating a object\n",
    "i = insta()"
   ]
  },
  {
   "cell_type": "code",
   "execution_count": 56,
   "id": "cdcc8b3d",
   "metadata": {},
   "outputs": [
    {
     "name": "stdout",
     "output_type": "stream",
     "text": [
      "this is a fun for share a stories for facebook\n"
     ]
    }
   ],
   "source": [
    "f.share_stories()"
   ]
  },
  {
   "cell_type": "code",
   "execution_count": 57,
   "id": "35bdaed1",
   "metadata": {},
   "outputs": [
    {
     "name": "stdout",
     "output_type": "stream",
     "text": [
      "this will print a stories from insta\n"
     ]
    }
   ],
   "source": [
    "i.share_stories()"
   ]
  },
  {
   "cell_type": "code",
   "execution_count": 58,
   "id": "2e2671e7",
   "metadata": {},
   "outputs": [],
   "source": [
    "\"\"\"try to inherritate a property of exception class\"\"\"\n",
    "\n",
    "class test(Exception):\n",
    "        def __init__(self,msg):\n",
    "            self.msg = msg           #own test class defined\n",
    "            "
   ]
  },
  {
   "cell_type": "code",
   "execution_count": 59,
   "id": "7f6fa24e",
   "metadata": {},
   "outputs": [
    {
     "name": "stdout",
     "output_type": "stream",
     "text": [
      "this is my own exception class\n"
     ]
    }
   ],
   "source": [
    "try:\n",
    "    raise(test(\"this is my own exception class\"))\n",
    "    \n",
    "except test as t:    # raise will help you to create your own custom class\n",
    "    print(t)"
   ]
  },
  {
   "cell_type": "code",
   "execution_count": 60,
   "id": "0a814dfd",
   "metadata": {},
   "outputs": [
    {
     "ename": "ZeroDivisionError",
     "evalue": "division by zero",
     "output_type": "error",
     "traceback": [
      "\u001b[1;31m---------------------------------------------------------------------------\u001b[0m",
      "\u001b[1;31mZeroDivisionError\u001b[0m                         Traceback (most recent call last)",
      "\u001b[1;32m<ipython-input-60-0680a7153729>\u001b[0m in \u001b[0;36m<module>\u001b[1;34m\u001b[0m\n\u001b[0;32m      1\u001b[0m \u001b[1;32mtry\u001b[0m\u001b[1;33m:\u001b[0m\u001b[1;33m\u001b[0m\u001b[1;33m\u001b[0m\u001b[0m\n\u001b[1;32m----> 2\u001b[1;33m     \u001b[1;36m5\u001b[0m\u001b[1;33m/\u001b[0m\u001b[1;36m0\u001b[0m\u001b[1;33m\u001b[0m\u001b[1;33m\u001b[0m\u001b[0m\n\u001b[0m\u001b[0;32m      3\u001b[0m \u001b[1;33m\u001b[0m\u001b[0m\n\u001b[0;32m      4\u001b[0m \u001b[1;32mexcept\u001b[0m \u001b[0mtest\u001b[0m \u001b[1;32mas\u001b[0m \u001b[0mt\u001b[0m\u001b[1;33m:\u001b[0m\u001b[1;33m\u001b[0m\u001b[1;33m\u001b[0m\u001b[0m\n\u001b[0;32m      5\u001b[0m     \u001b[0mprint\u001b[0m\u001b[1;33m(\u001b[0m\u001b[0mt\u001b[0m\u001b[1;33m)\u001b[0m\u001b[1;33m\u001b[0m\u001b[1;33m\u001b[0m\u001b[0m\n",
      "\u001b[1;31mZeroDivisionError\u001b[0m: division by zero"
     ]
    }
   ],
   "source": [
    "try:\n",
    "    5/0\n",
    "    \n",
    "except test as t:\n",
    "    print(t)"
   ]
  },
  {
   "cell_type": "code",
   "execution_count": 61,
   "id": "4395c83f",
   "metadata": {},
   "outputs": [
    {
     "ename": "ZeroDivisionError",
     "evalue": "division by zero",
     "output_type": "error",
     "traceback": [
      "\u001b[1;31m---------------------------------------------------------------------------\u001b[0m",
      "\u001b[1;31mZeroDivisionError\u001b[0m                         Traceback (most recent call last)",
      "\u001b[1;32m<ipython-input-61-aad774c1f814>\u001b[0m in \u001b[0;36m<module>\u001b[1;34m\u001b[0m\n\u001b[0;32m      1\u001b[0m \u001b[1;32mtry\u001b[0m\u001b[1;33m:\u001b[0m\u001b[1;33m\u001b[0m\u001b[1;33m\u001b[0m\u001b[0m\n\u001b[1;32m----> 2\u001b[1;33m     \u001b[1;36m5\u001b[0m\u001b[1;33m/\u001b[0m\u001b[1;36m0\u001b[0m\u001b[1;33m\u001b[0m\u001b[1;33m\u001b[0m\u001b[0m\n\u001b[0m\u001b[0;32m      3\u001b[0m     \u001b[1;32mraise\u001b[0m\u001b[1;33m(\u001b[0m\u001b[0mtest\u001b[0m\u001b[1;33m(\u001b[0m\u001b[1;34m\"this is my own exception class\"\u001b[0m\u001b[1;33m)\u001b[0m\u001b[1;33m)\u001b[0m\u001b[1;33m\u001b[0m\u001b[1;33m\u001b[0m\u001b[0m\n\u001b[0;32m      4\u001b[0m \u001b[1;33m\u001b[0m\u001b[0m\n\u001b[0;32m      5\u001b[0m \u001b[1;32mexcept\u001b[0m \u001b[0mtest\u001b[0m \u001b[1;32mas\u001b[0m \u001b[0mt\u001b[0m\u001b[1;33m:\u001b[0m\u001b[1;33m\u001b[0m\u001b[1;33m\u001b[0m\u001b[0m\n",
      "\u001b[1;31mZeroDivisionError\u001b[0m: division by zero"
     ]
    }
   ],
   "source": [
    "try:\n",
    "    5/0\n",
    "    raise(test(\"this is my own exception class\"))\n",
    "    \n",
    "except test as t:\n",
    "    print(t)"
   ]
  },
  {
   "cell_type": "code",
   "execution_count": 62,
   "id": "3c4b2547",
   "metadata": {},
   "outputs": [
    {
     "name": "stdout",
     "output_type": "stream",
     "text": [
      "this is my own exception class\n"
     ]
    }
   ],
   "source": [
    "try:\n",
    "    raise(test(\"this is my own exception class\"))\n",
    "    5/0\n",
    "    \n",
    "except test as t:    #check the proper sequence\n",
    "    print(t)"
   ]
  },
  {
   "cell_type": "code",
   "execution_count": 63,
   "id": "7494aac4",
   "metadata": {},
   "outputs": [],
   "source": [
    "class test(Exception):\n",
    "        def __init__(self,msg,myvalue):\n",
    "            self.msg = msg \n",
    "            self.myvalue = 5     #i can pass multiple no of argument at any time"
   ]
  },
  {
   "cell_type": "code",
   "execution_count": 79,
   "id": "1810ac15",
   "metadata": {},
   "outputs": [
    {
     "name": "stdout",
     "output_type": "stream",
     "text": [
      "('this is my own exception class', 5)\n"
     ]
    }
   ],
   "source": [
    "try:\n",
    "    raise(test(\"this is my own exception class\",5))\n",
    "    \n",
    "except test as t:    \n",
    "    print(t)"
   ]
  },
  {
   "cell_type": "code",
   "execution_count": null,
   "id": "ae98ebb3",
   "metadata": {},
   "outputs": [],
   "source": []
  },
  {
   "cell_type": "code",
   "execution_count": null,
   "id": "b56dcfe5",
   "metadata": {},
   "outputs": [],
   "source": [
    " \"\"\"\n",
    " q1. create your own class for to achive multiple, multilevel inherritance\n",
    " q2. create your own class to represent polymophism\n",
    " q3. create your own class for custom exception\n",
    " q4. create your own class to achive encaptulation\n",
    " q5. create your own class to achive method overloading and overriding.\n",
    " \n",
    " \"\"\""
   ]
  },
  {
   "cell_type": "code",
   "execution_count": 1,
   "id": "29651093",
   "metadata": {},
   "outputs": [
    {
     "name": "stdout",
     "output_type": "stream",
     "text": [
      "batch: 2\n",
      "course: FSDS\n"
     ]
    }
   ],
   "source": [
    "#multiple inheritance\n",
    "#parents class 1\n",
    "class batch_number:\n",
    "    batchnumber = \"\"            #this one is static variable\n",
    "    def __init__(self,a,b,c):\n",
    "        self.a = a\n",
    "        self.b = b\n",
    "        self.c = c\n",
    "        \n",
    "    def batch(self):\n",
    "        print(self.batchnumber)\n",
    "        \n",
    "#parents class 2        \n",
    "class course_name:\n",
    "    cname = \"\"                    #this one is static variable\n",
    "    def course(self):\n",
    "        print(\"self.cname\")\n",
    "        \n",
    "#child class       \n",
    "class student(batch_number, course_name):\n",
    "    def Np(self):\n",
    "        print(\"batch:\", self.batchnumber)\n",
    "        print(\"course:\", self.cname)\n",
    "        \n",
    "#child class code\n",
    "s1 = student(1,2,3)\n",
    "s1.batchnumber = \"2\"\n",
    "s1.cname = \"FSDS\"\n",
    "s1.Np()"
   ]
  },
  {
   "cell_type": "code",
   "execution_count": 2,
   "id": "c5c96a43",
   "metadata": {},
   "outputs": [
    {
     "data": {
      "text/plain": [
       "4"
      ]
     },
     "execution_count": 2,
     "metadata": {},
     "output_type": "execute_result"
    }
   ],
   "source": [
    "bn = batch_number(4,5,6)\n",
    "bn.batchnumber  #im able to access it\n",
    "bn.a\n"
   ]
  },
  {
   "cell_type": "code",
   "execution_count": 3,
   "id": "66e25a5e",
   "metadata": {},
   "outputs": [
    {
     "data": {
      "text/plain": [
       "5"
      ]
     },
     "execution_count": 3,
     "metadata": {},
     "output_type": "execute_result"
    }
   ],
   "source": [
    "bn.b"
   ]
  },
  {
   "cell_type": "code",
   "execution_count": 4,
   "id": "18406818",
   "metadata": {},
   "outputs": [
    {
     "data": {
      "text/plain": [
       "6"
      ]
     },
     "execution_count": 4,
     "metadata": {},
     "output_type": "execute_result"
    }
   ],
   "source": [
    "bn.c"
   ]
  },
  {
   "cell_type": "code",
   "execution_count": 5,
   "id": "26837292",
   "metadata": {},
   "outputs": [
    {
     "data": {
      "text/plain": [
       "9"
      ]
     },
     "execution_count": 5,
     "metadata": {},
     "output_type": "execute_result"
    }
   ],
   "source": [
    "bn1 = batch_number(9,8,7) #this is using a class name itself\n",
    "bn1.a"
   ]
  },
  {
   "cell_type": "code",
   "execution_count": 6,
   "id": "d4435167",
   "metadata": {},
   "outputs": [
    {
     "data": {
      "text/plain": [
       "8"
      ]
     },
     "execution_count": 6,
     "metadata": {},
     "output_type": "execute_result"
    }
   ],
   "source": [
    "bn1.b"
   ]
  },
  {
   "cell_type": "code",
   "execution_count": 7,
   "id": "38bae246",
   "metadata": {},
   "outputs": [
    {
     "data": {
      "text/plain": [
       "7"
      ]
     },
     "execution_count": 7,
     "metadata": {},
     "output_type": "execute_result"
    }
   ],
   "source": [
    "bn1.c"
   ]
  },
  {
   "cell_type": "code",
   "execution_count": 8,
   "id": "13822591",
   "metadata": {},
   "outputs": [
    {
     "data": {
      "text/plain": [
       "''"
      ]
     },
     "execution_count": 8,
     "metadata": {},
     "output_type": "execute_result"
    }
   ],
   "source": [
    " batch_number.batchnumber #this is by using an object"
   ]
  },
  {
   "cell_type": "code",
   "execution_count": 9,
   "id": "08186acb",
   "metadata": {},
   "outputs": [
    {
     "data": {
      "text/plain": [
       "'there are two way to access static variable\\n1.By using an object\\n2.By using a class name itself'"
      ]
     },
     "execution_count": 9,
     "metadata": {},
     "output_type": "execute_result"
    }
   ],
   "source": [
    "\"\"\"there are two way to access static variable\n",
    "1.By using an object\n",
    "2.By using a class name itself\"\"\""
   ]
  },
  {
   "cell_type": "code",
   "execution_count": null,
   "id": "03802e69",
   "metadata": {},
   "outputs": [],
   "source": [
    " bn1.batchnumber = \"sudh\""
   ]
  },
  {
   "cell_type": "code",
   "execution_count": null,
   "id": "e466bcf4",
   "metadata": {},
   "outputs": [],
   "source": [
    "bn1.batchnumber"
   ]
  },
  {
   "cell_type": "code",
   "execution_count": null,
   "id": "c26ef1b8",
   "metadata": {},
   "outputs": [],
   "source": [
    "#bn1 = is a object of my class"
   ]
  },
  {
   "cell_type": "code",
   "execution_count": null,
   "id": "3cb18b84",
   "metadata": {},
   "outputs": [],
   "source": [
    " batch_number.batchnumber = \"kumar\""
   ]
  },
  {
   "cell_type": "code",
   "execution_count": null,
   "id": "8e9a3fd8",
   "metadata": {},
   "outputs": [],
   "source": [
    "bn.batchnumber"
   ]
  },
  {
   "cell_type": "code",
   "execution_count": null,
   "id": "80b6e4ff",
   "metadata": {},
   "outputs": [],
   "source": [
    "#try to create a static function ....it is possible"
   ]
  },
  {
   "cell_type": "code",
   "execution_count": null,
   "id": "f0f9dc73",
   "metadata": {},
   "outputs": [],
   "source": [
    "#parents class 1\n",
    "class batch_number:\n",
    "    batchnumber = \"\" #this one is static variable\n",
    "    def __init__(self,a,b,c):\n",
    "        self.a = a\n",
    "        self.b = b\n",
    "        self.c = c\n",
    "    @staticmethod      #system will consider as a class function not an instant function    \n",
    "    def batch(self):\n",
    "        print(self.batchnumber)\n",
    "        \n",
    "#parents class 2        \n",
    "class course_name:\n",
    "    cname = \"\"  #this one is static variable\n",
    "    def course(self):  #this is  a static function\n",
    "        print(\"self.cname\")\n",
    "        \n",
    "#child class       \n",
    "class student(batch_number,course_name):\n",
    "    def Np(self):\n",
    "        print(\"batch:\", self.batchnumber)\n",
    "        print(\"course:\", self.cname)\n",
    "        \n",
    "#child class code\n",
    "s1 = student(1,2,3)\n",
    "s1.batchnumber = \"2\"\n",
    "s1.cname = \"FSDS\"\n",
    "s1.Np()"
   ]
  },
  {
   "cell_type": "code",
   "execution_count": 64,
   "id": "21a22192",
   "metadata": {},
   "outputs": [],
   "source": [
    "\n",
    "class batch_number:\n",
    "    batchnumber = \"\" \n",
    "    def __init__(self,a,b,c):\n",
    "        self.a = a\n",
    "        self.b = b\n",
    "        self.c = c\n",
    "    @staticmethod     #with the help of this fun im able to create static fun\n",
    "    def batch():\n",
    "        print(\"this is a static function\")"
   ]
  },
  {
   "cell_type": "code",
   "execution_count": 65,
   "id": "079266dd",
   "metadata": {},
   "outputs": [],
   "source": [
    "bn  = batch_number(1,2,3)       #  @staticmethod is a decorator. "
   ]
  },
  {
   "cell_type": "code",
   "execution_count": 66,
   "id": "522b7b6d",
   "metadata": {},
   "outputs": [
    {
     "name": "stdout",
     "output_type": "stream",
     "text": [
      "this is a static function\n"
     ]
    }
   ],
   "source": [
    "bn.batch()"
   ]
  },
  {
   "cell_type": "code",
   "execution_count": 67,
   "id": "4e5666dc",
   "metadata": {},
   "outputs": [],
   "source": [
    "\n",
    "class batch_number:\n",
    "    batchnumber = \"FSDS\"   #this one is a class variable or static variable\n",
    "    def __init__(self,a,b,c):\n",
    "        self.a = a         #this is a instant variable\n",
    "        self.b = b\n",
    "        self.c = c\n",
    "    @staticmethod    \n",
    "    def batch():\n",
    "        print(\"this is a static function\")"
   ]
  },
  {
   "cell_type": "code",
   "execution_count": 68,
   "id": "9e08cff3",
   "metadata": {},
   "outputs": [
    {
     "data": {
      "text/plain": [
       "'FSDS'"
      ]
     },
     "execution_count": 68,
     "metadata": {},
     "output_type": "execute_result"
    }
   ],
   "source": [
    "batch_number.batchnumber"
   ]
  },
  {
   "cell_type": "code",
   "execution_count": null,
   "id": "18c08eec",
   "metadata": {},
   "outputs": [],
   "source": [
    "\n",
    "class batch_number:\n",
    "    batchnumber = \"FSDS\"   #this one is a class variable or static variable\n",
    "    def __init__(self,a,b,c):\n",
    "        self.a = a         #this is a instant variable\n",
    "        self.b = b\n",
    "        self.c = c\n",
    "    @staticmethod    \n",
    "    def batch():\n",
    "        print(\"this is a static function\")\n",
    "        \n",
    "    def batch1(self):\n",
    "        print(\"this is a static function i have written\")"
   ]
  },
  {
   "cell_type": "code",
   "execution_count": null,
   "id": "f30447e0",
   "metadata": {},
   "outputs": [],
   "source": [
    "batch_number.batchnumber"
   ]
  },
  {
   "cell_type": "code",
   "execution_count": null,
   "id": "49f9e3b7",
   "metadata": {},
   "outputs": [],
   "source": [
    "batch_number.a     # there is no provision to access it"
   ]
  },
  {
   "cell_type": "code",
   "execution_count": null,
   "id": "c6f5f922",
   "metadata": {},
   "outputs": [],
   "source": [
    "b  = batch_number(4,5,6)\n",
    "b.a"
   ]
  },
  {
   "cell_type": "code",
   "execution_count": null,
   "id": "2c31797e",
   "metadata": {},
   "outputs": [],
   "source": [
    "batch_number.batch()"
   ]
  },
  {
   "cell_type": "code",
   "execution_count": null,
   "id": "409d1eff",
   "metadata": {},
   "outputs": [],
   "source": [
    "batch_number.batch1()        # batch1() is a instant function we cant access it by this way"
   ]
  },
  {
   "cell_type": "code",
   "execution_count": null,
   "id": "b781aabf",
   "metadata": {},
   "outputs": [],
   "source": [
    "b = batch_number(6,5,4)\n",
    "b.batch1()           # so in this way we can access it a instant variables"
   ]
  },
  {
   "cell_type": "code",
   "execution_count": null,
   "id": "08cf722b",
   "metadata": {},
   "outputs": [],
   "source": []
  },
  {
   "cell_type": "code",
   "execution_count": 69,
   "id": "77b555a1",
   "metadata": {},
   "outputs": [],
   "source": [
    "class accountdetail :\n",
    "    account_no = \"123456789987654321\"\n",
    "    def __init__(self, amount):\n",
    "        self.amount = amount\n",
    "    \n",
    "    def show_balance(self, deduction):\n",
    "        self.amount = self.amount - deduction\n",
    "        return self.amount , account_no"
   ]
  },
  {
   "cell_type": "code",
   "execution_count": 70,
   "id": "56027a66",
   "metadata": {},
   "outputs": [],
   "source": [
    "a = accountdetail"
   ]
  },
  {
   "cell_type": "code",
   "execution_count": null,
   "id": "ea0c7b67",
   "metadata": {},
   "outputs": [],
   "source": []
  },
  {
   "cell_type": "code",
   "execution_count": null,
   "id": "2367c3ea",
   "metadata": {},
   "outputs": [],
   "source": []
  },
  {
   "cell_type": "code",
   "execution_count": null,
   "id": "f0511f05",
   "metadata": {},
   "outputs": [],
   "source": []
  },
  {
   "cell_type": "code",
   "execution_count": 13,
   "id": "c506e358",
   "metadata": {},
   "outputs": [],
   "source": [
    "#multilevel inheritance\n",
    "class xyz:\n",
    "    def __init__(self,a,b,c):\n",
    "        self.a = a\n",
    "        self.b = b\n",
    "        self.c = c\n",
    "        \n",
    "    def test(self):\n",
    "        print(\"this is my xyz class\")\n",
    "        \n",
    "class xyz1(xyz):\n",
    "    def test1(self):\n",
    "        print(\"this is my xyz1 class\")\n",
    "        \n",
    "class xyz2(xyz1):\n",
    "    def test2(self):\n",
    "        print(\"this is my xyz2 class\")\n",
    "        \n",
    "n = xyz2(1,2,3)\n"
   ]
  },
  {
   "cell_type": "code",
   "execution_count": 14,
   "id": "0b5fdae6",
   "metadata": {},
   "outputs": [
    {
     "data": {
      "text/plain": [
       "1"
      ]
     },
     "execution_count": 14,
     "metadata": {},
     "output_type": "execute_result"
    }
   ],
   "source": [
    "n.a"
   ]
  },
  {
   "cell_type": "code",
   "execution_count": 15,
   "id": "3dc0ea3d",
   "metadata": {},
   "outputs": [
    {
     "data": {
      "text/plain": [
       "2"
      ]
     },
     "execution_count": 15,
     "metadata": {},
     "output_type": "execute_result"
    }
   ],
   "source": [
    "n.b"
   ]
  },
  {
   "cell_type": "code",
   "execution_count": 16,
   "id": "d67108b8",
   "metadata": {},
   "outputs": [
    {
     "data": {
      "text/plain": [
       "3"
      ]
     },
     "execution_count": 16,
     "metadata": {},
     "output_type": "execute_result"
    }
   ],
   "source": [
    "n.c"
   ]
  },
  {
   "cell_type": "code",
   "execution_count": 17,
   "id": "90725a24",
   "metadata": {},
   "outputs": [
    {
     "name": "stdout",
     "output_type": "stream",
     "text": [
      "this is my xyz2 class\n"
     ]
    }
   ],
   "source": [
    "n.test2()"
   ]
  },
  {
   "cell_type": "code",
   "execution_count": 18,
   "id": "9d879212",
   "metadata": {},
   "outputs": [
    {
     "name": "stdout",
     "output_type": "stream",
     "text": [
      "this is my xyz1 class\n"
     ]
    }
   ],
   "source": [
    "n.test1()"
   ]
  },
  {
   "cell_type": "code",
   "execution_count": 19,
   "id": "b9e097aa",
   "metadata": {},
   "outputs": [
    {
     "name": "stdout",
     "output_type": "stream",
     "text": [
      "this is my xyz class\n"
     ]
    }
   ],
   "source": [
    "n.test()"
   ]
  },
  {
   "cell_type": "code",
   "execution_count": 73,
   "id": "9d1205d1",
   "metadata": {},
   "outputs": [
    {
     "name": "stdout",
     "output_type": "stream",
     "text": [
      "enter first input4\n",
      "enter second input6\n",
      "0.6666666666666666\n"
     ]
    }
   ],
   "source": [
    "class division_by_5(Exception):\n",
    "    def __init__(self,msg):\n",
    "        self.msg = msg\n",
    "        \n",
    "try:\n",
    "    a = int(input(\"enter first input\"))\n",
    "    b = int(input(\"enter second input\"))\n",
    "    if b == 5:\n",
    "        raise division_by_5(\"division by 5 error\")\n",
    "        \n",
    "except ValueError as msg:\n",
    "    print(msg)\n",
    "except ZeroDivisionError as msg:\n",
    "    print(msg)\n",
    "except division_by_5 as msg:\n",
    "    print(msg)\n",
    "else:\n",
    "    result = a/b\n",
    "    print(result)\n",
    "#a= 4,b =6"
   ]
  },
  {
   "cell_type": "code",
   "execution_count": 74,
   "id": "ca350aa4",
   "metadata": {},
   "outputs": [
    {
     "name": "stdout",
     "output_type": "stream",
     "text": [
      "enter first input3\n",
      "enter second input5\n",
      "division by 5 error\n"
     ]
    }
   ],
   "source": [
    "#custom exception class\n",
    "class division_by_5(Exception):\n",
    "    def __init__(self,msg):\n",
    "        self.msg = msg\n",
    "        \n",
    "try:\n",
    "    a = int(input(\"enter first input\"))\n",
    "    b = int(input(\"enter second input\"))\n",
    "    if b == 5:\n",
    "        raise division_by_5(\"division by 5 error\")\n",
    "        \n",
    "except ValueError as msg:\n",
    "    print(msg)\n",
    "except ZeroDivisionError as msg:\n",
    "    print(msg)\n",
    "except division_by_5 as msg:\n",
    "    print(msg)\n",
    "else:\n",
    "    result = a/b\n",
    "    print(result)\n",
    "    \n",
    "#a =3,b =5"
   ]
  },
  {
   "cell_type": "code",
   "execution_count": 75,
   "id": "92f914e2",
   "metadata": {},
   "outputs": [
    {
     "name": "stdout",
     "output_type": "stream",
     "text": [
      "enter first input1\n",
      "enter second input0\n"
     ]
    },
    {
     "ename": "ZeroDivisionError",
     "evalue": "division by zero",
     "output_type": "error",
     "traceback": [
      "\u001b[1;31m---------------------------------------------------------------------------\u001b[0m",
      "\u001b[1;31mZeroDivisionError\u001b[0m                         Traceback (most recent call last)",
      "\u001b[1;32m<ipython-input-75-ab48d66a602b>\u001b[0m in \u001b[0;36m<module>\u001b[1;34m\u001b[0m\n\u001b[0;32m     16\u001b[0m     \u001b[0mprint\u001b[0m\u001b[1;33m(\u001b[0m\u001b[0mmsg\u001b[0m\u001b[1;33m)\u001b[0m\u001b[1;33m\u001b[0m\u001b[1;33m\u001b[0m\u001b[0m\n\u001b[0;32m     17\u001b[0m \u001b[1;32melse\u001b[0m\u001b[1;33m:\u001b[0m\u001b[1;33m\u001b[0m\u001b[1;33m\u001b[0m\u001b[0m\n\u001b[1;32m---> 18\u001b[1;33m     \u001b[0mresult\u001b[0m \u001b[1;33m=\u001b[0m \u001b[0ma\u001b[0m\u001b[1;33m/\u001b[0m\u001b[0mb\u001b[0m\u001b[1;33m\u001b[0m\u001b[1;33m\u001b[0m\u001b[0m\n\u001b[0m\u001b[0;32m     19\u001b[0m     \u001b[0mprint\u001b[0m\u001b[1;33m(\u001b[0m\u001b[0mresult\u001b[0m\u001b[1;33m)\u001b[0m\u001b[1;33m\u001b[0m\u001b[1;33m\u001b[0m\u001b[0m\n\u001b[0;32m     20\u001b[0m \u001b[1;31m#a =1,b =0\u001b[0m\u001b[1;33m\u001b[0m\u001b[1;33m\u001b[0m\u001b[1;33m\u001b[0m\u001b[0m\n",
      "\u001b[1;31mZeroDivisionError\u001b[0m: division by zero"
     ]
    }
   ],
   "source": [
    "class division_by_5(Exception):\n",
    "    def __init__(self,msg):\n",
    "        self.msg = msg\n",
    "        \n",
    "try:\n",
    "    a = int(input(\"enter first input\"))\n",
    "    b = int(input(\"enter second input\"))\n",
    "    if b == 5:\n",
    "        raise division_by_5(\"division by 5 error\")\n",
    "        \n",
    "except ValueError as msg:\n",
    "    print(msg)\n",
    "except ZeroDivisionError as msg:\n",
    "    print(msg)\n",
    "except division_by_5 as msg:\n",
    "    print(msg)\n",
    "else:\n",
    "    result = a/b\n",
    "    print(result)\n",
    "#a =1,b =0      "
   ]
  },
  {
   "cell_type": "code",
   "execution_count": 76,
   "id": "be5bbc09",
   "metadata": {},
   "outputs": [
    {
     "name": "stdout",
     "output_type": "stream",
     "text": [
      "enter first input1\n",
      "enter second input0\n",
      "division by zero\n"
     ]
    }
   ],
   "source": [
    "class division_by_5(Exception):\n",
    "    def __init__(self,msg):\n",
    "        self.msg = msg\n",
    "        \n",
    "try:\n",
    "    a = int(input(\"enter first input\"))\n",
    "    b = int(input(\"enter second input\"))\n",
    "    if b == 5:\n",
    "        raise division_by_5(\"division by 5 error\")\n",
    "        \n",
    "except ValueError as msg:\n",
    "    print(msg)\n",
    "except ZeroDivisionError as msg:\n",
    "    print(msg)\n",
    "except division_by_5 as msg:\n",
    "    print(msg)\n",
    "else:\n",
    "    try:\n",
    "        \n",
    "        result = a/b\n",
    "        print(result)\n",
    "    except Exception as e:\n",
    "        print(e)\n",
    "   "
   ]
  },
  {
   "cell_type": "code",
   "execution_count": null,
   "id": "4667e872",
   "metadata": {},
   "outputs": [],
   "source": [
    "class division_by_5(Exception):\n",
    "    def __init__(self,msg):\n",
    "        self.msg = msg\n",
    "        \n",
    "try:\n",
    "    a = int(input(\"enter first input\"))\n",
    "    b = int(input(\"enter second input\"))\n",
    "    a/b\n",
    "    if b == 5:\n",
    "        raise division_by_5(\"division by 5 error\")\n",
    "        \n",
    "except ValueError as msg:\n",
    "    print(msg)\n",
    "except ZeroDivisionError as msg:\n",
    "    print(msg)\n",
    "except division_by_5 as msg:\n",
    "    print(msg)\n",
    "else:\n",
    "    \n",
    "        \n",
    "        result = a/b\n",
    "        print(result)\n",
    "  \n",
    "   "
   ]
  },
  {
   "cell_type": "code",
   "execution_count": null,
   "id": "04e4c93f",
   "metadata": {},
   "outputs": [],
   "source": [
    "#multiple example\n",
    "\n",
    "class class1:\n",
    "    \n",
    "    def __init__(self,a,b,c):\n",
    "        self.a = a\n",
    "        self.b = b\n",
    "        self.c = c\n",
    "        \n",
    "    def test(self):\n",
    "        print(\"this is a method of class1\")\n",
    "        \n",
    "class class2:\n",
    "    \n",
    "    def __init__(self,p,q,v):\n",
    "        self.p = p\n",
    "        self.q = q\n",
    "        self.v = v\n",
    "        \n",
    "    def test1(self):\n",
    "        print(\"this is a method of class 2\")\n",
    "        \n",
    "class child(class1,class2):\n",
    "    \n",
    "    def __init__(self, *args, **kwargs):\n",
    "        class1.__init__(self, *args)\n",
    "        class2.__init__(self, **kwargs)\n",
    "        \n",
    "        \n",
    "        "
   ]
  },
  {
   "cell_type": "code",
   "execution_count": null,
   "id": "9c779351",
   "metadata": {},
   "outputs": [],
   "source": [
    "x = class1(1,2,3)\n",
    "y = class2(4,5,6)\n",
    "z = child(1,2,3, p = 4, q = 5, v = 6)"
   ]
  },
  {
   "cell_type": "code",
   "execution_count": null,
   "id": "2e8be050",
   "metadata": {},
   "outputs": [],
   "source": [
    "x.a"
   ]
  },
  {
   "cell_type": "code",
   "execution_count": null,
   "id": "d91129c7",
   "metadata": {},
   "outputs": [],
   "source": [
    "x.b"
   ]
  },
  {
   "cell_type": "code",
   "execution_count": null,
   "id": "bc88e37f",
   "metadata": {},
   "outputs": [],
   "source": [
    "x.c"
   ]
  },
  {
   "cell_type": "code",
   "execution_count": null,
   "id": "dd3d973d",
   "metadata": {},
   "outputs": [],
   "source": [
    "x.test()"
   ]
  },
  {
   "cell_type": "code",
   "execution_count": null,
   "id": "48a97c41",
   "metadata": {},
   "outputs": [],
   "source": [
    "y.test1()"
   ]
  },
  {
   "cell_type": "code",
   "execution_count": null,
   "id": "5442ab8b",
   "metadata": {},
   "outputs": [],
   "source": [
    "y.p"
   ]
  },
  {
   "cell_type": "code",
   "execution_count": null,
   "id": "a6e67782",
   "metadata": {},
   "outputs": [],
   "source": [
    "y.q"
   ]
  },
  {
   "cell_type": "code",
   "execution_count": null,
   "id": "2d2f58b6",
   "metadata": {},
   "outputs": [],
   "source": [
    "y.v"
   ]
  },
  {
   "cell_type": "code",
   "execution_count": null,
   "id": "10a62923",
   "metadata": {},
   "outputs": [],
   "source": [
    "z.test()"
   ]
  },
  {
   "cell_type": "code",
   "execution_count": null,
   "id": "f308dadd",
   "metadata": {},
   "outputs": [],
   "source": [
    "z.test1()"
   ]
  },
  {
   "cell_type": "code",
   "execution_count": null,
   "id": "cc08add6",
   "metadata": {},
   "outputs": [],
   "source": []
  },
  {
   "cell_type": "code",
   "execution_count": null,
   "id": "eb7cc092",
   "metadata": {},
   "outputs": [],
   "source": [
    "#multiple and multilevel example\n",
    "\n",
    "class parrent1:\n",
    "    \n",
    "    def __init__(self,a,b,c):\n",
    "        self.a = a\n",
    "        self.b = b\n",
    "        self.c = c\n",
    "        \n",
    "    def test(self):\n",
    "        print(\"this is a method of parrent 1 class\")\n",
    "        \n",
    "class parrent2:\n",
    "    \n",
    "    def __init__(self,p,q,v):\n",
    "        self.p = p\n",
    "        self.q = q\n",
    "        self.v = v\n",
    "        \n",
    "    def test1(self):\n",
    "        print(\"this is a method of parrent 2 class\")\n",
    "        \n",
    "class child1(parrent1,parrent2):\n",
    "    \n",
    "    def __init__(self, *args, **kwargs):\n",
    "        parrent1.__init__(self, *args)\n",
    "        parrent2.__init__(self, **kwargs)\n",
    "        \n",
    "    def test2(self):\n",
    "        print(\"this is method inside child 1 class\")\n",
    "\n",
    "class child2(child1):\n",
    "    def test3(self):\n",
    "        print(\"this is method inside child class2\")\n",
    "    \n",
    "\n",
    "        \n",
    "        \n",
    "        "
   ]
  },
  {
   "cell_type": "code",
   "execution_count": null,
   "id": "c8797634",
   "metadata": {},
   "outputs": [],
   "source": [
    "x = child2(9,8,7, p = 6, q = 5, v = 4)"
   ]
  },
  {
   "cell_type": "code",
   "execution_count": null,
   "id": "fa98790e",
   "metadata": {},
   "outputs": [],
   "source": [
    "x.a"
   ]
  },
  {
   "cell_type": "code",
   "execution_count": null,
   "id": "4f6f9664",
   "metadata": {},
   "outputs": [],
   "source": [
    "x.p"
   ]
  },
  {
   "cell_type": "code",
   "execution_count": null,
   "id": "62e93f5d",
   "metadata": {},
   "outputs": [],
   "source": [
    "x.test()"
   ]
  },
  {
   "cell_type": "code",
   "execution_count": null,
   "id": "813b9cac",
   "metadata": {},
   "outputs": [],
   "source": [
    "x.test1()"
   ]
  },
  {
   "cell_type": "code",
   "execution_count": null,
   "id": "989db4c1",
   "metadata": {},
   "outputs": [],
   "source": [
    "x.test2()"
   ]
  },
  {
   "cell_type": "code",
   "execution_count": null,
   "id": "957d8bbf",
   "metadata": {},
   "outputs": [],
   "source": [
    "x.test3()"
   ]
  },
  {
   "cell_type": "code",
   "execution_count": 77,
   "id": "0f327221",
   "metadata": {},
   "outputs": [],
   "source": [
    "#multiple \n",
    "\n",
    "class operation1:\n",
    "    \n",
    "    def __init__(self,a,b,c):\n",
    "        self.a = a\n",
    "        self.b = b\n",
    "        self.c = c\n",
    "        \n",
    "    def add(self):\n",
    "        return (self.a + self.b + self.c)\n",
    "    \n",
    "    def desc(self):\n",
    "        print(\"for addition\")\n",
    "        \n",
    "class operation2:\n",
    "    \n",
    "    def __init__(self,p,q,v):\n",
    "        self.p = p\n",
    "        self.q = q\n",
    "        self.v = v\n",
    "        \n",
    "    def multiply(self):\n",
    "        return (self.p * self.q * self.v)\n",
    "    \n",
    "    def desc(self):\n",
    "        print(\"for multiplication\")\n",
    "        \n",
    "class child1(operation1, operation2):\n",
    "    \n",
    "    def __init__(self, *args, **kwargs):\n",
    "        operation1.__init__(self, *args)\n",
    "        operation2.__init__(self, **kwargs)\n",
    "        \n",
    "   \n",
    "    \n",
    "\n",
    "        \n",
    "        \n",
    "        "
   ]
  },
  {
   "cell_type": "code",
   "execution_count": 78,
   "id": "97cd6e18",
   "metadata": {},
   "outputs": [],
   "source": [
    "x = child1(1,2,3, p = 7, q = 8, v = 6)"
   ]
  },
  {
   "cell_type": "code",
   "execution_count": 79,
   "id": "dcd5794b",
   "metadata": {},
   "outputs": [
    {
     "data": {
      "text/plain": [
       "6"
      ]
     },
     "execution_count": 79,
     "metadata": {},
     "output_type": "execute_result"
    }
   ],
   "source": [
    "x.add()"
   ]
  },
  {
   "cell_type": "code",
   "execution_count": 80,
   "id": "de17ccdf",
   "metadata": {},
   "outputs": [
    {
     "data": {
      "text/plain": [
       "336"
      ]
     },
     "execution_count": 80,
     "metadata": {},
     "output_type": "execute_result"
    }
   ],
   "source": [
    "x.multiply()"
   ]
  },
  {
   "cell_type": "code",
   "execution_count": null,
   "id": "20b00171",
   "metadata": {},
   "outputs": [],
   "source": []
  },
  {
   "cell_type": "code",
   "execution_count": 81,
   "id": "458f2e48",
   "metadata": {},
   "outputs": [
    {
     "name": "stdout",
     "output_type": "stream",
     "text": [
      "test1\n",
      "test2\n"
     ]
    }
   ],
   "source": [
    "#polymorphism\n",
    "\n",
    "class test1:\n",
    "    def a (self):\n",
    "        return \"test1\"\n",
    "    \n",
    "class test2:\n",
    "    def a (self):\n",
    "        return \"test2\"\n",
    "    \n",
    "def poly (obj):\n",
    "    print(obj.a())\n",
    "   \n",
    "    \n",
    "    \n",
    "t1 = test1()\n",
    "t2 = test2()\n",
    "\n",
    "poly(t1)\n",
    "poly(t2)"
   ]
  },
  {
   "cell_type": "code",
   "execution_count": null,
   "id": "47703fbb",
   "metadata": {},
   "outputs": [],
   "source": []
  },
  {
   "cell_type": "code",
   "execution_count": 21,
   "id": "2ad0333a",
   "metadata": {},
   "outputs": [
    {
     "name": "stdout",
     "output_type": "stream",
     "text": [
      " New Delhi is the capital of india\n",
      "Hindi is most widely spoken in india\n",
      "India is devloping country\n",
      " Dhaka is the capital of bangladesh\n",
      "Bangali is the primary langauge in USA\n",
      "BNG is devloping country\n"
     ]
    }
   ],
   "source": [
    "#polymorphism\n",
    "class India():\n",
    "    def capital(self):\n",
    "        print(\" New Delhi is the capital of india\")\n",
    "        \n",
    "    def langauge(self):\n",
    "        print(\"Hindi is most widely spoken in india\")\n",
    "        \n",
    "    def type(self):\n",
    "        print(\"India is devloping country\")\n",
    "        \n",
    "class Bangladesh():\n",
    "    def capital(self):\n",
    "        print(\" Dhaka is the capital of bangladesh\")\n",
    "        \n",
    "    def langauge(self):\n",
    "        print(\"Bangali is the primary langauge in USA\")\n",
    "        \n",
    "    def type(self):\n",
    "        print(\"BNG is devloping country\")\n",
    "        \n",
    "obj_I = India()\n",
    "obj_B = Bangladesh()\n",
    "\n",
    "for country in (obj_I, obj_B):\n",
    "    country.capital()\n",
    "    country.langauge()\n",
    "    country.type()"
   ]
  },
  {
   "cell_type": "code",
   "execution_count": null,
   "id": "10208e38",
   "metadata": {},
   "outputs": [],
   "source": [
    "#multiple and multilevel\n"
   ]
  },
  {
   "cell_type": "code",
   "execution_count": null,
   "id": "040f2c2f",
   "metadata": {},
   "outputs": [],
   "source": [
    "class  vertebrates:\n",
    "    def printmsg(self):\n",
    "        return \"I have a spinal cord\"\n",
    "    \n",
    "class animal:\n",
    "    def makesound(self):\n",
    "        return \"make sound\"\n",
    "    \n",
    "class dog(vertebrates,animal):\n",
    "    def makesound(self):\n",
    "        return \"woof\"\n",
    "class labrador(dog):\n",
    "    pass\n",
    "\n",
    "class cat(animal, vertebrates):\n",
    "    def makesound(self):\n",
    "        print(\"meows\")\n",
    "        \n",
    "c = cat()\n",
    "c.makesound()\n",
    "c.printmsg()\n",
    "\n",
    "l = labrador()\n",
    "l.makesound()\n",
    "l.printmsg()\n"
   ]
  },
  {
   "cell_type": "code",
   "execution_count": null,
   "id": "f31d7b2b",
   "metadata": {},
   "outputs": [],
   "source": []
  },
  {
   "cell_type": "code",
   "execution_count": null,
   "id": "75078986",
   "metadata": {},
   "outputs": [],
   "source": [
    "class bird:\n",
    "    def intro(self):\n",
    "        print(\"there are many type of bird\")\n",
    "    def flight(self):\n",
    "        print(\"most bird can fly buit few can not\")\n",
    "        \n",
    "class sparrow:\n",
    "    def flight(self):\n",
    "        print(\"sparrow can fly\")\n",
    "        \n",
    "class ostrich:\n",
    "    def flight(self):\n",
    "        print(\"oshtrich can not fly\")\n",
    "        \n",
    "a = sparrow()\n",
    "b = ostrich()\n",
    "\n",
    "list = [a,b]\n",
    "for bird in list:\n",
    "   # bird.intro()\n",
    "    bird.flight()"
   ]
  },
  {
   "cell_type": "code",
   "execution_count": null,
   "id": "6b93bb88",
   "metadata": {},
   "outputs": [],
   "source": []
  },
  {
   "cell_type": "code",
   "execution_count": null,
   "id": "8e15e766",
   "metadata": {},
   "outputs": [],
   "source": []
  },
  {
   "cell_type": "code",
   "execution_count": 1,
   "id": "77f0ae15",
   "metadata": {},
   "outputs": [],
   "source": [
    "# multilevel inheritance.\n",
    "class apple:\n",
    "    def devices(self):\n",
    "        print(\"iphone,imac,airpod\")\n",
    "        \n",
    "class mi(apple):\n",
    "    def devices(self):\n",
    "        print(\"flagship mobilee, laptop\")\n",
    "        \n",
    "class dell(mi):\n",
    "    def devices(self):\n",
    "        print(\"flagship laptops\")"
   ]
  },
  {
   "cell_type": "code",
   "execution_count": 2,
   "id": "d3e6920f",
   "metadata": {},
   "outputs": [],
   "source": [
    "x = dell()\n",
    "y = mi()\n",
    "z = apple()"
   ]
  },
  {
   "cell_type": "code",
   "execution_count": 3,
   "id": "99c8851c",
   "metadata": {},
   "outputs": [
    {
     "name": "stdout",
     "output_type": "stream",
     "text": [
      "flagship laptops\n"
     ]
    }
   ],
   "source": [
    "x.devices()"
   ]
  },
  {
   "cell_type": "code",
   "execution_count": 4,
   "id": "d7831624",
   "metadata": {},
   "outputs": [
    {
     "name": "stdout",
     "output_type": "stream",
     "text": [
      "flagship mobilee, laptop\n"
     ]
    }
   ],
   "source": [
    "y.devices()"
   ]
  },
  {
   "cell_type": "code",
   "execution_count": 5,
   "id": "77087e6c",
   "metadata": {},
   "outputs": [
    {
     "name": "stdout",
     "output_type": "stream",
     "text": [
      "iphone,imac,airpod\n"
     ]
    }
   ],
   "source": [
    "z.devices()"
   ]
  },
  {
   "cell_type": "code",
   "execution_count": null,
   "id": "fe1e6826",
   "metadata": {},
   "outputs": [],
   "source": []
  },
  {
   "cell_type": "code",
   "execution_count": null,
   "id": "3de2634e",
   "metadata": {},
   "outputs": [],
   "source": [
    "class school(Exception):\n",
    "    schoolname = \"\"                  # static variable\n",
    "    def science(self,schoolname):\n",
    "        print(\"school name\" , schoolname)\n",
    "        \n",
    "    def math(self, x, y):   # x & y are static variable and can not access w/o creating an object\n",
    "        self.x = x\n",
    "        self.y = y\n",
    "        print(\"Task Multiplication\", x*y)\n",
    "        \n",
    "try:\n",
    "    raise (school())\n",
    "except school as s:\n",
    "    print(s)\n",
    "    \n",
    "class subject(school):\n",
    "    def math(self,x,y):\n",
    "        print(\"Task addition\", x+y)\n",
    "        \n",
    "    def science(self):\n",
    "        print(\"subject : science\")\n",
    "        \n",
    "class chapter(subject):\n",
    "    def chapterone(self):\n",
    "        print(\"chapter 1 : life on earth\")\n",
    "        \n",
    "s = school()\n",
    "u = subject()\n",
    "c = chapter()\n",
    "\n",
    "s.science(\"ABC\")\n",
    "s.math(2,3)\n",
    "u.math(2,6)\n",
    "u.science()\n",
    "c.chapterone()\n",
    "        "
   ]
  },
  {
   "cell_type": "code",
   "execution_count": null,
   "id": "ce627ed2",
   "metadata": {},
   "outputs": [],
   "source": []
  },
  {
   "cell_type": "code",
   "execution_count": null,
   "id": "6a42fafc",
   "metadata": {},
   "outputs": [],
   "source": [
    "class school(Exception):\n",
    "    schoolname = \"\"                  # static variable\n",
    "    def science(self,schoolname):\n",
    "        print(\"school name\" , schoolname)\n",
    "        \n",
    "    def math(self, x, y):   # x & y are static variable and can not access w/o creating an object\n",
    "        self.x = x\n",
    "        self.y = y\n",
    "        print(\"Task Multiplication\", x*y)\n",
    "        \n",
    "    def math(self,x,y):\n",
    "        print(\"Task addition\", x+y)\n",
    "        \n",
    "\n",
    "class subject(school):\n",
    "        \n",
    "    def science(self):\n",
    "        print(\"subject : science\")\n",
    "        \n",
    "class chapter(subject):\n",
    "    def chapterone(self):\n",
    "        print(\"chapter 1 : life on earth\")\n",
    "        \n",
    "\"\"\"try:\n",
    "    raise (school())\n",
    "except school as s:\n",
    "    print(s)\"\"\"\n",
    "        \n",
    "s = school()\n",
    "u = subject()\n",
    "c = chapter()\n",
    "\n",
    "s.science(\"ABC\")\n",
    "s.math(2,3)\n",
    "u.math(2,6)\n",
    "u.science()\n",
    "c.chapterone()\n",
    "        "
   ]
  },
  {
   "cell_type": "code",
   "execution_count": null,
   "id": "603ff23f",
   "metadata": {},
   "outputs": [],
   "source": []
  },
  {
   "cell_type": "code",
   "execution_count": null,
   "id": "adf242a2",
   "metadata": {},
   "outputs": [],
   "source": [
    "#Multilevel\n",
    "class phones:\n",
    "    def __init__(self, brand , model, price):\n",
    "        self.brand = brand\n",
    "        self.model = model\n",
    "        self.price = price\n",
    "        \n",
    "    def specs(self):\n",
    "        return f'\\nthe brand of phone is {self.brand}, and the price is {self.price}\\n'\n",
    "   \n",
    "    def typeofphone(self):\n",
    "        if self.price <25000:\n",
    "            return \"this is a budget phone\"\n",
    "        else:\n",
    "            return \"this is a midrange phone\"\n",
    "\n",
    "class smartphone(phones):\n",
    "    def __init__(self,brand,model,price, ram,storage):\n",
    "        super().__init__(brand, model, price)\n",
    "        self.ram = ram\n",
    "        self.storage = storage\n",
    "        \n",
    "class flagshipphones(smartphone):\n",
    "    def __init__(self,brand,model,price,ram,storage,camera, display):\n",
    "        super().__init__(brand,model,price, ram, storage)\n",
    "        self.camera = camera\n",
    "        self.display = display"
   ]
  },
  {
   "cell_type": "code",
   "execution_count": null,
   "id": "91285d10",
   "metadata": {},
   "outputs": [],
   "source": [
    "p = super()"
   ]
  },
  {
   "cell_type": "code",
   "execution_count": null,
   "id": "9e611cd5",
   "metadata": {},
   "outputs": [],
   "source": []
  },
  {
   "cell_type": "code",
   "execution_count": null,
   "id": "86342c03",
   "metadata": {},
   "outputs": [],
   "source": []
  },
  {
   "cell_type": "code",
   "execution_count": null,
   "id": "bea8f7d7",
   "metadata": {},
   "outputs": [],
   "source": []
  },
  {
   "cell_type": "code",
   "execution_count": null,
   "id": "e0a043c0",
   "metadata": {},
   "outputs": [],
   "source": []
  },
  {
   "cell_type": "code",
   "execution_count": null,
   "id": "da5c876f",
   "metadata": {},
   "outputs": [],
   "source": [
    "from abc import abstractmethod\n",
    "class data_project :\n",
    "    \n",
    "    def read_files(self):\n",
    "        pass\n",
    "    def validate_file_name(self):\n",
    "        pass\n",
    "    def validate_datatype(self):\n",
    "        pass\n",
    "    def validate_db_connection(self):\n",
    "        pass\n",
    "    def create_conne(self):\n",
    "        pass\n",
    "    def insert_data(self):\n",
    "        pass\n",
    "    def delet_data(self):\n",
    "        pass\n",
    "    def update_data(self):\n",
    "        pass\n",
    "    def performed_data(self):\n",
    "        pass\n",
    "    "
   ]
  },
  {
   "cell_type": "code",
   "execution_count": null,
   "id": "9624b9d3",
   "metadata": {},
   "outputs": [],
   "source": [
    "from abc import abstractmethod\n",
    "class data_project :\n",
    "    \n",
    "    @abstractmethod\n",
    "    def read_files(self):\n",
    "        pass\n",
    "    def validate_file_name(self):\n",
    "        pass\n",
    "    def validate_datatype(self):\n",
    "        pass\n",
    "    def validate_db_connection(self):\n",
    "        pass\n",
    "    def create_conne(self):\n",
    "        pass\n",
    "    def insert_data(self):\n",
    "        pass\n",
    "    def delet_data(self):\n",
    "        pass\n",
    "    def update_data(self):\n",
    "        pass\n",
    "    def performed_data(self):\n",
    "        pass\n",
    "    "
   ]
  },
  {
   "cell_type": "code",
   "execution_count": null,
   "id": "041f392f",
   "metadata": {},
   "outputs": [],
   "source": [
    "class db_ops(data_project):\n",
    "    \n",
    "    "
   ]
  },
  {
   "cell_type": "code",
   "execution_count": null,
   "id": "f09f127f",
   "metadata": {},
   "outputs": [],
   "source": [
    "class test:\n",
    "    def fun(self):\n",
    "        print(\"this is a sample class\")\n",
    "        \n",
    "        \n",
    "    def __str__(self): #str fun responsile for overloading msg\n",
    "        return str(\"this is a fun called at a time of object print\")"
   ]
  },
  {
   "cell_type": "code",
   "execution_count": null,
   "id": "6111ce87",
   "metadata": {},
   "outputs": [],
   "source": [
    "t = test()"
   ]
  },
  {
   "cell_type": "code",
   "execution_count": null,
   "id": "f01cab91",
   "metadata": {},
   "outputs": [],
   "source": [
    "print(t)"
   ]
  },
  {
   "cell_type": "code",
   "execution_count": null,
   "id": "43c7f4e7",
   "metadata": {},
   "outputs": [],
   "source": [
    "t"
   ]
  },
  {
   "cell_type": "code",
   "execution_count": null,
   "id": "c5e2f885",
   "metadata": {},
   "outputs": [],
   "source": []
  },
  {
   "cell_type": "code",
   "execution_count": null,
   "id": "e3ad2645",
   "metadata": {},
   "outputs": [],
   "source": [
    "#overloading\n",
    "\n",
    "class test:\n",
    "    def __init__(self,a,b,c):\n",
    "        self.a = a\n",
    "        self.b = b\n",
    "        self.c = c"
   ]
  },
  {
   "cell_type": "code",
   "execution_count": null,
   "id": "dba33e1f",
   "metadata": {},
   "outputs": [],
   "source": [
    "t = test(4,5,6)"
   ]
  },
  {
   "cell_type": "code",
   "execution_count": null,
   "id": "fb511cb9",
   "metadata": {},
   "outputs": [],
   "source": [
    "print(t)"
   ]
  },
  {
   "cell_type": "code",
   "execution_count": null,
   "id": "93d85ef2",
   "metadata": {},
   "outputs": [],
   "source": [
    "#overloading\n",
    "\n",
    "class test:\n",
    "    def __init__(self,a,b,c):\n",
    "        self.a = a\n",
    "        self.b = b\n",
    "        self.c = c\n",
    "        \n",
    "    def __str__(self):\n",
    "        return \"fsdgjkak\"\n"
   ]
  },
  {
   "cell_type": "code",
   "execution_count": null,
   "id": "8a4dc9bc",
   "metadata": {},
   "outputs": [],
   "source": [
    "t = test(1,2,3)"
   ]
  },
  {
   "cell_type": "code",
   "execution_count": null,
   "id": "e3b4f2e6",
   "metadata": {},
   "outputs": [],
   "source": [
    "print(t)"
   ]
  },
  {
   "cell_type": "code",
   "execution_count": null,
   "id": "92913c95",
   "metadata": {},
   "outputs": [],
   "source": [
    "def xyz(*args):\n",
    "    return args"
   ]
  },
  {
   "cell_type": "code",
   "execution_count": null,
   "id": "d8676bd7",
   "metadata": {},
   "outputs": [],
   "source": [
    "xyz(1,23,4,5,6,7,8,9,54,221,855,59)"
   ]
  },
  {
   "cell_type": "code",
   "execution_count": null,
   "id": "120f7570",
   "metadata": {},
   "outputs": [],
   "source": [
    "xyz(\"sder\",\"retge\",\"ergdrs\",\"grgs\")"
   ]
  },
  {
   "cell_type": "code",
   "execution_count": null,
   "id": "38a932af",
   "metadata": {},
   "outputs": [],
   "source": [
    "#overriding\n",
    "#overloading\n",
    "\n",
    "class test:\n",
    "    def __init__(self,a,b,c):\n",
    "        self.a = a\n",
    "        self.b = b\n",
    "        self.c = c\n",
    "        \n",
    "    def __str__(self):\n",
    "        return \"fhsudgfsj\"\n",
    "    \n",
    "    def class_fun(self):\n",
    "        print(\"this is a print from class_fun\")\n",
    "        \n",
    "class test1(test):\n",
    "    def class_fun(self):\n",
    "        print(\"thischkjhfsb  hfiufh ufhiu\")"
   ]
  },
  {
   "cell_type": "code",
   "execution_count": null,
   "id": "3ea4328a",
   "metadata": {},
   "outputs": [],
   "source": [
    "test1_obj = test1(1,2,3)\n",
    "test_obj = test(4,5,6)"
   ]
  },
  {
   "cell_type": "code",
   "execution_count": null,
   "id": "35a7bc7b",
   "metadata": {},
   "outputs": [],
   "source": [
    "test1_obj.class_fun()"
   ]
  },
  {
   "cell_type": "code",
   "execution_count": null,
   "id": "e91b395d",
   "metadata": {},
   "outputs": [],
   "source": [
    "test_obj.class_fun()"
   ]
  },
  {
   "cell_type": "code",
   "execution_count": null,
   "id": "f5004c84",
   "metadata": {},
   "outputs": [],
   "source": []
  }
 ],
 "metadata": {
  "kernelspec": {
   "display_name": "Python 3",
   "language": "python",
   "name": "python3"
  },
  "language_info": {
   "codemirror_mode": {
    "name": "ipython",
    "version": 3
   },
   "file_extension": ".py",
   "mimetype": "text/x-python",
   "name": "python",
   "nbconvert_exporter": "python",
   "pygments_lexer": "ipython3",
   "version": "3.8.8"
  }
 },
 "nbformat": 4,
 "nbformat_minor": 5
}
