{
 "cells": [
  {
   "cell_type": "code",
   "execution_count": null,
   "id": "a5d132e1",
   "metadata": {},
   "outputs": [],
   "source": [
    "a = 10"
   ]
  },
  {
   "cell_type": "code",
   "execution_count": null,
   "id": "c363698d",
   "metadata": {},
   "outputs": [],
   "source": [
    "type(a)"
   ]
  },
  {
   "cell_type": "code",
   "execution_count": null,
   "id": "510308a8",
   "metadata": {},
   "outputs": [],
   "source": [
    "if a < 15:\n",
    "    print(\"ok\")"
   ]
  },
  {
   "cell_type": "code",
   "execution_count": null,
   "id": "a01f934e",
   "metadata": {},
   "outputs": [],
   "source": [
    "a < 15"
   ]
  },
  {
   "cell_type": "code",
   "execution_count": null,
   "id": "f129db20",
   "metadata": {},
   "outputs": [],
   "source": [
    "if a < 15:\n",
    "    print(\"this statement is true\")"
   ]
  },
  {
   "cell_type": "code",
   "execution_count": null,
   "id": "98141d4d",
   "metadata": {},
   "outputs": [],
   "source": [
    "if a < 15:\n",
    "    pass"
   ]
  },
  {
   "cell_type": "code",
   "execution_count": null,
   "id": "0d946868",
   "metadata": {},
   "outputs": [],
   "source": [
    "if a < 20:\n",
    "    print('my name is sudh')"
   ]
  },
  {
   "cell_type": "code",
   "execution_count": null,
   "id": "8dd005d9",
   "metadata": {},
   "outputs": [],
   "source": [
    "if 21 < 15:\n",
    "    print(\"my name is sudh\")"
   ]
  },
  {
   "cell_type": "code",
   "execution_count": null,
   "id": "46df99c1",
   "metadata": {},
   "outputs": [],
   "source": [
    "24 < 15"
   ]
  },
  {
   "cell_type": "code",
   "execution_count": null,
   "id": "2bee56af",
   "metadata": {},
   "outputs": [],
   "source": [
    "if 10< 3:\n",
    "    print(\"10 is lesser than 3\")"
   ]
  },
  {
   "cell_type": "code",
   "execution_count": null,
   "id": "952af46c",
   "metadata": {},
   "outputs": [],
   "source": [
    "if 10 < 3:\n",
    "    print(\"10 is lesser than 3\")\n",
    "else:\n",
    "    print(\"this is wrong statement\")"
   ]
  },
  {
   "cell_type": "code",
   "execution_count": null,
   "id": "aa1ce397",
   "metadata": {},
   "outputs": [],
   "source": [
    "if 5 < 30:\n",
    "    print(\"my name is sudh\")\n",
    "else:\n",
    "    print(\"this is wrong statement\")"
   ]
  },
  {
   "cell_type": "code",
   "execution_count": null,
   "id": "1d5b545c",
   "metadata": {},
   "outputs": [],
   "source": [
    "if 10 < 5:\n",
    "    print(\"this is correct statement\")              #Always maintain the proper indentation\n",
    "else:\n",
    "print('this is wrong statemeent')"
   ]
  },
  {
   "cell_type": "code",
   "execution_count": null,
   "id": "d003dd2f",
   "metadata": {},
   "outputs": [],
   "source": [
    "income = 100\n",
    "if income < 50:\n",
    "    print(\"i will able to buy a phone\")\n",
    "elif income < 70:\n",
    "    print(\"i will able to buy a car\")\n",
    "elif income < 90:\n",
    "    print(\"i will able to buy a house\")\n",
    "else :\n",
    "    print(\"i wont be buy anything\")"
   ]
  },
  {
   "cell_type": "code",
   "execution_count": null,
   "id": "328c8dd6",
   "metadata": {},
   "outputs": [],
   "source": [
    "income = int(input())\n",
    "if income < 10:\n",
    "    print(\"do it\")\n",
    "elif income < 20:\n",
    "    print(\"yes you can\")\n",
    "elif income < 50:\n",
    "    print(\"go ahead\")\n",
    "else:\n",
    "    print(\"give up\")"
   ]
  },
  {
   "cell_type": "code",
   "execution_count": null,
   "id": "4042d9d6",
   "metadata": {},
   "outputs": [],
   "source": [
    "income = int(input())\n",
    "if income < 10:\n",
    "    print(\"do it\")\n",
    "elif income < 20:\n",
    "    print(\"yes you can\")\n",
    "elif income < 50:\n",
    "    print(\"go ahead\")\n",
    "else:\n",
    "    print(\"give up\")"
   ]
  },
  {
   "cell_type": "code",
   "execution_count": null,
   "id": "f04f4412",
   "metadata": {},
   "outputs": [],
   "source": [
    "income = int(input())\n",
    "if income < 10:\n",
    "    print(\"do it\")\n",
    "elif income < 20:\n",
    "    print(\"yes you can\")\n",
    "elif income < 50:\n",
    "    print(\"go ahead\")\n",
    "else:\n",
    "    print(\"give up\")"
   ]
  },
  {
   "cell_type": "code",
   "execution_count": null,
   "id": "c601792e",
   "metadata": {},
   "outputs": [],
   "source": [
    "income = int(input())\n",
    "if income < 10:\n",
    "    print(\"do it\")\n",
    "elif income < 20:\n",
    "    print(\"yes you can\")\n",
    "elif income < 50:\n",
    "    print(\"go ahead\")\n",
    "else:\n",
    "    print(\"give up\")"
   ]
  },
  {
   "cell_type": "code",
   "execution_count": null,
   "id": "9573d249",
   "metadata": {},
   "outputs": [],
   "source": [
    "income = int(input())\n",
    "if income < 10:\n",
    "    print(\"do it\")\n",
    "elif income < 20:\n",
    "    print(\"yes you can\")\n",
    "elif income < 50:\n",
    "    print(\"go ahead\")\n",
    "else:\n",
    "    print(\"give up\")"
   ]
  },
  {
   "cell_type": "code",
   "execution_count": null,
   "id": "326a8acf",
   "metadata": {},
   "outputs": [],
   "source": [
    "income = int(input())\n",
    "if income < 50:\n",
    "    print(\"i will able to buy a phone\")\n",
    "elif income < 70:\n",
    "    print(\"i will able to buy a car\")\n",
    "elif income < 90:\n",
    "    print(\"i will able to buy a house\")\n",
    "else :\n",
    "    print(\"i wont be buy anything\")"
   ]
  },
  {
   "cell_type": "code",
   "execution_count": null,
   "id": "b96c7a3a",
   "metadata": {},
   "outputs": [],
   "source": [
    "income = int(input())\n",
    "if income < 50:\n",
    "    print(\"i will able to buy a phone\")\n",
    "elif income < 70:\n",
    "    print(\"i will able to buy a car\")\n",
    "elif income < 90:\n",
    "    print(\"i will able to buy a house\")\n",
    "else :\n",
    "    print(\"i wont be buy anything\")"
   ]
  },
  {
   "cell_type": "code",
   "execution_count": null,
   "id": "55a849e1",
   "metadata": {},
   "outputs": [],
   "source": [
    "income = int(input())\n",
    "if income < 50:\n",
    "    print(\"i will able to buy a phone\")\n",
    "elif income < 70:\n",
    "    print(\"i will able to buy a car\")\n",
    "elif income < 90:\n",
    "    print(\"i will able to buy a house\")\n",
    "else :\n",
    "    print(\"i wont be buy anything\")"
   ]
  },
  {
   "cell_type": "code",
   "execution_count": null,
   "id": "bd13020a",
   "metadata": {},
   "outputs": [],
   "source": [
    "income = int(input())\n",
    "if income < 50:\n",
    "    print(\"i will able to buy a phone\")\n",
    "elif income < 70:\n",
    "    print(\"i will able to buy a car\")\n",
    "elif income < 90:\n",
    "    print(\"i will able to buy a house\")\n",
    "else :\n",
    "    print(\"i wont be buy anything\")"
   ]
  },
  {
   "cell_type": "code",
   "execution_count": null,
   "id": "229fdf55",
   "metadata": {},
   "outputs": [],
   "source": [
    "income = int(input())\n",
    "if income < 50:\n",
    "    print(\"i will able to buy a phone\")\n",
    "elif income < 70:\n",
    "    print(\"i will able to buy a car\")\n",
    "elif income < 90:\n",
    "    print(\"i will able to buy a house\")\n",
    "else :\n",
    "    print(\"i wont be buy anything\")"
   ]
  },
  {
   "cell_type": "code",
   "execution_count": null,
   "id": "76308df4",
   "metadata": {},
   "outputs": [],
   "source": [
    "income = int(input())\n",
    "if income < 50:\n",
    "    print(\"i will able to buy a phone\")\n",
    "elif income < 70:\n",
    "    print(\"i will able to buy a car\")\n",
    "elif income < 90:\n",
    "    print(\"i will able to buy a house\")\n",
    "else :\n",
    "    print(\"i wont be buy anything\")"
   ]
  },
  {
   "cell_type": "code",
   "execution_count": null,
   "id": "f0dc3598",
   "metadata": {},
   "outputs": [],
   "source": [
    "total_price = int(input())\n",
    "if total_price > 50000:\n",
    "    discount = total_price*.20\n",
    "    print(\"discount will be\" , discount)\n",
    "elif total_price > 20000:\n",
    "    discount = total_price*.05\n",
    "    print(\"discount will be\" , discount)\n",
    "else:\n",
    "    print(\"you would not able to get any discount\")"
   ]
  },
  {
   "cell_type": "code",
   "execution_count": null,
   "id": "3bb69e2b",
   "metadata": {},
   "outputs": [],
   "source": [
    "total_price = int(input())\n",
    "if total_price > 50000:\n",
    "    discount = total_price*.20\n",
    "    print(\"discount will be\" , discount)\n",
    "elif total_price > 20000:\n",
    "    discount = total_price*.05\n",
    "    print(\"discount will be\" , discount)\n",
    "else:\n",
    "    print(\"you would not able to get any discount\")"
   ]
  },
  {
   "cell_type": "code",
   "execution_count": null,
   "id": "b68f4e07",
   "metadata": {},
   "outputs": [],
   "source": [
    "total_price = int(input())\n",
    "if total_price >= 50000:\n",
    "    discount = total_price*.20\n",
    "    print(\"discount will be\" , discount)\n",
    "elif total_price >= 20000:\n",
    "    discount = total_price*.05\n",
    "    print(\"discount will be\" , discount)\n",
    "else:\n",
    "    print(\"you would not able to get any discount\")\n",
    "    "
   ]
  },
  {
   "cell_type": "code",
   "execution_count": null,
   "id": "9e45944d",
   "metadata": {},
   "outputs": [],
   "source": [
    "total_price = int(input())\n",
    "if total_price >= 50000:\n",
    "    discount = total_price*.20\n",
    "    print(\"discount will be\" , discount)\n",
    "elif total_price >= 20000:\n",
    "    discount = total_price*.05\n",
    "    print(\"discount will be\" , discount)\n",
    "else:\n",
    "    print(\"you would not able to get any discount\")\n",
    "    "
   ]
  },
  {
   "cell_type": "code",
   "execution_count": null,
   "id": "6713ee3b",
   "metadata": {},
   "outputs": [],
   "source": [
    "total_price = float(input())\n",
    "if total_price >= 50000:\n",
    "    discount = total_price*.20\n",
    "    print(\"discount will be\" , discount)\n",
    "elif total_price >= 20000:\n",
    "    discount = total_price*.05\n",
    "    print(\"discount will be\" , discount)\n",
    "else:\n",
    "    print(\"you would not able to get any discount\")\n",
    "    "
   ]
  },
  {
   "cell_type": "code",
   "execution_count": null,
   "id": "1c0103f2",
   "metadata": {},
   "outputs": [],
   "source": [
    "total_price = int(input())\n",
    "if total_price < 50000:\n",
    "    discount = total_price*.20\n",
    "    print(\"discount will be\" , discount)\n",
    "elif total_price < 20000:\n",
    "    discount = total_price*.05\n",
    "    print(\"discount will be\" , discount)\n",
    "else:\n",
    "    print(\"you would not able to get any discount\")"
   ]
  },
  {
   "cell_type": "code",
   "execution_count": null,
   "id": "05fda1c1",
   "metadata": {},
   "outputs": [],
   "source": [
    "total_price = int(input())\n",
    "if total_price < 50000:             #inside this program it will always consider as a 20% discount for any amount\n",
    "    discount = total_price*.20\n",
    "    print(\"discount will be\" , discount)\n",
    "elif total_price < 20000:\n",
    "    discount = total_price*.05\n",
    "    print(\"discount will be\" , discount)\n",
    "else:\n",
    "    print(\"you would not able to get any discount\")"
   ]
  },
  {
   "cell_type": "code",
   "execution_count": null,
   "id": "37395fa9",
   "metadata": {},
   "outputs": [],
   "source": [
    "total_price = int(input())\n",
    "if total_price > 20000:\n",
    "    discount = total_price*.20\n",
    "    print(\"discount will be\" , discount)\n",
    "elif total_price < 20000:\n",
    "    discount = total_price*.05\n",
    "    print(\"discount will be\" , discount)\n",
    "else:\n",
    "    print(\"you would not able to get any discount\")"
   ]
  },
  {
   "cell_type": "code",
   "execution_count": null,
   "id": "0530858a",
   "metadata": {},
   "outputs": [],
   "source": [
    "total_price = int(input())\n",
    "if total_price > 20000:\n",
    "    discount = total_price*.50\n",
    "    print(\"discount will be\", discount)\n",
    "elif total_price > 7000:\n",
    "    discount = total_price*.10\n",
    "    print(\"discount will be\", discount)"
   ]
  },
  {
   "cell_type": "code",
   "execution_count": null,
   "id": "314ba1c5",
   "metadata": {},
   "outputs": [],
   "source": [
    "total_price = int(input())\n",
    "if total_price > 20000:\n",
    "    discount = total_price*.50\n",
    "    print(\"discount will be\", discount)\n",
    "elif total_price > 7000:\n",
    "    discount = total_price*.10\n",
    "    print(\"discount will be\", discount)"
   ]
  },
  {
   "cell_type": "code",
   "execution_count": null,
   "id": "e896c330",
   "metadata": {},
   "outputs": [],
   "source": [
    "total_price = int(input())\n",
    "if total_price > 20000:\n",
    "    discount = total_price*.50\n",
    "    print(\"discount will be\", discount)\n",
    "elif total_price > 7000:\n",
    "    discount = total_price*.10\n",
    "    print(\"discount will be\", discount)"
   ]
  },
  {
   "cell_type": "code",
   "execution_count": null,
   "id": "e4b980b7",
   "metadata": {},
   "outputs": [],
   "source": [
    "total_price = int(input())\n",
    "if total_price > 20000:\n",
    "    discount = total_price*.50\n",
    "    print(\"discount will be\", discount)\n",
    "elif total_price > 7000:\n",
    "    discount = total_price*.10\n",
    "    print(\"no discount\")"
   ]
  },
  {
   "cell_type": "code",
   "execution_count": null,
   "id": "c69e79c4",
   "metadata": {},
   "outputs": [],
   "source": [
    "total_price = int(input())\n",
    "if total_price > 20000:\n",
    "    discount = total_price*.50\n",
    "    print(\"discount will be\", discount)\n",
    "elif total_price > 7000:\n",
    "    discount = total_price*.10\n",
    "    print(\"no discount\")"
   ]
  },
  {
   "cell_type": "code",
   "execution_count": null,
   "id": "70093d7c",
   "metadata": {},
   "outputs": [],
   "source": [
    "\"sudh\"==\"sudh\""
   ]
  },
  {
   "cell_type": "code",
   "execution_count": null,
   "id": "c29ffd8f",
   "metadata": {},
   "outputs": [],
   "source": [
    "coup = input()\n",
    "if coup == \"SUDHANSHU5\":\n",
    "    print(\"you will be able to get a discount of 5%\")\n",
    "    paid_amount = 7080 - 7080*.05\n",
    "    print(\"you will access the one neuron course with\", paid_amount)\n",
    "else:\n",
    "    print(\"kindly used a valid coupen code\")"
   ]
  },
  {
   "cell_type": "code",
   "execution_count": null,
   "id": "7aad51b4",
   "metadata": {},
   "outputs": [],
   "source": [
    "coup = input()\n",
    "if coup == \"SUDHANSHU5\":\n",
    "    print(\"you will be able to get a discount of 5%\")\n",
    "    paid_amount = 7080 - 7080*.05\n",
    "    print(\"you will access the one neuron course with\", paid_amount)\n",
    "else:\n",
    "    print(\"kindly used a valid coupen code\")"
   ]
  },
  {
   "cell_type": "code",
   "execution_count": null,
   "id": "a7110c02",
   "metadata": {},
   "outputs": [],
   "source": [
    "l = [1,2,3,4,5,6,2.5,4.2,\"sudh\", \"KUMAR\", 6+5j,[56,45,78, \"ffsd\"]]   "
   ]
  },
  {
   "cell_type": "code",
   "execution_count": null,
   "id": "6c920e41",
   "metadata": {},
   "outputs": [],
   "source": [
    "l"
   ]
  },
  {
   "cell_type": "code",
   "execution_count": null,
   "id": "62fe90f3",
   "metadata": {},
   "outputs": [],
   "source": [
    "l.index(\"sudh\")"
   ]
  },
  {
   "cell_type": "code",
   "execution_count": null,
   "id": "3ed337f7",
   "metadata": {},
   "outputs": [],
   "source": [
    "l.index(6+5j)"
   ]
  },
  {
   "cell_type": "code",
   "execution_count": null,
   "id": "8060d47c",
   "metadata": {},
   "outputs": [],
   "source": [
    "l[6]"
   ]
  },
  {
   "cell_type": "code",
   "execution_count": null,
   "id": "34e9f7d9",
   "metadata": {},
   "outputs": [],
   "source": [
    "l[6][2]"
   ]
  },
  {
   "cell_type": "code",
   "execution_count": null,
   "id": "13e82e99",
   "metadata": {},
   "outputs": [],
   "source": [
    "l[9][1]"
   ]
  },
  {
   "cell_type": "code",
   "execution_count": null,
   "id": "7ad38a83",
   "metadata": {},
   "outputs": [],
   "source": []
  },
  {
   "cell_type": "code",
   "execution_count": null,
   "id": "c1d2fd9c",
   "metadata": {},
   "outputs": [],
   "source": [
    " # remove all str from the list\n",
    "for i in l:\n",
    "    if type(i) == str:\n",
    "        print(i)\n",
    "    elif type(i) == list:\n",
    "        for j in i:\n",
    "            if type(j)== str:\n",
    "                print(j)"
   ]
  },
  {
   "cell_type": "code",
   "execution_count": null,
   "id": "af35031b",
   "metadata": {},
   "outputs": [],
   "source": [
    "for i in l:\n",
    "    print(i)"
   ]
  },
  {
   "cell_type": "code",
   "execution_count": null,
   "id": "d94c23cc",
   "metadata": {},
   "outputs": [],
   "source": [
    "for i in l:\n",
    "    if type(i) == int:\n",
    "        print(i*i)"
   ]
  },
  {
   "cell_type": "code",
   "execution_count": null,
   "id": "e882a170",
   "metadata": {},
   "outputs": [],
   "source": [
    "#to extract square of all integer\n",
    "for i in l:\n",
    "    if type(i)== int:\n",
    "        print(i*i)\n",
    "    elif type(i) == list:\n",
    "        for j in i:\n",
    "            if type(j)== int:\n",
    "                print(j*j)"
   ]
  },
  {
   "cell_type": "code",
   "execution_count": null,
   "id": "9a4ac490",
   "metadata": {},
   "outputs": [],
   "source": [
    "len(l)"
   ]
  },
  {
   "cell_type": "code",
   "execution_count": null,
   "id": "b4d6198c",
   "metadata": {},
   "outputs": [],
   "source": [
    "range(len(l))"
   ]
  },
  {
   "cell_type": "code",
   "execution_count": null,
   "id": "35af4374",
   "metadata": {},
   "outputs": [],
   "source": [
    "# to extract index of all variables in list\n",
    "for i in range(len(l)):\n",
    "    print(\"index\", i, \"for an element\", l[i])"
   ]
  },
  {
   "cell_type": "code",
   "execution_count": null,
   "id": "f039df1f",
   "metadata": {},
   "outputs": [],
   "source": [
    "for i in enumerate(l):\n",
    "    print(i)"
   ]
  },
  {
   "cell_type": "code",
   "execution_count": null,
   "id": "e5919980",
   "metadata": {},
   "outputs": [],
   "source": [
    "for i,j in enumerate(l):\n",
    "    print(i,j)"
   ]
  },
  {
   "cell_type": "code",
   "execution_count": null,
   "id": "46f4e2b1",
   "metadata": {},
   "outputs": [],
   "source": [
    "for i in l:\n",
    "    if type(i)== str:\n",
    "        l1 = []\n",
    "        for j in i:\n",
    "            l1.append(j)\n",
    "            print(j)"
   ]
  },
  {
   "cell_type": "code",
   "execution_count": null,
   "id": "b6fdb35b",
   "metadata": {},
   "outputs": [],
   "source": [
    "for i in l:\n",
    "    if type(i)== str:\n",
    "        l1 = []\n",
    "        for j in i:\n",
    "            l1.append(j)\n",
    "            print(l1)"
   ]
  },
  {
   "cell_type": "code",
   "execution_count": null,
   "id": "e91cb220",
   "metadata": {},
   "outputs": [],
   "source": [
    "###try to extract char in the list l\n",
    "\n",
    "for i in l:\n",
    "    if type(i) == str:\n",
    "        l1 = []\n",
    "        for j in i:\n",
    "            l1.append(j)\n",
    "        print(l1)              #properly looks the indentation how it will affect the result"
   ]
  },
  {
   "cell_type": "code",
   "execution_count": null,
   "id": "acb18f71",
   "metadata": {},
   "outputs": [],
   "source": [
    "for i in l:\n",
    "    if type(i)== str:\n",
    "        l1 = []\n",
    "        for j in i:\n",
    "            l1.append(j)\n",
    "            print(l1)        "
   ]
  },
  {
   "cell_type": "code",
   "execution_count": null,
   "id": "504aed5d",
   "metadata": {},
   "outputs": [],
   "source": [
    "for i in l:\n",
    "    if type(i)== str:\n",
    "        l1 = []\n",
    "        for j in i:\n",
    "            l1.append(j)\n",
    "            print(i)"
   ]
  },
  {
   "cell_type": "code",
   "execution_count": null,
   "id": "20e52249",
   "metadata": {},
   "outputs": [],
   "source": [
    "#try to extract list of all the element , square them and make a list\n",
    "l2 = []\n",
    "for i in l:\n",
    "    if type(i)==int:\n",
    "        l2.append(i**2)"
   ]
  },
  {
   "cell_type": "code",
   "execution_count": null,
   "id": "7df1b43b",
   "metadata": {},
   "outputs": [],
   "source": [
    "l2"
   ]
  },
  {
   "cell_type": "code",
   "execution_count": null,
   "id": "b98e09bb",
   "metadata": {},
   "outputs": [],
   "source": [
    "for i in l:\n",
    "    if type(i)==float or type(i)==int:\n",
    "        print(i)"
   ]
  },
  {
   "cell_type": "code",
   "execution_count": null,
   "id": "ba9e93ba",
   "metadata": {},
   "outputs": [],
   "source": [
    "l = [\"name\",\"emai_id\", \"mob_no\",\"address\"]\n",
    "for i in l:\n",
    "    print(i)"
   ]
  },
  {
   "cell_type": "code",
   "execution_count": null,
   "id": "a7510ab9",
   "metadata": {},
   "outputs": [],
   "source": [
    "l = [\"name\",\"emai_id\", \"mob_no\",\"address\"]\n",
    "for i in l:\n",
    "    print(i+ \"  sudh\")"
   ]
  },
  {
   "cell_type": "code",
   "execution_count": null,
   "id": "9034b666",
   "metadata": {},
   "outputs": [],
   "source": [
    "s = 'ineuron'\n",
    "for i in s:\n",
    "    print(i)"
   ]
  },
  {
   "cell_type": "code",
   "execution_count": null,
   "id": "69c61294",
   "metadata": {},
   "outputs": [],
   "source": [
    "l"
   ]
  },
  {
   "cell_type": "code",
   "execution_count": null,
   "id": "61c53050",
   "metadata": {},
   "outputs": [],
   "source": [
    "for i in l:\n",
    "    print(i)\n",
    "else:\n",
    "    print(\"if for loop is not complet itself then it will shown else statement\")"
   ]
  },
  {
   "cell_type": "code",
   "execution_count": null,
   "id": "a0f123d6",
   "metadata": {},
   "outputs": [],
   "source": [
    "l"
   ]
  },
  {
   "cell_type": "code",
   "execution_count": null,
   "id": "18b58e5c",
   "metadata": {},
   "outputs": [],
   "source": [
    "for i in l:\n",
    "    if i == \"mob_no\":\n",
    "        break\n",
    "    print(i)\n",
    "else:\n",
    "    print(\"check this statement\")"
   ]
  },
  {
   "cell_type": "code",
   "execution_count": null,
   "id": "9ebe5e5d",
   "metadata": {},
   "outputs": [],
   "source": [
    "for i in l:\n",
    "    if i == \"email_id\":\n",
    "        break\n",
    "    print(i)\n",
    "else:\n",
    "    print(\"this is wrong statement\")"
   ]
  },
  {
   "cell_type": "code",
   "execution_count": null,
   "id": "ba65657c",
   "metadata": {},
   "outputs": [],
   "source": [
    "s = \"sudhanshu\"\n",
    "for i in s:\n",
    "    if i == \"n\":\n",
    "        break\n",
    "    print(i)\n",
    "else:\n",
    "    print(\"dont excuse is unless and untillit is not available\")\n",
    "    "
   ]
  },
  {
   "cell_type": "code",
   "execution_count": null,
   "id": "9b5dbe44",
   "metadata": {},
   "outputs": [],
   "source": [
    "s = \"sudhanshu\"\n",
    "for i in s:\n",
    "    if i == \"n\":\n",
    "        break\n",
    "else:\n",
    "    print(\"dont excuse is unless and untill it is not available\")\n",
    "    "
   ]
  },
  {
   "cell_type": "code",
   "execution_count": null,
   "id": "22f7b6a7",
   "metadata": {},
   "outputs": [],
   "source": [
    "a = 1\n",
    "while a < 6:\n",
    "    print(a)           \n",
    "    a = a+1            #suppose im gonna remove this line, it will shows 1 upto infinite digit\n"
   ]
  },
  {
   "cell_type": "code",
   "execution_count": null,
   "id": "715d21b7",
   "metadata": {},
   "outputs": [],
   "source": [
    "a = 1\n",
    "if a < 6:\n",
    "    print(a)\n",
    "    a = a+1"
   ]
  },
  {
   "cell_type": "code",
   "execution_count": null,
   "id": "a9198b5f",
   "metadata": {},
   "outputs": [],
   "source": [
    "a = 1\n",
    "while a < 10:\n",
    "    print(a)\n",
    "    if a == 6:\n",
    "        break\n",
    "    a = a+1"
   ]
  },
  {
   "cell_type": "code",
   "execution_count": null,
   "id": "807a20ca",
   "metadata": {},
   "outputs": [],
   "source": [
    "a = 1\n",
    "while a < 10:\n",
    "    print(a)\n",
    "    a = a+1\n",
    "    if a ==3:\n",
    "        continue\n",
    "    "
   ]
  },
  {
   "cell_type": "code",
   "execution_count": null,
   "id": "1f09b616",
   "metadata": {},
   "outputs": [],
   "source": [
    "a = 1\n",
    "while a < 10:\n",
    "    print(a)\n",
    "    a = a+1\n",
    "    if a ==5:\n",
    "        break\n",
    "    "
   ]
  },
  {
   "cell_type": "code",
   "execution_count": null,
   "id": "be466dcd",
   "metadata": {},
   "outputs": [],
   "source": [
    "while a <5:\n",
    "    pass"
   ]
  },
  {
   "cell_type": "code",
   "execution_count": null,
   "id": "6123f3b5",
   "metadata": {},
   "outputs": [],
   "source": [
    "for i in l:\n",
    "    pass"
   ]
  },
  {
   "cell_type": "code",
   "execution_count": null,
   "id": "6fbd6e4c",
   "metadata": {},
   "outputs": [],
   "source": [
    "while a < 4:\n",
    "    break"
   ]
  },
  {
   "cell_type": "code",
   "execution_count": null,
   "id": "6a2d1314",
   "metadata": {},
   "outputs": [],
   "source": [
    "a = 1"
   ]
  },
  {
   "cell_type": "code",
   "execution_count": null,
   "id": "d7783c58",
   "metadata": {},
   "outputs": [],
   "source": [
    "while a < 5:        # do not performed such type of operation\n",
    "    continue"
   ]
  },
  {
   "cell_type": "code",
   "execution_count": null,
   "id": "88e1611a",
   "metadata": {},
   "outputs": [],
   "source": [
    "range(6)"
   ]
  },
  {
   "cell_type": "code",
   "execution_count": null,
   "id": "93f48b31",
   "metadata": {},
   "outputs": [],
   "source": [
    "list(range(1,9))"
   ]
  },
  {
   "cell_type": "code",
   "execution_count": null,
   "id": "1decb989",
   "metadata": {},
   "outputs": [],
   "source": [
    "list(range(0,20))"
   ]
  },
  {
   "cell_type": "code",
   "execution_count": null,
   "id": "ff1229bd",
   "metadata": {},
   "outputs": [],
   "source": [
    "list(range(0,20,2))"
   ]
  },
  {
   "cell_type": "code",
   "execution_count": null,
   "id": "9af113f3",
   "metadata": {},
   "outputs": [],
   "source": [
    "list(range(3,12))"
   ]
  },
  {
   "cell_type": "code",
   "execution_count": null,
   "id": "2e78f5f4",
   "metadata": {},
   "outputs": [],
   "source": [
    "list(range(3,10,1))"
   ]
  },
  {
   "cell_type": "code",
   "execution_count": null,
   "id": "ec86e614",
   "metadata": {},
   "outputs": [],
   "source": [
    "list(range(3,15,-1))"
   ]
  },
  {
   "cell_type": "code",
   "execution_count": null,
   "id": "822f3929",
   "metadata": {},
   "outputs": [],
   "source": [
    "list(range(10,4,-1))"
   ]
  },
  {
   "cell_type": "code",
   "execution_count": null,
   "id": "c9e010ef",
   "metadata": {},
   "outputs": [],
   "source": [
    "list(range(10,-4,-1))"
   ]
  },
  {
   "cell_type": "code",
   "execution_count": null,
   "id": "81473656",
   "metadata": {},
   "outputs": [],
   "source": [
    " list(range(-10,-6,1))"
   ]
  },
  {
   "cell_type": "code",
   "execution_count": null,
   "id": "9896fcf1",
   "metadata": {},
   "outputs": [],
   "source": [
    " list(range(10,-6,1))"
   ]
  },
  {
   "cell_type": "code",
   "execution_count": null,
   "id": "54e0cd4b",
   "metadata": {},
   "outputs": [],
   "source": [
    "for i in range(7):\n",
    "    print(i)"
   ]
  },
  {
   "cell_type": "code",
   "execution_count": null,
   "id": "8b02c1e8",
   "metadata": {},
   "outputs": [],
   "source": [
    "n =5\n",
    "for i in range(0,n) :\n",
    "    for j in range(0,i+1):\n",
    "        print(\"*\", end = \" \")\n",
    "    print(\"\\r\")"
   ]
  },
  {
   "cell_type": "code",
   "execution_count": null,
   "id": "450b2f38",
   "metadata": {},
   "outputs": [],
   "source": [
    "n =5\n",
    "for i in range(0,n) :           #indentation change the result\n",
    "    for j in range(0,i+1):\n",
    "        print(\"*\", end = \" \")\n",
    "        print(\"\\r\")"
   ]
  },
  {
   "cell_type": "code",
   "execution_count": null,
   "id": "44356a44",
   "metadata": {},
   "outputs": [],
   "source": [
    "n = 10\n",
    "for i in range(0,n):\n",
    "    for j in range(0,i+1):\n",
    "        print(\"*\",end = \" \")\n",
    "    print(\"\\r\")"
   ]
  },
  {
   "cell_type": "code",
   "execution_count": null,
   "id": "30dd996c",
   "metadata": {},
   "outputs": [],
   "source": [
    "n = 9\n",
    "for i in range(0,n):\n",
    "    for j in range(0,i+1):\n",
    "        print(\"Np\", end = \" \")\n",
    "    print(\"\\r\")"
   ]
  },
  {
   "cell_type": "code",
   "execution_count": null,
   "id": "013db6a1",
   "metadata": {},
   "outputs": [],
   "source": [
    "n = 5\n",
    "for i in range(0,n):\n",
    "    for j in range(0,i+1):\n",
    "        print(\"Np\", end = \" \")\n",
    " "
   ]
  },
  {
   "cell_type": "code",
   "execution_count": null,
   "id": "74593c4b",
   "metadata": {},
   "outputs": [],
   "source": [
    "n = 9\n",
    "for i in range(0,n):\n",
    "    for j in range(0,i+1):\n",
    "        print(\"Np\", end = \" \")\n",
    "    print(\"\\\\r\")"
   ]
  },
  {
   "cell_type": "code",
   "execution_count": null,
   "id": "63d8082a",
   "metadata": {},
   "outputs": [],
   "source": [
    "n = 9\n",
    "for i in range(0,n):\n",
    "    for j in range(0,i+1):\n",
    "        print(\"Np\", end = \" \")\n",
    "    print(\"\\n\")"
   ]
  },
  {
   "cell_type": "code",
   "execution_count": null,
   "id": "dabe738c",
   "metadata": {},
   "outputs": [],
   "source": [
    "n = 5\n",
    "for i in range(0,n):\n",
    "    for j in range(0,i+1):\n",
    "        print(\"Np\")\n",
    "    print(\"\\r\\r\\r\")"
   ]
  },
  {
   "cell_type": "code",
   "execution_count": null,
   "id": "b8cc5171",
   "metadata": {},
   "outputs": [],
   "source": [
    "n = 9\n",
    "for i in range(0,n):\n",
    "    for j in range(0,i+1):\n",
    "        print(\"Np\", end = \" \")\n",
    "    print(\"\\r\\r\\r\")"
   ]
  },
  {
   "cell_type": "code",
   "execution_count": null,
   "id": "d6641044",
   "metadata": {},
   "outputs": [],
   "source": [
    "n = 9\n",
    "for i in range(0,n):\n",
    "    for j in range(0,i+1):             #\\r &\\r\\r\\r work as same opertion\n",
    "        print(\"Np\", end = \" \")\n",
    "    print(\"\\r\")"
   ]
  },
  {
   "cell_type": "code",
   "execution_count": null,
   "id": "96156925",
   "metadata": {},
   "outputs": [],
   "source": [
    "n = 9\n",
    "for i in range(0,n):\n",
    "    for j in range(0,i+1):\n",
    "        print(\"Np\", end = \" \")\n",
    "    print(\"\\n\\n\\n\")"
   ]
  },
  {
   "cell_type": "code",
   "execution_count": null,
   "id": "ba30a139",
   "metadata": {},
   "outputs": [],
   "source": [
    "n = 9\n",
    "for i in range(0,n):\n",
    "    for j in range(0,i+1):\n",
    "        print(\"Np\", end = \" \")\n",
    "    print(\"\\n\\n\\r\")"
   ]
  },
  {
   "cell_type": "code",
   "execution_count": null,
   "id": "e607eab6",
   "metadata": {},
   "outputs": [],
   "source": [
    "t = (1,2,3,4,5,6,7,8,9)"
   ]
  },
  {
   "cell_type": "code",
   "execution_count": null,
   "id": "55d7958f",
   "metadata": {},
   "outputs": [],
   "source": [
    "t[::1]"
   ]
  },
  {
   "cell_type": "code",
   "execution_count": null,
   "id": "6243de1f",
   "metadata": {},
   "outputs": [],
   "source": [
    "t[::-1]"
   ]
  },
  {
   "cell_type": "code",
   "execution_count": null,
   "id": "d64f01b2",
   "metadata": {},
   "outputs": [],
   "source": [
    "for i in t:\n",
    "    t[::-1]\n",
    "    print(i)"
   ]
  },
  {
   "cell_type": "code",
   "execution_count": null,
   "id": "b3a7da8b",
   "metadata": {},
   "outputs": [],
   "source": [
    "list(range(t))"
   ]
  },
  {
   "cell_type": "code",
   "execution_count": null,
   "id": "461b829c",
   "metadata": {},
   "outputs": [],
   "source": [
    "list(range(t), 0 -1)"
   ]
  },
  {
   "cell_type": "code",
   "execution_count": null,
   "id": "c215f9a2",
   "metadata": {},
   "outputs": [],
   "source": [
    "list(range(len(t), 0 -1))"
   ]
  },
  {
   "cell_type": "code",
   "execution_count": null,
   "id": "c9025366",
   "metadata": {},
   "outputs": [],
   "source": [
    "for i in range(len(t)):\n",
    "    t[::-1]\n",
    "    print(i)"
   ]
  },
  {
   "cell_type": "code",
   "execution_count": null,
   "id": "d7d49ea0",
   "metadata": {},
   "outputs": [],
   "source": [
    "for i in range(len(t)):\n",
    "    t[::1]\n",
    "    print(i)"
   ]
  },
  {
   "cell_type": "code",
   "execution_count": null,
   "id": "f24a7e31",
   "metadata": {},
   "outputs": [],
   "source": [
    "for i in range(len(t)):\n",
    "    t[::-1]\n",
    "    print(t)"
   ]
  },
  {
   "cell_type": "code",
   "execution_count": null,
   "id": "b8a8ebc6",
   "metadata": {},
   "outputs": [],
   "source": [
    "list(range(len(t),0 -1))"
   ]
  },
  {
   "cell_type": "code",
   "execution_count": null,
   "id": "f6bfa896",
   "metadata": {},
   "outputs": [],
   "source": [
    "for i in list(range(len(t), 0, -1)):\n",
    "    print(t[i])"
   ]
  },
  {
   "cell_type": "code",
   "execution_count": null,
   "id": "db4e9f59",
   "metadata": {},
   "outputs": [],
   "source": [
    "#it work like that function t[::-1]  \n",
    "for i in list(range(len(t)-1, 0, -1)):\n",
    "    print(t[i])"
   ]
  },
  {
   "cell_type": "code",
   "execution_count": null,
   "id": "c9d50fd1",
   "metadata": {},
   "outputs": [],
   "source": [
    "for i in list(range(len(t)-1, -1, -1)):\n",
    "    print(t[i])"
   ]
  },
  {
   "cell_type": "code",
   "execution_count": null,
   "id": "0484bf12",
   "metadata": {},
   "outputs": [],
   "source": [
    "d = {\"a\":1, \"b\":2,\"c\":3,\"d\":4,\"e\":5}"
   ]
  },
  {
   "cell_type": "code",
   "execution_count": null,
   "id": "6bd6cd89",
   "metadata": {},
   "outputs": [],
   "source": [
    "d"
   ]
  },
  {
   "cell_type": "code",
   "execution_count": null,
   "id": "9fa845b9",
   "metadata": {},
   "outputs": [],
   "source": [
    "for i in d:\n",
    "    print(i)"
   ]
  },
  {
   "cell_type": "code",
   "execution_count": null,
   "id": "15906f85",
   "metadata": {},
   "outputs": [],
   "source": [
    "for i in d:\n",
    "    print(d[i])"
   ]
  },
  {
   "cell_type": "code",
   "execution_count": null,
   "id": "8fe5726c",
   "metadata": {},
   "outputs": [],
   "source": [
    "for i in d:\n",
    "    print(i, d[i])"
   ]
  },
  {
   "cell_type": "code",
   "execution_count": null,
   "id": "fb5826f5",
   "metadata": {},
   "outputs": [],
   "source": [
    "d[\"c\"]"
   ]
  },
  {
   "cell_type": "code",
   "execution_count": null,
   "id": "29a5292a",
   "metadata": {},
   "outputs": [],
   "source": [
    "d['a']"
   ]
  },
  {
   "cell_type": "code",
   "execution_count": null,
   "id": "273b80f1",
   "metadata": {},
   "outputs": [],
   "source": [
    "d[\"d\"]"
   ]
  },
  {
   "cell_type": "code",
   "execution_count": null,
   "id": "06d58a94",
   "metadata": {},
   "outputs": [],
   "source": [
    "d.items()"
   ]
  },
  {
   "cell_type": "code",
   "execution_count": null,
   "id": "aef8e749",
   "metadata": {},
   "outputs": [],
   "source": [
    "d.keys()"
   ]
  },
  {
   "cell_type": "code",
   "execution_count": null,
   "id": "93d73232",
   "metadata": {},
   "outputs": [],
   "source": [
    "d.values()"
   ]
  },
  {
   "cell_type": "code",
   "execution_count": null,
   "id": "15b483d6",
   "metadata": {},
   "outputs": [],
   "source": [
    "for i in d.items():\n",
    "    \n",
    "    print(i)"
   ]
  },
  {
   "cell_type": "code",
   "execution_count": null,
   "id": "de92a8de",
   "metadata": {},
   "outputs": [],
   "source": [
    "s = \"this is a basic pythan class\""
   ]
  },
  {
   "cell_type": "code",
   "execution_count": null,
   "id": "5f39c45c",
   "metadata": {},
   "outputs": [],
   "source": [
    "len(s)"
   ]
  },
  {
   "cell_type": "code",
   "execution_count": null,
   "id": "64a1b3cd",
   "metadata": {},
   "outputs": [],
   "source": [
    "count = 0\n",
    "for i in s:\n",
    "    count = count + 1\n",
    "    print(i)"
   ]
  },
  {
   "cell_type": "code",
   "execution_count": null,
   "id": "93918c53",
   "metadata": {},
   "outputs": [],
   "source": [
    "count = 0\n",
    "for i in s:\n",
    "    count = count + 1\n",
    "    print(count)"
   ]
  },
  {
   "cell_type": "code",
   "execution_count": null,
   "id": "fe6f3852",
   "metadata": {},
   "outputs": [],
   "source": [
    "count = 0\n",
    "for i in s:\n",
    "    count = count + 1\n",
    "print(count)"
   ]
  },
  {
   "cell_type": "code",
   "execution_count": null,
   "id": "24136124",
   "metadata": {},
   "outputs": [],
   "source": [
    "count = 0\n",
    "for i in s:\n",
    "    count = count + 1\n",
    "    print(count,i)"
   ]
  },
  {
   "cell_type": "code",
   "execution_count": null,
   "id": "9c3a350c",
   "metadata": {},
   "outputs": [],
   "source": [
    "count = 0\n",
    "for i in s:\n",
    "    count+= 1\n",
    "print(count)"
   ]
  },
  {
   "cell_type": "code",
   "execution_count": null,
   "id": "2a281a97",
   "metadata": {},
   "outputs": [],
   "source": [
    "s[::-1]"
   ]
  },
  {
   "cell_type": "code",
   "execution_count": null,
   "id": "99f5ca34",
   "metadata": {},
   "outputs": [],
   "source": [
    "for i in range(len(s)-1,-1,-1):\n",
    "    print(s[i])"
   ]
  },
  {
   "cell_type": "code",
   "execution_count": null,
   "id": "661ef71c",
   "metadata": {},
   "outputs": [],
   "source": [
    "for i in range(len(s)-1,-1,-1):\n",
    "    print(s[i], end = \" \")\n",
    "    print(\"\\n\")"
   ]
  },
  {
   "cell_type": "code",
   "execution_count": null,
   "id": "aad526f9",
   "metadata": {},
   "outputs": [],
   "source": [
    "s"
   ]
  },
  {
   "cell_type": "code",
   "execution_count": null,
   "id": "9c511bfe",
   "metadata": {},
   "outputs": [],
   "source": [
    "i = len(s)-1\n",
    "while (i >= 0):\n",
    "    print(s[i],  end =\" \")\n",
    "    i = i-1"
   ]
  },
  {
   "cell_type": "code",
   "execution_count": null,
   "id": "6b80060f",
   "metadata": {},
   "outputs": [],
   "source": [
    "i = len(s)-1\n",
    "while (i >= 0):\n",
    "    print(s[i], end = \"\")\n",
    "    i = i-1"
   ]
  },
  {
   "cell_type": "code",
   "execution_count": null,
   "id": "0f7acf55",
   "metadata": {},
   "outputs": [],
   "source": [
    "for i in s:\n",
    "    print(i,end = \"\")"
   ]
  },
  {
   "cell_type": "code",
   "execution_count": null,
   "id": "b81f0a50",
   "metadata": {},
   "outputs": [],
   "source": [
    "s"
   ]
  },
  {
   "cell_type": "code",
   "execution_count": null,
   "id": "0df66d0a",
   "metadata": {},
   "outputs": [],
   "source": [
    "s = \"ineuron\"\n",
    "v =\"AaEeIiOoUu\"\n",
    "for i in s:\n",
    "    if i in v:\n",
    "        print('vowel',i)\n",
    "    else:\n",
    "        print(\"not vowel\",i)"
   ]
  },
  {
   "cell_type": "code",
   "execution_count": null,
   "id": "34ee6192",
   "metadata": {},
   "outputs": [],
   "source": [
    "s = \"tnent\"\n",
    "for i in s:\n",
    "    if s[::-1]==\"s\":\n",
    "        print(\"this is a pelendrom\")\n",
    "    else:\n",
    "        print(\"this is not pelendrom\")"
   ]
  },
  {
   "cell_type": "code",
   "execution_count": null,
   "id": "5f392db5",
   "metadata": {},
   "outputs": [],
   "source": [
    "s= \"tnent\""
   ]
  },
  {
   "cell_type": "code",
   "execution_count": null,
   "id": "1cd8ba5b",
   "metadata": {},
   "outputs": [],
   "source": [
    "s[::-1]"
   ]
  },
  {
   "cell_type": "code",
   "execution_count": null,
   "id": "9706a7e8",
   "metadata": {},
   "outputs": [],
   "source": [
    "s = \"tnent\"\n",
    "s1= s[::-1]\n",
    "if s==s1:\n",
    "    print(\"this is a pelendrom\")\n",
    "else:\n",
    "    print(\"this is not pelendrom\")"
   ]
  },
  {
   "cell_type": "code",
   "execution_count": null,
   "id": "4c322dcf",
   "metadata": {},
   "outputs": [],
   "source": [
    "s = (input())\n",
    "s1= s[::-1]\n",
    "if s==s1:\n",
    "    print(\"this is a pelendrom\")\n",
    "else:\n",
    "    print(\"this is not pelendrom\")"
   ]
  },
  {
   "cell_type": "code",
   "execution_count": null,
   "id": "256a763a",
   "metadata": {},
   "outputs": [],
   "source": [
    "s = (input())\n",
    "s1= s[::-1]\n",
    "if s==s1:\n",
    "    print(\"this is a pelendrom\")\n",
    "else:\n",
    "    print(\"this is not pelendrom\")"
   ]
  },
  {
   "cell_type": "code",
   "execution_count": null,
   "id": "40c5d860",
   "metadata": {},
   "outputs": [],
   "source": [
    "s = (input())\n",
    "s1= s[::-1]\n",
    "if s==s1:\n",
    "    print(\"this is a pelendrom\")\n",
    "else:\n",
    "    print(\"this is not pelendrom\")"
   ]
  },
  {
   "cell_type": "code",
   "execution_count": null,
   "id": "c1c791f3",
   "metadata": {},
   "outputs": [],
   "source": [
    "s = \"malayalam\"\n",
    "if s == s[::-1]:\n",
    "    print(\"the word is pelendrom\")\n",
    "else:\n",
    "    print(\"the word is not pelendrom\")"
   ]
  },
  {
   "cell_type": "code",
   "execution_count": null,
   "id": "409b6c19",
   "metadata": {},
   "outputs": [],
   "source": [
    "s = input()\n",
    "v =  s[::-1]\n",
    "if s==v:\n",
    "    print('this is pelendrom',s)\n",
    "else:\n",
    "    print(\"this is not pelendrom\")"
   ]
  },
  {
   "cell_type": "code",
   "execution_count": null,
   "id": "fe00f04a",
   "metadata": {},
   "outputs": [],
   "source": [
    "s = input()\n",
    "v =  s[::-1]\n",
    "if s==v:\n",
    "    print('this is pelendrom',s)\n",
    "else:\n",
    "    print(\"this is not pelendrom\")"
   ]
  },
  {
   "cell_type": "code",
   "execution_count": null,
   "id": "a5b9c6d6",
   "metadata": {},
   "outputs": [],
   "source": [
    "x = \"malayalam\"\n",
    "w = \"\"\n",
    "for i in x:\n",
    "    w = i+w\n",
    "if (x==w):\n",
    "        print(\"pelendrom\")\n",
    "else:\n",
    "        print(\"not pelendrom\")"
   ]
  },
  {
   "cell_type": "code",
   "execution_count": null,
   "id": "6c515ad5",
   "metadata": {},
   "outputs": [],
   "source": [
    "x = \"chetan\"\n",
    "w = \"\"\n",
    "for i in x:\n",
    "    w = i+w\n",
    "if (x==w):\n",
    "        print(\"pelendrom\")\n",
    "else:\n",
    "        print(\"not pelendrom\")"
   ]
  },
  {
   "cell_type": "code",
   "execution_count": 10,
   "id": "640fc891",
   "metadata": {},
   "outputs": [],
   "source": [
    "d = {\"india\": \"IN\",\"canada\":\"CA\",\"china\":\"CH\",\"united_state\":\"US\"}"
   ]
  },
  {
   "cell_type": "code",
   "execution_count": 11,
   "id": "98ece800",
   "metadata": {},
   "outputs": [
    {
     "data": {
      "text/plain": [
       "{'india': 'IN', 'canada': 'CA', 'china': 'CH', 'united_state': 'US'}"
      ]
     },
     "execution_count": 11,
     "metadata": {},
     "output_type": "execute_result"
    }
   ],
   "source": [
    "d"
   ]
  },
  {
   "cell_type": "code",
   "execution_count": null,
   "id": "eb4ba82e",
   "metadata": {},
   "outputs": [],
   "source": [
    "'india' in d"
   ]
  },
  {
   "cell_type": "code",
   "execution_count": null,
   "id": "93462e05",
   "metadata": {},
   "outputs": [],
   "source": [
    "\"china\" in d"
   ]
  },
  {
   "cell_type": "code",
   "execution_count": null,
   "id": "60b25f01",
   "metadata": {},
   "outputs": [],
   "source": [
    "d.keys()"
   ]
  },
  {
   "cell_type": "code",
   "execution_count": null,
   "id": "cf04abd6",
   "metadata": {},
   "outputs": [],
   "source": [
    "d.values()"
   ]
  },
  {
   "cell_type": "code",
   "execution_count": 3,
   "id": "087fe595",
   "metadata": {},
   "outputs": [
    {
     "name": "stdout",
     "output_type": "stream",
     "text": [
      "india\n",
      "china\n"
     ]
    }
   ],
   "source": [
    "for i in d.keys():\n",
    "    if len(i)<=5:\n",
    "        print(i)"
   ]
  },
  {
   "cell_type": "code",
   "execution_count": 6,
   "id": "69bc39d7",
   "metadata": {},
   "outputs": [
    {
     "name": "stdout",
     "output_type": "stream",
     "text": [
      "canada\n",
      "united_state\n"
     ]
    }
   ],
   "source": [
    "\n",
    "for i in d.keys():\n",
    "    if len(i)>5:\n",
    "        print(i)"
   ]
  },
  {
   "cell_type": "code",
   "execution_count": 9,
   "id": "59404977",
   "metadata": {},
   "outputs": [
    {
     "name": "stdout",
     "output_type": "stream",
     "text": [
      "'arunachal':1\n"
     ]
    },
    {
     "ename": "AttributeError",
     "evalue": "'str' object has no attribute 'keys'",
     "output_type": "error",
     "traceback": [
      "\u001b[1;31m---------------------------------------------------------------------------\u001b[0m",
      "\u001b[1;31mAttributeError\u001b[0m                            Traceback (most recent call last)",
      "\u001b[1;32m<ipython-input-9-f9b08f34f507>\u001b[0m in \u001b[0;36m<module>\u001b[1;34m\u001b[0m\n\u001b[0;32m      1\u001b[0m \u001b[0ms\u001b[0m \u001b[1;33m=\u001b[0m \u001b[0minput\u001b[0m\u001b[1;33m(\u001b[0m\u001b[1;33m)\u001b[0m\u001b[1;33m\u001b[0m\u001b[1;33m\u001b[0m\u001b[0m\n\u001b[1;32m----> 2\u001b[1;33m \u001b[1;32mfor\u001b[0m \u001b[0mi\u001b[0m \u001b[1;32min\u001b[0m \u001b[0ms\u001b[0m\u001b[1;33m.\u001b[0m\u001b[0mkeys\u001b[0m\u001b[1;33m(\u001b[0m\u001b[1;33m)\u001b[0m\u001b[1;33m:\u001b[0m\u001b[1;33m\u001b[0m\u001b[1;33m\u001b[0m\u001b[0m\n\u001b[0m\u001b[0;32m      3\u001b[0m     \u001b[1;32mif\u001b[0m \u001b[0mlen\u001b[0m\u001b[1;33m(\u001b[0m\u001b[0mi\u001b[0m\u001b[1;33m)\u001b[0m\u001b[1;33m>\u001b[0m\u001b[1;36m5\u001b[0m\u001b[1;33m:\u001b[0m\u001b[1;33m\u001b[0m\u001b[1;33m\u001b[0m\u001b[0m\n\u001b[0;32m      4\u001b[0m         \u001b[0mprint\u001b[0m\u001b[1;33m(\u001b[0m\u001b[0mi\u001b[0m\u001b[1;33m)\u001b[0m\u001b[1;33m\u001b[0m\u001b[1;33m\u001b[0m\u001b[0m\n",
      "\u001b[1;31mAttributeError\u001b[0m: 'str' object has no attribute 'keys'"
     ]
    }
   ],
   "source": [
    "s = input()\n",
    "for i in s.keys():\n",
    "    if len(i)>5:\n",
    "        print(i)"
   ]
  },
  {
   "cell_type": "code",
   "execution_count": 12,
   "id": "c7012b18",
   "metadata": {},
   "outputs": [
    {
     "name": "stdout",
     "output_type": "stream",
     "text": [
      "india\n",
      "canada\n",
      "china\n",
      "united_state\n"
     ]
    }
   ],
   "source": [
    "for i in d:\n",
    "    print(i)"
   ]
  },
  {
   "cell_type": "code",
   "execution_count": 14,
   "id": "c4d6078d",
   "metadata": {},
   "outputs": [],
   "source": [
    "l_smaller = []\n",
    "l_greater = []\n",
    "for i in d:\n",
    "    if len(i) <= 5:\n",
    "        l_smaller.append(i)\n",
    "    else:\n",
    "        l_greater.append(i)"
   ]
  },
  {
   "cell_type": "code",
   "execution_count": null,
   "id": "28b4a0a8",
   "metadata": {},
   "outputs": [],
   "source": []
  },
  {
   "cell_type": "markdown",
   "id": "17069d9e",
   "metadata": {},
   "source": []
  }
 ],
 "metadata": {
  "kernelspec": {
   "display_name": "Python 3",
   "language": "python",
   "name": "python3"
  },
  "language_info": {
   "codemirror_mode": {
    "name": "ipython",
    "version": 3
   },
   "file_extension": ".py",
   "mimetype": "text/x-python",
   "name": "python",
   "nbconvert_exporter": "python",
   "pygments_lexer": "ipython3",
   "version": "3.8.8"
  }
 },
 "nbformat": 4,
 "nbformat_minor": 5
}
