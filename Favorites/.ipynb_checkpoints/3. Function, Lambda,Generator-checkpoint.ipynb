{
 "cells": [
  {
   "cell_type": "code",
   "execution_count": null,
   "id": "1b8a6373",
   "metadata": {},
   "outputs": [],
   "source": [
    "len(\"sudh\")"
   ]
  },
  {
   "cell_type": "code",
   "execution_count": null,
   "id": "36a225d9",
   "metadata": {},
   "outputs": [],
   "source": [
    "print(\"all of you\")"
   ]
  },
  {
   "cell_type": "code",
   "execution_count": null,
   "id": "5fb9bb4f",
   "metadata": {},
   "outputs": [],
   "source": [
    "def test()"
   ]
  },
  {
   "cell_type": "code",
   "execution_count": null,
   "id": "ecd53f19",
   "metadata": {},
   "outputs": [],
   "source": [
    "def test():\n",
    "    pass\n"
   ]
  },
  {
   "cell_type": "code",
   "execution_count": null,
   "id": "d468c28b",
   "metadata": {},
   "outputs": [],
   "source": [
    "def test1():\n",
    "    print(\"this is my first function\")"
   ]
  },
  {
   "cell_type": "code",
   "execution_count": null,
   "id": "190f017b",
   "metadata": {},
   "outputs": [],
   "source": [
    "test1()"
   ]
  },
  {
   "cell_type": "code",
   "execution_count": null,
   "id": "f328d7ca",
   "metadata": {},
   "outputs": [],
   "source": [
    "type(test1)"
   ]
  },
  {
   "cell_type": "code",
   "execution_count": null,
   "id": "42218b6d",
   "metadata": {},
   "outputs": [],
   "source": [
    "a = test1()"
   ]
  },
  {
   "cell_type": "code",
   "execution_count": null,
   "id": "e4e31fff",
   "metadata": {},
   "outputs": [],
   "source": [
    "a + \"sudh\""
   ]
  },
  {
   "cell_type": "code",
   "execution_count": null,
   "id": "2b22bacd",
   "metadata": {},
   "outputs": [],
   "source": [
    "\"sudh \" + \"kumar\""
   ]
  },
  {
   "cell_type": "code",
   "execution_count": null,
   "id": "81d0dacd",
   "metadata": {},
   "outputs": [],
   "source": [
    "#None type means blank string or int"
   ]
  },
  {
   "cell_type": "code",
   "execution_count": null,
   "id": "ea57f814",
   "metadata": {},
   "outputs": [],
   "source": [
    "type(test1())"
   ]
  },
  {
   "cell_type": "code",
   "execution_count": null,
   "id": "b620300f",
   "metadata": {},
   "outputs": [],
   "source": [
    "a = test1()"
   ]
  },
  {
   "cell_type": "code",
   "execution_count": null,
   "id": "7aca7e70",
   "metadata": {},
   "outputs": [],
   "source": [
    "str(a)"
   ]
  },
  {
   "cell_type": "code",
   "execution_count": null,
   "id": "feb106d7",
   "metadata": {},
   "outputs": [],
   "source": [
    "def test2():\n",
    "    return \"this is my first function program\""
   ]
  },
  {
   "cell_type": "code",
   "execution_count": null,
   "id": "5f7e068b",
   "metadata": {},
   "outputs": [],
   "source": [
    "test2"
   ]
  },
  {
   "cell_type": "code",
   "execution_count": null,
   "id": "8512c1c5",
   "metadata": {},
   "outputs": [],
   "source": [
    "test2()"
   ]
  },
  {
   "cell_type": "code",
   "execution_count": null,
   "id": "8af4d914",
   "metadata": {},
   "outputs": [],
   "source": [
    "type(test2())"
   ]
  },
  {
   "cell_type": "code",
   "execution_count": null,
   "id": "09850a54",
   "metadata": {},
   "outputs": [],
   "source": [
    "test2()+\" sudh\""
   ]
  },
  {
   "cell_type": "code",
   "execution_count": null,
   "id": "40fcdfde",
   "metadata": {},
   "outputs": [],
   "source": [
    "def test3():\n",
    "    return 123456789"
   ]
  },
  {
   "cell_type": "code",
   "execution_count": null,
   "id": "610d27d6",
   "metadata": {},
   "outputs": [],
   "source": [
    "test3()"
   ]
  },
  {
   "cell_type": "code",
   "execution_count": null,
   "id": "067b434e",
   "metadata": {},
   "outputs": [],
   "source": [
    "type(test3())"
   ]
  },
  {
   "cell_type": "code",
   "execution_count": null,
   "id": "286ee84d",
   "metadata": {},
   "outputs": [],
   "source": [
    "def test4():\n",
    "    return 1,2,3,'sudh',[11,12,13]"
   ]
  },
  {
   "cell_type": "code",
   "execution_count": null,
   "id": "d330456a",
   "metadata": {},
   "outputs": [],
   "source": [
    "test4()         #bydefault it gives a collection of tuple"
   ]
  },
  {
   "cell_type": "code",
   "execution_count": null,
   "id": "e99386a7",
   "metadata": {},
   "outputs": [],
   "source": [
    "type(test4())"
   ]
  },
  {
   "cell_type": "code",
   "execution_count": null,
   "id": "4387c445",
   "metadata": {},
   "outputs": [],
   "source": [
    "b =test4()"
   ]
  },
  {
   "cell_type": "code",
   "execution_count": null,
   "id": "b5d11cfc",
   "metadata": {},
   "outputs": [],
   "source": [
    "b"
   ]
  },
  {
   "cell_type": "code",
   "execution_count": null,
   "id": "34cc30c8",
   "metadata": {},
   "outputs": [],
   "source": [
    "b[2]"
   ]
  },
  {
   "cell_type": "code",
   "execution_count": null,
   "id": "6e04f92e",
   "metadata": {},
   "outputs": [],
   "source": [
    "b[4]"
   ]
  },
  {
   "cell_type": "code",
   "execution_count": null,
   "id": "d61761ab",
   "metadata": {},
   "outputs": [],
   "source": [
    "b[3][2]"
   ]
  },
  {
   "cell_type": "code",
   "execution_count": null,
   "id": "60a6b641",
   "metadata": {},
   "outputs": [],
   "source": [
    "b[4][1]"
   ]
  },
  {
   "cell_type": "code",
   "execution_count": null,
   "id": "5bb12f05",
   "metadata": {},
   "outputs": [],
   "source": [
    "a = 34\n",
    "b = 6\n",
    "c = \"sudh\"\n",
    "d = 25.5"
   ]
  },
  {
   "cell_type": "code",
   "execution_count": null,
   "id": "8d69b246",
   "metadata": {},
   "outputs": [],
   "source": [
    "p,q,r,s = a,b,c,d"
   ]
  },
  {
   "cell_type": "code",
   "execution_count": null,
   "id": "52293c0e",
   "metadata": {},
   "outputs": [],
   "source": [
    "p"
   ]
  },
  {
   "cell_type": "code",
   "execution_count": null,
   "id": "b055c16b",
   "metadata": {},
   "outputs": [],
   "source": [
    "q"
   ]
  },
  {
   "cell_type": "code",
   "execution_count": null,
   "id": "35093d6f",
   "metadata": {},
   "outputs": [],
   "source": [
    "r"
   ]
  },
  {
   "cell_type": "code",
   "execution_count": null,
   "id": "71f46522",
   "metadata": {},
   "outputs": [],
   "source": [
    "s"
   ]
  },
  {
   "cell_type": "code",
   "execution_count": null,
   "id": "119a533b",
   "metadata": {},
   "outputs": [],
   "source": [
    "x,y,u,v,w =test4()"
   ]
  },
  {
   "cell_type": "code",
   "execution_count": null,
   "id": "60966037",
   "metadata": {},
   "outputs": [],
   "source": [
    "x"
   ]
  },
  {
   "cell_type": "code",
   "execution_count": null,
   "id": "c8660d34",
   "metadata": {},
   "outputs": [],
   "source": [
    "y"
   ]
  },
  {
   "cell_type": "code",
   "execution_count": null,
   "id": "fc261523",
   "metadata": {},
   "outputs": [],
   "source": [
    "u"
   ]
  },
  {
   "cell_type": "code",
   "execution_count": null,
   "id": "98ba8183",
   "metadata": {},
   "outputs": [],
   "source": [
    "v"
   ]
  },
  {
   "cell_type": "code",
   "execution_count": null,
   "id": "4a721eb6",
   "metadata": {},
   "outputs": [],
   "source": [
    "w"
   ]
  },
  {
   "cell_type": "code",
   "execution_count": null,
   "id": "1e54b04e",
   "metadata": {},
   "outputs": [],
   "source": [
    "def test5():\n",
    "    a = 6*7/6\n",
    "    return a"
   ]
  },
  {
   "cell_type": "code",
   "execution_count": null,
   "id": "99d9dcef",
   "metadata": {},
   "outputs": [],
   "source": [
    "test5()"
   ]
  },
  {
   "cell_type": "code",
   "execution_count": null,
   "id": "ef740ecf",
   "metadata": {},
   "outputs": [],
   "source": [
    "l = [1,2,3,4,5,6,\"sudh\",[9,8,7,6,5,4]]"
   ]
  },
  {
   "cell_type": "code",
   "execution_count": null,
   "id": "39588f77",
   "metadata": {},
   "outputs": [],
   "source": [
    "#try to extract all an integer\n",
    "\n",
    "for i in l:\n",
    "    if type(i)==int:\n",
    "        print(i)\n",
    "    if type(i)==list: \n",
    "        for j in i:\n",
    "            if type(j)==int:\n",
    "                print(j)"
   ]
  },
  {
   "cell_type": "code",
   "execution_count": null,
   "id": "4d390a26",
   "metadata": {},
   "outputs": [],
   "source": [
    "l"
   ]
  },
  {
   "cell_type": "code",
   "execution_count": null,
   "id": "1eb231eb",
   "metadata": {},
   "outputs": [],
   "source": [
    "def test6(a):\n",
    "    n = []\n",
    "    if type(a)==list:\n",
    "        for i in a:\n",
    "            if type(i)==int:\n",
    "                n.append(i)\n",
    "    return n"
   ]
  },
  {
   "cell_type": "code",
   "execution_count": null,
   "id": "a9567435",
   "metadata": {},
   "outputs": [],
   "source": [
    "test6(a)"
   ]
  },
  {
   "cell_type": "code",
   "execution_count": null,
   "id": "27b1e99b",
   "metadata": {},
   "outputs": [],
   "source": [
    "test6(l)"
   ]
  },
  {
   "cell_type": "code",
   "execution_count": null,
   "id": "68e91b71",
   "metadata": {},
   "outputs": [],
   "source": [
    "type(test6(a))"
   ]
  },
  {
   "cell_type": "code",
   "execution_count": null,
   "id": "b01593a1",
   "metadata": {},
   "outputs": [],
   "source": [
    "def test6(a):\n",
    "    n = []  \n",
    "    for i in a:\n",
    "        if type(i) == int:\n",
    "            n.append(i)\n",
    "        elif type(i) == list:\n",
    "                for j in i:\n",
    "                        if type(j)==int:\n",
    "                            n.append(j)\n",
    "    return n"
   ]
  },
  {
   "cell_type": "code",
   "execution_count": null,
   "id": "c718f513",
   "metadata": {},
   "outputs": [],
   "source": [
    "test6(l)"
   ]
  },
  {
   "cell_type": "code",
   "execution_count": null,
   "id": "ecdf2557",
   "metadata": {},
   "outputs": [],
   "source": [
    "def test6(a):\n",
    "    n = []  \n",
    "    for i in a:\n",
    "        if type(i) == int:\n",
    "            n.append(i)\n",
    "        elif type(i) == list:\n",
    "                for j in i:\n",
    "                        if type(j)==int:\n",
    "                            n.append(j)\n",
    "                            return n"
   ]
  },
  {
   "cell_type": "code",
   "execution_count": null,
   "id": "3a42e95d",
   "metadata": {},
   "outputs": [],
   "source": [
    "test6(l)"
   ]
  },
  {
   "cell_type": "code",
   "execution_count": null,
   "id": "baf6b354",
   "metadata": {},
   "outputs": [],
   "source": [
    "def test7(a):\n",
    "    n = []\n",
    "    for i in a:\n",
    "        if type(i)==int:\n",
    "            n.append(i)\n",
    "        if type(i)==list:\n",
    "                for j in i:\n",
    "                    if type(j)==int:\n",
    "                        n.append(j)\n",
    "    return n"
   ]
  },
  {
   "cell_type": "code",
   "execution_count": null,
   "id": "5ea72a30",
   "metadata": {},
   "outputs": [],
   "source": [
    "test7(l)"
   ]
  },
  {
   "cell_type": "code",
   "execution_count": null,
   "id": "10eca42d",
   "metadata": {},
   "outputs": [],
   "source": [
    "l"
   ]
  },
  {
   "cell_type": "code",
   "execution_count": null,
   "id": "a9ad2475",
   "metadata": {},
   "outputs": [],
   "source": [
    "def test8(c):\n",
    "    if type(c)== dict:\n",
    "        return c.keys()\n",
    "    else:\n",
    "        print(\"you have not pass dict\")"
   ]
  },
  {
   "cell_type": "code",
   "execution_count": null,
   "id": "cf49603c",
   "metadata": {},
   "outputs": [],
   "source": [
    "test8({\"gut\":\"power\"})"
   ]
  },
  {
   "cell_type": "code",
   "execution_count": null,
   "id": "1132ebd4",
   "metadata": {},
   "outputs": [],
   "source": [
    "test8(\"sudh\")"
   ]
  },
  {
   "cell_type": "code",
   "execution_count": null,
   "id": "264eaa5d",
   "metadata": {},
   "outputs": [],
   "source": [
    "test8({\"a\":12,\"b\":22,\"c\":32})"
   ]
  },
  {
   "cell_type": "code",
   "execution_count": null,
   "id": "c568cb5e",
   "metadata": {},
   "outputs": [],
   "source": [
    "def test8(s):\n",
    "    if type(s)==dict:\n",
    "        return s.values()\n",
    "    else:\n",
    "        print('you have not pass dict')"
   ]
  },
  {
   "cell_type": "code",
   "execution_count": null,
   "id": "809a9b80",
   "metadata": {},
   "outputs": [],
   "source": [
    "test8({\"ram\":\"lakshaman\"})"
   ]
  },
  {
   "cell_type": "code",
   "execution_count": null,
   "id": "cf8dfec7",
   "metadata": {},
   "outputs": [],
   "source": [
    "test8(\"shubham\")"
   ]
  },
  {
   "cell_type": "code",
   "execution_count": null,
   "id": "399b97d3",
   "metadata": {},
   "outputs": [],
   "source": [
    "test8({\"a\":12,\"b\":22,\"c\":32})"
   ]
  },
  {
   "cell_type": "code",
   "execution_count": null,
   "id": "5c768a48",
   "metadata": {},
   "outputs": [],
   "source": [
    "def test9(t):\n",
    "    n = \"sardar\"\n",
    "    for i in t:\n",
    "        if type(i)== str:\n",
    "            n.append(i)\n",
    "        return n\n",
    "    "
   ]
  },
  {
   "cell_type": "code",
   "execution_count": null,
   "id": "59577934",
   "metadata": {},
   "outputs": [],
   "source": [
    "test9(l)"
   ]
  },
  {
   "cell_type": "code",
   "execution_count": null,
   "id": "3656aa38",
   "metadata": {},
   "outputs": [],
   "source": [
    " def test10(a,b):\n",
    "        \n",
    "        if type(a)==list and type(b)==list:\n",
    "            return a.extend(b)\n",
    "        else:\n",
    "            return \"your data is not list\""
   ]
  },
  {
   "cell_type": "code",
   "execution_count": null,
   "id": "02451956",
   "metadata": {},
   "outputs": [],
   "source": [
    "test10([12,13,14],[11,22,33])"
   ]
  },
  {
   "cell_type": "code",
   "execution_count": null,
   "id": "b81a6ccc",
   "metadata": {},
   "outputs": [],
   "source": [
    "a = [11,12,13,14]\n",
    "b = [11,22,33,44]"
   ]
  },
  {
   "cell_type": "code",
   "execution_count": null,
   "id": "b87fd5a8",
   "metadata": {},
   "outputs": [],
   "source": [
    "test10(a,b)"
   ]
  },
  {
   "cell_type": "code",
   "execution_count": null,
   "id": "46c7509b",
   "metadata": {},
   "outputs": [],
   "source": [
    "a"
   ]
  },
  {
   "cell_type": "code",
   "execution_count": null,
   "id": "d5b95b0b",
   "metadata": {},
   "outputs": [],
   "source": [
    "def test11(a,b):\n",
    "    a = 11\n",
    "    b = 22\n",
    "    if type(a)==int and type(b)==int:\n",
    "        return a.extend(b)\n",
    "    else:\n",
    "        print(\"your data is not integer\")"
   ]
  },
  {
   "cell_type": "code",
   "execution_count": null,
   "id": "03fec683",
   "metadata": {},
   "outputs": [],
   "source": [
    "test11(a,b)     #int object does not extend"
   ]
  },
  {
   "cell_type": "code",
   "execution_count": null,
   "id": "1f054f05",
   "metadata": {},
   "outputs": [],
   "source": [
    "def test11(a,b):\n",
    "    if type(a)==list and type(b)==list:\n",
    "        return a.append(b)\n",
    "    else:\n",
    "        print(\"your data is not list\")"
   ]
  },
  {
   "cell_type": "code",
   "execution_count": null,
   "id": "f8878d9d",
   "metadata": {},
   "outputs": [],
   "source": [
    "a = [11,12,13]\n",
    "b = [11,22,33]"
   ]
  },
  {
   "cell_type": "code",
   "execution_count": null,
   "id": "d43fb574",
   "metadata": {},
   "outputs": [],
   "source": [
    "test11(a,b)"
   ]
  },
  {
   "cell_type": "code",
   "execution_count": null,
   "id": "9c5fe99a",
   "metadata": {},
   "outputs": [],
   "source": [
    "a"
   ]
  },
  {
   "cell_type": "code",
   "execution_count": null,
   "id": "307db135",
   "metadata": {},
   "outputs": [],
   "source": []
  },
  {
   "cell_type": "code",
   "execution_count": null,
   "id": "11562422",
   "metadata": {},
   "outputs": [],
   "source": [
    "def test11(a,b):\n",
    "    a = [11,12,13]\n",
    "    b = [11,22,33]\n",
    "    if type(a)==list and type(b)==list:\n",
    "        return a.append(b)\n",
    "    else:\n",
    "        print(\"your data is not list\")"
   ]
  },
  {
   "cell_type": "code",
   "execution_count": null,
   "id": "5e37dda8",
   "metadata": {},
   "outputs": [],
   "source": [
    "test11(a,b)"
   ]
  },
  {
   "cell_type": "code",
   "execution_count": null,
   "id": "bffa79df",
   "metadata": {},
   "outputs": [],
   "source": [
    "a"
   ]
  },
  {
   "cell_type": "code",
   "execution_count": null,
   "id": "63ca80d1",
   "metadata": {},
   "outputs": [],
   "source": []
  },
  {
   "cell_type": "code",
   "execution_count": null,
   "id": "74f2ab6f",
   "metadata": {},
   "outputs": [],
   "source": [
    "a = [11,12,13]\n",
    "b = [11,22,33]"
   ]
  },
  {
   "cell_type": "code",
   "execution_count": null,
   "id": "9bd77a95",
   "metadata": {},
   "outputs": [],
   "source": [
    "a.append(b)"
   ]
  },
  {
   "cell_type": "code",
   "execution_count": null,
   "id": "bca5459d",
   "metadata": {},
   "outputs": [],
   "source": [
    "a"
   ]
  },
  {
   "cell_type": "code",
   "execution_count": null,
   "id": "607db3f1",
   "metadata": {},
   "outputs": [],
   "source": [
    "def test12(n):\n",
    "    for i in range(0,n):\n",
    "        for j in range(0,i+1):\n",
    "            print(\"*\", end = \" \")\n",
    "        print(\"\\r\")"
   ]
  },
  {
   "cell_type": "code",
   "execution_count": null,
   "id": "c4ea23b2",
   "metadata": {},
   "outputs": [],
   "source": [
    "test12(6)"
   ]
  },
  {
   "cell_type": "code",
   "execution_count": null,
   "id": "8ffad721",
   "metadata": {},
   "outputs": [],
   "source": [
    "test12(10)"
   ]
  },
  {
   "cell_type": "code",
   "execution_count": null,
   "id": "fc40a2a4",
   "metadata": {},
   "outputs": [],
   "source": [
    "def test12(Np):\n",
    "    for i in range(0,Np):\n",
    "        for j in range(0,i+1):\n",
    "            print(\"*\", end = \" \")\n",
    "        print(\"\\r\")\n",
    "        "
   ]
  },
  {
   "cell_type": "code",
   "execution_count": null,
   "id": "2eae077d",
   "metadata": {},
   "outputs": [],
   "source": [
    "test12(9)"
   ]
  },
  {
   "cell_type": "code",
   "execution_count": null,
   "id": "b20da0ff",
   "metadata": {},
   "outputs": [],
   "source": [
    "def test12(n):\n",
    "    \"\"\"this is function row it will help you to create any no of rows\"\"\"\n",
    "    for i in range(0,n):\n",
    "        for j in range(0,i+1):\n",
    "            print(\"*\", end = \" \")\n",
    "        print(\"\\n\")"
   ]
  },
  {
   "cell_type": "code",
   "execution_count": null,
   "id": "3a589c5c",
   "metadata": {},
   "outputs": [],
   "source": [
    "test12(5)"
   ]
  },
  {
   "cell_type": "code",
   "execution_count": null,
   "id": "cf41465a",
   "metadata": {},
   "outputs": [],
   "source": [
    "\"\"\" my \n",
    "name\n",
    "is \n",
    "sudh\n",
    "\"\"\""
   ]
  },
  {
   "cell_type": "code",
   "execution_count": null,
   "id": "7c25c507",
   "metadata": {},
   "outputs": [],
   "source": [
    "help(test12(5))"
   ]
  },
  {
   "cell_type": "code",
   "execution_count": null,
   "id": "c9a86277",
   "metadata": {},
   "outputs": [],
   "source": [
    "def test1(a,b,c,d,e):\n",
    "    return a,b,c,d,e\n",
    "    "
   ]
  },
  {
   "cell_type": "code",
   "execution_count": null,
   "id": "c8416927",
   "metadata": {},
   "outputs": [],
   "source": [
    "def test1(*args):     #staring is used to pass multiple one and anything\n",
    "    return args"
   ]
  },
  {
   "cell_type": "code",
   "execution_count": null,
   "id": "6c32be4e",
   "metadata": {},
   "outputs": [],
   "source": [
    "test1(45,78,65)"
   ]
  },
  {
   "cell_type": "code",
   "execution_count": null,
   "id": "a847bc22",
   "metadata": {},
   "outputs": [],
   "source": [
    "test1([1,2,3],45,\"sudh\",2.5,2+5j)"
   ]
  },
  {
   "cell_type": "code",
   "execution_count": null,
   "id": "bd1102f9",
   "metadata": {},
   "outputs": [],
   "source": [
    "def test2(*sudh):\n",
    "    return sudh"
   ]
  },
  {
   "cell_type": "code",
   "execution_count": null,
   "id": "24b3f56f",
   "metadata": {},
   "outputs": [],
   "source": [
    "test2(\"Np\")"
   ]
  },
  {
   "cell_type": "code",
   "execution_count": null,
   "id": "b2a6219a",
   "metadata": {},
   "outputs": [],
   "source": [
    "test2(*2):\n",
    "    return 2"
   ]
  },
  {
   "cell_type": "code",
   "execution_count": 3,
   "id": "808f0b95",
   "metadata": {},
   "outputs": [],
   "source": [
    "def test3(sudh , *a):\n",
    "    return sudh , a"
   ]
  },
  {
   "cell_type": "code",
   "execution_count": 4,
   "id": "65fc0a2e",
   "metadata": {},
   "outputs": [
    {
     "data": {
      "text/plain": [
       "(12, (13, 14))"
      ]
     },
     "execution_count": 4,
     "metadata": {},
     "output_type": "execute_result"
    }
   ],
   "source": [
    "test3(12,13,14)"
   ]
  },
  {
   "cell_type": "code",
   "execution_count": 8,
   "id": "579efc96",
   "metadata": {},
   "outputs": [
    {
     "ename": "SyntaxError",
     "evalue": "invalid syntax (<ipython-input-8-aa0c673fdc4a>, line 1)",
     "output_type": "error",
     "traceback": [
      "\u001b[1;36m  File \u001b[1;32m\"<ipython-input-8-aa0c673fdc4a>\"\u001b[1;36m, line \u001b[1;32m1\u001b[0m\n\u001b[1;33m    def test3(*sudh , *a):\u001b[0m\n\u001b[1;37m                      ^\u001b[0m\n\u001b[1;31mSyntaxError\u001b[0m\u001b[1;31m:\u001b[0m invalid syntax\n"
     ]
    }
   ],
   "source": [
    "def test3(*sudh , *a):\n",
    "    return sudh , a"
   ]
  },
  {
   "cell_type": "code",
   "execution_count": 14,
   "id": "e60fab97",
   "metadata": {},
   "outputs": [],
   "source": [
    "def test3(*sudh , a):\n",
    "    return sudh , a"
   ]
  },
  {
   "cell_type": "code",
   "execution_count": 15,
   "id": "19fcdada",
   "metadata": {},
   "outputs": [
    {
     "data": {
      "text/plain": [
       "((11, 22, 33), 6677)"
      ]
     },
     "execution_count": 15,
     "metadata": {},
     "output_type": "execute_result"
    }
   ],
   "source": [
    "test3(11,22,33, a = 6677)"
   ]
  },
  {
   "cell_type": "code",
   "execution_count": 16,
   "id": "4155423c",
   "metadata": {},
   "outputs": [],
   "source": [
    "def test4(*sudh, a,b,c,d):\n",
    "    return a,b,c,d\n",
    "    "
   ]
  },
  {
   "cell_type": "code",
   "execution_count": 18,
   "id": "3f6ea15f",
   "metadata": {},
   "outputs": [
    {
     "data": {
      "text/plain": [
       "([1, 2, 3], [4, 5, 6], [7, 8, 9], 99)"
      ]
     },
     "execution_count": 18,
     "metadata": {},
     "output_type": "execute_result"
    }
   ],
   "source": [
    "test4(11,22,33, a=[1,2,3],b=[4,5,6],c =[7,8,9],d =99)"
   ]
  },
  {
   "cell_type": "code",
   "execution_count": 23,
   "id": "f7096bfa",
   "metadata": {},
   "outputs": [],
   "source": [
    "def test3(a,*sudh):\n",
    "    return sudh ,a"
   ]
  },
  {
   "cell_type": "code",
   "execution_count": 24,
   "id": "cd7dc689",
   "metadata": {},
   "outputs": [
    {
     "data": {
      "text/plain": [
       "((), 'main,25,45,78,96')"
      ]
     },
     "execution_count": 24,
     "metadata": {},
     "output_type": "execute_result"
    }
   ],
   "source": [
    "test3(\"main,25,45,78,96\")"
   ]
  },
  {
   "cell_type": "code",
   "execution_count": null,
   "id": "9b236006",
   "metadata": {},
   "outputs": [],
   "source": []
  },
  {
   "cell_type": "code",
   "execution_count": null,
   "id": "d83f2f54",
   "metadata": {},
   "outputs": [],
   "source": []
  },
  {
   "cell_type": "code",
   "execution_count": 4,
   "id": "24d25d5d",
   "metadata": {},
   "outputs": [],
   "source": [
    "def test4(*args):\n",
    "    for i in args:\n",
    "        if type(i)==list:\n",
    "            return (i)\n",
    "            "
   ]
  },
  {
   "cell_type": "code",
   "execution_count": null,
   "id": "ea99c97a",
   "metadata": {},
   "outputs": [],
   "source": []
  }
 ],
 "metadata": {
  "kernelspec": {
   "display_name": "Python 3",
   "language": "python",
   "name": "python3"
  },
  "language_info": {
   "codemirror_mode": {
    "name": "ipython",
    "version": 3
   },
   "file_extension": ".py",
   "mimetype": "text/x-python",
   "name": "python",
   "nbconvert_exporter": "python",
   "pygments_lexer": "ipython3",
   "version": "3.8.8"
  }
 },
 "nbformat": 4,
 "nbformat_minor": 5
}
